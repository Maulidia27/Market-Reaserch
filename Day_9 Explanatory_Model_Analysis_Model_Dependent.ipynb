{
  "nbformat": 4,
  "nbformat_minor": 0,
  "metadata": {
    "colab": {
      "name": "Explanatory Model Analysis: Model Dependent.ipynb",
      "provenance": []
    },
    "kernelspec": {
      "name": "python3",
      "display_name": "Python 3"
    },
    "language_info": {
      "name": "python"
    }
  },
  "cells": [
    {
      "cell_type": "markdown",
      "source": [
        "# Install Package"
      ],
      "metadata": {
        "id": "Zj_oSx_O-fmA"
      }
    },
    {
      "cell_type": "code",
      "execution_count": 102,
      "metadata": {
        "colab": {
          "base_uri": "https://localhost:8080/",
          "height": 1000
        },
        "id": "6IUDy-Gr-WuE",
        "outputId": "7cf12fc6-1599-4711-a559-e0374bd96ab0"
      },
      "outputs": [
        {
          "output_type": "stream",
          "name": "stdout",
          "text": [
            "Looking in indexes: https://pypi.org/simple, https://us-python.pkg.dev/colab-wheels/public/simple/\n",
            "Requirement already satisfied: skope-rules in /usr/local/lib/python3.7/dist-packages (1.0.1)\n",
            "Requirement already satisfied: pandas>=0.18.1 in /usr/local/lib/python3.7/dist-packages (from skope-rules) (1.3.5)\n",
            "Requirement already satisfied: scipy>=0.17.0 in /usr/local/lib/python3.7/dist-packages (from skope-rules) (1.4.1)\n",
            "Requirement already satisfied: scikit-learn>=0.17.1 in /usr/local/lib/python3.7/dist-packages (from skope-rules) (1.0.2)\n",
            "Requirement already satisfied: numpy>=1.10.4 in /usr/local/lib/python3.7/dist-packages (from skope-rules) (1.21.6)\n",
            "Requirement already satisfied: pytz>=2017.3 in /usr/local/lib/python3.7/dist-packages (from pandas>=0.18.1->skope-rules) (2022.1)\n",
            "Requirement already satisfied: python-dateutil>=2.7.3 in /usr/local/lib/python3.7/dist-packages (from pandas>=0.18.1->skope-rules) (2.8.2)\n",
            "Requirement already satisfied: six>=1.5 in /usr/local/lib/python3.7/dist-packages (from python-dateutil>=2.7.3->pandas>=0.18.1->skope-rules) (1.15.0)\n",
            "Requirement already satisfied: threadpoolctl>=2.0.0 in /usr/local/lib/python3.7/dist-packages (from scikit-learn>=0.17.1->skope-rules) (3.1.0)\n",
            "Requirement already satisfied: joblib>=0.11 in /usr/local/lib/python3.7/dist-packages (from scikit-learn>=0.17.1->skope-rules) (1.1.0)\n",
            "Looking in indexes: https://pypi.org/simple, https://us-python.pkg.dev/colab-wheels/public/simple/\n",
            "Requirement already satisfied: cubist in /usr/local/lib/python3.7/dist-packages (0.0.16)\n",
            "Requirement already satisfied: scikit-learn>=0.24.2 in /usr/local/lib/python3.7/dist-packages (from cubist) (1.0.2)\n",
            "Requirement already satisfied: numpy>=1.19.2 in /usr/local/lib/python3.7/dist-packages (from cubist) (1.21.6)\n",
            "Requirement already satisfied: pandas>=1.1.3 in /usr/local/lib/python3.7/dist-packages (from cubist) (1.3.5)\n",
            "Requirement already satisfied: python-dateutil>=2.7.3 in /usr/local/lib/python3.7/dist-packages (from pandas>=1.1.3->cubist) (2.8.2)\n",
            "Requirement already satisfied: pytz>=2017.3 in /usr/local/lib/python3.7/dist-packages (from pandas>=1.1.3->cubist) (2022.1)\n",
            "Requirement already satisfied: six>=1.5 in /usr/local/lib/python3.7/dist-packages (from python-dateutil>=2.7.3->pandas>=1.1.3->cubist) (1.15.0)\n",
            "Requirement already satisfied: joblib>=0.11 in /usr/local/lib/python3.7/dist-packages (from scikit-learn>=0.24.2->cubist) (1.1.0)\n",
            "Requirement already satisfied: threadpoolctl>=2.0.0 in /usr/local/lib/python3.7/dist-packages (from scikit-learn>=0.24.2->cubist) (3.1.0)\n",
            "Requirement already satisfied: scipy>=1.1.0 in /usr/local/lib/python3.7/dist-packages (from scikit-learn>=0.24.2->cubist) (1.4.1)\n",
            "Looking in indexes: https://pypi.org/simple, https://us-python.pkg.dev/colab-wheels/public/simple/\n",
            "Requirement already satisfied: eli5 in /usr/local/lib/python3.7/dist-packages (0.13.0)\n",
            "Requirement already satisfied: scikit-learn>=0.20 in /usr/local/lib/python3.7/dist-packages (from eli5) (1.0.2)\n",
            "Requirement already satisfied: tabulate>=0.7.7 in /usr/local/lib/python3.7/dist-packages (from eli5) (0.8.9)\n",
            "Requirement already satisfied: attrs>17.1.0 in /usr/local/lib/python3.7/dist-packages (from eli5) (21.4.0)\n",
            "Requirement already satisfied: jinja2>=3.0.0 in /usr/local/lib/python3.7/dist-packages (from eli5) (3.1.2)\n",
            "Requirement already satisfied: numpy>=1.9.0 in /usr/local/lib/python3.7/dist-packages (from eli5) (1.21.6)\n",
            "Requirement already satisfied: six in /usr/local/lib/python3.7/dist-packages (from eli5) (1.15.0)\n",
            "Requirement already satisfied: scipy in /usr/local/lib/python3.7/dist-packages (from eli5) (1.4.1)\n",
            "Requirement already satisfied: graphviz in /usr/local/lib/python3.7/dist-packages (from eli5) (0.10.1)\n",
            "Requirement already satisfied: MarkupSafe>=2.0 in /usr/local/lib/python3.7/dist-packages (from jinja2>=3.0.0->eli5) (2.0.1)\n",
            "Requirement already satisfied: threadpoolctl>=2.0.0 in /usr/local/lib/python3.7/dist-packages (from scikit-learn>=0.20->eli5) (3.1.0)\n",
            "Requirement already satisfied: joblib>=0.11 in /usr/local/lib/python3.7/dist-packages (from scikit-learn>=0.20->eli5) (1.1.0)\n",
            "Looking in indexes: https://pypi.org/simple, https://us-python.pkg.dev/colab-wheels/public/simple/\n",
            "Requirement already satisfied: scikit-plot in /usr/local/lib/python3.7/dist-packages (0.3.7)\n",
            "Requirement already satisfied: scikit-learn>=0.18 in /usr/local/lib/python3.7/dist-packages (from scikit-plot) (1.0.2)\n",
            "Requirement already satisfied: scipy>=0.9 in /usr/local/lib/python3.7/dist-packages (from scikit-plot) (1.4.1)\n",
            "Requirement already satisfied: joblib>=0.10 in /usr/local/lib/python3.7/dist-packages (from scikit-plot) (1.1.0)\n",
            "Requirement already satisfied: matplotlib>=1.4.0 in /usr/local/lib/python3.7/dist-packages (from scikit-plot) (3.2.2)\n",
            "Requirement already satisfied: python-dateutil>=2.1 in /usr/local/lib/python3.7/dist-packages (from matplotlib>=1.4.0->scikit-plot) (2.8.2)\n",
            "Requirement already satisfied: numpy>=1.11 in /usr/local/lib/python3.7/dist-packages (from matplotlib>=1.4.0->scikit-plot) (1.21.6)\n",
            "Requirement already satisfied: cycler>=0.10 in /usr/local/lib/python3.7/dist-packages (from matplotlib>=1.4.0->scikit-plot) (0.11.0)\n",
            "Requirement already satisfied: kiwisolver>=1.0.1 in /usr/local/lib/python3.7/dist-packages (from matplotlib>=1.4.0->scikit-plot) (1.4.3)\n",
            "Requirement already satisfied: pyparsing!=2.0.4,!=2.1.2,!=2.1.6,>=2.0.1 in /usr/local/lib/python3.7/dist-packages (from matplotlib>=1.4.0->scikit-plot) (3.0.9)\n",
            "Requirement already satisfied: typing-extensions in /usr/local/lib/python3.7/dist-packages (from kiwisolver>=1.0.1->matplotlib>=1.4.0->scikit-plot) (4.1.1)\n",
            "Requirement already satisfied: six>=1.5 in /usr/local/lib/python3.7/dist-packages (from python-dateutil>=2.1->matplotlib>=1.4.0->scikit-plot) (1.15.0)\n",
            "Requirement already satisfied: threadpoolctl>=2.0.0 in /usr/local/lib/python3.7/dist-packages (from scikit-learn>=0.18->scikit-plot) (3.1.0)\n",
            "Looking in indexes: https://pypi.org/simple, https://us-python.pkg.dev/colab-wheels/public/simple/\n",
            "Collecting shap\n",
            "  Downloading shap-0.41.0-cp37-cp37m-manylinux_2_12_x86_64.manylinux2010_x86_64.whl (569 kB)\n",
            "\u001b[K     |████████████████████████████████| 569 kB 23.4 MB/s \n",
            "\u001b[?25hRequirement already satisfied: tqdm>4.25.0 in /usr/local/lib/python3.7/dist-packages (from shap) (4.64.0)\n",
            "Requirement already satisfied: packaging>20.9 in /usr/local/lib/python3.7/dist-packages (from shap) (21.3)\n",
            "Requirement already satisfied: numpy in /usr/local/lib/python3.7/dist-packages (from shap) (1.21.6)\n",
            "Collecting slicer==0.0.7\n",
            "  Downloading slicer-0.0.7-py3-none-any.whl (14 kB)\n",
            "Requirement already satisfied: numba in /usr/local/lib/python3.7/dist-packages (from shap) (0.51.2)\n",
            "Requirement already satisfied: scikit-learn in /usr/local/lib/python3.7/dist-packages (from shap) (1.0.2)\n",
            "Requirement already satisfied: pandas in /usr/local/lib/python3.7/dist-packages (from shap) (1.3.5)\n",
            "Requirement already satisfied: cloudpickle in /usr/local/lib/python3.7/dist-packages (from shap) (1.3.0)\n",
            "Requirement already satisfied: scipy in /usr/local/lib/python3.7/dist-packages (from shap) (1.4.1)\n",
            "Requirement already satisfied: pyparsing!=3.0.5,>=2.0.2 in /usr/local/lib/python3.7/dist-packages (from packaging>20.9->shap) (3.0.9)\n",
            "Requirement already satisfied: llvmlite<0.35,>=0.34.0.dev0 in /usr/local/lib/python3.7/dist-packages (from numba->shap) (0.34.0)\n",
            "Requirement already satisfied: setuptools in /usr/local/lib/python3.7/dist-packages (from numba->shap) (57.4.0)\n",
            "Requirement already satisfied: pytz>=2017.3 in /usr/local/lib/python3.7/dist-packages (from pandas->shap) (2022.1)\n",
            "Requirement already satisfied: python-dateutil>=2.7.3 in /usr/local/lib/python3.7/dist-packages (from pandas->shap) (2.8.2)\n",
            "Requirement already satisfied: six>=1.5 in /usr/local/lib/python3.7/dist-packages (from python-dateutil>=2.7.3->pandas->shap) (1.15.0)\n",
            "Requirement already satisfied: threadpoolctl>=2.0.0 in /usr/local/lib/python3.7/dist-packages (from scikit-learn->shap) (3.1.0)\n",
            "Requirement already satisfied: joblib>=0.11 in /usr/local/lib/python3.7/dist-packages (from scikit-learn->shap) (1.1.0)\n",
            "Installing collected packages: slicer, shap\n",
            "Successfully installed shap-0.41.0 slicer-0.0.7\n",
            "Looking in indexes: https://pypi.org/simple, https://us-python.pkg.dev/colab-wheels/public/simple/\n",
            "Collecting lime\n",
            "  Downloading lime-0.2.0.1.tar.gz (275 kB)\n",
            "\u001b[K     |████████████████████████████████| 275 kB 34.1 MB/s \n",
            "\u001b[?25hRequirement already satisfied: matplotlib in /usr/local/lib/python3.7/dist-packages (from lime) (3.2.2)\n",
            "Requirement already satisfied: numpy in /usr/local/lib/python3.7/dist-packages (from lime) (1.21.6)\n",
            "Requirement already satisfied: scipy in /usr/local/lib/python3.7/dist-packages (from lime) (1.4.1)\n",
            "Requirement already satisfied: tqdm in /usr/local/lib/python3.7/dist-packages (from lime) (4.64.0)\n",
            "Requirement already satisfied: scikit-learn>=0.18 in /usr/local/lib/python3.7/dist-packages (from lime) (1.0.2)\n",
            "Requirement already satisfied: scikit-image>=0.12 in /usr/local/lib/python3.7/dist-packages (from lime) (0.18.3)\n",
            "Requirement already satisfied: networkx>=2.0 in /usr/local/lib/python3.7/dist-packages (from scikit-image>=0.12->lime) (2.6.3)\n",
            "Requirement already satisfied: imageio>=2.3.0 in /usr/local/lib/python3.7/dist-packages (from scikit-image>=0.12->lime) (2.4.1)\n",
            "Requirement already satisfied: PyWavelets>=1.1.1 in /usr/local/lib/python3.7/dist-packages (from scikit-image>=0.12->lime) (1.3.0)\n",
            "Requirement already satisfied: tifffile>=2019.7.26 in /usr/local/lib/python3.7/dist-packages (from scikit-image>=0.12->lime) (2021.11.2)\n",
            "Requirement already satisfied: pillow!=7.1.0,!=7.1.1,>=4.3.0 in /usr/local/lib/python3.7/dist-packages (from scikit-image>=0.12->lime) (7.1.2)\n",
            "Requirement already satisfied: pyparsing!=2.0.4,!=2.1.2,!=2.1.6,>=2.0.1 in /usr/local/lib/python3.7/dist-packages (from matplotlib->lime) (3.0.9)\n",
            "Requirement already satisfied: python-dateutil>=2.1 in /usr/local/lib/python3.7/dist-packages (from matplotlib->lime) (2.8.2)\n",
            "Requirement already satisfied: kiwisolver>=1.0.1 in /usr/local/lib/python3.7/dist-packages (from matplotlib->lime) (1.4.3)\n",
            "Requirement already satisfied: cycler>=0.10 in /usr/local/lib/python3.7/dist-packages (from matplotlib->lime) (0.11.0)\n",
            "Requirement already satisfied: typing-extensions in /usr/local/lib/python3.7/dist-packages (from kiwisolver>=1.0.1->matplotlib->lime) (4.1.1)\n",
            "Requirement already satisfied: six>=1.5 in /usr/local/lib/python3.7/dist-packages (from python-dateutil>=2.1->matplotlib->lime) (1.15.0)\n",
            "Requirement already satisfied: threadpoolctl>=2.0.0 in /usr/local/lib/python3.7/dist-packages (from scikit-learn>=0.18->lime) (3.1.0)\n",
            "Requirement already satisfied: joblib>=0.11 in /usr/local/lib/python3.7/dist-packages (from scikit-learn>=0.18->lime) (1.1.0)\n",
            "Building wheels for collected packages: lime\n",
            "  Building wheel for lime (setup.py) ... \u001b[?25l\u001b[?25hdone\n",
            "  Created wheel for lime: filename=lime-0.2.0.1-py3-none-any.whl size=283857 sha256=eef7e3ce97e6e2c84a6f338325b903a94a414328aa76c2c4986afd47bea2edad\n",
            "  Stored in directory: /root/.cache/pip/wheels/ca/cb/e5/ac701e12d365a08917bf4c6171c0961bc880a8181359c66aa7\n",
            "Successfully built lime\n",
            "Installing collected packages: lime\n",
            "Successfully installed lime-0.2.0.1\n",
            "Looking in indexes: https://pypi.org/simple, https://us-python.pkg.dev/colab-wheels/public/simple/\n",
            "Collecting dalex\n",
            "  Downloading dalex-1.4.1.tar.gz (1.0 MB)\n",
            "\u001b[K     |████████████████████████████████| 1.0 MB 27.6 MB/s \n",
            "\u001b[?25hRequirement already satisfied: setuptools in /usr/local/lib/python3.7/dist-packages (from dalex) (57.4.0)\n",
            "Requirement already satisfied: pandas>=1.1.2 in /usr/local/lib/python3.7/dist-packages (from dalex) (1.3.5)\n",
            "Requirement already satisfied: numpy>=1.18.4 in /usr/local/lib/python3.7/dist-packages (from dalex) (1.21.6)\n",
            "Requirement already satisfied: plotly>=4.12.0 in /usr/local/lib/python3.7/dist-packages (from dalex) (5.5.0)\n",
            "Requirement already satisfied: tqdm>=4.48.2 in /usr/local/lib/python3.7/dist-packages (from dalex) (4.64.0)\n",
            "Collecting scipy>=1.5.4\n",
            "  Downloading scipy-1.7.3-cp37-cp37m-manylinux_2_12_x86_64.manylinux2010_x86_64.whl (38.1 MB)\n",
            "\u001b[K     |████████████████████████████████| 38.1 MB 1.1 MB/s \n",
            "\u001b[?25hRequirement already satisfied: python-dateutil>=2.7.3 in /usr/local/lib/python3.7/dist-packages (from pandas>=1.1.2->dalex) (2.8.2)\n",
            "Requirement already satisfied: pytz>=2017.3 in /usr/local/lib/python3.7/dist-packages (from pandas>=1.1.2->dalex) (2022.1)\n",
            "Requirement already satisfied: six in /usr/local/lib/python3.7/dist-packages (from plotly>=4.12.0->dalex) (1.15.0)\n",
            "Requirement already satisfied: tenacity>=6.2.0 in /usr/local/lib/python3.7/dist-packages (from plotly>=4.12.0->dalex) (8.0.1)\n",
            "Building wheels for collected packages: dalex\n",
            "  Building wheel for dalex (setup.py) ... \u001b[?25l\u001b[?25hdone\n",
            "  Created wheel for dalex: filename=dalex-1.4.1-py3-none-any.whl size=1042860 sha256=afc6ab8290c4842e6eb1c98eafa0b1327edff95d3500946b44bd67efcd479bb0\n",
            "  Stored in directory: /root/.cache/pip/wheels/8c/8e/1b/95d59374d386e8e495aed6cbab4c4b6d72be73993a424c5e12\n",
            "Successfully built dalex\n",
            "Installing collected packages: scipy, dalex\n",
            "  Attempting uninstall: scipy\n",
            "    Found existing installation: scipy 1.4.1\n",
            "    Uninstalling scipy-1.4.1:\n",
            "      Successfully uninstalled scipy-1.4.1\n",
            "\u001b[31mERROR: pip's dependency resolver does not currently take into account all the packages that are installed. This behaviour is the source of the following dependency conflicts.\n",
            "albumentations 0.1.12 requires imgaug<0.2.7,>=0.2.5, but you have imgaug 0.2.9 which is incompatible.\u001b[0m\n",
            "Successfully installed dalex-1.4.1 scipy-1.7.3\n"
          ]
        },
        {
          "output_type": "display_data",
          "data": {
            "application/vnd.colab-display-data+json": {
              "pip_warning": {
                "packages": [
                  "scipy"
                ]
              }
            }
          },
          "metadata": {}
        }
      ],
      "source": [
        "!pip install skope-rules\n",
        "!pip install cubist\n",
        "!pip install eli5\n",
        "!pip install scikit-plot\n",
        "!pip install shap\n",
        "!pip install lime\n",
        "!pip install dalex"
      ]
    },
    {
      "cell_type": "code",
      "source": [
        "#Import Library\n",
        "import pandas as pd\n",
        "\n",
        "import six\n",
        "import sys\n",
        "sys.modules['sklearn.externals.six'] = six\n",
        "\n",
        "import warnings\n",
        "warnings.filterwarnings('ignore')\n",
        "\n",
        "# Import matplotlib.pyplot with alias plt\n",
        "import matplotlib.pyplot as plt\n",
        "import pandas as pd\n",
        "import numpy as np\n",
        "\n",
        "# import pandas for data wrangling\n",
        "import pandas as pd\n",
        "# import numpy for vectorize data manipulation\n",
        "import numpy as np\n",
        "# import matplotlib.pyplot module for data visualization\n",
        "import matplotlib.pyplot as plt\n",
        "palette = {0: 'tab:blue',1: 'tab:orange'}\n",
        "import seaborn as sns\n",
        "import plotly.express as px\n",
        "\n",
        "# import train and test split method from scikit-learn\n",
        "from sklearn.model_selection import train_test_split\n",
        "# import metrics method for model evaluation\n",
        "import sklearn.metrics as metrics\n",
        "# Lload k-nearest neighbors model\n",
        "from sklearn.neighbors import KNeighborsClassifier\n",
        "# import random forest classifier\n",
        "from sklearn.ensemble import RandomForestClassifier\n",
        "#load logistic regression model\n",
        "from sklearn.linear_model import LogisticRegression\n",
        "#load decision tree model\n",
        "from sklearn.tree import DecisionTreeClassifier\n",
        "# import multi-layer perceptron\n",
        "from sklearn.neural_network import MLPClassifier\n",
        "# import xgboost classifier\n",
        "from xgboost import XGBClassifier\n",
        "# Load matrics\n",
        "from sklearn.metrics import *\n",
        "\n",
        "#load preprocessing module\n",
        "from sklearn.preprocessing import *\n",
        "\n",
        "#load rulefit model\n",
        "from skrules import SkopeRules\n",
        "\n",
        "#Load scikit-plot modules\n",
        "import scikitplot as skplt\n",
        "\n",
        "\n",
        "# load navie bayes\n",
        "from sklearn.naive_bayes import GaussianNB\n",
        "from sklearn.metrics import accuracy_score\n",
        "from sklearn.metrics import confusion_matrix\n",
        "from sklearn.metrics import f1_score\n",
        "\n",
        "# load statsmodel module \n",
        "import statsmodels.api as sm\n",
        "import statsmodels.formula.api as smf\n",
        "\n",
        "# import dalex to explain complex model\n",
        "import dalex as dx\n",
        "# load shap package for shap explanation\n",
        "import shap\n",
        "\n",
        "# load eli5\n",
        "import eli5\n",
        "\n",
        "# load LimeTabularExplainer for LIME method\n",
        "from lime.lime_tabular import LimeTabularExplainer \n",
        "\n",
        "# load scikit-plot modules\n",
        "import scikitplot as skplt\n",
        "\n",
        "# load eli5\n",
        "import eli5\n",
        "#Load data link csv dari github\n",
        "url = 'https://raw.githubusercontent.com/hadimaster65555/dataset_for_teaching/main/dataset/marketing_campaign_response_model/marketing_campaign.csv'\n",
        "df = pd.read_csv(url, index_col=0)\n",
        "df = pd.read_csv(url, sep=\";\")\n",
        "\n",
        "#Check data\n",
        "df.head(5)"
      ],
      "metadata": {
        "colab": {
          "base_uri": "https://localhost:8080/",
          "height": 300
        },
        "id": "CILbTWuR-q_v",
        "outputId": "f699d2ae-a59d-4590-8eeb-3af295e92fac"
      },
      "execution_count": 104,
      "outputs": [
        {
          "output_type": "execute_result",
          "data": {
            "text/plain": [
              "     ID  Year_Birth   Education Marital_Status   Income  Kidhome  Teenhome  \\\n",
              "0  5524        1957  Graduation         Single  58138.0        0         0   \n",
              "1  2174        1954  Graduation         Single  46344.0        1         1   \n",
              "2  4141        1965  Graduation       Together  71613.0        0         0   \n",
              "3  6182        1984  Graduation       Together  26646.0        1         0   \n",
              "4  5324        1981         PhD        Married  58293.0        1         0   \n",
              "\n",
              "  Dt_Customer  Recency  MntWines  ...  NumWebVisitsMonth  AcceptedCmp3  \\\n",
              "0  2012-09-04       58       635  ...                  7             0   \n",
              "1  2014-03-08       38        11  ...                  5             0   \n",
              "2  2013-08-21       26       426  ...                  4             0   \n",
              "3  2014-02-10       26        11  ...                  6             0   \n",
              "4  2014-01-19       94       173  ...                  5             0   \n",
              "\n",
              "   AcceptedCmp4  AcceptedCmp5  AcceptedCmp1  AcceptedCmp2  Complain  \\\n",
              "0             0             0             0             0         0   \n",
              "1             0             0             0             0         0   \n",
              "2             0             0             0             0         0   \n",
              "3             0             0             0             0         0   \n",
              "4             0             0             0             0         0   \n",
              "\n",
              "   Z_CostContact  Z_Revenue  Response  \n",
              "0              3         11         1  \n",
              "1              3         11         0  \n",
              "2              3         11         0  \n",
              "3              3         11         0  \n",
              "4              3         11         0  \n",
              "\n",
              "[5 rows x 29 columns]"
            ],
            "text/html": [
              "\n",
              "  <div id=\"df-47a59c04-594a-4b4c-9851-8e1140d9c001\">\n",
              "    <div class=\"colab-df-container\">\n",
              "      <div>\n",
              "<style scoped>\n",
              "    .dataframe tbody tr th:only-of-type {\n",
              "        vertical-align: middle;\n",
              "    }\n",
              "\n",
              "    .dataframe tbody tr th {\n",
              "        vertical-align: top;\n",
              "    }\n",
              "\n",
              "    .dataframe thead th {\n",
              "        text-align: right;\n",
              "    }\n",
              "</style>\n",
              "<table border=\"1\" class=\"dataframe\">\n",
              "  <thead>\n",
              "    <tr style=\"text-align: right;\">\n",
              "      <th></th>\n",
              "      <th>ID</th>\n",
              "      <th>Year_Birth</th>\n",
              "      <th>Education</th>\n",
              "      <th>Marital_Status</th>\n",
              "      <th>Income</th>\n",
              "      <th>Kidhome</th>\n",
              "      <th>Teenhome</th>\n",
              "      <th>Dt_Customer</th>\n",
              "      <th>Recency</th>\n",
              "      <th>MntWines</th>\n",
              "      <th>...</th>\n",
              "      <th>NumWebVisitsMonth</th>\n",
              "      <th>AcceptedCmp3</th>\n",
              "      <th>AcceptedCmp4</th>\n",
              "      <th>AcceptedCmp5</th>\n",
              "      <th>AcceptedCmp1</th>\n",
              "      <th>AcceptedCmp2</th>\n",
              "      <th>Complain</th>\n",
              "      <th>Z_CostContact</th>\n",
              "      <th>Z_Revenue</th>\n",
              "      <th>Response</th>\n",
              "    </tr>\n",
              "  </thead>\n",
              "  <tbody>\n",
              "    <tr>\n",
              "      <th>0</th>\n",
              "      <td>5524</td>\n",
              "      <td>1957</td>\n",
              "      <td>Graduation</td>\n",
              "      <td>Single</td>\n",
              "      <td>58138.0</td>\n",
              "      <td>0</td>\n",
              "      <td>0</td>\n",
              "      <td>2012-09-04</td>\n",
              "      <td>58</td>\n",
              "      <td>635</td>\n",
              "      <td>...</td>\n",
              "      <td>7</td>\n",
              "      <td>0</td>\n",
              "      <td>0</td>\n",
              "      <td>0</td>\n",
              "      <td>0</td>\n",
              "      <td>0</td>\n",
              "      <td>0</td>\n",
              "      <td>3</td>\n",
              "      <td>11</td>\n",
              "      <td>1</td>\n",
              "    </tr>\n",
              "    <tr>\n",
              "      <th>1</th>\n",
              "      <td>2174</td>\n",
              "      <td>1954</td>\n",
              "      <td>Graduation</td>\n",
              "      <td>Single</td>\n",
              "      <td>46344.0</td>\n",
              "      <td>1</td>\n",
              "      <td>1</td>\n",
              "      <td>2014-03-08</td>\n",
              "      <td>38</td>\n",
              "      <td>11</td>\n",
              "      <td>...</td>\n",
              "      <td>5</td>\n",
              "      <td>0</td>\n",
              "      <td>0</td>\n",
              "      <td>0</td>\n",
              "      <td>0</td>\n",
              "      <td>0</td>\n",
              "      <td>0</td>\n",
              "      <td>3</td>\n",
              "      <td>11</td>\n",
              "      <td>0</td>\n",
              "    </tr>\n",
              "    <tr>\n",
              "      <th>2</th>\n",
              "      <td>4141</td>\n",
              "      <td>1965</td>\n",
              "      <td>Graduation</td>\n",
              "      <td>Together</td>\n",
              "      <td>71613.0</td>\n",
              "      <td>0</td>\n",
              "      <td>0</td>\n",
              "      <td>2013-08-21</td>\n",
              "      <td>26</td>\n",
              "      <td>426</td>\n",
              "      <td>...</td>\n",
              "      <td>4</td>\n",
              "      <td>0</td>\n",
              "      <td>0</td>\n",
              "      <td>0</td>\n",
              "      <td>0</td>\n",
              "      <td>0</td>\n",
              "      <td>0</td>\n",
              "      <td>3</td>\n",
              "      <td>11</td>\n",
              "      <td>0</td>\n",
              "    </tr>\n",
              "    <tr>\n",
              "      <th>3</th>\n",
              "      <td>6182</td>\n",
              "      <td>1984</td>\n",
              "      <td>Graduation</td>\n",
              "      <td>Together</td>\n",
              "      <td>26646.0</td>\n",
              "      <td>1</td>\n",
              "      <td>0</td>\n",
              "      <td>2014-02-10</td>\n",
              "      <td>26</td>\n",
              "      <td>11</td>\n",
              "      <td>...</td>\n",
              "      <td>6</td>\n",
              "      <td>0</td>\n",
              "      <td>0</td>\n",
              "      <td>0</td>\n",
              "      <td>0</td>\n",
              "      <td>0</td>\n",
              "      <td>0</td>\n",
              "      <td>3</td>\n",
              "      <td>11</td>\n",
              "      <td>0</td>\n",
              "    </tr>\n",
              "    <tr>\n",
              "      <th>4</th>\n",
              "      <td>5324</td>\n",
              "      <td>1981</td>\n",
              "      <td>PhD</td>\n",
              "      <td>Married</td>\n",
              "      <td>58293.0</td>\n",
              "      <td>1</td>\n",
              "      <td>0</td>\n",
              "      <td>2014-01-19</td>\n",
              "      <td>94</td>\n",
              "      <td>173</td>\n",
              "      <td>...</td>\n",
              "      <td>5</td>\n",
              "      <td>0</td>\n",
              "      <td>0</td>\n",
              "      <td>0</td>\n",
              "      <td>0</td>\n",
              "      <td>0</td>\n",
              "      <td>0</td>\n",
              "      <td>3</td>\n",
              "      <td>11</td>\n",
              "      <td>0</td>\n",
              "    </tr>\n",
              "  </tbody>\n",
              "</table>\n",
              "<p>5 rows × 29 columns</p>\n",
              "</div>\n",
              "      <button class=\"colab-df-convert\" onclick=\"convertToInteractive('df-47a59c04-594a-4b4c-9851-8e1140d9c001')\"\n",
              "              title=\"Convert this dataframe to an interactive table.\"\n",
              "              style=\"display:none;\">\n",
              "        \n",
              "  <svg xmlns=\"http://www.w3.org/2000/svg\" height=\"24px\"viewBox=\"0 0 24 24\"\n",
              "       width=\"24px\">\n",
              "    <path d=\"M0 0h24v24H0V0z\" fill=\"none\"/>\n",
              "    <path d=\"M18.56 5.44l.94 2.06.94-2.06 2.06-.94-2.06-.94-.94-2.06-.94 2.06-2.06.94zm-11 1L8.5 8.5l.94-2.06 2.06-.94-2.06-.94L8.5 2.5l-.94 2.06-2.06.94zm10 10l.94 2.06.94-2.06 2.06-.94-2.06-.94-.94-2.06-.94 2.06-2.06.94z\"/><path d=\"M17.41 7.96l-1.37-1.37c-.4-.4-.92-.59-1.43-.59-.52 0-1.04.2-1.43.59L10.3 9.45l-7.72 7.72c-.78.78-.78 2.05 0 2.83L4 21.41c.39.39.9.59 1.41.59.51 0 1.02-.2 1.41-.59l7.78-7.78 2.81-2.81c.8-.78.8-2.07 0-2.86zM5.41 20L4 18.59l7.72-7.72 1.47 1.35L5.41 20z\"/>\n",
              "  </svg>\n",
              "      </button>\n",
              "      \n",
              "  <style>\n",
              "    .colab-df-container {\n",
              "      display:flex;\n",
              "      flex-wrap:wrap;\n",
              "      gap: 12px;\n",
              "    }\n",
              "\n",
              "    .colab-df-convert {\n",
              "      background-color: #E8F0FE;\n",
              "      border: none;\n",
              "      border-radius: 50%;\n",
              "      cursor: pointer;\n",
              "      display: none;\n",
              "      fill: #1967D2;\n",
              "      height: 32px;\n",
              "      padding: 0 0 0 0;\n",
              "      width: 32px;\n",
              "    }\n",
              "\n",
              "    .colab-df-convert:hover {\n",
              "      background-color: #E2EBFA;\n",
              "      box-shadow: 0px 1px 2px rgba(60, 64, 67, 0.3), 0px 1px 3px 1px rgba(60, 64, 67, 0.15);\n",
              "      fill: #174EA6;\n",
              "    }\n",
              "\n",
              "    [theme=dark] .colab-df-convert {\n",
              "      background-color: #3B4455;\n",
              "      fill: #D2E3FC;\n",
              "    }\n",
              "\n",
              "    [theme=dark] .colab-df-convert:hover {\n",
              "      background-color: #434B5C;\n",
              "      box-shadow: 0px 1px 3px 1px rgba(0, 0, 0, 0.15);\n",
              "      filter: drop-shadow(0px 1px 2px rgba(0, 0, 0, 0.3));\n",
              "      fill: #FFFFFF;\n",
              "    }\n",
              "  </style>\n",
              "\n",
              "      <script>\n",
              "        const buttonEl =\n",
              "          document.querySelector('#df-47a59c04-594a-4b4c-9851-8e1140d9c001 button.colab-df-convert');\n",
              "        buttonEl.style.display =\n",
              "          google.colab.kernel.accessAllowed ? 'block' : 'none';\n",
              "\n",
              "        async function convertToInteractive(key) {\n",
              "          const element = document.querySelector('#df-47a59c04-594a-4b4c-9851-8e1140d9c001');\n",
              "          const dataTable =\n",
              "            await google.colab.kernel.invokeFunction('convertToInteractive',\n",
              "                                                     [key], {});\n",
              "          if (!dataTable) return;\n",
              "\n",
              "          const docLinkHtml = 'Like what you see? Visit the ' +\n",
              "            '<a target=\"_blank\" href=https://colab.research.google.com/notebooks/data_table.ipynb>data table notebook</a>'\n",
              "            + ' to learn more about interactive tables.';\n",
              "          element.innerHTML = '';\n",
              "          dataTable['output_type'] = 'display_data';\n",
              "          await google.colab.output.renderOutput(dataTable, element);\n",
              "          const docLink = document.createElement('div');\n",
              "          docLink.innerHTML = docLinkHtml;\n",
              "          element.appendChild(docLink);\n",
              "        }\n",
              "      </script>\n",
              "    </div>\n",
              "  </div>\n",
              "  "
            ]
          },
          "metadata": {},
          "execution_count": 104
        }
      ]
    },
    {
      "cell_type": "code",
      "source": [
        "# Data Profilling\n",
        "print(\"=\"*10,\"Data Profilling\",\"=\"*10)\n",
        "\n",
        "# Data Shape\n",
        "print(\"Data shape :\", df.shape)\n",
        "print(\"\")\n",
        "\n",
        "# Data Info\n",
        "print(\"Data info :\")\n",
        "print(df.info())\n",
        "print(\"\")\n",
        "\n",
        "# Data duplication\n",
        "print(\"Data duplication :\")\n",
        "print(df.duplicated().sum())\n",
        "print(\"\")"
      ],
      "metadata": {
        "colab": {
          "base_uri": "https://localhost:8080/"
        },
        "id": "k8mUBIBLB3Ry",
        "outputId": "139d50fa-0969-40e5-cbe1-56a12bad0592"
      },
      "execution_count": 9,
      "outputs": [
        {
          "output_type": "stream",
          "name": "stdout",
          "text": [
            "========== Data Profilling ==========\n",
            "Data shape : (2240, 29)\n",
            "\n",
            "Data info :\n",
            "<class 'pandas.core.frame.DataFrame'>\n",
            "RangeIndex: 2240 entries, 0 to 2239\n",
            "Data columns (total 29 columns):\n",
            " #   Column               Non-Null Count  Dtype  \n",
            "---  ------               --------------  -----  \n",
            " 0   ID                   2240 non-null   int64  \n",
            " 1   Year_Birth           2240 non-null   int64  \n",
            " 2   Education            2240 non-null   object \n",
            " 3   Marital_Status       2240 non-null   object \n",
            " 4   Income               2216 non-null   float64\n",
            " 5   Kidhome              2240 non-null   int64  \n",
            " 6   Teenhome             2240 non-null   int64  \n",
            " 7   Dt_Customer          2240 non-null   object \n",
            " 8   Recency              2240 non-null   int64  \n",
            " 9   MntWines             2240 non-null   int64  \n",
            " 10  MntFruits            2240 non-null   int64  \n",
            " 11  MntMeatProducts      2240 non-null   int64  \n",
            " 12  MntFishProducts      2240 non-null   int64  \n",
            " 13  MntSweetProducts     2240 non-null   int64  \n",
            " 14  MntGoldProds         2240 non-null   int64  \n",
            " 15  NumDealsPurchases    2240 non-null   int64  \n",
            " 16  NumWebPurchases      2240 non-null   int64  \n",
            " 17  NumCatalogPurchases  2240 non-null   int64  \n",
            " 18  NumStorePurchases    2240 non-null   int64  \n",
            " 19  NumWebVisitsMonth    2240 non-null   int64  \n",
            " 20  AcceptedCmp3         2240 non-null   int64  \n",
            " 21  AcceptedCmp4         2240 non-null   int64  \n",
            " 22  AcceptedCmp5         2240 non-null   int64  \n",
            " 23  AcceptedCmp1         2240 non-null   int64  \n",
            " 24  AcceptedCmp2         2240 non-null   int64  \n",
            " 25  Complain             2240 non-null   int64  \n",
            " 26  Z_CostContact        2240 non-null   int64  \n",
            " 27  Z_Revenue            2240 non-null   int64  \n",
            " 28  Response             2240 non-null   int64  \n",
            "dtypes: float64(1), int64(25), object(3)\n",
            "memory usage: 507.6+ KB\n",
            "None\n",
            "\n",
            "Data duplication :\n",
            "0\n",
            "\n"
          ]
        }
      ]
    },
    {
      "cell_type": "code",
      "source": [
        "# Unique value for object column\n",
        "obj_col = ['Education', 'Marital_Status']\n",
        "for col in obj_col:\n",
        "    print(\"=\"*10)\n",
        "    print(f\"Column: {col}\")\n",
        "    print(df[col].unique())"
      ],
      "metadata": {
        "colab": {
          "base_uri": "https://localhost:8080/"
        },
        "id": "TqM2JbT5B8PW",
        "outputId": "0d42ba57-6e31-4434-c21b-8795db78f0ae"
      },
      "execution_count": 10,
      "outputs": [
        {
          "output_type": "stream",
          "name": "stdout",
          "text": [
            "==========\n",
            "Column: Education\n",
            "['Graduation' 'PhD' 'Master' 'Basic' '2n Cycle']\n",
            "==========\n",
            "Column: Marital_Status\n",
            "['Single' 'Together' 'Married' 'Divorced' 'Widow' 'Alone' 'Absurd' 'YOLO']\n"
          ]
        }
      ]
    },
    {
      "cell_type": "markdown",
      "source": [
        "\n",
        "\n",
        "*   There are only two object columns which is Education and Marital_Status\n",
        "*   Dt_Customer column need transformed to datetime\n",
        "*   There are 24 rows of null values on Income colum\n",
        "*   There are no duplicated values on this data\n",
        "\n"
      ],
      "metadata": {
        "id": "5avNIehTCDsL"
      }
    },
    {
      "cell_type": "markdown",
      "source": [
        "# **Feature Engineering & Selection**"
      ],
      "metadata": {
        "id": "3rcFtn0yCd7a"
      }
    },
    {
      "cell_type": "markdown",
      "source": [
        "# Missing Value handling"
      ],
      "metadata": {
        "id": "iPXkHCiZCg8c"
      }
    },
    {
      "cell_type": "code",
      "source": [
        "# Missing values handling\n",
        "# Because of slight percent of missing values (24 rows / 1.07%), we could drop the missing values\n",
        "df = df.dropna(axis=0)\n",
        "df.isnull().sum()"
      ],
      "metadata": {
        "colab": {
          "base_uri": "https://localhost:8080/"
        },
        "id": "fXdWVsT_CkUy",
        "outputId": "26e14eb9-7a5b-4543-83db-68a0b824f14c"
      },
      "execution_count": 11,
      "outputs": [
        {
          "output_type": "execute_result",
          "data": {
            "text/plain": [
              "ID                     0\n",
              "Year_Birth             0\n",
              "Education              0\n",
              "Marital_Status         0\n",
              "Income                 0\n",
              "Kidhome                0\n",
              "Teenhome               0\n",
              "Dt_Customer            0\n",
              "Recency                0\n",
              "MntWines               0\n",
              "MntFruits              0\n",
              "MntMeatProducts        0\n",
              "MntFishProducts        0\n",
              "MntSweetProducts       0\n",
              "MntGoldProds           0\n",
              "NumDealsPurchases      0\n",
              "NumWebPurchases        0\n",
              "NumCatalogPurchases    0\n",
              "NumStorePurchases      0\n",
              "NumWebVisitsMonth      0\n",
              "AcceptedCmp3           0\n",
              "AcceptedCmp4           0\n",
              "AcceptedCmp5           0\n",
              "AcceptedCmp1           0\n",
              "AcceptedCmp2           0\n",
              "Complain               0\n",
              "Z_CostContact          0\n",
              "Z_Revenue              0\n",
              "Response               0\n",
              "dtype: int64"
            ]
          },
          "metadata": {},
          "execution_count": 11
        }
      ]
    },
    {
      "cell_type": "markdown",
      "source": [
        "# Dt_Customer related transformation"
      ],
      "metadata": {
        "id": "G-6D9EpjCpwS"
      }
    },
    {
      "cell_type": "code",
      "source": [
        "# Change Dt_Customer to datetime type\n",
        "df['Dt_Customer'] = pd.to_datetime(df['Dt_Customer'])\n",
        "print(df['Dt_Customer'].dtypes)"
      ],
      "metadata": {
        "colab": {
          "base_uri": "https://localhost:8080/"
        },
        "id": "-ANMpFZJCr0o",
        "outputId": "b3550025-fb03-4163-8bc9-b58d400400ff"
      },
      "execution_count": 12,
      "outputs": [
        {
          "output_type": "stream",
          "name": "stdout",
          "text": [
            "datetime64[ns]\n"
          ]
        }
      ]
    },
    {
      "cell_type": "code",
      "source": [
        "# Get Age and drop Year_Birth\n",
        "# Since the customers enrollment with the company between 2012 and 2014, so we assume that the data was collected in January 2015 for the sake of simplicity.\n",
        "# Dropping Year_Birth also for saving for normalization data.\n",
        "\n",
        "df['Age'] = 2015 - df['Year_Birth']\n",
        "df = df.drop('Year_Birth', axis=1)"
      ],
      "metadata": {
        "id": "jFrJlhKQCwEE"
      },
      "execution_count": 13,
      "outputs": []
    },
    {
      "cell_type": "code",
      "source": [
        "# Age Anomalies Handling\n",
        "df['Age'].loc[df['Age'].idxmax()]"
      ],
      "metadata": {
        "colab": {
          "base_uri": "https://localhost:8080/"
        },
        "id": "ZghRF_mnC080",
        "outputId": "1ef15879-97fc-4ff8-caac-70e22861fb7d"
      },
      "execution_count": 14,
      "outputs": [
        {
          "output_type": "execute_result",
          "data": {
            "text/plain": [
              "122"
            ]
          },
          "metadata": {},
          "execution_count": 14
        }
      ]
    },
    {
      "cell_type": "markdown",
      "source": [
        "As we can see above, there are customer with age more than 100 years. This could be because we create Age column based on birth year & data taken year. So probably, there are customer who have been passed away. As for the data, we will handle the anomalies using clipping (because the anomalies have similiar characteristic with outlier)."
      ],
      "metadata": {
        "id": "1T1byx-eC30N"
      }
    },
    {
      "cell_type": "code",
      "source": [
        "# Clipping age until < 100\n",
        "df = df[df['Age'] < 100]\n",
        "df['Age'].loc[df['Age'].idxmax()]"
      ],
      "metadata": {
        "colab": {
          "base_uri": "https://localhost:8080/"
        },
        "id": "-5Xoh9STC6O2",
        "outputId": "b7ad14bd-780b-4480-d203-b87aacae3fb4"
      },
      "execution_count": 15,
      "outputs": [
        {
          "output_type": "execute_result",
          "data": {
            "text/plain": [
              "75"
            ]
          },
          "metadata": {},
          "execution_count": 15
        }
      ]
    },
    {
      "cell_type": "markdown",
      "source": [
        "Marital Status related transformation"
      ],
      "metadata": {
        "id": "VZRv0kjMDKiM"
      }
    },
    {
      "cell_type": "code",
      "source": [
        "# Marital_Status encoding\n",
        "# Change to 1 for all value with partner (Together and Maried) and 0 for all value without partner (Single, Divorced, Widow, Alone, Absurd, YOLO)\n",
        "\n",
        "df['Marital_Status'] = df['Marital_Status'].replace({'Together': 'Partner',\n",
        "                                                           'Married': 'Partner',\n",
        "                                                           'Divorced': 'Single',\n",
        "                                                           'Widow': 'Single', \n",
        "                                                           'Alone': 'Single',\n",
        "                                                           'Absurd': 'Single',\n",
        "                                                           'YOLO': 'Single'})"
      ],
      "metadata": {
        "id": "n4MauYbbDMOw"
      },
      "execution_count": 16,
      "outputs": []
    },
    {
      "cell_type": "markdown",
      "source": [
        "Create Total Values columns"
      ],
      "metadata": {
        "id": "0_eBLVENDOkI"
      }
    },
    {
      "cell_type": "code",
      "source": [
        "# Make one column with value of total child and teen at home and drop another columns\n",
        "df['Children'] = df['Kidhome'] + df['Teenhome']"
      ],
      "metadata": {
        "id": "aqtil3O1DQ2A"
      },
      "execution_count": 17,
      "outputs": []
    },
    {
      "cell_type": "code",
      "source": [
        "# Make one column with value of all spendings and drop another columns\n",
        "df['TotalSpendings'] = df['MntWines'] + df['MntFruits'] + df['MntMeatProducts'] + df['MntFishProducts'] + df['MntSweetProducts'] + df['MntGoldProds']"
      ],
      "metadata": {
        "id": "MBf-45txDT9y"
      },
      "execution_count": 19,
      "outputs": []
    },
    {
      "cell_type": "code",
      "source": [
        "\n",
        "# Make one column with value of total purchases and drop another columns\n",
        "df['TotalPurchases'] = df['NumWebPurchases'] + df['NumCatalogPurchases'] + df['NumStorePurchases']"
      ],
      "metadata": {
        "id": "7aD1FkuiDcJf"
      },
      "execution_count": 20,
      "outputs": []
    },
    {
      "cell_type": "markdown",
      "source": [
        "# Drop columns"
      ],
      "metadata": {
        "id": "JQ9VhKKdDeeU"
      }
    },
    {
      "cell_type": "code",
      "source": [
        "# Drop unused column\n",
        "df = df.drop(['ID', 'Dt_Customer'], axis=1)"
      ],
      "metadata": {
        "id": "bb24MoX9DkgH"
      },
      "execution_count": 21,
      "outputs": []
    },
    {
      "cell_type": "code",
      "source": [
        "# Drop column with only one values\n",
        "df = df.drop(['Z_CostContact', 'Z_Revenue'], axis=1)"
      ],
      "metadata": {
        "id": "xmw-qX9tDpQ1"
      },
      "execution_count": 22,
      "outputs": []
    },
    {
      "cell_type": "code",
      "source": [
        "# Drop column with values has been sum up\n",
        "df = df.drop(['Kidhome', 'Teenhome', \n",
        "              'MntWines', 'MntFruits', 'MntMeatProducts', 'MntFishProducts', 'MntSweetProducts', 'MntGoldProds', \n",
        "              'NumDealsPurchases', 'NumWebPurchases', 'NumCatalogPurchases', 'NumStorePurchases'], axis=1)"
      ],
      "metadata": {
        "id": "zZi2UXGSDsVd"
      },
      "execution_count": 23,
      "outputs": []
    },
    {
      "cell_type": "code",
      "source": [
        "df.info()"
      ],
      "metadata": {
        "colab": {
          "base_uri": "https://localhost:8080/"
        },
        "id": "AxY0JlgcDvKA",
        "outputId": "4728718d-e7d1-4f5d-beb3-90dfedecca49"
      },
      "execution_count": 24,
      "outputs": [
        {
          "output_type": "stream",
          "name": "stdout",
          "text": [
            "<class 'pandas.core.frame.DataFrame'>\n",
            "Int64Index: 2213 entries, 0 to 2239\n",
            "Data columns (total 16 columns):\n",
            " #   Column             Non-Null Count  Dtype  \n",
            "---  ------             --------------  -----  \n",
            " 0   Education          2213 non-null   object \n",
            " 1   Marital_Status     2213 non-null   object \n",
            " 2   Income             2213 non-null   float64\n",
            " 3   Recency            2213 non-null   int64  \n",
            " 4   NumWebVisitsMonth  2213 non-null   int64  \n",
            " 5   AcceptedCmp3       2213 non-null   int64  \n",
            " 6   AcceptedCmp4       2213 non-null   int64  \n",
            " 7   AcceptedCmp5       2213 non-null   int64  \n",
            " 8   AcceptedCmp1       2213 non-null   int64  \n",
            " 9   AcceptedCmp2       2213 non-null   int64  \n",
            " 10  Complain           2213 non-null   int64  \n",
            " 11  Response           2213 non-null   int64  \n",
            " 12  Age                2213 non-null   int64  \n",
            " 13  Children           2213 non-null   int64  \n",
            " 14  TotalSpendings     2213 non-null   int64  \n",
            " 15  TotalPurchases     2213 non-null   int64  \n",
            "dtypes: float64(1), int64(13), object(2)\n",
            "memory usage: 358.5+ KB\n"
          ]
        }
      ]
    },
    {
      "cell_type": "markdown",
      "source": [
        "# **Exploratory Data Analysis**"
      ],
      "metadata": {
        "id": "mv96Ry3gDz4m"
      }
    },
    {
      "cell_type": "code",
      "source": [
        "# Marital counts exploration\n",
        "maritalstatus = df['Marital_Status'].value_counts()\n",
        "\n",
        "fig = px.pie(maritalstatus, \n",
        "             values = maritalstatus.values, \n",
        "             names = maritalstatus.index,\n",
        "             color_discrete_sequence=px.colors.sequential.RdBu)\n",
        "fig.update_traces(textposition='inside', textinfo='percent+label', \n",
        "                  marker = dict(line = dict(color = 'white', width = 2)))\n",
        "fig.show()"
      ],
      "metadata": {
        "colab": {
          "base_uri": "https://localhost:8080/",
          "height": 542
        },
        "id": "jn9DF9tmD1c5",
        "outputId": "3bc4f97c-46e0-4a3e-87c1-015fa225ff3f"
      },
      "execution_count": 25,
      "outputs": [
        {
          "output_type": "display_data",
          "data": {
            "text/html": [
              "<html>\n",
              "<head><meta charset=\"utf-8\" /></head>\n",
              "<body>\n",
              "    <div>            <script src=\"https://cdnjs.cloudflare.com/ajax/libs/mathjax/2.7.5/MathJax.js?config=TeX-AMS-MML_SVG\"></script><script type=\"text/javascript\">if (window.MathJax) {MathJax.Hub.Config({SVG: {font: \"STIX-Web\"}});}</script>                <script type=\"text/javascript\">window.PlotlyConfig = {MathJaxConfig: 'local'};</script>\n",
              "        <script src=\"https://cdn.plot.ly/plotly-2.8.3.min.js\"></script>                <div id=\"9aac0c51-1549-4541-b7aa-028c4ab6c193\" class=\"plotly-graph-div\" style=\"height:525px; width:100%;\"></div>            <script type=\"text/javascript\">                                    window.PLOTLYENV=window.PLOTLYENV || {};                                    if (document.getElementById(\"9aac0c51-1549-4541-b7aa-028c4ab6c193\")) {                    Plotly.newPlot(                        \"9aac0c51-1549-4541-b7aa-028c4ab6c193\",                        [{\"domain\":{\"x\":[0.0,1.0],\"y\":[0.0,1.0]},\"hovertemplate\":\"index=%{label}<br>value=%{value}<extra></extra>\",\"labels\":[\"Partner\",\"Single\"],\"legendgroup\":\"\",\"name\":\"\",\"showlegend\":true,\"values\":[1429,784],\"type\":\"pie\",\"marker\":{\"line\":{\"color\":\"white\",\"width\":2}},\"textinfo\":\"percent+label\",\"textposition\":\"inside\"}],                        {\"template\":{\"data\":{\"bar\":[{\"error_x\":{\"color\":\"#2a3f5f\"},\"error_y\":{\"color\":\"#2a3f5f\"},\"marker\":{\"line\":{\"color\":\"#E5ECF6\",\"width\":0.5},\"pattern\":{\"fillmode\":\"overlay\",\"size\":10,\"solidity\":0.2}},\"type\":\"bar\"}],\"barpolar\":[{\"marker\":{\"line\":{\"color\":\"#E5ECF6\",\"width\":0.5},\"pattern\":{\"fillmode\":\"overlay\",\"size\":10,\"solidity\":0.2}},\"type\":\"barpolar\"}],\"carpet\":[{\"aaxis\":{\"endlinecolor\":\"#2a3f5f\",\"gridcolor\":\"white\",\"linecolor\":\"white\",\"minorgridcolor\":\"white\",\"startlinecolor\":\"#2a3f5f\"},\"baxis\":{\"endlinecolor\":\"#2a3f5f\",\"gridcolor\":\"white\",\"linecolor\":\"white\",\"minorgridcolor\":\"white\",\"startlinecolor\":\"#2a3f5f\"},\"type\":\"carpet\"}],\"choropleth\":[{\"colorbar\":{\"outlinewidth\":0,\"ticks\":\"\"},\"type\":\"choropleth\"}],\"contour\":[{\"colorbar\":{\"outlinewidth\":0,\"ticks\":\"\"},\"colorscale\":[[0.0,\"#0d0887\"],[0.1111111111111111,\"#46039f\"],[0.2222222222222222,\"#7201a8\"],[0.3333333333333333,\"#9c179e\"],[0.4444444444444444,\"#bd3786\"],[0.5555555555555556,\"#d8576b\"],[0.6666666666666666,\"#ed7953\"],[0.7777777777777778,\"#fb9f3a\"],[0.8888888888888888,\"#fdca26\"],[1.0,\"#f0f921\"]],\"type\":\"contour\"}],\"contourcarpet\":[{\"colorbar\":{\"outlinewidth\":0,\"ticks\":\"\"},\"type\":\"contourcarpet\"}],\"heatmap\":[{\"colorbar\":{\"outlinewidth\":0,\"ticks\":\"\"},\"colorscale\":[[0.0,\"#0d0887\"],[0.1111111111111111,\"#46039f\"],[0.2222222222222222,\"#7201a8\"],[0.3333333333333333,\"#9c179e\"],[0.4444444444444444,\"#bd3786\"],[0.5555555555555556,\"#d8576b\"],[0.6666666666666666,\"#ed7953\"],[0.7777777777777778,\"#fb9f3a\"],[0.8888888888888888,\"#fdca26\"],[1.0,\"#f0f921\"]],\"type\":\"heatmap\"}],\"heatmapgl\":[{\"colorbar\":{\"outlinewidth\":0,\"ticks\":\"\"},\"colorscale\":[[0.0,\"#0d0887\"],[0.1111111111111111,\"#46039f\"],[0.2222222222222222,\"#7201a8\"],[0.3333333333333333,\"#9c179e\"],[0.4444444444444444,\"#bd3786\"],[0.5555555555555556,\"#d8576b\"],[0.6666666666666666,\"#ed7953\"],[0.7777777777777778,\"#fb9f3a\"],[0.8888888888888888,\"#fdca26\"],[1.0,\"#f0f921\"]],\"type\":\"heatmapgl\"}],\"histogram\":[{\"marker\":{\"pattern\":{\"fillmode\":\"overlay\",\"size\":10,\"solidity\":0.2}},\"type\":\"histogram\"}],\"histogram2d\":[{\"colorbar\":{\"outlinewidth\":0,\"ticks\":\"\"},\"colorscale\":[[0.0,\"#0d0887\"],[0.1111111111111111,\"#46039f\"],[0.2222222222222222,\"#7201a8\"],[0.3333333333333333,\"#9c179e\"],[0.4444444444444444,\"#bd3786\"],[0.5555555555555556,\"#d8576b\"],[0.6666666666666666,\"#ed7953\"],[0.7777777777777778,\"#fb9f3a\"],[0.8888888888888888,\"#fdca26\"],[1.0,\"#f0f921\"]],\"type\":\"histogram2d\"}],\"histogram2dcontour\":[{\"colorbar\":{\"outlinewidth\":0,\"ticks\":\"\"},\"colorscale\":[[0.0,\"#0d0887\"],[0.1111111111111111,\"#46039f\"],[0.2222222222222222,\"#7201a8\"],[0.3333333333333333,\"#9c179e\"],[0.4444444444444444,\"#bd3786\"],[0.5555555555555556,\"#d8576b\"],[0.6666666666666666,\"#ed7953\"],[0.7777777777777778,\"#fb9f3a\"],[0.8888888888888888,\"#fdca26\"],[1.0,\"#f0f921\"]],\"type\":\"histogram2dcontour\"}],\"mesh3d\":[{\"colorbar\":{\"outlinewidth\":0,\"ticks\":\"\"},\"type\":\"mesh3d\"}],\"parcoords\":[{\"line\":{\"colorbar\":{\"outlinewidth\":0,\"ticks\":\"\"}},\"type\":\"parcoords\"}],\"pie\":[{\"automargin\":true,\"type\":\"pie\"}],\"scatter\":[{\"marker\":{\"colorbar\":{\"outlinewidth\":0,\"ticks\":\"\"}},\"type\":\"scatter\"}],\"scatter3d\":[{\"line\":{\"colorbar\":{\"outlinewidth\":0,\"ticks\":\"\"}},\"marker\":{\"colorbar\":{\"outlinewidth\":0,\"ticks\":\"\"}},\"type\":\"scatter3d\"}],\"scattercarpet\":[{\"marker\":{\"colorbar\":{\"outlinewidth\":0,\"ticks\":\"\"}},\"type\":\"scattercarpet\"}],\"scattergeo\":[{\"marker\":{\"colorbar\":{\"outlinewidth\":0,\"ticks\":\"\"}},\"type\":\"scattergeo\"}],\"scattergl\":[{\"marker\":{\"colorbar\":{\"outlinewidth\":0,\"ticks\":\"\"}},\"type\":\"scattergl\"}],\"scattermapbox\":[{\"marker\":{\"colorbar\":{\"outlinewidth\":0,\"ticks\":\"\"}},\"type\":\"scattermapbox\"}],\"scatterpolar\":[{\"marker\":{\"colorbar\":{\"outlinewidth\":0,\"ticks\":\"\"}},\"type\":\"scatterpolar\"}],\"scatterpolargl\":[{\"marker\":{\"colorbar\":{\"outlinewidth\":0,\"ticks\":\"\"}},\"type\":\"scatterpolargl\"}],\"scatterternary\":[{\"marker\":{\"colorbar\":{\"outlinewidth\":0,\"ticks\":\"\"}},\"type\":\"scatterternary\"}],\"surface\":[{\"colorbar\":{\"outlinewidth\":0,\"ticks\":\"\"},\"colorscale\":[[0.0,\"#0d0887\"],[0.1111111111111111,\"#46039f\"],[0.2222222222222222,\"#7201a8\"],[0.3333333333333333,\"#9c179e\"],[0.4444444444444444,\"#bd3786\"],[0.5555555555555556,\"#d8576b\"],[0.6666666666666666,\"#ed7953\"],[0.7777777777777778,\"#fb9f3a\"],[0.8888888888888888,\"#fdca26\"],[1.0,\"#f0f921\"]],\"type\":\"surface\"}],\"table\":[{\"cells\":{\"fill\":{\"color\":\"#EBF0F8\"},\"line\":{\"color\":\"white\"}},\"header\":{\"fill\":{\"color\":\"#C8D4E3\"},\"line\":{\"color\":\"white\"}},\"type\":\"table\"}]},\"layout\":{\"annotationdefaults\":{\"arrowcolor\":\"#2a3f5f\",\"arrowhead\":0,\"arrowwidth\":1},\"autotypenumbers\":\"strict\",\"coloraxis\":{\"colorbar\":{\"outlinewidth\":0,\"ticks\":\"\"}},\"colorscale\":{\"diverging\":[[0,\"#8e0152\"],[0.1,\"#c51b7d\"],[0.2,\"#de77ae\"],[0.3,\"#f1b6da\"],[0.4,\"#fde0ef\"],[0.5,\"#f7f7f7\"],[0.6,\"#e6f5d0\"],[0.7,\"#b8e186\"],[0.8,\"#7fbc41\"],[0.9,\"#4d9221\"],[1,\"#276419\"]],\"sequential\":[[0.0,\"#0d0887\"],[0.1111111111111111,\"#46039f\"],[0.2222222222222222,\"#7201a8\"],[0.3333333333333333,\"#9c179e\"],[0.4444444444444444,\"#bd3786\"],[0.5555555555555556,\"#d8576b\"],[0.6666666666666666,\"#ed7953\"],[0.7777777777777778,\"#fb9f3a\"],[0.8888888888888888,\"#fdca26\"],[1.0,\"#f0f921\"]],\"sequentialminus\":[[0.0,\"#0d0887\"],[0.1111111111111111,\"#46039f\"],[0.2222222222222222,\"#7201a8\"],[0.3333333333333333,\"#9c179e\"],[0.4444444444444444,\"#bd3786\"],[0.5555555555555556,\"#d8576b\"],[0.6666666666666666,\"#ed7953\"],[0.7777777777777778,\"#fb9f3a\"],[0.8888888888888888,\"#fdca26\"],[1.0,\"#f0f921\"]]},\"colorway\":[\"#636efa\",\"#EF553B\",\"#00cc96\",\"#ab63fa\",\"#FFA15A\",\"#19d3f3\",\"#FF6692\",\"#B6E880\",\"#FF97FF\",\"#FECB52\"],\"font\":{\"color\":\"#2a3f5f\"},\"geo\":{\"bgcolor\":\"white\",\"lakecolor\":\"white\",\"landcolor\":\"#E5ECF6\",\"showlakes\":true,\"showland\":true,\"subunitcolor\":\"white\"},\"hoverlabel\":{\"align\":\"left\"},\"hovermode\":\"closest\",\"mapbox\":{\"style\":\"light\"},\"paper_bgcolor\":\"white\",\"plot_bgcolor\":\"#E5ECF6\",\"polar\":{\"angularaxis\":{\"gridcolor\":\"white\",\"linecolor\":\"white\",\"ticks\":\"\"},\"bgcolor\":\"#E5ECF6\",\"radialaxis\":{\"gridcolor\":\"white\",\"linecolor\":\"white\",\"ticks\":\"\"}},\"scene\":{\"xaxis\":{\"backgroundcolor\":\"#E5ECF6\",\"gridcolor\":\"white\",\"gridwidth\":2,\"linecolor\":\"white\",\"showbackground\":true,\"ticks\":\"\",\"zerolinecolor\":\"white\"},\"yaxis\":{\"backgroundcolor\":\"#E5ECF6\",\"gridcolor\":\"white\",\"gridwidth\":2,\"linecolor\":\"white\",\"showbackground\":true,\"ticks\":\"\",\"zerolinecolor\":\"white\"},\"zaxis\":{\"backgroundcolor\":\"#E5ECF6\",\"gridcolor\":\"white\",\"gridwidth\":2,\"linecolor\":\"white\",\"showbackground\":true,\"ticks\":\"\",\"zerolinecolor\":\"white\"}},\"shapedefaults\":{\"line\":{\"color\":\"#2a3f5f\"}},\"ternary\":{\"aaxis\":{\"gridcolor\":\"white\",\"linecolor\":\"white\",\"ticks\":\"\"},\"baxis\":{\"gridcolor\":\"white\",\"linecolor\":\"white\",\"ticks\":\"\"},\"bgcolor\":\"#E5ECF6\",\"caxis\":{\"gridcolor\":\"white\",\"linecolor\":\"white\",\"ticks\":\"\"}},\"title\":{\"x\":0.05},\"xaxis\":{\"automargin\":true,\"gridcolor\":\"white\",\"linecolor\":\"white\",\"ticks\":\"\",\"title\":{\"standoff\":15},\"zerolinecolor\":\"white\",\"zerolinewidth\":2},\"yaxis\":{\"automargin\":true,\"gridcolor\":\"white\",\"linecolor\":\"white\",\"ticks\":\"\",\"title\":{\"standoff\":15},\"zerolinecolor\":\"white\",\"zerolinewidth\":2}}},\"legend\":{\"tracegroupgap\":0},\"margin\":{\"t\":60},\"piecolorway\":[\"rgb(103,0,31)\",\"rgb(178,24,43)\",\"rgb(214,96,77)\",\"rgb(244,165,130)\",\"rgb(253,219,199)\",\"rgb(247,247,247)\",\"rgb(209,229,240)\",\"rgb(146,197,222)\",\"rgb(67,147,195)\",\"rgb(33,102,172)\",\"rgb(5,48,97)\"]},                        {\"responsive\": true}                    ).then(function(){\n",
              "                            \n",
              "var gd = document.getElementById('9aac0c51-1549-4541-b7aa-028c4ab6c193');\n",
              "var x = new MutationObserver(function (mutations, observer) {{\n",
              "        var display = window.getComputedStyle(gd).display;\n",
              "        if (!display || display === 'none') {{\n",
              "            console.log([gd, 'removed!']);\n",
              "            Plotly.purge(gd);\n",
              "            observer.disconnect();\n",
              "        }}\n",
              "}});\n",
              "\n",
              "// Listen for the removal of the full notebook cells\n",
              "var notebookContainer = gd.closest('#notebook-container');\n",
              "if (notebookContainer) {{\n",
              "    x.observe(notebookContainer, {childList: true});\n",
              "}}\n",
              "\n",
              "// Listen for the clearing of the current output cell\n",
              "var outputEl = gd.closest('.output');\n",
              "if (outputEl) {{\n",
              "    x.observe(outputEl, {childList: true});\n",
              "}}\n",
              "\n",
              "                        })                };                            </script>        </div>\n",
              "</body>\n",
              "</html>"
            ]
          },
          "metadata": {}
        }
      ]
    },
    {
      "cell_type": "markdown",
      "source": [
        "Insight : The company have 35.4% Single customer (784) and 64.6% Partner customer (1429)"
      ],
      "metadata": {
        "id": "H9nuFHAQD7Dw"
      }
    },
    {
      "cell_type": "code",
      "source": [
        "# Marital & Spendings Relationship\n",
        "maritalspending = df.groupby('Marital_Status')['TotalSpendings'].mean().sort_values(ascending=False)\n",
        "maritalspending_df = pd.DataFrame(list(maritalspending.items()), columns=['Marital Status', 'Average Spending'])\n",
        "\n",
        "plt.figure(figsize=(20,10))\n",
        "sns.barplot(data = maritalspending_df, x=\"Average Spending\", y=\"Marital Status\");\n",
        "\n",
        "plt.xticks( fontsize=16)\n",
        "plt.yticks( fontsize=16)\n",
        "plt.xlabel('Average Spending', fontsize=20, labelpad=20)\n",
        "plt.ylabel('Marital Status', fontsize=20, labelpad=20);"
      ],
      "metadata": {
        "colab": {
          "base_uri": "https://localhost:8080/",
          "height": 551
        },
        "id": "ZSes06TsD-JH",
        "outputId": "482332aa-2e03-4831-9699-d965eca13bbb"
      },
      "execution_count": 26,
      "outputs": [
        {
          "output_type": "display_data",
          "data": {
            "text/plain": [
              "<Figure size 1440x720 with 1 Axes>"
            ],
            "image/png": "[encoded data removed]"
          },
          "metadata": {
            "needs_background": "light"
          }
        }
      ]
    },
    {
      "cell_type": "markdown",
      "source": [
        "Insights : Despite the company have more Partner customer, the Single customer most likely spend more than Partner customer."
      ],
      "metadata": {
        "id": "u8HEb6S2EDwk"
      }
    },
    {
      "cell_type": "code",
      "source": [
        "# Marital Status vs Response\n",
        "ax = sns.countplot(df['Marital_Status'], hue=df['Response'], palette=palette, order = df['Marital_Status'].value_counts().index)\n",
        "for p in ax.patches:\n",
        "    ax.annotate(f'\\n{p.get_height()}', (p.get_x()+0.2, p.get_height()), ha='center', va='top', color='white', size=10)\n",
        "plt.xticks(rotation=90)\n",
        "plt.tight_layout();"
      ],
      "metadata": {
        "colab": {
          "base_uri": "https://localhost:8080/",
          "height": 297
        },
        "id": "u8pO-LD7EFjR",
        "outputId": "1fbe8cf1-9d62-4dcd-a8d0-bf00becacaef"
      },
      "execution_count": 27,
      "outputs": [
        {
          "output_type": "display_data",
          "data": {
            "text/plain": [
              "<Figure size 432x288 with 1 Axes>"
            ],
            "image/png": "[encoded data removed]"
          },
          "metadata": {
            "needs_background": "light"
          }
        }
      ]
    },
    {
      "cell_type": "markdown",
      "source": [
        "Insight : Single have higher chance to respond the campaign than Partner"
      ],
      "metadata": {
        "id": "kKFNynmnELHb"
      }
    },
    {
      "cell_type": "code",
      "source": [
        "education = df['Education'].value_counts()\n",
        "\n",
        "fig = px.pie(education, \n",
        "             values = education.values, \n",
        "             names = education.index,\n",
        "             color_discrete_sequence=px.colors.sequential.RdBu)\n",
        "fig.update_traces(textposition='inside', textinfo='percent+label', \n",
        "                  marker = dict(line = dict(color = 'white', width = 2)))\n",
        "fig.show()"
      ],
      "metadata": {
        "colab": {
          "base_uri": "https://localhost:8080/",
          "height": 542
        },
        "id": "X3HLbPuoEM3F",
        "outputId": "33e52718-bcc8-41e5-dcfa-5dc1099fce1f"
      },
      "execution_count": 28,
      "outputs": [
        {
          "output_type": "display_data",
          "data": {
            "text/html": [
              "<html>\n",
              "<head><meta charset=\"utf-8\" /></head>\n",
              "<body>\n",
              "    <div>            <script src=\"https://cdnjs.cloudflare.com/ajax/libs/mathjax/2.7.5/MathJax.js?config=TeX-AMS-MML_SVG\"></script><script type=\"text/javascript\">if (window.MathJax) {MathJax.Hub.Config({SVG: {font: \"STIX-Web\"}});}</script>                <script type=\"text/javascript\">window.PlotlyConfig = {MathJaxConfig: 'local'};</script>\n",
              "        <script src=\"https://cdn.plot.ly/plotly-2.8.3.min.js\"></script>                <div id=\"fa998111-8b51-49e0-ab55-381f0b5b3e79\" class=\"plotly-graph-div\" style=\"height:525px; width:100%;\"></div>            <script type=\"text/javascript\">                                    window.PLOTLYENV=window.PLOTLYENV || {};                                    if (document.getElementById(\"fa998111-8b51-49e0-ab55-381f0b5b3e79\")) {                    Plotly.newPlot(                        \"fa998111-8b51-49e0-ab55-381f0b5b3e79\",                        [{\"domain\":{\"x\":[0.0,1.0],\"y\":[0.0,1.0]},\"hovertemplate\":\"index=%{label}<br>value=%{value}<extra></extra>\",\"labels\":[\"Graduation\",\"PhD\",\"Master\",\"2n Cycle\",\"Basic\"],\"legendgroup\":\"\",\"name\":\"\",\"showlegend\":true,\"values\":[1116,480,365,198,54],\"type\":\"pie\",\"marker\":{\"line\":{\"color\":\"white\",\"width\":2}},\"textinfo\":\"percent+label\",\"textposition\":\"inside\"}],                        {\"template\":{\"data\":{\"bar\":[{\"error_x\":{\"color\":\"#2a3f5f\"},\"error_y\":{\"color\":\"#2a3f5f\"},\"marker\":{\"line\":{\"color\":\"#E5ECF6\",\"width\":0.5},\"pattern\":{\"fillmode\":\"overlay\",\"size\":10,\"solidity\":0.2}},\"type\":\"bar\"}],\"barpolar\":[{\"marker\":{\"line\":{\"color\":\"#E5ECF6\",\"width\":0.5},\"pattern\":{\"fillmode\":\"overlay\",\"size\":10,\"solidity\":0.2}},\"type\":\"barpolar\"}],\"carpet\":[{\"aaxis\":{\"endlinecolor\":\"#2a3f5f\",\"gridcolor\":\"white\",\"linecolor\":\"white\",\"minorgridcolor\":\"white\",\"startlinecolor\":\"#2a3f5f\"},\"baxis\":{\"endlinecolor\":\"#2a3f5f\",\"gridcolor\":\"white\",\"linecolor\":\"white\",\"minorgridcolor\":\"white\",\"startlinecolor\":\"#2a3f5f\"},\"type\":\"carpet\"}],\"choropleth\":[{\"colorbar\":{\"outlinewidth\":0,\"ticks\":\"\"},\"type\":\"choropleth\"}],\"contour\":[{\"colorbar\":{\"outlinewidth\":0,\"ticks\":\"\"},\"colorscale\":[[0.0,\"#0d0887\"],[0.1111111111111111,\"#46039f\"],[0.2222222222222222,\"#7201a8\"],[0.3333333333333333,\"#9c179e\"],[0.4444444444444444,\"#bd3786\"],[0.5555555555555556,\"#d8576b\"],[0.6666666666666666,\"#ed7953\"],[0.7777777777777778,\"#fb9f3a\"],[0.8888888888888888,\"#fdca26\"],[1.0,\"#f0f921\"]],\"type\":\"contour\"}],\"contourcarpet\":[{\"colorbar\":{\"outlinewidth\":0,\"ticks\":\"\"},\"type\":\"contourcarpet\"}],\"heatmap\":[{\"colorbar\":{\"outlinewidth\":0,\"ticks\":\"\"},\"colorscale\":[[0.0,\"#0d0887\"],[0.1111111111111111,\"#46039f\"],[0.2222222222222222,\"#7201a8\"],[0.3333333333333333,\"#9c179e\"],[0.4444444444444444,\"#bd3786\"],[0.5555555555555556,\"#d8576b\"],[0.6666666666666666,\"#ed7953\"],[0.7777777777777778,\"#fb9f3a\"],[0.8888888888888888,\"#fdca26\"],[1.0,\"#f0f921\"]],\"type\":\"heatmap\"}],\"heatmapgl\":[{\"colorbar\":{\"outlinewidth\":0,\"ticks\":\"\"},\"colorscale\":[[0.0,\"#0d0887\"],[0.1111111111111111,\"#46039f\"],[0.2222222222222222,\"#7201a8\"],[0.3333333333333333,\"#9c179e\"],[0.4444444444444444,\"#bd3786\"],[0.5555555555555556,\"#d8576b\"],[0.6666666666666666,\"#ed7953\"],[0.7777777777777778,\"#fb9f3a\"],[0.8888888888888888,\"#fdca26\"],[1.0,\"#f0f921\"]],\"type\":\"heatmapgl\"}],\"histogram\":[{\"marker\":{\"pattern\":{\"fillmode\":\"overlay\",\"size\":10,\"solidity\":0.2}},\"type\":\"histogram\"}],\"histogram2d\":[{\"colorbar\":{\"outlinewidth\":0,\"ticks\":\"\"},\"colorscale\":[[0.0,\"#0d0887\"],[0.1111111111111111,\"#46039f\"],[0.2222222222222222,\"#7201a8\"],[0.3333333333333333,\"#9c179e\"],[0.4444444444444444,\"#bd3786\"],[0.5555555555555556,\"#d8576b\"],[0.6666666666666666,\"#ed7953\"],[0.7777777777777778,\"#fb9f3a\"],[0.8888888888888888,\"#fdca26\"],[1.0,\"#f0f921\"]],\"type\":\"histogram2d\"}],\"histogram2dcontour\":[{\"colorbar\":{\"outlinewidth\":0,\"ticks\":\"\"},\"colorscale\":[[0.0,\"#0d0887\"],[0.1111111111111111,\"#46039f\"],[0.2222222222222222,\"#7201a8\"],[0.3333333333333333,\"#9c179e\"],[0.4444444444444444,\"#bd3786\"],[0.5555555555555556,\"#d8576b\"],[0.6666666666666666,\"#ed7953\"],[0.7777777777777778,\"#fb9f3a\"],[0.8888888888888888,\"#fdca26\"],[1.0,\"#f0f921\"]],\"type\":\"histogram2dcontour\"}],\"mesh3d\":[{\"colorbar\":{\"outlinewidth\":0,\"ticks\":\"\"},\"type\":\"mesh3d\"}],\"parcoords\":[{\"line\":{\"colorbar\":{\"outlinewidth\":0,\"ticks\":\"\"}},\"type\":\"parcoords\"}],\"pie\":[{\"automargin\":true,\"type\":\"pie\"}],\"scatter\":[{\"marker\":{\"colorbar\":{\"outlinewidth\":0,\"ticks\":\"\"}},\"type\":\"scatter\"}],\"scatter3d\":[{\"line\":{\"colorbar\":{\"outlinewidth\":0,\"ticks\":\"\"}},\"marker\":{\"colorbar\":{\"outlinewidth\":0,\"ticks\":\"\"}},\"type\":\"scatter3d\"}],\"scattercarpet\":[{\"marker\":{\"colorbar\":{\"outlinewidth\":0,\"ticks\":\"\"}},\"type\":\"scattercarpet\"}],\"scattergeo\":[{\"marker\":{\"colorbar\":{\"outlinewidth\":0,\"ticks\":\"\"}},\"type\":\"scattergeo\"}],\"scattergl\":[{\"marker\":{\"colorbar\":{\"outlinewidth\":0,\"ticks\":\"\"}},\"type\":\"scattergl\"}],\"scattermapbox\":[{\"marker\":{\"colorbar\":{\"outlinewidth\":0,\"ticks\":\"\"}},\"type\":\"scattermapbox\"}],\"scatterpolar\":[{\"marker\":{\"colorbar\":{\"outlinewidth\":0,\"ticks\":\"\"}},\"type\":\"scatterpolar\"}],\"scatterpolargl\":[{\"marker\":{\"colorbar\":{\"outlinewidth\":0,\"ticks\":\"\"}},\"type\":\"scatterpolargl\"}],\"scatterternary\":[{\"marker\":{\"colorbar\":{\"outlinewidth\":0,\"ticks\":\"\"}},\"type\":\"scatterternary\"}],\"surface\":[{\"colorbar\":{\"outlinewidth\":0,\"ticks\":\"\"},\"colorscale\":[[0.0,\"#0d0887\"],[0.1111111111111111,\"#46039f\"],[0.2222222222222222,\"#7201a8\"],[0.3333333333333333,\"#9c179e\"],[0.4444444444444444,\"#bd3786\"],[0.5555555555555556,\"#d8576b\"],[0.6666666666666666,\"#ed7953\"],[0.7777777777777778,\"#fb9f3a\"],[0.8888888888888888,\"#fdca26\"],[1.0,\"#f0f921\"]],\"type\":\"surface\"}],\"table\":[{\"cells\":{\"fill\":{\"color\":\"#EBF0F8\"},\"line\":{\"color\":\"white\"}},\"header\":{\"fill\":{\"color\":\"#C8D4E3\"},\"line\":{\"color\":\"white\"}},\"type\":\"table\"}]},\"layout\":{\"annotationdefaults\":{\"arrowcolor\":\"#2a3f5f\",\"arrowhead\":0,\"arrowwidth\":1},\"autotypenumbers\":\"strict\",\"coloraxis\":{\"colorbar\":{\"outlinewidth\":0,\"ticks\":\"\"}},\"colorscale\":{\"diverging\":[[0,\"#8e0152\"],[0.1,\"#c51b7d\"],[0.2,\"#de77ae\"],[0.3,\"#f1b6da\"],[0.4,\"#fde0ef\"],[0.5,\"#f7f7f7\"],[0.6,\"#e6f5d0\"],[0.7,\"#b8e186\"],[0.8,\"#7fbc41\"],[0.9,\"#4d9221\"],[1,\"#276419\"]],\"sequential\":[[0.0,\"#0d0887\"],[0.1111111111111111,\"#46039f\"],[0.2222222222222222,\"#7201a8\"],[0.3333333333333333,\"#9c179e\"],[0.4444444444444444,\"#bd3786\"],[0.5555555555555556,\"#d8576b\"],[0.6666666666666666,\"#ed7953\"],[0.7777777777777778,\"#fb9f3a\"],[0.8888888888888888,\"#fdca26\"],[1.0,\"#f0f921\"]],\"sequentialminus\":[[0.0,\"#0d0887\"],[0.1111111111111111,\"#46039f\"],[0.2222222222222222,\"#7201a8\"],[0.3333333333333333,\"#9c179e\"],[0.4444444444444444,\"#bd3786\"],[0.5555555555555556,\"#d8576b\"],[0.6666666666666666,\"#ed7953\"],[0.7777777777777778,\"#fb9f3a\"],[0.8888888888888888,\"#fdca26\"],[1.0,\"#f0f921\"]]},\"colorway\":[\"#636efa\",\"#EF553B\",\"#00cc96\",\"#ab63fa\",\"#FFA15A\",\"#19d3f3\",\"#FF6692\",\"#B6E880\",\"#FF97FF\",\"#FECB52\"],\"font\":{\"color\":\"#2a3f5f\"},\"geo\":{\"bgcolor\":\"white\",\"lakecolor\":\"white\",\"landcolor\":\"#E5ECF6\",\"showlakes\":true,\"showland\":true,\"subunitcolor\":\"white\"},\"hoverlabel\":{\"align\":\"left\"},\"hovermode\":\"closest\",\"mapbox\":{\"style\":\"light\"},\"paper_bgcolor\":\"white\",\"plot_bgcolor\":\"#E5ECF6\",\"polar\":{\"angularaxis\":{\"gridcolor\":\"white\",\"linecolor\":\"white\",\"ticks\":\"\"},\"bgcolor\":\"#E5ECF6\",\"radialaxis\":{\"gridcolor\":\"white\",\"linecolor\":\"white\",\"ticks\":\"\"}},\"scene\":{\"xaxis\":{\"backgroundcolor\":\"#E5ECF6\",\"gridcolor\":\"white\",\"gridwidth\":2,\"linecolor\":\"white\",\"showbackground\":true,\"ticks\":\"\",\"zerolinecolor\":\"white\"},\"yaxis\":{\"backgroundcolor\":\"#E5ECF6\",\"gridcolor\":\"white\",\"gridwidth\":2,\"linecolor\":\"white\",\"showbackground\":true,\"ticks\":\"\",\"zerolinecolor\":\"white\"},\"zaxis\":{\"backgroundcolor\":\"#E5ECF6\",\"gridcolor\":\"white\",\"gridwidth\":2,\"linecolor\":\"white\",\"showbackground\":true,\"ticks\":\"\",\"zerolinecolor\":\"white\"}},\"shapedefaults\":{\"line\":{\"color\":\"#2a3f5f\"}},\"ternary\":{\"aaxis\":{\"gridcolor\":\"white\",\"linecolor\":\"white\",\"ticks\":\"\"},\"baxis\":{\"gridcolor\":\"white\",\"linecolor\":\"white\",\"ticks\":\"\"},\"bgcolor\":\"#E5ECF6\",\"caxis\":{\"gridcolor\":\"white\",\"linecolor\":\"white\",\"ticks\":\"\"}},\"title\":{\"x\":0.05},\"xaxis\":{\"automargin\":true,\"gridcolor\":\"white\",\"linecolor\":\"white\",\"ticks\":\"\",\"title\":{\"standoff\":15},\"zerolinecolor\":\"white\",\"zerolinewidth\":2},\"yaxis\":{\"automargin\":true,\"gridcolor\":\"white\",\"linecolor\":\"white\",\"ticks\":\"\",\"title\":{\"standoff\":15},\"zerolinecolor\":\"white\",\"zerolinewidth\":2}}},\"legend\":{\"tracegroupgap\":0},\"margin\":{\"t\":60},\"piecolorway\":[\"rgb(103,0,31)\",\"rgb(178,24,43)\",\"rgb(214,96,77)\",\"rgb(244,165,130)\",\"rgb(253,219,199)\",\"rgb(247,247,247)\",\"rgb(209,229,240)\",\"rgb(146,197,222)\",\"rgb(67,147,195)\",\"rgb(33,102,172)\",\"rgb(5,48,97)\"]},                        {\"responsive\": true}                    ).then(function(){\n",
              "                            \n",
              "var gd = document.getElementById('fa998111-8b51-49e0-ab55-381f0b5b3e79');\n",
              "var x = new MutationObserver(function (mutations, observer) {{\n",
              "        var display = window.getComputedStyle(gd).display;\n",
              "        if (!display || display === 'none') {{\n",
              "            console.log([gd, 'removed!']);\n",
              "            Plotly.purge(gd);\n",
              "            observer.disconnect();\n",
              "        }}\n",
              "}});\n",
              "\n",
              "// Listen for the removal of the full notebook cells\n",
              "var notebookContainer = gd.closest('#notebook-container');\n",
              "if (notebookContainer) {{\n",
              "    x.observe(notebookContainer, {childList: true});\n",
              "}}\n",
              "\n",
              "// Listen for the clearing of the current output cell\n",
              "var outputEl = gd.closest('.output');\n",
              "if (outputEl) {{\n",
              "    x.observe(outputEl, {childList: true});\n",
              "}}\n",
              "\n",
              "                        })                };                            </script>        </div>\n",
              "</body>\n",
              "</html>"
            ]
          },
          "metadata": {}
        }
      ]
    },
    {
      "cell_type": "markdown",
      "source": [
        "Insight : Half of the total customer of the company have Graduation degree (1116)"
      ],
      "metadata": {
        "id": "UxyHJdRPEQoM"
      }
    },
    {
      "cell_type": "code",
      "source": [
        "educationspending = df.groupby('Education')['TotalSpendings'].mean().sort_values(ascending=False)\n",
        "educationspending_df = pd.DataFrame(list(educationspending.items()), columns=['Education', 'Average Spending'])\n",
        "\n",
        "plt.figure(figsize=(20,10))\n",
        "sns.barplot(data = educationspending_df, x=\"Average Spending\", y=\"Education\");\n",
        "\n",
        "plt.xticks( fontsize=16)\n",
        "plt.yticks( fontsize=16)\n",
        "plt.xlabel('Average Spending', fontsize=20, labelpad=20)\n",
        "plt.ylabel('Education', fontsize=20, labelpad=20);"
      ],
      "metadata": {
        "colab": {
          "base_uri": "https://localhost:8080/",
          "height": 537
        },
        "id": "edXTLSQmETQR",
        "outputId": "8974b410-2798-49bb-e9cf-9e2f1f0a8b22"
      },
      "execution_count": 29,
      "outputs": [
        {
          "output_type": "display_data",
          "data": {
            "text/plain": [
              "<Figure size 1440x720 with 1 Axes>"
            ],
            "image/png": "[encoded data removed]"
          },
          "metadata": {
            "needs_background": "light"
          }
        }
      ]
    },
    {
      "cell_type": "markdown",
      "source": [
        "Insight : Despite half of customer have most number, the average spending of PhD customer are the highest"
      ],
      "metadata": {
        "id": "NaO8xJD5EXnK"
      }
    },
    {
      "cell_type": "code",
      "source": [
        "# Education vs Response\n",
        "ax = sns.countplot(df['Education'], hue=df['Response'], palette=palette, order = df['Education'].value_counts().index)\n",
        "for p in ax.patches:\n",
        "    ax.annotate(f'\\n{p.get_height()}', (p.get_x()+0.2, p.get_height()), ha='center', va='top', color='white', size=10)\n",
        "plt.xticks(rotation=90)\n",
        "plt.tight_layout();"
      ],
      "metadata": {
        "colab": {
          "base_uri": "https://localhost:8080/",
          "height": 298
        },
        "id": "uqaWqffHEZCF",
        "outputId": "9d9306f5-8093-4cda-c90b-6d1b8d434a03"
      },
      "execution_count": 30,
      "outputs": [
        {
          "output_type": "display_data",
          "data": {
            "text/plain": [
              "<Figure size 432x288 with 1 Axes>"
            ],
            "image/png": "[encoded data removed]"
          },
          "metadata": {
            "needs_background": "light"
          }
        }
      ]
    },
    {
      "cell_type": "code",
      "source": [
        "# Children spending\n",
        "childrenspending = df.groupby('Children')['TotalSpendings'].mean().sort_values(ascending=False)\n",
        "childrenspending_df = pd.DataFrame(list(childrenspending.items()), columns=['No. of Children', 'Average Spending'])\n",
        "\n",
        "plt.figure(figsize=(20,10))\n",
        "\n",
        "sns.barplot(data=childrenspending_df,  x=\"No. of Children\", y=\"Average Spending\");\n",
        "plt.xticks( fontsize=16)\n",
        "plt.yticks( fontsize=16)\n",
        "plt.xlabel('No. of Children', fontsize=20, labelpad=20)\n",
        "plt.ylabel('Average Spending', fontsize=20, labelpad=20);"
      ],
      "metadata": {
        "colab": {
          "base_uri": "https://localhost:8080/",
          "height": 559
        },
        "id": "GB8vpdIVEdOM",
        "outputId": "d676cd3f-4514-446c-aca4-c9d3ae3ff330"
      },
      "execution_count": 31,
      "outputs": [
        {
          "output_type": "display_data",
          "data": {
            "text/plain": [
              "<Figure size 1440x720 with 1 Axes>"
            ],
            "image/png": "[encoded data removed]"
          },
          "metadata": {
            "needs_background": "light"
          }
        }
      ]
    },
    {
      "cell_type": "markdown",
      "source": [
        "Insight : the company have customer with no child highest number above all"
      ],
      "metadata": {
        "id": "fKiNNJ3CEhRQ"
      }
    },
    {
      "cell_type": "code",
      "source": [
        "# Children vs Response\n",
        "ax = sns.countplot(df['Children'], hue=df['Response'], palette=palette, order = df['Children'].value_counts().index)\n",
        "for p in ax.patches:\n",
        "    ax.annotate(f'\\n{p.get_height()}', (p.get_x()+0.2, p.get_height()), ha='center', va='top', color='white', size=10)\n",
        "plt.xticks(rotation=90)\n",
        "plt.tight_layout();"
      ],
      "metadata": {
        "colab": {
          "base_uri": "https://localhost:8080/",
          "height": 297
        },
        "id": "KUQ8iHXnEi3z",
        "outputId": "c9ad87f7-0ee1-4723-cd27-d4c4bb1efd0a"
      },
      "execution_count": 32,
      "outputs": [
        {
          "output_type": "display_data",
          "data": {
            "text/plain": [
              "<Figure size 432x288 with 1 Axes>"
            ],
            "image/png": "[encoded data removed]"
          },
          "metadata": {
            "needs_background": "light"
          }
        }
      ]
    },
    {
      "cell_type": "markdown",
      "source": [
        "Insight : Customer with no child more likely responding to the campaign"
      ],
      "metadata": {
        "id": "Lc2pdRI-EoS_"
      }
    },
    {
      "cell_type": "code",
      "source": [
        "# Income & Spendings relationship\n",
        "plt.figure(figsize=(20,10))\n",
        "\n",
        "\n",
        "sns.scatterplot(x=df['Income'], y=df['TotalSpendings'], s=100);\n",
        "\n",
        "plt.xticks( fontsize=16)\n",
        "plt.yticks( fontsize=16)\n",
        "plt.xlabel('Income', fontsize=20, labelpad=20)\n",
        "plt.ylabel('Spendings', fontsize=20, labelpad=20);"
      ],
      "metadata": {
        "colab": {
          "base_uri": "https://localhost:8080/",
          "height": 559
        },
        "id": "iaN2m2zTEqIn",
        "outputId": "c4e59767-901a-4f53-aedc-a02e4a3d0428"
      },
      "execution_count": 33,
      "outputs": [
        {
          "output_type": "display_data",
          "data": {
            "text/plain": [
              "<Figure size 1440x720 with 1 Axes>"
            ],
            "image/png": "[encoded data removed]"
          },
          "metadata": {
            "needs_background": "light"
          }
        }
      ]
    },
    {
      "cell_type": "markdown",
      "source": [
        "Insight : there are positive relationship between Income and Spendings, which is make sense where more income the customer most likely spend their money much more. Also there are outlier on the data where income > 120000 (and one customer with income > 600000)"
      ],
      "metadata": {
        "id": "-6jg5P2WEtk5"
      }
    },
    {
      "cell_type": "code",
      "source": [
        "# Age Distribution\n",
        "plt.figure(figsize=(20,10))\n",
        "ax = sns.histplot(data = df['Age'], color='red')\n",
        "ax.set(title = \"Age Distribution of Customers\");\n",
        "plt.xticks( fontsize=16)\n",
        "plt.yticks( fontsize=16)\n",
        "plt.xlabel('Age ', fontsize=20, labelpad=20)\n",
        "plt.ylabel('Counts', fontsize=20, labelpad=20);"
      ],
      "metadata": {
        "colab": {
          "base_uri": "https://localhost:8080/",
          "height": 578
        },
        "id": "G0mr2dCzEv4i",
        "outputId": "1cb879fc-2bcd-4c9a-da54-66c7ff2fa1f8"
      },
      "execution_count": 34,
      "outputs": [
        {
          "output_type": "display_data",
          "data": {
            "text/plain": [
              "<Figure size 1440x720 with 1 Axes>"
            ],
            "image/png": "[encoded data removed]"
          },
          "metadata": {
            "needs_background": "light"
          }
        }
      ]
    },
    {
      "cell_type": "markdown",
      "source": [
        "Insight : Customer age distributed normally"
      ],
      "metadata": {
        "id": "osIrsHCkEz9x"
      }
    },
    {
      "cell_type": "code",
      "source": [
        "# Income Distribution\n",
        "plt.figure(figsize=(20, 10))\n",
        "ax = sns.histplot(data = df['Income'], color = \"midnightblue\")\n",
        "ax.set(title = \"Income Distribution of Customers\");\n",
        "\n",
        "plt.xticks( fontsize=16)\n",
        "plt.yticks( fontsize=16)\n",
        "plt.xlabel('Income', fontsize=20, labelpad=20)\n",
        "plt.ylabel('Counts', fontsize=20, labelpad=20);"
      ],
      "metadata": {
        "colab": {
          "base_uri": "https://localhost:8080/",
          "height": 578
        },
        "id": "pds1c81sE2Aj",
        "outputId": "276a954e-73d7-4d1a-a7be-9c24e65e9783"
      },
      "execution_count": 35,
      "outputs": [
        {
          "output_type": "display_data",
          "data": {
            "text/plain": [
              "<Figure size 1440x720 with 1 Axes>"
            ],
            "image/png": "[encoded data removed]"
          },
          "metadata": {
            "needs_background": "light"
          }
        }
      ]
    },
    {
      "cell_type": "markdown",
      "source": [
        "Insight : Customer income distributed normally, hence there aren't outlier on the data"
      ],
      "metadata": {
        "id": "a4G6JvYRE6Ik"
      }
    },
    {
      "cell_type": "code",
      "source": [
        "# Find biggest impact campaign\n",
        "fig, axis = plt.subplots(1,5, figsize=(30, 10))\n",
        "\n",
        "ax = sns.countplot(df['AcceptedCmp1'], hue=df['Response'], ax=axis[0])\n",
        "for p in ax.patches:\n",
        "    ax.annotate(f'\\n{p.get_height()}', (p.get_x()+0.2, p.get_height()), ha='center', va='top', color='white', size=10)\n",
        "ax = sns.countplot(df['AcceptedCmp2'], hue=df['Response'], ax=axis[1])\n",
        "for p in ax.patches:\n",
        "    ax.annotate(f'\\n{p.get_height()}', (p.get_x()+0.2, p.get_height()), ha='center', va='top', color='white', size=10)\n",
        "ax = sns.countplot(df['AcceptedCmp3'], hue=df['Response'], ax=axis[2])\n",
        "for p in ax.patches:\n",
        "    ax.annotate(f'\\n{p.get_height()}', (p.get_x()+0.2, p.get_height()), ha='center', va='top', color='white', size=10)\n",
        "ax = sns.countplot(df['AcceptedCmp4'], hue=df['Response'], ax=axis[3])\n",
        "for p in ax.patches:\n",
        "    ax.annotate(f'\\n{p.get_height()}', (p.get_x()+0.2, p.get_height()), ha='center', va='top', color='white', size=10)\n",
        "ax = sns.countplot(df['AcceptedCmp5'], hue=df['Response'], ax=axis[4])\n",
        "for p in ax.patches:\n",
        "    ax.annotate(f'\\n{p.get_height()}', (p.get_x()+0.2, p.get_height()), ha='center', va='top', color='white', size=10)"
      ],
      "metadata": {
        "colab": {
          "base_uri": "https://localhost:8080/",
          "height": 379
        },
        "id": "5YozNuloE8FS",
        "outputId": "3e970e7e-9b5d-4a17-956f-ef4078b50e88"
      },
      "execution_count": 36,
      "outputs": [
        {
          "output_type": "display_data",
          "data": {
            "text/plain": [
              "<Figure size 2160x720 with 5 Axes>"
            ],
            "image/png": "[encoded data removed]"
          },
          "metadata": {
            "needs_background": "light"
          }
        }
      ]
    },
    {
      "cell_type": "markdown",
      "source": [
        "Insight : The company did Campaign 4 more than other (164 total customer), hence, the customer more likely to responded for Campaign 5 (91 total customer)"
      ],
      "metadata": {
        "id": "SUT3B6-ME_us"
      }
    },
    {
      "cell_type": "code",
      "source": [
        "# Web visit density for Response\n",
        "plt.figure(figsize=(20, 10))\n",
        "ax = sns.kdeplot(x = df['NumWebVisitsMonth'], hue = df['Response'])\n",
        "ax.set(title = \"Web Visit on Reponse\");\n",
        "\n",
        "plt.xticks( fontsize=16)\n",
        "plt.xlabel('Num Web Visit', fontsize=20, labelpad=20);"
      ],
      "metadata": {
        "colab": {
          "base_uri": "https://localhost:8080/",
          "height": 594
        },
        "id": "_k9Af-zeFB1i",
        "outputId": "a01e8814-a2a2-4d52-ea9b-a6979763a363"
      },
      "execution_count": 37,
      "outputs": [
        {
          "output_type": "display_data",
          "data": {
            "text/plain": [
              "<Figure size 1440x720 with 1 Axes>"
            ],
            "image/png": "[encoded data removed]"
          },
          "metadata": {
            "needs_background": "light"
          }
        }
      ]
    },
    {
      "cell_type": "markdown",
      "source": [
        "Insight : There is an impact on Num Web Visit on Response, where the more customer visit the website, the more people seem not responding to the campaign"
      ],
      "metadata": {
        "id": "YhtzMx75FGlT"
      }
    },
    {
      "cell_type": "code",
      "source": [
        "# Total spendings density for Response\n",
        "plt.figure(figsize=(20, 10))\n",
        "ax = sns.kdeplot(x = df['TotalSpendings'], hue = df['Response'])\n",
        "ax.set(title = \"Total Spendings on Reponse\");\n",
        "\n",
        "plt.xticks( fontsize=16)\n",
        "plt.xlabel('Spendings', fontsize=20, labelpad=20);"
      ],
      "metadata": {
        "colab": {
          "base_uri": "https://localhost:8080/",
          "height": 587
        },
        "id": "eOXEBV3sFIp2",
        "outputId": "872507b1-1709-4576-e661-ebd1bffcba1d"
      },
      "execution_count": 38,
      "outputs": [
        {
          "output_type": "display_data",
          "data": {
            "text/plain": [
              "<Figure size 1440x720 with 1 Axes>"
            ],
            "image/png": "[encoded data removed]"
          },
          "metadata": {
            "needs_background": "light"
          }
        }
      ]
    },
    {
      "cell_type": "markdown",
      "source": [
        "Insight : From the plot, we know that the more customer spendings for the company, the customer more likely responded to the campaign\n",
        "\n",
        "From all of the EDA, we can pull out the summary :\n",
        "\n",
        "Single customer have higher chance to respond the campaign than the customer who have married or have couple\n",
        "Customer from Graduation degree of Education, have more likely to responding for the campaign and give profit to the company\n",
        "Customer with no children at home (despite Partner or Single) have responding to the campaign more often than customer with children\n",
        "The campaign number 5 have more number of Responding people than not\n",
        "The more user visit on the website the more people not response to the campaign. This could be a problem because that means there is something wrong with our website\n",
        "The more user spends on the company, people have a higher chance to respond the campaign. This is somehow make sense because if the people have more spending to the company the more likely that customer is loyal and didn't need any campaign\n",
        "Then we can produce a customer persona where the people that higher chance to respond the campaign is :\n",
        "\n",
        "Single\n",
        "Graduation degree of Education\n",
        "No children at home\n",
        "Little time visits on the website\n",
        "Little spends on the company\n",
        "Which is these characteristic somehow match new customer, busy customer, or promo hunter customer. Where these customer mostly will response to campaign. And maybe we could use campaign 5 more often because of the impact for the customer."
      ],
      "metadata": {
        "id": "yFWbeTogFN4N"
      }
    },
    {
      "cell_type": "markdown",
      "source": [
        "# **Encoding & Resampling**"
      ],
      "metadata": {
        "id": "LPteRZyYFYSa"
      }
    },
    {
      "cell_type": "markdown",
      "source": [
        "# Encoding"
      ],
      "metadata": {
        "id": "WnzLmzy-FcJC"
      }
    },
    {
      "cell_type": "code",
      "source": [
        "# Marital_Status encoding\n",
        "# Change to 1 for all value with partner (Together and Maried) and 0 for all value without partner (Single, Divorced, Widow, Alone, Absurd, YOLO)\n",
        "\n",
        "df['Marital_Status'] = df['Marital_Status'].replace({'Partner': 1,'Single': 0})"
      ],
      "metadata": {
        "id": "QH4OwLX_FeVM"
      },
      "execution_count": 39,
      "outputs": []
    },
    {
      "cell_type": "code",
      "source": [
        "# Education encoding\n",
        "# Change to 0 for all first cycle ed (Basic & Graduation), 1 for second cycle (Master, 2n Cycle), 2 for third cycle (PhD)\n",
        "# Source : https://www.studera.nu/startpage/higher-education-studies/higher-education-in-sweden/study-levels-and-degrees/#:~:text=First%20cycle%20is%20for%20the,offered%20at%20all%20three%20cycles\n",
        "\n",
        "df['Education'] = df['Education'].replace({'Basic': 0,\n",
        "                                           'Graduation': 0,\n",
        "                                           'Master': 1,\n",
        "                                           '2n Cycle': 1,\n",
        "                                           'PhD': 2})"
      ],
      "metadata": {
        "id": "v0XpdlosFhL4"
      },
      "execution_count": 40,
      "outputs": []
    },
    {
      "cell_type": "markdown",
      "source": [
        "# Resampling"
      ],
      "metadata": {
        "id": "Q5hmysNeFkZd"
      }
    },
    {
      "cell_type": "code",
      "source": [
        "# Assign 'Response' column to y \n",
        "y = df['Response'].values\n",
        "# Assign all columns except 'Response' to X\n",
        "X = df.drop(['Response'], axis = 1).values"
      ],
      "metadata": {
        "id": "FA1lbdE3FkED"
      },
      "execution_count": 41,
      "outputs": []
    },
    {
      "cell_type": "code",
      "source": [
        "# Check dimension\n",
        "print('X shape :', X.shape)\n",
        "print('y shape :', y.shape)"
      ],
      "metadata": {
        "colab": {
          "base_uri": "https://localhost:8080/"
        },
        "id": "4Flmee2MFqkU",
        "outputId": "6f29d700-6625-4bfb-e7b8-fbc1e800f6f5"
      },
      "execution_count": 42,
      "outputs": [
        {
          "output_type": "stream",
          "name": "stdout",
          "text": [
            "X shape : (2213, 15)\n",
            "y shape : (2213,)\n"
          ]
        }
      ]
    },
    {
      "cell_type": "code",
      "source": [
        "# split data to train and test data\n",
        "# with test size is 30% of overall data\n",
        "# use stratified sampling\n",
        "# and set RNG to 1000\n",
        "X_train_response, X_test_response, y_train_response, y_test_response = train_test_split(\n",
        "    X,\n",
        "    y,\n",
        "    test_size = 0.3,\n",
        "    stratify = y,\n",
        "    random_state = 1000\n",
        ")"
      ],
      "metadata": {
        "id": "v_zXQivGFtSP"
      },
      "execution_count": 43,
      "outputs": []
    },
    {
      "cell_type": "code",
      "source": [
        "# Make a new dataframe using train & test data\n",
        "train_df_x = pd.DataFrame(X_train_response, columns=df.drop(['Response'], axis = 1).columns)\n",
        "train_df_y = pd.DataFrame(y_train_response, columns=[\"Response\"])\n",
        "train_df = pd.concat([train_df_x, train_df_y], axis=1)\n",
        "\n",
        "test_df_x = pd.DataFrame(X_test_response, columns=df.drop(['Response'], axis = 1).columns)\n",
        "test_df_y = pd.DataFrame(y_test_response, columns=[\"Response\"])\n",
        "test_df = pd.concat([test_df_x, test_df_y], axis=1)"
      ],
      "metadata": {
        "id": "8QRe4Vb6Fwkc"
      },
      "execution_count": 44,
      "outputs": []
    },
    {
      "cell_type": "code",
      "source": [
        "train_df"
      ],
      "metadata": {
        "colab": {
          "base_uri": "https://localhost:8080/",
          "height": 488
        },
        "id": "NQD588UaFzCd",
        "outputId": "e91c8bc8-55a2-4c90-923c-377a67532136"
      },
      "execution_count": 45,
      "outputs": [
        {
          "output_type": "execute_result",
          "data": {
            "text/plain": [
              "      Education  Marital_Status   Income  Recency  NumWebVisitsMonth  \\\n",
              "0           0.0             0.0  63810.0     45.0                8.0   \n",
              "1           0.0             1.0  82427.0     35.0                1.0   \n",
              "2           0.0             1.0  51651.0     32.0                8.0   \n",
              "3           1.0             1.0  69661.0     80.0                3.0   \n",
              "4           0.0             0.0  34176.0     12.0                6.0   \n",
              "...         ...             ...      ...      ...                ...   \n",
              "1544        2.0             0.0  47025.0      6.0                7.0   \n",
              "1545        0.0             1.0  34600.0      8.0                8.0   \n",
              "1546        0.0             1.0  18793.0     14.0                8.0   \n",
              "1547        1.0             1.0  23148.0     83.0                7.0   \n",
              "1548        2.0             1.0  67546.0     90.0                3.0   \n",
              "\n",
              "      AcceptedCmp3  AcceptedCmp4  AcceptedCmp5  AcceptedCmp1  AcceptedCmp2  \\\n",
              "0              0.0           1.0           0.0           0.0           0.0   \n",
              "1              0.0           0.0           1.0           0.0           0.0   \n",
              "2              0.0           0.0           0.0           0.0           0.0   \n",
              "3              0.0           0.0           0.0           0.0           0.0   \n",
              "4              0.0           0.0           0.0           0.0           0.0   \n",
              "...            ...           ...           ...           ...           ...   \n",
              "1544           0.0           0.0           0.0           0.0           0.0   \n",
              "1545           0.0           0.0           0.0           0.0           0.0   \n",
              "1546           0.0           0.0           0.0           0.0           0.0   \n",
              "1547           0.0           0.0           0.0           0.0           0.0   \n",
              "1548           0.0           0.0           0.0           0.0           0.0   \n",
              "\n",
              "      Complain   Age  Children  TotalSpendings  TotalPurchases  Response  \n",
              "0          0.0  49.0       1.0          1371.0            19.0         0  \n",
              "1          0.0  49.0       0.0          1456.0            20.0         0  \n",
              "2          0.0  55.0       1.0           433.0            13.0         0  \n",
              "3          0.0  35.0       0.0           834.0            22.0         0  \n",
              "4          0.0  27.0       1.0            89.0             7.0         0  \n",
              "...        ...   ...       ...             ...             ...       ...  \n",
              "1544       0.0  50.0       2.0            20.0             3.0         0  \n",
              "1545       0.0  44.0       2.0           318.0            12.0         1  \n",
              "1546       0.0  44.0       1.0            77.0             6.0         0  \n",
              "1547       0.0  30.0       0.0            37.0             5.0         0  \n",
              "1548       0.0  27.0       0.0          2126.0            19.0         0  \n",
              "\n",
              "[1549 rows x 16 columns]"
            ],
            "text/html": [
              "\n",
              "  <div id=\"df-9bdbb3de-bda5-4144-b72d-f7b96d1ed97a\">\n",
              "    <div class=\"colab-df-container\">\n",
              "      <div>\n",
              "<style scoped>\n",
              "    .dataframe tbody tr th:only-of-type {\n",
              "        vertical-align: middle;\n",
              "    }\n",
              "\n",
              "    .dataframe tbody tr th {\n",
              "        vertical-align: top;\n",
              "    }\n",
              "\n",
              "    .dataframe thead th {\n",
              "        text-align: right;\n",
              "    }\n",
              "</style>\n",
              "<table border=\"1\" class=\"dataframe\">\n",
              "  <thead>\n",
              "    <tr style=\"text-align: right;\">\n",
              "      <th></th>\n",
              "      <th>Education</th>\n",
              "      <th>Marital_Status</th>\n",
              "      <th>Income</th>\n",
              "      <th>Recency</th>\n",
              "      <th>NumWebVisitsMonth</th>\n",
              "      <th>AcceptedCmp3</th>\n",
              "      <th>AcceptedCmp4</th>\n",
              "      <th>AcceptedCmp5</th>\n",
              "      <th>AcceptedCmp1</th>\n",
              "      <th>AcceptedCmp2</th>\n",
              "      <th>Complain</th>\n",
              "      <th>Age</th>\n",
              "      <th>Children</th>\n",
              "      <th>TotalSpendings</th>\n",
              "      <th>TotalPurchases</th>\n",
              "      <th>Response</th>\n",
              "    </tr>\n",
              "  </thead>\n",
              "  <tbody>\n",
              "    <tr>\n",
              "      <th>0</th>\n",
              "      <td>0.0</td>\n",
              "      <td>0.0</td>\n",
              "      <td>63810.0</td>\n",
              "      <td>45.0</td>\n",
              "      <td>8.0</td>\n",
              "      <td>0.0</td>\n",
              "      <td>1.0</td>\n",
              "      <td>0.0</td>\n",
              "      <td>0.0</td>\n",
              "      <td>0.0</td>\n",
              "      <td>0.0</td>\n",
              "      <td>49.0</td>\n",
              "      <td>1.0</td>\n",
              "      <td>1371.0</td>\n",
              "      <td>19.0</td>\n",
              "      <td>0</td>\n",
              "    </tr>\n",
              "    <tr>\n",
              "      <th>1</th>\n",
              "      <td>0.0</td>\n",
              "      <td>1.0</td>\n",
              "      <td>82427.0</td>\n",
              "      <td>35.0</td>\n",
              "      <td>1.0</td>\n",
              "      <td>0.0</td>\n",
              "      <td>0.0</td>\n",
              "      <td>1.0</td>\n",
              "      <td>0.0</td>\n",
              "      <td>0.0</td>\n",
              "      <td>0.0</td>\n",
              "      <td>49.0</td>\n",
              "      <td>0.0</td>\n",
              "      <td>1456.0</td>\n",
              "      <td>20.0</td>\n",
              "      <td>0</td>\n",
              "    </tr>\n",
              "    <tr>\n",
              "      <th>2</th>\n",
              "      <td>0.0</td>\n",
              "      <td>1.0</td>\n",
              "      <td>51651.0</td>\n",
              "      <td>32.0</td>\n",
              "      <td>8.0</td>\n",
              "      <td>0.0</td>\n",
              "      <td>0.0</td>\n",
              "      <td>0.0</td>\n",
              "      <td>0.0</td>\n",
              "      <td>0.0</td>\n",
              "      <td>0.0</td>\n",
              "      <td>55.0</td>\n",
              "      <td>1.0</td>\n",
              "      <td>433.0</td>\n",
              "      <td>13.0</td>\n",
              "      <td>0</td>\n",
              "    </tr>\n",
              "    <tr>\n",
              "      <th>3</th>\n",
              "      <td>1.0</td>\n",
              "      <td>1.0</td>\n",
              "      <td>69661.0</td>\n",
              "      <td>80.0</td>\n",
              "      <td>3.0</td>\n",
              "      <td>0.0</td>\n",
              "      <td>0.0</td>\n",
              "      <td>0.0</td>\n",
              "      <td>0.0</td>\n",
              "      <td>0.0</td>\n",
              "      <td>0.0</td>\n",
              "      <td>35.0</td>\n",
              "      <td>0.0</td>\n",
              "      <td>834.0</td>\n",
              "      <td>22.0</td>\n",
              "      <td>0</td>\n",
              "    </tr>\n",
              "    <tr>\n",
              "      <th>4</th>\n",
              "      <td>0.0</td>\n",
              "      <td>0.0</td>\n",
              "      <td>34176.0</td>\n",
              "      <td>12.0</td>\n",
              "      <td>6.0</td>\n",
              "      <td>0.0</td>\n",
              "      <td>0.0</td>\n",
              "      <td>0.0</td>\n",
              "      <td>0.0</td>\n",
              "      <td>0.0</td>\n",
              "      <td>0.0</td>\n",
              "      <td>27.0</td>\n",
              "      <td>1.0</td>\n",
              "      <td>89.0</td>\n",
              "      <td>7.0</td>\n",
              "      <td>0</td>\n",
              "    </tr>\n",
              "    <tr>\n",
              "      <th>...</th>\n",
              "      <td>...</td>\n",
              "      <td>...</td>\n",
              "      <td>...</td>\n",
              "      <td>...</td>\n",
              "      <td>...</td>\n",
              "      <td>...</td>\n",
              "      <td>...</td>\n",
              "      <td>...</td>\n",
              "      <td>...</td>\n",
              "      <td>...</td>\n",
              "      <td>...</td>\n",
              "      <td>...</td>\n",
              "      <td>...</td>\n",
              "      <td>...</td>\n",
              "      <td>...</td>\n",
              "      <td>...</td>\n",
              "    </tr>\n",
              "    <tr>\n",
              "      <th>1544</th>\n",
              "      <td>2.0</td>\n",
              "      <td>0.0</td>\n",
              "      <td>47025.0</td>\n",
              "      <td>6.0</td>\n",
              "      <td>7.0</td>\n",
              "      <td>0.0</td>\n",
              "      <td>0.0</td>\n",
              "      <td>0.0</td>\n",
              "      <td>0.0</td>\n",
              "      <td>0.0</td>\n",
              "      <td>0.0</td>\n",
              "      <td>50.0</td>\n",
              "      <td>2.0</td>\n",
              "      <td>20.0</td>\n",
              "      <td>3.0</td>\n",
              "      <td>0</td>\n",
              "    </tr>\n",
              "    <tr>\n",
              "      <th>1545</th>\n",
              "      <td>0.0</td>\n",
              "      <td>1.0</td>\n",
              "      <td>34600.0</td>\n",
              "      <td>8.0</td>\n",
              "      <td>8.0</td>\n",
              "      <td>0.0</td>\n",
              "      <td>0.0</td>\n",
              "      <td>0.0</td>\n",
              "      <td>0.0</td>\n",
              "      <td>0.0</td>\n",
              "      <td>0.0</td>\n",
              "      <td>44.0</td>\n",
              "      <td>2.0</td>\n",
              "      <td>318.0</td>\n",
              "      <td>12.0</td>\n",
              "      <td>1</td>\n",
              "    </tr>\n",
              "    <tr>\n",
              "      <th>1546</th>\n",
              "      <td>0.0</td>\n",
              "      <td>1.0</td>\n",
              "      <td>18793.0</td>\n",
              "      <td>14.0</td>\n",
              "      <td>8.0</td>\n",
              "      <td>0.0</td>\n",
              "      <td>0.0</td>\n",
              "      <td>0.0</td>\n",
              "      <td>0.0</td>\n",
              "      <td>0.0</td>\n",
              "      <td>0.0</td>\n",
              "      <td>44.0</td>\n",
              "      <td>1.0</td>\n",
              "      <td>77.0</td>\n",
              "      <td>6.0</td>\n",
              "      <td>0</td>\n",
              "    </tr>\n",
              "    <tr>\n",
              "      <th>1547</th>\n",
              "      <td>1.0</td>\n",
              "      <td>1.0</td>\n",
              "      <td>23148.0</td>\n",
              "      <td>83.0</td>\n",
              "      <td>7.0</td>\n",
              "      <td>0.0</td>\n",
              "      <td>0.0</td>\n",
              "      <td>0.0</td>\n",
              "      <td>0.0</td>\n",
              "      <td>0.0</td>\n",
              "      <td>0.0</td>\n",
              "      <td>30.0</td>\n",
              "      <td>0.0</td>\n",
              "      <td>37.0</td>\n",
              "      <td>5.0</td>\n",
              "      <td>0</td>\n",
              "    </tr>\n",
              "    <tr>\n",
              "      <th>1548</th>\n",
              "      <td>2.0</td>\n",
              "      <td>1.0</td>\n",
              "      <td>67546.0</td>\n",
              "      <td>90.0</td>\n",
              "      <td>3.0</td>\n",
              "      <td>0.0</td>\n",
              "      <td>0.0</td>\n",
              "      <td>0.0</td>\n",
              "      <td>0.0</td>\n",
              "      <td>0.0</td>\n",
              "      <td>0.0</td>\n",
              "      <td>27.0</td>\n",
              "      <td>0.0</td>\n",
              "      <td>2126.0</td>\n",
              "      <td>19.0</td>\n",
              "      <td>0</td>\n",
              "    </tr>\n",
              "  </tbody>\n",
              "</table>\n",
              "<p>1549 rows × 16 columns</p>\n",
              "</div>\n",
              "      <button class=\"colab-df-convert\" onclick=\"convertToInteractive('df-9bdbb3de-bda5-4144-b72d-f7b96d1ed97a')\"\n",
              "              title=\"Convert this dataframe to an interactive table.\"\n",
              "              style=\"display:none;\">\n",
              "        \n",
              "  <svg xmlns=\"http://www.w3.org/2000/svg\" height=\"24px\"viewBox=\"0 0 24 24\"\n",
              "       width=\"24px\">\n",
              "    <path d=\"M0 0h24v24H0V0z\" fill=\"none\"/>\n",
              "    <path d=\"M18.56 5.44l.94 2.06.94-2.06 2.06-.94-2.06-.94-.94-2.06-.94 2.06-2.06.94zm-11 1L8.5 8.5l.94-2.06 2.06-.94-2.06-.94L8.5 2.5l-.94 2.06-2.06.94zm10 10l.94 2.06.94-2.06 2.06-.94-2.06-.94-.94-2.06-.94 2.06-2.06.94z\"/><path d=\"M17.41 7.96l-1.37-1.37c-.4-.4-.92-.59-1.43-.59-.52 0-1.04.2-1.43.59L10.3 9.45l-7.72 7.72c-.78.78-.78 2.05 0 2.83L4 21.41c.39.39.9.59 1.41.59.51 0 1.02-.2 1.41-.59l7.78-7.78 2.81-2.81c.8-.78.8-2.07 0-2.86zM5.41 20L4 18.59l7.72-7.72 1.47 1.35L5.41 20z\"/>\n",
              "  </svg>\n",
              "      </button>\n",
              "      \n",
              "  <style>\n",
              "    .colab-df-container {\n",
              "      display:flex;\n",
              "      flex-wrap:wrap;\n",
              "      gap: 12px;\n",
              "    }\n",
              "\n",
              "    .colab-df-convert {\n",
              "      background-color: #E8F0FE;\n",
              "      border: none;\n",
              "      border-radius: 50%;\n",
              "      cursor: pointer;\n",
              "      display: none;\n",
              "      fill: #1967D2;\n",
              "      height: 32px;\n",
              "      padding: 0 0 0 0;\n",
              "      width: 32px;\n",
              "    }\n",
              "\n",
              "    .colab-df-convert:hover {\n",
              "      background-color: #E2EBFA;\n",
              "      box-shadow: 0px 1px 2px rgba(60, 64, 67, 0.3), 0px 1px 3px 1px rgba(60, 64, 67, 0.15);\n",
              "      fill: #174EA6;\n",
              "    }\n",
              "\n",
              "    [theme=dark] .colab-df-convert {\n",
              "      background-color: #3B4455;\n",
              "      fill: #D2E3FC;\n",
              "    }\n",
              "\n",
              "    [theme=dark] .colab-df-convert:hover {\n",
              "      background-color: #434B5C;\n",
              "      box-shadow: 0px 1px 3px 1px rgba(0, 0, 0, 0.15);\n",
              "      filter: drop-shadow(0px 1px 2px rgba(0, 0, 0, 0.3));\n",
              "      fill: #FFFFFF;\n",
              "    }\n",
              "  </style>\n",
              "\n",
              "      <script>\n",
              "        const buttonEl =\n",
              "          document.querySelector('#df-9bdbb3de-bda5-4144-b72d-f7b96d1ed97a button.colab-df-convert');\n",
              "        buttonEl.style.display =\n",
              "          google.colab.kernel.accessAllowed ? 'block' : 'none';\n",
              "\n",
              "        async function convertToInteractive(key) {\n",
              "          const element = document.querySelector('#df-9bdbb3de-bda5-4144-b72d-f7b96d1ed97a');\n",
              "          const dataTable =\n",
              "            await google.colab.kernel.invokeFunction('convertToInteractive',\n",
              "                                                     [key], {});\n",
              "          if (!dataTable) return;\n",
              "\n",
              "          const docLinkHtml = 'Like what you see? Visit the ' +\n",
              "            '<a target=\"_blank\" href=https://colab.research.google.com/notebooks/data_table.ipynb>data table notebook</a>'\n",
              "            + ' to learn more about interactive tables.';\n",
              "          element.innerHTML = '';\n",
              "          dataTable['output_type'] = 'display_data';\n",
              "          await google.colab.output.renderOutput(dataTable, element);\n",
              "          const docLink = document.createElement('div');\n",
              "          docLink.innerHTML = docLinkHtml;\n",
              "          element.appendChild(docLink);\n",
              "        }\n",
              "      </script>\n",
              "    </div>\n",
              "  </div>\n",
              "  "
            ]
          },
          "metadata": {},
          "execution_count": 45
        }
      ]
    },
    {
      "cell_type": "code",
      "source": [
        "test_df"
      ],
      "metadata": {
        "colab": {
          "base_uri": "https://localhost:8080/",
          "height": 488
        },
        "id": "PrrMjlixF6Kz",
        "outputId": "4bb8fa14-b978-41e0-9791-b9241b9c7b66"
      },
      "execution_count": 46,
      "outputs": [
        {
          "output_type": "execute_result",
          "data": {
            "text/plain": [
              "     Education  Marital_Status   Income  Recency  NumWebVisitsMonth  \\\n",
              "0          2.0             0.0  49667.0     35.0                8.0   \n",
              "1          0.0             1.0  61014.0     17.0                7.0   \n",
              "2          1.0             1.0  90226.0     26.0                2.0   \n",
              "3          0.0             0.0  93790.0     16.0                2.0   \n",
              "4          2.0             1.0  54549.0      8.0                7.0   \n",
              "..         ...             ...      ...      ...                ...   \n",
              "659        0.0             0.0  79244.0     58.0                1.0   \n",
              "660        2.0             1.0  68682.0     56.0                2.0   \n",
              "661        2.0             1.0  30396.0     22.0                7.0   \n",
              "662        1.0             1.0  35178.0     10.0                7.0   \n",
              "663        2.0             1.0  37717.0     31.0                9.0   \n",
              "\n",
              "     AcceptedCmp3  AcceptedCmp4  AcceptedCmp5  AcceptedCmp1  AcceptedCmp2  \\\n",
              "0             1.0           0.0           0.0           0.0           0.0   \n",
              "1             0.0           0.0           0.0           0.0           0.0   \n",
              "2             0.0           0.0           0.0           1.0           0.0   \n",
              "3             0.0           1.0           1.0           1.0           0.0   \n",
              "4             0.0           0.0           0.0           0.0           0.0   \n",
              "..            ...           ...           ...           ...           ...   \n",
              "659           0.0           0.0           1.0           1.0           0.0   \n",
              "660           0.0           0.0           0.0           0.0           0.0   \n",
              "661           1.0           0.0           0.0           0.0           0.0   \n",
              "662           1.0           0.0           0.0           0.0           0.0   \n",
              "663           0.0           0.0           0.0           0.0           0.0   \n",
              "\n",
              "     Complain   Age  Children  TotalSpendings  TotalPurchases  Response  \n",
              "0         0.0  60.0       0.0          1396.0            20.0         1  \n",
              "1         0.0  35.0       1.0          1147.0            16.0         0  \n",
              "2         0.0  59.0       0.0          2352.0            23.0         0  \n",
              "3         0.0  45.0       0.0          2349.0            25.0         1  \n",
              "4         0.0  63.0       1.0           233.0            10.0         0  \n",
              "..        ...   ...       ...             ...             ...       ...  \n",
              "659       0.0  22.0       0.0          1216.0            21.0         1  \n",
              "660       0.0  24.0       0.0          1598.0            23.0         0  \n",
              "661       0.0  46.0       1.0            34.0             4.0         1  \n",
              "662       0.0  44.0       1.0            59.0             4.0         1  \n",
              "663       0.0  37.0       1.0            25.0             3.0         0  \n",
              "\n",
              "[664 rows x 16 columns]"
            ],
            "text/html": [
              "\n",
              "  <div id=\"df-e63c71d0-ecb7-40fe-b884-627b60524b54\">\n",
              "    <div class=\"colab-df-container\">\n",
              "      <div>\n",
              "<style scoped>\n",
              "    .dataframe tbody tr th:only-of-type {\n",
              "        vertical-align: middle;\n",
              "    }\n",
              "\n",
              "    .dataframe tbody tr th {\n",
              "        vertical-align: top;\n",
              "    }\n",
              "\n",
              "    .dataframe thead th {\n",
              "        text-align: right;\n",
              "    }\n",
              "</style>\n",
              "<table border=\"1\" class=\"dataframe\">\n",
              "  <thead>\n",
              "    <tr style=\"text-align: right;\">\n",
              "      <th></th>\n",
              "      <th>Education</th>\n",
              "      <th>Marital_Status</th>\n",
              "      <th>Income</th>\n",
              "      <th>Recency</th>\n",
              "      <th>NumWebVisitsMonth</th>\n",
              "      <th>AcceptedCmp3</th>\n",
              "      <th>AcceptedCmp4</th>\n",
              "      <th>AcceptedCmp5</th>\n",
              "      <th>AcceptedCmp1</th>\n",
              "      <th>AcceptedCmp2</th>\n",
              "      <th>Complain</th>\n",
              "      <th>Age</th>\n",
              "      <th>Children</th>\n",
              "      <th>TotalSpendings</th>\n",
              "      <th>TotalPurchases</th>\n",
              "      <th>Response</th>\n",
              "    </tr>\n",
              "  </thead>\n",
              "  <tbody>\n",
              "    <tr>\n",
              "      <th>0</th>\n",
              "      <td>2.0</td>\n",
              "      <td>0.0</td>\n",
              "      <td>49667.0</td>\n",
              "      <td>35.0</td>\n",
              "      <td>8.0</td>\n",
              "      <td>1.0</td>\n",
              "      <td>0.0</td>\n",
              "      <td>0.0</td>\n",
              "      <td>0.0</td>\n",
              "      <td>0.0</td>\n",
              "      <td>0.0</td>\n",
              "      <td>60.0</td>\n",
              "      <td>0.0</td>\n",
              "      <td>1396.0</td>\n",
              "      <td>20.0</td>\n",
              "      <td>1</td>\n",
              "    </tr>\n",
              "    <tr>\n",
              "      <th>1</th>\n",
              "      <td>0.0</td>\n",
              "      <td>1.0</td>\n",
              "      <td>61014.0</td>\n",
              "      <td>17.0</td>\n",
              "      <td>7.0</td>\n",
              "      <td>0.0</td>\n",
              "      <td>0.0</td>\n",
              "      <td>0.0</td>\n",
              "      <td>0.0</td>\n",
              "      <td>0.0</td>\n",
              "      <td>0.0</td>\n",
              "      <td>35.0</td>\n",
              "      <td>1.0</td>\n",
              "      <td>1147.0</td>\n",
              "      <td>16.0</td>\n",
              "      <td>0</td>\n",
              "    </tr>\n",
              "    <tr>\n",
              "      <th>2</th>\n",
              "      <td>1.0</td>\n",
              "      <td>1.0</td>\n",
              "      <td>90226.0</td>\n",
              "      <td>26.0</td>\n",
              "      <td>2.0</td>\n",
              "      <td>0.0</td>\n",
              "      <td>0.0</td>\n",
              "      <td>0.0</td>\n",
              "      <td>1.0</td>\n",
              "      <td>0.0</td>\n",
              "      <td>0.0</td>\n",
              "      <td>59.0</td>\n",
              "      <td>0.0</td>\n",
              "      <td>2352.0</td>\n",
              "      <td>23.0</td>\n",
              "      <td>0</td>\n",
              "    </tr>\n",
              "    <tr>\n",
              "      <th>3</th>\n",
              "      <td>0.0</td>\n",
              "      <td>0.0</td>\n",
              "      <td>93790.0</td>\n",
              "      <td>16.0</td>\n",
              "      <td>2.0</td>\n",
              "      <td>0.0</td>\n",
              "      <td>1.0</td>\n",
              "      <td>1.0</td>\n",
              "      <td>1.0</td>\n",
              "      <td>0.0</td>\n",
              "      <td>0.0</td>\n",
              "      <td>45.0</td>\n",
              "      <td>0.0</td>\n",
              "      <td>2349.0</td>\n",
              "      <td>25.0</td>\n",
              "      <td>1</td>\n",
              "    </tr>\n",
              "    <tr>\n",
              "      <th>4</th>\n",
              "      <td>2.0</td>\n",
              "      <td>1.0</td>\n",
              "      <td>54549.0</td>\n",
              "      <td>8.0</td>\n",
              "      <td>7.0</td>\n",
              "      <td>0.0</td>\n",
              "      <td>0.0</td>\n",
              "      <td>0.0</td>\n",
              "      <td>0.0</td>\n",
              "      <td>0.0</td>\n",
              "      <td>0.0</td>\n",
              "      <td>63.0</td>\n",
              "      <td>1.0</td>\n",
              "      <td>233.0</td>\n",
              "      <td>10.0</td>\n",
              "      <td>0</td>\n",
              "    </tr>\n",
              "    <tr>\n",
              "      <th>...</th>\n",
              "      <td>...</td>\n",
              "      <td>...</td>\n",
              "      <td>...</td>\n",
              "      <td>...</td>\n",
              "      <td>...</td>\n",
              "      <td>...</td>\n",
              "      <td>...</td>\n",
              "      <td>...</td>\n",
              "      <td>...</td>\n",
              "      <td>...</td>\n",
              "      <td>...</td>\n",
              "      <td>...</td>\n",
              "      <td>...</td>\n",
              "      <td>...</td>\n",
              "      <td>...</td>\n",
              "      <td>...</td>\n",
              "    </tr>\n",
              "    <tr>\n",
              "      <th>659</th>\n",
              "      <td>0.0</td>\n",
              "      <td>0.0</td>\n",
              "      <td>79244.0</td>\n",
              "      <td>58.0</td>\n",
              "      <td>1.0</td>\n",
              "      <td>0.0</td>\n",
              "      <td>0.0</td>\n",
              "      <td>1.0</td>\n",
              "      <td>1.0</td>\n",
              "      <td>0.0</td>\n",
              "      <td>0.0</td>\n",
              "      <td>22.0</td>\n",
              "      <td>0.0</td>\n",
              "      <td>1216.0</td>\n",
              "      <td>21.0</td>\n",
              "      <td>1</td>\n",
              "    </tr>\n",
              "    <tr>\n",
              "      <th>660</th>\n",
              "      <td>2.0</td>\n",
              "      <td>1.0</td>\n",
              "      <td>68682.0</td>\n",
              "      <td>56.0</td>\n",
              "      <td>2.0</td>\n",
              "      <td>0.0</td>\n",
              "      <td>0.0</td>\n",
              "      <td>0.0</td>\n",
              "      <td>0.0</td>\n",
              "      <td>0.0</td>\n",
              "      <td>0.0</td>\n",
              "      <td>24.0</td>\n",
              "      <td>0.0</td>\n",
              "      <td>1598.0</td>\n",
              "      <td>23.0</td>\n",
              "      <td>0</td>\n",
              "    </tr>\n",
              "    <tr>\n",
              "      <th>661</th>\n",
              "      <td>2.0</td>\n",
              "      <td>1.0</td>\n",
              "      <td>30396.0</td>\n",
              "      <td>22.0</td>\n",
              "      <td>7.0</td>\n",
              "      <td>1.0</td>\n",
              "      <td>0.0</td>\n",
              "      <td>0.0</td>\n",
              "      <td>0.0</td>\n",
              "      <td>0.0</td>\n",
              "      <td>0.0</td>\n",
              "      <td>46.0</td>\n",
              "      <td>1.0</td>\n",
              "      <td>34.0</td>\n",
              "      <td>4.0</td>\n",
              "      <td>1</td>\n",
              "    </tr>\n",
              "    <tr>\n",
              "      <th>662</th>\n",
              "      <td>1.0</td>\n",
              "      <td>1.0</td>\n",
              "      <td>35178.0</td>\n",
              "      <td>10.0</td>\n",
              "      <td>7.0</td>\n",
              "      <td>1.0</td>\n",
              "      <td>0.0</td>\n",
              "      <td>0.0</td>\n",
              "      <td>0.0</td>\n",
              "      <td>0.0</td>\n",
              "      <td>0.0</td>\n",
              "      <td>44.0</td>\n",
              "      <td>1.0</td>\n",
              "      <td>59.0</td>\n",
              "      <td>4.0</td>\n",
              "      <td>1</td>\n",
              "    </tr>\n",
              "    <tr>\n",
              "      <th>663</th>\n",
              "      <td>2.0</td>\n",
              "      <td>1.0</td>\n",
              "      <td>37717.0</td>\n",
              "      <td>31.0</td>\n",
              "      <td>9.0</td>\n",
              "      <td>0.0</td>\n",
              "      <td>0.0</td>\n",
              "      <td>0.0</td>\n",
              "      <td>0.0</td>\n",
              "      <td>0.0</td>\n",
              "      <td>0.0</td>\n",
              "      <td>37.0</td>\n",
              "      <td>1.0</td>\n",
              "      <td>25.0</td>\n",
              "      <td>3.0</td>\n",
              "      <td>0</td>\n",
              "    </tr>\n",
              "  </tbody>\n",
              "</table>\n",
              "<p>664 rows × 16 columns</p>\n",
              "</div>\n",
              "      <button class=\"colab-df-convert\" onclick=\"convertToInteractive('df-e63c71d0-ecb7-40fe-b884-627b60524b54')\"\n",
              "              title=\"Convert this dataframe to an interactive table.\"\n",
              "              style=\"display:none;\">\n",
              "        \n",
              "  <svg xmlns=\"http://www.w3.org/2000/svg\" height=\"24px\"viewBox=\"0 0 24 24\"\n",
              "       width=\"24px\">\n",
              "    <path d=\"M0 0h24v24H0V0z\" fill=\"none\"/>\n",
              "    <path d=\"M18.56 5.44l.94 2.06.94-2.06 2.06-.94-2.06-.94-.94-2.06-.94 2.06-2.06.94zm-11 1L8.5 8.5l.94-2.06 2.06-.94-2.06-.94L8.5 2.5l-.94 2.06-2.06.94zm10 10l.94 2.06.94-2.06 2.06-.94-2.06-.94-.94-2.06-.94 2.06-2.06.94z\"/><path d=\"M17.41 7.96l-1.37-1.37c-.4-.4-.92-.59-1.43-.59-.52 0-1.04.2-1.43.59L10.3 9.45l-7.72 7.72c-.78.78-.78 2.05 0 2.83L4 21.41c.39.39.9.59 1.41.59.51 0 1.02-.2 1.41-.59l7.78-7.78 2.81-2.81c.8-.78.8-2.07 0-2.86zM5.41 20L4 18.59l7.72-7.72 1.47 1.35L5.41 20z\"/>\n",
              "  </svg>\n",
              "      </button>\n",
              "      \n",
              "  <style>\n",
              "    .colab-df-container {\n",
              "      display:flex;\n",
              "      flex-wrap:wrap;\n",
              "      gap: 12px;\n",
              "    }\n",
              "\n",
              "    .colab-df-convert {\n",
              "      background-color: #E8F0FE;\n",
              "      border: none;\n",
              "      border-radius: 50%;\n",
              "      cursor: pointer;\n",
              "      display: none;\n",
              "      fill: #1967D2;\n",
              "      height: 32px;\n",
              "      padding: 0 0 0 0;\n",
              "      width: 32px;\n",
              "    }\n",
              "\n",
              "    .colab-df-convert:hover {\n",
              "      background-color: #E2EBFA;\n",
              "      box-shadow: 0px 1px 2px rgba(60, 64, 67, 0.3), 0px 1px 3px 1px rgba(60, 64, 67, 0.15);\n",
              "      fill: #174EA6;\n",
              "    }\n",
              "\n",
              "    [theme=dark] .colab-df-convert {\n",
              "      background-color: #3B4455;\n",
              "      fill: #D2E3FC;\n",
              "    }\n",
              "\n",
              "    [theme=dark] .colab-df-convert:hover {\n",
              "      background-color: #434B5C;\n",
              "      box-shadow: 0px 1px 3px 1px rgba(0, 0, 0, 0.15);\n",
              "      filter: drop-shadow(0px 1px 2px rgba(0, 0, 0, 0.3));\n",
              "      fill: #FFFFFF;\n",
              "    }\n",
              "  </style>\n",
              "\n",
              "      <script>\n",
              "        const buttonEl =\n",
              "          document.querySelector('#df-e63c71d0-ecb7-40fe-b884-627b60524b54 button.colab-df-convert');\n",
              "        buttonEl.style.display =\n",
              "          google.colab.kernel.accessAllowed ? 'block' : 'none';\n",
              "\n",
              "        async function convertToInteractive(key) {\n",
              "          const element = document.querySelector('#df-e63c71d0-ecb7-40fe-b884-627b60524b54');\n",
              "          const dataTable =\n",
              "            await google.colab.kernel.invokeFunction('convertToInteractive',\n",
              "                                                     [key], {});\n",
              "          if (!dataTable) return;\n",
              "\n",
              "          const docLinkHtml = 'Like what you see? Visit the ' +\n",
              "            '<a target=\"_blank\" href=https://colab.research.google.com/notebooks/data_table.ipynb>data table notebook</a>'\n",
              "            + ' to learn more about interactive tables.';\n",
              "          element.innerHTML = '';\n",
              "          dataTable['output_type'] = 'display_data';\n",
              "          await google.colab.output.renderOutput(dataTable, element);\n",
              "          const docLink = document.createElement('div');\n",
              "          docLink.innerHTML = docLinkHtml;\n",
              "          element.appendChild(docLink);\n",
              "        }\n",
              "      </script>\n",
              "    </div>\n",
              "  </div>\n",
              "  "
            ]
          },
          "metadata": {},
          "execution_count": 46
        }
      ]
    },
    {
      "cell_type": "markdown",
      "source": [
        "# **Pre-processing**"
      ],
      "metadata": {
        "id": "UHN6_i1lF_Of"
      }
    },
    {
      "cell_type": "markdown",
      "source": [
        "**Outlier Handling**"
      ],
      "metadata": {
        "id": "41Wz0CK9GA56"
      }
    },
    {
      "cell_type": "markdown",
      "source": [
        "From EDA we know that there is outlier on Income and Spendings, we need to remove the outlier from these features"
      ],
      "metadata": {
        "id": "UR-3Y2czGFKt"
      }
    },
    {
      "cell_type": "code",
      "source": [
        "# Checking train_df income outlier\n",
        "plt.figure(figsize=(3,5))\n",
        "sns.boxplot(y=train_df['Income']);\n",
        "plt.ylabel('Income', fontsize=10, labelpad=10);"
      ],
      "metadata": {
        "colab": {
          "base_uri": "https://localhost:8080/",
          "height": 306
        },
        "id": "SGq5H2zdGG-X",
        "outputId": "bba0c55d-e068-4662-b95f-df883ebbe1bf"
      },
      "execution_count": 47,
      "outputs": [
        {
          "output_type": "display_data",
          "data": {
            "text/plain": [
              "<Figure size 216x360 with 1 Axes>"
            ],
            "image/png": "[encoded data removed]"
          },
          "metadata": {
            "needs_background": "light"
          }
        }
      ]
    },
    {
      "cell_type": "code",
      "source": [
        "# Checking train_df income outlier\n",
        "plt.figure(figsize=(3,5))\n",
        "sns.boxplot(y=test_df['Income']);\n",
        "plt.ylabel('Income', fontsize=10, labelpad=10);"
      ],
      "metadata": {
        "colab": {
          "base_uri": "https://localhost:8080/",
          "height": 306
        },
        "id": "UEGx5GaCGLLf",
        "outputId": "53d49f6c-e5fd-4fc8-9bd2-35b2ad7b2b38"
      },
      "execution_count": 48,
      "outputs": [
        {
          "output_type": "display_data",
          "data": {
            "text/plain": [
              "<Figure size 216x360 with 1 Axes>"
            ],
            "image/png": "[encoded data removed]"
          },
          "metadata": {
            "needs_background": "light"
          }
        }
      ]
    },
    {
      "cell_type": "code",
      "source": [
        "# Remove outlier on both dataset\n",
        "train_df = train_df[train_df['Income'] < 120000]"
      ],
      "metadata": {
        "id": "XL1pycdwInUF"
      },
      "execution_count": 62,
      "outputs": []
    },
    {
      "cell_type": "code",
      "source": [
        "# Checking train_df spendings outlier\n",
        "plt.figure(figsize=(3,5))\n",
        "sns.boxplot(y=train_df['TotalSpendings']);\n",
        "plt.ylabel('TotalSpendings', fontsize=10, labelpad=10);"
      ],
      "metadata": {
        "colab": {
          "base_uri": "https://localhost:8080/",
          "height": 306
        },
        "id": "0IHpXPGwIqWB",
        "outputId": "1d18e1fe-6bfb-43ed-e91b-7057b89919ce"
      },
      "execution_count": 63,
      "outputs": [
        {
          "output_type": "display_data",
          "data": {
            "text/plain": [
              "<Figure size 216x360 with 1 Axes>"
            ],
            "image/png": "[encoded data removed]"
          },
          "metadata": {
            "needs_background": "light"
          }
        }
      ]
    },
    {
      "cell_type": "code",
      "source": [
        "# Checking test_df spendings outlier\n",
        "plt.figure(figsize=(3,5))\n",
        "sns.boxplot(y=test_df['TotalSpendings']);\n",
        "plt.ylabel('TotalSpendings', fontsize=10, labelpad=10);"
      ],
      "metadata": {
        "colab": {
          "base_uri": "https://localhost:8080/",
          "height": 306
        },
        "id": "ZgHGujCRIuRn",
        "outputId": "ef0a6d1f-e96e-4e54-bc87-518511003469"
      },
      "execution_count": 64,
      "outputs": [
        {
          "output_type": "display_data",
          "data": {
            "text/plain": [
              "<Figure size 216x360 with 1 Axes>"
            ],
            "image/png": "[encoded data removed]"
          },
          "metadata": {
            "needs_background": "light"
          }
        }
      ]
    },
    {
      "cell_type": "code",
      "source": [
        "# Remove outlier on test dataset\n",
        "train_df = test_df[test_df['TotalSpendings'] < 2400]"
      ],
      "metadata": {
        "id": "R_Om13qUIxtU"
      },
      "execution_count": 65,
      "outputs": []
    },
    {
      "cell_type": "markdown",
      "source": [
        "# **Normalization**"
      ],
      "metadata": {
        "id": "yFtwIpFuI01B"
      }
    },
    {
      "cell_type": "markdown",
      "source": [
        "Also, there is some feature that have numerical feature with high value. For these we will use normalization to tranform the feature into 0~1 range"
      ],
      "metadata": {
        "id": "W_iPLaK9JQaH"
      }
    },
    {
      "cell_type": "code",
      "source": [
        "# Transform data using normalization\n",
        "col_trans = df.columns\n",
        "scaler = MinMaxScaler()\n",
        "train_df[col_trans] = scaler.fit(train_df).transform(train_df[col_trans])\n",
        "test_df[col_trans] = scaler.transform(train_df[col_trans])"
      ],
      "metadata": {
        "id": "S-h1QSJDJYsS"
      },
      "execution_count": 66,
      "outputs": []
    },
    {
      "cell_type": "code",
      "source": [
        "# Check train df\n",
        "train_df"
      ],
      "metadata": {
        "colab": {
          "base_uri": "https://localhost:8080/",
          "height": 488
        },
        "id": "1jmJ1oSpRzia",
        "outputId": "582554ec-475b-4f53-8cf3-6ddbeb9676ea"
      },
      "execution_count": 67,
      "outputs": [
        {
          "output_type": "execute_result",
          "data": {
            "text/plain": [
              "     Education  Marital_Status    Income   Recency  NumWebVisitsMonth  \\\n",
              "0          1.0             0.0  0.484517  0.353535           0.368421   \n",
              "1          0.0             1.0  0.612056  0.171717           0.315789   \n",
              "2          0.5             1.0  0.940395  0.262626           0.052632   \n",
              "3          0.0             0.0  0.980454  0.161616           0.052632   \n",
              "4          1.0             1.0  0.539390  0.080808           0.315789   \n",
              "..         ...             ...       ...       ...                ...   \n",
              "659        0.0             0.0  0.816959  0.585859           0.000000   \n",
              "660        1.0             1.0  0.698243  0.565657           0.052632   \n",
              "661        1.0             1.0  0.267914  0.222222           0.315789   \n",
              "662        0.5             1.0  0.321663  0.101010           0.315789   \n",
              "663        1.0             1.0  0.350201  0.313131           0.421053   \n",
              "\n",
              "     AcceptedCmp3  AcceptedCmp4  AcceptedCmp5  AcceptedCmp1  AcceptedCmp2  \\\n",
              "0             1.0           0.0           0.0           0.0           0.0   \n",
              "1             0.0           0.0           0.0           0.0           0.0   \n",
              "2             0.0           0.0           0.0           1.0           0.0   \n",
              "3             0.0           1.0           1.0           1.0           0.0   \n",
              "4             0.0           0.0           0.0           0.0           0.0   \n",
              "..            ...           ...           ...           ...           ...   \n",
              "659           0.0           0.0           1.0           1.0           0.0   \n",
              "660           0.0           0.0           0.0           0.0           0.0   \n",
              "661           1.0           0.0           0.0           0.0           0.0   \n",
              "662           1.0           0.0           0.0           0.0           0.0   \n",
              "663           0.0           0.0           0.0           0.0           0.0   \n",
              "\n",
              "     Complain       Age  Children  TotalSpendings  TotalPurchases  Response  \n",
              "0         0.0  0.773585  0.000000        0.592150        0.612903       1.0  \n",
              "1         0.0  0.301887  0.333333        0.485922        0.483871       0.0  \n",
              "2         0.0  0.754717  0.000000        1.000000        0.709677       0.0  \n",
              "3         0.0  0.490566  0.000000        0.998720        0.774194       1.0  \n",
              "4         0.0  0.830189  0.333333        0.095990        0.290323       0.0  \n",
              "..        ...       ...       ...             ...             ...       ...  \n",
              "659       0.0  0.056604  0.000000        0.515358        0.645161       1.0  \n",
              "660       0.0  0.094340  0.000000        0.678328        0.709677       0.0  \n",
              "661       0.0  0.509434  0.333333        0.011092        0.096774       1.0  \n",
              "662       0.0  0.471698  0.333333        0.021758        0.096774       1.0  \n",
              "663       0.0  0.339623  0.333333        0.007253        0.064516       0.0  \n",
              "\n",
              "[662 rows x 16 columns]"
            ],
            "text/html": [
              "\n",
              "  <div id=\"df-b1dbf05f-0a62-4100-93c1-7b89ef9d7538\">\n",
              "    <div class=\"colab-df-container\">\n",
              "      <div>\n",
              "<style scoped>\n",
              "    .dataframe tbody tr th:only-of-type {\n",
              "        vertical-align: middle;\n",
              "    }\n",
              "\n",
              "    .dataframe tbody tr th {\n",
              "        vertical-align: top;\n",
              "    }\n",
              "\n",
              "    .dataframe thead th {\n",
              "        text-align: right;\n",
              "    }\n",
              "</style>\n",
              "<table border=\"1\" class=\"dataframe\">\n",
              "  <thead>\n",
              "    <tr style=\"text-align: right;\">\n",
              "      <th></th>\n",
              "      <th>Education</th>\n",
              "      <th>Marital_Status</th>\n",
              "      <th>Income</th>\n",
              "      <th>Recency</th>\n",
              "      <th>NumWebVisitsMonth</th>\n",
              "      <th>AcceptedCmp3</th>\n",
              "      <th>AcceptedCmp4</th>\n",
              "      <th>AcceptedCmp5</th>\n",
              "      <th>AcceptedCmp1</th>\n",
              "      <th>AcceptedCmp2</th>\n",
              "      <th>Complain</th>\n",
              "      <th>Age</th>\n",
              "      <th>Children</th>\n",
              "      <th>TotalSpendings</th>\n",
              "      <th>TotalPurchases</th>\n",
              "      <th>Response</th>\n",
              "    </tr>\n",
              "  </thead>\n",
              "  <tbody>\n",
              "    <tr>\n",
              "      <th>0</th>\n",
              "      <td>1.0</td>\n",
              "      <td>0.0</td>\n",
              "      <td>0.484517</td>\n",
              "      <td>0.353535</td>\n",
              "      <td>0.368421</td>\n",
              "      <td>1.0</td>\n",
              "      <td>0.0</td>\n",
              "      <td>0.0</td>\n",
              "      <td>0.0</td>\n",
              "      <td>0.0</td>\n",
              "      <td>0.0</td>\n",
              "      <td>0.773585</td>\n",
              "      <td>0.000000</td>\n",
              "      <td>0.592150</td>\n",
              "      <td>0.612903</td>\n",
              "      <td>1.0</td>\n",
              "    </tr>\n",
              "    <tr>\n",
              "      <th>1</th>\n",
              "      <td>0.0</td>\n",
              "      <td>1.0</td>\n",
              "      <td>0.612056</td>\n",
              "      <td>0.171717</td>\n",
              "      <td>0.315789</td>\n",
              "      <td>0.0</td>\n",
              "      <td>0.0</td>\n",
              "      <td>0.0</td>\n",
              "      <td>0.0</td>\n",
              "      <td>0.0</td>\n",
              "      <td>0.0</td>\n",
              "      <td>0.301887</td>\n",
              "      <td>0.333333</td>\n",
              "      <td>0.485922</td>\n",
              "      <td>0.483871</td>\n",
              "      <td>0.0</td>\n",
              "    </tr>\n",
              "    <tr>\n",
              "      <th>2</th>\n",
              "      <td>0.5</td>\n",
              "      <td>1.0</td>\n",
              "      <td>0.940395</td>\n",
              "      <td>0.262626</td>\n",
              "      <td>0.052632</td>\n",
              "      <td>0.0</td>\n",
              "      <td>0.0</td>\n",
              "      <td>0.0</td>\n",
              "      <td>1.0</td>\n",
              "      <td>0.0</td>\n",
              "      <td>0.0</td>\n",
              "      <td>0.754717</td>\n",
              "      <td>0.000000</td>\n",
              "      <td>1.000000</td>\n",
              "      <td>0.709677</td>\n",
              "      <td>0.0</td>\n",
              "    </tr>\n",
              "    <tr>\n",
              "      <th>3</th>\n",
              "      <td>0.0</td>\n",
              "      <td>0.0</td>\n",
              "      <td>0.980454</td>\n",
              "      <td>0.161616</td>\n",
              "      <td>0.052632</td>\n",
              "      <td>0.0</td>\n",
              "      <td>1.0</td>\n",
              "      <td>1.0</td>\n",
              "      <td>1.0</td>\n",
              "      <td>0.0</td>\n",
              "      <td>0.0</td>\n",
              "      <td>0.490566</td>\n",
              "      <td>0.000000</td>\n",
              "      <td>0.998720</td>\n",
              "      <td>0.774194</td>\n",
              "      <td>1.0</td>\n",
              "    </tr>\n",
              "    <tr>\n",
              "      <th>4</th>\n",
              "      <td>1.0</td>\n",
              "      <td>1.0</td>\n",
              "      <td>0.539390</td>\n",
              "      <td>0.080808</td>\n",
              "      <td>0.315789</td>\n",
              "      <td>0.0</td>\n",
              "      <td>0.0</td>\n",
              "      <td>0.0</td>\n",
              "      <td>0.0</td>\n",
              "      <td>0.0</td>\n",
              "      <td>0.0</td>\n",
              "      <td>0.830189</td>\n",
              "      <td>0.333333</td>\n",
              "      <td>0.095990</td>\n",
              "      <td>0.290323</td>\n",
              "      <td>0.0</td>\n",
              "    </tr>\n",
              "    <tr>\n",
              "      <th>...</th>\n",
              "      <td>...</td>\n",
              "      <td>...</td>\n",
              "      <td>...</td>\n",
              "      <td>...</td>\n",
              "      <td>...</td>\n",
              "      <td>...</td>\n",
              "      <td>...</td>\n",
              "      <td>...</td>\n",
              "      <td>...</td>\n",
              "      <td>...</td>\n",
              "      <td>...</td>\n",
              "      <td>...</td>\n",
              "      <td>...</td>\n",
              "      <td>...</td>\n",
              "      <td>...</td>\n",
              "      <td>...</td>\n",
              "    </tr>\n",
              "    <tr>\n",
              "      <th>659</th>\n",
              "      <td>0.0</td>\n",
              "      <td>0.0</td>\n",
              "      <td>0.816959</td>\n",
              "      <td>0.585859</td>\n",
              "      <td>0.000000</td>\n",
              "      <td>0.0</td>\n",
              "      <td>0.0</td>\n",
              "      <td>1.0</td>\n",
              "      <td>1.0</td>\n",
              "      <td>0.0</td>\n",
              "      <td>0.0</td>\n",
              "      <td>0.056604</td>\n",
              "      <td>0.000000</td>\n",
              "      <td>0.515358</td>\n",
              "      <td>0.645161</td>\n",
              "      <td>1.0</td>\n",
              "    </tr>\n",
              "    <tr>\n",
              "      <th>660</th>\n",
              "      <td>1.0</td>\n",
              "      <td>1.0</td>\n",
              "      <td>0.698243</td>\n",
              "      <td>0.565657</td>\n",
              "      <td>0.052632</td>\n",
              "      <td>0.0</td>\n",
              "      <td>0.0</td>\n",
              "      <td>0.0</td>\n",
              "      <td>0.0</td>\n",
              "      <td>0.0</td>\n",
              "      <td>0.0</td>\n",
              "      <td>0.094340</td>\n",
              "      <td>0.000000</td>\n",
              "      <td>0.678328</td>\n",
              "      <td>0.709677</td>\n",
              "      <td>0.0</td>\n",
              "    </tr>\n",
              "    <tr>\n",
              "      <th>661</th>\n",
              "      <td>1.0</td>\n",
              "      <td>1.0</td>\n",
              "      <td>0.267914</td>\n",
              "      <td>0.222222</td>\n",
              "      <td>0.315789</td>\n",
              "      <td>1.0</td>\n",
              "      <td>0.0</td>\n",
              "      <td>0.0</td>\n",
              "      <td>0.0</td>\n",
              "      <td>0.0</td>\n",
              "      <td>0.0</td>\n",
              "      <td>0.509434</td>\n",
              "      <td>0.333333</td>\n",
              "      <td>0.011092</td>\n",
              "      <td>0.096774</td>\n",
              "      <td>1.0</td>\n",
              "    </tr>\n",
              "    <tr>\n",
              "      <th>662</th>\n",
              "      <td>0.5</td>\n",
              "      <td>1.0</td>\n",
              "      <td>0.321663</td>\n",
              "      <td>0.101010</td>\n",
              "      <td>0.315789</td>\n",
              "      <td>1.0</td>\n",
              "      <td>0.0</td>\n",
              "      <td>0.0</td>\n",
              "      <td>0.0</td>\n",
              "      <td>0.0</td>\n",
              "      <td>0.0</td>\n",
              "      <td>0.471698</td>\n",
              "      <td>0.333333</td>\n",
              "      <td>0.021758</td>\n",
              "      <td>0.096774</td>\n",
              "      <td>1.0</td>\n",
              "    </tr>\n",
              "    <tr>\n",
              "      <th>663</th>\n",
              "      <td>1.0</td>\n",
              "      <td>1.0</td>\n",
              "      <td>0.350201</td>\n",
              "      <td>0.313131</td>\n",
              "      <td>0.421053</td>\n",
              "      <td>0.0</td>\n",
              "      <td>0.0</td>\n",
              "      <td>0.0</td>\n",
              "      <td>0.0</td>\n",
              "      <td>0.0</td>\n",
              "      <td>0.0</td>\n",
              "      <td>0.339623</td>\n",
              "      <td>0.333333</td>\n",
              "      <td>0.007253</td>\n",
              "      <td>0.064516</td>\n",
              "      <td>0.0</td>\n",
              "    </tr>\n",
              "  </tbody>\n",
              "</table>\n",
              "<p>662 rows × 16 columns</p>\n",
              "</div>\n",
              "      <button class=\"colab-df-convert\" onclick=\"convertToInteractive('df-b1dbf05f-0a62-4100-93c1-7b89ef9d7538')\"\n",
              "              title=\"Convert this dataframe to an interactive table.\"\n",
              "              style=\"display:none;\">\n",
              "        \n",
              "  <svg xmlns=\"http://www.w3.org/2000/svg\" height=\"24px\"viewBox=\"0 0 24 24\"\n",
              "       width=\"24px\">\n",
              "    <path d=\"M0 0h24v24H0V0z\" fill=\"none\"/>\n",
              "    <path d=\"M18.56 5.44l.94 2.06.94-2.06 2.06-.94-2.06-.94-.94-2.06-.94 2.06-2.06.94zm-11 1L8.5 8.5l.94-2.06 2.06-.94-2.06-.94L8.5 2.5l-.94 2.06-2.06.94zm10 10l.94 2.06.94-2.06 2.06-.94-2.06-.94-.94-2.06-.94 2.06-2.06.94z\"/><path d=\"M17.41 7.96l-1.37-1.37c-.4-.4-.92-.59-1.43-.59-.52 0-1.04.2-1.43.59L10.3 9.45l-7.72 7.72c-.78.78-.78 2.05 0 2.83L4 21.41c.39.39.9.59 1.41.59.51 0 1.02-.2 1.41-.59l7.78-7.78 2.81-2.81c.8-.78.8-2.07 0-2.86zM5.41 20L4 18.59l7.72-7.72 1.47 1.35L5.41 20z\"/>\n",
              "  </svg>\n",
              "      </button>\n",
              "      \n",
              "  <style>\n",
              "    .colab-df-container {\n",
              "      display:flex;\n",
              "      flex-wrap:wrap;\n",
              "      gap: 12px;\n",
              "    }\n",
              "\n",
              "    .colab-df-convert {\n",
              "      background-color: #E8F0FE;\n",
              "      border: none;\n",
              "      border-radius: 50%;\n",
              "      cursor: pointer;\n",
              "      display: none;\n",
              "      fill: #1967D2;\n",
              "      height: 32px;\n",
              "      padding: 0 0 0 0;\n",
              "      width: 32px;\n",
              "    }\n",
              "\n",
              "    .colab-df-convert:hover {\n",
              "      background-color: #E2EBFA;\n",
              "      box-shadow: 0px 1px 2px rgba(60, 64, 67, 0.3), 0px 1px 3px 1px rgba(60, 64, 67, 0.15);\n",
              "      fill: #174EA6;\n",
              "    }\n",
              "\n",
              "    [theme=dark] .colab-df-convert {\n",
              "      background-color: #3B4455;\n",
              "      fill: #D2E3FC;\n",
              "    }\n",
              "\n",
              "    [theme=dark] .colab-df-convert:hover {\n",
              "      background-color: #434B5C;\n",
              "      box-shadow: 0px 1px 3px 1px rgba(0, 0, 0, 0.15);\n",
              "      filter: drop-shadow(0px 1px 2px rgba(0, 0, 0, 0.3));\n",
              "      fill: #FFFFFF;\n",
              "    }\n",
              "  </style>\n",
              "\n",
              "      <script>\n",
              "        const buttonEl =\n",
              "          document.querySelector('#df-b1dbf05f-0a62-4100-93c1-7b89ef9d7538 button.colab-df-convert');\n",
              "        buttonEl.style.display =\n",
              "          google.colab.kernel.accessAllowed ? 'block' : 'none';\n",
              "\n",
              "        async function convertToInteractive(key) {\n",
              "          const element = document.querySelector('#df-b1dbf05f-0a62-4100-93c1-7b89ef9d7538');\n",
              "          const dataTable =\n",
              "            await google.colab.kernel.invokeFunction('convertToInteractive',\n",
              "                                                     [key], {});\n",
              "          if (!dataTable) return;\n",
              "\n",
              "          const docLinkHtml = 'Like what you see? Visit the ' +\n",
              "            '<a target=\"_blank\" href=https://colab.research.google.com/notebooks/data_table.ipynb>data table notebook</a>'\n",
              "            + ' to learn more about interactive tables.';\n",
              "          element.innerHTML = '';\n",
              "          dataTable['output_type'] = 'display_data';\n",
              "          await google.colab.output.renderOutput(dataTable, element);\n",
              "          const docLink = document.createElement('div');\n",
              "          docLink.innerHTML = docLinkHtml;\n",
              "          element.appendChild(docLink);\n",
              "        }\n",
              "      </script>\n",
              "    </div>\n",
              "  </div>\n",
              "  "
            ]
          },
          "metadata": {},
          "execution_count": 67
        }
      ]
    },
    {
      "cell_type": "code",
      "source": [
        "# Check descriptive stats for train df\n",
        "train_df.describe()"
      ],
      "metadata": {
        "colab": {
          "base_uri": "https://localhost:8080/",
          "height": 364
        },
        "id": "VU-nU7bsR3mL",
        "outputId": "c807cbe9-2941-4801-b0f0-78a10330ccb5"
      },
      "execution_count": 68,
      "outputs": [
        {
          "output_type": "execute_result",
          "data": {
            "text/plain": [
              "        Education  Marital_Status      Income     Recency  NumWebVisitsMonth  \\\n",
              "count  662.000000      662.000000  662.000000  662.000000         662.000000   \n",
              "mean     0.346677        0.622356    0.498455    0.473634           0.225871   \n",
              "std      0.397016        0.485164    0.227038    0.286650           0.126139   \n",
              "min      0.000000        0.000000    0.000000    0.000000           0.000000   \n",
              "25%      0.000000        0.000000    0.311420    0.232323           0.157895   \n",
              "50%      0.000000        1.000000    0.496431    0.474747           0.263158   \n",
              "75%      0.500000        1.000000    0.676918    0.727273           0.315789   \n",
              "max      1.000000        1.000000    1.000000    1.000000           1.000000   \n",
              "\n",
              "       AcceptedCmp3  AcceptedCmp4  AcceptedCmp5  AcceptedCmp1  AcceptedCmp2  \\\n",
              "count    662.000000    662.000000    662.000000    662.000000    662.000000   \n",
              "mean       0.072508      0.066465      0.066465      0.064955      0.015106   \n",
              "std        0.259523      0.249282      0.249282      0.246632      0.122066   \n",
              "min        0.000000      0.000000      0.000000      0.000000      0.000000   \n",
              "25%        0.000000      0.000000      0.000000      0.000000      0.000000   \n",
              "50%        0.000000      0.000000      0.000000      0.000000      0.000000   \n",
              "75%        0.000000      0.000000      0.000000      0.000000      0.000000   \n",
              "max        1.000000      1.000000      1.000000      1.000000      1.000000   \n",
              "\n",
              "         Complain         Age    Children  TotalSpendings  TotalPurchases  \\\n",
              "count  662.000000  662.000000  662.000000      662.000000      662.000000   \n",
              "mean     0.016616    0.504703    0.311682        0.243876        0.360589   \n",
              "std      0.127925    0.226672    0.251473        0.248732        0.224401   \n",
              "min      0.000000    0.000000    0.000000        0.000000        0.000000   \n",
              "25%      0.000000    0.339623    0.000000        0.026451        0.161290   \n",
              "50%      0.000000    0.490566    0.333333        0.154224        0.322581   \n",
              "75%      0.000000    0.679245    0.333333        0.422462        0.548387   \n",
              "max      1.000000    1.000000    1.000000        1.000000        1.000000   \n",
              "\n",
              "         Response  \n",
              "count  662.000000  \n",
              "mean     0.149547  \n",
              "std      0.356896  \n",
              "min      0.000000  \n",
              "25%      0.000000  \n",
              "50%      0.000000  \n",
              "75%      0.000000  \n",
              "max      1.000000  "
            ],
            "text/html": [
              "\n",
              "  <div id=\"df-c2f2366d-9e6d-4aa1-a5d4-a47a3dee6791\">\n",
              "    <div class=\"colab-df-container\">\n",
              "      <div>\n",
              "<style scoped>\n",
              "    .dataframe tbody tr th:only-of-type {\n",
              "        vertical-align: middle;\n",
              "    }\n",
              "\n",
              "    .dataframe tbody tr th {\n",
              "        vertical-align: top;\n",
              "    }\n",
              "\n",
              "    .dataframe thead th {\n",
              "        text-align: right;\n",
              "    }\n",
              "</style>\n",
              "<table border=\"1\" class=\"dataframe\">\n",
              "  <thead>\n",
              "    <tr style=\"text-align: right;\">\n",
              "      <th></th>\n",
              "      <th>Education</th>\n",
              "      <th>Marital_Status</th>\n",
              "      <th>Income</th>\n",
              "      <th>Recency</th>\n",
              "      <th>NumWebVisitsMonth</th>\n",
              "      <th>AcceptedCmp3</th>\n",
              "      <th>AcceptedCmp4</th>\n",
              "      <th>AcceptedCmp5</th>\n",
              "      <th>AcceptedCmp1</th>\n",
              "      <th>AcceptedCmp2</th>\n",
              "      <th>Complain</th>\n",
              "      <th>Age</th>\n",
              "      <th>Children</th>\n",
              "      <th>TotalSpendings</th>\n",
              "      <th>TotalPurchases</th>\n",
              "      <th>Response</th>\n",
              "    </tr>\n",
              "  </thead>\n",
              "  <tbody>\n",
              "    <tr>\n",
              "      <th>count</th>\n",
              "      <td>662.000000</td>\n",
              "      <td>662.000000</td>\n",
              "      <td>662.000000</td>\n",
              "      <td>662.000000</td>\n",
              "      <td>662.000000</td>\n",
              "      <td>662.000000</td>\n",
              "      <td>662.000000</td>\n",
              "      <td>662.000000</td>\n",
              "      <td>662.000000</td>\n",
              "      <td>662.000000</td>\n",
              "      <td>662.000000</td>\n",
              "      <td>662.000000</td>\n",
              "      <td>662.000000</td>\n",
              "      <td>662.000000</td>\n",
              "      <td>662.000000</td>\n",
              "      <td>662.000000</td>\n",
              "    </tr>\n",
              "    <tr>\n",
              "      <th>mean</th>\n",
              "      <td>0.346677</td>\n",
              "      <td>0.622356</td>\n",
              "      <td>0.498455</td>\n",
              "      <td>0.473634</td>\n",
              "      <td>0.225871</td>\n",
              "      <td>0.072508</td>\n",
              "      <td>0.066465</td>\n",
              "      <td>0.066465</td>\n",
              "      <td>0.064955</td>\n",
              "      <td>0.015106</td>\n",
              "      <td>0.016616</td>\n",
              "      <td>0.504703</td>\n",
              "      <td>0.311682</td>\n",
              "      <td>0.243876</td>\n",
              "      <td>0.360589</td>\n",
              "      <td>0.149547</td>\n",
              "    </tr>\n",
              "    <tr>\n",
              "      <th>std</th>\n",
              "      <td>0.397016</td>\n",
              "      <td>0.485164</td>\n",
              "      <td>0.227038</td>\n",
              "      <td>0.286650</td>\n",
              "      <td>0.126139</td>\n",
              "      <td>0.259523</td>\n",
              "      <td>0.249282</td>\n",
              "      <td>0.249282</td>\n",
              "      <td>0.246632</td>\n",
              "      <td>0.122066</td>\n",
              "      <td>0.127925</td>\n",
              "      <td>0.226672</td>\n",
              "      <td>0.251473</td>\n",
              "      <td>0.248732</td>\n",
              "      <td>0.224401</td>\n",
              "      <td>0.356896</td>\n",
              "    </tr>\n",
              "    <tr>\n",
              "      <th>min</th>\n",
              "      <td>0.000000</td>\n",
              "      <td>0.000000</td>\n",
              "      <td>0.000000</td>\n",
              "      <td>0.000000</td>\n",
              "      <td>0.000000</td>\n",
              "      <td>0.000000</td>\n",
              "      <td>0.000000</td>\n",
              "      <td>0.000000</td>\n",
              "      <td>0.000000</td>\n",
              "      <td>0.000000</td>\n",
              "      <td>0.000000</td>\n",
              "      <td>0.000000</td>\n",
              "      <td>0.000000</td>\n",
              "      <td>0.000000</td>\n",
              "      <td>0.000000</td>\n",
              "      <td>0.000000</td>\n",
              "    </tr>\n",
              "    <tr>\n",
              "      <th>25%</th>\n",
              "      <td>0.000000</td>\n",
              "      <td>0.000000</td>\n",
              "      <td>0.311420</td>\n",
              "      <td>0.232323</td>\n",
              "      <td>0.157895</td>\n",
              "      <td>0.000000</td>\n",
              "      <td>0.000000</td>\n",
              "      <td>0.000000</td>\n",
              "      <td>0.000000</td>\n",
              "      <td>0.000000</td>\n",
              "      <td>0.000000</td>\n",
              "      <td>0.339623</td>\n",
              "      <td>0.000000</td>\n",
              "      <td>0.026451</td>\n",
              "      <td>0.161290</td>\n",
              "      <td>0.000000</td>\n",
              "    </tr>\n",
              "    <tr>\n",
              "      <th>50%</th>\n",
              "      <td>0.000000</td>\n",
              "      <td>1.000000</td>\n",
              "      <td>0.496431</td>\n",
              "      <td>0.474747</td>\n",
              "      <td>0.263158</td>\n",
              "      <td>0.000000</td>\n",
              "      <td>0.000000</td>\n",
              "      <td>0.000000</td>\n",
              "      <td>0.000000</td>\n",
              "      <td>0.000000</td>\n",
              "      <td>0.000000</td>\n",
              "      <td>0.490566</td>\n",
              "      <td>0.333333</td>\n",
              "      <td>0.154224</td>\n",
              "      <td>0.322581</td>\n",
              "      <td>0.000000</td>\n",
              "    </tr>\n",
              "    <tr>\n",
              "      <th>75%</th>\n",
              "      <td>0.500000</td>\n",
              "      <td>1.000000</td>\n",
              "      <td>0.676918</td>\n",
              "      <td>0.727273</td>\n",
              "      <td>0.315789</td>\n",
              "      <td>0.000000</td>\n",
              "      <td>0.000000</td>\n",
              "      <td>0.000000</td>\n",
              "      <td>0.000000</td>\n",
              "      <td>0.000000</td>\n",
              "      <td>0.000000</td>\n",
              "      <td>0.679245</td>\n",
              "      <td>0.333333</td>\n",
              "      <td>0.422462</td>\n",
              "      <td>0.548387</td>\n",
              "      <td>0.000000</td>\n",
              "    </tr>\n",
              "    <tr>\n",
              "      <th>max</th>\n",
              "      <td>1.000000</td>\n",
              "      <td>1.000000</td>\n",
              "      <td>1.000000</td>\n",
              "      <td>1.000000</td>\n",
              "      <td>1.000000</td>\n",
              "      <td>1.000000</td>\n",
              "      <td>1.000000</td>\n",
              "      <td>1.000000</td>\n",
              "      <td>1.000000</td>\n",
              "      <td>1.000000</td>\n",
              "      <td>1.000000</td>\n",
              "      <td>1.000000</td>\n",
              "      <td>1.000000</td>\n",
              "      <td>1.000000</td>\n",
              "      <td>1.000000</td>\n",
              "      <td>1.000000</td>\n",
              "    </tr>\n",
              "  </tbody>\n",
              "</table>\n",
              "</div>\n",
              "      <button class=\"colab-df-convert\" onclick=\"convertToInteractive('df-c2f2366d-9e6d-4aa1-a5d4-a47a3dee6791')\"\n",
              "              title=\"Convert this dataframe to an interactive table.\"\n",
              "              style=\"display:none;\">\n",
              "        \n",
              "  <svg xmlns=\"http://www.w3.org/2000/svg\" height=\"24px\"viewBox=\"0 0 24 24\"\n",
              "       width=\"24px\">\n",
              "    <path d=\"M0 0h24v24H0V0z\" fill=\"none\"/>\n",
              "    <path d=\"M18.56 5.44l.94 2.06.94-2.06 2.06-.94-2.06-.94-.94-2.06-.94 2.06-2.06.94zm-11 1L8.5 8.5l.94-2.06 2.06-.94-2.06-.94L8.5 2.5l-.94 2.06-2.06.94zm10 10l.94 2.06.94-2.06 2.06-.94-2.06-.94-.94-2.06-.94 2.06-2.06.94z\"/><path d=\"M17.41 7.96l-1.37-1.37c-.4-.4-.92-.59-1.43-.59-.52 0-1.04.2-1.43.59L10.3 9.45l-7.72 7.72c-.78.78-.78 2.05 0 2.83L4 21.41c.39.39.9.59 1.41.59.51 0 1.02-.2 1.41-.59l7.78-7.78 2.81-2.81c.8-.78.8-2.07 0-2.86zM5.41 20L4 18.59l7.72-7.72 1.47 1.35L5.41 20z\"/>\n",
              "  </svg>\n",
              "      </button>\n",
              "      \n",
              "  <style>\n",
              "    .colab-df-container {\n",
              "      display:flex;\n",
              "      flex-wrap:wrap;\n",
              "      gap: 12px;\n",
              "    }\n",
              "\n",
              "    .colab-df-convert {\n",
              "      background-color: #E8F0FE;\n",
              "      border: none;\n",
              "      border-radius: 50%;\n",
              "      cursor: pointer;\n",
              "      display: none;\n",
              "      fill: #1967D2;\n",
              "      height: 32px;\n",
              "      padding: 0 0 0 0;\n",
              "      width: 32px;\n",
              "    }\n",
              "\n",
              "    .colab-df-convert:hover {\n",
              "      background-color: #E2EBFA;\n",
              "      box-shadow: 0px 1px 2px rgba(60, 64, 67, 0.3), 0px 1px 3px 1px rgba(60, 64, 67, 0.15);\n",
              "      fill: #174EA6;\n",
              "    }\n",
              "\n",
              "    [theme=dark] .colab-df-convert {\n",
              "      background-color: #3B4455;\n",
              "      fill: #D2E3FC;\n",
              "    }\n",
              "\n",
              "    [theme=dark] .colab-df-convert:hover {\n",
              "      background-color: #434B5C;\n",
              "      box-shadow: 0px 1px 3px 1px rgba(0, 0, 0, 0.15);\n",
              "      filter: drop-shadow(0px 1px 2px rgba(0, 0, 0, 0.3));\n",
              "      fill: #FFFFFF;\n",
              "    }\n",
              "  </style>\n",
              "\n",
              "      <script>\n",
              "        const buttonEl =\n",
              "          document.querySelector('#df-c2f2366d-9e6d-4aa1-a5d4-a47a3dee6791 button.colab-df-convert');\n",
              "        buttonEl.style.display =\n",
              "          google.colab.kernel.accessAllowed ? 'block' : 'none';\n",
              "\n",
              "        async function convertToInteractive(key) {\n",
              "          const element = document.querySelector('#df-c2f2366d-9e6d-4aa1-a5d4-a47a3dee6791');\n",
              "          const dataTable =\n",
              "            await google.colab.kernel.invokeFunction('convertToInteractive',\n",
              "                                                     [key], {});\n",
              "          if (!dataTable) return;\n",
              "\n",
              "          const docLinkHtml = 'Like what you see? Visit the ' +\n",
              "            '<a target=\"_blank\" href=https://colab.research.google.com/notebooks/data_table.ipynb>data table notebook</a>'\n",
              "            + ' to learn more about interactive tables.';\n",
              "          element.innerHTML = '';\n",
              "          dataTable['output_type'] = 'display_data';\n",
              "          await google.colab.output.renderOutput(dataTable, element);\n",
              "          const docLink = document.createElement('div');\n",
              "          docLink.innerHTML = docLinkHtml;\n",
              "          element.appendChild(docLink);\n",
              "        }\n",
              "      </script>\n",
              "    </div>\n",
              "  </div>\n",
              "  "
            ]
          },
          "metadata": {},
          "execution_count": 68
        }
      ]
    },
    {
      "cell_type": "code",
      "source": [
        "# Check test df\n",
        "test_df"
      ],
      "metadata": {
        "colab": {
          "base_uri": "https://localhost:8080/",
          "height": 488
        },
        "id": "MraQjGlnR7P-",
        "outputId": "6b841f90-afaa-4f7e-8cba-6832d992e4d7"
      },
      "execution_count": 69,
      "outputs": [
        {
          "output_type": "execute_result",
          "data": {
            "text/plain": [
              "     Education  Marital_Status    Income   Recency  NumWebVisitsMonth  \\\n",
              "0          1.0             0.0  0.484517  0.353535           0.368421   \n",
              "1          0.0             1.0  0.612056  0.171717           0.315789   \n",
              "2          0.5             1.0  0.940395  0.262626           0.052632   \n",
              "3          0.0             0.0  0.980454  0.161616           0.052632   \n",
              "4          1.0             1.0  0.539390  0.080808           0.315789   \n",
              "..         ...             ...       ...       ...                ...   \n",
              "659        0.0             0.0  0.816959  0.585859           0.000000   \n",
              "660        1.0             1.0  0.698243  0.565657           0.052632   \n",
              "661        1.0             1.0  0.267914  0.222222           0.315789   \n",
              "662        0.5             1.0  0.321663  0.101010           0.315789   \n",
              "663        1.0             1.0  0.350201  0.313131           0.421053   \n",
              "\n",
              "     AcceptedCmp3  AcceptedCmp4  AcceptedCmp5  AcceptedCmp1  AcceptedCmp2  \\\n",
              "0             1.0           0.0           0.0           0.0           0.0   \n",
              "1             0.0           0.0           0.0           0.0           0.0   \n",
              "2             0.0           0.0           0.0           1.0           0.0   \n",
              "3             0.0           1.0           1.0           1.0           0.0   \n",
              "4             0.0           0.0           0.0           0.0           0.0   \n",
              "..            ...           ...           ...           ...           ...   \n",
              "659           0.0           0.0           1.0           1.0           0.0   \n",
              "660           0.0           0.0           0.0           0.0           0.0   \n",
              "661           1.0           0.0           0.0           0.0           0.0   \n",
              "662           1.0           0.0           0.0           0.0           0.0   \n",
              "663           0.0           0.0           0.0           0.0           0.0   \n",
              "\n",
              "     Complain       Age  Children  TotalSpendings  TotalPurchases  Response  \n",
              "0         0.0  0.773585  0.000000        0.592150        0.612903       1.0  \n",
              "1         0.0  0.301887  0.333333        0.485922        0.483871       0.0  \n",
              "2         0.0  0.754717  0.000000        1.000000        0.709677       0.0  \n",
              "3         0.0  0.490566  0.000000        0.998720        0.774194       1.0  \n",
              "4         0.0  0.830189  0.333333        0.095990        0.290323       0.0  \n",
              "..        ...       ...       ...             ...             ...       ...  \n",
              "659       0.0  0.056604  0.000000        0.515358        0.645161       1.0  \n",
              "660       0.0  0.094340  0.000000        0.678328        0.709677       0.0  \n",
              "661       0.0  0.509434  0.333333        0.011092        0.096774       1.0  \n",
              "662       0.0  0.471698  0.333333        0.021758        0.096774       1.0  \n",
              "663       0.0  0.339623  0.333333        0.007253        0.064516       0.0  \n",
              "\n",
              "[662 rows x 16 columns]"
            ],
            "text/html": [
              "\n",
              "  <div id=\"df-724b082e-9bb1-4985-b27b-d2b921537878\">\n",
              "    <div class=\"colab-df-container\">\n",
              "      <div>\n",
              "<style scoped>\n",
              "    .dataframe tbody tr th:only-of-type {\n",
              "        vertical-align: middle;\n",
              "    }\n",
              "\n",
              "    .dataframe tbody tr th {\n",
              "        vertical-align: top;\n",
              "    }\n",
              "\n",
              "    .dataframe thead th {\n",
              "        text-align: right;\n",
              "    }\n",
              "</style>\n",
              "<table border=\"1\" class=\"dataframe\">\n",
              "  <thead>\n",
              "    <tr style=\"text-align: right;\">\n",
              "      <th></th>\n",
              "      <th>Education</th>\n",
              "      <th>Marital_Status</th>\n",
              "      <th>Income</th>\n",
              "      <th>Recency</th>\n",
              "      <th>NumWebVisitsMonth</th>\n",
              "      <th>AcceptedCmp3</th>\n",
              "      <th>AcceptedCmp4</th>\n",
              "      <th>AcceptedCmp5</th>\n",
              "      <th>AcceptedCmp1</th>\n",
              "      <th>AcceptedCmp2</th>\n",
              "      <th>Complain</th>\n",
              "      <th>Age</th>\n",
              "      <th>Children</th>\n",
              "      <th>TotalSpendings</th>\n",
              "      <th>TotalPurchases</th>\n",
              "      <th>Response</th>\n",
              "    </tr>\n",
              "  </thead>\n",
              "  <tbody>\n",
              "    <tr>\n",
              "      <th>0</th>\n",
              "      <td>1.0</td>\n",
              "      <td>0.0</td>\n",
              "      <td>0.484517</td>\n",
              "      <td>0.353535</td>\n",
              "      <td>0.368421</td>\n",
              "      <td>1.0</td>\n",
              "      <td>0.0</td>\n",
              "      <td>0.0</td>\n",
              "      <td>0.0</td>\n",
              "      <td>0.0</td>\n",
              "      <td>0.0</td>\n",
              "      <td>0.773585</td>\n",
              "      <td>0.000000</td>\n",
              "      <td>0.592150</td>\n",
              "      <td>0.612903</td>\n",
              "      <td>1.0</td>\n",
              "    </tr>\n",
              "    <tr>\n",
              "      <th>1</th>\n",
              "      <td>0.0</td>\n",
              "      <td>1.0</td>\n",
              "      <td>0.612056</td>\n",
              "      <td>0.171717</td>\n",
              "      <td>0.315789</td>\n",
              "      <td>0.0</td>\n",
              "      <td>0.0</td>\n",
              "      <td>0.0</td>\n",
              "      <td>0.0</td>\n",
              "      <td>0.0</td>\n",
              "      <td>0.0</td>\n",
              "      <td>0.301887</td>\n",
              "      <td>0.333333</td>\n",
              "      <td>0.485922</td>\n",
              "      <td>0.483871</td>\n",
              "      <td>0.0</td>\n",
              "    </tr>\n",
              "    <tr>\n",
              "      <th>2</th>\n",
              "      <td>0.5</td>\n",
              "      <td>1.0</td>\n",
              "      <td>0.940395</td>\n",
              "      <td>0.262626</td>\n",
              "      <td>0.052632</td>\n",
              "      <td>0.0</td>\n",
              "      <td>0.0</td>\n",
              "      <td>0.0</td>\n",
              "      <td>1.0</td>\n",
              "      <td>0.0</td>\n",
              "      <td>0.0</td>\n",
              "      <td>0.754717</td>\n",
              "      <td>0.000000</td>\n",
              "      <td>1.000000</td>\n",
              "      <td>0.709677</td>\n",
              "      <td>0.0</td>\n",
              "    </tr>\n",
              "    <tr>\n",
              "      <th>3</th>\n",
              "      <td>0.0</td>\n",
              "      <td>0.0</td>\n",
              "      <td>0.980454</td>\n",
              "      <td>0.161616</td>\n",
              "      <td>0.052632</td>\n",
              "      <td>0.0</td>\n",
              "      <td>1.0</td>\n",
              "      <td>1.0</td>\n",
              "      <td>1.0</td>\n",
              "      <td>0.0</td>\n",
              "      <td>0.0</td>\n",
              "      <td>0.490566</td>\n",
              "      <td>0.000000</td>\n",
              "      <td>0.998720</td>\n",
              "      <td>0.774194</td>\n",
              "      <td>1.0</td>\n",
              "    </tr>\n",
              "    <tr>\n",
              "      <th>4</th>\n",
              "      <td>1.0</td>\n",
              "      <td>1.0</td>\n",
              "      <td>0.539390</td>\n",
              "      <td>0.080808</td>\n",
              "      <td>0.315789</td>\n",
              "      <td>0.0</td>\n",
              "      <td>0.0</td>\n",
              "      <td>0.0</td>\n",
              "      <td>0.0</td>\n",
              "      <td>0.0</td>\n",
              "      <td>0.0</td>\n",
              "      <td>0.830189</td>\n",
              "      <td>0.333333</td>\n",
              "      <td>0.095990</td>\n",
              "      <td>0.290323</td>\n",
              "      <td>0.0</td>\n",
              "    </tr>\n",
              "    <tr>\n",
              "      <th>...</th>\n",
              "      <td>...</td>\n",
              "      <td>...</td>\n",
              "      <td>...</td>\n",
              "      <td>...</td>\n",
              "      <td>...</td>\n",
              "      <td>...</td>\n",
              "      <td>...</td>\n",
              "      <td>...</td>\n",
              "      <td>...</td>\n",
              "      <td>...</td>\n",
              "      <td>...</td>\n",
              "      <td>...</td>\n",
              "      <td>...</td>\n",
              "      <td>...</td>\n",
              "      <td>...</td>\n",
              "      <td>...</td>\n",
              "    </tr>\n",
              "    <tr>\n",
              "      <th>659</th>\n",
              "      <td>0.0</td>\n",
              "      <td>0.0</td>\n",
              "      <td>0.816959</td>\n",
              "      <td>0.585859</td>\n",
              "      <td>0.000000</td>\n",
              "      <td>0.0</td>\n",
              "      <td>0.0</td>\n",
              "      <td>1.0</td>\n",
              "      <td>1.0</td>\n",
              "      <td>0.0</td>\n",
              "      <td>0.0</td>\n",
              "      <td>0.056604</td>\n",
              "      <td>0.000000</td>\n",
              "      <td>0.515358</td>\n",
              "      <td>0.645161</td>\n",
              "      <td>1.0</td>\n",
              "    </tr>\n",
              "    <tr>\n",
              "      <th>660</th>\n",
              "      <td>1.0</td>\n",
              "      <td>1.0</td>\n",
              "      <td>0.698243</td>\n",
              "      <td>0.565657</td>\n",
              "      <td>0.052632</td>\n",
              "      <td>0.0</td>\n",
              "      <td>0.0</td>\n",
              "      <td>0.0</td>\n",
              "      <td>0.0</td>\n",
              "      <td>0.0</td>\n",
              "      <td>0.0</td>\n",
              "      <td>0.094340</td>\n",
              "      <td>0.000000</td>\n",
              "      <td>0.678328</td>\n",
              "      <td>0.709677</td>\n",
              "      <td>0.0</td>\n",
              "    </tr>\n",
              "    <tr>\n",
              "      <th>661</th>\n",
              "      <td>1.0</td>\n",
              "      <td>1.0</td>\n",
              "      <td>0.267914</td>\n",
              "      <td>0.222222</td>\n",
              "      <td>0.315789</td>\n",
              "      <td>1.0</td>\n",
              "      <td>0.0</td>\n",
              "      <td>0.0</td>\n",
              "      <td>0.0</td>\n",
              "      <td>0.0</td>\n",
              "      <td>0.0</td>\n",
              "      <td>0.509434</td>\n",
              "      <td>0.333333</td>\n",
              "      <td>0.011092</td>\n",
              "      <td>0.096774</td>\n",
              "      <td>1.0</td>\n",
              "    </tr>\n",
              "    <tr>\n",
              "      <th>662</th>\n",
              "      <td>0.5</td>\n",
              "      <td>1.0</td>\n",
              "      <td>0.321663</td>\n",
              "      <td>0.101010</td>\n",
              "      <td>0.315789</td>\n",
              "      <td>1.0</td>\n",
              "      <td>0.0</td>\n",
              "      <td>0.0</td>\n",
              "      <td>0.0</td>\n",
              "      <td>0.0</td>\n",
              "      <td>0.0</td>\n",
              "      <td>0.471698</td>\n",
              "      <td>0.333333</td>\n",
              "      <td>0.021758</td>\n",
              "      <td>0.096774</td>\n",
              "      <td>1.0</td>\n",
              "    </tr>\n",
              "    <tr>\n",
              "      <th>663</th>\n",
              "      <td>1.0</td>\n",
              "      <td>1.0</td>\n",
              "      <td>0.350201</td>\n",
              "      <td>0.313131</td>\n",
              "      <td>0.421053</td>\n",
              "      <td>0.0</td>\n",
              "      <td>0.0</td>\n",
              "      <td>0.0</td>\n",
              "      <td>0.0</td>\n",
              "      <td>0.0</td>\n",
              "      <td>0.0</td>\n",
              "      <td>0.339623</td>\n",
              "      <td>0.333333</td>\n",
              "      <td>0.007253</td>\n",
              "      <td>0.064516</td>\n",
              "      <td>0.0</td>\n",
              "    </tr>\n",
              "  </tbody>\n",
              "</table>\n",
              "<p>662 rows × 16 columns</p>\n",
              "</div>\n",
              "      <button class=\"colab-df-convert\" onclick=\"convertToInteractive('df-724b082e-9bb1-4985-b27b-d2b921537878')\"\n",
              "              title=\"Convert this dataframe to an interactive table.\"\n",
              "              style=\"display:none;\">\n",
              "        \n",
              "  <svg xmlns=\"http://www.w3.org/2000/svg\" height=\"24px\"viewBox=\"0 0 24 24\"\n",
              "       width=\"24px\">\n",
              "    <path d=\"M0 0h24v24H0V0z\" fill=\"none\"/>\n",
              "    <path d=\"M18.56 5.44l.94 2.06.94-2.06 2.06-.94-2.06-.94-.94-2.06-.94 2.06-2.06.94zm-11 1L8.5 8.5l.94-2.06 2.06-.94-2.06-.94L8.5 2.5l-.94 2.06-2.06.94zm10 10l.94 2.06.94-2.06 2.06-.94-2.06-.94-.94-2.06-.94 2.06-2.06.94z\"/><path d=\"M17.41 7.96l-1.37-1.37c-.4-.4-.92-.59-1.43-.59-.52 0-1.04.2-1.43.59L10.3 9.45l-7.72 7.72c-.78.78-.78 2.05 0 2.83L4 21.41c.39.39.9.59 1.41.59.51 0 1.02-.2 1.41-.59l7.78-7.78 2.81-2.81c.8-.78.8-2.07 0-2.86zM5.41 20L4 18.59l7.72-7.72 1.47 1.35L5.41 20z\"/>\n",
              "  </svg>\n",
              "      </button>\n",
              "      \n",
              "  <style>\n",
              "    .colab-df-container {\n",
              "      display:flex;\n",
              "      flex-wrap:wrap;\n",
              "      gap: 12px;\n",
              "    }\n",
              "\n",
              "    .colab-df-convert {\n",
              "      background-color: #E8F0FE;\n",
              "      border: none;\n",
              "      border-radius: 50%;\n",
              "      cursor: pointer;\n",
              "      display: none;\n",
              "      fill: #1967D2;\n",
              "      height: 32px;\n",
              "      padding: 0 0 0 0;\n",
              "      width: 32px;\n",
              "    }\n",
              "\n",
              "    .colab-df-convert:hover {\n",
              "      background-color: #E2EBFA;\n",
              "      box-shadow: 0px 1px 2px rgba(60, 64, 67, 0.3), 0px 1px 3px 1px rgba(60, 64, 67, 0.15);\n",
              "      fill: #174EA6;\n",
              "    }\n",
              "\n",
              "    [theme=dark] .colab-df-convert {\n",
              "      background-color: #3B4455;\n",
              "      fill: #D2E3FC;\n",
              "    }\n",
              "\n",
              "    [theme=dark] .colab-df-convert:hover {\n",
              "      background-color: #434B5C;\n",
              "      box-shadow: 0px 1px 3px 1px rgba(0, 0, 0, 0.15);\n",
              "      filter: drop-shadow(0px 1px 2px rgba(0, 0, 0, 0.3));\n",
              "      fill: #FFFFFF;\n",
              "    }\n",
              "  </style>\n",
              "\n",
              "      <script>\n",
              "        const buttonEl =\n",
              "          document.querySelector('#df-724b082e-9bb1-4985-b27b-d2b921537878 button.colab-df-convert');\n",
              "        buttonEl.style.display =\n",
              "          google.colab.kernel.accessAllowed ? 'block' : 'none';\n",
              "\n",
              "        async function convertToInteractive(key) {\n",
              "          const element = document.querySelector('#df-724b082e-9bb1-4985-b27b-d2b921537878');\n",
              "          const dataTable =\n",
              "            await google.colab.kernel.invokeFunction('convertToInteractive',\n",
              "                                                     [key], {});\n",
              "          if (!dataTable) return;\n",
              "\n",
              "          const docLinkHtml = 'Like what you see? Visit the ' +\n",
              "            '<a target=\"_blank\" href=https://colab.research.google.com/notebooks/data_table.ipynb>data table notebook</a>'\n",
              "            + ' to learn more about interactive tables.';\n",
              "          element.innerHTML = '';\n",
              "          dataTable['output_type'] = 'display_data';\n",
              "          await google.colab.output.renderOutput(dataTable, element);\n",
              "          const docLink = document.createElement('div');\n",
              "          docLink.innerHTML = docLinkHtml;\n",
              "          element.appendChild(docLink);\n",
              "        }\n",
              "      </script>\n",
              "    </div>\n",
              "  </div>\n",
              "  "
            ]
          },
          "metadata": {},
          "execution_count": 69
        }
      ]
    },
    {
      "cell_type": "code",
      "source": [
        "# Check descriptive stats for test df\n",
        "test_df.describe()"
      ],
      "metadata": {
        "colab": {
          "base_uri": "https://localhost:8080/",
          "height": 364
        },
        "id": "HVOrnqORSAzD",
        "outputId": "2bbd8024-c30c-4f0a-f905-035e1d90350d"
      },
      "execution_count": 70,
      "outputs": [
        {
          "output_type": "execute_result",
          "data": {
            "text/plain": [
              "        Education  Marital_Status      Income     Recency  NumWebVisitsMonth  \\\n",
              "count  662.000000      662.000000  662.000000  662.000000         662.000000   \n",
              "mean     0.346677        0.622356    0.498455    0.473634           0.225871   \n",
              "std      0.397016        0.485164    0.227038    0.286650           0.126139   \n",
              "min      0.000000        0.000000    0.000000    0.000000           0.000000   \n",
              "25%      0.000000        0.000000    0.311420    0.232323           0.157895   \n",
              "50%      0.000000        1.000000    0.496431    0.474747           0.263158   \n",
              "75%      0.500000        1.000000    0.676918    0.727273           0.315789   \n",
              "max      1.000000        1.000000    1.000000    1.000000           1.000000   \n",
              "\n",
              "       AcceptedCmp3  AcceptedCmp4  AcceptedCmp5  AcceptedCmp1  AcceptedCmp2  \\\n",
              "count    662.000000    662.000000    662.000000    662.000000    662.000000   \n",
              "mean       0.072508      0.066465      0.066465      0.064955      0.015106   \n",
              "std        0.259523      0.249282      0.249282      0.246632      0.122066   \n",
              "min        0.000000      0.000000      0.000000      0.000000      0.000000   \n",
              "25%        0.000000      0.000000      0.000000      0.000000      0.000000   \n",
              "50%        0.000000      0.000000      0.000000      0.000000      0.000000   \n",
              "75%        0.000000      0.000000      0.000000      0.000000      0.000000   \n",
              "max        1.000000      1.000000      1.000000      1.000000      1.000000   \n",
              "\n",
              "         Complain         Age    Children  TotalSpendings  TotalPurchases  \\\n",
              "count  662.000000  662.000000  662.000000      662.000000      662.000000   \n",
              "mean     0.016616    0.504703    0.311682        0.243876        0.360589   \n",
              "std      0.127925    0.226672    0.251473        0.248732        0.224401   \n",
              "min      0.000000    0.000000    0.000000        0.000000        0.000000   \n",
              "25%      0.000000    0.339623    0.000000        0.026451        0.161290   \n",
              "50%      0.000000    0.490566    0.333333        0.154224        0.322581   \n",
              "75%      0.000000    0.679245    0.333333        0.422462        0.548387   \n",
              "max      1.000000    1.000000    1.000000        1.000000        1.000000   \n",
              "\n",
              "         Response  \n",
              "count  662.000000  \n",
              "mean     0.149547  \n",
              "std      0.356896  \n",
              "min      0.000000  \n",
              "25%      0.000000  \n",
              "50%      0.000000  \n",
              "75%      0.000000  \n",
              "max      1.000000  "
            ],
            "text/html": [
              "\n",
              "  <div id=\"df-2adac48c-def2-4fab-b83e-75a275a66046\">\n",
              "    <div class=\"colab-df-container\">\n",
              "      <div>\n",
              "<style scoped>\n",
              "    .dataframe tbody tr th:only-of-type {\n",
              "        vertical-align: middle;\n",
              "    }\n",
              "\n",
              "    .dataframe tbody tr th {\n",
              "        vertical-align: top;\n",
              "    }\n",
              "\n",
              "    .dataframe thead th {\n",
              "        text-align: right;\n",
              "    }\n",
              "</style>\n",
              "<table border=\"1\" class=\"dataframe\">\n",
              "  <thead>\n",
              "    <tr style=\"text-align: right;\">\n",
              "      <th></th>\n",
              "      <th>Education</th>\n",
              "      <th>Marital_Status</th>\n",
              "      <th>Income</th>\n",
              "      <th>Recency</th>\n",
              "      <th>NumWebVisitsMonth</th>\n",
              "      <th>AcceptedCmp3</th>\n",
              "      <th>AcceptedCmp4</th>\n",
              "      <th>AcceptedCmp5</th>\n",
              "      <th>AcceptedCmp1</th>\n",
              "      <th>AcceptedCmp2</th>\n",
              "      <th>Complain</th>\n",
              "      <th>Age</th>\n",
              "      <th>Children</th>\n",
              "      <th>TotalSpendings</th>\n",
              "      <th>TotalPurchases</th>\n",
              "      <th>Response</th>\n",
              "    </tr>\n",
              "  </thead>\n",
              "  <tbody>\n",
              "    <tr>\n",
              "      <th>count</th>\n",
              "      <td>662.000000</td>\n",
              "      <td>662.000000</td>\n",
              "      <td>662.000000</td>\n",
              "      <td>662.000000</td>\n",
              "      <td>662.000000</td>\n",
              "      <td>662.000000</td>\n",
              "      <td>662.000000</td>\n",
              "      <td>662.000000</td>\n",
              "      <td>662.000000</td>\n",
              "      <td>662.000000</td>\n",
              "      <td>662.000000</td>\n",
              "      <td>662.000000</td>\n",
              "      <td>662.000000</td>\n",
              "      <td>662.000000</td>\n",
              "      <td>662.000000</td>\n",
              "      <td>662.000000</td>\n",
              "    </tr>\n",
              "    <tr>\n",
              "      <th>mean</th>\n",
              "      <td>0.346677</td>\n",
              "      <td>0.622356</td>\n",
              "      <td>0.498455</td>\n",
              "      <td>0.473634</td>\n",
              "      <td>0.225871</td>\n",
              "      <td>0.072508</td>\n",
              "      <td>0.066465</td>\n",
              "      <td>0.066465</td>\n",
              "      <td>0.064955</td>\n",
              "      <td>0.015106</td>\n",
              "      <td>0.016616</td>\n",
              "      <td>0.504703</td>\n",
              "      <td>0.311682</td>\n",
              "      <td>0.243876</td>\n",
              "      <td>0.360589</td>\n",
              "      <td>0.149547</td>\n",
              "    </tr>\n",
              "    <tr>\n",
              "      <th>std</th>\n",
              "      <td>0.397016</td>\n",
              "      <td>0.485164</td>\n",
              "      <td>0.227038</td>\n",
              "      <td>0.286650</td>\n",
              "      <td>0.126139</td>\n",
              "      <td>0.259523</td>\n",
              "      <td>0.249282</td>\n",
              "      <td>0.249282</td>\n",
              "      <td>0.246632</td>\n",
              "      <td>0.122066</td>\n",
              "      <td>0.127925</td>\n",
              "      <td>0.226672</td>\n",
              "      <td>0.251473</td>\n",
              "      <td>0.248732</td>\n",
              "      <td>0.224401</td>\n",
              "      <td>0.356896</td>\n",
              "    </tr>\n",
              "    <tr>\n",
              "      <th>min</th>\n",
              "      <td>0.000000</td>\n",
              "      <td>0.000000</td>\n",
              "      <td>0.000000</td>\n",
              "      <td>0.000000</td>\n",
              "      <td>0.000000</td>\n",
              "      <td>0.000000</td>\n",
              "      <td>0.000000</td>\n",
              "      <td>0.000000</td>\n",
              "      <td>0.000000</td>\n",
              "      <td>0.000000</td>\n",
              "      <td>0.000000</td>\n",
              "      <td>0.000000</td>\n",
              "      <td>0.000000</td>\n",
              "      <td>0.000000</td>\n",
              "      <td>0.000000</td>\n",
              "      <td>0.000000</td>\n",
              "    </tr>\n",
              "    <tr>\n",
              "      <th>25%</th>\n",
              "      <td>0.000000</td>\n",
              "      <td>0.000000</td>\n",
              "      <td>0.311420</td>\n",
              "      <td>0.232323</td>\n",
              "      <td>0.157895</td>\n",
              "      <td>0.000000</td>\n",
              "      <td>0.000000</td>\n",
              "      <td>0.000000</td>\n",
              "      <td>0.000000</td>\n",
              "      <td>0.000000</td>\n",
              "      <td>0.000000</td>\n",
              "      <td>0.339623</td>\n",
              "      <td>0.000000</td>\n",
              "      <td>0.026451</td>\n",
              "      <td>0.161290</td>\n",
              "      <td>0.000000</td>\n",
              "    </tr>\n",
              "    <tr>\n",
              "      <th>50%</th>\n",
              "      <td>0.000000</td>\n",
              "      <td>1.000000</td>\n",
              "      <td>0.496431</td>\n",
              "      <td>0.474747</td>\n",
              "      <td>0.263158</td>\n",
              "      <td>0.000000</td>\n",
              "      <td>0.000000</td>\n",
              "      <td>0.000000</td>\n",
              "      <td>0.000000</td>\n",
              "      <td>0.000000</td>\n",
              "      <td>0.000000</td>\n",
              "      <td>0.490566</td>\n",
              "      <td>0.333333</td>\n",
              "      <td>0.154224</td>\n",
              "      <td>0.322581</td>\n",
              "      <td>0.000000</td>\n",
              "    </tr>\n",
              "    <tr>\n",
              "      <th>75%</th>\n",
              "      <td>0.500000</td>\n",
              "      <td>1.000000</td>\n",
              "      <td>0.676918</td>\n",
              "      <td>0.727273</td>\n",
              "      <td>0.315789</td>\n",
              "      <td>0.000000</td>\n",
              "      <td>0.000000</td>\n",
              "      <td>0.000000</td>\n",
              "      <td>0.000000</td>\n",
              "      <td>0.000000</td>\n",
              "      <td>0.000000</td>\n",
              "      <td>0.679245</td>\n",
              "      <td>0.333333</td>\n",
              "      <td>0.422462</td>\n",
              "      <td>0.548387</td>\n",
              "      <td>0.000000</td>\n",
              "    </tr>\n",
              "    <tr>\n",
              "      <th>max</th>\n",
              "      <td>1.000000</td>\n",
              "      <td>1.000000</td>\n",
              "      <td>1.000000</td>\n",
              "      <td>1.000000</td>\n",
              "      <td>1.000000</td>\n",
              "      <td>1.000000</td>\n",
              "      <td>1.000000</td>\n",
              "      <td>1.000000</td>\n",
              "      <td>1.000000</td>\n",
              "      <td>1.000000</td>\n",
              "      <td>1.000000</td>\n",
              "      <td>1.000000</td>\n",
              "      <td>1.000000</td>\n",
              "      <td>1.000000</td>\n",
              "      <td>1.000000</td>\n",
              "      <td>1.000000</td>\n",
              "    </tr>\n",
              "  </tbody>\n",
              "</table>\n",
              "</div>\n",
              "      <button class=\"colab-df-convert\" onclick=\"convertToInteractive('df-2adac48c-def2-4fab-b83e-75a275a66046')\"\n",
              "              title=\"Convert this dataframe to an interactive table.\"\n",
              "              style=\"display:none;\">\n",
              "        \n",
              "  <svg xmlns=\"http://www.w3.org/2000/svg\" height=\"24px\"viewBox=\"0 0 24 24\"\n",
              "       width=\"24px\">\n",
              "    <path d=\"M0 0h24v24H0V0z\" fill=\"none\"/>\n",
              "    <path d=\"M18.56 5.44l.94 2.06.94-2.06 2.06-.94-2.06-.94-.94-2.06-.94 2.06-2.06.94zm-11 1L8.5 8.5l.94-2.06 2.06-.94-2.06-.94L8.5 2.5l-.94 2.06-2.06.94zm10 10l.94 2.06.94-2.06 2.06-.94-2.06-.94-.94-2.06-.94 2.06-2.06.94z\"/><path d=\"M17.41 7.96l-1.37-1.37c-.4-.4-.92-.59-1.43-.59-.52 0-1.04.2-1.43.59L10.3 9.45l-7.72 7.72c-.78.78-.78 2.05 0 2.83L4 21.41c.39.39.9.59 1.41.59.51 0 1.02-.2 1.41-.59l7.78-7.78 2.81-2.81c.8-.78.8-2.07 0-2.86zM5.41 20L4 18.59l7.72-7.72 1.47 1.35L5.41 20z\"/>\n",
              "  </svg>\n",
              "      </button>\n",
              "      \n",
              "  <style>\n",
              "    .colab-df-container {\n",
              "      display:flex;\n",
              "      flex-wrap:wrap;\n",
              "      gap: 12px;\n",
              "    }\n",
              "\n",
              "    .colab-df-convert {\n",
              "      background-color: #E8F0FE;\n",
              "      border: none;\n",
              "      border-radius: 50%;\n",
              "      cursor: pointer;\n",
              "      display: none;\n",
              "      fill: #1967D2;\n",
              "      height: 32px;\n",
              "      padding: 0 0 0 0;\n",
              "      width: 32px;\n",
              "    }\n",
              "\n",
              "    .colab-df-convert:hover {\n",
              "      background-color: #E2EBFA;\n",
              "      box-shadow: 0px 1px 2px rgba(60, 64, 67, 0.3), 0px 1px 3px 1px rgba(60, 64, 67, 0.15);\n",
              "      fill: #174EA6;\n",
              "    }\n",
              "\n",
              "    [theme=dark] .colab-df-convert {\n",
              "      background-color: #3B4455;\n",
              "      fill: #D2E3FC;\n",
              "    }\n",
              "\n",
              "    [theme=dark] .colab-df-convert:hover {\n",
              "      background-color: #434B5C;\n",
              "      box-shadow: 0px 1px 3px 1px rgba(0, 0, 0, 0.15);\n",
              "      filter: drop-shadow(0px 1px 2px rgba(0, 0, 0, 0.3));\n",
              "      fill: #FFFFFF;\n",
              "    }\n",
              "  </style>\n",
              "\n",
              "      <script>\n",
              "        const buttonEl =\n",
              "          document.querySelector('#df-2adac48c-def2-4fab-b83e-75a275a66046 button.colab-df-convert');\n",
              "        buttonEl.style.display =\n",
              "          google.colab.kernel.accessAllowed ? 'block' : 'none';\n",
              "\n",
              "        async function convertToInteractive(key) {\n",
              "          const element = document.querySelector('#df-2adac48c-def2-4fab-b83e-75a275a66046');\n",
              "          const dataTable =\n",
              "            await google.colab.kernel.invokeFunction('convertToInteractive',\n",
              "                                                     [key], {});\n",
              "          if (!dataTable) return;\n",
              "\n",
              "          const docLinkHtml = 'Like what you see? Visit the ' +\n",
              "            '<a target=\"_blank\" href=https://colab.research.google.com/notebooks/data_table.ipynb>data table notebook</a>'\n",
              "            + ' to learn more about interactive tables.';\n",
              "          element.innerHTML = '';\n",
              "          dataTable['output_type'] = 'display_data';\n",
              "          await google.colab.output.renderOutput(dataTable, element);\n",
              "          const docLink = document.createElement('div');\n",
              "          docLink.innerHTML = docLinkHtml;\n",
              "          element.appendChild(docLink);\n",
              "        }\n",
              "      </script>\n",
              "    </div>\n",
              "  </div>\n",
              "  "
            ]
          },
          "metadata": {},
          "execution_count": 70
        }
      ]
    },
    {
      "cell_type": "code",
      "source": [
        "# Reseparate independent and dependent feature of the train-test df\n",
        "X_train_response = train_df.drop(['Response'], axis=1)\n",
        "y_train_response = train_df['Response']\n",
        "\n",
        "X_test_response = test_df.drop(['Response'], axis=1)\n",
        "y_test_response = test_df['Response']"
      ],
      "metadata": {
        "id": "U6riyhiGSER7"
      },
      "execution_count": 71,
      "outputs": []
    },
    {
      "cell_type": "markdown",
      "source": [
        "## **Model Selection**"
      ],
      "metadata": {
        "id": "9Kj9FIY4Ot6i"
      }
    },
    {
      "cell_type": "markdown",
      "source": [
        "For this chance, we would like to select model from three basic models (LogisticRegression,DecisionTree, and RuleFit)"
      ],
      "metadata": {
        "id": "VTi3RD_9SKWM"
      }
    },
    {
      "cell_type": "code",
      "source": [
        "var_name = X_train_response.columns\n",
        "var_name"
      ],
      "metadata": {
        "colab": {
          "base_uri": "https://localhost:8080/"
        },
        "id": "idT2zoefSOYI",
        "outputId": "d479201d-398d-447f-e510-b3a7cafe7b4b"
      },
      "execution_count": 72,
      "outputs": [
        {
          "output_type": "execute_result",
          "data": {
            "text/plain": [
              "Index(['Education', 'Marital_Status', 'Income', 'Recency', 'NumWebVisitsMonth',\n",
              "       'AcceptedCmp3', 'AcceptedCmp4', 'AcceptedCmp5', 'AcceptedCmp1',\n",
              "       'AcceptedCmp2', 'Complain', 'Age', 'Children', 'TotalSpendings',\n",
              "       'TotalPurchases'],\n",
              "      dtype='object')"
            ]
          },
          "metadata": {},
          "execution_count": 72
        }
      ]
    },
    {
      "cell_type": "code",
      "source": [
        "def create_models(seed=1000):\n",
        "    '''\n",
        "    Create a list of machine learning models.\n",
        "            Parameters:\n",
        "                    seed (integer): random seed of the models\n",
        "            Returns:\n",
        "                    models (list): list containing the models\n",
        "    '''\n",
        "\n",
        "    models = []\n",
        "    models.append(('Logistic Regression', LogisticRegression(random_state=seed)))\n",
        "    models.append(('KNN',  KNeighborsClassifier(n_neighbors = 3)))\n",
        "    models.append(('Decision Tree', DecisionTreeClassifier(random_state=seed, max_depth = 5)))\n",
        "    models.append(('RuleFit', SkopeRules(random_state=seed, n_estimators = 10, max_features = 'sqrt', feature_names = var_name)))\n",
        "    models.append(('Random Forest', RandomForestClassifier(random_state = seed,n_estimators=100)))\n",
        "    models.append(('Multi-Layered Perceptron', MLPClassifier(random_state = seed,hidden_layer_sizes = (8,),solver = 'sgd')))\n",
        "    models.append(('XGBoost', XGBClassifier(random_state = seed)))\n",
        "    \n",
        "    return models\n",
        "\n",
        "# create a list with all the algorithms we are going to assess\n",
        "models = create_models()"
      ],
      "metadata": {
        "id": "MsJpIH4WSQw7"
      },
      "execution_count": 82,
      "outputs": []
    },
    {
      "cell_type": "code",
      "source": [
        "# test the F1 Score of each model using default hyperparameters\n",
        "results = []\n",
        "names = []\n",
        "scoring = 'F1 Score'\n",
        "for name, model in models:\n",
        "    # fit the model with the training data\n",
        "    model.fit(X_train_response, y_train_response).predict(X_test_response)\n",
        "    # make predictions with the testing data\n",
        "    predictions = model.predict(X_test_response)\n",
        "    # calculate f1_score \n",
        "    f1score = f1_score(y_test_response, predictions)\n",
        "    # append the model name and the F1 Score to the lists\n",
        "    results.append(f1score)\n",
        "    names.append(name)\n",
        "    # print classifier F1 Score\n",
        "    print('Classifier: {}, F1 Score: {})'.format(name, f1score))"
      ],
      "metadata": {
        "colab": {
          "base_uri": "https://localhost:8080/"
        },
        "id": "SqxR8sqeS2V-",
        "outputId": "682b91cb-24bf-49af-86b7-736f5d710de1"
      },
      "execution_count": 83,
      "outputs": [
        {
          "output_type": "stream",
          "name": "stdout",
          "text": [
            "Classifier: Logistic Regression, F1 Score: 0.3795620437956205)\n",
            "Classifier: KNN, F1 Score: 0.5714285714285715)\n",
            "Classifier: Decision Tree, F1 Score: 0.6394557823129252)\n",
            "Classifier: RuleFit, F1 Score: 0.5196078431372548)\n",
            "Classifier: Random Forest, F1 Score: 1.0)\n",
            "Classifier: Multi-Layered Perceptron, F1 Score: 0.0)\n",
            "Classifier: XGBoost, F1 Score: 0.7215189873417721)\n"
          ]
        }
      ]
    },
    {
      "cell_type": "code",
      "source": [
        "for name,model in models:\n",
        "  model.fit(X_train_response, y_train_response).predict(X_test_response)\n",
        "  predictions = model.predict(X_test_response)\n",
        "  print('='*75)\n",
        "  print('Classifier: {}'.format(name))\n",
        "  print(pd.DataFrame(metrics.classification_report(y_test_response, predictions, target_names=['not response','response'], output_dict=True)))"
      ],
      "metadata": {
        "colab": {
          "base_uri": "https://localhost:8080/"
        },
        "id": "v0aXPXdJTtq-",
        "outputId": "56fde800-6087-4121-b652-f988216feed5"
      },
      "execution_count": 84,
      "outputs": [
        {
          "output_type": "stream",
          "name": "stdout",
          "text": [
            "===========================================================================\n",
            "Classifier: Logistic Regression\n",
            "           not response   response  accuracy   macro avg  weighted avg\n",
            "precision      0.883013   0.684211  0.871601    0.783612      0.853283\n",
            "recall         0.978686   0.262626  0.871601    0.620656      0.871601\n",
            "f1-score       0.928391   0.379562  0.871601    0.653976      0.846315\n",
            "support      563.000000  99.000000  0.871601  662.000000    662.000000\n",
            "===========================================================================\n",
            "Classifier: KNN\n",
            "           not response   response  accuracy   macro avg  weighted avg\n",
            "precision      0.913997   0.695652  0.891239    0.804824      0.881344\n",
            "recall         0.962700   0.484848  0.891239    0.723774      0.891239\n",
            "f1-score       0.937716   0.571429  0.891239    0.754572      0.882939\n",
            "support      563.000000  99.000000  0.891239  662.000000    662.000000\n",
            "===========================================================================\n",
            "Classifier: Decision Tree\n",
            "           not response   response  accuracy   macro avg  weighted avg\n",
            "precision      0.915309   0.979167   0.91994    0.947238      0.924859\n",
            "recall         0.998224   0.474747   0.91994    0.736486      0.919940\n",
            "f1-score       0.954970   0.639456   0.91994    0.797213      0.907786\n",
            "support      563.000000  99.000000   0.91994  662.000000    662.000000\n",
            "===========================================================================\n",
            "Classifier: RuleFit\n",
            "           not response   response  accuracy   macro avg  weighted avg\n",
            "precision      0.917415   0.504762  0.851964    0.711088      0.855704\n",
            "recall         0.907638   0.535354  0.851964    0.721496      0.851964\n",
            "f1-score       0.912500   0.519608  0.851964    0.716054      0.853744\n",
            "support      563.000000  99.000000  0.851964  662.000000    662.000000\n",
            "===========================================================================\n",
            "Classifier: Random Forest\n",
            "           not response  response  accuracy  macro avg  weighted avg\n",
            "precision           1.0       1.0       1.0        1.0           1.0\n",
            "recall              1.0       1.0       1.0        1.0           1.0\n",
            "f1-score            1.0       1.0       1.0        1.0           1.0\n",
            "support           563.0      99.0       1.0      662.0         662.0\n",
            "===========================================================================\n",
            "Classifier: Multi-Layered Perceptron\n",
            "           not response  response  accuracy   macro avg  weighted avg\n",
            "precision      0.850453       0.0  0.850453    0.425227      0.723271\n",
            "recall         1.000000       0.0  0.850453    0.500000      0.850453\n",
            "f1-score       0.919184       0.0  0.850453    0.459592      0.781723\n",
            "support      563.000000      99.0  0.850453  662.000000    662.000000\n",
            "===========================================================================\n",
            "Classifier: XGBoost\n",
            "           not response   response  accuracy   macro avg  weighted avg\n",
            "precision      0.930348   0.966102  0.933535    0.948225      0.935695\n",
            "recall         0.996448   0.575758  0.933535    0.786103      0.933535\n",
            "f1-score       0.962264   0.721519  0.933535    0.841892      0.926261\n",
            "support      563.000000  99.000000  0.933535  662.000000    662.000000\n"
          ]
        }
      ]
    },
    {
      "cell_type": "markdown",
      "source": [
        "From the summary we got, we will choose RandomForest for our model. The reason is that the RandomForest have higher f1 score, which is suitable for imbalance dataset, among all the basic models (Logistic Regression, Decision Tree, RuleFit) and complex models (Random Forest, Multi-Layered Perceptron, XGBoost)"
      ],
      "metadata": {
        "id": "DX9pTlUhUAzu"
      }
    },
    {
      "cell_type": "markdown",
      "source": [
        "# **Modelling**"
      ],
      "metadata": {
        "id": "I_vw0c5eUSyB"
      }
    },
    {
      "cell_type": "markdown",
      "source": [
        "# Modelling with best model"
      ],
      "metadata": {
        "id": "OY9C5aUsUVNI"
      }
    },
    {
      "cell_type": "code",
      "source": [
        "# define XGBoost regression model\n",
        "randomforest = RandomForestClassifier(random_state = 100)\n",
        "# fit model to data\n",
        "randomforest.fit(X_train_response, y_train_response)"
      ],
      "metadata": {
        "colab": {
          "base_uri": "https://localhost:8080/"
        },
        "id": "5iUfhxRYUmPy",
        "outputId": "a9ac07a5-4b7b-4d36-9c15-cf579f998605"
      },
      "execution_count": 94,
      "outputs": [
        {
          "output_type": "execute_result",
          "data": {
            "text/plain": [
              "RandomForestClassifier(random_state=100)"
            ]
          },
          "metadata": {},
          "execution_count": 94
        }
      ]
    },
    {
      "cell_type": "markdown",
      "source": [
        "# Model Evaluation"
      ],
      "metadata": {
        "id": "1dtSaU-NV7xw"
      }
    },
    {
      "cell_type": "code",
      "source": [
        "# predict\n",
        "pred_result = randomforest.predict(X_test_response)\n",
        "pred_proba_result = randomforest.predict_proba(X_test_response)"
      ],
      "metadata": {
        "id": "GIkImEogV-J6"
      },
      "execution_count": 95,
      "outputs": []
    },
    {
      "cell_type": "code",
      "source": [
        "# check classification report result\n",
        "pd.DataFrame(metrics.classification_report(y_test_response, pred_result, target_names=['not response','response'], output_dict=True))"
      ],
      "metadata": {
        "colab": {
          "base_uri": "https://localhost:8080/",
          "height": 175
        },
        "id": "0wQ3V4TKWHKA",
        "outputId": "54163f83-002b-4943-fab6-e0795265205d"
      },
      "execution_count": 96,
      "outputs": [
        {
          "output_type": "execute_result",
          "data": {
            "text/plain": [
              "           not response  response  accuracy  macro avg  weighted avg\n",
              "precision           1.0       1.0       1.0        1.0           1.0\n",
              "recall              1.0       1.0       1.0        1.0           1.0\n",
              "f1-score            1.0       1.0       1.0        1.0           1.0\n",
              "support           563.0      99.0       1.0      662.0         662.0"
            ],
            "text/html": [
              "\n",
              "  <div id=\"df-77c7d50f-cc86-4d76-a787-cc408d30cd25\">\n",
              "    <div class=\"colab-df-container\">\n",
              "      <div>\n",
              "<style scoped>\n",
              "    .dataframe tbody tr th:only-of-type {\n",
              "        vertical-align: middle;\n",
              "    }\n",
              "\n",
              "    .dataframe tbody tr th {\n",
              "        vertical-align: top;\n",
              "    }\n",
              "\n",
              "    .dataframe thead th {\n",
              "        text-align: right;\n",
              "    }\n",
              "</style>\n",
              "<table border=\"1\" class=\"dataframe\">\n",
              "  <thead>\n",
              "    <tr style=\"text-align: right;\">\n",
              "      <th></th>\n",
              "      <th>not response</th>\n",
              "      <th>response</th>\n",
              "      <th>accuracy</th>\n",
              "      <th>macro avg</th>\n",
              "      <th>weighted avg</th>\n",
              "    </tr>\n",
              "  </thead>\n",
              "  <tbody>\n",
              "    <tr>\n",
              "      <th>precision</th>\n",
              "      <td>1.0</td>\n",
              "      <td>1.0</td>\n",
              "      <td>1.0</td>\n",
              "      <td>1.0</td>\n",
              "      <td>1.0</td>\n",
              "    </tr>\n",
              "    <tr>\n",
              "      <th>recall</th>\n",
              "      <td>1.0</td>\n",
              "      <td>1.0</td>\n",
              "      <td>1.0</td>\n",
              "      <td>1.0</td>\n",
              "      <td>1.0</td>\n",
              "    </tr>\n",
              "    <tr>\n",
              "      <th>f1-score</th>\n",
              "      <td>1.0</td>\n",
              "      <td>1.0</td>\n",
              "      <td>1.0</td>\n",
              "      <td>1.0</td>\n",
              "      <td>1.0</td>\n",
              "    </tr>\n",
              "    <tr>\n",
              "      <th>support</th>\n",
              "      <td>563.0</td>\n",
              "      <td>99.0</td>\n",
              "      <td>1.0</td>\n",
              "      <td>662.0</td>\n",
              "      <td>662.0</td>\n",
              "    </tr>\n",
              "  </tbody>\n",
              "</table>\n",
              "</div>\n",
              "      <button class=\"colab-df-convert\" onclick=\"convertToInteractive('df-77c7d50f-cc86-4d76-a787-cc408d30cd25')\"\n",
              "              title=\"Convert this dataframe to an interactive table.\"\n",
              "              style=\"display:none;\">\n",
              "        \n",
              "  <svg xmlns=\"http://www.w3.org/2000/svg\" height=\"24px\"viewBox=\"0 0 24 24\"\n",
              "       width=\"24px\">\n",
              "    <path d=\"M0 0h24v24H0V0z\" fill=\"none\"/>\n",
              "    <path d=\"M18.56 5.44l.94 2.06.94-2.06 2.06-.94-2.06-.94-.94-2.06-.94 2.06-2.06.94zm-11 1L8.5 8.5l.94-2.06 2.06-.94-2.06-.94L8.5 2.5l-.94 2.06-2.06.94zm10 10l.94 2.06.94-2.06 2.06-.94-2.06-.94-.94-2.06-.94 2.06-2.06.94z\"/><path d=\"M17.41 7.96l-1.37-1.37c-.4-.4-.92-.59-1.43-.59-.52 0-1.04.2-1.43.59L10.3 9.45l-7.72 7.72c-.78.78-.78 2.05 0 2.83L4 21.41c.39.39.9.59 1.41.59.51 0 1.02-.2 1.41-.59l7.78-7.78 2.81-2.81c.8-.78.8-2.07 0-2.86zM5.41 20L4 18.59l7.72-7.72 1.47 1.35L5.41 20z\"/>\n",
              "  </svg>\n",
              "      </button>\n",
              "      \n",
              "  <style>\n",
              "    .colab-df-container {\n",
              "      display:flex;\n",
              "      flex-wrap:wrap;\n",
              "      gap: 12px;\n",
              "    }\n",
              "\n",
              "    .colab-df-convert {\n",
              "      background-color: #E8F0FE;\n",
              "      border: none;\n",
              "      border-radius: 50%;\n",
              "      cursor: pointer;\n",
              "      display: none;\n",
              "      fill: #1967D2;\n",
              "      height: 32px;\n",
              "      padding: 0 0 0 0;\n",
              "      width: 32px;\n",
              "    }\n",
              "\n",
              "    .colab-df-convert:hover {\n",
              "      background-color: #E2EBFA;\n",
              "      box-shadow: 0px 1px 2px rgba(60, 64, 67, 0.3), 0px 1px 3px 1px rgba(60, 64, 67, 0.15);\n",
              "      fill: #174EA6;\n",
              "    }\n",
              "\n",
              "    [theme=dark] .colab-df-convert {\n",
              "      background-color: #3B4455;\n",
              "      fill: #D2E3FC;\n",
              "    }\n",
              "\n",
              "    [theme=dark] .colab-df-convert:hover {\n",
              "      background-color: #434B5C;\n",
              "      box-shadow: 0px 1px 3px 1px rgba(0, 0, 0, 0.15);\n",
              "      filter: drop-shadow(0px 1px 2px rgba(0, 0, 0, 0.3));\n",
              "      fill: #FFFFFF;\n",
              "    }\n",
              "  </style>\n",
              "\n",
              "      <script>\n",
              "        const buttonEl =\n",
              "          document.querySelector('#df-77c7d50f-cc86-4d76-a787-cc408d30cd25 button.colab-df-convert');\n",
              "        buttonEl.style.display =\n",
              "          google.colab.kernel.accessAllowed ? 'block' : 'none';\n",
              "\n",
              "        async function convertToInteractive(key) {\n",
              "          const element = document.querySelector('#df-77c7d50f-cc86-4d76-a787-cc408d30cd25');\n",
              "          const dataTable =\n",
              "            await google.colab.kernel.invokeFunction('convertToInteractive',\n",
              "                                                     [key], {});\n",
              "          if (!dataTable) return;\n",
              "\n",
              "          const docLinkHtml = 'Like what you see? Visit the ' +\n",
              "            '<a target=\"_blank\" href=https://colab.research.google.com/notebooks/data_table.ipynb>data table notebook</a>'\n",
              "            + ' to learn more about interactive tables.';\n",
              "          element.innerHTML = '';\n",
              "          dataTable['output_type'] = 'display_data';\n",
              "          await google.colab.output.renderOutput(dataTable, element);\n",
              "          const docLink = document.createElement('div');\n",
              "          docLink.innerHTML = docLinkHtml;\n",
              "          element.appendChild(docLink);\n",
              "        }\n",
              "      </script>\n",
              "    </div>\n",
              "  </div>\n",
              "  "
            ]
          },
          "metadata": {},
          "execution_count": 96
        }
      ]
    },
    {
      "cell_type": "code",
      "source": [
        "# check confusion matrix\n",
        "skplt.metrics.plot_confusion_matrix(y_test_response, pred_result);"
      ],
      "metadata": {
        "colab": {
          "base_uri": "https://localhost:8080/",
          "height": 295
        },
        "id": "tkeLJH0jWMEH",
        "outputId": "25aa4d7a-2d51-4589-f1e4-f106db5f320f"
      },
      "execution_count": 97,
      "outputs": [
        {
          "output_type": "display_data",
          "data": {
            "text/plain": [
              "<Figure size 432x288 with 2 Axes>"
            ],
            "image/png": "[encoded data removed]"
          },
          "metadata": {
            "needs_background": "light"
          }
        }
      ]
    },
    {
      "cell_type": "markdown",
      "source": [
        "The confusion matrix show :\n",
        "\n",
        "The model predicted response and the customer actually response is 99 (True Positive)\n",
        "The model predicted not response and the customer actually response is 0 (False Negative)\n",
        "The model predicted response and the customer actually not response is 0 (False Positive)\n",
        "The model predicted not response and the customer actually not response is 563 (True Negative)"
      ],
      "metadata": {
        "id": "9qNxbyN4WRZq"
      }
    },
    {
      "cell_type": "code",
      "source": [
        "# check ROC-AUC curve and result\n",
        "skplt.metrics.plot_roc_curve(y_test_response, pred_proba_result);"
      ],
      "metadata": {
        "colab": {
          "base_uri": "https://localhost:8080/",
          "height": 295
        },
        "id": "f7PEOiNQWeiZ",
        "outputId": "23ffaa1c-11ac-40fc-fcc5-a72f94ad5192"
      },
      "execution_count": 98,
      "outputs": [
        {
          "output_type": "display_data",
          "data": {
            "text/plain": [
              "<Figure size 432x288 with 1 Axes>"
            ],
            "image/png": "[encoded data removed]"
          },
          "metadata": {
            "needs_background": "light"
          }
        }
      ]
    },
    {
      "cell_type": "markdown",
      "source": [
        "The model succeed to distinct between True Positive and True Negative with chance 100%"
      ],
      "metadata": {
        "id": "zS2C5KKeWlTp"
      }
    },
    {
      "cell_type": "code",
      "source": [
        "# check f1-score\n",
        "metrics.f1_score(y_test_response, pred_result)"
      ],
      "metadata": {
        "colab": {
          "base_uri": "https://localhost:8080/"
        },
        "id": "payyKjEjWsIm",
        "outputId": "381f8ce8-2f98-4b93-bad0-1e80886e1d32"
      },
      "execution_count": 99,
      "outputs": [
        {
          "output_type": "execute_result",
          "data": {
            "text/plain": [
              "1.0"
            ]
          },
          "metadata": {},
          "execution_count": 99
        }
      ]
    },
    {
      "cell_type": "markdown",
      "source": [
        "The harmony between precision and recall score of the best model is 100%"
      ],
      "metadata": {
        "id": "6J-vkoctWvi-"
      }
    },
    {
      "cell_type": "markdown",
      "source": [
        "# **Model Interpretation**"
      ],
      "metadata": {
        "id": "57bbh7LhW24_"
      }
    },
    {
      "cell_type": "code",
      "source": [
        "## initiate explainer for XGBoost model\n",
        "response_RF_exp = dx.Explainer(randomforest, X_train_response, y_train_response, label = \"RF Interpretation\")"
      ],
      "metadata": {
        "colab": {
          "base_uri": "https://localhost:8080/"
        },
        "id": "L76o5m5_W53G",
        "outputId": "ab9a8270-8066-4dba-85c2-0de2ac405b2b"
      },
      "execution_count": 105,
      "outputs": [
        {
          "output_type": "stream",
          "name": "stdout",
          "text": [
            "Preparation of a new explainer is initiated\n",
            "\n",
            "  -> data              : 662 rows 15 cols\n",
            "  -> target variable   : Parameter 'y' was a pandas.Series. Converted to a numpy.ndarray.\n",
            "  -> target variable   : 662 values\n",
            "  -> model_class       : sklearn.ensemble._forest.RandomForestClassifier (default)\n",
            "  -> label             : RF Interpretation\n",
            "  -> predict function  : <function yhat_proba_default at 0x7f440f8ce200> will be used (default)\n",
            "  -> predict function  : Accepts pandas.DataFrame and numpy.ndarray.\n",
            "  -> predicted values  : min = 0.0, mean = 0.148, max = 0.91\n",
            "  -> model type        : classification will be used (default)\n",
            "  -> residual function : difference between y and yhat (default)\n",
            "  -> residuals         : min = -0.33, mean = 0.00151, max = 0.44\n",
            "  -> model_info        : package sklearn\n",
            "\n",
            "A new explainer has been created!\n"
          ]
        }
      ]
    },
    {
      "cell_type": "code",
      "source": [
        "# visualize permutation feature importance for RandomForest model\n",
        "response_RF_exp.model_parts().plot()"
      ],
      "metadata": {
        "colab": {
          "base_uri": "https://localhost:8080/",
          "height": 400
        },
        "id": "NiEGN3krX3nN",
        "outputId": "b85fe235-8598-488a-cb2a-e59a31daf84a"
      },
      "execution_count": 106,
      "outputs": [
        {
          "output_type": "display_data",
          "data": {
            "text/html": [
              "<html>\n",
              "<head><meta charset=\"utf-8\" /></head>\n",
              "<body>\n",
              "    <div>            <script src=\"https://cdnjs.cloudflare.com/ajax/libs/mathjax/2.7.5/MathJax.js?config=TeX-AMS-MML_SVG\"></script><script type=\"text/javascript\">if (window.MathJax) {MathJax.Hub.Config({SVG: {font: \"STIX-Web\"}});}</script>                <script type=\"text/javascript\">window.PlotlyConfig = {MathJaxConfig: 'local'};</script>\n",
              "        <script src=\"https://cdn.plot.ly/plotly-2.8.3.min.js\"></script>                <div id=\"a32fa548-fb80-418b-990f-21a749bc5b37\" class=\"plotly-graph-div\" style=\"height:383.0px; width:100%;\"></div>            <script type=\"text/javascript\">                                    window.PLOTLYENV=window.PLOTLYENV || {};                                    if (document.getElementById(\"a32fa548-fb80-418b-990f-21a749bc5b37\")) {                    Plotly.newPlot(                        \"a32fa548-fb80-418b-990f-21a749bc5b37\",                        [{\"base\":0.0,\"hoverinfo\":\"text\",\"hoverlabel\":{\"bgcolor\":\"rgba(0,0,0,0.8)\"},\"hovertext\":[\"Model: RF Interpretation loss after<br>variable: Recency is permuted: 0.019<br>Drop-out loss change: +0.019\",\"Model: RF Interpretation loss after<br>variable: AcceptedCmp3 is permuted: 0.013<br>Drop-out loss change: +0.013\",\"Model: RF Interpretation loss after<br>variable: NumWebVisitsMonth is permuted: 0.006<br>Drop-out loss change: +0.006\",\"Model: RF Interpretation loss after<br>variable: Income is permuted: 0.004<br>Drop-out loss change: +0.004\",\"Model: RF Interpretation loss after<br>variable: TotalSpendings is permuted: 0.004<br>Drop-out loss change: +0.004\",\"Model: RF Interpretation loss after<br>variable: AcceptedCmp1 is permuted: 0.001<br>Drop-out loss change: +0.001\",\"Model: RF Interpretation loss after<br>variable: Age is permuted: 0.001<br>Drop-out loss change: +0.001\",\"Model: RF Interpretation loss after<br>variable: AcceptedCmp5 is permuted: 0.001<br>Drop-out loss change: +0.001\",\"Model: RF Interpretation loss after<br>variable: Marital_Status is permuted: 0.001<br>Drop-out loss change: +0.001\",\"Model: RF Interpretation loss after<br>variable: Education is permuted: 0.0<br>Drop-out loss change: +0.0\"],\"marker\":{\"color\":\"#46bac2\"},\"orientation\":\"h\",\"showlegend\":false,\"text\":[\"+0.019\",\"+0.013\",\"+0.006\",\"+0.004\",\"+0.004\",\"+0.001\",\"+0.001\",\"+0.001\",\"+0.001\",\"+0.0\"],\"textposition\":\"outside\",\"x\":[0.018790031756283954,0.013256902954949135,0.006024723253852915,0.00399375639162497,0.0035497066580547853,0.001212838868256294,0.0010998080269838506,0.001080072483269634,0.0007033030123616335,0.0002996214363887639],\"y\":[\"Recency\",\"AcceptedCmp3\",\"NumWebVisitsMonth\",\"Income\",\"TotalSpendings\",\"AcceptedCmp1\",\"Age\",\"AcceptedCmp5\",\"Marital_Status\",\"Education\"],\"type\":\"bar\",\"xaxis\":\"x\",\"yaxis\":\"y\"}],                        {\"template\":{\"data\":{\"scatter\":[{\"type\":\"scatter\"}]}},\"xaxis\":{\"anchor\":\"y\",\"domain\":[0.0,1.0],\"type\":\"linear\",\"gridwidth\":2,\"zeroline\":false,\"automargin\":true,\"ticks\":\"outside\",\"tickcolor\":\"white\",\"ticklen\":3,\"fixedrange\":true,\"range\":[-0.002818504763442593,0.021608536519726548]},\"yaxis\":{\"anchor\":\"x\",\"domain\":[0.0,1.0],\"type\":\"category\",\"autorange\":\"reversed\",\"gridwidth\":2,\"automargin\":true,\"ticks\":\"outside\",\"tickcolor\":\"white\",\"ticklen\":10,\"fixedrange\":true},\"annotations\":[{\"font\":{\"size\":16},\"showarrow\":false,\"text\":\"RF Interpretation\",\"x\":0.5,\"xanchor\":\"center\",\"xref\":\"paper\",\"y\":1.0,\"yanchor\":\"bottom\",\"yref\":\"paper\"},{\"font\":{\"size\":16},\"showarrow\":false,\"text\":\"drop-out loss\",\"x\":0.5,\"xanchor\":\"center\",\"xref\":\"paper\",\"y\":0,\"yanchor\":\"top\",\"yref\":\"paper\",\"yshift\":-30}],\"shapes\":[{\"line\":{\"color\":\"#371ea3\",\"dash\":\"dot\",\"width\":1.5},\"type\":\"line\",\"x0\":0.0,\"x1\":0.0,\"xref\":\"x\",\"y0\":-1,\"y1\":10,\"yref\":\"y\"}],\"title\":{\"text\":\"Variable Importance\",\"x\":0.15},\"font\":{\"color\":\"#371ea3\"},\"margin\":{\"t\":78,\"b\":71,\"r\":30},\"height\":383.0},                        {\"displaylogo\": false, \"staticPlot\": false, \"toImageButtonOptions\": {\"height\": null, \"width\": null}, \"modeBarButtonsToRemove\": [\"sendDataToCloud\", \"lasso2d\", \"autoScale2d\", \"select2d\", \"zoom2d\", \"pan2d\", \"zoomIn2d\", \"zoomOut2d\", \"resetScale2d\", \"toggleSpikelines\", \"hoverCompareCartesian\", \"hoverClosestCartesian\"], \"responsive\": true}                    ).then(function(){\n",
              "                            \n",
              "var gd = document.getElementById('a32fa548-fb80-418b-990f-21a749bc5b37');\n",
              "var x = new MutationObserver(function (mutations, observer) {{\n",
              "        var display = window.getComputedStyle(gd).display;\n",
              "        if (!display || display === 'none') {{\n",
              "            console.log([gd, 'removed!']);\n",
              "            Plotly.purge(gd);\n",
              "            observer.disconnect();\n",
              "        }}\n",
              "}});\n",
              "\n",
              "// Listen for the removal of the full notebook cells\n",
              "var notebookContainer = gd.closest('#notebook-container');\n",
              "if (notebookContainer) {{\n",
              "    x.observe(notebookContainer, {childList: true});\n",
              "}}\n",
              "\n",
              "// Listen for the clearing of the current output cell\n",
              "var outputEl = gd.closest('.output');\n",
              "if (outputEl) {{\n",
              "    x.observe(outputEl, {childList: true});\n",
              "}}\n",
              "\n",
              "                        })                };                            </script>        </div>\n",
              "</body>\n",
              "</html>"
            ]
          },
          "metadata": {}
        }
      ]
    },
    {
      "cell_type": "markdown",
      "source": [
        "From the plot above, we know that 5 highest importance variable is  Recency, AcceptedCmp3, NumWebVisitsMonth,, Income, TotalSpendings. This is make sense because from what we get at exploratory model analysis, these feature have high impact to determine customer Response."
      ],
      "metadata": {
        "id": "xf9DEgklYLsV"
      }
    },
    {
      "cell_type": "code",
      "source": [
        "# create partial dependence plot of XGBoost model\n",
        "response_RF_exp.model_profile().plot()"
      ],
      "metadata": {
        "colab": {
          "base_uri": "https://localhost:8080/",
          "height": 1000
        },
        "id": "qi_mw7u4YhDk",
        "outputId": "495ab84c-dc0f-4a6d-c2bc-f0e395c4b7ec"
      },
      "execution_count": 107,
      "outputs": [
        {
          "output_type": "stream",
          "name": "stderr",
          "text": [
            "Calculating ceteris paribus: 100%|██████████| 15/15 [00:05<00:00,  2.92it/s]\n"
          ]
        },
        {
          "output_type": "display_data",
          "data": {
            "text/html": [
              "<html>\n",
              "<head><meta charset=\"utf-8\" /></head>\n",
              "<body>\n",
              "    <div>            <script src=\"https://cdnjs.cloudflare.com/ajax/libs/mathjax/2.7.5/MathJax.js?config=TeX-AMS-MML_SVG\"></script><script type=\"text/javascript\">if (window.MathJax) {MathJax.Hub.Config({SVG: {font: \"STIX-Web\"}});}</script>                <script type=\"text/javascript\">window.PlotlyConfig = {MathJaxConfig: 'local'};</script>\n",
              "        <script src=\"https://cdn.plot.ly/plotly-2.8.3.min.js\"></script>                <div id=\"f2dc7ac8-a30d-4d28-96d9-5c1e7c660b73\" class=\"plotly-graph-div\" style=\"height:2869px; width:100%;\"></div>            <script type=\"text/javascript\">                                    window.PLOTLYENV=window.PLOTLYENV || {};                                    if (document.getElementById(\"f2dc7ac8-a30d-4d28-96d9-5c1e7c660b73\")) {                    Plotly.newPlot(                        \"f2dc7ac8-a30d-4d28-96d9-5c1e7c660b73\",                        [{\"customdata\":[[0.15156666666666666,\"RF Interpretation\",\"Education\"],[0.15156666666666666,\"RF Interpretation\",\"Education\"],[0.15156666666666666,\"RF Interpretation\",\"Education\"],[0.15156666666666666,\"RF Interpretation\",\"Education\"],[0.15156666666666666,\"RF Interpretation\",\"Education\"],[0.15156666666666666,\"RF Interpretation\",\"Education\"],[0.15156666666666666,\"RF Interpretation\",\"Education\"],[0.15156666666666666,\"RF Interpretation\",\"Education\"],[0.15156666666666666,\"RF Interpretation\",\"Education\"],[0.15156666666666666,\"RF Interpretation\",\"Education\"],[0.15156666666666666,\"RF Interpretation\",\"Education\"],[0.15156666666666666,\"RF Interpretation\",\"Education\"],[0.15156666666666666,\"RF Interpretation\",\"Education\"],[0.15156666666666666,\"RF Interpretation\",\"Education\"],[0.15156666666666666,\"RF Interpretation\",\"Education\"],[0.15156666666666666,\"RF Interpretation\",\"Education\"],[0.15156666666666666,\"RF Interpretation\",\"Education\"],[0.15156666666666666,\"RF Interpretation\",\"Education\"],[0.15156666666666666,\"RF Interpretation\",\"Education\"],[0.15156666666666666,\"RF Interpretation\",\"Education\"],[0.15156666666666666,\"RF Interpretation\",\"Education\"],[0.15156666666666666,\"RF Interpretation\",\"Education\"],[0.15156666666666666,\"RF Interpretation\",\"Education\"],[0.15156666666666666,\"RF Interpretation\",\"Education\"],[0.15156666666666666,\"RF Interpretation\",\"Education\"],[0.15156666666666666,\"RF Interpretation\",\"Education\"],[0.15156666666666666,\"RF Interpretation\",\"Education\"],[0.15156666666666666,\"RF Interpretation\",\"Education\"],[0.15156666666666666,\"RF Interpretation\",\"Education\"],[0.15156666666666666,\"RF Interpretation\",\"Education\"],[0.15156666666666666,\"RF Interpretation\",\"Education\"],[0.15156666666666666,\"RF Interpretation\",\"Education\"],[0.15156666666666666,\"RF Interpretation\",\"Education\"],[0.15156666666666666,\"RF Interpretation\",\"Education\"],[0.15156666666666666,\"RF Interpretation\",\"Education\"],[0.15156666666666666,\"RF Interpretation\",\"Education\"],[0.15156666666666666,\"RF Interpretation\",\"Education\"],[0.15156666666666666,\"RF Interpretation\",\"Education\"],[0.15156666666666666,\"RF Interpretation\",\"Education\"],[0.15156666666666666,\"RF Interpretation\",\"Education\"],[0.15156666666666666,\"RF Interpretation\",\"Education\"],[0.15156666666666666,\"RF Interpretation\",\"Education\"],[0.15156666666666666,\"RF Interpretation\",\"Education\"],[0.15156666666666666,\"RF Interpretation\",\"Education\"],[0.15156666666666666,\"RF Interpretation\",\"Education\"],[0.15156666666666666,\"RF Interpretation\",\"Education\"],[0.15156666666666666,\"RF Interpretation\",\"Education\"],[0.15156666666666666,\"RF Interpretation\",\"Education\"],[0.15156666666666666,\"RF Interpretation\",\"Education\"],[0.15156666666666666,\"RF Interpretation\",\"Education\"],[0.15156666666666666,\"RF Interpretation\",\"Education\"],[0.15156666666666666,\"RF Interpretation\",\"Education\"],[0.15156666666666666,\"RF Interpretation\",\"Education\"],[0.15156666666666666,\"RF Interpretation\",\"Education\"],[0.15156666666666666,\"RF Interpretation\",\"Education\"],[0.15156666666666666,\"RF Interpretation\",\"Education\"],[0.15156666666666666,\"RF Interpretation\",\"Education\"],[0.15156666666666666,\"RF Interpretation\",\"Education\"],[0.15156666666666666,\"RF Interpretation\",\"Education\"],[0.15156666666666666,\"RF Interpretation\",\"Education\"],[0.15156666666666666,\"RF Interpretation\",\"Education\"],[0.15156666666666666,\"RF Interpretation\",\"Education\"],[0.15156666666666666,\"RF Interpretation\",\"Education\"],[0.15156666666666666,\"RF Interpretation\",\"Education\"],[0.15156666666666666,\"RF Interpretation\",\"Education\"],[0.15156666666666666,\"RF Interpretation\",\"Education\"],[0.15156666666666666,\"RF Interpretation\",\"Education\"],[0.15156666666666666,\"RF Interpretation\",\"Education\"],[0.15156666666666666,\"RF Interpretation\",\"Education\"],[0.15156666666666666,\"RF Interpretation\",\"Education\"],[0.15156666666666666,\"RF Interpretation\",\"Education\"],[0.15156666666666666,\"RF Interpretation\",\"Education\"],[0.15156666666666666,\"RF Interpretation\",\"Education\"],[0.15156666666666666,\"RF Interpretation\",\"Education\"],[0.15156666666666666,\"RF Interpretation\",\"Education\"],[0.15156666666666666,\"RF Interpretation\",\"Education\"],[0.15156666666666666,\"RF Interpretation\",\"Education\"],[0.15156666666666666,\"RF Interpretation\",\"Education\"],[0.15156666666666666,\"RF Interpretation\",\"Education\"],[0.15156666666666666,\"RF Interpretation\",\"Education\"],[0.15156666666666666,\"RF Interpretation\",\"Education\"],[0.15156666666666666,\"RF Interpretation\",\"Education\"],[0.15156666666666666,\"RF Interpretation\",\"Education\"],[0.15156666666666666,\"RF Interpretation\",\"Education\"],[0.15156666666666666,\"RF Interpretation\",\"Education\"],[0.15156666666666666,\"RF Interpretation\",\"Education\"],[0.15156666666666666,\"RF Interpretation\",\"Education\"],[0.15156666666666666,\"RF Interpretation\",\"Education\"],[0.15156666666666666,\"RF Interpretation\",\"Education\"],[0.15156666666666666,\"RF Interpretation\",\"Education\"],[0.15156666666666666,\"RF Interpretation\",\"Education\"],[0.15156666666666666,\"RF Interpretation\",\"Education\"],[0.15156666666666666,\"RF Interpretation\",\"Education\"],[0.15156666666666666,\"RF Interpretation\",\"Education\"],[0.15156666666666666,\"RF Interpretation\",\"Education\"],[0.15156666666666666,\"RF Interpretation\",\"Education\"],[0.15156666666666666,\"RF Interpretation\",\"Education\"],[0.15156666666666666,\"RF Interpretation\",\"Education\"],[0.15156666666666666,\"RF Interpretation\",\"Education\"],[0.15156666666666666,\"RF Interpretation\",\"Education\"],[0.15156666666666666,\"RF Interpretation\",\"Education\"]],\"hovertemplate\":\"<b>%{hovertext}</b><br><br>prediction=%{y:.3f}<br>mean_prediction=%{customdata[0]:.3f}<extra></extra>\",\"hovertext\":[\"RF Interpretation\",\"RF Interpretation\",\"RF Interpretation\",\"RF Interpretation\",\"RF Interpretation\",\"RF Interpretation\",\"RF Interpretation\",\"RF Interpretation\",\"RF Interpretation\",\"RF Interpretation\",\"RF Interpretation\",\"RF Interpretation\",\"RF Interpretation\",\"RF Interpretation\",\"RF Interpretation\",\"RF Interpretation\",\"RF Interpretation\",\"RF Interpretation\",\"RF Interpretation\",\"RF Interpretation\",\"RF Interpretation\",\"RF Interpretation\",\"RF Interpretation\",\"RF Interpretation\",\"RF Interpretation\",\"RF Interpretation\",\"RF Interpretation\",\"RF Interpretation\",\"RF Interpretation\",\"RF Interpretation\",\"RF Interpretation\",\"RF Interpretation\",\"RF Interpretation\",\"RF Interpretation\",\"RF Interpretation\",\"RF Interpretation\",\"RF Interpretation\",\"RF Interpretation\",\"RF Interpretation\",\"RF Interpretation\",\"RF Interpretation\",\"RF Interpretation\",\"RF Interpretation\",\"RF Interpretation\",\"RF Interpretation\",\"RF Interpretation\",\"RF Interpretation\",\"RF Interpretation\",\"RF Interpretation\",\"RF Interpretation\",\"RF Interpretation\",\"RF Interpretation\",\"RF Interpretation\",\"RF Interpretation\",\"RF Interpretation\",\"RF Interpretation\",\"RF Interpretation\",\"RF Interpretation\",\"RF Interpretation\",\"RF Interpretation\",\"RF Interpretation\",\"RF Interpretation\",\"RF Interpretation\",\"RF Interpretation\",\"RF Interpretation\",\"RF Interpretation\",\"RF Interpretation\",\"RF Interpretation\",\"RF Interpretation\",\"RF Interpretation\",\"RF Interpretation\",\"RF Interpretation\",\"RF Interpretation\",\"RF Interpretation\",\"RF Interpretation\",\"RF Interpretation\",\"RF Interpretation\",\"RF Interpretation\",\"RF Interpretation\",\"RF Interpretation\",\"RF Interpretation\",\"RF Interpretation\",\"RF Interpretation\",\"RF Interpretation\",\"RF Interpretation\",\"RF Interpretation\",\"RF Interpretation\",\"RF Interpretation\",\"RF Interpretation\",\"RF Interpretation\",\"RF Interpretation\",\"RF Interpretation\",\"RF Interpretation\",\"RF Interpretation\",\"RF Interpretation\",\"RF Interpretation\",\"RF Interpretation\",\"RF Interpretation\",\"RF Interpretation\",\"RF Interpretation\",\"RF Interpretation\"],\"legendgroup\":\"RF Interpretation\",\"line\":{\"color\":\"#46bac2\",\"dash\":\"solid\",\"width\":2},\"marker\":{\"symbol\":\"circle\"},\"mode\":\"lines\",\"name\":\"RF Interpretation\",\"orientation\":\"v\",\"showlegend\":true,\"x\":[0.0,0.01,0.02,0.03,0.04,0.05,0.06,0.07,0.08,0.09,0.1,0.11,0.12,0.13,0.14,0.15,0.16,0.17,0.18,0.19,0.2,0.21,0.22,0.23,0.24,0.25,0.26,0.27,0.28,0.29,0.3,0.31,0.32,0.33,0.34,0.35000000000000003,0.36,0.37,0.38,0.39,0.4,0.41000000000000003,0.42,0.43,0.44,0.45,0.46,0.47000000000000003,0.48,0.49,0.5,0.51,0.52,0.53,0.54,0.55,0.56,0.5700000000000001,0.58,0.59,0.6,0.61,0.62,0.63,0.64,0.65,0.66,0.67,0.68,0.6900000000000001,0.7000000000000001,0.71,0.72,0.73,0.74,0.75,0.76,0.77,0.78,0.79,0.8,0.81,0.8200000000000001,0.8300000000000001,0.84,0.85,0.86,0.87,0.88,0.89,0.9,0.91,0.92,0.93,0.9400000000000001,0.9500000000000001,0.96,0.97,0.98,0.99,1.0],\"xaxis\":\"x15\",\"y\":[0.14186666666666667,0.14186666666666667,0.14186666666666667,0.14186666666666667,0.14186666666666667,0.14186666666666667,0.14186666666666667,0.14186666666666667,0.14186666666666667,0.14186666666666667,0.14186666666666667,0.14186666666666667,0.14186666666666667,0.14186666666666667,0.14186666666666667,0.14186666666666667,0.14186666666666667,0.14186666666666667,0.14186666666666667,0.14186666666666667,0.14186666666666667,0.14186666666666667,0.14186666666666667,0.14186666666666667,0.14186666666666667,0.14186666666666667,0.1491,0.1491,0.1491,0.1491,0.1491,0.1491,0.1491,0.1491,0.1491,0.1491,0.1491,0.1491,0.1491,0.1491,0.1491,0.1491,0.1491,0.1491,0.1491,0.1491,0.1491,0.1491,0.1491,0.1491,0.1491,0.15109999999999998,0.15109999999999998,0.15109999999999998,0.15109999999999998,0.15109999999999998,0.15109999999999998,0.15109999999999998,0.15109999999999998,0.15109999999999998,0.15109999999999998,0.15109999999999998,0.15109999999999998,0.15109999999999998,0.15109999999999998,0.15109999999999998,0.15109999999999998,0.15109999999999998,0.15109999999999998,0.15109999999999998,0.15109999999999998,0.15109999999999998,0.15109999999999998,0.15109999999999998,0.15109999999999998,0.15109999999999998,0.18496666666666667,0.18496666666666667,0.18496666666666667,0.18496666666666667,0.18496666666666667,0.18496666666666667,0.18496666666666667,0.18496666666666667,0.18496666666666667,0.18496666666666667,0.18496666666666667,0.18496666666666667,0.18496666666666667,0.18496666666666667,0.18496666666666667,0.18496666666666667,0.18496666666666667,0.18496666666666667,0.18496666666666667,0.18496666666666667,0.18496666666666667,0.18496666666666667,0.18496666666666667,0.18496666666666667,0.18496666666666667],\"yaxis\":\"y15\",\"type\":\"scatter\",\"opacity\":1},{\"customdata\":[[0.15156666666666666,\"RF Interpretation\",\"Marital_Status\"],[0.15156666666666666,\"RF Interpretation\",\"Marital_Status\"],[0.15156666666666666,\"RF Interpretation\",\"Marital_Status\"],[0.15156666666666666,\"RF Interpretation\",\"Marital_Status\"],[0.15156666666666666,\"RF Interpretation\",\"Marital_Status\"],[0.15156666666666666,\"RF Interpretation\",\"Marital_Status\"],[0.15156666666666666,\"RF Interpretation\",\"Marital_Status\"],[0.15156666666666666,\"RF Interpretation\",\"Marital_Status\"],[0.15156666666666666,\"RF Interpretation\",\"Marital_Status\"],[0.15156666666666666,\"RF Interpretation\",\"Marital_Status\"],[0.15156666666666666,\"RF Interpretation\",\"Marital_Status\"],[0.15156666666666666,\"RF Interpretation\",\"Marital_Status\"],[0.15156666666666666,\"RF Interpretation\",\"Marital_Status\"],[0.15156666666666666,\"RF Interpretation\",\"Marital_Status\"],[0.15156666666666666,\"RF Interpretation\",\"Marital_Status\"],[0.15156666666666666,\"RF Interpretation\",\"Marital_Status\"],[0.15156666666666666,\"RF Interpretation\",\"Marital_Status\"],[0.15156666666666666,\"RF Interpretation\",\"Marital_Status\"],[0.15156666666666666,\"RF Interpretation\",\"Marital_Status\"],[0.15156666666666666,\"RF Interpretation\",\"Marital_Status\"],[0.15156666666666666,\"RF Interpretation\",\"Marital_Status\"],[0.15156666666666666,\"RF Interpretation\",\"Marital_Status\"],[0.15156666666666666,\"RF Interpretation\",\"Marital_Status\"],[0.15156666666666666,\"RF Interpretation\",\"Marital_Status\"],[0.15156666666666666,\"RF Interpretation\",\"Marital_Status\"],[0.15156666666666666,\"RF Interpretation\",\"Marital_Status\"],[0.15156666666666666,\"RF Interpretation\",\"Marital_Status\"],[0.15156666666666666,\"RF Interpretation\",\"Marital_Status\"],[0.15156666666666666,\"RF Interpretation\",\"Marital_Status\"],[0.15156666666666666,\"RF Interpretation\",\"Marital_Status\"],[0.15156666666666666,\"RF Interpretation\",\"Marital_Status\"],[0.15156666666666666,\"RF Interpretation\",\"Marital_Status\"],[0.15156666666666666,\"RF Interpretation\",\"Marital_Status\"],[0.15156666666666666,\"RF Interpretation\",\"Marital_Status\"],[0.15156666666666666,\"RF Interpretation\",\"Marital_Status\"],[0.15156666666666666,\"RF Interpretation\",\"Marital_Status\"],[0.15156666666666666,\"RF Interpretation\",\"Marital_Status\"],[0.15156666666666666,\"RF Interpretation\",\"Marital_Status\"],[0.15156666666666666,\"RF Interpretation\",\"Marital_Status\"],[0.15156666666666666,\"RF Interpretation\",\"Marital_Status\"],[0.15156666666666666,\"RF Interpretation\",\"Marital_Status\"],[0.15156666666666666,\"RF Interpretation\",\"Marital_Status\"],[0.15156666666666666,\"RF Interpretation\",\"Marital_Status\"],[0.15156666666666666,\"RF Interpretation\",\"Marital_Status\"],[0.15156666666666666,\"RF Interpretation\",\"Marital_Status\"],[0.15156666666666666,\"RF Interpretation\",\"Marital_Status\"],[0.15156666666666666,\"RF Interpretation\",\"Marital_Status\"],[0.15156666666666666,\"RF Interpretation\",\"Marital_Status\"],[0.15156666666666666,\"RF Interpretation\",\"Marital_Status\"],[0.15156666666666666,\"RF Interpretation\",\"Marital_Status\"],[0.15156666666666666,\"RF Interpretation\",\"Marital_Status\"],[0.15156666666666666,\"RF Interpretation\",\"Marital_Status\"],[0.15156666666666666,\"RF Interpretation\",\"Marital_Status\"],[0.15156666666666666,\"RF Interpretation\",\"Marital_Status\"],[0.15156666666666666,\"RF Interpretation\",\"Marital_Status\"],[0.15156666666666666,\"RF Interpretation\",\"Marital_Status\"],[0.15156666666666666,\"RF Interpretation\",\"Marital_Status\"],[0.15156666666666666,\"RF Interpretation\",\"Marital_Status\"],[0.15156666666666666,\"RF Interpretation\",\"Marital_Status\"],[0.15156666666666666,\"RF Interpretation\",\"Marital_Status\"],[0.15156666666666666,\"RF Interpretation\",\"Marital_Status\"],[0.15156666666666666,\"RF Interpretation\",\"Marital_Status\"],[0.15156666666666666,\"RF Interpretation\",\"Marital_Status\"],[0.15156666666666666,\"RF Interpretation\",\"Marital_Status\"],[0.15156666666666666,\"RF Interpretation\",\"Marital_Status\"],[0.15156666666666666,\"RF Interpretation\",\"Marital_Status\"],[0.15156666666666666,\"RF Interpretation\",\"Marital_Status\"],[0.15156666666666666,\"RF Interpretation\",\"Marital_Status\"],[0.15156666666666666,\"RF Interpretation\",\"Marital_Status\"],[0.15156666666666666,\"RF Interpretation\",\"Marital_Status\"],[0.15156666666666666,\"RF Interpretation\",\"Marital_Status\"],[0.15156666666666666,\"RF Interpretation\",\"Marital_Status\"],[0.15156666666666666,\"RF Interpretation\",\"Marital_Status\"],[0.15156666666666666,\"RF Interpretation\",\"Marital_Status\"],[0.15156666666666666,\"RF Interpretation\",\"Marital_Status\"],[0.15156666666666666,\"RF Interpretation\",\"Marital_Status\"],[0.15156666666666666,\"RF Interpretation\",\"Marital_Status\"],[0.15156666666666666,\"RF Interpretation\",\"Marital_Status\"],[0.15156666666666666,\"RF Interpretation\",\"Marital_Status\"],[0.15156666666666666,\"RF Interpretation\",\"Marital_Status\"],[0.15156666666666666,\"RF Interpretation\",\"Marital_Status\"],[0.15156666666666666,\"RF Interpretation\",\"Marital_Status\"],[0.15156666666666666,\"RF Interpretation\",\"Marital_Status\"],[0.15156666666666666,\"RF Interpretation\",\"Marital_Status\"],[0.15156666666666666,\"RF Interpretation\",\"Marital_Status\"],[0.15156666666666666,\"RF Interpretation\",\"Marital_Status\"],[0.15156666666666666,\"RF Interpretation\",\"Marital_Status\"],[0.15156666666666666,\"RF Interpretation\",\"Marital_Status\"],[0.15156666666666666,\"RF Interpretation\",\"Marital_Status\"],[0.15156666666666666,\"RF Interpretation\",\"Marital_Status\"],[0.15156666666666666,\"RF Interpretation\",\"Marital_Status\"],[0.15156666666666666,\"RF Interpretation\",\"Marital_Status\"],[0.15156666666666666,\"RF Interpretation\",\"Marital_Status\"],[0.15156666666666666,\"RF Interpretation\",\"Marital_Status\"],[0.15156666666666666,\"RF Interpretation\",\"Marital_Status\"],[0.15156666666666666,\"RF Interpretation\",\"Marital_Status\"],[0.15156666666666666,\"RF Interpretation\",\"Marital_Status\"],[0.15156666666666666,\"RF Interpretation\",\"Marital_Status\"],[0.15156666666666666,\"RF Interpretation\",\"Marital_Status\"],[0.15156666666666666,\"RF Interpretation\",\"Marital_Status\"],[0.15156666666666666,\"RF Interpretation\",\"Marital_Status\"]],\"hovertemplate\":\"<b>%{hovertext}</b><br><br>prediction=%{y:.3f}<br>mean_prediction=%{customdata[0]:.3f}<extra></extra>\",\"hovertext\":[\"RF Interpretation\",\"RF Interpretation\",\"RF Interpretation\",\"RF Interpretation\",\"RF Interpretation\",\"RF Interpretation\",\"RF Interpretation\",\"RF Interpretation\",\"RF Interpretation\",\"RF Interpretation\",\"RF Interpretation\",\"RF Interpretation\",\"RF Interpretation\",\"RF Interpretation\",\"RF Interpretation\",\"RF Interpretation\",\"RF Interpretation\",\"RF Interpretation\",\"RF Interpretation\",\"RF Interpretation\",\"RF Interpretation\",\"RF Interpretation\",\"RF Interpretation\",\"RF Interpretation\",\"RF Interpretation\",\"RF Interpretation\",\"RF Interpretation\",\"RF Interpretation\",\"RF Interpretation\",\"RF Interpretation\",\"RF Interpretation\",\"RF Interpretation\",\"RF Interpretation\",\"RF Interpretation\",\"RF Interpretation\",\"RF Interpretation\",\"RF Interpretation\",\"RF Interpretation\",\"RF Interpretation\",\"RF Interpretation\",\"RF Interpretation\",\"RF Interpretation\",\"RF Interpretation\",\"RF Interpretation\",\"RF Interpretation\",\"RF Interpretation\",\"RF Interpretation\",\"RF Interpretation\",\"RF Interpretation\",\"RF Interpretation\",\"RF Interpretation\",\"RF Interpretation\",\"RF Interpretation\",\"RF Interpretation\",\"RF Interpretation\",\"RF Interpretation\",\"RF Interpretation\",\"RF Interpretation\",\"RF Interpretation\",\"RF Interpretation\",\"RF Interpretation\",\"RF Interpretation\",\"RF Interpretation\",\"RF Interpretation\",\"RF Interpretation\",\"RF Interpretation\",\"RF Interpretation\",\"RF Interpretation\",\"RF Interpretation\",\"RF Interpretation\",\"RF Interpretation\",\"RF Interpretation\",\"RF Interpretation\",\"RF Interpretation\",\"RF Interpretation\",\"RF Interpretation\",\"RF Interpretation\",\"RF Interpretation\",\"RF Interpretation\",\"RF Interpretation\",\"RF Interpretation\",\"RF Interpretation\",\"RF Interpretation\",\"RF Interpretation\",\"RF Interpretation\",\"RF Interpretation\",\"RF Interpretation\",\"RF Interpretation\",\"RF Interpretation\",\"RF Interpretation\",\"RF Interpretation\",\"RF Interpretation\",\"RF Interpretation\",\"RF Interpretation\",\"RF Interpretation\",\"RF Interpretation\",\"RF Interpretation\",\"RF Interpretation\",\"RF Interpretation\",\"RF Interpretation\",\"RF Interpretation\"],\"legendgroup\":\"RF Interpretation\",\"line\":{\"color\":\"#46bac2\",\"dash\":\"solid\",\"width\":2},\"marker\":{\"symbol\":\"circle\"},\"mode\":\"lines\",\"name\":\"RF Interpretation\",\"orientation\":\"v\",\"showlegend\":false,\"x\":[0.0,0.01,0.02,0.03,0.04,0.05,0.06,0.07,0.08,0.09,0.1,0.11,0.12,0.13,0.14,0.15,0.16,0.17,0.18,0.19,0.2,0.21,0.22,0.23,0.24,0.25,0.26,0.27,0.28,0.29,0.3,0.31,0.32,0.33,0.34,0.35000000000000003,0.36,0.37,0.38,0.39,0.4,0.41000000000000003,0.42,0.43,0.44,0.45,0.46,0.47000000000000003,0.48,0.49,0.5,0.51,0.52,0.53,0.54,0.55,0.56,0.5700000000000001,0.58,0.59,0.6,0.61,0.62,0.63,0.64,0.65,0.66,0.67,0.68,0.6900000000000001,0.7000000000000001,0.71,0.72,0.73,0.74,0.75,0.76,0.77,0.78,0.79,0.8,0.81,0.8200000000000001,0.8300000000000001,0.84,0.85,0.86,0.87,0.88,0.89,0.9,0.91,0.92,0.93,0.9400000000000001,0.9500000000000001,0.96,0.97,0.98,0.99,1.0],\"xaxis\":\"x16\",\"y\":[0.17720000000000002,0.17720000000000002,0.17720000000000002,0.17720000000000002,0.17720000000000002,0.17720000000000002,0.17720000000000002,0.17720000000000002,0.17720000000000002,0.17720000000000002,0.17720000000000002,0.17720000000000002,0.17720000000000002,0.17720000000000002,0.17720000000000002,0.17720000000000002,0.17720000000000002,0.17720000000000002,0.17720000000000002,0.17720000000000002,0.17720000000000002,0.17720000000000002,0.17720000000000002,0.17720000000000002,0.17720000000000002,0.17720000000000002,0.17720000000000002,0.17720000000000002,0.17720000000000002,0.17720000000000002,0.17720000000000002,0.17720000000000002,0.17720000000000002,0.17720000000000002,0.17720000000000002,0.17720000000000002,0.17720000000000002,0.17720000000000002,0.17720000000000002,0.17720000000000002,0.17720000000000002,0.17720000000000002,0.17720000000000002,0.17720000000000002,0.17720000000000002,0.17720000000000002,0.17720000000000002,0.17720000000000002,0.17720000000000002,0.17720000000000002,0.17720000000000002,0.13616666666666666,0.13616666666666666,0.13616666666666666,0.13616666666666666,0.13616666666666666,0.13616666666666666,0.13616666666666666,0.13616666666666666,0.13616666666666666,0.13616666666666666,0.13616666666666666,0.13616666666666666,0.13616666666666666,0.13616666666666666,0.13616666666666666,0.13616666666666666,0.13616666666666666,0.13616666666666666,0.13616666666666666,0.13616666666666666,0.13616666666666666,0.13616666666666666,0.13616666666666666,0.13616666666666666,0.13616666666666666,0.13616666666666666,0.13616666666666666,0.13616666666666666,0.13616666666666666,0.13616666666666666,0.13616666666666666,0.13616666666666666,0.13616666666666666,0.13616666666666666,0.13616666666666666,0.13616666666666666,0.13616666666666666,0.13616666666666666,0.13616666666666666,0.13616666666666666,0.13616666666666666,0.13616666666666666,0.13616666666666666,0.13616666666666666,0.13616666666666666,0.13616666666666666,0.13616666666666666,0.13616666666666666,0.13616666666666666,0.13616666666666666],\"yaxis\":\"y16\",\"type\":\"scatter\",\"opacity\":1},{\"customdata\":[[0.15156666666666666,\"RF Interpretation\",\"Income\"],[0.15156666666666666,\"RF Interpretation\",\"Income\"],[0.15156666666666666,\"RF Interpretation\",\"Income\"],[0.15156666666666666,\"RF Interpretation\",\"Income\"],[0.15156666666666666,\"RF Interpretation\",\"Income\"],[0.15156666666666666,\"RF Interpretation\",\"Income\"],[0.15156666666666666,\"RF Interpretation\",\"Income\"],[0.15156666666666666,\"RF Interpretation\",\"Income\"],[0.15156666666666666,\"RF Interpretation\",\"Income\"],[0.15156666666666666,\"RF Interpretation\",\"Income\"],[0.15156666666666666,\"RF Interpretation\",\"Income\"],[0.15156666666666666,\"RF Interpretation\",\"Income\"],[0.15156666666666666,\"RF Interpretation\",\"Income\"],[0.15156666666666666,\"RF Interpretation\",\"Income\"],[0.15156666666666666,\"RF Interpretation\",\"Income\"],[0.15156666666666666,\"RF Interpretation\",\"Income\"],[0.15156666666666666,\"RF Interpretation\",\"Income\"],[0.15156666666666666,\"RF Interpretation\",\"Income\"],[0.15156666666666666,\"RF Interpretation\",\"Income\"],[0.15156666666666666,\"RF Interpretation\",\"Income\"],[0.15156666666666666,\"RF Interpretation\",\"Income\"],[0.15156666666666666,\"RF Interpretation\",\"Income\"],[0.15156666666666666,\"RF Interpretation\",\"Income\"],[0.15156666666666666,\"RF Interpretation\",\"Income\"],[0.15156666666666666,\"RF Interpretation\",\"Income\"],[0.15156666666666666,\"RF Interpretation\",\"Income\"],[0.15156666666666666,\"RF Interpretation\",\"Income\"],[0.15156666666666666,\"RF Interpretation\",\"Income\"],[0.15156666666666666,\"RF Interpretation\",\"Income\"],[0.15156666666666666,\"RF Interpretation\",\"Income\"],[0.15156666666666666,\"RF Interpretation\",\"Income\"],[0.15156666666666666,\"RF Interpretation\",\"Income\"],[0.15156666666666666,\"RF Interpretation\",\"Income\"],[0.15156666666666666,\"RF Interpretation\",\"Income\"],[0.15156666666666666,\"RF Interpretation\",\"Income\"],[0.15156666666666666,\"RF Interpretation\",\"Income\"],[0.15156666666666666,\"RF Interpretation\",\"Income\"],[0.15156666666666666,\"RF Interpretation\",\"Income\"],[0.15156666666666666,\"RF Interpretation\",\"Income\"],[0.15156666666666666,\"RF Interpretation\",\"Income\"],[0.15156666666666666,\"RF Interpretation\",\"Income\"],[0.15156666666666666,\"RF Interpretation\",\"Income\"],[0.15156666666666666,\"RF Interpretation\",\"Income\"],[0.15156666666666666,\"RF Interpretation\",\"Income\"],[0.15156666666666666,\"RF Interpretation\",\"Income\"],[0.15156666666666666,\"RF Interpretation\",\"Income\"],[0.15156666666666666,\"RF Interpretation\",\"Income\"],[0.15156666666666666,\"RF Interpretation\",\"Income\"],[0.15156666666666666,\"RF Interpretation\",\"Income\"],[0.15156666666666666,\"RF Interpretation\",\"Income\"],[0.15156666666666666,\"RF Interpretation\",\"Income\"],[0.15156666666666666,\"RF Interpretation\",\"Income\"],[0.15156666666666666,\"RF Interpretation\",\"Income\"],[0.15156666666666666,\"RF Interpretation\",\"Income\"],[0.15156666666666666,\"RF Interpretation\",\"Income\"],[0.15156666666666666,\"RF Interpretation\",\"Income\"],[0.15156666666666666,\"RF Interpretation\",\"Income\"],[0.15156666666666666,\"RF Interpretation\",\"Income\"],[0.15156666666666666,\"RF Interpretation\",\"Income\"],[0.15156666666666666,\"RF Interpretation\",\"Income\"],[0.15156666666666666,\"RF Interpretation\",\"Income\"],[0.15156666666666666,\"RF Interpretation\",\"Income\"],[0.15156666666666666,\"RF Interpretation\",\"Income\"],[0.15156666666666666,\"RF Interpretation\",\"Income\"],[0.15156666666666666,\"RF Interpretation\",\"Income\"],[0.15156666666666666,\"RF Interpretation\",\"Income\"],[0.15156666666666666,\"RF Interpretation\",\"Income\"],[0.15156666666666666,\"RF Interpretation\",\"Income\"],[0.15156666666666666,\"RF Interpretation\",\"Income\"],[0.15156666666666666,\"RF Interpretation\",\"Income\"],[0.15156666666666666,\"RF Interpretation\",\"Income\"],[0.15156666666666666,\"RF Interpretation\",\"Income\"],[0.15156666666666666,\"RF Interpretation\",\"Income\"],[0.15156666666666666,\"RF Interpretation\",\"Income\"],[0.15156666666666666,\"RF Interpretation\",\"Income\"],[0.15156666666666666,\"RF Interpretation\",\"Income\"],[0.15156666666666666,\"RF Interpretation\",\"Income\"],[0.15156666666666666,\"RF Interpretation\",\"Income\"],[0.15156666666666666,\"RF Interpretation\",\"Income\"],[0.15156666666666666,\"RF Interpretation\",\"Income\"],[0.15156666666666666,\"RF Interpretation\",\"Income\"],[0.15156666666666666,\"RF Interpretation\",\"Income\"],[0.15156666666666666,\"RF Interpretation\",\"Income\"],[0.15156666666666666,\"RF Interpretation\",\"Income\"],[0.15156666666666666,\"RF Interpretation\",\"Income\"],[0.15156666666666666,\"RF Interpretation\",\"Income\"],[0.15156666666666666,\"RF Interpretation\",\"Income\"],[0.15156666666666666,\"RF Interpretation\",\"Income\"],[0.15156666666666666,\"RF Interpretation\",\"Income\"],[0.15156666666666666,\"RF Interpretation\",\"Income\"],[0.15156666666666666,\"RF Interpretation\",\"Income\"],[0.15156666666666666,\"RF Interpretation\",\"Income\"],[0.15156666666666666,\"RF Interpretation\",\"Income\"],[0.15156666666666666,\"RF Interpretation\",\"Income\"],[0.15156666666666666,\"RF Interpretation\",\"Income\"],[0.15156666666666666,\"RF Interpretation\",\"Income\"],[0.15156666666666666,\"RF Interpretation\",\"Income\"],[0.15156666666666666,\"RF Interpretation\",\"Income\"],[0.15156666666666666,\"RF Interpretation\",\"Income\"],[0.15156666666666666,\"RF Interpretation\",\"Income\"],[0.15156666666666666,\"RF Interpretation\",\"Income\"]],\"hovertemplate\":\"<b>%{hovertext}</b><br><br>prediction=%{y:.3f}<br>mean_prediction=%{customdata[0]:.3f}<extra></extra>\",\"hovertext\":[\"RF Interpretation\",\"RF Interpretation\",\"RF Interpretation\",\"RF Interpretation\",\"RF Interpretation\",\"RF Interpretation\",\"RF Interpretation\",\"RF Interpretation\",\"RF Interpretation\",\"RF Interpretation\",\"RF Interpretation\",\"RF Interpretation\",\"RF Interpretation\",\"RF Interpretation\",\"RF Interpretation\",\"RF Interpretation\",\"RF Interpretation\",\"RF Interpretation\",\"RF Interpretation\",\"RF Interpretation\",\"RF Interpretation\",\"RF Interpretation\",\"RF Interpretation\",\"RF Interpretation\",\"RF Interpretation\",\"RF Interpretation\",\"RF Interpretation\",\"RF Interpretation\",\"RF Interpretation\",\"RF Interpretation\",\"RF Interpretation\",\"RF Interpretation\",\"RF Interpretation\",\"RF Interpretation\",\"RF Interpretation\",\"RF Interpretation\",\"RF Interpretation\",\"RF Interpretation\",\"RF Interpretation\",\"RF Interpretation\",\"RF Interpretation\",\"RF Interpretation\",\"RF Interpretation\",\"RF Interpretation\",\"RF Interpretation\",\"RF Interpretation\",\"RF Interpretation\",\"RF Interpretation\",\"RF Interpretation\",\"RF Interpretation\",\"RF Interpretation\",\"RF Interpretation\",\"RF Interpretation\",\"RF Interpretation\",\"RF Interpretation\",\"RF Interpretation\",\"RF Interpretation\",\"RF Interpretation\",\"RF Interpretation\",\"RF Interpretation\",\"RF Interpretation\",\"RF Interpretation\",\"RF Interpretation\",\"RF Interpretation\",\"RF Interpretation\",\"RF Interpretation\",\"RF Interpretation\",\"RF Interpretation\",\"RF Interpretation\",\"RF Interpretation\",\"RF Interpretation\",\"RF Interpretation\",\"RF Interpretation\",\"RF Interpretation\",\"RF Interpretation\",\"RF Interpretation\",\"RF Interpretation\",\"RF Interpretation\",\"RF Interpretation\",\"RF Interpretation\",\"RF Interpretation\",\"RF Interpretation\",\"RF Interpretation\",\"RF Interpretation\",\"RF Interpretation\",\"RF Interpretation\",\"RF Interpretation\",\"RF Interpretation\",\"RF Interpretation\",\"RF Interpretation\",\"RF Interpretation\",\"RF Interpretation\",\"RF Interpretation\",\"RF Interpretation\",\"RF Interpretation\",\"RF Interpretation\",\"RF Interpretation\",\"RF Interpretation\",\"RF Interpretation\",\"RF Interpretation\",\"RF Interpretation\"],\"legendgroup\":\"RF Interpretation\",\"line\":{\"color\":\"#46bac2\",\"dash\":\"solid\",\"width\":2},\"marker\":{\"symbol\":\"circle\"},\"mode\":\"lines\",\"name\":\"RF Interpretation\",\"orientation\":\"v\",\"showlegend\":false,\"x\":[0.0,0.01,0.02,0.03,0.04,0.05,0.06,0.07,0.08,0.09,0.1,0.11,0.12,0.13,0.14,0.15,0.16,0.17,0.18,0.19,0.2,0.21,0.22,0.23,0.24,0.25,0.26,0.27,0.28,0.29,0.3,0.31,0.32,0.33,0.34,0.35000000000000003,0.36,0.37,0.38,0.39,0.4,0.41000000000000003,0.42,0.43,0.44,0.45,0.46,0.47000000000000003,0.48,0.49,0.5,0.51,0.52,0.53,0.54,0.55,0.56,0.5700000000000001,0.58,0.59,0.6,0.61,0.62,0.63,0.64,0.65,0.66,0.67,0.68,0.6900000000000001,0.7000000000000001,0.71,0.72,0.73,0.74,0.75,0.76,0.77,0.78,0.79,0.8,0.81,0.8200000000000001,0.8300000000000001,0.84,0.85,0.86,0.87,0.88,0.89,0.9,0.91,0.92,0.93,0.9400000000000001,0.9500000000000001,0.96,0.97,0.98,0.99,1.0],\"xaxis\":\"x13\",\"y\":[0.20216666666666666,0.20216666666666666,0.20216666666666666,0.1981,0.1981,0.1981,0.19623333333333332,0.1988,0.1988,0.1988666666666667,0.19906666666666667,0.2013,0.19686666666666666,0.19546666666666668,0.19546666666666668,0.19233333333333336,0.1924,0.19376666666666667,0.19326666666666667,0.1981,0.19326666666666667,0.19656666666666667,0.19183333333333333,0.1885,0.17196666666666668,0.16983333333333334,0.1713,0.17206666666666665,0.17343333333333333,0.17616666666666667,0.1653,0.16590000000000002,0.16576666666666667,0.1685,0.16656666666666667,0.16556666666666667,0.16663333333333333,0.17276666666666665,0.1793,0.17386666666666667,0.1774,0.1604,0.16026666666666667,0.16526666666666667,0.1485,0.14693333333333333,0.14556666666666668,0.14536666666666667,0.14573333333333333,0.14566666666666667,0.14483333333333334,0.1425,0.14256666666666667,0.14200000000000002,0.1408,0.1408,0.14473333333333335,0.13973333333333335,0.1381,0.1369,0.1369,0.14200000000000002,0.14123333333333332,0.14233333333333334,0.14136666666666667,0.1449,0.13866666666666666,0.13943333333333333,0.13846666666666665,0.1387,0.13756666666666667,0.14763333333333334,0.13353333333333334,0.1332,0.13363333333333335,0.13303333333333334,0.13356666666666667,0.13353333333333334,0.13836666666666667,0.13993333333333333,0.14156666666666667,0.14416666666666667,0.1432,0.16086666666666666,0.23476666666666668,0.2804333333333333,0.2769333333333333,0.27199999999999996,0.2743333333333333,0.2711,0.2894333333333333,0.3024,0.3095,0.33766666666666667,0.3341,0.3341,0.33666666666666667,0.3377,0.35153333333333336,0.35153333333333336,0.35153333333333336],\"yaxis\":\"y13\",\"type\":\"scatter\",\"opacity\":1},{\"customdata\":[[0.15156666666666666,\"RF Interpretation\",\"Recency\"],[0.15156666666666666,\"RF Interpretation\",\"Recency\"],[0.15156666666666666,\"RF Interpretation\",\"Recency\"],[0.15156666666666666,\"RF Interpretation\",\"Recency\"],[0.15156666666666666,\"RF Interpretation\",\"Recency\"],[0.15156666666666666,\"RF Interpretation\",\"Recency\"],[0.15156666666666666,\"RF Interpretation\",\"Recency\"],[0.15156666666666666,\"RF Interpretation\",\"Recency\"],[0.15156666666666666,\"RF Interpretation\",\"Recency\"],[0.15156666666666666,\"RF Interpretation\",\"Recency\"],[0.15156666666666666,\"RF Interpretation\",\"Recency\"],[0.15156666666666666,\"RF Interpretation\",\"Recency\"],[0.15156666666666666,\"RF Interpretation\",\"Recency\"],[0.15156666666666666,\"RF Interpretation\",\"Recency\"],[0.15156666666666666,\"RF Interpretation\",\"Recency\"],[0.15156666666666666,\"RF Interpretation\",\"Recency\"],[0.15156666666666666,\"RF Interpretation\",\"Recency\"],[0.15156666666666666,\"RF Interpretation\",\"Recency\"],[0.15156666666666666,\"RF Interpretation\",\"Recency\"],[0.15156666666666666,\"RF Interpretation\",\"Recency\"],[0.15156666666666666,\"RF Interpretation\",\"Recency\"],[0.15156666666666666,\"RF Interpretation\",\"Recency\"],[0.15156666666666666,\"RF Interpretation\",\"Recency\"],[0.15156666666666666,\"RF Interpretation\",\"Recency\"],[0.15156666666666666,\"RF Interpretation\",\"Recency\"],[0.15156666666666666,\"RF Interpretation\",\"Recency\"],[0.15156666666666666,\"RF Interpretation\",\"Recency\"],[0.15156666666666666,\"RF Interpretation\",\"Recency\"],[0.15156666666666666,\"RF Interpretation\",\"Recency\"],[0.15156666666666666,\"RF Interpretation\",\"Recency\"],[0.15156666666666666,\"RF Interpretation\",\"Recency\"],[0.15156666666666666,\"RF Interpretation\",\"Recency\"],[0.15156666666666666,\"RF Interpretation\",\"Recency\"],[0.15156666666666666,\"RF Interpretation\",\"Recency\"],[0.15156666666666666,\"RF Interpretation\",\"Recency\"],[0.15156666666666666,\"RF Interpretation\",\"Recency\"],[0.15156666666666666,\"RF Interpretation\",\"Recency\"],[0.15156666666666666,\"RF Interpretation\",\"Recency\"],[0.15156666666666666,\"RF Interpretation\",\"Recency\"],[0.15156666666666666,\"RF Interpretation\",\"Recency\"],[0.15156666666666666,\"RF Interpretation\",\"Recency\"],[0.15156666666666666,\"RF Interpretation\",\"Recency\"],[0.15156666666666666,\"RF Interpretation\",\"Recency\"],[0.15156666666666666,\"RF Interpretation\",\"Recency\"],[0.15156666666666666,\"RF Interpretation\",\"Recency\"],[0.15156666666666666,\"RF Interpretation\",\"Recency\"],[0.15156666666666666,\"RF Interpretation\",\"Recency\"],[0.15156666666666666,\"RF Interpretation\",\"Recency\"],[0.15156666666666666,\"RF Interpretation\",\"Recency\"],[0.15156666666666666,\"RF Interpretation\",\"Recency\"],[0.15156666666666666,\"RF Interpretation\",\"Recency\"],[0.15156666666666666,\"RF Interpretation\",\"Recency\"],[0.15156666666666666,\"RF Interpretation\",\"Recency\"],[0.15156666666666666,\"RF Interpretation\",\"Recency\"],[0.15156666666666666,\"RF Interpretation\",\"Recency\"],[0.15156666666666666,\"RF Interpretation\",\"Recency\"],[0.15156666666666666,\"RF Interpretation\",\"Recency\"],[0.15156666666666666,\"RF Interpretation\",\"Recency\"],[0.15156666666666666,\"RF Interpretation\",\"Recency\"],[0.15156666666666666,\"RF Interpretation\",\"Recency\"],[0.15156666666666666,\"RF Interpretation\",\"Recency\"],[0.15156666666666666,\"RF Interpretation\",\"Recency\"],[0.15156666666666666,\"RF Interpretation\",\"Recency\"],[0.15156666666666666,\"RF Interpretation\",\"Recency\"],[0.15156666666666666,\"RF Interpretation\",\"Recency\"],[0.15156666666666666,\"RF Interpretation\",\"Recency\"],[0.15156666666666666,\"RF Interpretation\",\"Recency\"],[0.15156666666666666,\"RF Interpretation\",\"Recency\"],[0.15156666666666666,\"RF Interpretation\",\"Recency\"],[0.15156666666666666,\"RF Interpretation\",\"Recency\"],[0.15156666666666666,\"RF Interpretation\",\"Recency\"],[0.15156666666666666,\"RF Interpretation\",\"Recency\"],[0.15156666666666666,\"RF Interpretation\",\"Recency\"],[0.15156666666666666,\"RF Interpretation\",\"Recency\"],[0.15156666666666666,\"RF Interpretation\",\"Recency\"],[0.15156666666666666,\"RF Interpretation\",\"Recency\"],[0.15156666666666666,\"RF Interpretation\",\"Recency\"],[0.15156666666666666,\"RF Interpretation\",\"Recency\"],[0.15156666666666666,\"RF Interpretation\",\"Recency\"],[0.15156666666666666,\"RF Interpretation\",\"Recency\"],[0.15156666666666666,\"RF Interpretation\",\"Recency\"],[0.15156666666666666,\"RF Interpretation\",\"Recency\"],[0.15156666666666666,\"RF Interpretation\",\"Recency\"],[0.15156666666666666,\"RF Interpretation\",\"Recency\"],[0.15156666666666666,\"RF Interpretation\",\"Recency\"],[0.15156666666666666,\"RF Interpretation\",\"Recency\"],[0.15156666666666666,\"RF Interpretation\",\"Recency\"],[0.15156666666666666,\"RF Interpretation\",\"Recency\"],[0.15156666666666666,\"RF Interpretation\",\"Recency\"],[0.15156666666666666,\"RF Interpretation\",\"Recency\"],[0.15156666666666666,\"RF Interpretation\",\"Recency\"],[0.15156666666666666,\"RF Interpretation\",\"Recency\"],[0.15156666666666666,\"RF Interpretation\",\"Recency\"],[0.15156666666666666,\"RF Interpretation\",\"Recency\"],[0.15156666666666666,\"RF Interpretation\",\"Recency\"],[0.15156666666666666,\"RF Interpretation\",\"Recency\"],[0.15156666666666666,\"RF Interpretation\",\"Recency\"],[0.15156666666666666,\"RF Interpretation\",\"Recency\"],[0.15156666666666666,\"RF Interpretation\",\"Recency\"],[0.15156666666666666,\"RF Interpretation\",\"Recency\"],[0.15156666666666666,\"RF Interpretation\",\"Recency\"]],\"hovertemplate\":\"<b>%{hovertext}</b><br><br>prediction=%{y:.3f}<br>mean_prediction=%{customdata[0]:.3f}<extra></extra>\",\"hovertext\":[\"RF Interpretation\",\"RF Interpretation\",\"RF Interpretation\",\"RF Interpretation\",\"RF Interpretation\",\"RF Interpretation\",\"RF Interpretation\",\"RF Interpretation\",\"RF Interpretation\",\"RF Interpretation\",\"RF Interpretation\",\"RF Interpretation\",\"RF Interpretation\",\"RF Interpretation\",\"RF Interpretation\",\"RF Interpretation\",\"RF Interpretation\",\"RF Interpretation\",\"RF Interpretation\",\"RF Interpretation\",\"RF Interpretation\",\"RF Interpretation\",\"RF Interpretation\",\"RF Interpretation\",\"RF Interpretation\",\"RF Interpretation\",\"RF Interpretation\",\"RF Interpretation\",\"RF Interpretation\",\"RF Interpretation\",\"RF Interpretation\",\"RF Interpretation\",\"RF Interpretation\",\"RF Interpretation\",\"RF Interpretation\",\"RF Interpretation\",\"RF Interpretation\",\"RF Interpretation\",\"RF Interpretation\",\"RF Interpretation\",\"RF Interpretation\",\"RF Interpretation\",\"RF Interpretation\",\"RF Interpretation\",\"RF Interpretation\",\"RF Interpretation\",\"RF Interpretation\",\"RF Interpretation\",\"RF Interpretation\",\"RF Interpretation\",\"RF Interpretation\",\"RF Interpretation\",\"RF Interpretation\",\"RF Interpretation\",\"RF Interpretation\",\"RF Interpretation\",\"RF Interpretation\",\"RF Interpretation\",\"RF Interpretation\",\"RF Interpretation\",\"RF Interpretation\",\"RF Interpretation\",\"RF Interpretation\",\"RF Interpretation\",\"RF Interpretation\",\"RF Interpretation\",\"RF Interpretation\",\"RF Interpretation\",\"RF Interpretation\",\"RF Interpretation\",\"RF Interpretation\",\"RF Interpretation\",\"RF Interpretation\",\"RF Interpretation\",\"RF Interpretation\",\"RF Interpretation\",\"RF Interpretation\",\"RF Interpretation\",\"RF Interpretation\",\"RF Interpretation\",\"RF Interpretation\",\"RF Interpretation\",\"RF Interpretation\",\"RF Interpretation\",\"RF Interpretation\",\"RF Interpretation\",\"RF Interpretation\",\"RF Interpretation\",\"RF Interpretation\",\"RF Interpretation\",\"RF Interpretation\",\"RF Interpretation\",\"RF Interpretation\",\"RF Interpretation\",\"RF Interpretation\",\"RF Interpretation\",\"RF Interpretation\",\"RF Interpretation\",\"RF Interpretation\",\"RF Interpretation\",\"RF Interpretation\"],\"legendgroup\":\"RF Interpretation\",\"line\":{\"color\":\"#46bac2\",\"dash\":\"solid\",\"width\":2},\"marker\":{\"symbol\":\"circle\"},\"mode\":\"lines\",\"name\":\"RF Interpretation\",\"orientation\":\"v\",\"showlegend\":false,\"x\":[0.0,0.01,0.02,0.03,0.04,0.05,0.06,0.07,0.08,0.09,0.1,0.11,0.12,0.13,0.14,0.15,0.16,0.17,0.18,0.19,0.2,0.21,0.22,0.23,0.24,0.25,0.26,0.27,0.28,0.29,0.3,0.31,0.32,0.33,0.34,0.35000000000000003,0.36,0.37,0.38,0.39,0.4,0.41000000000000003,0.42,0.43,0.44,0.45,0.46,0.47000000000000003,0.48,0.49,0.5,0.51,0.52,0.53,0.54,0.55,0.56,0.5700000000000001,0.58,0.59,0.6,0.61,0.62,0.63,0.64,0.65,0.66,0.67,0.68,0.6900000000000001,0.7000000000000001,0.71,0.72,0.73,0.74,0.75,0.76,0.77,0.78,0.79,0.8,0.81,0.8200000000000001,0.8300000000000001,0.84,0.85,0.86,0.87,0.88,0.89,0.9,0.91,0.92,0.93,0.9400000000000001,0.9500000000000001,0.96,0.97,0.98,0.99,1.0],\"xaxis\":\"x14\",\"y\":[0.29073333333333334,0.2844333333333333,0.28376666666666667,0.2786,0.25603333333333333,0.2551333333333334,0.24356666666666668,0.2473,0.24876666666666666,0.24586666666666668,0.23963333333333334,0.2249,0.21376666666666666,0.2098,0.20063333333333333,0.1981,0.19713333333333333,0.1986,0.20856666666666668,0.19086666666666666,0.1812666666666667,0.17303333333333334,0.1631,0.1608,0.15910000000000002,0.15663333333333335,0.15413333333333334,0.15330000000000002,0.15296666666666667,0.15309999999999999,0.15213333333333334,0.1545,0.15516666666666667,0.15350000000000003,0.1521,0.15536666666666665,0.15876666666666667,0.15460000000000002,0.15113333333333334,0.14396666666666666,0.13916666666666666,0.13783333333333334,0.13043333333333335,0.13073333333333334,0.13213333333333332,0.13293333333333335,0.1332,0.1387,0.13986666666666667,0.1349,0.13493333333333332,0.1338,0.1326,0.13833333333333334,0.13213333333333332,0.1312,0.14196666666666669,0.15536666666666665,0.12263333333333333,0.1205,0.11816666666666667,0.11773333333333333,0.11273333333333334,0.11266666666666665,0.1123,0.1212,0.10756666666666667,0.10666666666666667,0.10643333333333334,0.10413333333333334,0.10363333333333333,0.10426666666666667,0.10466666666666667,0.10393333333333334,0.10360000000000001,0.10350000000000001,0.1047,0.10533333333333333,0.10673333333333335,0.10776666666666666,0.11033333333333334,0.11093333333333334,0.11436666666666667,0.11013333333333333,0.1077,0.10673333333333335,0.1048,0.10346666666666667,0.10306666666666667,0.10293333333333334,0.10153333333333334,0.10173333333333333,0.1025,0.10316666666666667,0.1043,0.1044,0.10463333333333334,0.1052,0.10633333333333334,0.10726666666666666,0.1156],\"yaxis\":\"y14\",\"type\":\"scatter\",\"opacity\":1},{\"customdata\":[[0.15156666666666666,\"RF Interpretation\",\"NumWebVisitsMonth\"],[0.15156666666666666,\"RF Interpretation\",\"NumWebVisitsMonth\"],[0.15156666666666666,\"RF Interpretation\",\"NumWebVisitsMonth\"],[0.15156666666666666,\"RF Interpretation\",\"NumWebVisitsMonth\"],[0.15156666666666666,\"RF Interpretation\",\"NumWebVisitsMonth\"],[0.15156666666666666,\"RF Interpretation\",\"NumWebVisitsMonth\"],[0.15156666666666666,\"RF Interpretation\",\"NumWebVisitsMonth\"],[0.15156666666666666,\"RF Interpretation\",\"NumWebVisitsMonth\"],[0.15156666666666666,\"RF Interpretation\",\"NumWebVisitsMonth\"],[0.15156666666666666,\"RF Interpretation\",\"NumWebVisitsMonth\"],[0.15156666666666666,\"RF Interpretation\",\"NumWebVisitsMonth\"],[0.15156666666666666,\"RF Interpretation\",\"NumWebVisitsMonth\"],[0.15156666666666666,\"RF Interpretation\",\"NumWebVisitsMonth\"],[0.15156666666666666,\"RF Interpretation\",\"NumWebVisitsMonth\"],[0.15156666666666666,\"RF Interpretation\",\"NumWebVisitsMonth\"],[0.15156666666666666,\"RF Interpretation\",\"NumWebVisitsMonth\"],[0.15156666666666666,\"RF Interpretation\",\"NumWebVisitsMonth\"],[0.15156666666666666,\"RF Interpretation\",\"NumWebVisitsMonth\"],[0.15156666666666666,\"RF Interpretation\",\"NumWebVisitsMonth\"],[0.15156666666666666,\"RF Interpretation\",\"NumWebVisitsMonth\"],[0.15156666666666666,\"RF Interpretation\",\"NumWebVisitsMonth\"],[0.15156666666666666,\"RF Interpretation\",\"NumWebVisitsMonth\"],[0.15156666666666666,\"RF Interpretation\",\"NumWebVisitsMonth\"],[0.15156666666666666,\"RF Interpretation\",\"NumWebVisitsMonth\"],[0.15156666666666666,\"RF Interpretation\",\"NumWebVisitsMonth\"],[0.15156666666666666,\"RF Interpretation\",\"NumWebVisitsMonth\"],[0.15156666666666666,\"RF Interpretation\",\"NumWebVisitsMonth\"],[0.15156666666666666,\"RF Interpretation\",\"NumWebVisitsMonth\"],[0.15156666666666666,\"RF Interpretation\",\"NumWebVisitsMonth\"],[0.15156666666666666,\"RF Interpretation\",\"NumWebVisitsMonth\"],[0.15156666666666666,\"RF Interpretation\",\"NumWebVisitsMonth\"],[0.15156666666666666,\"RF Interpretation\",\"NumWebVisitsMonth\"],[0.15156666666666666,\"RF Interpretation\",\"NumWebVisitsMonth\"],[0.15156666666666666,\"RF Interpretation\",\"NumWebVisitsMonth\"],[0.15156666666666666,\"RF Interpretation\",\"NumWebVisitsMonth\"],[0.15156666666666666,\"RF Interpretation\",\"NumWebVisitsMonth\"],[0.15156666666666666,\"RF Interpretation\",\"NumWebVisitsMonth\"],[0.15156666666666666,\"RF Interpretation\",\"NumWebVisitsMonth\"],[0.15156666666666666,\"RF Interpretation\",\"NumWebVisitsMonth\"],[0.15156666666666666,\"RF Interpretation\",\"NumWebVisitsMonth\"],[0.15156666666666666,\"RF Interpretation\",\"NumWebVisitsMonth\"],[0.15156666666666666,\"RF Interpretation\",\"NumWebVisitsMonth\"],[0.15156666666666666,\"RF Interpretation\",\"NumWebVisitsMonth\"],[0.15156666666666666,\"RF Interpretation\",\"NumWebVisitsMonth\"],[0.15156666666666666,\"RF Interpretation\",\"NumWebVisitsMonth\"],[0.15156666666666666,\"RF Interpretation\",\"NumWebVisitsMonth\"],[0.15156666666666666,\"RF Interpretation\",\"NumWebVisitsMonth\"],[0.15156666666666666,\"RF Interpretation\",\"NumWebVisitsMonth\"],[0.15156666666666666,\"RF Interpretation\",\"NumWebVisitsMonth\"],[0.15156666666666666,\"RF Interpretation\",\"NumWebVisitsMonth\"],[0.15156666666666666,\"RF Interpretation\",\"NumWebVisitsMonth\"],[0.15156666666666666,\"RF Interpretation\",\"NumWebVisitsMonth\"],[0.15156666666666666,\"RF Interpretation\",\"NumWebVisitsMonth\"],[0.15156666666666666,\"RF Interpretation\",\"NumWebVisitsMonth\"],[0.15156666666666666,\"RF Interpretation\",\"NumWebVisitsMonth\"],[0.15156666666666666,\"RF Interpretation\",\"NumWebVisitsMonth\"],[0.15156666666666666,\"RF Interpretation\",\"NumWebVisitsMonth\"],[0.15156666666666666,\"RF Interpretation\",\"NumWebVisitsMonth\"],[0.15156666666666666,\"RF Interpretation\",\"NumWebVisitsMonth\"],[0.15156666666666666,\"RF Interpretation\",\"NumWebVisitsMonth\"],[0.15156666666666666,\"RF Interpretation\",\"NumWebVisitsMonth\"],[0.15156666666666666,\"RF Interpretation\",\"NumWebVisitsMonth\"],[0.15156666666666666,\"RF Interpretation\",\"NumWebVisitsMonth\"],[0.15156666666666666,\"RF Interpretation\",\"NumWebVisitsMonth\"],[0.15156666666666666,\"RF Interpretation\",\"NumWebVisitsMonth\"],[0.15156666666666666,\"RF Interpretation\",\"NumWebVisitsMonth\"],[0.15156666666666666,\"RF Interpretation\",\"NumWebVisitsMonth\"],[0.15156666666666666,\"RF Interpretation\",\"NumWebVisitsMonth\"],[0.15156666666666666,\"RF Interpretation\",\"NumWebVisitsMonth\"],[0.15156666666666666,\"RF Interpretation\",\"NumWebVisitsMonth\"],[0.15156666666666666,\"RF Interpretation\",\"NumWebVisitsMonth\"],[0.15156666666666666,\"RF Interpretation\",\"NumWebVisitsMonth\"],[0.15156666666666666,\"RF Interpretation\",\"NumWebVisitsMonth\"],[0.15156666666666666,\"RF Interpretation\",\"NumWebVisitsMonth\"],[0.15156666666666666,\"RF Interpretation\",\"NumWebVisitsMonth\"],[0.15156666666666666,\"RF Interpretation\",\"NumWebVisitsMonth\"],[0.15156666666666666,\"RF Interpretation\",\"NumWebVisitsMonth\"],[0.15156666666666666,\"RF Interpretation\",\"NumWebVisitsMonth\"],[0.15156666666666666,\"RF Interpretation\",\"NumWebVisitsMonth\"],[0.15156666666666666,\"RF Interpretation\",\"NumWebVisitsMonth\"],[0.15156666666666666,\"RF Interpretation\",\"NumWebVisitsMonth\"],[0.15156666666666666,\"RF Interpretation\",\"NumWebVisitsMonth\"],[0.15156666666666666,\"RF Interpretation\",\"NumWebVisitsMonth\"],[0.15156666666666666,\"RF Interpretation\",\"NumWebVisitsMonth\"],[0.15156666666666666,\"RF Interpretation\",\"NumWebVisitsMonth\"],[0.15156666666666666,\"RF Interpretation\",\"NumWebVisitsMonth\"],[0.15156666666666666,\"RF Interpretation\",\"NumWebVisitsMonth\"],[0.15156666666666666,\"RF Interpretation\",\"NumWebVisitsMonth\"],[0.15156666666666666,\"RF Interpretation\",\"NumWebVisitsMonth\"],[0.15156666666666666,\"RF Interpretation\",\"NumWebVisitsMonth\"],[0.15156666666666666,\"RF Interpretation\",\"NumWebVisitsMonth\"],[0.15156666666666666,\"RF Interpretation\",\"NumWebVisitsMonth\"],[0.15156666666666666,\"RF Interpretation\",\"NumWebVisitsMonth\"],[0.15156666666666666,\"RF Interpretation\",\"NumWebVisitsMonth\"],[0.15156666666666666,\"RF Interpretation\",\"NumWebVisitsMonth\"],[0.15156666666666666,\"RF Interpretation\",\"NumWebVisitsMonth\"],[0.15156666666666666,\"RF Interpretation\",\"NumWebVisitsMonth\"],[0.15156666666666666,\"RF Interpretation\",\"NumWebVisitsMonth\"],[0.15156666666666666,\"RF Interpretation\",\"NumWebVisitsMonth\"],[0.15156666666666666,\"RF Interpretation\",\"NumWebVisitsMonth\"],[0.15156666666666666,\"RF Interpretation\",\"NumWebVisitsMonth\"]],\"hovertemplate\":\"<b>%{hovertext}</b><br><br>prediction=%{y:.3f}<br>mean_prediction=%{customdata[0]:.3f}<extra></extra>\",\"hovertext\":[\"RF Interpretation\",\"RF Interpretation\",\"RF Interpretation\",\"RF Interpretation\",\"RF Interpretation\",\"RF Interpretation\",\"RF Interpretation\",\"RF Interpretation\",\"RF Interpretation\",\"RF Interpretation\",\"RF Interpretation\",\"RF Interpretation\",\"RF Interpretation\",\"RF Interpretation\",\"RF Interpretation\",\"RF Interpretation\",\"RF Interpretation\",\"RF Interpretation\",\"RF Interpretation\",\"RF Interpretation\",\"RF Interpretation\",\"RF Interpretation\",\"RF Interpretation\",\"RF Interpretation\",\"RF Interpretation\",\"RF Interpretation\",\"RF Interpretation\",\"RF Interpretation\",\"RF Interpretation\",\"RF Interpretation\",\"RF Interpretation\",\"RF Interpretation\",\"RF Interpretation\",\"RF Interpretation\",\"RF Interpretation\",\"RF Interpretation\",\"RF Interpretation\",\"RF Interpretation\",\"RF Interpretation\",\"RF Interpretation\",\"RF Interpretation\",\"RF Interpretation\",\"RF Interpretation\",\"RF Interpretation\",\"RF Interpretation\",\"RF Interpretation\",\"RF Interpretation\",\"RF Interpretation\",\"RF Interpretation\",\"RF Interpretation\",\"RF Interpretation\",\"RF Interpretation\",\"RF Interpretation\",\"RF Interpretation\",\"RF Interpretation\",\"RF Interpretation\",\"RF Interpretation\",\"RF Interpretation\",\"RF Interpretation\",\"RF Interpretation\",\"RF Interpretation\",\"RF Interpretation\",\"RF Interpretation\",\"RF Interpretation\",\"RF Interpretation\",\"RF Interpretation\",\"RF Interpretation\",\"RF Interpretation\",\"RF Interpretation\",\"RF Interpretation\",\"RF Interpretation\",\"RF Interpretation\",\"RF Interpretation\",\"RF Interpretation\",\"RF Interpretation\",\"RF Interpretation\",\"RF Interpretation\",\"RF Interpretation\",\"RF Interpretation\",\"RF Interpretation\",\"RF Interpretation\",\"RF Interpretation\",\"RF Interpretation\",\"RF Interpretation\",\"RF Interpretation\",\"RF Interpretation\",\"RF Interpretation\",\"RF Interpretation\",\"RF Interpretation\",\"RF Interpretation\",\"RF Interpretation\",\"RF Interpretation\",\"RF Interpretation\",\"RF Interpretation\",\"RF Interpretation\",\"RF Interpretation\",\"RF Interpretation\",\"RF Interpretation\",\"RF Interpretation\",\"RF Interpretation\",\"RF Interpretation\"],\"legendgroup\":\"RF Interpretation\",\"line\":{\"color\":\"#46bac2\",\"dash\":\"solid\",\"width\":2},\"marker\":{\"symbol\":\"circle\"},\"mode\":\"lines\",\"name\":\"RF Interpretation\",\"orientation\":\"v\",\"showlegend\":false,\"x\":[0.0,0.01,0.02,0.03,0.04,0.05,0.06,0.07,0.08,0.09,0.1,0.11,0.12,0.13,0.14,0.15,0.16,0.17,0.18,0.19,0.2,0.21,0.22,0.23,0.24,0.25,0.26,0.27,0.28,0.29,0.3,0.31,0.32,0.33,0.34,0.35000000000000003,0.36,0.37,0.38,0.39,0.4,0.41000000000000003,0.42,0.43,0.44,0.45,0.46,0.47000000000000003,0.48,0.49,0.5,0.51,0.52,0.53,0.54,0.55,0.56,0.5700000000000001,0.58,0.59,0.6,0.61,0.62,0.63,0.64,0.65,0.66,0.67,0.68,0.6900000000000001,0.7000000000000001,0.71,0.72,0.73,0.74,0.75,0.76,0.77,0.78,0.79,0.8,0.81,0.8200000000000001,0.8300000000000001,0.84,0.85,0.86,0.87,0.88,0.89,0.9,0.91,0.92,0.93,0.9400000000000001,0.9500000000000001,0.96,0.97,0.98,0.99,1.0],\"xaxis\":\"x11\",\"y\":[0.11433333333333333,0.11433333333333333,0.11433333333333333,0.11586666666666666,0.11586666666666666,0.11586666666666666,0.1163,0.1163,0.1182,0.1182,0.1182,0.1182,0.1182,0.1182,0.12159999999999999,0.12159999999999999,0.12443333333333333,0.12443333333333333,0.12443333333333333,0.14233333333333334,0.14233333333333334,0.14233333333333334,0.1444666666666667,0.1444666666666667,0.1681,0.1681,0.1681,0.1694,0.1694,0.17006666666666667,0.17006666666666667,0.17006666666666667,0.17016666666666666,0.17016666666666666,0.17016666666666666,0.22773333333333337,0.22773333333333337,0.2280333333333333,0.2280333333333333,0.2280333333333333,0.261,0.261,0.261,0.261,0.261,0.2598,0.2598,0.2598,0.2598,0.2598,0.2598,0.2598,0.2598,0.2598,0.2598,0.2598,0.2598,0.2598,0.2597333333333333,0.2597333333333333,0.2597333333333333,0.25930000000000003,0.25930000000000003,0.25930000000000003,0.2541333333333333,0.2541333333333333,0.2541333333333333,0.2541333333333333,0.2541333333333333,0.25386666666666663,0.25386666666666663,0.25386666666666663,0.25386666666666663,0.25386666666666663,0.25386666666666663,0.25386666666666663,0.25386666666666663,0.25386666666666663,0.25386666666666663,0.25386666666666663,0.25386666666666663,0.25386666666666663,0.25386666666666663,0.25386666666666663,0.25386666666666663,0.25386666666666663,0.25386666666666663,0.25386666666666663,0.25386666666666663,0.25386666666666663,0.25386666666666663,0.25386666666666663,0.25386666666666663,0.25386666666666663,0.25386666666666663,0.25386666666666663,0.25386666666666663,0.25386666666666663,0.25386666666666663,0.25386666666666663,0.25386666666666663],\"yaxis\":\"y11\",\"type\":\"scatter\",\"opacity\":1},{\"customdata\":[[0.15156666666666666,\"RF Interpretation\",\"AcceptedCmp3\"],[0.15156666666666666,\"RF Interpretation\",\"AcceptedCmp3\"],[0.15156666666666666,\"RF Interpretation\",\"AcceptedCmp3\"],[0.15156666666666666,\"RF Interpretation\",\"AcceptedCmp3\"],[0.15156666666666666,\"RF Interpretation\",\"AcceptedCmp3\"],[0.15156666666666666,\"RF Interpretation\",\"AcceptedCmp3\"],[0.15156666666666666,\"RF Interpretation\",\"AcceptedCmp3\"],[0.15156666666666666,\"RF Interpretation\",\"AcceptedCmp3\"],[0.15156666666666666,\"RF Interpretation\",\"AcceptedCmp3\"],[0.15156666666666666,\"RF Interpretation\",\"AcceptedCmp3\"],[0.15156666666666666,\"RF Interpretation\",\"AcceptedCmp3\"],[0.15156666666666666,\"RF Interpretation\",\"AcceptedCmp3\"],[0.15156666666666666,\"RF Interpretation\",\"AcceptedCmp3\"],[0.15156666666666666,\"RF Interpretation\",\"AcceptedCmp3\"],[0.15156666666666666,\"RF Interpretation\",\"AcceptedCmp3\"],[0.15156666666666666,\"RF Interpretation\",\"AcceptedCmp3\"],[0.15156666666666666,\"RF Interpretation\",\"AcceptedCmp3\"],[0.15156666666666666,\"RF Interpretation\",\"AcceptedCmp3\"],[0.15156666666666666,\"RF Interpretation\",\"AcceptedCmp3\"],[0.15156666666666666,\"RF Interpretation\",\"AcceptedCmp3\"],[0.15156666666666666,\"RF Interpretation\",\"AcceptedCmp3\"],[0.15156666666666666,\"RF Interpretation\",\"AcceptedCmp3\"],[0.15156666666666666,\"RF Interpretation\",\"AcceptedCmp3\"],[0.15156666666666666,\"RF Interpretation\",\"AcceptedCmp3\"],[0.15156666666666666,\"RF Interpretation\",\"AcceptedCmp3\"],[0.15156666666666666,\"RF Interpretation\",\"AcceptedCmp3\"],[0.15156666666666666,\"RF Interpretation\",\"AcceptedCmp3\"],[0.15156666666666666,\"RF Interpretation\",\"AcceptedCmp3\"],[0.15156666666666666,\"RF Interpretation\",\"AcceptedCmp3\"],[0.15156666666666666,\"RF Interpretation\",\"AcceptedCmp3\"],[0.15156666666666666,\"RF Interpretation\",\"AcceptedCmp3\"],[0.15156666666666666,\"RF Interpretation\",\"AcceptedCmp3\"],[0.15156666666666666,\"RF Interpretation\",\"AcceptedCmp3\"],[0.15156666666666666,\"RF Interpretation\",\"AcceptedCmp3\"],[0.15156666666666666,\"RF Interpretation\",\"AcceptedCmp3\"],[0.15156666666666666,\"RF Interpretation\",\"AcceptedCmp3\"],[0.15156666666666666,\"RF Interpretation\",\"AcceptedCmp3\"],[0.15156666666666666,\"RF Interpretation\",\"AcceptedCmp3\"],[0.15156666666666666,\"RF Interpretation\",\"AcceptedCmp3\"],[0.15156666666666666,\"RF Interpretation\",\"AcceptedCmp3\"],[0.15156666666666666,\"RF Interpretation\",\"AcceptedCmp3\"],[0.15156666666666666,\"RF Interpretation\",\"AcceptedCmp3\"],[0.15156666666666666,\"RF Interpretation\",\"AcceptedCmp3\"],[0.15156666666666666,\"RF Interpretation\",\"AcceptedCmp3\"],[0.15156666666666666,\"RF Interpretation\",\"AcceptedCmp3\"],[0.15156666666666666,\"RF Interpretation\",\"AcceptedCmp3\"],[0.15156666666666666,\"RF Interpretation\",\"AcceptedCmp3\"],[0.15156666666666666,\"RF Interpretation\",\"AcceptedCmp3\"],[0.15156666666666666,\"RF Interpretation\",\"AcceptedCmp3\"],[0.15156666666666666,\"RF Interpretation\",\"AcceptedCmp3\"],[0.15156666666666666,\"RF Interpretation\",\"AcceptedCmp3\"],[0.15156666666666666,\"RF Interpretation\",\"AcceptedCmp3\"],[0.15156666666666666,\"RF Interpretation\",\"AcceptedCmp3\"],[0.15156666666666666,\"RF Interpretation\",\"AcceptedCmp3\"],[0.15156666666666666,\"RF Interpretation\",\"AcceptedCmp3\"],[0.15156666666666666,\"RF Interpretation\",\"AcceptedCmp3\"],[0.15156666666666666,\"RF Interpretation\",\"AcceptedCmp3\"],[0.15156666666666666,\"RF Interpretation\",\"AcceptedCmp3\"],[0.15156666666666666,\"RF Interpretation\",\"AcceptedCmp3\"],[0.15156666666666666,\"RF Interpretation\",\"AcceptedCmp3\"],[0.15156666666666666,\"RF Interpretation\",\"AcceptedCmp3\"],[0.15156666666666666,\"RF Interpretation\",\"AcceptedCmp3\"],[0.15156666666666666,\"RF Interpretation\",\"AcceptedCmp3\"],[0.15156666666666666,\"RF Interpretation\",\"AcceptedCmp3\"],[0.15156666666666666,\"RF Interpretation\",\"AcceptedCmp3\"],[0.15156666666666666,\"RF Interpretation\",\"AcceptedCmp3\"],[0.15156666666666666,\"RF Interpretation\",\"AcceptedCmp3\"],[0.15156666666666666,\"RF Interpretation\",\"AcceptedCmp3\"],[0.15156666666666666,\"RF Interpretation\",\"AcceptedCmp3\"],[0.15156666666666666,\"RF Interpretation\",\"AcceptedCmp3\"],[0.15156666666666666,\"RF Interpretation\",\"AcceptedCmp3\"],[0.15156666666666666,\"RF Interpretation\",\"AcceptedCmp3\"],[0.15156666666666666,\"RF Interpretation\",\"AcceptedCmp3\"],[0.15156666666666666,\"RF Interpretation\",\"AcceptedCmp3\"],[0.15156666666666666,\"RF Interpretation\",\"AcceptedCmp3\"],[0.15156666666666666,\"RF Interpretation\",\"AcceptedCmp3\"],[0.15156666666666666,\"RF Interpretation\",\"AcceptedCmp3\"],[0.15156666666666666,\"RF Interpretation\",\"AcceptedCmp3\"],[0.15156666666666666,\"RF Interpretation\",\"AcceptedCmp3\"],[0.15156666666666666,\"RF Interpretation\",\"AcceptedCmp3\"],[0.15156666666666666,\"RF Interpretation\",\"AcceptedCmp3\"],[0.15156666666666666,\"RF Interpretation\",\"AcceptedCmp3\"],[0.15156666666666666,\"RF Interpretation\",\"AcceptedCmp3\"],[0.15156666666666666,\"RF Interpretation\",\"AcceptedCmp3\"],[0.15156666666666666,\"RF Interpretation\",\"AcceptedCmp3\"],[0.15156666666666666,\"RF Interpretation\",\"AcceptedCmp3\"],[0.15156666666666666,\"RF Interpretation\",\"AcceptedCmp3\"],[0.15156666666666666,\"RF Interpretation\",\"AcceptedCmp3\"],[0.15156666666666666,\"RF Interpretation\",\"AcceptedCmp3\"],[0.15156666666666666,\"RF Interpretation\",\"AcceptedCmp3\"],[0.15156666666666666,\"RF Interpretation\",\"AcceptedCmp3\"],[0.15156666666666666,\"RF Interpretation\",\"AcceptedCmp3\"],[0.15156666666666666,\"RF Interpretation\",\"AcceptedCmp3\"],[0.15156666666666666,\"RF Interpretation\",\"AcceptedCmp3\"],[0.15156666666666666,\"RF Interpretation\",\"AcceptedCmp3\"],[0.15156666666666666,\"RF Interpretation\",\"AcceptedCmp3\"],[0.15156666666666666,\"RF Interpretation\",\"AcceptedCmp3\"],[0.15156666666666666,\"RF Interpretation\",\"AcceptedCmp3\"],[0.15156666666666666,\"RF Interpretation\",\"AcceptedCmp3\"],[0.15156666666666666,\"RF Interpretation\",\"AcceptedCmp3\"],[0.15156666666666666,\"RF Interpretation\",\"AcceptedCmp3\"]],\"hovertemplate\":\"<b>%{hovertext}</b><br><br>prediction=%{y:.3f}<br>mean_prediction=%{customdata[0]:.3f}<extra></extra>\",\"hovertext\":[\"RF Interpretation\",\"RF Interpretation\",\"RF Interpretation\",\"RF Interpretation\",\"RF Interpretation\",\"RF Interpretation\",\"RF Interpretation\",\"RF Interpretation\",\"RF Interpretation\",\"RF Interpretation\",\"RF Interpretation\",\"RF Interpretation\",\"RF Interpretation\",\"RF Interpretation\",\"RF Interpretation\",\"RF Interpretation\",\"RF Interpretation\",\"RF Interpretation\",\"RF Interpretation\",\"RF Interpretation\",\"RF Interpretation\",\"RF Interpretation\",\"RF Interpretation\",\"RF Interpretation\",\"RF Interpretation\",\"RF Interpretation\",\"RF Interpretation\",\"RF Interpretation\",\"RF Interpretation\",\"RF Interpretation\",\"RF Interpretation\",\"RF Interpretation\",\"RF Interpretation\",\"RF Interpretation\",\"RF Interpretation\",\"RF Interpretation\",\"RF Interpretation\",\"RF Interpretation\",\"RF Interpretation\",\"RF Interpretation\",\"RF Interpretation\",\"RF Interpretation\",\"RF Interpretation\",\"RF Interpretation\",\"RF Interpretation\",\"RF Interpretation\",\"RF Interpretation\",\"RF Interpretation\",\"RF Interpretation\",\"RF Interpretation\",\"RF Interpretation\",\"RF Interpretation\",\"RF Interpretation\",\"RF Interpretation\",\"RF Interpretation\",\"RF Interpretation\",\"RF Interpretation\",\"RF Interpretation\",\"RF Interpretation\",\"RF Interpretation\",\"RF Interpretation\",\"RF Interpretation\",\"RF Interpretation\",\"RF Interpretation\",\"RF Interpretation\",\"RF Interpretation\",\"RF Interpretation\",\"RF Interpretation\",\"RF Interpretation\",\"RF Interpretation\",\"RF Interpretation\",\"RF Interpretation\",\"RF Interpretation\",\"RF Interpretation\",\"RF Interpretation\",\"RF Interpretation\",\"RF Interpretation\",\"RF Interpretation\",\"RF Interpretation\",\"RF Interpretation\",\"RF Interpretation\",\"RF Interpretation\",\"RF Interpretation\",\"RF Interpretation\",\"RF Interpretation\",\"RF Interpretation\",\"RF Interpretation\",\"RF Interpretation\",\"RF Interpretation\",\"RF Interpretation\",\"RF Interpretation\",\"RF Interpretation\",\"RF Interpretation\",\"RF Interpretation\",\"RF Interpretation\",\"RF Interpretation\",\"RF Interpretation\",\"RF Interpretation\",\"RF Interpretation\",\"RF Interpretation\",\"RF Interpretation\"],\"legendgroup\":\"RF Interpretation\",\"line\":{\"color\":\"#46bac2\",\"dash\":\"solid\",\"width\":2},\"marker\":{\"symbol\":\"circle\"},\"mode\":\"lines\",\"name\":\"RF Interpretation\",\"orientation\":\"v\",\"showlegend\":false,\"x\":[0.0,0.01,0.02,0.03,0.04,0.05,0.06,0.07,0.08,0.09,0.1,0.11,0.12,0.13,0.14,0.15,0.16,0.17,0.18,0.19,0.2,0.21,0.22,0.23,0.24,0.25,0.26,0.27,0.28,0.29,0.3,0.31,0.32,0.33,0.34,0.35000000000000003,0.36,0.37,0.38,0.39,0.4,0.41000000000000003,0.42,0.43,0.44,0.45,0.46,0.47000000000000003,0.48,0.49,0.5,0.51,0.52,0.53,0.54,0.55,0.56,0.5700000000000001,0.58,0.59,0.6,0.61,0.62,0.63,0.64,0.65,0.66,0.67,0.68,0.6900000000000001,0.7000000000000001,0.71,0.72,0.73,0.74,0.75,0.76,0.77,0.78,0.79,0.8,0.81,0.8200000000000001,0.8300000000000001,0.84,0.85,0.86,0.87,0.88,0.89,0.9,0.91,0.92,0.93,0.9400000000000001,0.9500000000000001,0.96,0.97,0.98,0.99,1.0],\"xaxis\":\"x12\",\"y\":[0.12896666666666665,0.12896666666666665,0.12896666666666665,0.12896666666666665,0.12896666666666665,0.12896666666666665,0.12896666666666665,0.12896666666666665,0.12896666666666665,0.12896666666666665,0.12896666666666665,0.12896666666666665,0.12896666666666665,0.12896666666666665,0.12896666666666665,0.12896666666666665,0.12896666666666665,0.12896666666666665,0.12896666666666665,0.12896666666666665,0.12896666666666665,0.12896666666666665,0.12896666666666665,0.12896666666666665,0.12896666666666665,0.12896666666666665,0.12896666666666665,0.12896666666666665,0.12896666666666665,0.12896666666666665,0.12896666666666665,0.12896666666666665,0.12896666666666665,0.12896666666666665,0.12896666666666665,0.12896666666666665,0.12896666666666665,0.12896666666666665,0.12896666666666665,0.12896666666666665,0.12896666666666665,0.12896666666666665,0.12896666666666665,0.12896666666666665,0.12896666666666665,0.12896666666666665,0.12896666666666665,0.12896666666666665,0.12896666666666665,0.12896666666666665,0.12896666666666665,0.36983333333333335,0.36983333333333335,0.36983333333333335,0.36983333333333335,0.36983333333333335,0.36983333333333335,0.36983333333333335,0.36983333333333335,0.36983333333333335,0.36983333333333335,0.36983333333333335,0.36983333333333335,0.36983333333333335,0.36983333333333335,0.36983333333333335,0.36983333333333335,0.36983333333333335,0.36983333333333335,0.36983333333333335,0.36983333333333335,0.36983333333333335,0.36983333333333335,0.36983333333333335,0.36983333333333335,0.36983333333333335,0.36983333333333335,0.36983333333333335,0.36983333333333335,0.36983333333333335,0.36983333333333335,0.36983333333333335,0.36983333333333335,0.36983333333333335,0.36983333333333335,0.36983333333333335,0.36983333333333335,0.36983333333333335,0.36983333333333335,0.36983333333333335,0.36983333333333335,0.36983333333333335,0.36983333333333335,0.36983333333333335,0.36983333333333335,0.36983333333333335,0.36983333333333335,0.36983333333333335,0.36983333333333335,0.36983333333333335,0.36983333333333335],\"yaxis\":\"y12\",\"type\":\"scatter\",\"opacity\":1},{\"customdata\":[[0.15156666666666666,\"RF Interpretation\",\"AcceptedCmp4\"],[0.15156666666666666,\"RF Interpretation\",\"AcceptedCmp4\"],[0.15156666666666666,\"RF Interpretation\",\"AcceptedCmp4\"],[0.15156666666666666,\"RF Interpretation\",\"AcceptedCmp4\"],[0.15156666666666666,\"RF Interpretation\",\"AcceptedCmp4\"],[0.15156666666666666,\"RF Interpretation\",\"AcceptedCmp4\"],[0.15156666666666666,\"RF Interpretation\",\"AcceptedCmp4\"],[0.15156666666666666,\"RF Interpretation\",\"AcceptedCmp4\"],[0.15156666666666666,\"RF Interpretation\",\"AcceptedCmp4\"],[0.15156666666666666,\"RF Interpretation\",\"AcceptedCmp4\"],[0.15156666666666666,\"RF Interpretation\",\"AcceptedCmp4\"],[0.15156666666666666,\"RF Interpretation\",\"AcceptedCmp4\"],[0.15156666666666666,\"RF Interpretation\",\"AcceptedCmp4\"],[0.15156666666666666,\"RF Interpretation\",\"AcceptedCmp4\"],[0.15156666666666666,\"RF Interpretation\",\"AcceptedCmp4\"],[0.15156666666666666,\"RF Interpretation\",\"AcceptedCmp4\"],[0.15156666666666666,\"RF Interpretation\",\"AcceptedCmp4\"],[0.15156666666666666,\"RF Interpretation\",\"AcceptedCmp4\"],[0.15156666666666666,\"RF Interpretation\",\"AcceptedCmp4\"],[0.15156666666666666,\"RF Interpretation\",\"AcceptedCmp4\"],[0.15156666666666666,\"RF Interpretation\",\"AcceptedCmp4\"],[0.15156666666666666,\"RF Interpretation\",\"AcceptedCmp4\"],[0.15156666666666666,\"RF Interpretation\",\"AcceptedCmp4\"],[0.15156666666666666,\"RF Interpretation\",\"AcceptedCmp4\"],[0.15156666666666666,\"RF Interpretation\",\"AcceptedCmp4\"],[0.15156666666666666,\"RF Interpretation\",\"AcceptedCmp4\"],[0.15156666666666666,\"RF Interpretation\",\"AcceptedCmp4\"],[0.15156666666666666,\"RF Interpretation\",\"AcceptedCmp4\"],[0.15156666666666666,\"RF Interpretation\",\"AcceptedCmp4\"],[0.15156666666666666,\"RF Interpretation\",\"AcceptedCmp4\"],[0.15156666666666666,\"RF Interpretation\",\"AcceptedCmp4\"],[0.15156666666666666,\"RF Interpretation\",\"AcceptedCmp4\"],[0.15156666666666666,\"RF Interpretation\",\"AcceptedCmp4\"],[0.15156666666666666,\"RF Interpretation\",\"AcceptedCmp4\"],[0.15156666666666666,\"RF Interpretation\",\"AcceptedCmp4\"],[0.15156666666666666,\"RF Interpretation\",\"AcceptedCmp4\"],[0.15156666666666666,\"RF Interpretation\",\"AcceptedCmp4\"],[0.15156666666666666,\"RF Interpretation\",\"AcceptedCmp4\"],[0.15156666666666666,\"RF Interpretation\",\"AcceptedCmp4\"],[0.15156666666666666,\"RF Interpretation\",\"AcceptedCmp4\"],[0.15156666666666666,\"RF Interpretation\",\"AcceptedCmp4\"],[0.15156666666666666,\"RF Interpretation\",\"AcceptedCmp4\"],[0.15156666666666666,\"RF Interpretation\",\"AcceptedCmp4\"],[0.15156666666666666,\"RF Interpretation\",\"AcceptedCmp4\"],[0.15156666666666666,\"RF Interpretation\",\"AcceptedCmp4\"],[0.15156666666666666,\"RF Interpretation\",\"AcceptedCmp4\"],[0.15156666666666666,\"RF Interpretation\",\"AcceptedCmp4\"],[0.15156666666666666,\"RF Interpretation\",\"AcceptedCmp4\"],[0.15156666666666666,\"RF Interpretation\",\"AcceptedCmp4\"],[0.15156666666666666,\"RF Interpretation\",\"AcceptedCmp4\"],[0.15156666666666666,\"RF Interpretation\",\"AcceptedCmp4\"],[0.15156666666666666,\"RF Interpretation\",\"AcceptedCmp4\"],[0.15156666666666666,\"RF Interpretation\",\"AcceptedCmp4\"],[0.15156666666666666,\"RF Interpretation\",\"AcceptedCmp4\"],[0.15156666666666666,\"RF Interpretation\",\"AcceptedCmp4\"],[0.15156666666666666,\"RF Interpretation\",\"AcceptedCmp4\"],[0.15156666666666666,\"RF Interpretation\",\"AcceptedCmp4\"],[0.15156666666666666,\"RF Interpretation\",\"AcceptedCmp4\"],[0.15156666666666666,\"RF Interpretation\",\"AcceptedCmp4\"],[0.15156666666666666,\"RF Interpretation\",\"AcceptedCmp4\"],[0.15156666666666666,\"RF Interpretation\",\"AcceptedCmp4\"],[0.15156666666666666,\"RF Interpretation\",\"AcceptedCmp4\"],[0.15156666666666666,\"RF Interpretation\",\"AcceptedCmp4\"],[0.15156666666666666,\"RF Interpretation\",\"AcceptedCmp4\"],[0.15156666666666666,\"RF Interpretation\",\"AcceptedCmp4\"],[0.15156666666666666,\"RF Interpretation\",\"AcceptedCmp4\"],[0.15156666666666666,\"RF Interpretation\",\"AcceptedCmp4\"],[0.15156666666666666,\"RF Interpretation\",\"AcceptedCmp4\"],[0.15156666666666666,\"RF Interpretation\",\"AcceptedCmp4\"],[0.15156666666666666,\"RF Interpretation\",\"AcceptedCmp4\"],[0.15156666666666666,\"RF Interpretation\",\"AcceptedCmp4\"],[0.15156666666666666,\"RF Interpretation\",\"AcceptedCmp4\"],[0.15156666666666666,\"RF Interpretation\",\"AcceptedCmp4\"],[0.15156666666666666,\"RF Interpretation\",\"AcceptedCmp4\"],[0.15156666666666666,\"RF Interpretation\",\"AcceptedCmp4\"],[0.15156666666666666,\"RF Interpretation\",\"AcceptedCmp4\"],[0.15156666666666666,\"RF Interpretation\",\"AcceptedCmp4\"],[0.15156666666666666,\"RF Interpretation\",\"AcceptedCmp4\"],[0.15156666666666666,\"RF Interpretation\",\"AcceptedCmp4\"],[0.15156666666666666,\"RF Interpretation\",\"AcceptedCmp4\"],[0.15156666666666666,\"RF Interpretation\",\"AcceptedCmp4\"],[0.15156666666666666,\"RF Interpretation\",\"AcceptedCmp4\"],[0.15156666666666666,\"RF Interpretation\",\"AcceptedCmp4\"],[0.15156666666666666,\"RF Interpretation\",\"AcceptedCmp4\"],[0.15156666666666666,\"RF Interpretation\",\"AcceptedCmp4\"],[0.15156666666666666,\"RF Interpretation\",\"AcceptedCmp4\"],[0.15156666666666666,\"RF Interpretation\",\"AcceptedCmp4\"],[0.15156666666666666,\"RF Interpretation\",\"AcceptedCmp4\"],[0.15156666666666666,\"RF Interpretation\",\"AcceptedCmp4\"],[0.15156666666666666,\"RF Interpretation\",\"AcceptedCmp4\"],[0.15156666666666666,\"RF Interpretation\",\"AcceptedCmp4\"],[0.15156666666666666,\"RF Interpretation\",\"AcceptedCmp4\"],[0.15156666666666666,\"RF Interpretation\",\"AcceptedCmp4\"],[0.15156666666666666,\"RF Interpretation\",\"AcceptedCmp4\"],[0.15156666666666666,\"RF Interpretation\",\"AcceptedCmp4\"],[0.15156666666666666,\"RF Interpretation\",\"AcceptedCmp4\"],[0.15156666666666666,\"RF Interpretation\",\"AcceptedCmp4\"],[0.15156666666666666,\"RF Interpretation\",\"AcceptedCmp4\"],[0.15156666666666666,\"RF Interpretation\",\"AcceptedCmp4\"],[0.15156666666666666,\"RF Interpretation\",\"AcceptedCmp4\"],[0.15156666666666666,\"RF Interpretation\",\"AcceptedCmp4\"]],\"hovertemplate\":\"<b>%{hovertext}</b><br><br>prediction=%{y:.3f}<br>mean_prediction=%{customdata[0]:.3f}<extra></extra>\",\"hovertext\":[\"RF Interpretation\",\"RF Interpretation\",\"RF Interpretation\",\"RF Interpretation\",\"RF Interpretation\",\"RF Interpretation\",\"RF Interpretation\",\"RF Interpretation\",\"RF Interpretation\",\"RF Interpretation\",\"RF Interpretation\",\"RF Interpretation\",\"RF Interpretation\",\"RF Interpretation\",\"RF Interpretation\",\"RF Interpretation\",\"RF Interpretation\",\"RF Interpretation\",\"RF Interpretation\",\"RF Interpretation\",\"RF Interpretation\",\"RF Interpretation\",\"RF Interpretation\",\"RF Interpretation\",\"RF Interpretation\",\"RF Interpretation\",\"RF Interpretation\",\"RF Interpretation\",\"RF Interpretation\",\"RF Interpretation\",\"RF Interpretation\",\"RF Interpretation\",\"RF Interpretation\",\"RF Interpretation\",\"RF Interpretation\",\"RF Interpretation\",\"RF Interpretation\",\"RF Interpretation\",\"RF Interpretation\",\"RF Interpretation\",\"RF Interpretation\",\"RF Interpretation\",\"RF Interpretation\",\"RF Interpretation\",\"RF Interpretation\",\"RF Interpretation\",\"RF Interpretation\",\"RF Interpretation\",\"RF Interpretation\",\"RF Interpretation\",\"RF Interpretation\",\"RF Interpretation\",\"RF Interpretation\",\"RF Interpretation\",\"RF Interpretation\",\"RF Interpretation\",\"RF Interpretation\",\"RF Interpretation\",\"RF Interpretation\",\"RF Interpretation\",\"RF Interpretation\",\"RF Interpretation\",\"RF Interpretation\",\"RF Interpretation\",\"RF Interpretation\",\"RF Interpretation\",\"RF Interpretation\",\"RF Interpretation\",\"RF Interpretation\",\"RF Interpretation\",\"RF Interpretation\",\"RF Interpretation\",\"RF Interpretation\",\"RF Interpretation\",\"RF Interpretation\",\"RF Interpretation\",\"RF Interpretation\",\"RF Interpretation\",\"RF Interpretation\",\"RF Interpretation\",\"RF Interpretation\",\"RF Interpretation\",\"RF Interpretation\",\"RF Interpretation\",\"RF Interpretation\",\"RF Interpretation\",\"RF Interpretation\",\"RF Interpretation\",\"RF Interpretation\",\"RF Interpretation\",\"RF Interpretation\",\"RF Interpretation\",\"RF Interpretation\",\"RF Interpretation\",\"RF Interpretation\",\"RF Interpretation\",\"RF Interpretation\",\"RF Interpretation\",\"RF Interpretation\",\"RF Interpretation\",\"RF Interpretation\"],\"legendgroup\":\"RF Interpretation\",\"line\":{\"color\":\"#46bac2\",\"dash\":\"solid\",\"width\":2},\"marker\":{\"symbol\":\"circle\"},\"mode\":\"lines\",\"name\":\"RF Interpretation\",\"orientation\":\"v\",\"showlegend\":false,\"x\":[0.0,0.01,0.02,0.03,0.04,0.05,0.06,0.07,0.08,0.09,0.1,0.11,0.12,0.13,0.14,0.15,0.16,0.17,0.18,0.19,0.2,0.21,0.22,0.23,0.24,0.25,0.26,0.27,0.28,0.29,0.3,0.31,0.32,0.33,0.34,0.35000000000000003,0.36,0.37,0.38,0.39,0.4,0.41000000000000003,0.42,0.43,0.44,0.45,0.46,0.47000000000000003,0.48,0.49,0.5,0.51,0.52,0.53,0.54,0.55,0.56,0.5700000000000001,0.58,0.59,0.6,0.61,0.62,0.63,0.64,0.65,0.66,0.67,0.68,0.6900000000000001,0.7000000000000001,0.71,0.72,0.73,0.74,0.75,0.76,0.77,0.78,0.79,0.8,0.81,0.8200000000000001,0.8300000000000001,0.84,0.85,0.86,0.87,0.88,0.89,0.9,0.91,0.92,0.93,0.9400000000000001,0.9500000000000001,0.96,0.97,0.98,0.99,1.0],\"xaxis\":\"x9\",\"y\":[0.1467,0.1467,0.1467,0.1467,0.1467,0.1467,0.1467,0.1467,0.1467,0.1467,0.1467,0.1467,0.1467,0.1467,0.1467,0.1467,0.1467,0.1467,0.1467,0.1467,0.1467,0.1467,0.1467,0.1467,0.1467,0.1467,0.1467,0.1467,0.1467,0.1467,0.1467,0.1467,0.1467,0.1467,0.1467,0.1467,0.1467,0.1467,0.1467,0.1467,0.1467,0.1467,0.1467,0.1467,0.1467,0.1467,0.1467,0.1467,0.1467,0.1467,0.1467,0.21606666666666668,0.21606666666666668,0.21606666666666668,0.21606666666666668,0.21606666666666668,0.21606666666666668,0.21606666666666668,0.21606666666666668,0.21606666666666668,0.21606666666666668,0.21606666666666668,0.21606666666666668,0.21606666666666668,0.21606666666666668,0.21606666666666668,0.21606666666666668,0.21606666666666668,0.21606666666666668,0.21606666666666668,0.21606666666666668,0.21606666666666668,0.21606666666666668,0.21606666666666668,0.21606666666666668,0.21606666666666668,0.21606666666666668,0.21606666666666668,0.21606666666666668,0.21606666666666668,0.21606666666666668,0.21606666666666668,0.21606666666666668,0.21606666666666668,0.21606666666666668,0.21606666666666668,0.21606666666666668,0.21606666666666668,0.21606666666666668,0.21606666666666668,0.21606666666666668,0.21606666666666668,0.21606666666666668,0.21606666666666668,0.21606666666666668,0.21606666666666668,0.21606666666666668,0.21606666666666668,0.21606666666666668,0.21606666666666668,0.21606666666666668],\"yaxis\":\"y9\",\"type\":\"scatter\",\"opacity\":1},{\"customdata\":[[0.15156666666666666,\"RF Interpretation\",\"AcceptedCmp5\"],[0.15156666666666666,\"RF Interpretation\",\"AcceptedCmp5\"],[0.15156666666666666,\"RF Interpretation\",\"AcceptedCmp5\"],[0.15156666666666666,\"RF Interpretation\",\"AcceptedCmp5\"],[0.15156666666666666,\"RF Interpretation\",\"AcceptedCmp5\"],[0.15156666666666666,\"RF Interpretation\",\"AcceptedCmp5\"],[0.15156666666666666,\"RF Interpretation\",\"AcceptedCmp5\"],[0.15156666666666666,\"RF Interpretation\",\"AcceptedCmp5\"],[0.15156666666666666,\"RF Interpretation\",\"AcceptedCmp5\"],[0.15156666666666666,\"RF Interpretation\",\"AcceptedCmp5\"],[0.15156666666666666,\"RF Interpretation\",\"AcceptedCmp5\"],[0.15156666666666666,\"RF Interpretation\",\"AcceptedCmp5\"],[0.15156666666666666,\"RF Interpretation\",\"AcceptedCmp5\"],[0.15156666666666666,\"RF Interpretation\",\"AcceptedCmp5\"],[0.15156666666666666,\"RF Interpretation\",\"AcceptedCmp5\"],[0.15156666666666666,\"RF Interpretation\",\"AcceptedCmp5\"],[0.15156666666666666,\"RF Interpretation\",\"AcceptedCmp5\"],[0.15156666666666666,\"RF Interpretation\",\"AcceptedCmp5\"],[0.15156666666666666,\"RF Interpretation\",\"AcceptedCmp5\"],[0.15156666666666666,\"RF Interpretation\",\"AcceptedCmp5\"],[0.15156666666666666,\"RF Interpretation\",\"AcceptedCmp5\"],[0.15156666666666666,\"RF Interpretation\",\"AcceptedCmp5\"],[0.15156666666666666,\"RF Interpretation\",\"AcceptedCmp5\"],[0.15156666666666666,\"RF Interpretation\",\"AcceptedCmp5\"],[0.15156666666666666,\"RF Interpretation\",\"AcceptedCmp5\"],[0.15156666666666666,\"RF Interpretation\",\"AcceptedCmp5\"],[0.15156666666666666,\"RF Interpretation\",\"AcceptedCmp5\"],[0.15156666666666666,\"RF Interpretation\",\"AcceptedCmp5\"],[0.15156666666666666,\"RF Interpretation\",\"AcceptedCmp5\"],[0.15156666666666666,\"RF Interpretation\",\"AcceptedCmp5\"],[0.15156666666666666,\"RF Interpretation\",\"AcceptedCmp5\"],[0.15156666666666666,\"RF Interpretation\",\"AcceptedCmp5\"],[0.15156666666666666,\"RF Interpretation\",\"AcceptedCmp5\"],[0.15156666666666666,\"RF Interpretation\",\"AcceptedCmp5\"],[0.15156666666666666,\"RF Interpretation\",\"AcceptedCmp5\"],[0.15156666666666666,\"RF Interpretation\",\"AcceptedCmp5\"],[0.15156666666666666,\"RF Interpretation\",\"AcceptedCmp5\"],[0.15156666666666666,\"RF Interpretation\",\"AcceptedCmp5\"],[0.15156666666666666,\"RF Interpretation\",\"AcceptedCmp5\"],[0.15156666666666666,\"RF Interpretation\",\"AcceptedCmp5\"],[0.15156666666666666,\"RF Interpretation\",\"AcceptedCmp5\"],[0.15156666666666666,\"RF Interpretation\",\"AcceptedCmp5\"],[0.15156666666666666,\"RF Interpretation\",\"AcceptedCmp5\"],[0.15156666666666666,\"RF Interpretation\",\"AcceptedCmp5\"],[0.15156666666666666,\"RF Interpretation\",\"AcceptedCmp5\"],[0.15156666666666666,\"RF Interpretation\",\"AcceptedCmp5\"],[0.15156666666666666,\"RF Interpretation\",\"AcceptedCmp5\"],[0.15156666666666666,\"RF Interpretation\",\"AcceptedCmp5\"],[0.15156666666666666,\"RF Interpretation\",\"AcceptedCmp5\"],[0.15156666666666666,\"RF Interpretation\",\"AcceptedCmp5\"],[0.15156666666666666,\"RF Interpretation\",\"AcceptedCmp5\"],[0.15156666666666666,\"RF Interpretation\",\"AcceptedCmp5\"],[0.15156666666666666,\"RF Interpretation\",\"AcceptedCmp5\"],[0.15156666666666666,\"RF Interpretation\",\"AcceptedCmp5\"],[0.15156666666666666,\"RF Interpretation\",\"AcceptedCmp5\"],[0.15156666666666666,\"RF Interpretation\",\"AcceptedCmp5\"],[0.15156666666666666,\"RF Interpretation\",\"AcceptedCmp5\"],[0.15156666666666666,\"RF Interpretation\",\"AcceptedCmp5\"],[0.15156666666666666,\"RF Interpretation\",\"AcceptedCmp5\"],[0.15156666666666666,\"RF Interpretation\",\"AcceptedCmp5\"],[0.15156666666666666,\"RF Interpretation\",\"AcceptedCmp5\"],[0.15156666666666666,\"RF Interpretation\",\"AcceptedCmp5\"],[0.15156666666666666,\"RF Interpretation\",\"AcceptedCmp5\"],[0.15156666666666666,\"RF Interpretation\",\"AcceptedCmp5\"],[0.15156666666666666,\"RF Interpretation\",\"AcceptedCmp5\"],[0.15156666666666666,\"RF Interpretation\",\"AcceptedCmp5\"],[0.15156666666666666,\"RF Interpretation\",\"AcceptedCmp5\"],[0.15156666666666666,\"RF Interpretation\",\"AcceptedCmp5\"],[0.15156666666666666,\"RF Interpretation\",\"AcceptedCmp5\"],[0.15156666666666666,\"RF Interpretation\",\"AcceptedCmp5\"],[0.15156666666666666,\"RF Interpretation\",\"AcceptedCmp5\"],[0.15156666666666666,\"RF Interpretation\",\"AcceptedCmp5\"],[0.15156666666666666,\"RF Interpretation\",\"AcceptedCmp5\"],[0.15156666666666666,\"RF Interpretation\",\"AcceptedCmp5\"],[0.15156666666666666,\"RF Interpretation\",\"AcceptedCmp5\"],[0.15156666666666666,\"RF Interpretation\",\"AcceptedCmp5\"],[0.15156666666666666,\"RF Interpretation\",\"AcceptedCmp5\"],[0.15156666666666666,\"RF Interpretation\",\"AcceptedCmp5\"],[0.15156666666666666,\"RF Interpretation\",\"AcceptedCmp5\"],[0.15156666666666666,\"RF Interpretation\",\"AcceptedCmp5\"],[0.15156666666666666,\"RF Interpretation\",\"AcceptedCmp5\"],[0.15156666666666666,\"RF Interpretation\",\"AcceptedCmp5\"],[0.15156666666666666,\"RF Interpretation\",\"AcceptedCmp5\"],[0.15156666666666666,\"RF Interpretation\",\"AcceptedCmp5\"],[0.15156666666666666,\"RF Interpretation\",\"AcceptedCmp5\"],[0.15156666666666666,\"RF Interpretation\",\"AcceptedCmp5\"],[0.15156666666666666,\"RF Interpretation\",\"AcceptedCmp5\"],[0.15156666666666666,\"RF Interpretation\",\"AcceptedCmp5\"],[0.15156666666666666,\"RF Interpretation\",\"AcceptedCmp5\"],[0.15156666666666666,\"RF Interpretation\",\"AcceptedCmp5\"],[0.15156666666666666,\"RF Interpretation\",\"AcceptedCmp5\"],[0.15156666666666666,\"RF Interpretation\",\"AcceptedCmp5\"],[0.15156666666666666,\"RF Interpretation\",\"AcceptedCmp5\"],[0.15156666666666666,\"RF Interpretation\",\"AcceptedCmp5\"],[0.15156666666666666,\"RF Interpretation\",\"AcceptedCmp5\"],[0.15156666666666666,\"RF Interpretation\",\"AcceptedCmp5\"],[0.15156666666666666,\"RF Interpretation\",\"AcceptedCmp5\"],[0.15156666666666666,\"RF Interpretation\",\"AcceptedCmp5\"],[0.15156666666666666,\"RF Interpretation\",\"AcceptedCmp5\"],[0.15156666666666666,\"RF Interpretation\",\"AcceptedCmp5\"],[0.15156666666666666,\"RF Interpretation\",\"AcceptedCmp5\"]],\"hovertemplate\":\"<b>%{hovertext}</b><br><br>prediction=%{y:.3f}<br>mean_prediction=%{customdata[0]:.3f}<extra></extra>\",\"hovertext\":[\"RF Interpretation\",\"RF Interpretation\",\"RF Interpretation\",\"RF Interpretation\",\"RF Interpretation\",\"RF Interpretation\",\"RF Interpretation\",\"RF Interpretation\",\"RF Interpretation\",\"RF Interpretation\",\"RF Interpretation\",\"RF Interpretation\",\"RF Interpretation\",\"RF Interpretation\",\"RF Interpretation\",\"RF Interpretation\",\"RF Interpretation\",\"RF Interpretation\",\"RF Interpretation\",\"RF Interpretation\",\"RF Interpretation\",\"RF Interpretation\",\"RF Interpretation\",\"RF Interpretation\",\"RF Interpretation\",\"RF Interpretation\",\"RF Interpretation\",\"RF Interpretation\",\"RF Interpretation\",\"RF Interpretation\",\"RF Interpretation\",\"RF Interpretation\",\"RF Interpretation\",\"RF Interpretation\",\"RF Interpretation\",\"RF Interpretation\",\"RF Interpretation\",\"RF Interpretation\",\"RF Interpretation\",\"RF Interpretation\",\"RF Interpretation\",\"RF Interpretation\",\"RF Interpretation\",\"RF Interpretation\",\"RF Interpretation\",\"RF Interpretation\",\"RF Interpretation\",\"RF Interpretation\",\"RF Interpretation\",\"RF Interpretation\",\"RF Interpretation\",\"RF Interpretation\",\"RF Interpretation\",\"RF Interpretation\",\"RF Interpretation\",\"RF Interpretation\",\"RF Interpretation\",\"RF Interpretation\",\"RF Interpretation\",\"RF Interpretation\",\"RF Interpretation\",\"RF Interpretation\",\"RF Interpretation\",\"RF Interpretation\",\"RF Interpretation\",\"RF Interpretation\",\"RF Interpretation\",\"RF Interpretation\",\"RF Interpretation\",\"RF Interpretation\",\"RF Interpretation\",\"RF Interpretation\",\"RF Interpretation\",\"RF Interpretation\",\"RF Interpretation\",\"RF Interpretation\",\"RF Interpretation\",\"RF Interpretation\",\"RF Interpretation\",\"RF Interpretation\",\"RF Interpretation\",\"RF Interpretation\",\"RF Interpretation\",\"RF Interpretation\",\"RF Interpretation\",\"RF Interpretation\",\"RF Interpretation\",\"RF Interpretation\",\"RF Interpretation\",\"RF Interpretation\",\"RF Interpretation\",\"RF Interpretation\",\"RF Interpretation\",\"RF Interpretation\",\"RF Interpretation\",\"RF Interpretation\",\"RF Interpretation\",\"RF Interpretation\",\"RF Interpretation\",\"RF Interpretation\",\"RF Interpretation\"],\"legendgroup\":\"RF Interpretation\",\"line\":{\"color\":\"#46bac2\",\"dash\":\"solid\",\"width\":2},\"marker\":{\"symbol\":\"circle\"},\"mode\":\"lines\",\"name\":\"RF Interpretation\",\"orientation\":\"v\",\"showlegend\":false,\"x\":[0.0,0.01,0.02,0.03,0.04,0.05,0.06,0.07,0.08,0.09,0.1,0.11,0.12,0.13,0.14,0.15,0.16,0.17,0.18,0.19,0.2,0.21,0.22,0.23,0.24,0.25,0.26,0.27,0.28,0.29,0.3,0.31,0.32,0.33,0.34,0.35000000000000003,0.36,0.37,0.38,0.39,0.4,0.41000000000000003,0.42,0.43,0.44,0.45,0.46,0.47000000000000003,0.48,0.49,0.5,0.51,0.52,0.53,0.54,0.55,0.56,0.5700000000000001,0.58,0.59,0.6,0.61,0.62,0.63,0.64,0.65,0.66,0.67,0.68,0.6900000000000001,0.7000000000000001,0.71,0.72,0.73,0.74,0.75,0.76,0.77,0.78,0.79,0.8,0.81,0.8200000000000001,0.8300000000000001,0.84,0.85,0.86,0.87,0.88,0.89,0.9,0.91,0.92,0.93,0.9400000000000001,0.9500000000000001,0.96,0.97,0.98,0.99,1.0],\"xaxis\":\"x10\",\"y\":[0.14476666666666665,0.14476666666666665,0.14476666666666665,0.14476666666666665,0.14476666666666665,0.14476666666666665,0.14476666666666665,0.14476666666666665,0.14476666666666665,0.14476666666666665,0.14476666666666665,0.14476666666666665,0.14476666666666665,0.14476666666666665,0.14476666666666665,0.14476666666666665,0.14476666666666665,0.14476666666666665,0.14476666666666665,0.14476666666666665,0.14476666666666665,0.14476666666666665,0.14476666666666665,0.14476666666666665,0.14476666666666665,0.14476666666666665,0.14476666666666665,0.14476666666666665,0.14476666666666665,0.14476666666666665,0.14476666666666665,0.14476666666666665,0.14476666666666665,0.14476666666666665,0.14476666666666665,0.14476666666666665,0.14476666666666665,0.14476666666666665,0.14476666666666665,0.14476666666666665,0.14476666666666665,0.14476666666666665,0.14476666666666665,0.14476666666666665,0.14476666666666665,0.14476666666666665,0.14476666666666665,0.14476666666666665,0.14476666666666665,0.14476666666666665,0.14476666666666665,0.34323333333333333,0.34323333333333333,0.34323333333333333,0.34323333333333333,0.34323333333333333,0.34323333333333333,0.34323333333333333,0.34323333333333333,0.34323333333333333,0.34323333333333333,0.34323333333333333,0.34323333333333333,0.34323333333333333,0.34323333333333333,0.34323333333333333,0.34323333333333333,0.34323333333333333,0.34323333333333333,0.34323333333333333,0.34323333333333333,0.34323333333333333,0.34323333333333333,0.34323333333333333,0.34323333333333333,0.34323333333333333,0.34323333333333333,0.34323333333333333,0.34323333333333333,0.34323333333333333,0.34323333333333333,0.34323333333333333,0.34323333333333333,0.34323333333333333,0.34323333333333333,0.34323333333333333,0.34323333333333333,0.34323333333333333,0.34323333333333333,0.34323333333333333,0.34323333333333333,0.34323333333333333,0.34323333333333333,0.34323333333333333,0.34323333333333333,0.34323333333333333,0.34323333333333333,0.34323333333333333,0.34323333333333333,0.34323333333333333,0.34323333333333333],\"yaxis\":\"y10\",\"type\":\"scatter\",\"opacity\":1},{\"customdata\":[[0.15156666666666666,\"RF Interpretation\",\"AcceptedCmp1\"],[0.15156666666666666,\"RF Interpretation\",\"AcceptedCmp1\"],[0.15156666666666666,\"RF Interpretation\",\"AcceptedCmp1\"],[0.15156666666666666,\"RF Interpretation\",\"AcceptedCmp1\"],[0.15156666666666666,\"RF Interpretation\",\"AcceptedCmp1\"],[0.15156666666666666,\"RF Interpretation\",\"AcceptedCmp1\"],[0.15156666666666666,\"RF Interpretation\",\"AcceptedCmp1\"],[0.15156666666666666,\"RF Interpretation\",\"AcceptedCmp1\"],[0.15156666666666666,\"RF Interpretation\",\"AcceptedCmp1\"],[0.15156666666666666,\"RF Interpretation\",\"AcceptedCmp1\"],[0.15156666666666666,\"RF Interpretation\",\"AcceptedCmp1\"],[0.15156666666666666,\"RF Interpretation\",\"AcceptedCmp1\"],[0.15156666666666666,\"RF Interpretation\",\"AcceptedCmp1\"],[0.15156666666666666,\"RF Interpretation\",\"AcceptedCmp1\"],[0.15156666666666666,\"RF Interpretation\",\"AcceptedCmp1\"],[0.15156666666666666,\"RF Interpretation\",\"AcceptedCmp1\"],[0.15156666666666666,\"RF Interpretation\",\"AcceptedCmp1\"],[0.15156666666666666,\"RF Interpretation\",\"AcceptedCmp1\"],[0.15156666666666666,\"RF Interpretation\",\"AcceptedCmp1\"],[0.15156666666666666,\"RF Interpretation\",\"AcceptedCmp1\"],[0.15156666666666666,\"RF Interpretation\",\"AcceptedCmp1\"],[0.15156666666666666,\"RF Interpretation\",\"AcceptedCmp1\"],[0.15156666666666666,\"RF Interpretation\",\"AcceptedCmp1\"],[0.15156666666666666,\"RF Interpretation\",\"AcceptedCmp1\"],[0.15156666666666666,\"RF Interpretation\",\"AcceptedCmp1\"],[0.15156666666666666,\"RF Interpretation\",\"AcceptedCmp1\"],[0.15156666666666666,\"RF Interpretation\",\"AcceptedCmp1\"],[0.15156666666666666,\"RF Interpretation\",\"AcceptedCmp1\"],[0.15156666666666666,\"RF Interpretation\",\"AcceptedCmp1\"],[0.15156666666666666,\"RF Interpretation\",\"AcceptedCmp1\"],[0.15156666666666666,\"RF Interpretation\",\"AcceptedCmp1\"],[0.15156666666666666,\"RF Interpretation\",\"AcceptedCmp1\"],[0.15156666666666666,\"RF Interpretation\",\"AcceptedCmp1\"],[0.15156666666666666,\"RF Interpretation\",\"AcceptedCmp1\"],[0.15156666666666666,\"RF Interpretation\",\"AcceptedCmp1\"],[0.15156666666666666,\"RF Interpretation\",\"AcceptedCmp1\"],[0.15156666666666666,\"RF Interpretation\",\"AcceptedCmp1\"],[0.15156666666666666,\"RF Interpretation\",\"AcceptedCmp1\"],[0.15156666666666666,\"RF Interpretation\",\"AcceptedCmp1\"],[0.15156666666666666,\"RF Interpretation\",\"AcceptedCmp1\"],[0.15156666666666666,\"RF Interpretation\",\"AcceptedCmp1\"],[0.15156666666666666,\"RF Interpretation\",\"AcceptedCmp1\"],[0.15156666666666666,\"RF Interpretation\",\"AcceptedCmp1\"],[0.15156666666666666,\"RF Interpretation\",\"AcceptedCmp1\"],[0.15156666666666666,\"RF Interpretation\",\"AcceptedCmp1\"],[0.15156666666666666,\"RF Interpretation\",\"AcceptedCmp1\"],[0.15156666666666666,\"RF Interpretation\",\"AcceptedCmp1\"],[0.15156666666666666,\"RF Interpretation\",\"AcceptedCmp1\"],[0.15156666666666666,\"RF Interpretation\",\"AcceptedCmp1\"],[0.15156666666666666,\"RF Interpretation\",\"AcceptedCmp1\"],[0.15156666666666666,\"RF Interpretation\",\"AcceptedCmp1\"],[0.15156666666666666,\"RF Interpretation\",\"AcceptedCmp1\"],[0.15156666666666666,\"RF Interpretation\",\"AcceptedCmp1\"],[0.15156666666666666,\"RF Interpretation\",\"AcceptedCmp1\"],[0.15156666666666666,\"RF Interpretation\",\"AcceptedCmp1\"],[0.15156666666666666,\"RF Interpretation\",\"AcceptedCmp1\"],[0.15156666666666666,\"RF Interpretation\",\"AcceptedCmp1\"],[0.15156666666666666,\"RF Interpretation\",\"AcceptedCmp1\"],[0.15156666666666666,\"RF Interpretation\",\"AcceptedCmp1\"],[0.15156666666666666,\"RF Interpretation\",\"AcceptedCmp1\"],[0.15156666666666666,\"RF Interpretation\",\"AcceptedCmp1\"],[0.15156666666666666,\"RF Interpretation\",\"AcceptedCmp1\"],[0.15156666666666666,\"RF Interpretation\",\"AcceptedCmp1\"],[0.15156666666666666,\"RF Interpretation\",\"AcceptedCmp1\"],[0.15156666666666666,\"RF Interpretation\",\"AcceptedCmp1\"],[0.15156666666666666,\"RF Interpretation\",\"AcceptedCmp1\"],[0.15156666666666666,\"RF Interpretation\",\"AcceptedCmp1\"],[0.15156666666666666,\"RF Interpretation\",\"AcceptedCmp1\"],[0.15156666666666666,\"RF Interpretation\",\"AcceptedCmp1\"],[0.15156666666666666,\"RF Interpretation\",\"AcceptedCmp1\"],[0.15156666666666666,\"RF Interpretation\",\"AcceptedCmp1\"],[0.15156666666666666,\"RF Interpretation\",\"AcceptedCmp1\"],[0.15156666666666666,\"RF Interpretation\",\"AcceptedCmp1\"],[0.15156666666666666,\"RF Interpretation\",\"AcceptedCmp1\"],[0.15156666666666666,\"RF Interpretation\",\"AcceptedCmp1\"],[0.15156666666666666,\"RF Interpretation\",\"AcceptedCmp1\"],[0.15156666666666666,\"RF Interpretation\",\"AcceptedCmp1\"],[0.15156666666666666,\"RF Interpretation\",\"AcceptedCmp1\"],[0.15156666666666666,\"RF Interpretation\",\"AcceptedCmp1\"],[0.15156666666666666,\"RF Interpretation\",\"AcceptedCmp1\"],[0.15156666666666666,\"RF Interpretation\",\"AcceptedCmp1\"],[0.15156666666666666,\"RF Interpretation\",\"AcceptedCmp1\"],[0.15156666666666666,\"RF Interpretation\",\"AcceptedCmp1\"],[0.15156666666666666,\"RF Interpretation\",\"AcceptedCmp1\"],[0.15156666666666666,\"RF Interpretation\",\"AcceptedCmp1\"],[0.15156666666666666,\"RF Interpretation\",\"AcceptedCmp1\"],[0.15156666666666666,\"RF Interpretation\",\"AcceptedCmp1\"],[0.15156666666666666,\"RF Interpretation\",\"AcceptedCmp1\"],[0.15156666666666666,\"RF Interpretation\",\"AcceptedCmp1\"],[0.15156666666666666,\"RF Interpretation\",\"AcceptedCmp1\"],[0.15156666666666666,\"RF Interpretation\",\"AcceptedCmp1\"],[0.15156666666666666,\"RF Interpretation\",\"AcceptedCmp1\"],[0.15156666666666666,\"RF Interpretation\",\"AcceptedCmp1\"],[0.15156666666666666,\"RF Interpretation\",\"AcceptedCmp1\"],[0.15156666666666666,\"RF Interpretation\",\"AcceptedCmp1\"],[0.15156666666666666,\"RF Interpretation\",\"AcceptedCmp1\"],[0.15156666666666666,\"RF Interpretation\",\"AcceptedCmp1\"],[0.15156666666666666,\"RF Interpretation\",\"AcceptedCmp1\"],[0.15156666666666666,\"RF Interpretation\",\"AcceptedCmp1\"],[0.15156666666666666,\"RF Interpretation\",\"AcceptedCmp1\"],[0.15156666666666666,\"RF Interpretation\",\"AcceptedCmp1\"]],\"hovertemplate\":\"<b>%{hovertext}</b><br><br>prediction=%{y:.3f}<br>mean_prediction=%{customdata[0]:.3f}<extra></extra>\",\"hovertext\":[\"RF Interpretation\",\"RF Interpretation\",\"RF Interpretation\",\"RF Interpretation\",\"RF Interpretation\",\"RF Interpretation\",\"RF Interpretation\",\"RF Interpretation\",\"RF Interpretation\",\"RF Interpretation\",\"RF Interpretation\",\"RF Interpretation\",\"RF Interpretation\",\"RF Interpretation\",\"RF Interpretation\",\"RF Interpretation\",\"RF Interpretation\",\"RF Interpretation\",\"RF Interpretation\",\"RF Interpretation\",\"RF Interpretation\",\"RF Interpretation\",\"RF Interpretation\",\"RF Interpretation\",\"RF Interpretation\",\"RF Interpretation\",\"RF Interpretation\",\"RF Interpretation\",\"RF Interpretation\",\"RF Interpretation\",\"RF Interpretation\",\"RF Interpretation\",\"RF Interpretation\",\"RF Interpretation\",\"RF Interpretation\",\"RF Interpretation\",\"RF Interpretation\",\"RF Interpretation\",\"RF Interpretation\",\"RF Interpretation\",\"RF Interpretation\",\"RF Interpretation\",\"RF Interpretation\",\"RF Interpretation\",\"RF Interpretation\",\"RF Interpretation\",\"RF Interpretation\",\"RF Interpretation\",\"RF Interpretation\",\"RF Interpretation\",\"RF Interpretation\",\"RF Interpretation\",\"RF Interpretation\",\"RF Interpretation\",\"RF Interpretation\",\"RF Interpretation\",\"RF Interpretation\",\"RF Interpretation\",\"RF Interpretation\",\"RF Interpretation\",\"RF Interpretation\",\"RF Interpretation\",\"RF Interpretation\",\"RF Interpretation\",\"RF Interpretation\",\"RF Interpretation\",\"RF Interpretation\",\"RF Interpretation\",\"RF Interpretation\",\"RF Interpretation\",\"RF Interpretation\",\"RF Interpretation\",\"RF Interpretation\",\"RF Interpretation\",\"RF Interpretation\",\"RF Interpretation\",\"RF Interpretation\",\"RF Interpretation\",\"RF Interpretation\",\"RF Interpretation\",\"RF Interpretation\",\"RF Interpretation\",\"RF Interpretation\",\"RF Interpretation\",\"RF Interpretation\",\"RF Interpretation\",\"RF Interpretation\",\"RF Interpretation\",\"RF Interpretation\",\"RF Interpretation\",\"RF Interpretation\",\"RF Interpretation\",\"RF Interpretation\",\"RF Interpretation\",\"RF Interpretation\",\"RF Interpretation\",\"RF Interpretation\",\"RF Interpretation\",\"RF Interpretation\",\"RF Interpretation\",\"RF Interpretation\"],\"legendgroup\":\"RF Interpretation\",\"line\":{\"color\":\"#46bac2\",\"dash\":\"solid\",\"width\":2},\"marker\":{\"symbol\":\"circle\"},\"mode\":\"lines\",\"name\":\"RF Interpretation\",\"orientation\":\"v\",\"showlegend\":false,\"x\":[0.0,0.01,0.02,0.03,0.04,0.05,0.06,0.07,0.08,0.09,0.1,0.11,0.12,0.13,0.14,0.15,0.16,0.17,0.18,0.19,0.2,0.21,0.22,0.23,0.24,0.25,0.26,0.27,0.28,0.29,0.3,0.31,0.32,0.33,0.34,0.35000000000000003,0.36,0.37,0.38,0.39,0.4,0.41000000000000003,0.42,0.43,0.44,0.45,0.46,0.47000000000000003,0.48,0.49,0.5,0.51,0.52,0.53,0.54,0.55,0.56,0.5700000000000001,0.58,0.59,0.6,0.61,0.62,0.63,0.64,0.65,0.66,0.67,0.68,0.6900000000000001,0.7000000000000001,0.71,0.72,0.73,0.74,0.75,0.76,0.77,0.78,0.79,0.8,0.81,0.8200000000000001,0.8300000000000001,0.84,0.85,0.86,0.87,0.88,0.89,0.9,0.91,0.92,0.93,0.9400000000000001,0.9500000000000001,0.96,0.97,0.98,0.99,1.0],\"xaxis\":\"x7\",\"y\":[0.1419,0.1419,0.1419,0.1419,0.1419,0.1419,0.1419,0.1419,0.1419,0.1419,0.1419,0.1419,0.1419,0.1419,0.1419,0.1419,0.1419,0.1419,0.1419,0.1419,0.1419,0.1419,0.1419,0.1419,0.1419,0.1419,0.1419,0.1419,0.1419,0.1419,0.1419,0.1419,0.1419,0.1419,0.1419,0.1419,0.1419,0.1419,0.1419,0.1419,0.1419,0.1419,0.1419,0.1419,0.1419,0.1419,0.1419,0.1419,0.1419,0.1419,0.1419,0.32913333333333333,0.32913333333333333,0.32913333333333333,0.32913333333333333,0.32913333333333333,0.32913333333333333,0.32913333333333333,0.32913333333333333,0.32913333333333333,0.32913333333333333,0.32913333333333333,0.32913333333333333,0.32913333333333333,0.32913333333333333,0.32913333333333333,0.32913333333333333,0.32913333333333333,0.32913333333333333,0.32913333333333333,0.32913333333333333,0.32913333333333333,0.32913333333333333,0.32913333333333333,0.32913333333333333,0.32913333333333333,0.32913333333333333,0.32913333333333333,0.32913333333333333,0.32913333333333333,0.32913333333333333,0.32913333333333333,0.32913333333333333,0.32913333333333333,0.32913333333333333,0.32913333333333333,0.32913333333333333,0.32913333333333333,0.32913333333333333,0.32913333333333333,0.32913333333333333,0.32913333333333333,0.32913333333333333,0.32913333333333333,0.32913333333333333,0.32913333333333333,0.32913333333333333,0.32913333333333333,0.32913333333333333,0.32913333333333333,0.32913333333333333],\"yaxis\":\"y7\",\"type\":\"scatter\",\"opacity\":1},{\"customdata\":[[0.15156666666666666,\"RF Interpretation\",\"AcceptedCmp2\"],[0.15156666666666666,\"RF Interpretation\",\"AcceptedCmp2\"],[0.15156666666666666,\"RF Interpretation\",\"AcceptedCmp2\"],[0.15156666666666666,\"RF Interpretation\",\"AcceptedCmp2\"],[0.15156666666666666,\"RF Interpretation\",\"AcceptedCmp2\"],[0.15156666666666666,\"RF Interpretation\",\"AcceptedCmp2\"],[0.15156666666666666,\"RF Interpretation\",\"AcceptedCmp2\"],[0.15156666666666666,\"RF Interpretation\",\"AcceptedCmp2\"],[0.15156666666666666,\"RF Interpretation\",\"AcceptedCmp2\"],[0.15156666666666666,\"RF Interpretation\",\"AcceptedCmp2\"],[0.15156666666666666,\"RF Interpretation\",\"AcceptedCmp2\"],[0.15156666666666666,\"RF Interpretation\",\"AcceptedCmp2\"],[0.15156666666666666,\"RF Interpretation\",\"AcceptedCmp2\"],[0.15156666666666666,\"RF Interpretation\",\"AcceptedCmp2\"],[0.15156666666666666,\"RF Interpretation\",\"AcceptedCmp2\"],[0.15156666666666666,\"RF Interpretation\",\"AcceptedCmp2\"],[0.15156666666666666,\"RF Interpretation\",\"AcceptedCmp2\"],[0.15156666666666666,\"RF Interpretation\",\"AcceptedCmp2\"],[0.15156666666666666,\"RF Interpretation\",\"AcceptedCmp2\"],[0.15156666666666666,\"RF Interpretation\",\"AcceptedCmp2\"],[0.15156666666666666,\"RF Interpretation\",\"AcceptedCmp2\"],[0.15156666666666666,\"RF Interpretation\",\"AcceptedCmp2\"],[0.15156666666666666,\"RF Interpretation\",\"AcceptedCmp2\"],[0.15156666666666666,\"RF Interpretation\",\"AcceptedCmp2\"],[0.15156666666666666,\"RF Interpretation\",\"AcceptedCmp2\"],[0.15156666666666666,\"RF Interpretation\",\"AcceptedCmp2\"],[0.15156666666666666,\"RF Interpretation\",\"AcceptedCmp2\"],[0.15156666666666666,\"RF Interpretation\",\"AcceptedCmp2\"],[0.15156666666666666,\"RF Interpretation\",\"AcceptedCmp2\"],[0.15156666666666666,\"RF Interpretation\",\"AcceptedCmp2\"],[0.15156666666666666,\"RF Interpretation\",\"AcceptedCmp2\"],[0.15156666666666666,\"RF Interpretation\",\"AcceptedCmp2\"],[0.15156666666666666,\"RF Interpretation\",\"AcceptedCmp2\"],[0.15156666666666666,\"RF Interpretation\",\"AcceptedCmp2\"],[0.15156666666666666,\"RF Interpretation\",\"AcceptedCmp2\"],[0.15156666666666666,\"RF Interpretation\",\"AcceptedCmp2\"],[0.15156666666666666,\"RF Interpretation\",\"AcceptedCmp2\"],[0.15156666666666666,\"RF Interpretation\",\"AcceptedCmp2\"],[0.15156666666666666,\"RF Interpretation\",\"AcceptedCmp2\"],[0.15156666666666666,\"RF Interpretation\",\"AcceptedCmp2\"],[0.15156666666666666,\"RF Interpretation\",\"AcceptedCmp2\"],[0.15156666666666666,\"RF Interpretation\",\"AcceptedCmp2\"],[0.15156666666666666,\"RF Interpretation\",\"AcceptedCmp2\"],[0.15156666666666666,\"RF Interpretation\",\"AcceptedCmp2\"],[0.15156666666666666,\"RF Interpretation\",\"AcceptedCmp2\"],[0.15156666666666666,\"RF Interpretation\",\"AcceptedCmp2\"],[0.15156666666666666,\"RF Interpretation\",\"AcceptedCmp2\"],[0.15156666666666666,\"RF Interpretation\",\"AcceptedCmp2\"],[0.15156666666666666,\"RF Interpretation\",\"AcceptedCmp2\"],[0.15156666666666666,\"RF Interpretation\",\"AcceptedCmp2\"],[0.15156666666666666,\"RF Interpretation\",\"AcceptedCmp2\"],[0.15156666666666666,\"RF Interpretation\",\"AcceptedCmp2\"],[0.15156666666666666,\"RF Interpretation\",\"AcceptedCmp2\"],[0.15156666666666666,\"RF Interpretation\",\"AcceptedCmp2\"],[0.15156666666666666,\"RF Interpretation\",\"AcceptedCmp2\"],[0.15156666666666666,\"RF Interpretation\",\"AcceptedCmp2\"],[0.15156666666666666,\"RF Interpretation\",\"AcceptedCmp2\"],[0.15156666666666666,\"RF Interpretation\",\"AcceptedCmp2\"],[0.15156666666666666,\"RF Interpretation\",\"AcceptedCmp2\"],[0.15156666666666666,\"RF Interpretation\",\"AcceptedCmp2\"],[0.15156666666666666,\"RF Interpretation\",\"AcceptedCmp2\"],[0.15156666666666666,\"RF Interpretation\",\"AcceptedCmp2\"],[0.15156666666666666,\"RF Interpretation\",\"AcceptedCmp2\"],[0.15156666666666666,\"RF Interpretation\",\"AcceptedCmp2\"],[0.15156666666666666,\"RF Interpretation\",\"AcceptedCmp2\"],[0.15156666666666666,\"RF Interpretation\",\"AcceptedCmp2\"],[0.15156666666666666,\"RF Interpretation\",\"AcceptedCmp2\"],[0.15156666666666666,\"RF Interpretation\",\"AcceptedCmp2\"],[0.15156666666666666,\"RF Interpretation\",\"AcceptedCmp2\"],[0.15156666666666666,\"RF Interpretation\",\"AcceptedCmp2\"],[0.15156666666666666,\"RF Interpretation\",\"AcceptedCmp2\"],[0.15156666666666666,\"RF Interpretation\",\"AcceptedCmp2\"],[0.15156666666666666,\"RF Interpretation\",\"AcceptedCmp2\"],[0.15156666666666666,\"RF Interpretation\",\"AcceptedCmp2\"],[0.15156666666666666,\"RF Interpretation\",\"AcceptedCmp2\"],[0.15156666666666666,\"RF Interpretation\",\"AcceptedCmp2\"],[0.15156666666666666,\"RF Interpretation\",\"AcceptedCmp2\"],[0.15156666666666666,\"RF Interpretation\",\"AcceptedCmp2\"],[0.15156666666666666,\"RF Interpretation\",\"AcceptedCmp2\"],[0.15156666666666666,\"RF Interpretation\",\"AcceptedCmp2\"],[0.15156666666666666,\"RF Interpretation\",\"AcceptedCmp2\"],[0.15156666666666666,\"RF Interpretation\",\"AcceptedCmp2\"],[0.15156666666666666,\"RF Interpretation\",\"AcceptedCmp2\"],[0.15156666666666666,\"RF Interpretation\",\"AcceptedCmp2\"],[0.15156666666666666,\"RF Interpretation\",\"AcceptedCmp2\"],[0.15156666666666666,\"RF Interpretation\",\"AcceptedCmp2\"],[0.15156666666666666,\"RF Interpretation\",\"AcceptedCmp2\"],[0.15156666666666666,\"RF Interpretation\",\"AcceptedCmp2\"],[0.15156666666666666,\"RF Interpretation\",\"AcceptedCmp2\"],[0.15156666666666666,\"RF Interpretation\",\"AcceptedCmp2\"],[0.15156666666666666,\"RF Interpretation\",\"AcceptedCmp2\"],[0.15156666666666666,\"RF Interpretation\",\"AcceptedCmp2\"],[0.15156666666666666,\"RF Interpretation\",\"AcceptedCmp2\"],[0.15156666666666666,\"RF Interpretation\",\"AcceptedCmp2\"],[0.15156666666666666,\"RF Interpretation\",\"AcceptedCmp2\"],[0.15156666666666666,\"RF Interpretation\",\"AcceptedCmp2\"],[0.15156666666666666,\"RF Interpretation\",\"AcceptedCmp2\"],[0.15156666666666666,\"RF Interpretation\",\"AcceptedCmp2\"],[0.15156666666666666,\"RF Interpretation\",\"AcceptedCmp2\"],[0.15156666666666666,\"RF Interpretation\",\"AcceptedCmp2\"],[0.15156666666666666,\"RF Interpretation\",\"AcceptedCmp2\"]],\"hovertemplate\":\"<b>%{hovertext}</b><br><br>prediction=%{y:.3f}<br>mean_prediction=%{customdata[0]:.3f}<extra></extra>\",\"hovertext\":[\"RF Interpretation\",\"RF Interpretation\",\"RF Interpretation\",\"RF Interpretation\",\"RF Interpretation\",\"RF Interpretation\",\"RF Interpretation\",\"RF Interpretation\",\"RF Interpretation\",\"RF Interpretation\",\"RF Interpretation\",\"RF Interpretation\",\"RF Interpretation\",\"RF Interpretation\",\"RF Interpretation\",\"RF Interpretation\",\"RF Interpretation\",\"RF Interpretation\",\"RF Interpretation\",\"RF Interpretation\",\"RF Interpretation\",\"RF Interpretation\",\"RF Interpretation\",\"RF Interpretation\",\"RF Interpretation\",\"RF Interpretation\",\"RF Interpretation\",\"RF Interpretation\",\"RF Interpretation\",\"RF Interpretation\",\"RF Interpretation\",\"RF Interpretation\",\"RF Interpretation\",\"RF Interpretation\",\"RF Interpretation\",\"RF Interpretation\",\"RF Interpretation\",\"RF Interpretation\",\"RF Interpretation\",\"RF Interpretation\",\"RF Interpretation\",\"RF Interpretation\",\"RF Interpretation\",\"RF Interpretation\",\"RF Interpretation\",\"RF Interpretation\",\"RF Interpretation\",\"RF Interpretation\",\"RF Interpretation\",\"RF Interpretation\",\"RF Interpretation\",\"RF Interpretation\",\"RF Interpretation\",\"RF Interpretation\",\"RF Interpretation\",\"RF Interpretation\",\"RF Interpretation\",\"RF Interpretation\",\"RF Interpretation\",\"RF Interpretation\",\"RF Interpretation\",\"RF Interpretation\",\"RF Interpretation\",\"RF Interpretation\",\"RF Interpretation\",\"RF Interpretation\",\"RF Interpretation\",\"RF Interpretation\",\"RF Interpretation\",\"RF Interpretation\",\"RF Interpretation\",\"RF Interpretation\",\"RF Interpretation\",\"RF Interpretation\",\"RF Interpretation\",\"RF Interpretation\",\"RF Interpretation\",\"RF Interpretation\",\"RF Interpretation\",\"RF Interpretation\",\"RF Interpretation\",\"RF Interpretation\",\"RF Interpretation\",\"RF Interpretation\",\"RF Interpretation\",\"RF Interpretation\",\"RF Interpretation\",\"RF Interpretation\",\"RF Interpretation\",\"RF Interpretation\",\"RF Interpretation\",\"RF Interpretation\",\"RF Interpretation\",\"RF Interpretation\",\"RF Interpretation\",\"RF Interpretation\",\"RF Interpretation\",\"RF Interpretation\",\"RF Interpretation\",\"RF Interpretation\",\"RF Interpretation\"],\"legendgroup\":\"RF Interpretation\",\"line\":{\"color\":\"#46bac2\",\"dash\":\"solid\",\"width\":2},\"marker\":{\"symbol\":\"circle\"},\"mode\":\"lines\",\"name\":\"RF Interpretation\",\"orientation\":\"v\",\"showlegend\":false,\"x\":[0.0,0.01,0.02,0.03,0.04,0.05,0.06,0.07,0.08,0.09,0.1,0.11,0.12,0.13,0.14,0.15,0.16,0.17,0.18,0.19,0.2,0.21,0.22,0.23,0.24,0.25,0.26,0.27,0.28,0.29,0.3,0.31,0.32,0.33,0.34,0.35000000000000003,0.36,0.37,0.38,0.39,0.4,0.41000000000000003,0.42,0.43,0.44,0.45,0.46,0.47000000000000003,0.48,0.49,0.5,0.51,0.52,0.53,0.54,0.55,0.56,0.5700000000000001,0.58,0.59,0.6,0.61,0.62,0.63,0.64,0.65,0.66,0.67,0.68,0.6900000000000001,0.7000000000000001,0.71,0.72,0.73,0.74,0.75,0.76,0.77,0.78,0.79,0.8,0.81,0.8200000000000001,0.8300000000000001,0.84,0.85,0.86,0.87,0.88,0.89,0.9,0.91,0.92,0.93,0.9400000000000001,0.9500000000000001,0.96,0.97,0.98,0.99,1.0],\"xaxis\":\"x8\",\"y\":[0.15043333333333334,0.15043333333333334,0.15043333333333334,0.15043333333333334,0.15043333333333334,0.15043333333333334,0.15043333333333334,0.15043333333333334,0.15043333333333334,0.15043333333333334,0.15043333333333334,0.15043333333333334,0.15043333333333334,0.15043333333333334,0.15043333333333334,0.15043333333333334,0.15043333333333334,0.15043333333333334,0.15043333333333334,0.15043333333333334,0.15043333333333334,0.15043333333333334,0.15043333333333334,0.15043333333333334,0.15043333333333334,0.15043333333333334,0.15043333333333334,0.15043333333333334,0.15043333333333334,0.15043333333333334,0.15043333333333334,0.15043333333333334,0.15043333333333334,0.15043333333333334,0.15043333333333334,0.15043333333333334,0.15043333333333334,0.15043333333333334,0.15043333333333334,0.15043333333333334,0.15043333333333334,0.15043333333333334,0.15043333333333334,0.15043333333333334,0.15043333333333334,0.15043333333333334,0.15043333333333334,0.15043333333333334,0.15043333333333334,0.15043333333333334,0.15043333333333334,0.405,0.405,0.405,0.405,0.405,0.405,0.405,0.405,0.405,0.405,0.405,0.405,0.405,0.405,0.405,0.405,0.405,0.405,0.405,0.405,0.405,0.405,0.405,0.405,0.405,0.405,0.405,0.405,0.405,0.405,0.405,0.405,0.405,0.405,0.405,0.405,0.405,0.405,0.405,0.405,0.405,0.405,0.405,0.405,0.405,0.405,0.405,0.405,0.405,0.405],\"yaxis\":\"y8\",\"type\":\"scatter\",\"opacity\":1},{\"customdata\":[[0.15156666666666666,\"RF Interpretation\",\"Complain\"],[0.15156666666666666,\"RF Interpretation\",\"Complain\"],[0.15156666666666666,\"RF Interpretation\",\"Complain\"],[0.15156666666666666,\"RF Interpretation\",\"Complain\"],[0.15156666666666666,\"RF Interpretation\",\"Complain\"],[0.15156666666666666,\"RF Interpretation\",\"Complain\"],[0.15156666666666666,\"RF Interpretation\",\"Complain\"],[0.15156666666666666,\"RF Interpretation\",\"Complain\"],[0.15156666666666666,\"RF Interpretation\",\"Complain\"],[0.15156666666666666,\"RF Interpretation\",\"Complain\"],[0.15156666666666666,\"RF Interpretation\",\"Complain\"],[0.15156666666666666,\"RF Interpretation\",\"Complain\"],[0.15156666666666666,\"RF Interpretation\",\"Complain\"],[0.15156666666666666,\"RF Interpretation\",\"Complain\"],[0.15156666666666666,\"RF Interpretation\",\"Complain\"],[0.15156666666666666,\"RF Interpretation\",\"Complain\"],[0.15156666666666666,\"RF Interpretation\",\"Complain\"],[0.15156666666666666,\"RF Interpretation\",\"Complain\"],[0.15156666666666666,\"RF Interpretation\",\"Complain\"],[0.15156666666666666,\"RF Interpretation\",\"Complain\"],[0.15156666666666666,\"RF Interpretation\",\"Complain\"],[0.15156666666666666,\"RF Interpretation\",\"Complain\"],[0.15156666666666666,\"RF Interpretation\",\"Complain\"],[0.15156666666666666,\"RF Interpretation\",\"Complain\"],[0.15156666666666666,\"RF Interpretation\",\"Complain\"],[0.15156666666666666,\"RF Interpretation\",\"Complain\"],[0.15156666666666666,\"RF Interpretation\",\"Complain\"],[0.15156666666666666,\"RF Interpretation\",\"Complain\"],[0.15156666666666666,\"RF Interpretation\",\"Complain\"],[0.15156666666666666,\"RF Interpretation\",\"Complain\"],[0.15156666666666666,\"RF Interpretation\",\"Complain\"],[0.15156666666666666,\"RF Interpretation\",\"Complain\"],[0.15156666666666666,\"RF Interpretation\",\"Complain\"],[0.15156666666666666,\"RF Interpretation\",\"Complain\"],[0.15156666666666666,\"RF Interpretation\",\"Complain\"],[0.15156666666666666,\"RF Interpretation\",\"Complain\"],[0.15156666666666666,\"RF Interpretation\",\"Complain\"],[0.15156666666666666,\"RF Interpretation\",\"Complain\"],[0.15156666666666666,\"RF Interpretation\",\"Complain\"],[0.15156666666666666,\"RF Interpretation\",\"Complain\"],[0.15156666666666666,\"RF Interpretation\",\"Complain\"],[0.15156666666666666,\"RF Interpretation\",\"Complain\"],[0.15156666666666666,\"RF Interpretation\",\"Complain\"],[0.15156666666666666,\"RF Interpretation\",\"Complain\"],[0.15156666666666666,\"RF Interpretation\",\"Complain\"],[0.15156666666666666,\"RF Interpretation\",\"Complain\"],[0.15156666666666666,\"RF Interpretation\",\"Complain\"],[0.15156666666666666,\"RF Interpretation\",\"Complain\"],[0.15156666666666666,\"RF Interpretation\",\"Complain\"],[0.15156666666666666,\"RF Interpretation\",\"Complain\"],[0.15156666666666666,\"RF Interpretation\",\"Complain\"],[0.15156666666666666,\"RF Interpretation\",\"Complain\"],[0.15156666666666666,\"RF Interpretation\",\"Complain\"],[0.15156666666666666,\"RF Interpretation\",\"Complain\"],[0.15156666666666666,\"RF Interpretation\",\"Complain\"],[0.15156666666666666,\"RF Interpretation\",\"Complain\"],[0.15156666666666666,\"RF Interpretation\",\"Complain\"],[0.15156666666666666,\"RF Interpretation\",\"Complain\"],[0.15156666666666666,\"RF Interpretation\",\"Complain\"],[0.15156666666666666,\"RF Interpretation\",\"Complain\"],[0.15156666666666666,\"RF Interpretation\",\"Complain\"],[0.15156666666666666,\"RF Interpretation\",\"Complain\"],[0.15156666666666666,\"RF Interpretation\",\"Complain\"],[0.15156666666666666,\"RF Interpretation\",\"Complain\"],[0.15156666666666666,\"RF Interpretation\",\"Complain\"],[0.15156666666666666,\"RF Interpretation\",\"Complain\"],[0.15156666666666666,\"RF Interpretation\",\"Complain\"],[0.15156666666666666,\"RF Interpretation\",\"Complain\"],[0.15156666666666666,\"RF Interpretation\",\"Complain\"],[0.15156666666666666,\"RF Interpretation\",\"Complain\"],[0.15156666666666666,\"RF Interpretation\",\"Complain\"],[0.15156666666666666,\"RF Interpretation\",\"Complain\"],[0.15156666666666666,\"RF Interpretation\",\"Complain\"],[0.15156666666666666,\"RF Interpretation\",\"Complain\"],[0.15156666666666666,\"RF Interpretation\",\"Complain\"],[0.15156666666666666,\"RF Interpretation\",\"Complain\"],[0.15156666666666666,\"RF Interpretation\",\"Complain\"],[0.15156666666666666,\"RF Interpretation\",\"Complain\"],[0.15156666666666666,\"RF Interpretation\",\"Complain\"],[0.15156666666666666,\"RF Interpretation\",\"Complain\"],[0.15156666666666666,\"RF Interpretation\",\"Complain\"],[0.15156666666666666,\"RF Interpretation\",\"Complain\"],[0.15156666666666666,\"RF Interpretation\",\"Complain\"],[0.15156666666666666,\"RF Interpretation\",\"Complain\"],[0.15156666666666666,\"RF Interpretation\",\"Complain\"],[0.15156666666666666,\"RF Interpretation\",\"Complain\"],[0.15156666666666666,\"RF Interpretation\",\"Complain\"],[0.15156666666666666,\"RF Interpretation\",\"Complain\"],[0.15156666666666666,\"RF Interpretation\",\"Complain\"],[0.15156666666666666,\"RF Interpretation\",\"Complain\"],[0.15156666666666666,\"RF Interpretation\",\"Complain\"],[0.15156666666666666,\"RF Interpretation\",\"Complain\"],[0.15156666666666666,\"RF Interpretation\",\"Complain\"],[0.15156666666666666,\"RF Interpretation\",\"Complain\"],[0.15156666666666666,\"RF Interpretation\",\"Complain\"],[0.15156666666666666,\"RF Interpretation\",\"Complain\"],[0.15156666666666666,\"RF Interpretation\",\"Complain\"],[0.15156666666666666,\"RF Interpretation\",\"Complain\"],[0.15156666666666666,\"RF Interpretation\",\"Complain\"],[0.15156666666666666,\"RF Interpretation\",\"Complain\"],[0.15156666666666666,\"RF Interpretation\",\"Complain\"]],\"hovertemplate\":\"<b>%{hovertext}</b><br><br>prediction=%{y:.3f}<br>mean_prediction=%{customdata[0]:.3f}<extra></extra>\",\"hovertext\":[\"RF Interpretation\",\"RF Interpretation\",\"RF Interpretation\",\"RF Interpretation\",\"RF Interpretation\",\"RF Interpretation\",\"RF Interpretation\",\"RF Interpretation\",\"RF Interpretation\",\"RF Interpretation\",\"RF Interpretation\",\"RF Interpretation\",\"RF Interpretation\",\"RF Interpretation\",\"RF Interpretation\",\"RF Interpretation\",\"RF Interpretation\",\"RF Interpretation\",\"RF Interpretation\",\"RF Interpretation\",\"RF Interpretation\",\"RF Interpretation\",\"RF Interpretation\",\"RF Interpretation\",\"RF Interpretation\",\"RF Interpretation\",\"RF Interpretation\",\"RF Interpretation\",\"RF Interpretation\",\"RF Interpretation\",\"RF Interpretation\",\"RF Interpretation\",\"RF Interpretation\",\"RF Interpretation\",\"RF Interpretation\",\"RF Interpretation\",\"RF Interpretation\",\"RF Interpretation\",\"RF Interpretation\",\"RF Interpretation\",\"RF Interpretation\",\"RF Interpretation\",\"RF Interpretation\",\"RF Interpretation\",\"RF Interpretation\",\"RF Interpretation\",\"RF Interpretation\",\"RF Interpretation\",\"RF Interpretation\",\"RF Interpretation\",\"RF Interpretation\",\"RF Interpretation\",\"RF Interpretation\",\"RF Interpretation\",\"RF Interpretation\",\"RF Interpretation\",\"RF Interpretation\",\"RF Interpretation\",\"RF Interpretation\",\"RF Interpretation\",\"RF Interpretation\",\"RF Interpretation\",\"RF Interpretation\",\"RF Interpretation\",\"RF Interpretation\",\"RF Interpretation\",\"RF Interpretation\",\"RF Interpretation\",\"RF Interpretation\",\"RF Interpretation\",\"RF Interpretation\",\"RF Interpretation\",\"RF Interpretation\",\"RF Interpretation\",\"RF Interpretation\",\"RF Interpretation\",\"RF Interpretation\",\"RF Interpretation\",\"RF Interpretation\",\"RF Interpretation\",\"RF Interpretation\",\"RF Interpretation\",\"RF Interpretation\",\"RF Interpretation\",\"RF Interpretation\",\"RF Interpretation\",\"RF Interpretation\",\"RF Interpretation\",\"RF Interpretation\",\"RF Interpretation\",\"RF Interpretation\",\"RF Interpretation\",\"RF Interpretation\",\"RF Interpretation\",\"RF Interpretation\",\"RF Interpretation\",\"RF Interpretation\",\"RF Interpretation\",\"RF Interpretation\",\"RF Interpretation\",\"RF Interpretation\"],\"legendgroup\":\"RF Interpretation\",\"line\":{\"color\":\"#46bac2\",\"dash\":\"solid\",\"width\":2},\"marker\":{\"symbol\":\"circle\"},\"mode\":\"lines\",\"name\":\"RF Interpretation\",\"orientation\":\"v\",\"showlegend\":false,\"x\":[0.0,0.01,0.02,0.03,0.04,0.05,0.06,0.07,0.08,0.09,0.1,0.11,0.12,0.13,0.14,0.15,0.16,0.17,0.18,0.19,0.2,0.21,0.22,0.23,0.24,0.25,0.26,0.27,0.28,0.29,0.3,0.31,0.32,0.33,0.34,0.35000000000000003,0.36,0.37,0.38,0.39,0.4,0.41000000000000003,0.42,0.43,0.44,0.45,0.46,0.47000000000000003,0.48,0.49,0.5,0.51,0.52,0.53,0.54,0.55,0.56,0.5700000000000001,0.58,0.59,0.6,0.61,0.62,0.63,0.64,0.65,0.66,0.67,0.68,0.6900000000000001,0.7000000000000001,0.71,0.72,0.73,0.74,0.75,0.76,0.77,0.78,0.79,0.8,0.81,0.8200000000000001,0.8300000000000001,0.84,0.85,0.86,0.87,0.88,0.89,0.9,0.91,0.92,0.93,0.9400000000000001,0.9500000000000001,0.96,0.97,0.98,0.99,1.0],\"xaxis\":\"x5\",\"y\":[0.15056666666666668,0.15056666666666668,0.15056666666666668,0.15056666666666668,0.15056666666666668,0.15056666666666668,0.15056666666666668,0.15056666666666668,0.15056666666666668,0.15056666666666668,0.15056666666666668,0.15056666666666668,0.15056666666666668,0.15056666666666668,0.15056666666666668,0.15056666666666668,0.15056666666666668,0.15056666666666668,0.15056666666666668,0.15056666666666668,0.15056666666666668,0.15056666666666668,0.15056666666666668,0.15056666666666668,0.15056666666666668,0.15056666666666668,0.15056666666666668,0.15056666666666668,0.15056666666666668,0.15056666666666668,0.15056666666666668,0.15056666666666668,0.15056666666666668,0.15056666666666668,0.15056666666666668,0.15056666666666668,0.15056666666666668,0.15056666666666668,0.15056666666666668,0.15056666666666668,0.15056666666666668,0.15056666666666668,0.15056666666666668,0.15056666666666668,0.15056666666666668,0.15056666666666668,0.15056666666666668,0.15056666666666668,0.15056666666666668,0.15056666666666668,0.15056666666666668,0.17026666666666665,0.17026666666666665,0.17026666666666665,0.17026666666666665,0.17026666666666665,0.17026666666666665,0.17026666666666665,0.17026666666666665,0.17026666666666665,0.17026666666666665,0.17026666666666665,0.17026666666666665,0.17026666666666665,0.17026666666666665,0.17026666666666665,0.17026666666666665,0.17026666666666665,0.17026666666666665,0.17026666666666665,0.17026666666666665,0.17026666666666665,0.17026666666666665,0.17026666666666665,0.17026666666666665,0.17026666666666665,0.17026666666666665,0.17026666666666665,0.17026666666666665,0.17026666666666665,0.17026666666666665,0.17026666666666665,0.17026666666666665,0.17026666666666665,0.17026666666666665,0.17026666666666665,0.17026666666666665,0.17026666666666665,0.17026666666666665,0.17026666666666665,0.17026666666666665,0.17026666666666665,0.17026666666666665,0.17026666666666665,0.17026666666666665,0.17026666666666665,0.17026666666666665,0.17026666666666665,0.17026666666666665,0.17026666666666665,0.17026666666666665],\"yaxis\":\"y5\",\"type\":\"scatter\",\"opacity\":1},{\"customdata\":[[0.15156666666666666,\"RF Interpretation\",\"Age\"],[0.15156666666666666,\"RF Interpretation\",\"Age\"],[0.15156666666666666,\"RF Interpretation\",\"Age\"],[0.15156666666666666,\"RF Interpretation\",\"Age\"],[0.15156666666666666,\"RF Interpretation\",\"Age\"],[0.15156666666666666,\"RF Interpretation\",\"Age\"],[0.15156666666666666,\"RF Interpretation\",\"Age\"],[0.15156666666666666,\"RF Interpretation\",\"Age\"],[0.15156666666666666,\"RF Interpretation\",\"Age\"],[0.15156666666666666,\"RF Interpretation\",\"Age\"],[0.15156666666666666,\"RF Interpretation\",\"Age\"],[0.15156666666666666,\"RF Interpretation\",\"Age\"],[0.15156666666666666,\"RF Interpretation\",\"Age\"],[0.15156666666666666,\"RF Interpretation\",\"Age\"],[0.15156666666666666,\"RF Interpretation\",\"Age\"],[0.15156666666666666,\"RF Interpretation\",\"Age\"],[0.15156666666666666,\"RF Interpretation\",\"Age\"],[0.15156666666666666,\"RF Interpretation\",\"Age\"],[0.15156666666666666,\"RF Interpretation\",\"Age\"],[0.15156666666666666,\"RF Interpretation\",\"Age\"],[0.15156666666666666,\"RF Interpretation\",\"Age\"],[0.15156666666666666,\"RF Interpretation\",\"Age\"],[0.15156666666666666,\"RF Interpretation\",\"Age\"],[0.15156666666666666,\"RF Interpretation\",\"Age\"],[0.15156666666666666,\"RF Interpretation\",\"Age\"],[0.15156666666666666,\"RF Interpretation\",\"Age\"],[0.15156666666666666,\"RF Interpretation\",\"Age\"],[0.15156666666666666,\"RF Interpretation\",\"Age\"],[0.15156666666666666,\"RF Interpretation\",\"Age\"],[0.15156666666666666,\"RF Interpretation\",\"Age\"],[0.15156666666666666,\"RF Interpretation\",\"Age\"],[0.15156666666666666,\"RF Interpretation\",\"Age\"],[0.15156666666666666,\"RF Interpretation\",\"Age\"],[0.15156666666666666,\"RF Interpretation\",\"Age\"],[0.15156666666666666,\"RF Interpretation\",\"Age\"],[0.15156666666666666,\"RF Interpretation\",\"Age\"],[0.15156666666666666,\"RF Interpretation\",\"Age\"],[0.15156666666666666,\"RF Interpretation\",\"Age\"],[0.15156666666666666,\"RF Interpretation\",\"Age\"],[0.15156666666666666,\"RF Interpretation\",\"Age\"],[0.15156666666666666,\"RF Interpretation\",\"Age\"],[0.15156666666666666,\"RF Interpretation\",\"Age\"],[0.15156666666666666,\"RF Interpretation\",\"Age\"],[0.15156666666666666,\"RF Interpretation\",\"Age\"],[0.15156666666666666,\"RF Interpretation\",\"Age\"],[0.15156666666666666,\"RF Interpretation\",\"Age\"],[0.15156666666666666,\"RF Interpretation\",\"Age\"],[0.15156666666666666,\"RF Interpretation\",\"Age\"],[0.15156666666666666,\"RF Interpretation\",\"Age\"],[0.15156666666666666,\"RF Interpretation\",\"Age\"],[0.15156666666666666,\"RF Interpretation\",\"Age\"],[0.15156666666666666,\"RF Interpretation\",\"Age\"],[0.15156666666666666,\"RF Interpretation\",\"Age\"],[0.15156666666666666,\"RF Interpretation\",\"Age\"],[0.15156666666666666,\"RF Interpretation\",\"Age\"],[0.15156666666666666,\"RF Interpretation\",\"Age\"],[0.15156666666666666,\"RF Interpretation\",\"Age\"],[0.15156666666666666,\"RF Interpretation\",\"Age\"],[0.15156666666666666,\"RF Interpretation\",\"Age\"],[0.15156666666666666,\"RF Interpretation\",\"Age\"],[0.15156666666666666,\"RF Interpretation\",\"Age\"],[0.15156666666666666,\"RF Interpretation\",\"Age\"],[0.15156666666666666,\"RF Interpretation\",\"Age\"],[0.15156666666666666,\"RF Interpretation\",\"Age\"],[0.15156666666666666,\"RF Interpretation\",\"Age\"],[0.15156666666666666,\"RF Interpretation\",\"Age\"],[0.15156666666666666,\"RF Interpretation\",\"Age\"],[0.15156666666666666,\"RF Interpretation\",\"Age\"],[0.15156666666666666,\"RF Interpretation\",\"Age\"],[0.15156666666666666,\"RF Interpretation\",\"Age\"],[0.15156666666666666,\"RF Interpretation\",\"Age\"],[0.15156666666666666,\"RF Interpretation\",\"Age\"],[0.15156666666666666,\"RF Interpretation\",\"Age\"],[0.15156666666666666,\"RF Interpretation\",\"Age\"],[0.15156666666666666,\"RF Interpretation\",\"Age\"],[0.15156666666666666,\"RF Interpretation\",\"Age\"],[0.15156666666666666,\"RF Interpretation\",\"Age\"],[0.15156666666666666,\"RF Interpretation\",\"Age\"],[0.15156666666666666,\"RF Interpretation\",\"Age\"],[0.15156666666666666,\"RF Interpretation\",\"Age\"],[0.15156666666666666,\"RF Interpretation\",\"Age\"],[0.15156666666666666,\"RF Interpretation\",\"Age\"],[0.15156666666666666,\"RF Interpretation\",\"Age\"],[0.15156666666666666,\"RF Interpretation\",\"Age\"],[0.15156666666666666,\"RF Interpretation\",\"Age\"],[0.15156666666666666,\"RF Interpretation\",\"Age\"],[0.15156666666666666,\"RF Interpretation\",\"Age\"],[0.15156666666666666,\"RF Interpretation\",\"Age\"],[0.15156666666666666,\"RF Interpretation\",\"Age\"],[0.15156666666666666,\"RF Interpretation\",\"Age\"],[0.15156666666666666,\"RF Interpretation\",\"Age\"],[0.15156666666666666,\"RF Interpretation\",\"Age\"],[0.15156666666666666,\"RF Interpretation\",\"Age\"],[0.15156666666666666,\"RF Interpretation\",\"Age\"],[0.15156666666666666,\"RF Interpretation\",\"Age\"],[0.15156666666666666,\"RF Interpretation\",\"Age\"],[0.15156666666666666,\"RF Interpretation\",\"Age\"],[0.15156666666666666,\"RF Interpretation\",\"Age\"],[0.15156666666666666,\"RF Interpretation\",\"Age\"],[0.15156666666666666,\"RF Interpretation\",\"Age\"],[0.15156666666666666,\"RF Interpretation\",\"Age\"]],\"hovertemplate\":\"<b>%{hovertext}</b><br><br>prediction=%{y:.3f}<br>mean_prediction=%{customdata[0]:.3f}<extra></extra>\",\"hovertext\":[\"RF Interpretation\",\"RF Interpretation\",\"RF Interpretation\",\"RF Interpretation\",\"RF Interpretation\",\"RF Interpretation\",\"RF Interpretation\",\"RF Interpretation\",\"RF Interpretation\",\"RF Interpretation\",\"RF Interpretation\",\"RF Interpretation\",\"RF Interpretation\",\"RF Interpretation\",\"RF Interpretation\",\"RF Interpretation\",\"RF Interpretation\",\"RF Interpretation\",\"RF Interpretation\",\"RF Interpretation\",\"RF Interpretation\",\"RF Interpretation\",\"RF Interpretation\",\"RF Interpretation\",\"RF Interpretation\",\"RF Interpretation\",\"RF Interpretation\",\"RF Interpretation\",\"RF Interpretation\",\"RF Interpretation\",\"RF Interpretation\",\"RF Interpretation\",\"RF Interpretation\",\"RF Interpretation\",\"RF Interpretation\",\"RF Interpretation\",\"RF Interpretation\",\"RF Interpretation\",\"RF Interpretation\",\"RF Interpretation\",\"RF Interpretation\",\"RF Interpretation\",\"RF Interpretation\",\"RF Interpretation\",\"RF Interpretation\",\"RF Interpretation\",\"RF Interpretation\",\"RF Interpretation\",\"RF Interpretation\",\"RF Interpretation\",\"RF Interpretation\",\"RF Interpretation\",\"RF Interpretation\",\"RF Interpretation\",\"RF Interpretation\",\"RF Interpretation\",\"RF Interpretation\",\"RF Interpretation\",\"RF Interpretation\",\"RF Interpretation\",\"RF Interpretation\",\"RF Interpretation\",\"RF Interpretation\",\"RF Interpretation\",\"RF Interpretation\",\"RF Interpretation\",\"RF Interpretation\",\"RF Interpretation\",\"RF Interpretation\",\"RF Interpretation\",\"RF Interpretation\",\"RF Interpretation\",\"RF Interpretation\",\"RF Interpretation\",\"RF Interpretation\",\"RF Interpretation\",\"RF Interpretation\",\"RF Interpretation\",\"RF Interpretation\",\"RF Interpretation\",\"RF Interpretation\",\"RF Interpretation\",\"RF Interpretation\",\"RF Interpretation\",\"RF Interpretation\",\"RF Interpretation\",\"RF Interpretation\",\"RF Interpretation\",\"RF Interpretation\",\"RF Interpretation\",\"RF Interpretation\",\"RF Interpretation\",\"RF Interpretation\",\"RF Interpretation\",\"RF Interpretation\",\"RF Interpretation\",\"RF Interpretation\",\"RF Interpretation\",\"RF Interpretation\",\"RF Interpretation\",\"RF Interpretation\"],\"legendgroup\":\"RF Interpretation\",\"line\":{\"color\":\"#46bac2\",\"dash\":\"solid\",\"width\":2},\"marker\":{\"symbol\":\"circle\"},\"mode\":\"lines\",\"name\":\"RF Interpretation\",\"orientation\":\"v\",\"showlegend\":false,\"x\":[0.0,0.01,0.02,0.03,0.04,0.05,0.06,0.07,0.08,0.09,0.1,0.11,0.12,0.13,0.14,0.15,0.16,0.17,0.18,0.19,0.2,0.21,0.22,0.23,0.24,0.25,0.26,0.27,0.28,0.29,0.3,0.31,0.32,0.33,0.34,0.35000000000000003,0.36,0.37,0.38,0.39,0.4,0.41000000000000003,0.42,0.43,0.44,0.45,0.46,0.47000000000000003,0.48,0.49,0.5,0.51,0.52,0.53,0.54,0.55,0.56,0.5700000000000001,0.58,0.59,0.6,0.61,0.62,0.63,0.64,0.65,0.66,0.67,0.68,0.6900000000000001,0.7000000000000001,0.71,0.72,0.73,0.74,0.75,0.76,0.77,0.78,0.79,0.8,0.81,0.8200000000000001,0.8300000000000001,0.84,0.85,0.86,0.87,0.88,0.89,0.9,0.91,0.92,0.93,0.9400000000000001,0.9500000000000001,0.96,0.97,0.98,0.99,1.0],\"xaxis\":\"x6\",\"y\":[0.2883,0.20203333333333334,0.20203333333333334,0.20203333333333334,0.19763333333333333,0.1968,0.18963333333333335,0.18359999999999999,0.1831,0.1837,0.18333333333333332,0.18280000000000002,0.18256666666666668,0.18146666666666667,0.18023333333333333,0.1782,0.17736666666666667,0.18413333333333334,0.18366666666666667,0.18386666666666668,0.1818,0.18283333333333335,0.1938666666666667,0.19466666666666665,0.18463333333333334,0.18406666666666666,0.1924,0.19106666666666666,0.17273333333333332,0.17083333333333334,0.16916666666666666,0.16799999999999998,0.15853333333333333,0.15696666666666667,0.15166666666666667,0.15256666666666668,0.1523,0.15463333333333334,0.15406666666666666,0.15393333333333334,0.15486666666666668,0.15530000000000002,0.15486666666666668,0.1515,0.1526,0.15836666666666666,0.15846666666666667,0.15463333333333334,0.15386666666666668,0.1547,0.15463333333333334,0.15016666666666667,0.1513,0.15103333333333335,0.1516,0.15043333333333334,0.14873333333333333,0.14676666666666668,0.14463333333333334,0.14393333333333333,0.14466666666666667,0.14526666666666666,0.1457,0.14600000000000002,0.14493333333333336,0.1455,0.14856666666666668,0.14686666666666667,0.1459,0.146,0.1454,0.14493333333333336,0.1446,0.1461,0.14776666666666666,0.15503333333333333,0.15466666666666667,0.153,0.15223333333333333,0.15073333333333333,0.15026666666666666,0.14846666666666666,0.1506333333333333,0.15403333333333333,0.1524333333333333,0.15203333333333333,0.15333333333333332,0.15943333333333332,0.17200000000000001,0.17200000000000001,0.17126666666666668,0.17063333333333333,0.17063333333333333,0.17090000000000002,0.1741,0.1741,0.17443333333333333,0.17833333333333334,0.17833333333333334,0.1857666666666667,0.1857666666666667],\"yaxis\":\"y6\",\"type\":\"scatter\",\"opacity\":1},{\"customdata\":[[0.15156666666666666,\"RF Interpretation\",\"Children\"],[0.15156666666666666,\"RF Interpretation\",\"Children\"],[0.15156666666666666,\"RF Interpretation\",\"Children\"],[0.15156666666666666,\"RF Interpretation\",\"Children\"],[0.15156666666666666,\"RF Interpretation\",\"Children\"],[0.15156666666666666,\"RF Interpretation\",\"Children\"],[0.15156666666666666,\"RF Interpretation\",\"Children\"],[0.15156666666666666,\"RF Interpretation\",\"Children\"],[0.15156666666666666,\"RF Interpretation\",\"Children\"],[0.15156666666666666,\"RF Interpretation\",\"Children\"],[0.15156666666666666,\"RF Interpretation\",\"Children\"],[0.15156666666666666,\"RF Interpretation\",\"Children\"],[0.15156666666666666,\"RF Interpretation\",\"Children\"],[0.15156666666666666,\"RF Interpretation\",\"Children\"],[0.15156666666666666,\"RF Interpretation\",\"Children\"],[0.15156666666666666,\"RF Interpretation\",\"Children\"],[0.15156666666666666,\"RF Interpretation\",\"Children\"],[0.15156666666666666,\"RF Interpretation\",\"Children\"],[0.15156666666666666,\"RF Interpretation\",\"Children\"],[0.15156666666666666,\"RF Interpretation\",\"Children\"],[0.15156666666666666,\"RF Interpretation\",\"Children\"],[0.15156666666666666,\"RF Interpretation\",\"Children\"],[0.15156666666666666,\"RF Interpretation\",\"Children\"],[0.15156666666666666,\"RF Interpretation\",\"Children\"],[0.15156666666666666,\"RF Interpretation\",\"Children\"],[0.15156666666666666,\"RF Interpretation\",\"Children\"],[0.15156666666666666,\"RF Interpretation\",\"Children\"],[0.15156666666666666,\"RF Interpretation\",\"Children\"],[0.15156666666666666,\"RF Interpretation\",\"Children\"],[0.15156666666666666,\"RF Interpretation\",\"Children\"],[0.15156666666666666,\"RF Interpretation\",\"Children\"],[0.15156666666666666,\"RF Interpretation\",\"Children\"],[0.15156666666666666,\"RF Interpretation\",\"Children\"],[0.15156666666666666,\"RF Interpretation\",\"Children\"],[0.15156666666666666,\"RF Interpretation\",\"Children\"],[0.15156666666666666,\"RF Interpretation\",\"Children\"],[0.15156666666666666,\"RF Interpretation\",\"Children\"],[0.15156666666666666,\"RF Interpretation\",\"Children\"],[0.15156666666666666,\"RF Interpretation\",\"Children\"],[0.15156666666666666,\"RF Interpretation\",\"Children\"],[0.15156666666666666,\"RF Interpretation\",\"Children\"],[0.15156666666666666,\"RF Interpretation\",\"Children\"],[0.15156666666666666,\"RF Interpretation\",\"Children\"],[0.15156666666666666,\"RF Interpretation\",\"Children\"],[0.15156666666666666,\"RF Interpretation\",\"Children\"],[0.15156666666666666,\"RF Interpretation\",\"Children\"],[0.15156666666666666,\"RF Interpretation\",\"Children\"],[0.15156666666666666,\"RF Interpretation\",\"Children\"],[0.15156666666666666,\"RF Interpretation\",\"Children\"],[0.15156666666666666,\"RF Interpretation\",\"Children\"],[0.15156666666666666,\"RF Interpretation\",\"Children\"],[0.15156666666666666,\"RF Interpretation\",\"Children\"],[0.15156666666666666,\"RF Interpretation\",\"Children\"],[0.15156666666666666,\"RF Interpretation\",\"Children\"],[0.15156666666666666,\"RF Interpretation\",\"Children\"],[0.15156666666666666,\"RF Interpretation\",\"Children\"],[0.15156666666666666,\"RF Interpretation\",\"Children\"],[0.15156666666666666,\"RF Interpretation\",\"Children\"],[0.15156666666666666,\"RF Interpretation\",\"Children\"],[0.15156666666666666,\"RF Interpretation\",\"Children\"],[0.15156666666666666,\"RF Interpretation\",\"Children\"],[0.15156666666666666,\"RF Interpretation\",\"Children\"],[0.15156666666666666,\"RF Interpretation\",\"Children\"],[0.15156666666666666,\"RF Interpretation\",\"Children\"],[0.15156666666666666,\"RF Interpretation\",\"Children\"],[0.15156666666666666,\"RF Interpretation\",\"Children\"],[0.15156666666666666,\"RF Interpretation\",\"Children\"],[0.15156666666666666,\"RF Interpretation\",\"Children\"],[0.15156666666666666,\"RF Interpretation\",\"Children\"],[0.15156666666666666,\"RF Interpretation\",\"Children\"],[0.15156666666666666,\"RF Interpretation\",\"Children\"],[0.15156666666666666,\"RF Interpretation\",\"Children\"],[0.15156666666666666,\"RF Interpretation\",\"Children\"],[0.15156666666666666,\"RF Interpretation\",\"Children\"],[0.15156666666666666,\"RF Interpretation\",\"Children\"],[0.15156666666666666,\"RF Interpretation\",\"Children\"],[0.15156666666666666,\"RF Interpretation\",\"Children\"],[0.15156666666666666,\"RF Interpretation\",\"Children\"],[0.15156666666666666,\"RF Interpretation\",\"Children\"],[0.15156666666666666,\"RF Interpretation\",\"Children\"],[0.15156666666666666,\"RF Interpretation\",\"Children\"],[0.15156666666666666,\"RF Interpretation\",\"Children\"],[0.15156666666666666,\"RF Interpretation\",\"Children\"],[0.15156666666666666,\"RF Interpretation\",\"Children\"],[0.15156666666666666,\"RF Interpretation\",\"Children\"],[0.15156666666666666,\"RF Interpretation\",\"Children\"],[0.15156666666666666,\"RF Interpretation\",\"Children\"],[0.15156666666666666,\"RF Interpretation\",\"Children\"],[0.15156666666666666,\"RF Interpretation\",\"Children\"],[0.15156666666666666,\"RF Interpretation\",\"Children\"],[0.15156666666666666,\"RF Interpretation\",\"Children\"],[0.15156666666666666,\"RF Interpretation\",\"Children\"],[0.15156666666666666,\"RF Interpretation\",\"Children\"],[0.15156666666666666,\"RF Interpretation\",\"Children\"],[0.15156666666666666,\"RF Interpretation\",\"Children\"],[0.15156666666666666,\"RF Interpretation\",\"Children\"],[0.15156666666666666,\"RF Interpretation\",\"Children\"],[0.15156666666666666,\"RF Interpretation\",\"Children\"],[0.15156666666666666,\"RF Interpretation\",\"Children\"],[0.15156666666666666,\"RF Interpretation\",\"Children\"],[0.15156666666666666,\"RF Interpretation\",\"Children\"]],\"hovertemplate\":\"<b>%{hovertext}</b><br><br>prediction=%{y:.3f}<br>mean_prediction=%{customdata[0]:.3f}<extra></extra>\",\"hovertext\":[\"RF Interpretation\",\"RF Interpretation\",\"RF Interpretation\",\"RF Interpretation\",\"RF Interpretation\",\"RF Interpretation\",\"RF Interpretation\",\"RF Interpretation\",\"RF Interpretation\",\"RF Interpretation\",\"RF Interpretation\",\"RF Interpretation\",\"RF Interpretation\",\"RF Interpretation\",\"RF Interpretation\",\"RF Interpretation\",\"RF Interpretation\",\"RF Interpretation\",\"RF Interpretation\",\"RF Interpretation\",\"RF Interpretation\",\"RF Interpretation\",\"RF Interpretation\",\"RF Interpretation\",\"RF Interpretation\",\"RF Interpretation\",\"RF Interpretation\",\"RF Interpretation\",\"RF Interpretation\",\"RF Interpretation\",\"RF Interpretation\",\"RF Interpretation\",\"RF Interpretation\",\"RF Interpretation\",\"RF Interpretation\",\"RF Interpretation\",\"RF Interpretation\",\"RF Interpretation\",\"RF Interpretation\",\"RF Interpretation\",\"RF Interpretation\",\"RF Interpretation\",\"RF Interpretation\",\"RF Interpretation\",\"RF Interpretation\",\"RF Interpretation\",\"RF Interpretation\",\"RF Interpretation\",\"RF Interpretation\",\"RF Interpretation\",\"RF Interpretation\",\"RF Interpretation\",\"RF Interpretation\",\"RF Interpretation\",\"RF Interpretation\",\"RF Interpretation\",\"RF Interpretation\",\"RF Interpretation\",\"RF Interpretation\",\"RF Interpretation\",\"RF Interpretation\",\"RF Interpretation\",\"RF Interpretation\",\"RF Interpretation\",\"RF Interpretation\",\"RF Interpretation\",\"RF Interpretation\",\"RF Interpretation\",\"RF Interpretation\",\"RF Interpretation\",\"RF Interpretation\",\"RF Interpretation\",\"RF Interpretation\",\"RF Interpretation\",\"RF Interpretation\",\"RF Interpretation\",\"RF Interpretation\",\"RF Interpretation\",\"RF Interpretation\",\"RF Interpretation\",\"RF Interpretation\",\"RF Interpretation\",\"RF Interpretation\",\"RF Interpretation\",\"RF Interpretation\",\"RF Interpretation\",\"RF Interpretation\",\"RF Interpretation\",\"RF Interpretation\",\"RF Interpretation\",\"RF Interpretation\",\"RF Interpretation\",\"RF Interpretation\",\"RF Interpretation\",\"RF Interpretation\",\"RF Interpretation\",\"RF Interpretation\",\"RF Interpretation\",\"RF Interpretation\",\"RF Interpretation\",\"RF Interpretation\"],\"legendgroup\":\"RF Interpretation\",\"line\":{\"color\":\"#46bac2\",\"dash\":\"solid\",\"width\":2},\"marker\":{\"symbol\":\"circle\"},\"mode\":\"lines\",\"name\":\"RF Interpretation\",\"orientation\":\"v\",\"showlegend\":false,\"x\":[0.0,0.01,0.02,0.03,0.04,0.05,0.06,0.07,0.08,0.09,0.1,0.11,0.12,0.13,0.14,0.15,0.16,0.17,0.18,0.19,0.2,0.21,0.22,0.23,0.24,0.25,0.26,0.27,0.28,0.29,0.3,0.31,0.32,0.33,0.34,0.35000000000000003,0.36,0.37,0.38,0.39,0.4,0.41000000000000003,0.42,0.43,0.44,0.45,0.46,0.47000000000000003,0.48,0.49,0.5,0.51,0.52,0.53,0.54,0.55,0.56,0.5700000000000001,0.58,0.59,0.6,0.61,0.62,0.63,0.64,0.65,0.66,0.67,0.68,0.6900000000000001,0.7000000000000001,0.71,0.72,0.73,0.74,0.75,0.76,0.77,0.78,0.79,0.8,0.81,0.8200000000000001,0.8300000000000001,0.84,0.85,0.86,0.87,0.88,0.89,0.9,0.91,0.92,0.93,0.9400000000000001,0.9500000000000001,0.96,0.97,0.98,0.99,1.0],\"xaxis\":\"x3\",\"y\":[0.15993333333333332,0.15993333333333332,0.15993333333333332,0.15993333333333332,0.15993333333333332,0.15993333333333332,0.15993333333333332,0.15993333333333332,0.15993333333333332,0.15993333333333332,0.15993333333333332,0.15993333333333332,0.15993333333333332,0.15993333333333332,0.15993333333333332,0.15993333333333332,0.15993333333333332,0.1513,0.1513,0.1513,0.1513,0.1513,0.1513,0.1513,0.1513,0.1513,0.1513,0.1513,0.1513,0.1513,0.1513,0.1513,0.1513,0.1513,0.15123333333333333,0.15123333333333333,0.15123333333333333,0.15123333333333333,0.15123333333333333,0.15123333333333333,0.15123333333333333,0.15123333333333333,0.15123333333333333,0.15123333333333333,0.15123333333333333,0.15123333333333333,0.15123333333333333,0.15123333333333333,0.15123333333333333,0.15123333333333333,0.15123333333333333,0.15543333333333334,0.15543333333333334,0.15543333333333334,0.15543333333333334,0.15543333333333334,0.15543333333333334,0.15543333333333334,0.15543333333333334,0.15543333333333334,0.15543333333333334,0.15543333333333334,0.15543333333333334,0.15543333333333334,0.15543333333333334,0.15543333333333334,0.15543333333333334,0.1561,0.1561,0.1561,0.1561,0.1561,0.1561,0.1561,0.1561,0.1561,0.1561,0.1561,0.1561,0.1561,0.1561,0.1561,0.1561,0.1561,0.165,0.165,0.165,0.165,0.165,0.165,0.165,0.165,0.165,0.165,0.165,0.165,0.165,0.165,0.165,0.165,0.165],\"yaxis\":\"y3\",\"type\":\"scatter\",\"opacity\":1},{\"customdata\":[[0.15156666666666666,\"RF Interpretation\",\"TotalSpendings\"],[0.15156666666666666,\"RF Interpretation\",\"TotalSpendings\"],[0.15156666666666666,\"RF Interpretation\",\"TotalSpendings\"],[0.15156666666666666,\"RF Interpretation\",\"TotalSpendings\"],[0.15156666666666666,\"RF Interpretation\",\"TotalSpendings\"],[0.15156666666666666,\"RF Interpretation\",\"TotalSpendings\"],[0.15156666666666666,\"RF Interpretation\",\"TotalSpendings\"],[0.15156666666666666,\"RF Interpretation\",\"TotalSpendings\"],[0.15156666666666666,\"RF Interpretation\",\"TotalSpendings\"],[0.15156666666666666,\"RF Interpretation\",\"TotalSpendings\"],[0.15156666666666666,\"RF Interpretation\",\"TotalSpendings\"],[0.15156666666666666,\"RF Interpretation\",\"TotalSpendings\"],[0.15156666666666666,\"RF Interpretation\",\"TotalSpendings\"],[0.15156666666666666,\"RF Interpretation\",\"TotalSpendings\"],[0.15156666666666666,\"RF Interpretation\",\"TotalSpendings\"],[0.15156666666666666,\"RF Interpretation\",\"TotalSpendings\"],[0.15156666666666666,\"RF Interpretation\",\"TotalSpendings\"],[0.15156666666666666,\"RF Interpretation\",\"TotalSpendings\"],[0.15156666666666666,\"RF Interpretation\",\"TotalSpendings\"],[0.15156666666666666,\"RF Interpretation\",\"TotalSpendings\"],[0.15156666666666666,\"RF Interpretation\",\"TotalSpendings\"],[0.15156666666666666,\"RF Interpretation\",\"TotalSpendings\"],[0.15156666666666666,\"RF Interpretation\",\"TotalSpendings\"],[0.15156666666666666,\"RF Interpretation\",\"TotalSpendings\"],[0.15156666666666666,\"RF Interpretation\",\"TotalSpendings\"],[0.15156666666666666,\"RF Interpretation\",\"TotalSpendings\"],[0.15156666666666666,\"RF Interpretation\",\"TotalSpendings\"],[0.15156666666666666,\"RF Interpretation\",\"TotalSpendings\"],[0.15156666666666666,\"RF Interpretation\",\"TotalSpendings\"],[0.15156666666666666,\"RF Interpretation\",\"TotalSpendings\"],[0.15156666666666666,\"RF Interpretation\",\"TotalSpendings\"],[0.15156666666666666,\"RF Interpretation\",\"TotalSpendings\"],[0.15156666666666666,\"RF Interpretation\",\"TotalSpendings\"],[0.15156666666666666,\"RF Interpretation\",\"TotalSpendings\"],[0.15156666666666666,\"RF Interpretation\",\"TotalSpendings\"],[0.15156666666666666,\"RF Interpretation\",\"TotalSpendings\"],[0.15156666666666666,\"RF Interpretation\",\"TotalSpendings\"],[0.15156666666666666,\"RF Interpretation\",\"TotalSpendings\"],[0.15156666666666666,\"RF Interpretation\",\"TotalSpendings\"],[0.15156666666666666,\"RF Interpretation\",\"TotalSpendings\"],[0.15156666666666666,\"RF Interpretation\",\"TotalSpendings\"],[0.15156666666666666,\"RF Interpretation\",\"TotalSpendings\"],[0.15156666666666666,\"RF Interpretation\",\"TotalSpendings\"],[0.15156666666666666,\"RF Interpretation\",\"TotalSpendings\"],[0.15156666666666666,\"RF Interpretation\",\"TotalSpendings\"],[0.15156666666666666,\"RF Interpretation\",\"TotalSpendings\"],[0.15156666666666666,\"RF Interpretation\",\"TotalSpendings\"],[0.15156666666666666,\"RF Interpretation\",\"TotalSpendings\"],[0.15156666666666666,\"RF Interpretation\",\"TotalSpendings\"],[0.15156666666666666,\"RF Interpretation\",\"TotalSpendings\"],[0.15156666666666666,\"RF Interpretation\",\"TotalSpendings\"],[0.15156666666666666,\"RF Interpretation\",\"TotalSpendings\"],[0.15156666666666666,\"RF Interpretation\",\"TotalSpendings\"],[0.15156666666666666,\"RF Interpretation\",\"TotalSpendings\"],[0.15156666666666666,\"RF Interpretation\",\"TotalSpendings\"],[0.15156666666666666,\"RF Interpretation\",\"TotalSpendings\"],[0.15156666666666666,\"RF Interpretation\",\"TotalSpendings\"],[0.15156666666666666,\"RF Interpretation\",\"TotalSpendings\"],[0.15156666666666666,\"RF Interpretation\",\"TotalSpendings\"],[0.15156666666666666,\"RF Interpretation\",\"TotalSpendings\"],[0.15156666666666666,\"RF Interpretation\",\"TotalSpendings\"],[0.15156666666666666,\"RF Interpretation\",\"TotalSpendings\"],[0.15156666666666666,\"RF Interpretation\",\"TotalSpendings\"],[0.15156666666666666,\"RF Interpretation\",\"TotalSpendings\"],[0.15156666666666666,\"RF Interpretation\",\"TotalSpendings\"],[0.15156666666666666,\"RF Interpretation\",\"TotalSpendings\"],[0.15156666666666666,\"RF Interpretation\",\"TotalSpendings\"],[0.15156666666666666,\"RF Interpretation\",\"TotalSpendings\"],[0.15156666666666666,\"RF Interpretation\",\"TotalSpendings\"],[0.15156666666666666,\"RF Interpretation\",\"TotalSpendings\"],[0.15156666666666666,\"RF Interpretation\",\"TotalSpendings\"],[0.15156666666666666,\"RF Interpretation\",\"TotalSpendings\"],[0.15156666666666666,\"RF Interpretation\",\"TotalSpendings\"],[0.15156666666666666,\"RF Interpretation\",\"TotalSpendings\"],[0.15156666666666666,\"RF Interpretation\",\"TotalSpendings\"],[0.15156666666666666,\"RF Interpretation\",\"TotalSpendings\"],[0.15156666666666666,\"RF Interpretation\",\"TotalSpendings\"],[0.15156666666666666,\"RF Interpretation\",\"TotalSpendings\"],[0.15156666666666666,\"RF Interpretation\",\"TotalSpendings\"],[0.15156666666666666,\"RF Interpretation\",\"TotalSpendings\"],[0.15156666666666666,\"RF Interpretation\",\"TotalSpendings\"],[0.15156666666666666,\"RF Interpretation\",\"TotalSpendings\"],[0.15156666666666666,\"RF Interpretation\",\"TotalSpendings\"],[0.15156666666666666,\"RF Interpretation\",\"TotalSpendings\"],[0.15156666666666666,\"RF Interpretation\",\"TotalSpendings\"],[0.15156666666666666,\"RF Interpretation\",\"TotalSpendings\"],[0.15156666666666666,\"RF Interpretation\",\"TotalSpendings\"],[0.15156666666666666,\"RF Interpretation\",\"TotalSpendings\"],[0.15156666666666666,\"RF Interpretation\",\"TotalSpendings\"],[0.15156666666666666,\"RF Interpretation\",\"TotalSpendings\"],[0.15156666666666666,\"RF Interpretation\",\"TotalSpendings\"],[0.15156666666666666,\"RF Interpretation\",\"TotalSpendings\"],[0.15156666666666666,\"RF Interpretation\",\"TotalSpendings\"],[0.15156666666666666,\"RF Interpretation\",\"TotalSpendings\"],[0.15156666666666666,\"RF Interpretation\",\"TotalSpendings\"],[0.15156666666666666,\"RF Interpretation\",\"TotalSpendings\"],[0.15156666666666666,\"RF Interpretation\",\"TotalSpendings\"],[0.15156666666666666,\"RF Interpretation\",\"TotalSpendings\"],[0.15156666666666666,\"RF Interpretation\",\"TotalSpendings\"],[0.15156666666666666,\"RF Interpretation\",\"TotalSpendings\"],[0.15156666666666666,\"RF Interpretation\",\"TotalSpendings\"]],\"hovertemplate\":\"<b>%{hovertext}</b><br><br>prediction=%{y:.3f}<br>mean_prediction=%{customdata[0]:.3f}<extra></extra>\",\"hovertext\":[\"RF Interpretation\",\"RF Interpretation\",\"RF Interpretation\",\"RF Interpretation\",\"RF Interpretation\",\"RF Interpretation\",\"RF Interpretation\",\"RF Interpretation\",\"RF Interpretation\",\"RF Interpretation\",\"RF Interpretation\",\"RF Interpretation\",\"RF Interpretation\",\"RF Interpretation\",\"RF Interpretation\",\"RF Interpretation\",\"RF Interpretation\",\"RF Interpretation\",\"RF Interpretation\",\"RF Interpretation\",\"RF Interpretation\",\"RF Interpretation\",\"RF Interpretation\",\"RF Interpretation\",\"RF Interpretation\",\"RF Interpretation\",\"RF Interpretation\",\"RF Interpretation\",\"RF Interpretation\",\"RF Interpretation\",\"RF Interpretation\",\"RF Interpretation\",\"RF Interpretation\",\"RF Interpretation\",\"RF Interpretation\",\"RF Interpretation\",\"RF Interpretation\",\"RF Interpretation\",\"RF Interpretation\",\"RF Interpretation\",\"RF Interpretation\",\"RF Interpretation\",\"RF Interpretation\",\"RF Interpretation\",\"RF Interpretation\",\"RF Interpretation\",\"RF Interpretation\",\"RF Interpretation\",\"RF Interpretation\",\"RF Interpretation\",\"RF Interpretation\",\"RF Interpretation\",\"RF Interpretation\",\"RF Interpretation\",\"RF Interpretation\",\"RF Interpretation\",\"RF Interpretation\",\"RF Interpretation\",\"RF Interpretation\",\"RF Interpretation\",\"RF Interpretation\",\"RF Interpretation\",\"RF Interpretation\",\"RF Interpretation\",\"RF Interpretation\",\"RF Interpretation\",\"RF Interpretation\",\"RF Interpretation\",\"RF Interpretation\",\"RF Interpretation\",\"RF Interpretation\",\"RF Interpretation\",\"RF Interpretation\",\"RF Interpretation\",\"RF Interpretation\",\"RF Interpretation\",\"RF Interpretation\",\"RF Interpretation\",\"RF Interpretation\",\"RF Interpretation\",\"RF Interpretation\",\"RF Interpretation\",\"RF Interpretation\",\"RF Interpretation\",\"RF Interpretation\",\"RF Interpretation\",\"RF Interpretation\",\"RF Interpretation\",\"RF Interpretation\",\"RF Interpretation\",\"RF Interpretation\",\"RF Interpretation\",\"RF Interpretation\",\"RF Interpretation\",\"RF Interpretation\",\"RF Interpretation\",\"RF Interpretation\",\"RF Interpretation\",\"RF Interpretation\",\"RF Interpretation\",\"RF Interpretation\"],\"legendgroup\":\"RF Interpretation\",\"line\":{\"color\":\"#46bac2\",\"dash\":\"solid\",\"width\":2},\"marker\":{\"symbol\":\"circle\"},\"mode\":\"lines\",\"name\":\"RF Interpretation\",\"orientation\":\"v\",\"showlegend\":false,\"x\":[0.0,0.01,0.02,0.03,0.04,0.05,0.06,0.07,0.08,0.09,0.1,0.11,0.12,0.13,0.14,0.15,0.16,0.17,0.18,0.19,0.2,0.21,0.22,0.23,0.24,0.25,0.26,0.27,0.28,0.29,0.3,0.31,0.32,0.33,0.34,0.35000000000000003,0.36,0.37,0.38,0.39,0.4,0.41000000000000003,0.42,0.43,0.44,0.45,0.46,0.47000000000000003,0.48,0.49,0.5,0.51,0.52,0.53,0.54,0.55,0.56,0.5700000000000001,0.58,0.59,0.6,0.61,0.62,0.63,0.64,0.65,0.66,0.67,0.68,0.6900000000000001,0.7000000000000001,0.71,0.72,0.73,0.74,0.75,0.76,0.77,0.78,0.79,0.8,0.81,0.8200000000000001,0.8300000000000001,0.84,0.85,0.86,0.87,0.88,0.89,0.9,0.91,0.92,0.93,0.9400000000000001,0.9500000000000001,0.96,0.97,0.98,0.99,1.0],\"xaxis\":\"x4\",\"y\":[0.13733333333333334,0.13253333333333334,0.1331,0.1603,0.15323333333333333,0.15793333333333334,0.16453333333333334,0.17516666666666666,0.1743333333333333,0.1755,0.1769,0.17466666666666666,0.17343333333333333,0.1733,0.1738,0.1744666666666667,0.17493333333333333,0.1757,0.17683333333333331,0.17146666666666666,0.17146666666666666,0.17203333333333334,0.1714,0.16986666666666667,0.16976666666666668,0.1696,0.16946666666666668,0.17246666666666668,0.17243333333333336,0.1732,0.17393333333333333,0.17436666666666667,0.17450000000000002,0.17723333333333333,0.18446666666666667,0.1797,0.17953333333333332,0.17876666666666668,0.17863333333333334,0.18723333333333333,0.18163333333333334,0.18376666666666666,0.18526666666666666,0.1886,0.1986,0.2005333333333333,0.20193333333333333,0.2086,0.21339999999999998,0.22643333333333335,0.2351,0.24213333333333334,0.24136666666666665,0.23633333333333334,0.234,0.23346666666666668,0.23596666666666669,0.24013333333333337,0.24086666666666667,0.24113333333333334,0.24123333333333336,0.2427333333333333,0.24103333333333335,0.23396666666666666,0.2349,0.23503333333333334,0.23650000000000002,0.23653333333333332,0.23656666666666668,0.2378333333333333,0.23613333333333333,0.23650000000000002,0.24673333333333333,0.2448,0.26313333333333333,0.2536,0.24406666666666665,0.24316666666666667,0.2464,0.24736666666666665,0.25070000000000003,0.25193333333333334,0.26766666666666666,0.28819999999999996,0.2992666666666667,0.2992666666666667,0.31123333333333336,0.3118666666666667,0.3126,0.31273333333333336,0.3197333333333333,0.32066666666666666,0.32066666666666666,0.32083333333333336,0.32126666666666664,0.32126666666666664,0.32126666666666664,0.3207333333333333,0.3262,0.32813333333333333,0.32653333333333334],\"yaxis\":\"y4\",\"type\":\"scatter\",\"opacity\":1},{\"customdata\":[[0.15156666666666666,\"RF Interpretation\",\"TotalPurchases\"],[0.15156666666666666,\"RF Interpretation\",\"TotalPurchases\"],[0.15156666666666666,\"RF Interpretation\",\"TotalPurchases\"],[0.15156666666666666,\"RF Interpretation\",\"TotalPurchases\"],[0.15156666666666666,\"RF Interpretation\",\"TotalPurchases\"],[0.15156666666666666,\"RF Interpretation\",\"TotalPurchases\"],[0.15156666666666666,\"RF Interpretation\",\"TotalPurchases\"],[0.15156666666666666,\"RF Interpretation\",\"TotalPurchases\"],[0.15156666666666666,\"RF Interpretation\",\"TotalPurchases\"],[0.15156666666666666,\"RF Interpretation\",\"TotalPurchases\"],[0.15156666666666666,\"RF Interpretation\",\"TotalPurchases\"],[0.15156666666666666,\"RF Interpretation\",\"TotalPurchases\"],[0.15156666666666666,\"RF Interpretation\",\"TotalPurchases\"],[0.15156666666666666,\"RF Interpretation\",\"TotalPurchases\"],[0.15156666666666666,\"RF Interpretation\",\"TotalPurchases\"],[0.15156666666666666,\"RF Interpretation\",\"TotalPurchases\"],[0.15156666666666666,\"RF Interpretation\",\"TotalPurchases\"],[0.15156666666666666,\"RF Interpretation\",\"TotalPurchases\"],[0.15156666666666666,\"RF Interpretation\",\"TotalPurchases\"],[0.15156666666666666,\"RF Interpretation\",\"TotalPurchases\"],[0.15156666666666666,\"RF Interpretation\",\"TotalPurchases\"],[0.15156666666666666,\"RF Interpretation\",\"TotalPurchases\"],[0.15156666666666666,\"RF Interpretation\",\"TotalPurchases\"],[0.15156666666666666,\"RF Interpretation\",\"TotalPurchases\"],[0.15156666666666666,\"RF Interpretation\",\"TotalPurchases\"],[0.15156666666666666,\"RF Interpretation\",\"TotalPurchases\"],[0.15156666666666666,\"RF Interpretation\",\"TotalPurchases\"],[0.15156666666666666,\"RF Interpretation\",\"TotalPurchases\"],[0.15156666666666666,\"RF Interpretation\",\"TotalPurchases\"],[0.15156666666666666,\"RF Interpretation\",\"TotalPurchases\"],[0.15156666666666666,\"RF Interpretation\",\"TotalPurchases\"],[0.15156666666666666,\"RF Interpretation\",\"TotalPurchases\"],[0.15156666666666666,\"RF Interpretation\",\"TotalPurchases\"],[0.15156666666666666,\"RF Interpretation\",\"TotalPurchases\"],[0.15156666666666666,\"RF Interpretation\",\"TotalPurchases\"],[0.15156666666666666,\"RF Interpretation\",\"TotalPurchases\"],[0.15156666666666666,\"RF Interpretation\",\"TotalPurchases\"],[0.15156666666666666,\"RF Interpretation\",\"TotalPurchases\"],[0.15156666666666666,\"RF Interpretation\",\"TotalPurchases\"],[0.15156666666666666,\"RF Interpretation\",\"TotalPurchases\"],[0.15156666666666666,\"RF Interpretation\",\"TotalPurchases\"],[0.15156666666666666,\"RF Interpretation\",\"TotalPurchases\"],[0.15156666666666666,\"RF Interpretation\",\"TotalPurchases\"],[0.15156666666666666,\"RF Interpretation\",\"TotalPurchases\"],[0.15156666666666666,\"RF Interpretation\",\"TotalPurchases\"],[0.15156666666666666,\"RF Interpretation\",\"TotalPurchases\"],[0.15156666666666666,\"RF Interpretation\",\"TotalPurchases\"],[0.15156666666666666,\"RF Interpretation\",\"TotalPurchases\"],[0.15156666666666666,\"RF Interpretation\",\"TotalPurchases\"],[0.15156666666666666,\"RF Interpretation\",\"TotalPurchases\"],[0.15156666666666666,\"RF Interpretation\",\"TotalPurchases\"],[0.15156666666666666,\"RF Interpretation\",\"TotalPurchases\"],[0.15156666666666666,\"RF Interpretation\",\"TotalPurchases\"],[0.15156666666666666,\"RF Interpretation\",\"TotalPurchases\"],[0.15156666666666666,\"RF Interpretation\",\"TotalPurchases\"],[0.15156666666666666,\"RF Interpretation\",\"TotalPurchases\"],[0.15156666666666666,\"RF Interpretation\",\"TotalPurchases\"],[0.15156666666666666,\"RF Interpretation\",\"TotalPurchases\"],[0.15156666666666666,\"RF Interpretation\",\"TotalPurchases\"],[0.15156666666666666,\"RF Interpretation\",\"TotalPurchases\"],[0.15156666666666666,\"RF Interpretation\",\"TotalPurchases\"],[0.15156666666666666,\"RF Interpretation\",\"TotalPurchases\"],[0.15156666666666666,\"RF Interpretation\",\"TotalPurchases\"],[0.15156666666666666,\"RF Interpretation\",\"TotalPurchases\"],[0.15156666666666666,\"RF Interpretation\",\"TotalPurchases\"],[0.15156666666666666,\"RF Interpretation\",\"TotalPurchases\"],[0.15156666666666666,\"RF Interpretation\",\"TotalPurchases\"],[0.15156666666666666,\"RF Interpretation\",\"TotalPurchases\"],[0.15156666666666666,\"RF Interpretation\",\"TotalPurchases\"],[0.15156666666666666,\"RF Interpretation\",\"TotalPurchases\"],[0.15156666666666666,\"RF Interpretation\",\"TotalPurchases\"],[0.15156666666666666,\"RF Interpretation\",\"TotalPurchases\"],[0.15156666666666666,\"RF Interpretation\",\"TotalPurchases\"],[0.15156666666666666,\"RF Interpretation\",\"TotalPurchases\"],[0.15156666666666666,\"RF Interpretation\",\"TotalPurchases\"],[0.15156666666666666,\"RF Interpretation\",\"TotalPurchases\"],[0.15156666666666666,\"RF Interpretation\",\"TotalPurchases\"],[0.15156666666666666,\"RF Interpretation\",\"TotalPurchases\"],[0.15156666666666666,\"RF Interpretation\",\"TotalPurchases\"],[0.15156666666666666,\"RF Interpretation\",\"TotalPurchases\"],[0.15156666666666666,\"RF Interpretation\",\"TotalPurchases\"],[0.15156666666666666,\"RF Interpretation\",\"TotalPurchases\"],[0.15156666666666666,\"RF Interpretation\",\"TotalPurchases\"],[0.15156666666666666,\"RF Interpretation\",\"TotalPurchases\"],[0.15156666666666666,\"RF Interpretation\",\"TotalPurchases\"],[0.15156666666666666,\"RF Interpretation\",\"TotalPurchases\"],[0.15156666666666666,\"RF Interpretation\",\"TotalPurchases\"],[0.15156666666666666,\"RF Interpretation\",\"TotalPurchases\"],[0.15156666666666666,\"RF Interpretation\",\"TotalPurchases\"],[0.15156666666666666,\"RF Interpretation\",\"TotalPurchases\"],[0.15156666666666666,\"RF Interpretation\",\"TotalPurchases\"],[0.15156666666666666,\"RF Interpretation\",\"TotalPurchases\"],[0.15156666666666666,\"RF Interpretation\",\"TotalPurchases\"],[0.15156666666666666,\"RF Interpretation\",\"TotalPurchases\"],[0.15156666666666666,\"RF Interpretation\",\"TotalPurchases\"],[0.15156666666666666,\"RF Interpretation\",\"TotalPurchases\"],[0.15156666666666666,\"RF Interpretation\",\"TotalPurchases\"],[0.15156666666666666,\"RF Interpretation\",\"TotalPurchases\"],[0.15156666666666666,\"RF Interpretation\",\"TotalPurchases\"],[0.15156666666666666,\"RF Interpretation\",\"TotalPurchases\"],[0.15156666666666666,\"RF Interpretation\",\"TotalPurchases\"]],\"hovertemplate\":\"<b>%{hovertext}</b><br><br>prediction=%{y:.3f}<br>mean_prediction=%{customdata[0]:.3f}<extra></extra>\",\"hovertext\":[\"RF Interpretation\",\"RF Interpretation\",\"RF Interpretation\",\"RF Interpretation\",\"RF Interpretation\",\"RF Interpretation\",\"RF Interpretation\",\"RF Interpretation\",\"RF Interpretation\",\"RF Interpretation\",\"RF Interpretation\",\"RF Interpretation\",\"RF Interpretation\",\"RF Interpretation\",\"RF Interpretation\",\"RF Interpretation\",\"RF Interpretation\",\"RF Interpretation\",\"RF Interpretation\",\"RF Interpretation\",\"RF Interpretation\",\"RF Interpretation\",\"RF Interpretation\",\"RF Interpretation\",\"RF Interpretation\",\"RF Interpretation\",\"RF Interpretation\",\"RF Interpretation\",\"RF Interpretation\",\"RF Interpretation\",\"RF Interpretation\",\"RF Interpretation\",\"RF Interpretation\",\"RF Interpretation\",\"RF Interpretation\",\"RF Interpretation\",\"RF Interpretation\",\"RF Interpretation\",\"RF Interpretation\",\"RF Interpretation\",\"RF Interpretation\",\"RF Interpretation\",\"RF Interpretation\",\"RF Interpretation\",\"RF Interpretation\",\"RF Interpretation\",\"RF Interpretation\",\"RF Interpretation\",\"RF Interpretation\",\"RF Interpretation\",\"RF Interpretation\",\"RF Interpretation\",\"RF Interpretation\",\"RF Interpretation\",\"RF Interpretation\",\"RF Interpretation\",\"RF Interpretation\",\"RF Interpretation\",\"RF Interpretation\",\"RF Interpretation\",\"RF Interpretation\",\"RF Interpretation\",\"RF Interpretation\",\"RF Interpretation\",\"RF Interpretation\",\"RF Interpretation\",\"RF Interpretation\",\"RF Interpretation\",\"RF Interpretation\",\"RF Interpretation\",\"RF Interpretation\",\"RF Interpretation\",\"RF Interpretation\",\"RF Interpretation\",\"RF Interpretation\",\"RF Interpretation\",\"RF Interpretation\",\"RF Interpretation\",\"RF Interpretation\",\"RF Interpretation\",\"RF Interpretation\",\"RF Interpretation\",\"RF Interpretation\",\"RF Interpretation\",\"RF Interpretation\",\"RF Interpretation\",\"RF Interpretation\",\"RF Interpretation\",\"RF Interpretation\",\"RF Interpretation\",\"RF Interpretation\",\"RF Interpretation\",\"RF Interpretation\",\"RF Interpretation\",\"RF Interpretation\",\"RF Interpretation\",\"RF Interpretation\",\"RF Interpretation\",\"RF Interpretation\",\"RF Interpretation\",\"RF Interpretation\"],\"legendgroup\":\"RF Interpretation\",\"line\":{\"color\":\"#46bac2\",\"dash\":\"solid\",\"width\":2},\"marker\":{\"symbol\":\"circle\"},\"mode\":\"lines\",\"name\":\"RF Interpretation\",\"orientation\":\"v\",\"showlegend\":false,\"x\":[0.0,0.01,0.02,0.03,0.04,0.05,0.06,0.07,0.08,0.09,0.1,0.11,0.12,0.13,0.14,0.15,0.16,0.17,0.18,0.19,0.2,0.21,0.22,0.23,0.24,0.25,0.26,0.27,0.28,0.29,0.3,0.31,0.32,0.33,0.34,0.35000000000000003,0.36,0.37,0.38,0.39,0.4,0.41000000000000003,0.42,0.43,0.44,0.45,0.46,0.47000000000000003,0.48,0.49,0.5,0.51,0.52,0.53,0.54,0.55,0.56,0.5700000000000001,0.58,0.59,0.6,0.61,0.62,0.63,0.64,0.65,0.66,0.67,0.68,0.6900000000000001,0.7000000000000001,0.71,0.72,0.73,0.74,0.75,0.76,0.77,0.78,0.79,0.8,0.81,0.8200000000000001,0.8300000000000001,0.84,0.85,0.86,0.87,0.88,0.89,0.9,0.91,0.92,0.93,0.9400000000000001,0.9500000000000001,0.96,0.97,0.98,0.99,1.0],\"xaxis\":\"x\",\"y\":[0.162,0.162,0.162,0.162,0.162,0.16256666666666666,0.16256666666666666,0.16256666666666666,0.16256666666666666,0.1616,0.16176666666666667,0.16176666666666667,0.164,0.1653,0.1653,0.16820000000000002,0.16820000000000002,0.169,0.1678,0.1678,0.16793333333333335,0.16840000000000002,0.16840000000000002,0.16776666666666665,0.16776666666666665,0.15836666666666666,0.15836666666666666,0.15836666666666666,0.16083333333333333,0.16083333333333333,0.16183333333333333,0.16296666666666668,0.16296666666666668,0.1638,0.16566666666666668,0.16566666666666668,0.16516666666666666,0.16516666666666666,0.16599999999999998,0.16583333333333333,0.16583333333333333,0.17846666666666666,0.1769666666666667,0.1769666666666667,0.17706666666666665,0.17706666666666665,0.17563333333333334,0.17426666666666668,0.17426666666666668,0.17493333333333336,0.18233333333333335,0.18253333333333333,0.18256666666666668,0.18256666666666668,0.1813,0.18213333333333334,0.18213333333333334,0.18223333333333333,0.18223333333333333,0.18203333333333332,0.1769,0.1769,0.17566666666666667,0.17909999999999998,0.17909999999999998,0.1793,0.1793,0.17323333333333332,0.1729,0.1729,0.17113333333333333,0.17099999999999999,0.17099999999999999,0.1724,0.1724,0.17246666666666668,0.17203333333333334,0.17203333333333334,0.17203333333333334,0.17203333333333334,0.18346666666666667,0.1837,0.1837,0.18433333333333335,0.1848,0.1848,0.1848,0.1848,0.18503333333333333,0.1885,0.1885,0.20163333333333333,0.26553333333333334,0.26553333333333334,0.26553333333333334,0.26553333333333334,0.26553333333333334,0.26553333333333334,0.26553333333333334,0.26553333333333334,0.26553333333333334],\"yaxis\":\"y\",\"type\":\"scatter\",\"opacity\":1}],                        {\"template\":{\"data\":{\"scatter\":[{\"type\":\"scatter\"}]}},\"xaxis\":{\"anchor\":\"y\",\"domain\":[0.0,0.475],\"title\":{\"text\":\"\"},\"showticklabels\":true,\"type\":\"linear\",\"gridwidth\":2,\"zeroline\":false,\"automargin\":true,\"ticks\":\"outside\",\"tickcolor\":\"white\",\"ticklen\":3,\"fixedrange\":true},\"yaxis\":{\"anchor\":\"x\",\"domain\":[0.0,0.0921875],\"title\":{\"text\":\"\"},\"range\":[0.07118666666666668,0.4353466666666667],\"type\":\"linear\",\"gridwidth\":2,\"zeroline\":false,\"automargin\":true,\"ticks\":\"outside\",\"tickcolor\":\"white\",\"ticklen\":3,\"fixedrange\":true},\"xaxis2\":{\"anchor\":\"y2\",\"domain\":[0.525,1.0],\"title\":{\"text\":\"\"},\"showticklabels\":true,\"type\":\"linear\",\"gridwidth\":2,\"zeroline\":false,\"automargin\":true,\"ticks\":\"outside\",\"tickcolor\":\"white\",\"ticklen\":3,\"fixedrange\":true},\"yaxis2\":{\"anchor\":\"x2\",\"domain\":[0.0,0.0921875],\"matches\":\"y\",\"showticklabels\":false,\"type\":\"linear\",\"gridwidth\":2,\"zeroline\":false,\"automargin\":true,\"ticks\":\"outside\",\"tickcolor\":\"white\",\"ticklen\":3,\"fixedrange\":true,\"title\":{\"text\":\"\"}},\"xaxis3\":{\"anchor\":\"y3\",\"domain\":[0.0,0.475],\"showticklabels\":true,\"type\":\"linear\",\"gridwidth\":2,\"zeroline\":false,\"automargin\":true,\"ticks\":\"outside\",\"tickcolor\":\"white\",\"ticklen\":3,\"fixedrange\":true,\"title\":{\"text\":\"\"}},\"yaxis3\":{\"anchor\":\"x3\",\"domain\":[0.1296875,0.22187500000000002],\"matches\":\"y\",\"title\":{\"text\":\"\"},\"range\":[0.07118666666666668,0.4353466666666667],\"type\":\"linear\",\"gridwidth\":2,\"zeroline\":false,\"automargin\":true,\"ticks\":\"outside\",\"tickcolor\":\"white\",\"ticklen\":3,\"fixedrange\":true},\"xaxis4\":{\"anchor\":\"y4\",\"domain\":[0.525,1.0],\"showticklabels\":true,\"type\":\"linear\",\"gridwidth\":2,\"zeroline\":false,\"automargin\":true,\"ticks\":\"outside\",\"tickcolor\":\"white\",\"ticklen\":3,\"fixedrange\":true,\"title\":{\"text\":\"\"}},\"yaxis4\":{\"anchor\":\"x4\",\"domain\":[0.1296875,0.22187500000000002],\"matches\":\"y\",\"showticklabels\":false,\"type\":\"linear\",\"gridwidth\":2,\"zeroline\":false,\"automargin\":true,\"ticks\":\"outside\",\"tickcolor\":\"white\",\"ticklen\":3,\"fixedrange\":true,\"title\":{\"text\":\"\"}},\"xaxis5\":{\"anchor\":\"y5\",\"domain\":[0.0,0.475],\"showticklabels\":true,\"type\":\"linear\",\"gridwidth\":2,\"zeroline\":false,\"automargin\":true,\"ticks\":\"outside\",\"tickcolor\":\"white\",\"ticklen\":3,\"fixedrange\":true,\"title\":{\"text\":\"\"}},\"yaxis5\":{\"anchor\":\"x5\",\"domain\":[0.259375,0.3515625],\"matches\":\"y\",\"title\":{\"text\":\"\"},\"range\":[0.07118666666666668,0.4353466666666667],\"type\":\"linear\",\"gridwidth\":2,\"zeroline\":false,\"automargin\":true,\"ticks\":\"outside\",\"tickcolor\":\"white\",\"ticklen\":3,\"fixedrange\":true},\"xaxis6\":{\"anchor\":\"y6\",\"domain\":[0.525,1.0],\"showticklabels\":true,\"type\":\"linear\",\"gridwidth\":2,\"zeroline\":false,\"automargin\":true,\"ticks\":\"outside\",\"tickcolor\":\"white\",\"ticklen\":3,\"fixedrange\":true,\"title\":{\"text\":\"\"}},\"yaxis6\":{\"anchor\":\"x6\",\"domain\":[0.259375,0.3515625],\"matches\":\"y\",\"showticklabels\":false,\"type\":\"linear\",\"gridwidth\":2,\"zeroline\":false,\"automargin\":true,\"ticks\":\"outside\",\"tickcolor\":\"white\",\"ticklen\":3,\"fixedrange\":true,\"title\":{\"text\":\"\"}},\"xaxis7\":{\"anchor\":\"y7\",\"domain\":[0.0,0.475],\"showticklabels\":true,\"type\":\"linear\",\"gridwidth\":2,\"zeroline\":false,\"automargin\":true,\"ticks\":\"outside\",\"tickcolor\":\"white\",\"ticklen\":3,\"fixedrange\":true,\"title\":{\"text\":\"\"}},\"yaxis7\":{\"anchor\":\"x7\",\"domain\":[0.38906250000000003,0.48125000000000007],\"matches\":\"y\",\"title\":{\"text\":\"\"},\"range\":[0.07118666666666668,0.4353466666666667],\"type\":\"linear\",\"gridwidth\":2,\"zeroline\":false,\"automargin\":true,\"ticks\":\"outside\",\"tickcolor\":\"white\",\"ticklen\":3,\"fixedrange\":true},\"xaxis8\":{\"anchor\":\"y8\",\"domain\":[0.525,1.0],\"showticklabels\":true,\"type\":\"linear\",\"gridwidth\":2,\"zeroline\":false,\"automargin\":true,\"ticks\":\"outside\",\"tickcolor\":\"white\",\"ticklen\":3,\"fixedrange\":true,\"title\":{\"text\":\"\"}},\"yaxis8\":{\"anchor\":\"x8\",\"domain\":[0.38906250000000003,0.48125000000000007],\"matches\":\"y\",\"showticklabels\":false,\"type\":\"linear\",\"gridwidth\":2,\"zeroline\":false,\"automargin\":true,\"ticks\":\"outside\",\"tickcolor\":\"white\",\"ticklen\":3,\"fixedrange\":true,\"title\":{\"text\":\"\"}},\"xaxis9\":{\"anchor\":\"y9\",\"domain\":[0.0,0.475],\"showticklabels\":true,\"type\":\"linear\",\"gridwidth\":2,\"zeroline\":false,\"automargin\":true,\"ticks\":\"outside\",\"tickcolor\":\"white\",\"ticklen\":3,\"fixedrange\":true,\"title\":{\"text\":\"\"}},\"yaxis9\":{\"anchor\":\"x9\",\"domain\":[0.51875,0.6109375],\"matches\":\"y\",\"title\":{\"text\":\"\"},\"range\":[0.07118666666666668,0.4353466666666667],\"type\":\"linear\",\"gridwidth\":2,\"zeroline\":false,\"automargin\":true,\"ticks\":\"outside\",\"tickcolor\":\"white\",\"ticklen\":3,\"fixedrange\":true},\"xaxis10\":{\"anchor\":\"y10\",\"domain\":[0.525,1.0],\"showticklabels\":true,\"type\":\"linear\",\"gridwidth\":2,\"zeroline\":false,\"automargin\":true,\"ticks\":\"outside\",\"tickcolor\":\"white\",\"ticklen\":3,\"fixedrange\":true,\"title\":{\"text\":\"\"}},\"yaxis10\":{\"anchor\":\"x10\",\"domain\":[0.51875,0.6109375],\"matches\":\"y\",\"showticklabels\":false,\"type\":\"linear\",\"gridwidth\":2,\"zeroline\":false,\"automargin\":true,\"ticks\":\"outside\",\"tickcolor\":\"white\",\"ticklen\":3,\"fixedrange\":true,\"title\":{\"text\":\"\"}},\"xaxis11\":{\"anchor\":\"y11\",\"domain\":[0.0,0.475],\"showticklabels\":true,\"type\":\"linear\",\"gridwidth\":2,\"zeroline\":false,\"automargin\":true,\"ticks\":\"outside\",\"tickcolor\":\"white\",\"ticklen\":3,\"fixedrange\":true,\"title\":{\"text\":\"\"}},\"yaxis11\":{\"anchor\":\"x11\",\"domain\":[0.6484375,0.740625],\"matches\":\"y\",\"title\":{\"text\":\"\"},\"range\":[0.07118666666666668,0.4353466666666667],\"type\":\"linear\",\"gridwidth\":2,\"zeroline\":false,\"automargin\":true,\"ticks\":\"outside\",\"tickcolor\":\"white\",\"ticklen\":3,\"fixedrange\":true},\"xaxis12\":{\"anchor\":\"y12\",\"domain\":[0.525,1.0],\"showticklabels\":true,\"type\":\"linear\",\"gridwidth\":2,\"zeroline\":false,\"automargin\":true,\"ticks\":\"outside\",\"tickcolor\":\"white\",\"ticklen\":3,\"fixedrange\":true,\"title\":{\"text\":\"\"}},\"yaxis12\":{\"anchor\":\"x12\",\"domain\":[0.6484375,0.740625],\"matches\":\"y\",\"showticklabels\":false,\"type\":\"linear\",\"gridwidth\":2,\"zeroline\":false,\"automargin\":true,\"ticks\":\"outside\",\"tickcolor\":\"white\",\"ticklen\":3,\"fixedrange\":true,\"title\":{\"text\":\"\"}},\"xaxis13\":{\"anchor\":\"y13\",\"domain\":[0.0,0.475],\"showticklabels\":true,\"type\":\"linear\",\"gridwidth\":2,\"zeroline\":false,\"automargin\":true,\"ticks\":\"outside\",\"tickcolor\":\"white\",\"ticklen\":3,\"fixedrange\":true,\"title\":{\"text\":\"\"}},\"yaxis13\":{\"anchor\":\"x13\",\"domain\":[0.778125,0.8703124999999999],\"matches\":\"y\",\"title\":{\"text\":\"\"},\"range\":[0.07118666666666668,0.4353466666666667],\"type\":\"linear\",\"gridwidth\":2,\"zeroline\":false,\"automargin\":true,\"ticks\":\"outside\",\"tickcolor\":\"white\",\"ticklen\":3,\"fixedrange\":true},\"xaxis14\":{\"anchor\":\"y14\",\"domain\":[0.525,1.0],\"showticklabels\":true,\"type\":\"linear\",\"gridwidth\":2,\"zeroline\":false,\"automargin\":true,\"ticks\":\"outside\",\"tickcolor\":\"white\",\"ticklen\":3,\"fixedrange\":true,\"title\":{\"text\":\"\"}},\"yaxis14\":{\"anchor\":\"x14\",\"domain\":[0.778125,0.8703124999999999],\"matches\":\"y\",\"showticklabels\":false,\"type\":\"linear\",\"gridwidth\":2,\"zeroline\":false,\"automargin\":true,\"ticks\":\"outside\",\"tickcolor\":\"white\",\"ticklen\":3,\"fixedrange\":true,\"title\":{\"text\":\"\"}},\"xaxis15\":{\"anchor\":\"y15\",\"domain\":[0.0,0.475],\"showticklabels\":true,\"type\":\"linear\",\"gridwidth\":2,\"zeroline\":false,\"automargin\":true,\"ticks\":\"outside\",\"tickcolor\":\"white\",\"ticklen\":3,\"fixedrange\":true,\"title\":{\"text\":\"\"}},\"yaxis15\":{\"anchor\":\"x15\",\"domain\":[0.9078124999999999,0.9999999999999999],\"matches\":\"y\",\"title\":{\"text\":\"\"},\"range\":[0.07118666666666668,0.4353466666666667],\"type\":\"linear\",\"gridwidth\":2,\"zeroline\":false,\"automargin\":true,\"ticks\":\"outside\",\"tickcolor\":\"white\",\"ticklen\":3,\"fixedrange\":true},\"xaxis16\":{\"anchor\":\"y16\",\"domain\":[0.525,1.0],\"showticklabels\":true,\"type\":\"linear\",\"gridwidth\":2,\"zeroline\":false,\"automargin\":true,\"ticks\":\"outside\",\"tickcolor\":\"white\",\"ticklen\":3,\"fixedrange\":true,\"title\":{\"text\":\"\"}},\"yaxis16\":{\"anchor\":\"x16\",\"domain\":[0.9078124999999999,0.9999999999999999],\"matches\":\"y\",\"showticklabels\":false,\"type\":\"linear\",\"gridwidth\":2,\"zeroline\":false,\"automargin\":true,\"ticks\":\"outside\",\"tickcolor\":\"white\",\"ticklen\":3,\"fixedrange\":true,\"title\":{\"text\":\"\"}},\"annotations\":[{\"font\":{\"size\":13},\"showarrow\":false,\"text\":\"TotalPurchases\",\"x\":0.2375,\"xanchor\":\"center\",\"xref\":\"paper\",\"y\":0.0921875,\"yanchor\":\"bottom\",\"yref\":\"paper\"},{\"font\":{\"size\":13},\"showarrow\":false,\"text\":\"Children\",\"x\":0.2375,\"xanchor\":\"center\",\"xref\":\"paper\",\"y\":0.22187500000000002,\"yanchor\":\"bottom\",\"yref\":\"paper\"},{\"font\":{\"size\":13},\"showarrow\":false,\"text\":\"TotalSpendings\",\"x\":0.7625,\"xanchor\":\"center\",\"xref\":\"paper\",\"y\":0.22187500000000002,\"yanchor\":\"bottom\",\"yref\":\"paper\"},{\"font\":{\"size\":13},\"showarrow\":false,\"text\":\"Complain\",\"x\":0.2375,\"xanchor\":\"center\",\"xref\":\"paper\",\"y\":0.3515625,\"yanchor\":\"bottom\",\"yref\":\"paper\"},{\"font\":{\"size\":13},\"showarrow\":false,\"text\":\"Age\",\"x\":0.7625,\"xanchor\":\"center\",\"xref\":\"paper\",\"y\":0.3515625,\"yanchor\":\"bottom\",\"yref\":\"paper\"},{\"font\":{\"size\":13},\"showarrow\":false,\"text\":\"AcceptedCmp1\",\"x\":0.2375,\"xanchor\":\"center\",\"xref\":\"paper\",\"y\":0.48125000000000007,\"yanchor\":\"bottom\",\"yref\":\"paper\"},{\"font\":{\"size\":13},\"showarrow\":false,\"text\":\"AcceptedCmp2\",\"x\":0.7625,\"xanchor\":\"center\",\"xref\":\"paper\",\"y\":0.48125000000000007,\"yanchor\":\"bottom\",\"yref\":\"paper\"},{\"font\":{\"size\":13},\"showarrow\":false,\"text\":\"AcceptedCmp4\",\"x\":0.2375,\"xanchor\":\"center\",\"xref\":\"paper\",\"y\":0.6109375,\"yanchor\":\"bottom\",\"yref\":\"paper\"},{\"font\":{\"size\":13},\"showarrow\":false,\"text\":\"AcceptedCmp5\",\"x\":0.7625,\"xanchor\":\"center\",\"xref\":\"paper\",\"y\":0.6109375,\"yanchor\":\"bottom\",\"yref\":\"paper\"},{\"font\":{\"size\":13},\"showarrow\":false,\"text\":\"NumWebVisitsMonth\",\"x\":0.2375,\"xanchor\":\"center\",\"xref\":\"paper\",\"y\":0.740625,\"yanchor\":\"bottom\",\"yref\":\"paper\"},{\"font\":{\"size\":13},\"showarrow\":false,\"text\":\"AcceptedCmp3\",\"x\":0.7625,\"xanchor\":\"center\",\"xref\":\"paper\",\"y\":0.740625,\"yanchor\":\"bottom\",\"yref\":\"paper\"},{\"font\":{\"size\":13},\"showarrow\":false,\"text\":\"Income\",\"x\":0.2375,\"xanchor\":\"center\",\"xref\":\"paper\",\"y\":0.8703124999999999,\"yanchor\":\"bottom\",\"yref\":\"paper\"},{\"font\":{\"size\":13},\"showarrow\":false,\"text\":\"Recency\",\"x\":0.7625,\"xanchor\":\"center\",\"xref\":\"paper\",\"y\":0.8703124999999999,\"yanchor\":\"bottom\",\"yref\":\"paper\"},{\"font\":{\"size\":13},\"showarrow\":false,\"text\":\"Education\",\"x\":0.2375,\"xanchor\":\"center\",\"xref\":\"paper\",\"y\":0.9999999999999999,\"yanchor\":\"bottom\",\"yref\":\"paper\"},{\"font\":{\"size\":13},\"showarrow\":false,\"text\":\"Marital_Status\",\"x\":0.7625,\"xanchor\":\"center\",\"xref\":\"paper\",\"y\":0.9999999999999999,\"yanchor\":\"bottom\",\"yref\":\"paper\"},{\"font\":{\"size\":13},\"showarrow\":false,\"text\":\"prediction\",\"textangle\":-90,\"x\":-0.07,\"xref\":\"paper\",\"y\":0.5,\"yref\":\"paper\"}],\"legend\":{\"title\":{\"text\":\"label\",\"font\":{\"size\":12}},\"tracegroupgap\":0,\"font\":{\"size\":11},\"orientation\":\"h\",\"yanchor\":\"bottom\",\"y\":1.0104566050888812,\"xanchor\":\"right\",\"x\":1,\"itemsizing\":\"constant\"},\"margin\":{\"t\":78,\"b\":71,\"r\":30},\"font\":{\"color\":\"#371ea3\"},\"title\":{\"font\":{\"size\":16},\"text\":\"Aggregated Profiles\",\"x\":0.15},\"hovermode\":\"x unified\",\"height\":2869},                        {\"displaylogo\": false, \"staticPlot\": false, \"toImageButtonOptions\": {\"height\": null, \"width\": null}, \"modeBarButtonsToRemove\": [\"sendDataToCloud\", \"lasso2d\", \"autoScale2d\", \"select2d\", \"zoom2d\", \"pan2d\", \"zoomIn2d\", \"zoomOut2d\", \"resetScale2d\", \"toggleSpikelines\", \"hoverCompareCartesian\", \"hoverClosestCartesian\"], \"responsive\": true}                    ).then(function(){\n",
              "                            \n",
              "var gd = document.getElementById('f2dc7ac8-a30d-4d28-96d9-5c1e7c660b73');\n",
              "var x = new MutationObserver(function (mutations, observer) {{\n",
              "        var display = window.getComputedStyle(gd).display;\n",
              "        if (!display || display === 'none') {{\n",
              "            console.log([gd, 'removed!']);\n",
              "            Plotly.purge(gd);\n",
              "            observer.disconnect();\n",
              "        }}\n",
              "}});\n",
              "\n",
              "// Listen for the removal of the full notebook cells\n",
              "var notebookContainer = gd.closest('#notebook-container');\n",
              "if (notebookContainer) {{\n",
              "    x.observe(notebookContainer, {childList: true});\n",
              "}}\n",
              "\n",
              "// Listen for the clearing of the current output cell\n",
              "var outputEl = gd.closest('.output');\n",
              "if (outputEl) {{\n",
              "    x.observe(outputEl, {childList: true});\n",
              "}}\n",
              "\n",
              "                        })                };                            </script>        </div>\n",
              "</body>\n",
              "</html>"
            ]
          },
          "metadata": {}
        }
      ]
    }
  ]
}