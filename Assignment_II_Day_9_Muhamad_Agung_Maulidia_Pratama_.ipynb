{
  "nbformat": 4,
  "nbformat_minor": 0,
  "metadata": {
    "colab": {
      "name": "Assignment II Day 9 - Muhamad Agung Maulidia Pratama.ipynb",
      "provenance": [],
      "collapsed_sections": []
    },
    "kernelspec": {
      "name": "python3",
      "display_name": "Python 3"
    },
    "language_info": {
      "name": "python"
    }
  },
  "cells": [
    {
      "cell_type": "markdown",
      "source": [
        "# **Advanced**"
      ],
      "metadata": {
        "id": "aOCf_4vUcE3J"
      }
    },
    {
      "cell_type": "code",
      "source": [
        "!pip install skope-rules\n",
        "!pip install cubist\n",
        "!pip install eli5\n",
        "!pip install scikit-plot"
      ],
      "metadata": {
        "colab": {
          "base_uri": "https://localhost:8080/"
        },
        "id": "rv15EQ9QgHDd",
        "outputId": "7d82af5b-d95e-4c52-d5bc-6fd2a93cd072"
      },
      "execution_count": 1,
      "outputs": [
        {
          "output_type": "stream",
          "name": "stdout",
          "text": [
            "Collecting skope-rules\n",
            "  Downloading skope_rules-1.0.1-py3-none-any.whl (14 kB)\n",
            "Requirement already satisfied: pandas>=0.18.1 in /usr/local/lib/python3.7/dist-packages (from skope-rules) (1.3.5)\n",
            "Requirement already satisfied: scikit-learn>=0.17.1 in /usr/local/lib/python3.7/dist-packages (from skope-rules) (1.0.2)\n",
            "Requirement already satisfied: scipy>=0.17.0 in /usr/local/lib/python3.7/dist-packages (from skope-rules) (1.4.1)\n",
            "Requirement already satisfied: numpy>=1.10.4 in /usr/local/lib/python3.7/dist-packages (from skope-rules) (1.21.5)\n",
            "Requirement already satisfied: python-dateutil>=2.7.3 in /usr/local/lib/python3.7/dist-packages (from pandas>=0.18.1->skope-rules) (2.8.2)\n",
            "Requirement already satisfied: pytz>=2017.3 in /usr/local/lib/python3.7/dist-packages (from pandas>=0.18.1->skope-rules) (2018.9)\n",
            "Requirement already satisfied: six>=1.5 in /usr/local/lib/python3.7/dist-packages (from python-dateutil>=2.7.3->pandas>=0.18.1->skope-rules) (1.15.0)\n",
            "Requirement already satisfied: joblib>=0.11 in /usr/local/lib/python3.7/dist-packages (from scikit-learn>=0.17.1->skope-rules) (1.1.0)\n",
            "Requirement already satisfied: threadpoolctl>=2.0.0 in /usr/local/lib/python3.7/dist-packages (from scikit-learn>=0.17.1->skope-rules) (3.1.0)\n",
            "Installing collected packages: skope-rules\n",
            "Successfully installed skope-rules-1.0.1\n",
            "Collecting cubist\n",
            "  Downloading cubist-0.0.16-cp37-cp37m-manylinux_2_12_x86_64.manylinux2010_x86_64.whl (489 kB)\n",
            "\u001b[K     |████████████████████████████████| 489 kB 16.5 MB/s \n",
            "\u001b[?25hRequirement already satisfied: scikit-learn>=0.24.2 in /usr/local/lib/python3.7/dist-packages (from cubist) (1.0.2)\n",
            "Requirement already satisfied: pandas>=1.1.3 in /usr/local/lib/python3.7/dist-packages (from cubist) (1.3.5)\n",
            "Requirement already satisfied: numpy>=1.19.2 in /usr/local/lib/python3.7/dist-packages (from cubist) (1.21.5)\n",
            "Requirement already satisfied: pytz>=2017.3 in /usr/local/lib/python3.7/dist-packages (from pandas>=1.1.3->cubist) (2018.9)\n",
            "Requirement already satisfied: python-dateutil>=2.7.3 in /usr/local/lib/python3.7/dist-packages (from pandas>=1.1.3->cubist) (2.8.2)\n",
            "Requirement already satisfied: six>=1.5 in /usr/local/lib/python3.7/dist-packages (from python-dateutil>=2.7.3->pandas>=1.1.3->cubist) (1.15.0)\n",
            "Requirement already satisfied: joblib>=0.11 in /usr/local/lib/python3.7/dist-packages (from scikit-learn>=0.24.2->cubist) (1.1.0)\n",
            "Requirement already satisfied: threadpoolctl>=2.0.0 in /usr/local/lib/python3.7/dist-packages (from scikit-learn>=0.24.2->cubist) (3.1.0)\n",
            "Requirement already satisfied: scipy>=1.1.0 in /usr/local/lib/python3.7/dist-packages (from scikit-learn>=0.24.2->cubist) (1.4.1)\n",
            "Installing collected packages: cubist\n",
            "Successfully installed cubist-0.0.16\n",
            "Collecting eli5\n",
            "  Downloading eli5-0.11.0-py2.py3-none-any.whl (106 kB)\n",
            "\u001b[K     |████████████████████████████████| 106 kB 7.7 MB/s \n",
            "\u001b[?25hRequirement already satisfied: six in /usr/local/lib/python3.7/dist-packages (from eli5) (1.15.0)\n",
            "Requirement already satisfied: scikit-learn>=0.20 in /usr/local/lib/python3.7/dist-packages (from eli5) (1.0.2)\n",
            "Requirement already satisfied: graphviz in /usr/local/lib/python3.7/dist-packages (from eli5) (0.10.1)\n",
            "Requirement already satisfied: tabulate>=0.7.7 in /usr/local/lib/python3.7/dist-packages (from eli5) (0.8.9)\n",
            "Requirement already satisfied: numpy>=1.9.0 in /usr/local/lib/python3.7/dist-packages (from eli5) (1.21.5)\n",
            "Requirement already satisfied: scipy in /usr/local/lib/python3.7/dist-packages (from eli5) (1.4.1)\n",
            "Requirement already satisfied: attrs>16.0.0 in /usr/local/lib/python3.7/dist-packages (from eli5) (21.4.0)\n",
            "Requirement already satisfied: jinja2 in /usr/local/lib/python3.7/dist-packages (from eli5) (2.11.3)\n",
            "Requirement already satisfied: threadpoolctl>=2.0.0 in /usr/local/lib/python3.7/dist-packages (from scikit-learn>=0.20->eli5) (3.1.0)\n",
            "Requirement already satisfied: joblib>=0.11 in /usr/local/lib/python3.7/dist-packages (from scikit-learn>=0.20->eli5) (1.1.0)\n",
            "Requirement already satisfied: MarkupSafe>=0.23 in /usr/local/lib/python3.7/dist-packages (from jinja2->eli5) (2.0.1)\n",
            "Installing collected packages: eli5\n",
            "Successfully installed eli5-0.11.0\n",
            "Collecting scikit-plot\n",
            "  Downloading scikit_plot-0.3.7-py3-none-any.whl (33 kB)\n",
            "Requirement already satisfied: joblib>=0.10 in /usr/local/lib/python3.7/dist-packages (from scikit-plot) (1.1.0)\n",
            "Requirement already satisfied: matplotlib>=1.4.0 in /usr/local/lib/python3.7/dist-packages (from scikit-plot) (3.2.2)\n",
            "Requirement already satisfied: scipy>=0.9 in /usr/local/lib/python3.7/dist-packages (from scikit-plot) (1.4.1)\n",
            "Requirement already satisfied: scikit-learn>=0.18 in /usr/local/lib/python3.7/dist-packages (from scikit-plot) (1.0.2)\n",
            "Requirement already satisfied: cycler>=0.10 in /usr/local/lib/python3.7/dist-packages (from matplotlib>=1.4.0->scikit-plot) (0.11.0)\n",
            "Requirement already satisfied: pyparsing!=2.0.4,!=2.1.2,!=2.1.6,>=2.0.1 in /usr/local/lib/python3.7/dist-packages (from matplotlib>=1.4.0->scikit-plot) (3.0.8)\n",
            "Requirement already satisfied: python-dateutil>=2.1 in /usr/local/lib/python3.7/dist-packages (from matplotlib>=1.4.0->scikit-plot) (2.8.2)\n",
            "Requirement already satisfied: numpy>=1.11 in /usr/local/lib/python3.7/dist-packages (from matplotlib>=1.4.0->scikit-plot) (1.21.5)\n",
            "Requirement already satisfied: kiwisolver>=1.0.1 in /usr/local/lib/python3.7/dist-packages (from matplotlib>=1.4.0->scikit-plot) (1.4.2)\n",
            "Requirement already satisfied: typing-extensions in /usr/local/lib/python3.7/dist-packages (from kiwisolver>=1.0.1->matplotlib>=1.4.0->scikit-plot) (4.1.1)\n",
            "Requirement already satisfied: six>=1.5 in /usr/local/lib/python3.7/dist-packages (from python-dateutil>=2.1->matplotlib>=1.4.0->scikit-plot) (1.15.0)\n",
            "Requirement already satisfied: threadpoolctl>=2.0.0 in /usr/local/lib/python3.7/dist-packages (from scikit-learn>=0.18->scikit-plot) (3.1.0)\n",
            "Installing collected packages: scikit-plot\n",
            "Successfully installed scikit-plot-0.3.7\n"
          ]
        }
      ]
    },
    {
      "cell_type": "code",
      "execution_count": 3,
      "metadata": {
        "colab": {
          "base_uri": "https://localhost:8080/",
          "height": 269
        },
        "id": "FPqa4jMNb0So",
        "outputId": "4a69a0d5-27a4-42f2-d824-226274e6b41e"
      },
      "outputs": [
        {
          "output_type": "stream",
          "name": "stderr",
          "text": [
            "/usr/local/lib/python3.7/dist-packages/statsmodels/tools/_testing.py:19: FutureWarning: pandas.util.testing is deprecated. Use the functions in the public API at pandas.testing instead.\n",
            "  import pandas.util.testing as tm\n"
          ]
        },
        {
          "output_type": "execute_result",
          "data": {
            "text/plain": [
              "     ID  Year_Birth   Education Marital_Status   Income  Kidhome  Teenhome  \\\n",
              "0  5524        1957  Graduation         Single  58138.0        0         0   \n",
              "1  2174        1954  Graduation         Single  46344.0        1         1   \n",
              "2  4141        1965  Graduation       Together  71613.0        0         0   \n",
              "3  6182        1984  Graduation       Together  26646.0        1         0   \n",
              "4  5324        1981         PhD        Married  58293.0        1         0   \n",
              "\n",
              "  Dt_Customer  Recency  MntWines  ...  NumWebVisitsMonth  AcceptedCmp3  \\\n",
              "0  2012-09-04       58       635  ...                  7             0   \n",
              "1  2014-03-08       38        11  ...                  5             0   \n",
              "2  2013-08-21       26       426  ...                  4             0   \n",
              "3  2014-02-10       26        11  ...                  6             0   \n",
              "4  2014-01-19       94       173  ...                  5             0   \n",
              "\n",
              "   AcceptedCmp4  AcceptedCmp5  AcceptedCmp1  AcceptedCmp2  Complain  \\\n",
              "0             0             0             0             0         0   \n",
              "1             0             0             0             0         0   \n",
              "2             0             0             0             0         0   \n",
              "3             0             0             0             0         0   \n",
              "4             0             0             0             0         0   \n",
              "\n",
              "   Z_CostContact  Z_Revenue  Response  \n",
              "0              3         11         1  \n",
              "1              3         11         0  \n",
              "2              3         11         0  \n",
              "3              3         11         0  \n",
              "4              3         11         0  \n",
              "\n",
              "[5 rows x 29 columns]"
            ],
            "text/html": [
              "\n",
              "  <div id=\"df-23950b02-b446-4919-8ac3-2383ae1e74fc\">\n",
              "    <div class=\"colab-df-container\">\n",
              "      <div>\n",
              "<style scoped>\n",
              "    .dataframe tbody tr th:only-of-type {\n",
              "        vertical-align: middle;\n",
              "    }\n",
              "\n",
              "    .dataframe tbody tr th {\n",
              "        vertical-align: top;\n",
              "    }\n",
              "\n",
              "    .dataframe thead th {\n",
              "        text-align: right;\n",
              "    }\n",
              "</style>\n",
              "<table border=\"1\" class=\"dataframe\">\n",
              "  <thead>\n",
              "    <tr style=\"text-align: right;\">\n",
              "      <th></th>\n",
              "      <th>ID</th>\n",
              "      <th>Year_Birth</th>\n",
              "      <th>Education</th>\n",
              "      <th>Marital_Status</th>\n",
              "      <th>Income</th>\n",
              "      <th>Kidhome</th>\n",
              "      <th>Teenhome</th>\n",
              "      <th>Dt_Customer</th>\n",
              "      <th>Recency</th>\n",
              "      <th>MntWines</th>\n",
              "      <th>...</th>\n",
              "      <th>NumWebVisitsMonth</th>\n",
              "      <th>AcceptedCmp3</th>\n",
              "      <th>AcceptedCmp4</th>\n",
              "      <th>AcceptedCmp5</th>\n",
              "      <th>AcceptedCmp1</th>\n",
              "      <th>AcceptedCmp2</th>\n",
              "      <th>Complain</th>\n",
              "      <th>Z_CostContact</th>\n",
              "      <th>Z_Revenue</th>\n",
              "      <th>Response</th>\n",
              "    </tr>\n",
              "  </thead>\n",
              "  <tbody>\n",
              "    <tr>\n",
              "      <th>0</th>\n",
              "      <td>5524</td>\n",
              "      <td>1957</td>\n",
              "      <td>Graduation</td>\n",
              "      <td>Single</td>\n",
              "      <td>58138.0</td>\n",
              "      <td>0</td>\n",
              "      <td>0</td>\n",
              "      <td>2012-09-04</td>\n",
              "      <td>58</td>\n",
              "      <td>635</td>\n",
              "      <td>...</td>\n",
              "      <td>7</td>\n",
              "      <td>0</td>\n",
              "      <td>0</td>\n",
              "      <td>0</td>\n",
              "      <td>0</td>\n",
              "      <td>0</td>\n",
              "      <td>0</td>\n",
              "      <td>3</td>\n",
              "      <td>11</td>\n",
              "      <td>1</td>\n",
              "    </tr>\n",
              "    <tr>\n",
              "      <th>1</th>\n",
              "      <td>2174</td>\n",
              "      <td>1954</td>\n",
              "      <td>Graduation</td>\n",
              "      <td>Single</td>\n",
              "      <td>46344.0</td>\n",
              "      <td>1</td>\n",
              "      <td>1</td>\n",
              "      <td>2014-03-08</td>\n",
              "      <td>38</td>\n",
              "      <td>11</td>\n",
              "      <td>...</td>\n",
              "      <td>5</td>\n",
              "      <td>0</td>\n",
              "      <td>0</td>\n",
              "      <td>0</td>\n",
              "      <td>0</td>\n",
              "      <td>0</td>\n",
              "      <td>0</td>\n",
              "      <td>3</td>\n",
              "      <td>11</td>\n",
              "      <td>0</td>\n",
              "    </tr>\n",
              "    <tr>\n",
              "      <th>2</th>\n",
              "      <td>4141</td>\n",
              "      <td>1965</td>\n",
              "      <td>Graduation</td>\n",
              "      <td>Together</td>\n",
              "      <td>71613.0</td>\n",
              "      <td>0</td>\n",
              "      <td>0</td>\n",
              "      <td>2013-08-21</td>\n",
              "      <td>26</td>\n",
              "      <td>426</td>\n",
              "      <td>...</td>\n",
              "      <td>4</td>\n",
              "      <td>0</td>\n",
              "      <td>0</td>\n",
              "      <td>0</td>\n",
              "      <td>0</td>\n",
              "      <td>0</td>\n",
              "      <td>0</td>\n",
              "      <td>3</td>\n",
              "      <td>11</td>\n",
              "      <td>0</td>\n",
              "    </tr>\n",
              "    <tr>\n",
              "      <th>3</th>\n",
              "      <td>6182</td>\n",
              "      <td>1984</td>\n",
              "      <td>Graduation</td>\n",
              "      <td>Together</td>\n",
              "      <td>26646.0</td>\n",
              "      <td>1</td>\n",
              "      <td>0</td>\n",
              "      <td>2014-02-10</td>\n",
              "      <td>26</td>\n",
              "      <td>11</td>\n",
              "      <td>...</td>\n",
              "      <td>6</td>\n",
              "      <td>0</td>\n",
              "      <td>0</td>\n",
              "      <td>0</td>\n",
              "      <td>0</td>\n",
              "      <td>0</td>\n",
              "      <td>0</td>\n",
              "      <td>3</td>\n",
              "      <td>11</td>\n",
              "      <td>0</td>\n",
              "    </tr>\n",
              "    <tr>\n",
              "      <th>4</th>\n",
              "      <td>5324</td>\n",
              "      <td>1981</td>\n",
              "      <td>PhD</td>\n",
              "      <td>Married</td>\n",
              "      <td>58293.0</td>\n",
              "      <td>1</td>\n",
              "      <td>0</td>\n",
              "      <td>2014-01-19</td>\n",
              "      <td>94</td>\n",
              "      <td>173</td>\n",
              "      <td>...</td>\n",
              "      <td>5</td>\n",
              "      <td>0</td>\n",
              "      <td>0</td>\n",
              "      <td>0</td>\n",
              "      <td>0</td>\n",
              "      <td>0</td>\n",
              "      <td>0</td>\n",
              "      <td>3</td>\n",
              "      <td>11</td>\n",
              "      <td>0</td>\n",
              "    </tr>\n",
              "  </tbody>\n",
              "</table>\n",
              "<p>5 rows × 29 columns</p>\n",
              "</div>\n",
              "      <button class=\"colab-df-convert\" onclick=\"convertToInteractive('df-23950b02-b446-4919-8ac3-2383ae1e74fc')\"\n",
              "              title=\"Convert this dataframe to an interactive table.\"\n",
              "              style=\"display:none;\">\n",
              "        \n",
              "  <svg xmlns=\"http://www.w3.org/2000/svg\" height=\"24px\"viewBox=\"0 0 24 24\"\n",
              "       width=\"24px\">\n",
              "    <path d=\"M0 0h24v24H0V0z\" fill=\"none\"/>\n",
              "    <path d=\"M18.56 5.44l.94 2.06.94-2.06 2.06-.94-2.06-.94-.94-2.06-.94 2.06-2.06.94zm-11 1L8.5 8.5l.94-2.06 2.06-.94-2.06-.94L8.5 2.5l-.94 2.06-2.06.94zm10 10l.94 2.06.94-2.06 2.06-.94-2.06-.94-.94-2.06-.94 2.06-2.06.94z\"/><path d=\"M17.41 7.96l-1.37-1.37c-.4-.4-.92-.59-1.43-.59-.52 0-1.04.2-1.43.59L10.3 9.45l-7.72 7.72c-.78.78-.78 2.05 0 2.83L4 21.41c.39.39.9.59 1.41.59.51 0 1.02-.2 1.41-.59l7.78-7.78 2.81-2.81c.8-.78.8-2.07 0-2.86zM5.41 20L4 18.59l7.72-7.72 1.47 1.35L5.41 20z\"/>\n",
              "  </svg>\n",
              "      </button>\n",
              "      \n",
              "  <style>\n",
              "    .colab-df-container {\n",
              "      display:flex;\n",
              "      flex-wrap:wrap;\n",
              "      gap: 12px;\n",
              "    }\n",
              "\n",
              "    .colab-df-convert {\n",
              "      background-color: #E8F0FE;\n",
              "      border: none;\n",
              "      border-radius: 50%;\n",
              "      cursor: pointer;\n",
              "      display: none;\n",
              "      fill: #1967D2;\n",
              "      height: 32px;\n",
              "      padding: 0 0 0 0;\n",
              "      width: 32px;\n",
              "    }\n",
              "\n",
              "    .colab-df-convert:hover {\n",
              "      background-color: #E2EBFA;\n",
              "      box-shadow: 0px 1px 2px rgba(60, 64, 67, 0.3), 0px 1px 3px 1px rgba(60, 64, 67, 0.15);\n",
              "      fill: #174EA6;\n",
              "    }\n",
              "\n",
              "    [theme=dark] .colab-df-convert {\n",
              "      background-color: #3B4455;\n",
              "      fill: #D2E3FC;\n",
              "    }\n",
              "\n",
              "    [theme=dark] .colab-df-convert:hover {\n",
              "      background-color: #434B5C;\n",
              "      box-shadow: 0px 1px 3px 1px rgba(0, 0, 0, 0.15);\n",
              "      filter: drop-shadow(0px 1px 2px rgba(0, 0, 0, 0.3));\n",
              "      fill: #FFFFFF;\n",
              "    }\n",
              "  </style>\n",
              "\n",
              "      <script>\n",
              "        const buttonEl =\n",
              "          document.querySelector('#df-23950b02-b446-4919-8ac3-2383ae1e74fc button.colab-df-convert');\n",
              "        buttonEl.style.display =\n",
              "          google.colab.kernel.accessAllowed ? 'block' : 'none';\n",
              "\n",
              "        async function convertToInteractive(key) {\n",
              "          const element = document.querySelector('#df-23950b02-b446-4919-8ac3-2383ae1e74fc');\n",
              "          const dataTable =\n",
              "            await google.colab.kernel.invokeFunction('convertToInteractive',\n",
              "                                                     [key], {});\n",
              "          if (!dataTable) return;\n",
              "\n",
              "          const docLinkHtml = 'Like what you see? Visit the ' +\n",
              "            '<a target=\"_blank\" href=https://colab.research.google.com/notebooks/data_table.ipynb>data table notebook</a>'\n",
              "            + ' to learn more about interactive tables.';\n",
              "          element.innerHTML = '';\n",
              "          dataTable['output_type'] = 'display_data';\n",
              "          await google.colab.output.renderOutput(dataTable, element);\n",
              "          const docLink = document.createElement('div');\n",
              "          docLink.innerHTML = docLinkHtml;\n",
              "          element.appendChild(docLink);\n",
              "        }\n",
              "      </script>\n",
              "    </div>\n",
              "  </div>\n",
              "  "
            ]
          },
          "metadata": {},
          "execution_count": 3
        }
      ],
      "source": [
        "#Import Library\n",
        "import pandas as pd\n",
        "\n",
        "# Import matplotlib.pyplot with alias plt\n",
        "import matplotlib.pyplot as plt\n",
        "import pandas as pd\n",
        "import numpy as np\n",
        "\n",
        "# import pandas for data wrangling\n",
        "import pandas as pd\n",
        "# import numpy for vectorize data manipulation\n",
        "import numpy as np\n",
        "# import matplotlib.pyplot module for data visualization\n",
        "import matplotlib.pyplot as plt\n",
        "\n",
        "# import train and test split method from scikit-learn\n",
        "from sklearn.model_selection import train_test_split\n",
        "# import metrics method for model evaluation\n",
        "import sklearn.metrics as metrics\n",
        "# Lload k-nearest neighbors model\n",
        "from sklearn.neighbors import KNeighborsClassifier\n",
        "#load logistic regression model\n",
        "from sklearn.linear_model import LogisticRegression\n",
        "\n",
        "# load navie bayes\n",
        "from sklearn.naive_bayes import GaussianNB\n",
        "from sklearn.metrics import accuracy_score\n",
        "from sklearn.metrics import confusion_matrix\n",
        "from sklearn.metrics import f1_score\n",
        "\n",
        "# load statsmodel module \n",
        "import statsmodels.api as sm\n",
        "import statsmodels.formula.api as smf\n",
        "\n",
        "# load scikit-plot modules\n",
        "import scikitplot as skplt\n",
        "\n",
        "# load eli5\n",
        "import eli5\n",
        "#Load data link csv dari github\n",
        "url = 'https://raw.githubusercontent.com/hadimaster65555/dataset_for_teaching/main/dataset/marketing_campaign_response_model/marketing_campaign.csv'\n",
        "df = pd.read_csv(url, index_col=0)\n",
        "df = pd.read_csv(url, sep=\";\")\n",
        "\n",
        "#Check data\n",
        "df.head(5)"
      ]
    },
    {
      "cell_type": "markdown",
      "source": [
        "# **Preprocessing Data**"
      ],
      "metadata": {
        "id": "29_YGODrcHhv"
      }
    },
    {
      "cell_type": "code",
      "source": [
        "# remove 'ID', 'Year_Birth', 'Dt_Customer' from dataset\n",
        "# Those variable are not relevan from domain knowladge \n",
        "mr_data = df.drop(\n",
        "    ['ID', 'Year_Birth', 'Dt_Customer', 'Z_CostContact', 'Z_Revenue'],\n",
        "    axis = 1\n",
        ")\n",
        "\n",
        "# check its first 5 rows\n",
        "mr_data.head()"
      ],
      "metadata": {
        "colab": {
          "base_uri": "https://localhost:8080/",
          "height": 299
        },
        "id": "GYfpLu_JcNwS",
        "outputId": "22f83d38-3973-4445-b062-0c58dba600d2"
      },
      "execution_count": 14,
      "outputs": [
        {
          "output_type": "execute_result",
          "data": {
            "text/plain": [
              "    Education Marital_Status   Income  Kidhome  Teenhome  Recency  MntWines  \\\n",
              "0  Graduation         Single  58138.0        0         0       58       635   \n",
              "1  Graduation         Single  46344.0        1         1       38        11   \n",
              "2  Graduation       Together  71613.0        0         0       26       426   \n",
              "3  Graduation       Together  26646.0        1         0       26        11   \n",
              "4         PhD        Married  58293.0        1         0       94       173   \n",
              "\n",
              "   MntFruits  MntMeatProducts  MntFishProducts  ...  NumCatalogPurchases  \\\n",
              "0         88              546              172  ...                   10   \n",
              "1          1                6                2  ...                    1   \n",
              "2         49              127              111  ...                    2   \n",
              "3          4               20               10  ...                    0   \n",
              "4         43              118               46  ...                    3   \n",
              "\n",
              "   NumStorePurchases  NumWebVisitsMonth  AcceptedCmp3  AcceptedCmp4  \\\n",
              "0                  4                  7             0             0   \n",
              "1                  2                  5             0             0   \n",
              "2                 10                  4             0             0   \n",
              "3                  4                  6             0             0   \n",
              "4                  6                  5             0             0   \n",
              "\n",
              "   AcceptedCmp5  AcceptedCmp1  AcceptedCmp2  Complain  Response  \n",
              "0             0             0             0         0         1  \n",
              "1             0             0             0         0         0  \n",
              "2             0             0             0         0         0  \n",
              "3             0             0             0         0         0  \n",
              "4             0             0             0         0         0  \n",
              "\n",
              "[5 rows x 24 columns]"
            ],
            "text/html": [
              "\n",
              "  <div id=\"df-b56eb957-2696-46c0-9e95-041a64671c01\">\n",
              "    <div class=\"colab-df-container\">\n",
              "      <div>\n",
              "<style scoped>\n",
              "    .dataframe tbody tr th:only-of-type {\n",
              "        vertical-align: middle;\n",
              "    }\n",
              "\n",
              "    .dataframe tbody tr th {\n",
              "        vertical-align: top;\n",
              "    }\n",
              "\n",
              "    .dataframe thead th {\n",
              "        text-align: right;\n",
              "    }\n",
              "</style>\n",
              "<table border=\"1\" class=\"dataframe\">\n",
              "  <thead>\n",
              "    <tr style=\"text-align: right;\">\n",
              "      <th></th>\n",
              "      <th>Education</th>\n",
              "      <th>Marital_Status</th>\n",
              "      <th>Income</th>\n",
              "      <th>Kidhome</th>\n",
              "      <th>Teenhome</th>\n",
              "      <th>Recency</th>\n",
              "      <th>MntWines</th>\n",
              "      <th>MntFruits</th>\n",
              "      <th>MntMeatProducts</th>\n",
              "      <th>MntFishProducts</th>\n",
              "      <th>...</th>\n",
              "      <th>NumCatalogPurchases</th>\n",
              "      <th>NumStorePurchases</th>\n",
              "      <th>NumWebVisitsMonth</th>\n",
              "      <th>AcceptedCmp3</th>\n",
              "      <th>AcceptedCmp4</th>\n",
              "      <th>AcceptedCmp5</th>\n",
              "      <th>AcceptedCmp1</th>\n",
              "      <th>AcceptedCmp2</th>\n",
              "      <th>Complain</th>\n",
              "      <th>Response</th>\n",
              "    </tr>\n",
              "  </thead>\n",
              "  <tbody>\n",
              "    <tr>\n",
              "      <th>0</th>\n",
              "      <td>Graduation</td>\n",
              "      <td>Single</td>\n",
              "      <td>58138.0</td>\n",
              "      <td>0</td>\n",
              "      <td>0</td>\n",
              "      <td>58</td>\n",
              "      <td>635</td>\n",
              "      <td>88</td>\n",
              "      <td>546</td>\n",
              "      <td>172</td>\n",
              "      <td>...</td>\n",
              "      <td>10</td>\n",
              "      <td>4</td>\n",
              "      <td>7</td>\n",
              "      <td>0</td>\n",
              "      <td>0</td>\n",
              "      <td>0</td>\n",
              "      <td>0</td>\n",
              "      <td>0</td>\n",
              "      <td>0</td>\n",
              "      <td>1</td>\n",
              "    </tr>\n",
              "    <tr>\n",
              "      <th>1</th>\n",
              "      <td>Graduation</td>\n",
              "      <td>Single</td>\n",
              "      <td>46344.0</td>\n",
              "      <td>1</td>\n",
              "      <td>1</td>\n",
              "      <td>38</td>\n",
              "      <td>11</td>\n",
              "      <td>1</td>\n",
              "      <td>6</td>\n",
              "      <td>2</td>\n",
              "      <td>...</td>\n",
              "      <td>1</td>\n",
              "      <td>2</td>\n",
              "      <td>5</td>\n",
              "      <td>0</td>\n",
              "      <td>0</td>\n",
              "      <td>0</td>\n",
              "      <td>0</td>\n",
              "      <td>0</td>\n",
              "      <td>0</td>\n",
              "      <td>0</td>\n",
              "    </tr>\n",
              "    <tr>\n",
              "      <th>2</th>\n",
              "      <td>Graduation</td>\n",
              "      <td>Together</td>\n",
              "      <td>71613.0</td>\n",
              "      <td>0</td>\n",
              "      <td>0</td>\n",
              "      <td>26</td>\n",
              "      <td>426</td>\n",
              "      <td>49</td>\n",
              "      <td>127</td>\n",
              "      <td>111</td>\n",
              "      <td>...</td>\n",
              "      <td>2</td>\n",
              "      <td>10</td>\n",
              "      <td>4</td>\n",
              "      <td>0</td>\n",
              "      <td>0</td>\n",
              "      <td>0</td>\n",
              "      <td>0</td>\n",
              "      <td>0</td>\n",
              "      <td>0</td>\n",
              "      <td>0</td>\n",
              "    </tr>\n",
              "    <tr>\n",
              "      <th>3</th>\n",
              "      <td>Graduation</td>\n",
              "      <td>Together</td>\n",
              "      <td>26646.0</td>\n",
              "      <td>1</td>\n",
              "      <td>0</td>\n",
              "      <td>26</td>\n",
              "      <td>11</td>\n",
              "      <td>4</td>\n",
              "      <td>20</td>\n",
              "      <td>10</td>\n",
              "      <td>...</td>\n",
              "      <td>0</td>\n",
              "      <td>4</td>\n",
              "      <td>6</td>\n",
              "      <td>0</td>\n",
              "      <td>0</td>\n",
              "      <td>0</td>\n",
              "      <td>0</td>\n",
              "      <td>0</td>\n",
              "      <td>0</td>\n",
              "      <td>0</td>\n",
              "    </tr>\n",
              "    <tr>\n",
              "      <th>4</th>\n",
              "      <td>PhD</td>\n",
              "      <td>Married</td>\n",
              "      <td>58293.0</td>\n",
              "      <td>1</td>\n",
              "      <td>0</td>\n",
              "      <td>94</td>\n",
              "      <td>173</td>\n",
              "      <td>43</td>\n",
              "      <td>118</td>\n",
              "      <td>46</td>\n",
              "      <td>...</td>\n",
              "      <td>3</td>\n",
              "      <td>6</td>\n",
              "      <td>5</td>\n",
              "      <td>0</td>\n",
              "      <td>0</td>\n",
              "      <td>0</td>\n",
              "      <td>0</td>\n",
              "      <td>0</td>\n",
              "      <td>0</td>\n",
              "      <td>0</td>\n",
              "    </tr>\n",
              "  </tbody>\n",
              "</table>\n",
              "<p>5 rows × 24 columns</p>\n",
              "</div>\n",
              "      <button class=\"colab-df-convert\" onclick=\"convertToInteractive('df-b56eb957-2696-46c0-9e95-041a64671c01')\"\n",
              "              title=\"Convert this dataframe to an interactive table.\"\n",
              "              style=\"display:none;\">\n",
              "        \n",
              "  <svg xmlns=\"http://www.w3.org/2000/svg\" height=\"24px\"viewBox=\"0 0 24 24\"\n",
              "       width=\"24px\">\n",
              "    <path d=\"M0 0h24v24H0V0z\" fill=\"none\"/>\n",
              "    <path d=\"M18.56 5.44l.94 2.06.94-2.06 2.06-.94-2.06-.94-.94-2.06-.94 2.06-2.06.94zm-11 1L8.5 8.5l.94-2.06 2.06-.94-2.06-.94L8.5 2.5l-.94 2.06-2.06.94zm10 10l.94 2.06.94-2.06 2.06-.94-2.06-.94-.94-2.06-.94 2.06-2.06.94z\"/><path d=\"M17.41 7.96l-1.37-1.37c-.4-.4-.92-.59-1.43-.59-.52 0-1.04.2-1.43.59L10.3 9.45l-7.72 7.72c-.78.78-.78 2.05 0 2.83L4 21.41c.39.39.9.59 1.41.59.51 0 1.02-.2 1.41-.59l7.78-7.78 2.81-2.81c.8-.78.8-2.07 0-2.86zM5.41 20L4 18.59l7.72-7.72 1.47 1.35L5.41 20z\"/>\n",
              "  </svg>\n",
              "      </button>\n",
              "      \n",
              "  <style>\n",
              "    .colab-df-container {\n",
              "      display:flex;\n",
              "      flex-wrap:wrap;\n",
              "      gap: 12px;\n",
              "    }\n",
              "\n",
              "    .colab-df-convert {\n",
              "      background-color: #E8F0FE;\n",
              "      border: none;\n",
              "      border-radius: 50%;\n",
              "      cursor: pointer;\n",
              "      display: none;\n",
              "      fill: #1967D2;\n",
              "      height: 32px;\n",
              "      padding: 0 0 0 0;\n",
              "      width: 32px;\n",
              "    }\n",
              "\n",
              "    .colab-df-convert:hover {\n",
              "      background-color: #E2EBFA;\n",
              "      box-shadow: 0px 1px 2px rgba(60, 64, 67, 0.3), 0px 1px 3px 1px rgba(60, 64, 67, 0.15);\n",
              "      fill: #174EA6;\n",
              "    }\n",
              "\n",
              "    [theme=dark] .colab-df-convert {\n",
              "      background-color: #3B4455;\n",
              "      fill: #D2E3FC;\n",
              "    }\n",
              "\n",
              "    [theme=dark] .colab-df-convert:hover {\n",
              "      background-color: #434B5C;\n",
              "      box-shadow: 0px 1px 3px 1px rgba(0, 0, 0, 0.15);\n",
              "      filter: drop-shadow(0px 1px 2px rgba(0, 0, 0, 0.3));\n",
              "      fill: #FFFFFF;\n",
              "    }\n",
              "  </style>\n",
              "\n",
              "      <script>\n",
              "        const buttonEl =\n",
              "          document.querySelector('#df-b56eb957-2696-46c0-9e95-041a64671c01 button.colab-df-convert');\n",
              "        buttonEl.style.display =\n",
              "          google.colab.kernel.accessAllowed ? 'block' : 'none';\n",
              "\n",
              "        async function convertToInteractive(key) {\n",
              "          const element = document.querySelector('#df-b56eb957-2696-46c0-9e95-041a64671c01');\n",
              "          const dataTable =\n",
              "            await google.colab.kernel.invokeFunction('convertToInteractive',\n",
              "                                                     [key], {});\n",
              "          if (!dataTable) return;\n",
              "\n",
              "          const docLinkHtml = 'Like what you see? Visit the ' +\n",
              "            '<a target=\"_blank\" href=https://colab.research.google.com/notebooks/data_table.ipynb>data table notebook</a>'\n",
              "            + ' to learn more about interactive tables.';\n",
              "          element.innerHTML = '';\n",
              "          dataTable['output_type'] = 'display_data';\n",
              "          await google.colab.output.renderOutput(dataTable, element);\n",
              "          const docLink = document.createElement('div');\n",
              "          docLink.innerHTML = docLinkHtml;\n",
              "          element.appendChild(docLink);\n",
              "        }\n",
              "      </script>\n",
              "    </div>\n",
              "  </div>\n",
              "  "
            ]
          },
          "metadata": {},
          "execution_count": 14
        }
      ]
    },
    {
      "cell_type": "code",
      "source": [
        "# count 'Response' class frequencies\n",
        "mr_data['Response'].value_counts()"
      ],
      "metadata": {
        "colab": {
          "base_uri": "https://localhost:8080/"
        },
        "id": "4K1BtixA0I-l",
        "outputId": "e120d18a-44dc-4755-a568-65c05f1e0246"
      },
      "execution_count": 15,
      "outputs": [
        {
          "output_type": "execute_result",
          "data": {
            "text/plain": [
              "0    1906\n",
              "1     334\n",
              "Name: Response, dtype: int64"
            ]
          },
          "metadata": {},
          "execution_count": 15
        }
      ]
    },
    {
      "cell_type": "code",
      "source": [
        "#Check missing value\n",
        "mr_data.isnull().sum()"
      ],
      "metadata": {
        "colab": {
          "base_uri": "https://localhost:8080/"
        },
        "id": "MHT0NG9i1mop",
        "outputId": "05f31e5a-e1ae-41e7-973d-d71006feaacf"
      },
      "execution_count": 16,
      "outputs": [
        {
          "output_type": "execute_result",
          "data": {
            "text/plain": [
              "Education               0\n",
              "Marital_Status          0\n",
              "Income                 24\n",
              "Kidhome                 0\n",
              "Teenhome                0\n",
              "Recency                 0\n",
              "MntWines                0\n",
              "MntFruits               0\n",
              "MntMeatProducts         0\n",
              "MntFishProducts         0\n",
              "MntSweetProducts        0\n",
              "MntGoldProds            0\n",
              "NumDealsPurchases       0\n",
              "NumWebPurchases         0\n",
              "NumCatalogPurchases     0\n",
              "NumStorePurchases       0\n",
              "NumWebVisitsMonth       0\n",
              "AcceptedCmp3            0\n",
              "AcceptedCmp4            0\n",
              "AcceptedCmp5            0\n",
              "AcceptedCmp1            0\n",
              "AcceptedCmp2            0\n",
              "Complain                0\n",
              "Response                0\n",
              "dtype: int64"
            ]
          },
          "metadata": {},
          "execution_count": 16
        }
      ]
    },
    {
      "cell_type": "code",
      "source": [
        "#df['col'] = df['col'].fillna(0)\n",
        "#df['col'] = df['col'].astype(np.int64)"
      ],
      "metadata": {
        "id": "v6jjgvzevMYq"
      },
      "execution_count": null,
      "outputs": []
    },
    {
      "cell_type": "code",
      "source": [
        "mr_data['Income'] = mr_data['Income'].fillna(0).astype(np.int64).reset_index(drop=True)"
      ],
      "metadata": {
        "id": "Op377szLn4Xu"
      },
      "execution_count": 17,
      "outputs": []
    },
    {
      "cell_type": "code",
      "source": [
        "mr_data = mr_data.reset_index(drop=True)"
      ],
      "metadata": {
        "id": "2y4yJuUEqniR"
      },
      "execution_count": 18,
      "outputs": []
    },
    {
      "cell_type": "code",
      "source": [
        "mr_data.info()"
      ],
      "metadata": {
        "colab": {
          "base_uri": "https://localhost:8080/"
        },
        "id": "8qIS-He2ome7",
        "outputId": "92319eba-19c9-42f1-dd5a-f05f194d2040"
      },
      "execution_count": 19,
      "outputs": [
        {
          "output_type": "stream",
          "name": "stdout",
          "text": [
            "<class 'pandas.core.frame.DataFrame'>\n",
            "RangeIndex: 2240 entries, 0 to 2239\n",
            "Data columns (total 24 columns):\n",
            " #   Column               Non-Null Count  Dtype \n",
            "---  ------               --------------  ----- \n",
            " 0   Education            2240 non-null   object\n",
            " 1   Marital_Status       2240 non-null   object\n",
            " 2   Income               2240 non-null   int64 \n",
            " 3   Kidhome              2240 non-null   int64 \n",
            " 4   Teenhome             2240 non-null   int64 \n",
            " 5   Recency              2240 non-null   int64 \n",
            " 6   MntWines             2240 non-null   int64 \n",
            " 7   MntFruits            2240 non-null   int64 \n",
            " 8   MntMeatProducts      2240 non-null   int64 \n",
            " 9   MntFishProducts      2240 non-null   int64 \n",
            " 10  MntSweetProducts     2240 non-null   int64 \n",
            " 11  MntGoldProds         2240 non-null   int64 \n",
            " 12  NumDealsPurchases    2240 non-null   int64 \n",
            " 13  NumWebPurchases      2240 non-null   int64 \n",
            " 14  NumCatalogPurchases  2240 non-null   int64 \n",
            " 15  NumStorePurchases    2240 non-null   int64 \n",
            " 16  NumWebVisitsMonth    2240 non-null   int64 \n",
            " 17  AcceptedCmp3         2240 non-null   int64 \n",
            " 18  AcceptedCmp4         2240 non-null   int64 \n",
            " 19  AcceptedCmp5         2240 non-null   int64 \n",
            " 20  AcceptedCmp1         2240 non-null   int64 \n",
            " 21  AcceptedCmp2         2240 non-null   int64 \n",
            " 22  Complain             2240 non-null   int64 \n",
            " 23  Response             2240 non-null   int64 \n",
            "dtypes: int64(22), object(2)\n",
            "memory usage: 420.1+ KB\n"
          ]
        }
      ]
    },
    {
      "cell_type": "markdown",
      "source": [
        "# **Simple EDA**"
      ],
      "metadata": {
        "id": "h2pHxdkGcRf8"
      }
    },
    {
      "cell_type": "code",
      "source": [
        "# check correlation matrix of mr_data\n",
        "mr_data.corr()"
      ],
      "metadata": {
        "colab": {
          "base_uri": "https://localhost:8080/",
          "height": 832
        },
        "id": "HJPVNxv4cRPW",
        "outputId": "4079f9b8-8c2e-4ce1-9131-482c62c6118f"
      },
      "execution_count": 22,
      "outputs": [
        {
          "output_type": "execute_result",
          "data": {
            "text/plain": [
              "                       Income   Kidhome  Teenhome   Recency  MntWines  \\\n",
              "Income               1.000000 -0.424723  0.015498 -0.010603  0.570851   \n",
              "Kidhome             -0.424723  1.000000 -0.036133  0.008827 -0.496297   \n",
              "Teenhome             0.015498 -0.036133  1.000000  0.016198  0.004846   \n",
              "Recency             -0.010603  0.008827  0.016198  1.000000  0.016064   \n",
              "MntWines             0.570851 -0.496297  0.004846  0.016064  1.000000   \n",
              "MntFruits            0.421910 -0.372581 -0.176764 -0.004306  0.389637   \n",
              "MntMeatProducts      0.565318 -0.437129 -0.261160  0.023056  0.562667   \n",
              "MntFishProducts      0.431879 -0.387644 -0.204187  0.001079  0.399753   \n",
              "MntSweetProducts     0.424761 -0.370673 -0.162475  0.022670  0.386581   \n",
              "MntGoldProds         0.312600 -0.349595 -0.021725  0.016693  0.387516   \n",
              "NumDealsPurchases   -0.081962  0.221798  0.387741 -0.001098  0.010940   \n",
              "NumWebPurchases      0.372397 -0.361647  0.155500 -0.010726  0.542265   \n",
              "NumCatalogPurchases  0.579830 -0.502237 -0.110769  0.025110  0.635226   \n",
              "NumStorePurchases    0.521456 -0.499683  0.050695  0.000799  0.642100   \n",
              "NumWebVisitsMonth   -0.535452  0.447846  0.134884 -0.021445 -0.320653   \n",
              "AcceptedCmp3        -0.009682  0.014674 -0.042677 -0.032991  0.062202   \n",
              "AcceptedCmp4         0.174512 -0.161600  0.038886  0.018826  0.373286   \n",
              "AcceptedCmp5         0.329995 -0.205634 -0.191050  0.000129  0.472613   \n",
              "AcceptedCmp1         0.267087 -0.172339 -0.140090 -0.019283  0.354133   \n",
              "AcceptedCmp2         0.088132 -0.081716 -0.015605 -0.001781  0.205907   \n",
              "Complain            -0.024489  0.040207  0.003138  0.013231 -0.039007   \n",
              "Response             0.136389 -0.080008 -0.154446 -0.198437  0.247254   \n",
              "\n",
              "                     MntFruits  MntMeatProducts  MntFishProducts  \\\n",
              "Income                0.421910         0.565318         0.431879   \n",
              "Kidhome              -0.372581        -0.437129        -0.387644   \n",
              "Teenhome             -0.176764        -0.261160        -0.204187   \n",
              "Recency              -0.004306         0.023056         0.001079   \n",
              "MntWines              0.389637         0.562667         0.399753   \n",
              "MntFruits             1.000000         0.543105         0.594804   \n",
              "MntMeatProducts       0.543105         1.000000         0.568402   \n",
              "MntFishProducts       0.594804         0.568402         1.000000   \n",
              "MntSweetProducts      0.567164         0.523846         0.579870   \n",
              "MntGoldProds          0.392995         0.350609         0.422875   \n",
              "NumDealsPurchases    -0.132114        -0.122415        -0.139361   \n",
              "NumWebPurchases       0.296735         0.293761         0.293681   \n",
              "NumCatalogPurchases   0.487917         0.723827         0.534478   \n",
              "NumStorePurchases     0.461758         0.479659         0.459855   \n",
              "NumWebVisitsMonth    -0.418383        -0.539470        -0.446003   \n",
              "AcceptedCmp3          0.014727         0.018272         0.000357   \n",
              "AcceptedCmp4          0.010152         0.102912         0.016843   \n",
              "AcceptedCmp5          0.215833         0.373769         0.199578   \n",
              "AcceptedCmp1          0.194748         0.309761         0.260762   \n",
              "AcceptedCmp2         -0.009773         0.043033         0.002577   \n",
              "Complain             -0.005166        -0.023483        -0.020953   \n",
              "Response              0.125289         0.236335         0.111331   \n",
              "\n",
              "                     MntSweetProducts  MntGoldProds  ...  NumCatalogPurchases  \\\n",
              "Income                       0.424761      0.312600  ...             0.579830   \n",
              "Kidhome                     -0.370673     -0.349595  ...            -0.502237   \n",
              "Teenhome                    -0.162475     -0.021725  ...            -0.110769   \n",
              "Recency                      0.022670      0.016693  ...             0.025110   \n",
              "MntWines                     0.386581      0.387516  ...             0.635226   \n",
              "MntFruits                    0.567164      0.392995  ...             0.487917   \n",
              "MntMeatProducts              0.523846      0.350609  ...             0.723827   \n",
              "MntFishProducts              0.579870      0.422875  ...             0.534478   \n",
              "MntSweetProducts             1.000000      0.369724  ...             0.490924   \n",
              "MntGoldProds                 0.369724      1.000000  ...             0.437697   \n",
              "NumDealsPurchases           -0.120100      0.049085  ...            -0.008617   \n",
              "NumWebPurchases              0.348544      0.421836  ...             0.378376   \n",
              "NumCatalogPurchases          0.490924      0.437697  ...             1.000000   \n",
              "NumStorePurchases            0.448756      0.381678  ...             0.518738   \n",
              "NumWebVisitsMonth           -0.423294     -0.250719  ...            -0.520364   \n",
              "AcceptedCmp3                 0.001530      0.123091  ...             0.104730   \n",
              "AcceptedCmp4                 0.028641      0.022268  ...             0.139247   \n",
              "AcceptedCmp5                 0.259590      0.181021  ...             0.322321   \n",
              "AcceptedCmp1                 0.241818      0.166396  ...             0.308097   \n",
              "AcceptedCmp2                 0.009985      0.049990  ...             0.099852   \n",
              "Complain                    -0.022485     -0.030861  ...            -0.020453   \n",
              "Response                     0.117372      0.139850  ...             0.220810   \n",
              "\n",
              "                     NumStorePurchases  NumWebVisitsMonth  AcceptedCmp3  \\\n",
              "Income                        0.521456          -0.535452     -0.009682   \n",
              "Kidhome                      -0.499683           0.447846      0.014674   \n",
              "Teenhome                      0.050695           0.134884     -0.042677   \n",
              "Recency                       0.000799          -0.021445     -0.032991   \n",
              "MntWines                      0.642100          -0.320653      0.062202   \n",
              "MntFruits                     0.461758          -0.418383      0.014727   \n",
              "MntMeatProducts               0.479659          -0.539470      0.018272   \n",
              "MntFishProducts               0.459855          -0.446003      0.000357   \n",
              "MntSweetProducts              0.448756          -0.423294      0.001530   \n",
              "MntGoldProds                  0.381678          -0.250719      0.123091   \n",
              "NumDealsPurchases             0.068879           0.347633     -0.023109   \n",
              "NumWebPurchases               0.502713          -0.055846      0.042176   \n",
              "NumCatalogPurchases           0.518738          -0.520364      0.104730   \n",
              "NumStorePurchases             1.000000          -0.428473     -0.067577   \n",
              "NumWebVisitsMonth            -0.428473           1.000000      0.061211   \n",
              "AcceptedCmp3                 -0.067577           0.061211      1.000000   \n",
              "AcceptedCmp4                  0.179379          -0.032126     -0.079512   \n",
              "AcceptedCmp5                  0.214790          -0.278113      0.080316   \n",
              "AcceptedCmp1                  0.183249          -0.192502      0.094751   \n",
              "AcceptedCmp2                  0.085189          -0.007196      0.072020   \n",
              "Complain                     -0.016524           0.019769      0.008415   \n",
              "Response                      0.039363          -0.003987      0.254258   \n",
              "\n",
              "                     AcceptedCmp4  AcceptedCmp5  AcceptedCmp1  AcceptedCmp2  \\\n",
              "Income                   0.174512      0.329995      0.267087      0.088132   \n",
              "Kidhome                 -0.161600     -0.205634     -0.172339     -0.081716   \n",
              "Teenhome                 0.038886     -0.191050     -0.140090     -0.015605   \n",
              "Recency                  0.018826      0.000129     -0.019283     -0.001781   \n",
              "MntWines                 0.373286      0.472613      0.354133      0.205907   \n",
              "MntFruits                0.010152      0.215833      0.194748     -0.009773   \n",
              "MntMeatProducts          0.102912      0.373769      0.309761      0.043033   \n",
              "MntFishProducts          0.016843      0.199578      0.260762      0.002577   \n",
              "MntSweetProducts         0.028641      0.259590      0.241818      0.009985   \n",
              "MntGoldProds             0.022268      0.181021      0.166396      0.049990   \n",
              "NumDealsPurchases        0.015594     -0.183248     -0.123244     -0.037695   \n",
              "NumWebPurchases          0.155903      0.138684      0.155143      0.034188   \n",
              "NumCatalogPurchases      0.139247      0.322321      0.308097      0.099852   \n",
              "NumStorePurchases        0.179379      0.214790      0.183249      0.085189   \n",
              "NumWebVisitsMonth       -0.032126     -0.278113     -0.192502     -0.007196   \n",
              "AcceptedCmp3            -0.079512      0.080316      0.094751      0.072020   \n",
              "AcceptedCmp4             1.000000      0.306526      0.251300      0.292210   \n",
              "AcceptedCmp5             0.306526      1.000000      0.403078      0.221533   \n",
              "AcceptedCmp1             0.251300      0.403078      1.000000      0.175315   \n",
              "AcceptedCmp2             0.292210      0.221533      0.175315      1.000000   \n",
              "Complain                -0.027611     -0.009419     -0.025499     -0.011334   \n",
              "Response                 0.177019      0.326634      0.293982      0.169293   \n",
              "\n",
              "                     Complain  Response  \n",
              "Income              -0.024489  0.136389  \n",
              "Kidhome              0.040207 -0.080008  \n",
              "Teenhome             0.003138 -0.154446  \n",
              "Recency              0.013231 -0.198437  \n",
              "MntWines            -0.039007  0.247254  \n",
              "MntFruits           -0.005166  0.125289  \n",
              "MntMeatProducts     -0.023483  0.236335  \n",
              "MntFishProducts     -0.020953  0.111331  \n",
              "MntSweetProducts    -0.022485  0.117372  \n",
              "MntGoldProds        -0.030861  0.139850  \n",
              "NumDealsPurchases    0.000420  0.002238  \n",
              "NumWebPurchases     -0.016310  0.148730  \n",
              "NumCatalogPurchases -0.020453  0.220810  \n",
              "NumStorePurchases   -0.016524  0.039363  \n",
              "NumWebVisitsMonth    0.019769 -0.003987  \n",
              "AcceptedCmp3         0.008415  0.254258  \n",
              "AcceptedCmp4        -0.027611  0.177019  \n",
              "AcceptedCmp5        -0.009419  0.326634  \n",
              "AcceptedCmp1        -0.025499  0.293982  \n",
              "AcceptedCmp2        -0.011334  0.169293  \n",
              "Complain             1.000000 -0.001707  \n",
              "Response            -0.001707  1.000000  \n",
              "\n",
              "[22 rows x 22 columns]"
            ],
            "text/html": [
              "\n",
              "  <div id=\"df-20c9e520-180d-44fc-b140-2f6120f0bfcc\">\n",
              "    <div class=\"colab-df-container\">\n",
              "      <div>\n",
              "<style scoped>\n",
              "    .dataframe tbody tr th:only-of-type {\n",
              "        vertical-align: middle;\n",
              "    }\n",
              "\n",
              "    .dataframe tbody tr th {\n",
              "        vertical-align: top;\n",
              "    }\n",
              "\n",
              "    .dataframe thead th {\n",
              "        text-align: right;\n",
              "    }\n",
              "</style>\n",
              "<table border=\"1\" class=\"dataframe\">\n",
              "  <thead>\n",
              "    <tr style=\"text-align: right;\">\n",
              "      <th></th>\n",
              "      <th>Income</th>\n",
              "      <th>Kidhome</th>\n",
              "      <th>Teenhome</th>\n",
              "      <th>Recency</th>\n",
              "      <th>MntWines</th>\n",
              "      <th>MntFruits</th>\n",
              "      <th>MntMeatProducts</th>\n",
              "      <th>MntFishProducts</th>\n",
              "      <th>MntSweetProducts</th>\n",
              "      <th>MntGoldProds</th>\n",
              "      <th>...</th>\n",
              "      <th>NumCatalogPurchases</th>\n",
              "      <th>NumStorePurchases</th>\n",
              "      <th>NumWebVisitsMonth</th>\n",
              "      <th>AcceptedCmp3</th>\n",
              "      <th>AcceptedCmp4</th>\n",
              "      <th>AcceptedCmp5</th>\n",
              "      <th>AcceptedCmp1</th>\n",
              "      <th>AcceptedCmp2</th>\n",
              "      <th>Complain</th>\n",
              "      <th>Response</th>\n",
              "    </tr>\n",
              "  </thead>\n",
              "  <tbody>\n",
              "    <tr>\n",
              "      <th>Income</th>\n",
              "      <td>1.000000</td>\n",
              "      <td>-0.424723</td>\n",
              "      <td>0.015498</td>\n",
              "      <td>-0.010603</td>\n",
              "      <td>0.570851</td>\n",
              "      <td>0.421910</td>\n",
              "      <td>0.565318</td>\n",
              "      <td>0.431879</td>\n",
              "      <td>0.424761</td>\n",
              "      <td>0.312600</td>\n",
              "      <td>...</td>\n",
              "      <td>0.579830</td>\n",
              "      <td>0.521456</td>\n",
              "      <td>-0.535452</td>\n",
              "      <td>-0.009682</td>\n",
              "      <td>0.174512</td>\n",
              "      <td>0.329995</td>\n",
              "      <td>0.267087</td>\n",
              "      <td>0.088132</td>\n",
              "      <td>-0.024489</td>\n",
              "      <td>0.136389</td>\n",
              "    </tr>\n",
              "    <tr>\n",
              "      <th>Kidhome</th>\n",
              "      <td>-0.424723</td>\n",
              "      <td>1.000000</td>\n",
              "      <td>-0.036133</td>\n",
              "      <td>0.008827</td>\n",
              "      <td>-0.496297</td>\n",
              "      <td>-0.372581</td>\n",
              "      <td>-0.437129</td>\n",
              "      <td>-0.387644</td>\n",
              "      <td>-0.370673</td>\n",
              "      <td>-0.349595</td>\n",
              "      <td>...</td>\n",
              "      <td>-0.502237</td>\n",
              "      <td>-0.499683</td>\n",
              "      <td>0.447846</td>\n",
              "      <td>0.014674</td>\n",
              "      <td>-0.161600</td>\n",
              "      <td>-0.205634</td>\n",
              "      <td>-0.172339</td>\n",
              "      <td>-0.081716</td>\n",
              "      <td>0.040207</td>\n",
              "      <td>-0.080008</td>\n",
              "    </tr>\n",
              "    <tr>\n",
              "      <th>Teenhome</th>\n",
              "      <td>0.015498</td>\n",
              "      <td>-0.036133</td>\n",
              "      <td>1.000000</td>\n",
              "      <td>0.016198</td>\n",
              "      <td>0.004846</td>\n",
              "      <td>-0.176764</td>\n",
              "      <td>-0.261160</td>\n",
              "      <td>-0.204187</td>\n",
              "      <td>-0.162475</td>\n",
              "      <td>-0.021725</td>\n",
              "      <td>...</td>\n",
              "      <td>-0.110769</td>\n",
              "      <td>0.050695</td>\n",
              "      <td>0.134884</td>\n",
              "      <td>-0.042677</td>\n",
              "      <td>0.038886</td>\n",
              "      <td>-0.191050</td>\n",
              "      <td>-0.140090</td>\n",
              "      <td>-0.015605</td>\n",
              "      <td>0.003138</td>\n",
              "      <td>-0.154446</td>\n",
              "    </tr>\n",
              "    <tr>\n",
              "      <th>Recency</th>\n",
              "      <td>-0.010603</td>\n",
              "      <td>0.008827</td>\n",
              "      <td>0.016198</td>\n",
              "      <td>1.000000</td>\n",
              "      <td>0.016064</td>\n",
              "      <td>-0.004306</td>\n",
              "      <td>0.023056</td>\n",
              "      <td>0.001079</td>\n",
              "      <td>0.022670</td>\n",
              "      <td>0.016693</td>\n",
              "      <td>...</td>\n",
              "      <td>0.025110</td>\n",
              "      <td>0.000799</td>\n",
              "      <td>-0.021445</td>\n",
              "      <td>-0.032991</td>\n",
              "      <td>0.018826</td>\n",
              "      <td>0.000129</td>\n",
              "      <td>-0.019283</td>\n",
              "      <td>-0.001781</td>\n",
              "      <td>0.013231</td>\n",
              "      <td>-0.198437</td>\n",
              "    </tr>\n",
              "    <tr>\n",
              "      <th>MntWines</th>\n",
              "      <td>0.570851</td>\n",
              "      <td>-0.496297</td>\n",
              "      <td>0.004846</td>\n",
              "      <td>0.016064</td>\n",
              "      <td>1.000000</td>\n",
              "      <td>0.389637</td>\n",
              "      <td>0.562667</td>\n",
              "      <td>0.399753</td>\n",
              "      <td>0.386581</td>\n",
              "      <td>0.387516</td>\n",
              "      <td>...</td>\n",
              "      <td>0.635226</td>\n",
              "      <td>0.642100</td>\n",
              "      <td>-0.320653</td>\n",
              "      <td>0.062202</td>\n",
              "      <td>0.373286</td>\n",
              "      <td>0.472613</td>\n",
              "      <td>0.354133</td>\n",
              "      <td>0.205907</td>\n",
              "      <td>-0.039007</td>\n",
              "      <td>0.247254</td>\n",
              "    </tr>\n",
              "    <tr>\n",
              "      <th>MntFruits</th>\n",
              "      <td>0.421910</td>\n",
              "      <td>-0.372581</td>\n",
              "      <td>-0.176764</td>\n",
              "      <td>-0.004306</td>\n",
              "      <td>0.389637</td>\n",
              "      <td>1.000000</td>\n",
              "      <td>0.543105</td>\n",
              "      <td>0.594804</td>\n",
              "      <td>0.567164</td>\n",
              "      <td>0.392995</td>\n",
              "      <td>...</td>\n",
              "      <td>0.487917</td>\n",
              "      <td>0.461758</td>\n",
              "      <td>-0.418383</td>\n",
              "      <td>0.014727</td>\n",
              "      <td>0.010152</td>\n",
              "      <td>0.215833</td>\n",
              "      <td>0.194748</td>\n",
              "      <td>-0.009773</td>\n",
              "      <td>-0.005166</td>\n",
              "      <td>0.125289</td>\n",
              "    </tr>\n",
              "    <tr>\n",
              "      <th>MntMeatProducts</th>\n",
              "      <td>0.565318</td>\n",
              "      <td>-0.437129</td>\n",
              "      <td>-0.261160</td>\n",
              "      <td>0.023056</td>\n",
              "      <td>0.562667</td>\n",
              "      <td>0.543105</td>\n",
              "      <td>1.000000</td>\n",
              "      <td>0.568402</td>\n",
              "      <td>0.523846</td>\n",
              "      <td>0.350609</td>\n",
              "      <td>...</td>\n",
              "      <td>0.723827</td>\n",
              "      <td>0.479659</td>\n",
              "      <td>-0.539470</td>\n",
              "      <td>0.018272</td>\n",
              "      <td>0.102912</td>\n",
              "      <td>0.373769</td>\n",
              "      <td>0.309761</td>\n",
              "      <td>0.043033</td>\n",
              "      <td>-0.023483</td>\n",
              "      <td>0.236335</td>\n",
              "    </tr>\n",
              "    <tr>\n",
              "      <th>MntFishProducts</th>\n",
              "      <td>0.431879</td>\n",
              "      <td>-0.387644</td>\n",
              "      <td>-0.204187</td>\n",
              "      <td>0.001079</td>\n",
              "      <td>0.399753</td>\n",
              "      <td>0.594804</td>\n",
              "      <td>0.568402</td>\n",
              "      <td>1.000000</td>\n",
              "      <td>0.579870</td>\n",
              "      <td>0.422875</td>\n",
              "      <td>...</td>\n",
              "      <td>0.534478</td>\n",
              "      <td>0.459855</td>\n",
              "      <td>-0.446003</td>\n",
              "      <td>0.000357</td>\n",
              "      <td>0.016843</td>\n",
              "      <td>0.199578</td>\n",
              "      <td>0.260762</td>\n",
              "      <td>0.002577</td>\n",
              "      <td>-0.020953</td>\n",
              "      <td>0.111331</td>\n",
              "    </tr>\n",
              "    <tr>\n",
              "      <th>MntSweetProducts</th>\n",
              "      <td>0.424761</td>\n",
              "      <td>-0.370673</td>\n",
              "      <td>-0.162475</td>\n",
              "      <td>0.022670</td>\n",
              "      <td>0.386581</td>\n",
              "      <td>0.567164</td>\n",
              "      <td>0.523846</td>\n",
              "      <td>0.579870</td>\n",
              "      <td>1.000000</td>\n",
              "      <td>0.369724</td>\n",
              "      <td>...</td>\n",
              "      <td>0.490924</td>\n",
              "      <td>0.448756</td>\n",
              "      <td>-0.423294</td>\n",
              "      <td>0.001530</td>\n",
              "      <td>0.028641</td>\n",
              "      <td>0.259590</td>\n",
              "      <td>0.241818</td>\n",
              "      <td>0.009985</td>\n",
              "      <td>-0.022485</td>\n",
              "      <td>0.117372</td>\n",
              "    </tr>\n",
              "    <tr>\n",
              "      <th>MntGoldProds</th>\n",
              "      <td>0.312600</td>\n",
              "      <td>-0.349595</td>\n",
              "      <td>-0.021725</td>\n",
              "      <td>0.016693</td>\n",
              "      <td>0.387516</td>\n",
              "      <td>0.392995</td>\n",
              "      <td>0.350609</td>\n",
              "      <td>0.422875</td>\n",
              "      <td>0.369724</td>\n",
              "      <td>1.000000</td>\n",
              "      <td>...</td>\n",
              "      <td>0.437697</td>\n",
              "      <td>0.381678</td>\n",
              "      <td>-0.250719</td>\n",
              "      <td>0.123091</td>\n",
              "      <td>0.022268</td>\n",
              "      <td>0.181021</td>\n",
              "      <td>0.166396</td>\n",
              "      <td>0.049990</td>\n",
              "      <td>-0.030861</td>\n",
              "      <td>0.139850</td>\n",
              "    </tr>\n",
              "    <tr>\n",
              "      <th>NumDealsPurchases</th>\n",
              "      <td>-0.081962</td>\n",
              "      <td>0.221798</td>\n",
              "      <td>0.387741</td>\n",
              "      <td>-0.001098</td>\n",
              "      <td>0.010940</td>\n",
              "      <td>-0.132114</td>\n",
              "      <td>-0.122415</td>\n",
              "      <td>-0.139361</td>\n",
              "      <td>-0.120100</td>\n",
              "      <td>0.049085</td>\n",
              "      <td>...</td>\n",
              "      <td>-0.008617</td>\n",
              "      <td>0.068879</td>\n",
              "      <td>0.347633</td>\n",
              "      <td>-0.023109</td>\n",
              "      <td>0.015594</td>\n",
              "      <td>-0.183248</td>\n",
              "      <td>-0.123244</td>\n",
              "      <td>-0.037695</td>\n",
              "      <td>0.000420</td>\n",
              "      <td>0.002238</td>\n",
              "    </tr>\n",
              "    <tr>\n",
              "      <th>NumWebPurchases</th>\n",
              "      <td>0.372397</td>\n",
              "      <td>-0.361647</td>\n",
              "      <td>0.155500</td>\n",
              "      <td>-0.010726</td>\n",
              "      <td>0.542265</td>\n",
              "      <td>0.296735</td>\n",
              "      <td>0.293761</td>\n",
              "      <td>0.293681</td>\n",
              "      <td>0.348544</td>\n",
              "      <td>0.421836</td>\n",
              "      <td>...</td>\n",
              "      <td>0.378376</td>\n",
              "      <td>0.502713</td>\n",
              "      <td>-0.055846</td>\n",
              "      <td>0.042176</td>\n",
              "      <td>0.155903</td>\n",
              "      <td>0.138684</td>\n",
              "      <td>0.155143</td>\n",
              "      <td>0.034188</td>\n",
              "      <td>-0.016310</td>\n",
              "      <td>0.148730</td>\n",
              "    </tr>\n",
              "    <tr>\n",
              "      <th>NumCatalogPurchases</th>\n",
              "      <td>0.579830</td>\n",
              "      <td>-0.502237</td>\n",
              "      <td>-0.110769</td>\n",
              "      <td>0.025110</td>\n",
              "      <td>0.635226</td>\n",
              "      <td>0.487917</td>\n",
              "      <td>0.723827</td>\n",
              "      <td>0.534478</td>\n",
              "      <td>0.490924</td>\n",
              "      <td>0.437697</td>\n",
              "      <td>...</td>\n",
              "      <td>1.000000</td>\n",
              "      <td>0.518738</td>\n",
              "      <td>-0.520364</td>\n",
              "      <td>0.104730</td>\n",
              "      <td>0.139247</td>\n",
              "      <td>0.322321</td>\n",
              "      <td>0.308097</td>\n",
              "      <td>0.099852</td>\n",
              "      <td>-0.020453</td>\n",
              "      <td>0.220810</td>\n",
              "    </tr>\n",
              "    <tr>\n",
              "      <th>NumStorePurchases</th>\n",
              "      <td>0.521456</td>\n",
              "      <td>-0.499683</td>\n",
              "      <td>0.050695</td>\n",
              "      <td>0.000799</td>\n",
              "      <td>0.642100</td>\n",
              "      <td>0.461758</td>\n",
              "      <td>0.479659</td>\n",
              "      <td>0.459855</td>\n",
              "      <td>0.448756</td>\n",
              "      <td>0.381678</td>\n",
              "      <td>...</td>\n",
              "      <td>0.518738</td>\n",
              "      <td>1.000000</td>\n",
              "      <td>-0.428473</td>\n",
              "      <td>-0.067577</td>\n",
              "      <td>0.179379</td>\n",
              "      <td>0.214790</td>\n",
              "      <td>0.183249</td>\n",
              "      <td>0.085189</td>\n",
              "      <td>-0.016524</td>\n",
              "      <td>0.039363</td>\n",
              "    </tr>\n",
              "    <tr>\n",
              "      <th>NumWebVisitsMonth</th>\n",
              "      <td>-0.535452</td>\n",
              "      <td>0.447846</td>\n",
              "      <td>0.134884</td>\n",
              "      <td>-0.021445</td>\n",
              "      <td>-0.320653</td>\n",
              "      <td>-0.418383</td>\n",
              "      <td>-0.539470</td>\n",
              "      <td>-0.446003</td>\n",
              "      <td>-0.423294</td>\n",
              "      <td>-0.250719</td>\n",
              "      <td>...</td>\n",
              "      <td>-0.520364</td>\n",
              "      <td>-0.428473</td>\n",
              "      <td>1.000000</td>\n",
              "      <td>0.061211</td>\n",
              "      <td>-0.032126</td>\n",
              "      <td>-0.278113</td>\n",
              "      <td>-0.192502</td>\n",
              "      <td>-0.007196</td>\n",
              "      <td>0.019769</td>\n",
              "      <td>-0.003987</td>\n",
              "    </tr>\n",
              "    <tr>\n",
              "      <th>AcceptedCmp3</th>\n",
              "      <td>-0.009682</td>\n",
              "      <td>0.014674</td>\n",
              "      <td>-0.042677</td>\n",
              "      <td>-0.032991</td>\n",
              "      <td>0.062202</td>\n",
              "      <td>0.014727</td>\n",
              "      <td>0.018272</td>\n",
              "      <td>0.000357</td>\n",
              "      <td>0.001530</td>\n",
              "      <td>0.123091</td>\n",
              "      <td>...</td>\n",
              "      <td>0.104730</td>\n",
              "      <td>-0.067577</td>\n",
              "      <td>0.061211</td>\n",
              "      <td>1.000000</td>\n",
              "      <td>-0.079512</td>\n",
              "      <td>0.080316</td>\n",
              "      <td>0.094751</td>\n",
              "      <td>0.072020</td>\n",
              "      <td>0.008415</td>\n",
              "      <td>0.254258</td>\n",
              "    </tr>\n",
              "    <tr>\n",
              "      <th>AcceptedCmp4</th>\n",
              "      <td>0.174512</td>\n",
              "      <td>-0.161600</td>\n",
              "      <td>0.038886</td>\n",
              "      <td>0.018826</td>\n",
              "      <td>0.373286</td>\n",
              "      <td>0.010152</td>\n",
              "      <td>0.102912</td>\n",
              "      <td>0.016843</td>\n",
              "      <td>0.028641</td>\n",
              "      <td>0.022268</td>\n",
              "      <td>...</td>\n",
              "      <td>0.139247</td>\n",
              "      <td>0.179379</td>\n",
              "      <td>-0.032126</td>\n",
              "      <td>-0.079512</td>\n",
              "      <td>1.000000</td>\n",
              "      <td>0.306526</td>\n",
              "      <td>0.251300</td>\n",
              "      <td>0.292210</td>\n",
              "      <td>-0.027611</td>\n",
              "      <td>0.177019</td>\n",
              "    </tr>\n",
              "    <tr>\n",
              "      <th>AcceptedCmp5</th>\n",
              "      <td>0.329995</td>\n",
              "      <td>-0.205634</td>\n",
              "      <td>-0.191050</td>\n",
              "      <td>0.000129</td>\n",
              "      <td>0.472613</td>\n",
              "      <td>0.215833</td>\n",
              "      <td>0.373769</td>\n",
              "      <td>0.199578</td>\n",
              "      <td>0.259590</td>\n",
              "      <td>0.181021</td>\n",
              "      <td>...</td>\n",
              "      <td>0.322321</td>\n",
              "      <td>0.214790</td>\n",
              "      <td>-0.278113</td>\n",
              "      <td>0.080316</td>\n",
              "      <td>0.306526</td>\n",
              "      <td>1.000000</td>\n",
              "      <td>0.403078</td>\n",
              "      <td>0.221533</td>\n",
              "      <td>-0.009419</td>\n",
              "      <td>0.326634</td>\n",
              "    </tr>\n",
              "    <tr>\n",
              "      <th>AcceptedCmp1</th>\n",
              "      <td>0.267087</td>\n",
              "      <td>-0.172339</td>\n",
              "      <td>-0.140090</td>\n",
              "      <td>-0.019283</td>\n",
              "      <td>0.354133</td>\n",
              "      <td>0.194748</td>\n",
              "      <td>0.309761</td>\n",
              "      <td>0.260762</td>\n",
              "      <td>0.241818</td>\n",
              "      <td>0.166396</td>\n",
              "      <td>...</td>\n",
              "      <td>0.308097</td>\n",
              "      <td>0.183249</td>\n",
              "      <td>-0.192502</td>\n",
              "      <td>0.094751</td>\n",
              "      <td>0.251300</td>\n",
              "      <td>0.403078</td>\n",
              "      <td>1.000000</td>\n",
              "      <td>0.175315</td>\n",
              "      <td>-0.025499</td>\n",
              "      <td>0.293982</td>\n",
              "    </tr>\n",
              "    <tr>\n",
              "      <th>AcceptedCmp2</th>\n",
              "      <td>0.088132</td>\n",
              "      <td>-0.081716</td>\n",
              "      <td>-0.015605</td>\n",
              "      <td>-0.001781</td>\n",
              "      <td>0.205907</td>\n",
              "      <td>-0.009773</td>\n",
              "      <td>0.043033</td>\n",
              "      <td>0.002577</td>\n",
              "      <td>0.009985</td>\n",
              "      <td>0.049990</td>\n",
              "      <td>...</td>\n",
              "      <td>0.099852</td>\n",
              "      <td>0.085189</td>\n",
              "      <td>-0.007196</td>\n",
              "      <td>0.072020</td>\n",
              "      <td>0.292210</td>\n",
              "      <td>0.221533</td>\n",
              "      <td>0.175315</td>\n",
              "      <td>1.000000</td>\n",
              "      <td>-0.011334</td>\n",
              "      <td>0.169293</td>\n",
              "    </tr>\n",
              "    <tr>\n",
              "      <th>Complain</th>\n",
              "      <td>-0.024489</td>\n",
              "      <td>0.040207</td>\n",
              "      <td>0.003138</td>\n",
              "      <td>0.013231</td>\n",
              "      <td>-0.039007</td>\n",
              "      <td>-0.005166</td>\n",
              "      <td>-0.023483</td>\n",
              "      <td>-0.020953</td>\n",
              "      <td>-0.022485</td>\n",
              "      <td>-0.030861</td>\n",
              "      <td>...</td>\n",
              "      <td>-0.020453</td>\n",
              "      <td>-0.016524</td>\n",
              "      <td>0.019769</td>\n",
              "      <td>0.008415</td>\n",
              "      <td>-0.027611</td>\n",
              "      <td>-0.009419</td>\n",
              "      <td>-0.025499</td>\n",
              "      <td>-0.011334</td>\n",
              "      <td>1.000000</td>\n",
              "      <td>-0.001707</td>\n",
              "    </tr>\n",
              "    <tr>\n",
              "      <th>Response</th>\n",
              "      <td>0.136389</td>\n",
              "      <td>-0.080008</td>\n",
              "      <td>-0.154446</td>\n",
              "      <td>-0.198437</td>\n",
              "      <td>0.247254</td>\n",
              "      <td>0.125289</td>\n",
              "      <td>0.236335</td>\n",
              "      <td>0.111331</td>\n",
              "      <td>0.117372</td>\n",
              "      <td>0.139850</td>\n",
              "      <td>...</td>\n",
              "      <td>0.220810</td>\n",
              "      <td>0.039363</td>\n",
              "      <td>-0.003987</td>\n",
              "      <td>0.254258</td>\n",
              "      <td>0.177019</td>\n",
              "      <td>0.326634</td>\n",
              "      <td>0.293982</td>\n",
              "      <td>0.169293</td>\n",
              "      <td>-0.001707</td>\n",
              "      <td>1.000000</td>\n",
              "    </tr>\n",
              "  </tbody>\n",
              "</table>\n",
              "<p>22 rows × 22 columns</p>\n",
              "</div>\n",
              "      <button class=\"colab-df-convert\" onclick=\"convertToInteractive('df-20c9e520-180d-44fc-b140-2f6120f0bfcc')\"\n",
              "              title=\"Convert this dataframe to an interactive table.\"\n",
              "              style=\"display:none;\">\n",
              "        \n",
              "  <svg xmlns=\"http://www.w3.org/2000/svg\" height=\"24px\"viewBox=\"0 0 24 24\"\n",
              "       width=\"24px\">\n",
              "    <path d=\"M0 0h24v24H0V0z\" fill=\"none\"/>\n",
              "    <path d=\"M18.56 5.44l.94 2.06.94-2.06 2.06-.94-2.06-.94-.94-2.06-.94 2.06-2.06.94zm-11 1L8.5 8.5l.94-2.06 2.06-.94-2.06-.94L8.5 2.5l-.94 2.06-2.06.94zm10 10l.94 2.06.94-2.06 2.06-.94-2.06-.94-.94-2.06-.94 2.06-2.06.94z\"/><path d=\"M17.41 7.96l-1.37-1.37c-.4-.4-.92-.59-1.43-.59-.52 0-1.04.2-1.43.59L10.3 9.45l-7.72 7.72c-.78.78-.78 2.05 0 2.83L4 21.41c.39.39.9.59 1.41.59.51 0 1.02-.2 1.41-.59l7.78-7.78 2.81-2.81c.8-.78.8-2.07 0-2.86zM5.41 20L4 18.59l7.72-7.72 1.47 1.35L5.41 20z\"/>\n",
              "  </svg>\n",
              "      </button>\n",
              "      \n",
              "  <style>\n",
              "    .colab-df-container {\n",
              "      display:flex;\n",
              "      flex-wrap:wrap;\n",
              "      gap: 12px;\n",
              "    }\n",
              "\n",
              "    .colab-df-convert {\n",
              "      background-color: #E8F0FE;\n",
              "      border: none;\n",
              "      border-radius: 50%;\n",
              "      cursor: pointer;\n",
              "      display: none;\n",
              "      fill: #1967D2;\n",
              "      height: 32px;\n",
              "      padding: 0 0 0 0;\n",
              "      width: 32px;\n",
              "    }\n",
              "\n",
              "    .colab-df-convert:hover {\n",
              "      background-color: #E2EBFA;\n",
              "      box-shadow: 0px 1px 2px rgba(60, 64, 67, 0.3), 0px 1px 3px 1px rgba(60, 64, 67, 0.15);\n",
              "      fill: #174EA6;\n",
              "    }\n",
              "\n",
              "    [theme=dark] .colab-df-convert {\n",
              "      background-color: #3B4455;\n",
              "      fill: #D2E3FC;\n",
              "    }\n",
              "\n",
              "    [theme=dark] .colab-df-convert:hover {\n",
              "      background-color: #434B5C;\n",
              "      box-shadow: 0px 1px 3px 1px rgba(0, 0, 0, 0.15);\n",
              "      filter: drop-shadow(0px 1px 2px rgba(0, 0, 0, 0.3));\n",
              "      fill: #FFFFFF;\n",
              "    }\n",
              "  </style>\n",
              "\n",
              "      <script>\n",
              "        const buttonEl =\n",
              "          document.querySelector('#df-20c9e520-180d-44fc-b140-2f6120f0bfcc button.colab-df-convert');\n",
              "        buttonEl.style.display =\n",
              "          google.colab.kernel.accessAllowed ? 'block' : 'none';\n",
              "\n",
              "        async function convertToInteractive(key) {\n",
              "          const element = document.querySelector('#df-20c9e520-180d-44fc-b140-2f6120f0bfcc');\n",
              "          const dataTable =\n",
              "            await google.colab.kernel.invokeFunction('convertToInteractive',\n",
              "                                                     [key], {});\n",
              "          if (!dataTable) return;\n",
              "\n",
              "          const docLinkHtml = 'Like what you see? Visit the ' +\n",
              "            '<a target=\"_blank\" href=https://colab.research.google.com/notebooks/data_table.ipynb>data table notebook</a>'\n",
              "            + ' to learn more about interactive tables.';\n",
              "          element.innerHTML = '';\n",
              "          dataTable['output_type'] = 'display_data';\n",
              "          await google.colab.output.renderOutput(dataTable, element);\n",
              "          const docLink = document.createElement('div');\n",
              "          docLink.innerHTML = docLinkHtml;\n",
              "          element.appendChild(docLink);\n",
              "        }\n",
              "      </script>\n",
              "    </div>\n",
              "  </div>\n",
              "  "
            ]
          },
          "metadata": {},
          "execution_count": 22
        }
      ]
    },
    {
      "cell_type": "markdown",
      "source": [
        "Data variable yang memiliki multikolineritas adalah NumCatalogPurchases  dengan variable MntMeatProducts tetapi untuk variable NumCatalogPurchases (0.220810) memiliki korelasi yang lebih rendah dari variable MntMeatProducts (0.236335) terhadap Response, maka untuk variable NumCatalogPurchases (0.220810) di drop"
      ],
      "metadata": {
        "id": "ZwAlxV8rx_TD"
      }
    },
    {
      "cell_type": "code",
      "source": [
        "# remove 'ID', 'Year_Birth', 'Dt_Customer', 'Z_CostContact', 'Z_Revenue' from dataset\n",
        "# Those variable are not relevan from domain knowladge \n",
        "# This 'NumCatalogPurchases' variable has muliticolinarity from variable response \n",
        "mr_data = df.drop(\n",
        "    ['ID', 'Year_Birth', 'Dt_Customer', 'Z_CostContact', 'Z_Revenue', 'NumCatalogPurchases'],\n",
        "    axis = 1\n",
        ")\n",
        "\n",
        "# check its first 5 rows\n",
        "mr_data.head()"
      ],
      "metadata": {
        "colab": {
          "base_uri": "https://localhost:8080/",
          "height": 299
        },
        "id": "u5wf6GtrzLmi",
        "outputId": "0f0ca20f-f595-4989-d00b-1687cb3f67f7"
      },
      "execution_count": 24,
      "outputs": [
        {
          "output_type": "execute_result",
          "data": {
            "text/plain": [
              "    Education Marital_Status   Income  Kidhome  Teenhome  Recency  MntWines  \\\n",
              "0  Graduation         Single  58138.0        0         0       58       635   \n",
              "1  Graduation         Single  46344.0        1         1       38        11   \n",
              "2  Graduation       Together  71613.0        0         0       26       426   \n",
              "3  Graduation       Together  26646.0        1         0       26        11   \n",
              "4         PhD        Married  58293.0        1         0       94       173   \n",
              "\n",
              "   MntFruits  MntMeatProducts  MntFishProducts  ...  NumWebPurchases  \\\n",
              "0         88              546              172  ...                8   \n",
              "1          1                6                2  ...                1   \n",
              "2         49              127              111  ...                8   \n",
              "3          4               20               10  ...                2   \n",
              "4         43              118               46  ...                5   \n",
              "\n",
              "   NumStorePurchases  NumWebVisitsMonth  AcceptedCmp3  AcceptedCmp4  \\\n",
              "0                  4                  7             0             0   \n",
              "1                  2                  5             0             0   \n",
              "2                 10                  4             0             0   \n",
              "3                  4                  6             0             0   \n",
              "4                  6                  5             0             0   \n",
              "\n",
              "   AcceptedCmp5  AcceptedCmp1  AcceptedCmp2  Complain  Response  \n",
              "0             0             0             0         0         1  \n",
              "1             0             0             0         0         0  \n",
              "2             0             0             0         0         0  \n",
              "3             0             0             0         0         0  \n",
              "4             0             0             0         0         0  \n",
              "\n",
              "[5 rows x 23 columns]"
            ],
            "text/html": [
              "\n",
              "  <div id=\"df-fe50f825-c0e0-47b6-a18e-ddccb70c9ebe\">\n",
              "    <div class=\"colab-df-container\">\n",
              "      <div>\n",
              "<style scoped>\n",
              "    .dataframe tbody tr th:only-of-type {\n",
              "        vertical-align: middle;\n",
              "    }\n",
              "\n",
              "    .dataframe tbody tr th {\n",
              "        vertical-align: top;\n",
              "    }\n",
              "\n",
              "    .dataframe thead th {\n",
              "        text-align: right;\n",
              "    }\n",
              "</style>\n",
              "<table border=\"1\" class=\"dataframe\">\n",
              "  <thead>\n",
              "    <tr style=\"text-align: right;\">\n",
              "      <th></th>\n",
              "      <th>Education</th>\n",
              "      <th>Marital_Status</th>\n",
              "      <th>Income</th>\n",
              "      <th>Kidhome</th>\n",
              "      <th>Teenhome</th>\n",
              "      <th>Recency</th>\n",
              "      <th>MntWines</th>\n",
              "      <th>MntFruits</th>\n",
              "      <th>MntMeatProducts</th>\n",
              "      <th>MntFishProducts</th>\n",
              "      <th>...</th>\n",
              "      <th>NumWebPurchases</th>\n",
              "      <th>NumStorePurchases</th>\n",
              "      <th>NumWebVisitsMonth</th>\n",
              "      <th>AcceptedCmp3</th>\n",
              "      <th>AcceptedCmp4</th>\n",
              "      <th>AcceptedCmp5</th>\n",
              "      <th>AcceptedCmp1</th>\n",
              "      <th>AcceptedCmp2</th>\n",
              "      <th>Complain</th>\n",
              "      <th>Response</th>\n",
              "    </tr>\n",
              "  </thead>\n",
              "  <tbody>\n",
              "    <tr>\n",
              "      <th>0</th>\n",
              "      <td>Graduation</td>\n",
              "      <td>Single</td>\n",
              "      <td>58138.0</td>\n",
              "      <td>0</td>\n",
              "      <td>0</td>\n",
              "      <td>58</td>\n",
              "      <td>635</td>\n",
              "      <td>88</td>\n",
              "      <td>546</td>\n",
              "      <td>172</td>\n",
              "      <td>...</td>\n",
              "      <td>8</td>\n",
              "      <td>4</td>\n",
              "      <td>7</td>\n",
              "      <td>0</td>\n",
              "      <td>0</td>\n",
              "      <td>0</td>\n",
              "      <td>0</td>\n",
              "      <td>0</td>\n",
              "      <td>0</td>\n",
              "      <td>1</td>\n",
              "    </tr>\n",
              "    <tr>\n",
              "      <th>1</th>\n",
              "      <td>Graduation</td>\n",
              "      <td>Single</td>\n",
              "      <td>46344.0</td>\n",
              "      <td>1</td>\n",
              "      <td>1</td>\n",
              "      <td>38</td>\n",
              "      <td>11</td>\n",
              "      <td>1</td>\n",
              "      <td>6</td>\n",
              "      <td>2</td>\n",
              "      <td>...</td>\n",
              "      <td>1</td>\n",
              "      <td>2</td>\n",
              "      <td>5</td>\n",
              "      <td>0</td>\n",
              "      <td>0</td>\n",
              "      <td>0</td>\n",
              "      <td>0</td>\n",
              "      <td>0</td>\n",
              "      <td>0</td>\n",
              "      <td>0</td>\n",
              "    </tr>\n",
              "    <tr>\n",
              "      <th>2</th>\n",
              "      <td>Graduation</td>\n",
              "      <td>Together</td>\n",
              "      <td>71613.0</td>\n",
              "      <td>0</td>\n",
              "      <td>0</td>\n",
              "      <td>26</td>\n",
              "      <td>426</td>\n",
              "      <td>49</td>\n",
              "      <td>127</td>\n",
              "      <td>111</td>\n",
              "      <td>...</td>\n",
              "      <td>8</td>\n",
              "      <td>10</td>\n",
              "      <td>4</td>\n",
              "      <td>0</td>\n",
              "      <td>0</td>\n",
              "      <td>0</td>\n",
              "      <td>0</td>\n",
              "      <td>0</td>\n",
              "      <td>0</td>\n",
              "      <td>0</td>\n",
              "    </tr>\n",
              "    <tr>\n",
              "      <th>3</th>\n",
              "      <td>Graduation</td>\n",
              "      <td>Together</td>\n",
              "      <td>26646.0</td>\n",
              "      <td>1</td>\n",
              "      <td>0</td>\n",
              "      <td>26</td>\n",
              "      <td>11</td>\n",
              "      <td>4</td>\n",
              "      <td>20</td>\n",
              "      <td>10</td>\n",
              "      <td>...</td>\n",
              "      <td>2</td>\n",
              "      <td>4</td>\n",
              "      <td>6</td>\n",
              "      <td>0</td>\n",
              "      <td>0</td>\n",
              "      <td>0</td>\n",
              "      <td>0</td>\n",
              "      <td>0</td>\n",
              "      <td>0</td>\n",
              "      <td>0</td>\n",
              "    </tr>\n",
              "    <tr>\n",
              "      <th>4</th>\n",
              "      <td>PhD</td>\n",
              "      <td>Married</td>\n",
              "      <td>58293.0</td>\n",
              "      <td>1</td>\n",
              "      <td>0</td>\n",
              "      <td>94</td>\n",
              "      <td>173</td>\n",
              "      <td>43</td>\n",
              "      <td>118</td>\n",
              "      <td>46</td>\n",
              "      <td>...</td>\n",
              "      <td>5</td>\n",
              "      <td>6</td>\n",
              "      <td>5</td>\n",
              "      <td>0</td>\n",
              "      <td>0</td>\n",
              "      <td>0</td>\n",
              "      <td>0</td>\n",
              "      <td>0</td>\n",
              "      <td>0</td>\n",
              "      <td>0</td>\n",
              "    </tr>\n",
              "  </tbody>\n",
              "</table>\n",
              "<p>5 rows × 23 columns</p>\n",
              "</div>\n",
              "      <button class=\"colab-df-convert\" onclick=\"convertToInteractive('df-fe50f825-c0e0-47b6-a18e-ddccb70c9ebe')\"\n",
              "              title=\"Convert this dataframe to an interactive table.\"\n",
              "              style=\"display:none;\">\n",
              "        \n",
              "  <svg xmlns=\"http://www.w3.org/2000/svg\" height=\"24px\"viewBox=\"0 0 24 24\"\n",
              "       width=\"24px\">\n",
              "    <path d=\"M0 0h24v24H0V0z\" fill=\"none\"/>\n",
              "    <path d=\"M18.56 5.44l.94 2.06.94-2.06 2.06-.94-2.06-.94-.94-2.06-.94 2.06-2.06.94zm-11 1L8.5 8.5l.94-2.06 2.06-.94-2.06-.94L8.5 2.5l-.94 2.06-2.06.94zm10 10l.94 2.06.94-2.06 2.06-.94-2.06-.94-.94-2.06-.94 2.06-2.06.94z\"/><path d=\"M17.41 7.96l-1.37-1.37c-.4-.4-.92-.59-1.43-.59-.52 0-1.04.2-1.43.59L10.3 9.45l-7.72 7.72c-.78.78-.78 2.05 0 2.83L4 21.41c.39.39.9.59 1.41.59.51 0 1.02-.2 1.41-.59l7.78-7.78 2.81-2.81c.8-.78.8-2.07 0-2.86zM5.41 20L4 18.59l7.72-7.72 1.47 1.35L5.41 20z\"/>\n",
              "  </svg>\n",
              "      </button>\n",
              "      \n",
              "  <style>\n",
              "    .colab-df-container {\n",
              "      display:flex;\n",
              "      flex-wrap:wrap;\n",
              "      gap: 12px;\n",
              "    }\n",
              "\n",
              "    .colab-df-convert {\n",
              "      background-color: #E8F0FE;\n",
              "      border: none;\n",
              "      border-radius: 50%;\n",
              "      cursor: pointer;\n",
              "      display: none;\n",
              "      fill: #1967D2;\n",
              "      height: 32px;\n",
              "      padding: 0 0 0 0;\n",
              "      width: 32px;\n",
              "    }\n",
              "\n",
              "    .colab-df-convert:hover {\n",
              "      background-color: #E2EBFA;\n",
              "      box-shadow: 0px 1px 2px rgba(60, 64, 67, 0.3), 0px 1px 3px 1px rgba(60, 64, 67, 0.15);\n",
              "      fill: #174EA6;\n",
              "    }\n",
              "\n",
              "    [theme=dark] .colab-df-convert {\n",
              "      background-color: #3B4455;\n",
              "      fill: #D2E3FC;\n",
              "    }\n",
              "\n",
              "    [theme=dark] .colab-df-convert:hover {\n",
              "      background-color: #434B5C;\n",
              "      box-shadow: 0px 1px 3px 1px rgba(0, 0, 0, 0.15);\n",
              "      filter: drop-shadow(0px 1px 2px rgba(0, 0, 0, 0.3));\n",
              "      fill: #FFFFFF;\n",
              "    }\n",
              "  </style>\n",
              "\n",
              "      <script>\n",
              "        const buttonEl =\n",
              "          document.querySelector('#df-fe50f825-c0e0-47b6-a18e-ddccb70c9ebe button.colab-df-convert');\n",
              "        buttonEl.style.display =\n",
              "          google.colab.kernel.accessAllowed ? 'block' : 'none';\n",
              "\n",
              "        async function convertToInteractive(key) {\n",
              "          const element = document.querySelector('#df-fe50f825-c0e0-47b6-a18e-ddccb70c9ebe');\n",
              "          const dataTable =\n",
              "            await google.colab.kernel.invokeFunction('convertToInteractive',\n",
              "                                                     [key], {});\n",
              "          if (!dataTable) return;\n",
              "\n",
              "          const docLinkHtml = 'Like what you see? Visit the ' +\n",
              "            '<a target=\"_blank\" href=https://colab.research.google.com/notebooks/data_table.ipynb>data table notebook</a>'\n",
              "            + ' to learn more about interactive tables.';\n",
              "          element.innerHTML = '';\n",
              "          dataTable['output_type'] = 'display_data';\n",
              "          await google.colab.output.renderOutput(dataTable, element);\n",
              "          const docLink = document.createElement('div');\n",
              "          docLink.innerHTML = docLinkHtml;\n",
              "          element.appendChild(docLink);\n",
              "        }\n",
              "      </script>\n",
              "    </div>\n",
              "  </div>\n",
              "  "
            ]
          },
          "metadata": {},
          "execution_count": 24
        }
      ]
    },
    {
      "cell_type": "markdown",
      "source": [
        "# Check Data Duplicate"
      ],
      "metadata": {
        "id": "WwNkZCV12Nxd"
      }
    },
    {
      "cell_type": "code",
      "source": [
        "mr_data.duplicated().sum()"
      ],
      "metadata": {
        "colab": {
          "base_uri": "https://localhost:8080/"
        },
        "id": "bngYVnDz2FP0",
        "outputId": "d94bf117-6e4c-48a4-9fa0-4faf483f344c"
      },
      "execution_count": 25,
      "outputs": [
        {
          "output_type": "execute_result",
          "data": {
            "text/plain": [
              "182"
            ]
          },
          "metadata": {},
          "execution_count": 25
        }
      ]
    },
    {
      "cell_type": "code",
      "source": [
        "mr_data.drop_duplicates(inplace=True)"
      ],
      "metadata": {
        "id": "5miQC5r1AWJZ"
      },
      "execution_count": 26,
      "outputs": []
    },
    {
      "cell_type": "code",
      "source": [
        "mr_data.duplicated().sum()"
      ],
      "metadata": {
        "colab": {
          "base_uri": "https://localhost:8080/"
        },
        "id": "gGeJqYR-AgJg",
        "outputId": "d2fc1a5d-f9b5-4223-bb32-b87db1231d4d"
      },
      "execution_count": 27,
      "outputs": [
        {
          "output_type": "execute_result",
          "data": {
            "text/plain": [
              "0"
            ]
          },
          "metadata": {},
          "execution_count": 27
        }
      ]
    },
    {
      "cell_type": "code",
      "source": [
        "mr_data = mr_data.reset_index(drop=True)"
      ],
      "metadata": {
        "id": "5NNnoA8hAiju"
      },
      "execution_count": 28,
      "outputs": []
    },
    {
      "cell_type": "code",
      "source": [
        "mr_data.head(5)"
      ],
      "metadata": {
        "colab": {
          "base_uri": "https://localhost:8080/",
          "height": 299
        },
        "id": "d-QYPNg7AyZo",
        "outputId": "5f45f9ad-4d4c-4b60-dbd9-a2f0a954c1c0"
      },
      "execution_count": 29,
      "outputs": [
        {
          "output_type": "execute_result",
          "data": {
            "text/plain": [
              "    Education Marital_Status   Income  Kidhome  Teenhome  Recency  MntWines  \\\n",
              "0  Graduation         Single  58138.0        0         0       58       635   \n",
              "1  Graduation         Single  46344.0        1         1       38        11   \n",
              "2  Graduation       Together  71613.0        0         0       26       426   \n",
              "3  Graduation       Together  26646.0        1         0       26        11   \n",
              "4         PhD        Married  58293.0        1         0       94       173   \n",
              "\n",
              "   MntFruits  MntMeatProducts  MntFishProducts  ...  NumWebPurchases  \\\n",
              "0         88              546              172  ...                8   \n",
              "1          1                6                2  ...                1   \n",
              "2         49              127              111  ...                8   \n",
              "3          4               20               10  ...                2   \n",
              "4         43              118               46  ...                5   \n",
              "\n",
              "   NumStorePurchases  NumWebVisitsMonth  AcceptedCmp3  AcceptedCmp4  \\\n",
              "0                  4                  7             0             0   \n",
              "1                  2                  5             0             0   \n",
              "2                 10                  4             0             0   \n",
              "3                  4                  6             0             0   \n",
              "4                  6                  5             0             0   \n",
              "\n",
              "   AcceptedCmp5  AcceptedCmp1  AcceptedCmp2  Complain  Response  \n",
              "0             0             0             0         0         1  \n",
              "1             0             0             0         0         0  \n",
              "2             0             0             0         0         0  \n",
              "3             0             0             0         0         0  \n",
              "4             0             0             0         0         0  \n",
              "\n",
              "[5 rows x 23 columns]"
            ],
            "text/html": [
              "\n",
              "  <div id=\"df-17b91c71-6b07-4ad0-8575-cd4131cc7b23\">\n",
              "    <div class=\"colab-df-container\">\n",
              "      <div>\n",
              "<style scoped>\n",
              "    .dataframe tbody tr th:only-of-type {\n",
              "        vertical-align: middle;\n",
              "    }\n",
              "\n",
              "    .dataframe tbody tr th {\n",
              "        vertical-align: top;\n",
              "    }\n",
              "\n",
              "    .dataframe thead th {\n",
              "        text-align: right;\n",
              "    }\n",
              "</style>\n",
              "<table border=\"1\" class=\"dataframe\">\n",
              "  <thead>\n",
              "    <tr style=\"text-align: right;\">\n",
              "      <th></th>\n",
              "      <th>Education</th>\n",
              "      <th>Marital_Status</th>\n",
              "      <th>Income</th>\n",
              "      <th>Kidhome</th>\n",
              "      <th>Teenhome</th>\n",
              "      <th>Recency</th>\n",
              "      <th>MntWines</th>\n",
              "      <th>MntFruits</th>\n",
              "      <th>MntMeatProducts</th>\n",
              "      <th>MntFishProducts</th>\n",
              "      <th>...</th>\n",
              "      <th>NumWebPurchases</th>\n",
              "      <th>NumStorePurchases</th>\n",
              "      <th>NumWebVisitsMonth</th>\n",
              "      <th>AcceptedCmp3</th>\n",
              "      <th>AcceptedCmp4</th>\n",
              "      <th>AcceptedCmp5</th>\n",
              "      <th>AcceptedCmp1</th>\n",
              "      <th>AcceptedCmp2</th>\n",
              "      <th>Complain</th>\n",
              "      <th>Response</th>\n",
              "    </tr>\n",
              "  </thead>\n",
              "  <tbody>\n",
              "    <tr>\n",
              "      <th>0</th>\n",
              "      <td>Graduation</td>\n",
              "      <td>Single</td>\n",
              "      <td>58138.0</td>\n",
              "      <td>0</td>\n",
              "      <td>0</td>\n",
              "      <td>58</td>\n",
              "      <td>635</td>\n",
              "      <td>88</td>\n",
              "      <td>546</td>\n",
              "      <td>172</td>\n",
              "      <td>...</td>\n",
              "      <td>8</td>\n",
              "      <td>4</td>\n",
              "      <td>7</td>\n",
              "      <td>0</td>\n",
              "      <td>0</td>\n",
              "      <td>0</td>\n",
              "      <td>0</td>\n",
              "      <td>0</td>\n",
              "      <td>0</td>\n",
              "      <td>1</td>\n",
              "    </tr>\n",
              "    <tr>\n",
              "      <th>1</th>\n",
              "      <td>Graduation</td>\n",
              "      <td>Single</td>\n",
              "      <td>46344.0</td>\n",
              "      <td>1</td>\n",
              "      <td>1</td>\n",
              "      <td>38</td>\n",
              "      <td>11</td>\n",
              "      <td>1</td>\n",
              "      <td>6</td>\n",
              "      <td>2</td>\n",
              "      <td>...</td>\n",
              "      <td>1</td>\n",
              "      <td>2</td>\n",
              "      <td>5</td>\n",
              "      <td>0</td>\n",
              "      <td>0</td>\n",
              "      <td>0</td>\n",
              "      <td>0</td>\n",
              "      <td>0</td>\n",
              "      <td>0</td>\n",
              "      <td>0</td>\n",
              "    </tr>\n",
              "    <tr>\n",
              "      <th>2</th>\n",
              "      <td>Graduation</td>\n",
              "      <td>Together</td>\n",
              "      <td>71613.0</td>\n",
              "      <td>0</td>\n",
              "      <td>0</td>\n",
              "      <td>26</td>\n",
              "      <td>426</td>\n",
              "      <td>49</td>\n",
              "      <td>127</td>\n",
              "      <td>111</td>\n",
              "      <td>...</td>\n",
              "      <td>8</td>\n",
              "      <td>10</td>\n",
              "      <td>4</td>\n",
              "      <td>0</td>\n",
              "      <td>0</td>\n",
              "      <td>0</td>\n",
              "      <td>0</td>\n",
              "      <td>0</td>\n",
              "      <td>0</td>\n",
              "      <td>0</td>\n",
              "    </tr>\n",
              "    <tr>\n",
              "      <th>3</th>\n",
              "      <td>Graduation</td>\n",
              "      <td>Together</td>\n",
              "      <td>26646.0</td>\n",
              "      <td>1</td>\n",
              "      <td>0</td>\n",
              "      <td>26</td>\n",
              "      <td>11</td>\n",
              "      <td>4</td>\n",
              "      <td>20</td>\n",
              "      <td>10</td>\n",
              "      <td>...</td>\n",
              "      <td>2</td>\n",
              "      <td>4</td>\n",
              "      <td>6</td>\n",
              "      <td>0</td>\n",
              "      <td>0</td>\n",
              "      <td>0</td>\n",
              "      <td>0</td>\n",
              "      <td>0</td>\n",
              "      <td>0</td>\n",
              "      <td>0</td>\n",
              "    </tr>\n",
              "    <tr>\n",
              "      <th>4</th>\n",
              "      <td>PhD</td>\n",
              "      <td>Married</td>\n",
              "      <td>58293.0</td>\n",
              "      <td>1</td>\n",
              "      <td>0</td>\n",
              "      <td>94</td>\n",
              "      <td>173</td>\n",
              "      <td>43</td>\n",
              "      <td>118</td>\n",
              "      <td>46</td>\n",
              "      <td>...</td>\n",
              "      <td>5</td>\n",
              "      <td>6</td>\n",
              "      <td>5</td>\n",
              "      <td>0</td>\n",
              "      <td>0</td>\n",
              "      <td>0</td>\n",
              "      <td>0</td>\n",
              "      <td>0</td>\n",
              "      <td>0</td>\n",
              "      <td>0</td>\n",
              "    </tr>\n",
              "  </tbody>\n",
              "</table>\n",
              "<p>5 rows × 23 columns</p>\n",
              "</div>\n",
              "      <button class=\"colab-df-convert\" onclick=\"convertToInteractive('df-17b91c71-6b07-4ad0-8575-cd4131cc7b23')\"\n",
              "              title=\"Convert this dataframe to an interactive table.\"\n",
              "              style=\"display:none;\">\n",
              "        \n",
              "  <svg xmlns=\"http://www.w3.org/2000/svg\" height=\"24px\"viewBox=\"0 0 24 24\"\n",
              "       width=\"24px\">\n",
              "    <path d=\"M0 0h24v24H0V0z\" fill=\"none\"/>\n",
              "    <path d=\"M18.56 5.44l.94 2.06.94-2.06 2.06-.94-2.06-.94-.94-2.06-.94 2.06-2.06.94zm-11 1L8.5 8.5l.94-2.06 2.06-.94-2.06-.94L8.5 2.5l-.94 2.06-2.06.94zm10 10l.94 2.06.94-2.06 2.06-.94-2.06-.94-.94-2.06-.94 2.06-2.06.94z\"/><path d=\"M17.41 7.96l-1.37-1.37c-.4-.4-.92-.59-1.43-.59-.52 0-1.04.2-1.43.59L10.3 9.45l-7.72 7.72c-.78.78-.78 2.05 0 2.83L4 21.41c.39.39.9.59 1.41.59.51 0 1.02-.2 1.41-.59l7.78-7.78 2.81-2.81c.8-.78.8-2.07 0-2.86zM5.41 20L4 18.59l7.72-7.72 1.47 1.35L5.41 20z\"/>\n",
              "  </svg>\n",
              "      </button>\n",
              "      \n",
              "  <style>\n",
              "    .colab-df-container {\n",
              "      display:flex;\n",
              "      flex-wrap:wrap;\n",
              "      gap: 12px;\n",
              "    }\n",
              "\n",
              "    .colab-df-convert {\n",
              "      background-color: #E8F0FE;\n",
              "      border: none;\n",
              "      border-radius: 50%;\n",
              "      cursor: pointer;\n",
              "      display: none;\n",
              "      fill: #1967D2;\n",
              "      height: 32px;\n",
              "      padding: 0 0 0 0;\n",
              "      width: 32px;\n",
              "    }\n",
              "\n",
              "    .colab-df-convert:hover {\n",
              "      background-color: #E2EBFA;\n",
              "      box-shadow: 0px 1px 2px rgba(60, 64, 67, 0.3), 0px 1px 3px 1px rgba(60, 64, 67, 0.15);\n",
              "      fill: #174EA6;\n",
              "    }\n",
              "\n",
              "    [theme=dark] .colab-df-convert {\n",
              "      background-color: #3B4455;\n",
              "      fill: #D2E3FC;\n",
              "    }\n",
              "\n",
              "    [theme=dark] .colab-df-convert:hover {\n",
              "      background-color: #434B5C;\n",
              "      box-shadow: 0px 1px 3px 1px rgba(0, 0, 0, 0.15);\n",
              "      filter: drop-shadow(0px 1px 2px rgba(0, 0, 0, 0.3));\n",
              "      fill: #FFFFFF;\n",
              "    }\n",
              "  </style>\n",
              "\n",
              "      <script>\n",
              "        const buttonEl =\n",
              "          document.querySelector('#df-17b91c71-6b07-4ad0-8575-cd4131cc7b23 button.colab-df-convert');\n",
              "        buttonEl.style.display =\n",
              "          google.colab.kernel.accessAllowed ? 'block' : 'none';\n",
              "\n",
              "        async function convertToInteractive(key) {\n",
              "          const element = document.querySelector('#df-17b91c71-6b07-4ad0-8575-cd4131cc7b23');\n",
              "          const dataTable =\n",
              "            await google.colab.kernel.invokeFunction('convertToInteractive',\n",
              "                                                     [key], {});\n",
              "          if (!dataTable) return;\n",
              "\n",
              "          const docLinkHtml = 'Like what you see? Visit the ' +\n",
              "            '<a target=\"_blank\" href=https://colab.research.google.com/notebooks/data_table.ipynb>data table notebook</a>'\n",
              "            + ' to learn more about interactive tables.';\n",
              "          element.innerHTML = '';\n",
              "          dataTable['output_type'] = 'display_data';\n",
              "          await google.colab.output.renderOutput(dataTable, element);\n",
              "          const docLink = document.createElement('div');\n",
              "          docLink.innerHTML = docLinkHtml;\n",
              "          element.appendChild(docLink);\n",
              "        }\n",
              "      </script>\n",
              "    </div>\n",
              "  </div>\n",
              "  "
            ]
          },
          "metadata": {},
          "execution_count": 29
        }
      ]
    },
    {
      "cell_type": "markdown",
      "source": [
        "Linear regression only work with numerical data, so to handle categorical data we need to transform them to integer (for ordinal data) or treat them as dummy variables."
      ],
      "metadata": {
        "id": "uSXfo6CmH_ec"
      }
    },
    {
      "cell_type": "code",
      "source": [
        "# turn Education column into dummy variables\n",
        "pd.get_dummies(mr_data['Education'])"
      ],
      "metadata": {
        "colab": {
          "base_uri": "https://localhost:8080/",
          "height": 423
        },
        "id": "40iQZTAsH-3A",
        "outputId": "7dd73ced-5e51-487b-cfe7-77f44a69dbbf"
      },
      "execution_count": 44,
      "outputs": [
        {
          "output_type": "execute_result",
          "data": {
            "text/plain": [
              "      2n Cycle  Basic  Graduation  Master  PhD\n",
              "0            0      0           1       0    0\n",
              "1            0      0           1       0    0\n",
              "2            0      0           1       0    0\n",
              "3            0      0           1       0    0\n",
              "4            0      0           0       0    1\n",
              "...        ...    ...         ...     ...  ...\n",
              "2053         0      0           1       0    0\n",
              "2054         0      0           1       0    0\n",
              "2055         0      0           1       0    0\n",
              "2056         0      0           0       1    0\n",
              "2057         0      0           0       0    1\n",
              "\n",
              "[2058 rows x 5 columns]"
            ],
            "text/html": [
              "\n",
              "  <div id=\"df-49c42a98-25c6-4d0e-b5e1-61c109ada4b2\">\n",
              "    <div class=\"colab-df-container\">\n",
              "      <div>\n",
              "<style scoped>\n",
              "    .dataframe tbody tr th:only-of-type {\n",
              "        vertical-align: middle;\n",
              "    }\n",
              "\n",
              "    .dataframe tbody tr th {\n",
              "        vertical-align: top;\n",
              "    }\n",
              "\n",
              "    .dataframe thead th {\n",
              "        text-align: right;\n",
              "    }\n",
              "</style>\n",
              "<table border=\"1\" class=\"dataframe\">\n",
              "  <thead>\n",
              "    <tr style=\"text-align: right;\">\n",
              "      <th></th>\n",
              "      <th>2n Cycle</th>\n",
              "      <th>Basic</th>\n",
              "      <th>Graduation</th>\n",
              "      <th>Master</th>\n",
              "      <th>PhD</th>\n",
              "    </tr>\n",
              "  </thead>\n",
              "  <tbody>\n",
              "    <tr>\n",
              "      <th>0</th>\n",
              "      <td>0</td>\n",
              "      <td>0</td>\n",
              "      <td>1</td>\n",
              "      <td>0</td>\n",
              "      <td>0</td>\n",
              "    </tr>\n",
              "    <tr>\n",
              "      <th>1</th>\n",
              "      <td>0</td>\n",
              "      <td>0</td>\n",
              "      <td>1</td>\n",
              "      <td>0</td>\n",
              "      <td>0</td>\n",
              "    </tr>\n",
              "    <tr>\n",
              "      <th>2</th>\n",
              "      <td>0</td>\n",
              "      <td>0</td>\n",
              "      <td>1</td>\n",
              "      <td>0</td>\n",
              "      <td>0</td>\n",
              "    </tr>\n",
              "    <tr>\n",
              "      <th>3</th>\n",
              "      <td>0</td>\n",
              "      <td>0</td>\n",
              "      <td>1</td>\n",
              "      <td>0</td>\n",
              "      <td>0</td>\n",
              "    </tr>\n",
              "    <tr>\n",
              "      <th>4</th>\n",
              "      <td>0</td>\n",
              "      <td>0</td>\n",
              "      <td>0</td>\n",
              "      <td>0</td>\n",
              "      <td>1</td>\n",
              "    </tr>\n",
              "    <tr>\n",
              "      <th>...</th>\n",
              "      <td>...</td>\n",
              "      <td>...</td>\n",
              "      <td>...</td>\n",
              "      <td>...</td>\n",
              "      <td>...</td>\n",
              "    </tr>\n",
              "    <tr>\n",
              "      <th>2053</th>\n",
              "      <td>0</td>\n",
              "      <td>0</td>\n",
              "      <td>1</td>\n",
              "      <td>0</td>\n",
              "      <td>0</td>\n",
              "    </tr>\n",
              "    <tr>\n",
              "      <th>2054</th>\n",
              "      <td>0</td>\n",
              "      <td>0</td>\n",
              "      <td>1</td>\n",
              "      <td>0</td>\n",
              "      <td>0</td>\n",
              "    </tr>\n",
              "    <tr>\n",
              "      <th>2055</th>\n",
              "      <td>0</td>\n",
              "      <td>0</td>\n",
              "      <td>1</td>\n",
              "      <td>0</td>\n",
              "      <td>0</td>\n",
              "    </tr>\n",
              "    <tr>\n",
              "      <th>2056</th>\n",
              "      <td>0</td>\n",
              "      <td>0</td>\n",
              "      <td>0</td>\n",
              "      <td>1</td>\n",
              "      <td>0</td>\n",
              "    </tr>\n",
              "    <tr>\n",
              "      <th>2057</th>\n",
              "      <td>0</td>\n",
              "      <td>0</td>\n",
              "      <td>0</td>\n",
              "      <td>0</td>\n",
              "      <td>1</td>\n",
              "    </tr>\n",
              "  </tbody>\n",
              "</table>\n",
              "<p>2058 rows × 5 columns</p>\n",
              "</div>\n",
              "      <button class=\"colab-df-convert\" onclick=\"convertToInteractive('df-49c42a98-25c6-4d0e-b5e1-61c109ada4b2')\"\n",
              "              title=\"Convert this dataframe to an interactive table.\"\n",
              "              style=\"display:none;\">\n",
              "        \n",
              "  <svg xmlns=\"http://www.w3.org/2000/svg\" height=\"24px\"viewBox=\"0 0 24 24\"\n",
              "       width=\"24px\">\n",
              "    <path d=\"M0 0h24v24H0V0z\" fill=\"none\"/>\n",
              "    <path d=\"M18.56 5.44l.94 2.06.94-2.06 2.06-.94-2.06-.94-.94-2.06-.94 2.06-2.06.94zm-11 1L8.5 8.5l.94-2.06 2.06-.94-2.06-.94L8.5 2.5l-.94 2.06-2.06.94zm10 10l.94 2.06.94-2.06 2.06-.94-2.06-.94-.94-2.06-.94 2.06-2.06.94z\"/><path d=\"M17.41 7.96l-1.37-1.37c-.4-.4-.92-.59-1.43-.59-.52 0-1.04.2-1.43.59L10.3 9.45l-7.72 7.72c-.78.78-.78 2.05 0 2.83L4 21.41c.39.39.9.59 1.41.59.51 0 1.02-.2 1.41-.59l7.78-7.78 2.81-2.81c.8-.78.8-2.07 0-2.86zM5.41 20L4 18.59l7.72-7.72 1.47 1.35L5.41 20z\"/>\n",
              "  </svg>\n",
              "      </button>\n",
              "      \n",
              "  <style>\n",
              "    .colab-df-container {\n",
              "      display:flex;\n",
              "      flex-wrap:wrap;\n",
              "      gap: 12px;\n",
              "    }\n",
              "\n",
              "    .colab-df-convert {\n",
              "      background-color: #E8F0FE;\n",
              "      border: none;\n",
              "      border-radius: 50%;\n",
              "      cursor: pointer;\n",
              "      display: none;\n",
              "      fill: #1967D2;\n",
              "      height: 32px;\n",
              "      padding: 0 0 0 0;\n",
              "      width: 32px;\n",
              "    }\n",
              "\n",
              "    .colab-df-convert:hover {\n",
              "      background-color: #E2EBFA;\n",
              "      box-shadow: 0px 1px 2px rgba(60, 64, 67, 0.3), 0px 1px 3px 1px rgba(60, 64, 67, 0.15);\n",
              "      fill: #174EA6;\n",
              "    }\n",
              "\n",
              "    [theme=dark] .colab-df-convert {\n",
              "      background-color: #3B4455;\n",
              "      fill: #D2E3FC;\n",
              "    }\n",
              "\n",
              "    [theme=dark] .colab-df-convert:hover {\n",
              "      background-color: #434B5C;\n",
              "      box-shadow: 0px 1px 3px 1px rgba(0, 0, 0, 0.15);\n",
              "      filter: drop-shadow(0px 1px 2px rgba(0, 0, 0, 0.3));\n",
              "      fill: #FFFFFF;\n",
              "    }\n",
              "  </style>\n",
              "\n",
              "      <script>\n",
              "        const buttonEl =\n",
              "          document.querySelector('#df-49c42a98-25c6-4d0e-b5e1-61c109ada4b2 button.colab-df-convert');\n",
              "        buttonEl.style.display =\n",
              "          google.colab.kernel.accessAllowed ? 'block' : 'none';\n",
              "\n",
              "        async function convertToInteractive(key) {\n",
              "          const element = document.querySelector('#df-49c42a98-25c6-4d0e-b5e1-61c109ada4b2');\n",
              "          const dataTable =\n",
              "            await google.colab.kernel.invokeFunction('convertToInteractive',\n",
              "                                                     [key], {});\n",
              "          if (!dataTable) return;\n",
              "\n",
              "          const docLinkHtml = 'Like what you see? Visit the ' +\n",
              "            '<a target=\"_blank\" href=https://colab.research.google.com/notebooks/data_table.ipynb>data table notebook</a>'\n",
              "            + ' to learn more about interactive tables.';\n",
              "          element.innerHTML = '';\n",
              "          dataTable['output_type'] = 'display_data';\n",
              "          await google.colab.output.renderOutput(dataTable, element);\n",
              "          const docLink = document.createElement('div');\n",
              "          docLink.innerHTML = docLinkHtml;\n",
              "          element.appendChild(docLink);\n",
              "        }\n",
              "      </script>\n",
              "    </div>\n",
              "  </div>\n",
              "  "
            ]
          },
          "metadata": {},
          "execution_count": 44
        }
      ]
    },
    {
      "cell_type": "code",
      "source": [
        "# transform Education column into new column (is_Education)\n",
        "mr_data['Education'].apply(lambda x: 1 if x == \"Education\" else 0)"
      ],
      "metadata": {
        "colab": {
          "base_uri": "https://localhost:8080/"
        },
        "id": "Td5mrUCJKFnq",
        "outputId": "a12e8360-a67b-4ad1-91d7-b087545229f6"
      },
      "execution_count": 45,
      "outputs": [
        {
          "output_type": "execute_result",
          "data": {
            "text/plain": [
              "0       0\n",
              "1       0\n",
              "2       0\n",
              "3       0\n",
              "4       0\n",
              "       ..\n",
              "2053    0\n",
              "2054    0\n",
              "2055    0\n",
              "2056    0\n",
              "2057    0\n",
              "Name: Education, Length: 2058, dtype: int64"
            ]
          },
          "metadata": {},
          "execution_count": 45
        }
      ]
    },
    {
      "cell_type": "code",
      "source": [
        "# let's use dummy variables by eliminating Non Easter feature\n",
        "dummy_var = pd.get_dummies(mr_data['Education'])[['2n Cycle', 'Basic', 'Graduation',\t'Master', 'PhD']]\n",
        "# check dummy_var\n",
        "dummy_var"
      ],
      "metadata": {
        "colab": {
          "base_uri": "https://localhost:8080/",
          "height": 423
        },
        "id": "5wL9A90DKU37",
        "outputId": "5bb4dca5-55db-4c7e-e482-972bb7b2ff20"
      },
      "execution_count": 67,
      "outputs": [
        {
          "output_type": "execute_result",
          "data": {
            "text/plain": [
              "      2n Cycle  Basic  Graduation  Master  PhD\n",
              "0            0      0           1       0    0\n",
              "1            0      0           1       0    0\n",
              "2            0      0           1       0    0\n",
              "3            0      0           1       0    0\n",
              "4            0      0           0       0    1\n",
              "...        ...    ...         ...     ...  ...\n",
              "2053         0      0           1       0    0\n",
              "2054         0      0           1       0    0\n",
              "2055         0      0           1       0    0\n",
              "2056         0      0           0       1    0\n",
              "2057         0      0           0       0    1\n",
              "\n",
              "[2058 rows x 5 columns]"
            ],
            "text/html": [
              "\n",
              "  <div id=\"df-aef3287f-c75a-4209-85eb-e341da7505c7\">\n",
              "    <div class=\"colab-df-container\">\n",
              "      <div>\n",
              "<style scoped>\n",
              "    .dataframe tbody tr th:only-of-type {\n",
              "        vertical-align: middle;\n",
              "    }\n",
              "\n",
              "    .dataframe tbody tr th {\n",
              "        vertical-align: top;\n",
              "    }\n",
              "\n",
              "    .dataframe thead th {\n",
              "        text-align: right;\n",
              "    }\n",
              "</style>\n",
              "<table border=\"1\" class=\"dataframe\">\n",
              "  <thead>\n",
              "    <tr style=\"text-align: right;\">\n",
              "      <th></th>\n",
              "      <th>2n Cycle</th>\n",
              "      <th>Basic</th>\n",
              "      <th>Graduation</th>\n",
              "      <th>Master</th>\n",
              "      <th>PhD</th>\n",
              "    </tr>\n",
              "  </thead>\n",
              "  <tbody>\n",
              "    <tr>\n",
              "      <th>0</th>\n",
              "      <td>0</td>\n",
              "      <td>0</td>\n",
              "      <td>1</td>\n",
              "      <td>0</td>\n",
              "      <td>0</td>\n",
              "    </tr>\n",
              "    <tr>\n",
              "      <th>1</th>\n",
              "      <td>0</td>\n",
              "      <td>0</td>\n",
              "      <td>1</td>\n",
              "      <td>0</td>\n",
              "      <td>0</td>\n",
              "    </tr>\n",
              "    <tr>\n",
              "      <th>2</th>\n",
              "      <td>0</td>\n",
              "      <td>0</td>\n",
              "      <td>1</td>\n",
              "      <td>0</td>\n",
              "      <td>0</td>\n",
              "    </tr>\n",
              "    <tr>\n",
              "      <th>3</th>\n",
              "      <td>0</td>\n",
              "      <td>0</td>\n",
              "      <td>1</td>\n",
              "      <td>0</td>\n",
              "      <td>0</td>\n",
              "    </tr>\n",
              "    <tr>\n",
              "      <th>4</th>\n",
              "      <td>0</td>\n",
              "      <td>0</td>\n",
              "      <td>0</td>\n",
              "      <td>0</td>\n",
              "      <td>1</td>\n",
              "    </tr>\n",
              "    <tr>\n",
              "      <th>...</th>\n",
              "      <td>...</td>\n",
              "      <td>...</td>\n",
              "      <td>...</td>\n",
              "      <td>...</td>\n",
              "      <td>...</td>\n",
              "    </tr>\n",
              "    <tr>\n",
              "      <th>2053</th>\n",
              "      <td>0</td>\n",
              "      <td>0</td>\n",
              "      <td>1</td>\n",
              "      <td>0</td>\n",
              "      <td>0</td>\n",
              "    </tr>\n",
              "    <tr>\n",
              "      <th>2054</th>\n",
              "      <td>0</td>\n",
              "      <td>0</td>\n",
              "      <td>1</td>\n",
              "      <td>0</td>\n",
              "      <td>0</td>\n",
              "    </tr>\n",
              "    <tr>\n",
              "      <th>2055</th>\n",
              "      <td>0</td>\n",
              "      <td>0</td>\n",
              "      <td>1</td>\n",
              "      <td>0</td>\n",
              "      <td>0</td>\n",
              "    </tr>\n",
              "    <tr>\n",
              "      <th>2056</th>\n",
              "      <td>0</td>\n",
              "      <td>0</td>\n",
              "      <td>0</td>\n",
              "      <td>1</td>\n",
              "      <td>0</td>\n",
              "    </tr>\n",
              "    <tr>\n",
              "      <th>2057</th>\n",
              "      <td>0</td>\n",
              "      <td>0</td>\n",
              "      <td>0</td>\n",
              "      <td>0</td>\n",
              "      <td>1</td>\n",
              "    </tr>\n",
              "  </tbody>\n",
              "</table>\n",
              "<p>2058 rows × 5 columns</p>\n",
              "</div>\n",
              "      <button class=\"colab-df-convert\" onclick=\"convertToInteractive('df-aef3287f-c75a-4209-85eb-e341da7505c7')\"\n",
              "              title=\"Convert this dataframe to an interactive table.\"\n",
              "              style=\"display:none;\">\n",
              "        \n",
              "  <svg xmlns=\"http://www.w3.org/2000/svg\" height=\"24px\"viewBox=\"0 0 24 24\"\n",
              "       width=\"24px\">\n",
              "    <path d=\"M0 0h24v24H0V0z\" fill=\"none\"/>\n",
              "    <path d=\"M18.56 5.44l.94 2.06.94-2.06 2.06-.94-2.06-.94-.94-2.06-.94 2.06-2.06.94zm-11 1L8.5 8.5l.94-2.06 2.06-.94-2.06-.94L8.5 2.5l-.94 2.06-2.06.94zm10 10l.94 2.06.94-2.06 2.06-.94-2.06-.94-.94-2.06-.94 2.06-2.06.94z\"/><path d=\"M17.41 7.96l-1.37-1.37c-.4-.4-.92-.59-1.43-.59-.52 0-1.04.2-1.43.59L10.3 9.45l-7.72 7.72c-.78.78-.78 2.05 0 2.83L4 21.41c.39.39.9.59 1.41.59.51 0 1.02-.2 1.41-.59l7.78-7.78 2.81-2.81c.8-.78.8-2.07 0-2.86zM5.41 20L4 18.59l7.72-7.72 1.47 1.35L5.41 20z\"/>\n",
              "  </svg>\n",
              "      </button>\n",
              "      \n",
              "  <style>\n",
              "    .colab-df-container {\n",
              "      display:flex;\n",
              "      flex-wrap:wrap;\n",
              "      gap: 12px;\n",
              "    }\n",
              "\n",
              "    .colab-df-convert {\n",
              "      background-color: #E8F0FE;\n",
              "      border: none;\n",
              "      border-radius: 50%;\n",
              "      cursor: pointer;\n",
              "      display: none;\n",
              "      fill: #1967D2;\n",
              "      height: 32px;\n",
              "      padding: 0 0 0 0;\n",
              "      width: 32px;\n",
              "    }\n",
              "\n",
              "    .colab-df-convert:hover {\n",
              "      background-color: #E2EBFA;\n",
              "      box-shadow: 0px 1px 2px rgba(60, 64, 67, 0.3), 0px 1px 3px 1px rgba(60, 64, 67, 0.15);\n",
              "      fill: #174EA6;\n",
              "    }\n",
              "\n",
              "    [theme=dark] .colab-df-convert {\n",
              "      background-color: #3B4455;\n",
              "      fill: #D2E3FC;\n",
              "    }\n",
              "\n",
              "    [theme=dark] .colab-df-convert:hover {\n",
              "      background-color: #434B5C;\n",
              "      box-shadow: 0px 1px 3px 1px rgba(0, 0, 0, 0.15);\n",
              "      filter: drop-shadow(0px 1px 2px rgba(0, 0, 0, 0.3));\n",
              "      fill: #FFFFFF;\n",
              "    }\n",
              "  </style>\n",
              "\n",
              "      <script>\n",
              "        const buttonEl =\n",
              "          document.querySelector('#df-aef3287f-c75a-4209-85eb-e341da7505c7 button.colab-df-convert');\n",
              "        buttonEl.style.display =\n",
              "          google.colab.kernel.accessAllowed ? 'block' : 'none';\n",
              "\n",
              "        async function convertToInteractive(key) {\n",
              "          const element = document.querySelector('#df-aef3287f-c75a-4209-85eb-e341da7505c7');\n",
              "          const dataTable =\n",
              "            await google.colab.kernel.invokeFunction('convertToInteractive',\n",
              "                                                     [key], {});\n",
              "          if (!dataTable) return;\n",
              "\n",
              "          const docLinkHtml = 'Like what you see? Visit the ' +\n",
              "            '<a target=\"_blank\" href=https://colab.research.google.com/notebooks/data_table.ipynb>data table notebook</a>'\n",
              "            + ' to learn more about interactive tables.';\n",
              "          element.innerHTML = '';\n",
              "          dataTable['output_type'] = 'display_data';\n",
              "          await google.colab.output.renderOutput(dataTable, element);\n",
              "          const docLink = document.createElement('div');\n",
              "          docLink.innerHTML = docLinkHtml;\n",
              "          element.appendChild(docLink);\n",
              "        }\n",
              "      </script>\n",
              "    </div>\n",
              "  </div>\n",
              "  "
            ]
          },
          "metadata": {},
          "execution_count": 67
        }
      ]
    },
    {
      "cell_type": "code",
      "source": [
        "market_sampel_data = pd.concat([mr_data, dummy_var], axis = 1)\n",
        "\n",
        "# check eggs_sales_data after data binding\n",
        "market_sampel_data.head()"
      ],
      "metadata": {
        "colab": {
          "base_uri": "https://localhost:8080/",
          "height": 235
        },
        "id": "apnh-yPkK7b9",
        "outputId": "f1e0dd1a-81fb-402c-83c1-eaf8705d249d"
      },
      "execution_count": 162,
      "outputs": [
        {
          "output_type": "execute_result",
          "data": {
            "text/plain": [
              "    Education Marital_Status   Income  Kidhome  Teenhome  Recency  MntWines  \\\n",
              "0  Graduation         Single  58138.0        0         0       58       635   \n",
              "1  Graduation         Single  46344.0        1         1       38        11   \n",
              "2  Graduation       Together  71613.0        0         0       26       426   \n",
              "3  Graduation       Together  26646.0        1         0       26        11   \n",
              "4         PhD        Married  58293.0        1         0       94       173   \n",
              "\n",
              "   MntFruits  MntMeatProducts  MntFishProducts  ...  AcceptedCmp5  \\\n",
              "0         88              546              172  ...             0   \n",
              "1          1                6                2  ...             0   \n",
              "2         49              127              111  ...             0   \n",
              "3          4               20               10  ...             0   \n",
              "4         43              118               46  ...             0   \n",
              "\n",
              "   AcceptedCmp1  AcceptedCmp2  Complain  Response  2n Cycle  Basic  \\\n",
              "0             0             0         0         1         0      0   \n",
              "1             0             0         0         0         0      0   \n",
              "2             0             0         0         0         0      0   \n",
              "3             0             0         0         0         0      0   \n",
              "4             0             0         0         0         0      0   \n",
              "\n",
              "   Graduation  Master  PhD  \n",
              "0           1       0    0  \n",
              "1           1       0    0  \n",
              "2           1       0    0  \n",
              "3           1       0    0  \n",
              "4           0       0    1  \n",
              "\n",
              "[5 rows x 28 columns]"
            ],
            "text/html": [
              "\n",
              "  <div id=\"df-ca901bba-40c5-4dd1-a8e9-a008238bb8ec\">\n",
              "    <div class=\"colab-df-container\">\n",
              "      <div>\n",
              "<style scoped>\n",
              "    .dataframe tbody tr th:only-of-type {\n",
              "        vertical-align: middle;\n",
              "    }\n",
              "\n",
              "    .dataframe tbody tr th {\n",
              "        vertical-align: top;\n",
              "    }\n",
              "\n",
              "    .dataframe thead th {\n",
              "        text-align: right;\n",
              "    }\n",
              "</style>\n",
              "<table border=\"1\" class=\"dataframe\">\n",
              "  <thead>\n",
              "    <tr style=\"text-align: right;\">\n",
              "      <th></th>\n",
              "      <th>Education</th>\n",
              "      <th>Marital_Status</th>\n",
              "      <th>Income</th>\n",
              "      <th>Kidhome</th>\n",
              "      <th>Teenhome</th>\n",
              "      <th>Recency</th>\n",
              "      <th>MntWines</th>\n",
              "      <th>MntFruits</th>\n",
              "      <th>MntMeatProducts</th>\n",
              "      <th>MntFishProducts</th>\n",
              "      <th>...</th>\n",
              "      <th>AcceptedCmp5</th>\n",
              "      <th>AcceptedCmp1</th>\n",
              "      <th>AcceptedCmp2</th>\n",
              "      <th>Complain</th>\n",
              "      <th>Response</th>\n",
              "      <th>2n Cycle</th>\n",
              "      <th>Basic</th>\n",
              "      <th>Graduation</th>\n",
              "      <th>Master</th>\n",
              "      <th>PhD</th>\n",
              "    </tr>\n",
              "  </thead>\n",
              "  <tbody>\n",
              "    <tr>\n",
              "      <th>0</th>\n",
              "      <td>Graduation</td>\n",
              "      <td>Single</td>\n",
              "      <td>58138.0</td>\n",
              "      <td>0</td>\n",
              "      <td>0</td>\n",
              "      <td>58</td>\n",
              "      <td>635</td>\n",
              "      <td>88</td>\n",
              "      <td>546</td>\n",
              "      <td>172</td>\n",
              "      <td>...</td>\n",
              "      <td>0</td>\n",
              "      <td>0</td>\n",
              "      <td>0</td>\n",
              "      <td>0</td>\n",
              "      <td>1</td>\n",
              "      <td>0</td>\n",
              "      <td>0</td>\n",
              "      <td>1</td>\n",
              "      <td>0</td>\n",
              "      <td>0</td>\n",
              "    </tr>\n",
              "    <tr>\n",
              "      <th>1</th>\n",
              "      <td>Graduation</td>\n",
              "      <td>Single</td>\n",
              "      <td>46344.0</td>\n",
              "      <td>1</td>\n",
              "      <td>1</td>\n",
              "      <td>38</td>\n",
              "      <td>11</td>\n",
              "      <td>1</td>\n",
              "      <td>6</td>\n",
              "      <td>2</td>\n",
              "      <td>...</td>\n",
              "      <td>0</td>\n",
              "      <td>0</td>\n",
              "      <td>0</td>\n",
              "      <td>0</td>\n",
              "      <td>0</td>\n",
              "      <td>0</td>\n",
              "      <td>0</td>\n",
              "      <td>1</td>\n",
              "      <td>0</td>\n",
              "      <td>0</td>\n",
              "    </tr>\n",
              "    <tr>\n",
              "      <th>2</th>\n",
              "      <td>Graduation</td>\n",
              "      <td>Together</td>\n",
              "      <td>71613.0</td>\n",
              "      <td>0</td>\n",
              "      <td>0</td>\n",
              "      <td>26</td>\n",
              "      <td>426</td>\n",
              "      <td>49</td>\n",
              "      <td>127</td>\n",
              "      <td>111</td>\n",
              "      <td>...</td>\n",
              "      <td>0</td>\n",
              "      <td>0</td>\n",
              "      <td>0</td>\n",
              "      <td>0</td>\n",
              "      <td>0</td>\n",
              "      <td>0</td>\n",
              "      <td>0</td>\n",
              "      <td>1</td>\n",
              "      <td>0</td>\n",
              "      <td>0</td>\n",
              "    </tr>\n",
              "    <tr>\n",
              "      <th>3</th>\n",
              "      <td>Graduation</td>\n",
              "      <td>Together</td>\n",
              "      <td>26646.0</td>\n",
              "      <td>1</td>\n",
              "      <td>0</td>\n",
              "      <td>26</td>\n",
              "      <td>11</td>\n",
              "      <td>4</td>\n",
              "      <td>20</td>\n",
              "      <td>10</td>\n",
              "      <td>...</td>\n",
              "      <td>0</td>\n",
              "      <td>0</td>\n",
              "      <td>0</td>\n",
              "      <td>0</td>\n",
              "      <td>0</td>\n",
              "      <td>0</td>\n",
              "      <td>0</td>\n",
              "      <td>1</td>\n",
              "      <td>0</td>\n",
              "      <td>0</td>\n",
              "    </tr>\n",
              "    <tr>\n",
              "      <th>4</th>\n",
              "      <td>PhD</td>\n",
              "      <td>Married</td>\n",
              "      <td>58293.0</td>\n",
              "      <td>1</td>\n",
              "      <td>0</td>\n",
              "      <td>94</td>\n",
              "      <td>173</td>\n",
              "      <td>43</td>\n",
              "      <td>118</td>\n",
              "      <td>46</td>\n",
              "      <td>...</td>\n",
              "      <td>0</td>\n",
              "      <td>0</td>\n",
              "      <td>0</td>\n",
              "      <td>0</td>\n",
              "      <td>0</td>\n",
              "      <td>0</td>\n",
              "      <td>0</td>\n",
              "      <td>0</td>\n",
              "      <td>0</td>\n",
              "      <td>1</td>\n",
              "    </tr>\n",
              "  </tbody>\n",
              "</table>\n",
              "<p>5 rows × 28 columns</p>\n",
              "</div>\n",
              "      <button class=\"colab-df-convert\" onclick=\"convertToInteractive('df-ca901bba-40c5-4dd1-a8e9-a008238bb8ec')\"\n",
              "              title=\"Convert this dataframe to an interactive table.\"\n",
              "              style=\"display:none;\">\n",
              "        \n",
              "  <svg xmlns=\"http://www.w3.org/2000/svg\" height=\"24px\"viewBox=\"0 0 24 24\"\n",
              "       width=\"24px\">\n",
              "    <path d=\"M0 0h24v24H0V0z\" fill=\"none\"/>\n",
              "    <path d=\"M18.56 5.44l.94 2.06.94-2.06 2.06-.94-2.06-.94-.94-2.06-.94 2.06-2.06.94zm-11 1L8.5 8.5l.94-2.06 2.06-.94-2.06-.94L8.5 2.5l-.94 2.06-2.06.94zm10 10l.94 2.06.94-2.06 2.06-.94-2.06-.94-.94-2.06-.94 2.06-2.06.94z\"/><path d=\"M17.41 7.96l-1.37-1.37c-.4-.4-.92-.59-1.43-.59-.52 0-1.04.2-1.43.59L10.3 9.45l-7.72 7.72c-.78.78-.78 2.05 0 2.83L4 21.41c.39.39.9.59 1.41.59.51 0 1.02-.2 1.41-.59l7.78-7.78 2.81-2.81c.8-.78.8-2.07 0-2.86zM5.41 20L4 18.59l7.72-7.72 1.47 1.35L5.41 20z\"/>\n",
              "  </svg>\n",
              "      </button>\n",
              "      \n",
              "  <style>\n",
              "    .colab-df-container {\n",
              "      display:flex;\n",
              "      flex-wrap:wrap;\n",
              "      gap: 12px;\n",
              "    }\n",
              "\n",
              "    .colab-df-convert {\n",
              "      background-color: #E8F0FE;\n",
              "      border: none;\n",
              "      border-radius: 50%;\n",
              "      cursor: pointer;\n",
              "      display: none;\n",
              "      fill: #1967D2;\n",
              "      height: 32px;\n",
              "      padding: 0 0 0 0;\n",
              "      width: 32px;\n",
              "    }\n",
              "\n",
              "    .colab-df-convert:hover {\n",
              "      background-color: #E2EBFA;\n",
              "      box-shadow: 0px 1px 2px rgba(60, 64, 67, 0.3), 0px 1px 3px 1px rgba(60, 64, 67, 0.15);\n",
              "      fill: #174EA6;\n",
              "    }\n",
              "\n",
              "    [theme=dark] .colab-df-convert {\n",
              "      background-color: #3B4455;\n",
              "      fill: #D2E3FC;\n",
              "    }\n",
              "\n",
              "    [theme=dark] .colab-df-convert:hover {\n",
              "      background-color: #434B5C;\n",
              "      box-shadow: 0px 1px 3px 1px rgba(0, 0, 0, 0.15);\n",
              "      filter: drop-shadow(0px 1px 2px rgba(0, 0, 0, 0.3));\n",
              "      fill: #FFFFFF;\n",
              "    }\n",
              "  </style>\n",
              "\n",
              "      <script>\n",
              "        const buttonEl =\n",
              "          document.querySelector('#df-ca901bba-40c5-4dd1-a8e9-a008238bb8ec button.colab-df-convert');\n",
              "        buttonEl.style.display =\n",
              "          google.colab.kernel.accessAllowed ? 'block' : 'none';\n",
              "\n",
              "        async function convertToInteractive(key) {\n",
              "          const element = document.querySelector('#df-ca901bba-40c5-4dd1-a8e9-a008238bb8ec');\n",
              "          const dataTable =\n",
              "            await google.colab.kernel.invokeFunction('convertToInteractive',\n",
              "                                                     [key], {});\n",
              "          if (!dataTable) return;\n",
              "\n",
              "          const docLinkHtml = 'Like what you see? Visit the ' +\n",
              "            '<a target=\"_blank\" href=https://colab.research.google.com/notebooks/data_table.ipynb>data table notebook</a>'\n",
              "            + ' to learn more about interactive tables.';\n",
              "          element.innerHTML = '';\n",
              "          dataTable['output_type'] = 'display_data';\n",
              "          await google.colab.output.renderOutput(dataTable, element);\n",
              "          const docLink = document.createElement('div');\n",
              "          docLink.innerHTML = docLinkHtml;\n",
              "          element.appendChild(docLink);\n",
              "        }\n",
              "      </script>\n",
              "    </div>\n",
              "  </div>\n",
              "  "
            ]
          },
          "metadata": {},
          "execution_count": 162
        }
      ]
    },
    {
      "cell_type": "code",
      "source": [
        "# drop certain columns\n",
        "market_sampel_data = market_sampel_data.drop(\n",
        "    ['Education', 'Marital_Status'], \n",
        "    axis = 1\n",
        ")\n",
        "market_sampel_data.head(5)"
      ],
      "metadata": {
        "colab": {
          "base_uri": "https://localhost:8080/",
          "height": 235
        },
        "id": "smnDGWlwMW3X",
        "outputId": "dbb36942-75a5-46cf-b3e7-e34193e19577"
      },
      "execution_count": 163,
      "outputs": [
        {
          "output_type": "execute_result",
          "data": {
            "text/plain": [
              "    Income  Kidhome  Teenhome  Recency  MntWines  MntFruits  MntMeatProducts  \\\n",
              "0  58138.0        0         0       58       635         88              546   \n",
              "1  46344.0        1         1       38        11          1                6   \n",
              "2  71613.0        0         0       26       426         49              127   \n",
              "3  26646.0        1         0       26        11          4               20   \n",
              "4  58293.0        1         0       94       173         43              118   \n",
              "\n",
              "   MntFishProducts  MntSweetProducts  MntGoldProds  ...  AcceptedCmp5  \\\n",
              "0              172                88            88  ...             0   \n",
              "1                2                 1             6  ...             0   \n",
              "2              111                21            42  ...             0   \n",
              "3               10                 3             5  ...             0   \n",
              "4               46                27            15  ...             0   \n",
              "\n",
              "   AcceptedCmp1  AcceptedCmp2  Complain  Response  2n Cycle  Basic  \\\n",
              "0             0             0         0         1         0      0   \n",
              "1             0             0         0         0         0      0   \n",
              "2             0             0         0         0         0      0   \n",
              "3             0             0         0         0         0      0   \n",
              "4             0             0         0         0         0      0   \n",
              "\n",
              "   Graduation  Master  PhD  \n",
              "0           1       0    0  \n",
              "1           1       0    0  \n",
              "2           1       0    0  \n",
              "3           1       0    0  \n",
              "4           0       0    1  \n",
              "\n",
              "[5 rows x 26 columns]"
            ],
            "text/html": [
              "\n",
              "  <div id=\"df-7e3a4f5f-2a65-4bfb-9cb8-5f167275b425\">\n",
              "    <div class=\"colab-df-container\">\n",
              "      <div>\n",
              "<style scoped>\n",
              "    .dataframe tbody tr th:only-of-type {\n",
              "        vertical-align: middle;\n",
              "    }\n",
              "\n",
              "    .dataframe tbody tr th {\n",
              "        vertical-align: top;\n",
              "    }\n",
              "\n",
              "    .dataframe thead th {\n",
              "        text-align: right;\n",
              "    }\n",
              "</style>\n",
              "<table border=\"1\" class=\"dataframe\">\n",
              "  <thead>\n",
              "    <tr style=\"text-align: right;\">\n",
              "      <th></th>\n",
              "      <th>Income</th>\n",
              "      <th>Kidhome</th>\n",
              "      <th>Teenhome</th>\n",
              "      <th>Recency</th>\n",
              "      <th>MntWines</th>\n",
              "      <th>MntFruits</th>\n",
              "      <th>MntMeatProducts</th>\n",
              "      <th>MntFishProducts</th>\n",
              "      <th>MntSweetProducts</th>\n",
              "      <th>MntGoldProds</th>\n",
              "      <th>...</th>\n",
              "      <th>AcceptedCmp5</th>\n",
              "      <th>AcceptedCmp1</th>\n",
              "      <th>AcceptedCmp2</th>\n",
              "      <th>Complain</th>\n",
              "      <th>Response</th>\n",
              "      <th>2n Cycle</th>\n",
              "      <th>Basic</th>\n",
              "      <th>Graduation</th>\n",
              "      <th>Master</th>\n",
              "      <th>PhD</th>\n",
              "    </tr>\n",
              "  </thead>\n",
              "  <tbody>\n",
              "    <tr>\n",
              "      <th>0</th>\n",
              "      <td>58138.0</td>\n",
              "      <td>0</td>\n",
              "      <td>0</td>\n",
              "      <td>58</td>\n",
              "      <td>635</td>\n",
              "      <td>88</td>\n",
              "      <td>546</td>\n",
              "      <td>172</td>\n",
              "      <td>88</td>\n",
              "      <td>88</td>\n",
              "      <td>...</td>\n",
              "      <td>0</td>\n",
              "      <td>0</td>\n",
              "      <td>0</td>\n",
              "      <td>0</td>\n",
              "      <td>1</td>\n",
              "      <td>0</td>\n",
              "      <td>0</td>\n",
              "      <td>1</td>\n",
              "      <td>0</td>\n",
              "      <td>0</td>\n",
              "    </tr>\n",
              "    <tr>\n",
              "      <th>1</th>\n",
              "      <td>46344.0</td>\n",
              "      <td>1</td>\n",
              "      <td>1</td>\n",
              "      <td>38</td>\n",
              "      <td>11</td>\n",
              "      <td>1</td>\n",
              "      <td>6</td>\n",
              "      <td>2</td>\n",
              "      <td>1</td>\n",
              "      <td>6</td>\n",
              "      <td>...</td>\n",
              "      <td>0</td>\n",
              "      <td>0</td>\n",
              "      <td>0</td>\n",
              "      <td>0</td>\n",
              "      <td>0</td>\n",
              "      <td>0</td>\n",
              "      <td>0</td>\n",
              "      <td>1</td>\n",
              "      <td>0</td>\n",
              "      <td>0</td>\n",
              "    </tr>\n",
              "    <tr>\n",
              "      <th>2</th>\n",
              "      <td>71613.0</td>\n",
              "      <td>0</td>\n",
              "      <td>0</td>\n",
              "      <td>26</td>\n",
              "      <td>426</td>\n",
              "      <td>49</td>\n",
              "      <td>127</td>\n",
              "      <td>111</td>\n",
              "      <td>21</td>\n",
              "      <td>42</td>\n",
              "      <td>...</td>\n",
              "      <td>0</td>\n",
              "      <td>0</td>\n",
              "      <td>0</td>\n",
              "      <td>0</td>\n",
              "      <td>0</td>\n",
              "      <td>0</td>\n",
              "      <td>0</td>\n",
              "      <td>1</td>\n",
              "      <td>0</td>\n",
              "      <td>0</td>\n",
              "    </tr>\n",
              "    <tr>\n",
              "      <th>3</th>\n",
              "      <td>26646.0</td>\n",
              "      <td>1</td>\n",
              "      <td>0</td>\n",
              "      <td>26</td>\n",
              "      <td>11</td>\n",
              "      <td>4</td>\n",
              "      <td>20</td>\n",
              "      <td>10</td>\n",
              "      <td>3</td>\n",
              "      <td>5</td>\n",
              "      <td>...</td>\n",
              "      <td>0</td>\n",
              "      <td>0</td>\n",
              "      <td>0</td>\n",
              "      <td>0</td>\n",
              "      <td>0</td>\n",
              "      <td>0</td>\n",
              "      <td>0</td>\n",
              "      <td>1</td>\n",
              "      <td>0</td>\n",
              "      <td>0</td>\n",
              "    </tr>\n",
              "    <tr>\n",
              "      <th>4</th>\n",
              "      <td>58293.0</td>\n",
              "      <td>1</td>\n",
              "      <td>0</td>\n",
              "      <td>94</td>\n",
              "      <td>173</td>\n",
              "      <td>43</td>\n",
              "      <td>118</td>\n",
              "      <td>46</td>\n",
              "      <td>27</td>\n",
              "      <td>15</td>\n",
              "      <td>...</td>\n",
              "      <td>0</td>\n",
              "      <td>0</td>\n",
              "      <td>0</td>\n",
              "      <td>0</td>\n",
              "      <td>0</td>\n",
              "      <td>0</td>\n",
              "      <td>0</td>\n",
              "      <td>0</td>\n",
              "      <td>0</td>\n",
              "      <td>1</td>\n",
              "    </tr>\n",
              "  </tbody>\n",
              "</table>\n",
              "<p>5 rows × 26 columns</p>\n",
              "</div>\n",
              "      <button class=\"colab-df-convert\" onclick=\"convertToInteractive('df-7e3a4f5f-2a65-4bfb-9cb8-5f167275b425')\"\n",
              "              title=\"Convert this dataframe to an interactive table.\"\n",
              "              style=\"display:none;\">\n",
              "        \n",
              "  <svg xmlns=\"http://www.w3.org/2000/svg\" height=\"24px\"viewBox=\"0 0 24 24\"\n",
              "       width=\"24px\">\n",
              "    <path d=\"M0 0h24v24H0V0z\" fill=\"none\"/>\n",
              "    <path d=\"M18.56 5.44l.94 2.06.94-2.06 2.06-.94-2.06-.94-.94-2.06-.94 2.06-2.06.94zm-11 1L8.5 8.5l.94-2.06 2.06-.94-2.06-.94L8.5 2.5l-.94 2.06-2.06.94zm10 10l.94 2.06.94-2.06 2.06-.94-2.06-.94-.94-2.06-.94 2.06-2.06.94z\"/><path d=\"M17.41 7.96l-1.37-1.37c-.4-.4-.92-.59-1.43-.59-.52 0-1.04.2-1.43.59L10.3 9.45l-7.72 7.72c-.78.78-.78 2.05 0 2.83L4 21.41c.39.39.9.59 1.41.59.51 0 1.02-.2 1.41-.59l7.78-7.78 2.81-2.81c.8-.78.8-2.07 0-2.86zM5.41 20L4 18.59l7.72-7.72 1.47 1.35L5.41 20z\"/>\n",
              "  </svg>\n",
              "      </button>\n",
              "      \n",
              "  <style>\n",
              "    .colab-df-container {\n",
              "      display:flex;\n",
              "      flex-wrap:wrap;\n",
              "      gap: 12px;\n",
              "    }\n",
              "\n",
              "    .colab-df-convert {\n",
              "      background-color: #E8F0FE;\n",
              "      border: none;\n",
              "      border-radius: 50%;\n",
              "      cursor: pointer;\n",
              "      display: none;\n",
              "      fill: #1967D2;\n",
              "      height: 32px;\n",
              "      padding: 0 0 0 0;\n",
              "      width: 32px;\n",
              "    }\n",
              "\n",
              "    .colab-df-convert:hover {\n",
              "      background-color: #E2EBFA;\n",
              "      box-shadow: 0px 1px 2px rgba(60, 64, 67, 0.3), 0px 1px 3px 1px rgba(60, 64, 67, 0.15);\n",
              "      fill: #174EA6;\n",
              "    }\n",
              "\n",
              "    [theme=dark] .colab-df-convert {\n",
              "      background-color: #3B4455;\n",
              "      fill: #D2E3FC;\n",
              "    }\n",
              "\n",
              "    [theme=dark] .colab-df-convert:hover {\n",
              "      background-color: #434B5C;\n",
              "      box-shadow: 0px 1px 3px 1px rgba(0, 0, 0, 0.15);\n",
              "      filter: drop-shadow(0px 1px 2px rgba(0, 0, 0, 0.3));\n",
              "      fill: #FFFFFF;\n",
              "    }\n",
              "  </style>\n",
              "\n",
              "      <script>\n",
              "        const buttonEl =\n",
              "          document.querySelector('#df-7e3a4f5f-2a65-4bfb-9cb8-5f167275b425 button.colab-df-convert');\n",
              "        buttonEl.style.display =\n",
              "          google.colab.kernel.accessAllowed ? 'block' : 'none';\n",
              "\n",
              "        async function convertToInteractive(key) {\n",
              "          const element = document.querySelector('#df-7e3a4f5f-2a65-4bfb-9cb8-5f167275b425');\n",
              "          const dataTable =\n",
              "            await google.colab.kernel.invokeFunction('convertToInteractive',\n",
              "                                                     [key], {});\n",
              "          if (!dataTable) return;\n",
              "\n",
              "          const docLinkHtml = 'Like what you see? Visit the ' +\n",
              "            '<a target=\"_blank\" href=https://colab.research.google.com/notebooks/data_table.ipynb>data table notebook</a>'\n",
              "            + ' to learn more about interactive tables.';\n",
              "          element.innerHTML = '';\n",
              "          dataTable['output_type'] = 'display_data';\n",
              "          await google.colab.output.renderOutput(dataTable, element);\n",
              "          const docLink = document.createElement('div');\n",
              "          docLink.innerHTML = docLinkHtml;\n",
              "          element.appendChild(docLink);\n",
              "        }\n",
              "      </script>\n",
              "    </div>\n",
              "  </div>\n",
              "  "
            ]
          },
          "metadata": {},
          "execution_count": 163
        }
      ]
    },
    {
      "cell_type": "code",
      "source": [
        "market_sampel_data['Income'] = market_sampel_data['Income'].fillna(0).astype(np.int64).reset_index(drop=True)"
      ],
      "metadata": {
        "id": "DALGuW7sewtl"
      },
      "execution_count": 181,
      "outputs": []
    },
    {
      "cell_type": "code",
      "source": [
        "market_sampel_data.info()"
      ],
      "metadata": {
        "colab": {
          "base_uri": "https://localhost:8080/"
        },
        "id": "LEQomDSUeSAu",
        "outputId": "399079c8-bee5-457d-d4dc-42092d412a0c"
      },
      "execution_count": 182,
      "outputs": [
        {
          "output_type": "stream",
          "name": "stdout",
          "text": [
            "<class 'pandas.core.frame.DataFrame'>\n",
            "RangeIndex: 2058 entries, 0 to 2057\n",
            "Data columns (total 26 columns):\n",
            " #   Column             Non-Null Count  Dtype\n",
            "---  ------             --------------  -----\n",
            " 0   Income             2058 non-null   int64\n",
            " 1   Kidhome            2058 non-null   int64\n",
            " 2   Teenhome           2058 non-null   int64\n",
            " 3   Recency            2058 non-null   int64\n",
            " 4   MntWines           2058 non-null   int64\n",
            " 5   MntFruits          2058 non-null   int64\n",
            " 6   MntMeatProducts    2058 non-null   int64\n",
            " 7   MntFishProducts    2058 non-null   int64\n",
            " 8   MntSweetProducts   2058 non-null   int64\n",
            " 9   MntGoldProds       2058 non-null   int64\n",
            " 10  NumDealsPurchases  2058 non-null   int64\n",
            " 11  NumWebPurchases    2058 non-null   int64\n",
            " 12  NumStorePurchases  2058 non-null   int64\n",
            " 13  NumWebVisitsMonth  2058 non-null   int64\n",
            " 14  AcceptedCmp3       2058 non-null   int64\n",
            " 15  AcceptedCmp4       2058 non-null   int64\n",
            " 16  AcceptedCmp5       2058 non-null   int64\n",
            " 17  AcceptedCmp1       2058 non-null   int64\n",
            " 18  AcceptedCmp2       2058 non-null   int64\n",
            " 19  Complain           2058 non-null   int64\n",
            " 20  Response           2058 non-null   int64\n",
            " 21  2n Cycle           2058 non-null   uint8\n",
            " 22  Basic              2058 non-null   uint8\n",
            " 23  Graduation         2058 non-null   uint8\n",
            " 24  Master             2058 non-null   uint8\n",
            " 25  PhD                2058 non-null   uint8\n",
            "dtypes: int64(21), uint8(5)\n",
            "memory usage: 347.8 KB\n"
          ]
        }
      ]
    },
    {
      "cell_type": "code",
      "source": [
        "# train-test split\n",
        "y = market_sampel_data['Response'].values\n",
        "X = market_sampel_data.drop(['Response'], axis = 1).values"
      ],
      "metadata": {
        "id": "Iwy3vJm8NLk7"
      },
      "execution_count": 183,
      "outputs": []
    },
    {
      "cell_type": "code",
      "source": [
        "y.value_counts"
      ],
      "metadata": {
        "id": "9dkY4QUcgxaU"
      },
      "execution_count": null,
      "outputs": []
    },
    {
      "cell_type": "code",
      "source": [
        "y"
      ],
      "metadata": {
        "colab": {
          "base_uri": "https://localhost:8080/"
        },
        "id": "6k70pnpBWPXk",
        "outputId": "6a80baaf-fb4c-458e-82f0-870d8b154654"
      },
      "execution_count": 184,
      "outputs": [
        {
          "output_type": "execute_result",
          "data": {
            "text/plain": [
              "array([1, 0, 0, ..., 0, 0, 1])"
            ]
          },
          "metadata": {},
          "execution_count": 184
        }
      ]
    },
    {
      "cell_type": "code",
      "source": [
        "X"
      ],
      "metadata": {
        "colab": {
          "base_uri": "https://localhost:8080/"
        },
        "id": "0fxP7sBBWSxh",
        "outputId": "01dbcbb9-9271-4e22-9f77-79a44bca4570"
      },
      "execution_count": 185,
      "outputs": [
        {
          "output_type": "execute_result",
          "data": {
            "text/plain": [
              "array([[58138,     0,     0, ...,     1,     0,     0],\n",
              "       [46344,     1,     1, ...,     1,     0,     0],\n",
              "       [71613,     0,     0, ...,     1,     0,     0],\n",
              "       ...,\n",
              "       [56981,     0,     0, ...,     1,     0,     0],\n",
              "       [69245,     0,     1, ...,     0,     1,     0],\n",
              "       [52869,     1,     1, ...,     0,     0,     1]])"
            ]
          },
          "metadata": {},
          "execution_count": 185
        }
      ]
    },
    {
      "cell_type": "code",
      "source": [
        "X_train, X_test, y_train, y_test = train_test_split(\n",
        "    X,\n",
        "    y,\n",
        "    test_size = 0.3,\n",
        "    random_state = 1000\n",
        ")"
      ],
      "metadata": {
        "id": "mXJXfry9WXSI"
      },
      "execution_count": 186,
      "outputs": []
    },
    {
      "cell_type": "code",
      "source": [
        "X_train.shape"
      ],
      "metadata": {
        "colab": {
          "base_uri": "https://localhost:8080/"
        },
        "id": "yn8YmUnpWZg-",
        "outputId": "0862d6af-8286-4a97-b6eb-86f433fb0899"
      },
      "execution_count": 187,
      "outputs": [
        {
          "output_type": "execute_result",
          "data": {
            "text/plain": [
              "(1440, 25)"
            ]
          },
          "metadata": {},
          "execution_count": 187
        }
      ]
    },
    {
      "cell_type": "code",
      "source": [
        "X_test.shape"
      ],
      "metadata": {
        "colab": {
          "base_uri": "https://localhost:8080/"
        },
        "id": "rpEwomrvWbBg",
        "outputId": "8688f9db-02b2-404e-9b88-d1f07009dcf1"
      },
      "execution_count": 188,
      "outputs": [
        {
          "output_type": "execute_result",
          "data": {
            "text/plain": [
              "(618, 25)"
            ]
          },
          "metadata": {},
          "execution_count": 188
        }
      ]
    },
    {
      "cell_type": "code",
      "source": [
        "y_train.shape"
      ],
      "metadata": {
        "colab": {
          "base_uri": "https://localhost:8080/"
        },
        "id": "NLX4GeqNWdm2",
        "outputId": "50f052b6-21b8-4b19-d302-27508fc06ec0"
      },
      "execution_count": 189,
      "outputs": [
        {
          "output_type": "execute_result",
          "data": {
            "text/plain": [
              "(1440,)"
            ]
          },
          "metadata": {},
          "execution_count": 189
        }
      ]
    },
    {
      "cell_type": "code",
      "source": [
        "y_test.shape"
      ],
      "metadata": {
        "colab": {
          "base_uri": "https://localhost:8080/"
        },
        "id": "fjzpgywlWhHX",
        "outputId": "31a2e648-27b6-465f-9644-9c094d7b5fda"
      },
      "execution_count": 190,
      "outputs": [
        {
          "output_type": "execute_result",
          "data": {
            "text/plain": [
              "(618,)"
            ]
          },
          "metadata": {},
          "execution_count": 190
        }
      ]
    },
    {
      "cell_type": "markdown",
      "source": [
        "Logistic Regression"
      ],
      "metadata": {
        "id": "9fWLvusBWnbl"
      }
    },
    {
      "cell_type": "code",
      "source": [
        "# Modeling\n",
        "X_train_int = sm.add_constant(X_train)\n",
        "linear_reg_sm = sm.OLS(y_train, X_train_int).fit()"
      ],
      "metadata": {
        "id": "omwL4jGiWlA1"
      },
      "execution_count": 191,
      "outputs": []
    },
    {
      "cell_type": "code",
      "source": [
        "from imblearn.under_sampling import RandomUnderSampler\n",
        "undersampling = RandomUnderSampler()\n",
        "X_under, y_under = undersampling.fit_resample(X_train,y_train)"
      ],
      "metadata": {
        "id": "f4cfnbJBYP-J"
      },
      "execution_count": 192,
      "outputs": []
    },
    {
      "cell_type": "markdown",
      "source": [
        "**Modeling using StatsModel**\n",
        "\n",
        "Logit param:\n",
        "```python\n",
        "statsmodels.discrete.discrete_model.Logit(endog, exog, offset=None, check_rank=True, **kwargs)\n",
        "```"
      ],
      "metadata": {
        "id": "46VeX2tsayKU"
      }
    },
    {
      "cell_type": "code",
      "source": [
        "X_train_int = sm.add_constant(X_train)\n",
        "logistic_reg_sm = sm.Logit(y_train, X_train_int).fit()"
      ],
      "metadata": {
        "colab": {
          "base_uri": "https://localhost:8080/"
        },
        "id": "b-WpzQOWeLp_",
        "outputId": "7493f998-d3d4-44b3-c876-7039b7d0c144"
      },
      "execution_count": 193,
      "outputs": [
        {
          "output_type": "stream",
          "name": "stdout",
          "text": [
            "Optimization terminated successfully.\n",
            "         Current function value: 0.276058\n",
            "         Iterations 8\n"
          ]
        }
      ]
    },
    {
      "cell_type": "code",
      "source": [
        "# check summary of model\n",
        "logistic_reg_sm.summary2()"
      ],
      "metadata": {
        "colab": {
          "base_uri": "https://localhost:8080/",
          "height": 768
        },
        "id": "55CztNjKekeY",
        "outputId": "69c11d6f-7773-4b10-c5ab-42e82308f6b1"
      },
      "execution_count": 194,
      "outputs": [
        {
          "output_type": "stream",
          "name": "stderr",
          "text": [
            "/usr/local/lib/python3.7/dist-packages/statsmodels/base/model.py:1286: RuntimeWarning: invalid value encountered in sqrt\n",
            "  bse_ = np.sqrt(np.diag(self.cov_params()))\n"
          ]
        },
        {
          "output_type": "execute_result",
          "data": {
            "text/plain": [
              "<class 'statsmodels.iolib.summary2.Summary'>\n",
              "\"\"\"\n",
              "                         Results: Logit\n",
              "=================================================================\n",
              "Model:              Logit            Pseudo R-squared: 0.345     \n",
              "Dependent Variable: y                AIC:              845.0461  \n",
              "Date:               2022-04-18 16:23 BIC:              976.8560  \n",
              "No. Observations:   1440             Log-Likelihood:   -397.52   \n",
              "Df Model:           24               LL-Null:          -606.96   \n",
              "Df Residuals:       1415             LLR p-value:      9.8827e-74\n",
              "Converged:          1.0000           Scale:            1.0000    \n",
              "No. Iterations:     8.0000                                       \n",
              "-------------------------------------------------------------------\n",
              "           Coef.    Std.Err.      z      P>|z|     [0.025    0.975]\n",
              "-------------------------------------------------------------------\n",
              "const     -2.4629        nan       nan      nan       nan       nan\n",
              "x1         0.0000     0.0000    0.0536   0.9573   -0.0000    0.0000\n",
              "x2        -0.2309     0.2563   -0.9008   0.3677   -0.7333    0.2715\n",
              "x3        -1.0045     0.2320   -4.3299   0.0000   -1.4592   -0.5498\n",
              "x4        -0.0294     0.0036   -8.2406   0.0000   -0.0363   -0.0224\n",
              "x5        -0.0003     0.0004   -0.6445   0.5193   -0.0011    0.0006\n",
              "x6         0.0023     0.0029    0.7782   0.4364   -0.0035    0.0080\n",
              "x7         0.0025     0.0005    4.6789   0.0000    0.0014    0.0035\n",
              "x8        -0.0012     0.0022   -0.5399   0.5893   -0.0055    0.0031\n",
              "x9         0.0030     0.0026    1.1694   0.2422   -0.0020    0.0080\n",
              "x10        0.0028     0.0019    1.4839   0.1378   -0.0009    0.0066\n",
              "x11        0.1662     0.0597    2.7834   0.0054    0.0492    0.2833\n",
              "x12        0.0699     0.0359    1.9451   0.0518   -0.0005    0.1403\n",
              "x13       -0.1205     0.0429   -2.8076   0.0050   -0.2046   -0.0364\n",
              "x14        0.2124     0.0528    4.0213   0.0001    0.1089    0.3159\n",
              "x15        2.0696     0.2735    7.5664   0.0000    1.5335    2.6058\n",
              "x16        0.9507     0.3293    2.8875   0.0039    0.3054    1.5961\n",
              "x17        1.8788     0.3356    5.5975   0.0000    1.2209    2.5367\n",
              "x18        1.2682     0.3434    3.6929   0.0002    0.5951    1.9413\n",
              "x19        1.8246     0.7094    2.5719   0.0101    0.4341    3.2150\n",
              "x20       -0.1684     1.1678   -0.1442   0.8853   -2.4574    2.1205\n",
              "x21       -0.5998        nan       nan      nan       nan       nan\n",
              "x22       -2.2027        nan       nan      nan       nan       nan\n",
              "x23       -0.3975        nan       nan      nan       nan       nan\n",
              "x24        0.2677        nan       nan      nan       nan       nan\n",
              "x25        0.4695        nan       nan      nan       nan       nan\n",
              "=================================================================\n",
              "\n",
              "\"\"\""
            ],
            "text/html": [
              "<table class=\"simpletable\">\n",
              "<tr>\n",
              "        <td>Model:</td>              <td>Logit</td>      <td>Pseudo R-squared:</td>    <td>0.345</td>  \n",
              "</tr>\n",
              "<tr>\n",
              "  <td>Dependent Variable:</td>         <td>y</td>              <td>AIC:</td>         <td>845.0461</td> \n",
              "</tr>\n",
              "<tr>\n",
              "         <td>Date:</td>        <td>2022-04-18 16:23</td>       <td>BIC:</td>         <td>976.8560</td> \n",
              "</tr>\n",
              "<tr>\n",
              "   <td>No. Observations:</td>        <td>1440</td>        <td>Log-Likelihood:</td>    <td>-397.52</td> \n",
              "</tr>\n",
              "<tr>\n",
              "       <td>Df Model:</td>             <td>24</td>            <td>LL-Null:</td>        <td>-606.96</td> \n",
              "</tr>\n",
              "<tr>\n",
              "     <td>Df Residuals:</td>          <td>1415</td>         <td>LLR p-value:</td>    <td>9.8827e-74</td>\n",
              "</tr>\n",
              "<tr>\n",
              "      <td>Converged:</td>           <td>1.0000</td>           <td>Scale:</td>         <td>1.0000</td>  \n",
              "</tr>\n",
              "<tr>\n",
              "    <td>No. Iterations:</td>        <td>8.0000</td>              <td></td>               <td></td>     \n",
              "</tr>\n",
              "</table>\n",
              "<table class=\"simpletable\">\n",
              "<tr>\n",
              "    <td></td>     <th>Coef.</th>  <th>Std.Err.</th>    <th>z</th>     <th>P>|z|</th> <th>[0.025</th>  <th>0.975]</th> \n",
              "</tr>\n",
              "<tr>\n",
              "  <th>const</th> <td>-2.4629</td>    <td>nan</td>     <td>nan</td>     <td>nan</td>    <td>nan</td>     <td>nan</td>  \n",
              "</tr>\n",
              "<tr>\n",
              "  <th>x1</th>    <td>0.0000</td>   <td>0.0000</td>  <td>0.0536</td>  <td>0.9573</td> <td>-0.0000</td> <td>0.0000</td> \n",
              "</tr>\n",
              "<tr>\n",
              "  <th>x2</th>    <td>-0.2309</td>  <td>0.2563</td>  <td>-0.9008</td> <td>0.3677</td> <td>-0.7333</td> <td>0.2715</td> \n",
              "</tr>\n",
              "<tr>\n",
              "  <th>x3</th>    <td>-1.0045</td>  <td>0.2320</td>  <td>-4.3299</td> <td>0.0000</td> <td>-1.4592</td> <td>-0.5498</td>\n",
              "</tr>\n",
              "<tr>\n",
              "  <th>x4</th>    <td>-0.0294</td>  <td>0.0036</td>  <td>-8.2406</td> <td>0.0000</td> <td>-0.0363</td> <td>-0.0224</td>\n",
              "</tr>\n",
              "<tr>\n",
              "  <th>x5</th>    <td>-0.0003</td>  <td>0.0004</td>  <td>-0.6445</td> <td>0.5193</td> <td>-0.0011</td> <td>0.0006</td> \n",
              "</tr>\n",
              "<tr>\n",
              "  <th>x6</th>    <td>0.0023</td>   <td>0.0029</td>  <td>0.7782</td>  <td>0.4364</td> <td>-0.0035</td> <td>0.0080</td> \n",
              "</tr>\n",
              "<tr>\n",
              "  <th>x7</th>    <td>0.0025</td>   <td>0.0005</td>  <td>4.6789</td>  <td>0.0000</td> <td>0.0014</td>  <td>0.0035</td> \n",
              "</tr>\n",
              "<tr>\n",
              "  <th>x8</th>    <td>-0.0012</td>  <td>0.0022</td>  <td>-0.5399</td> <td>0.5893</td> <td>-0.0055</td> <td>0.0031</td> \n",
              "</tr>\n",
              "<tr>\n",
              "  <th>x9</th>    <td>0.0030</td>   <td>0.0026</td>  <td>1.1694</td>  <td>0.2422</td> <td>-0.0020</td> <td>0.0080</td> \n",
              "</tr>\n",
              "<tr>\n",
              "  <th>x10</th>   <td>0.0028</td>   <td>0.0019</td>  <td>1.4839</td>  <td>0.1378</td> <td>-0.0009</td> <td>0.0066</td> \n",
              "</tr>\n",
              "<tr>\n",
              "  <th>x11</th>   <td>0.1662</td>   <td>0.0597</td>  <td>2.7834</td>  <td>0.0054</td> <td>0.0492</td>  <td>0.2833</td> \n",
              "</tr>\n",
              "<tr>\n",
              "  <th>x12</th>   <td>0.0699</td>   <td>0.0359</td>  <td>1.9451</td>  <td>0.0518</td> <td>-0.0005</td> <td>0.1403</td> \n",
              "</tr>\n",
              "<tr>\n",
              "  <th>x13</th>   <td>-0.1205</td>  <td>0.0429</td>  <td>-2.8076</td> <td>0.0050</td> <td>-0.2046</td> <td>-0.0364</td>\n",
              "</tr>\n",
              "<tr>\n",
              "  <th>x14</th>   <td>0.2124</td>   <td>0.0528</td>  <td>4.0213</td>  <td>0.0001</td> <td>0.1089</td>  <td>0.3159</td> \n",
              "</tr>\n",
              "<tr>\n",
              "  <th>x15</th>   <td>2.0696</td>   <td>0.2735</td>  <td>7.5664</td>  <td>0.0000</td> <td>1.5335</td>  <td>2.6058</td> \n",
              "</tr>\n",
              "<tr>\n",
              "  <th>x16</th>   <td>0.9507</td>   <td>0.3293</td>  <td>2.8875</td>  <td>0.0039</td> <td>0.3054</td>  <td>1.5961</td> \n",
              "</tr>\n",
              "<tr>\n",
              "  <th>x17</th>   <td>1.8788</td>   <td>0.3356</td>  <td>5.5975</td>  <td>0.0000</td> <td>1.2209</td>  <td>2.5367</td> \n",
              "</tr>\n",
              "<tr>\n",
              "  <th>x18</th>   <td>1.2682</td>   <td>0.3434</td>  <td>3.6929</td>  <td>0.0002</td> <td>0.5951</td>  <td>1.9413</td> \n",
              "</tr>\n",
              "<tr>\n",
              "  <th>x19</th>   <td>1.8246</td>   <td>0.7094</td>  <td>2.5719</td>  <td>0.0101</td> <td>0.4341</td>  <td>3.2150</td> \n",
              "</tr>\n",
              "<tr>\n",
              "  <th>x20</th>   <td>-0.1684</td>  <td>1.1678</td>  <td>-0.1442</td> <td>0.8853</td> <td>-2.4574</td> <td>2.1205</td> \n",
              "</tr>\n",
              "<tr>\n",
              "  <th>x21</th>   <td>-0.5998</td>    <td>nan</td>     <td>nan</td>     <td>nan</td>    <td>nan</td>     <td>nan</td>  \n",
              "</tr>\n",
              "<tr>\n",
              "  <th>x22</th>   <td>-2.2027</td>    <td>nan</td>     <td>nan</td>     <td>nan</td>    <td>nan</td>     <td>nan</td>  \n",
              "</tr>\n",
              "<tr>\n",
              "  <th>x23</th>   <td>-0.3975</td>    <td>nan</td>     <td>nan</td>     <td>nan</td>    <td>nan</td>     <td>nan</td>  \n",
              "</tr>\n",
              "<tr>\n",
              "  <th>x24</th>   <td>0.2677</td>     <td>nan</td>     <td>nan</td>     <td>nan</td>    <td>nan</td>     <td>nan</td>  \n",
              "</tr>\n",
              "<tr>\n",
              "  <th>x25</th>   <td>0.4695</td>     <td>nan</td>     <td>nan</td>     <td>nan</td>    <td>nan</td>     <td>nan</td>  \n",
              "</tr>\n",
              "</table>"
            ]
          },
          "metadata": {},
          "execution_count": 194
        }
      ]
    },
    {
      "cell_type": "code",
      "source": [
        "# check model coefficient\n",
        "logistic_reg_sm.params"
      ],
      "metadata": {
        "colab": {
          "base_uri": "https://localhost:8080/"
        },
        "id": "s_kzWdU9evaU",
        "outputId": "bc176279-0203-4de5-de3c-02f94dbbfb23"
      },
      "execution_count": 195,
      "outputs": [
        {
          "output_type": "execute_result",
          "data": {
            "text/plain": [
              "array([-2.46290124e+00,  2.06882819e-07, -2.30909643e-01, -1.00453588e+00,\n",
              "       -2.93502648e-02, -2.72127596e-04,  2.28389344e-03,  2.49464436e-03,\n",
              "       -1.19617183e-03,  3.00540514e-03,  2.83215848e-03,  1.66220957e-01,\n",
              "        6.98692623e-02, -1.20463545e-01,  2.12375769e-01,  2.06964430e+00,\n",
              "        9.50736104e-01,  1.87880442e+00,  1.26821999e+00,  1.82456722e+00,\n",
              "       -1.68442889e-01, -5.99846905e-01, -2.20273648e+00, -3.97470884e-01,\n",
              "        2.67689260e-01,  4.69464557e-01])"
            ]
          },
          "metadata": {},
          "execution_count": 195
        }
      ]
    },
    {
      "cell_type": "markdown",
      "source": [
        "LogisticRegression param:\n",
        "```python\n",
        "sklearn.linear_model.LogisticRegression(\n",
        "  penalty='l2', *, dual=False, \n",
        "  tol=0.0001, C=1.0, \n",
        "  fit_intercept=True, intercept_scaling=1, \n",
        "  class_weight=None, random_state=None, \n",
        "  solver='lbfgs', max_iter=100, \n",
        "  multi_class='auto', verbose=0, \n",
        "  warm_start=False, n_jobs=None,\n",
        "  l1_ratio=None\n",
        ")\n",
        "```"
      ],
      "metadata": {
        "id": "ImcRSk1wfqHg"
      }
    },
    {
      "cell_type": "code",
      "source": [
        "# define logistic regression model\n",
        "logistic_reg = LogisticRegression(random_state=1000)\n",
        "# fit model to data\n",
        "logistic_reg.fit(X_train, y_train)"
      ],
      "metadata": {
        "id": "HQnsLDS1e-v3"
      },
      "execution_count": null,
      "outputs": []
    },
    {
      "cell_type": "code",
      "source": [
        "# check model coefficient\n",
        "logistic_reg.coef_"
      ],
      "metadata": {
        "colab": {
          "base_uri": "https://localhost:8080/"
        },
        "id": "iWemiv0NfAnw",
        "outputId": "2f128fa5-5bb7-477b-c58d-c6d6fbd7a4d3"
      },
      "execution_count": 197,
      "outputs": [
        {
          "output_type": "execute_result",
          "data": {
            "text/plain": [
              "array([[-2.99603340e-05, -2.21871535e-04, -2.97745915e-04,\n",
              "        -3.23315453e-02,  1.68726414e-03,  1.14610116e-03,\n",
              "         2.98814385e-03, -3.70953593e-03,  3.35314309e-03,\n",
              "         1.92184592e-03, -7.16271847e-04, -2.16946002e-04,\n",
              "        -1.87980772e-03, -1.75028028e-03,  2.01020136e-04,\n",
              "         1.18400014e-04,  2.28390850e-04,  1.90035555e-04,\n",
              "         5.23995304e-05, -6.09150804e-07, -5.26683787e-05,\n",
              "        -6.31584475e-05, -2.09622967e-04, -3.27852649e-05,\n",
              "         4.40406009e-05]])"
            ]
          },
          "metadata": {},
          "execution_count": 197
        }
      ]
    },
    {
      "cell_type": "code",
      "source": [
        "# check model intercept\n",
        "logistic_reg.intercept_"
      ],
      "metadata": {
        "colab": {
          "base_uri": "https://localhost:8080/"
        },
        "id": "VGEKu5JAfFHt",
        "outputId": "c38bcba4-ec43-4ee9-cbca-05a60eee5178"
      },
      "execution_count": 198,
      "outputs": [
        {
          "output_type": "execute_result",
          "data": {
            "text/plain": [
              "array([-0.0003142])"
            ]
          },
          "metadata": {},
          "execution_count": 198
        }
      ]
    },
    {
      "cell_type": "code",
      "source": [
        "# predict\n",
        "pred_result = logistic_reg.predict(X_test)\n",
        "pred_proba_result = logistic_reg.predict_proba(X_test)"
      ],
      "metadata": {
        "id": "D7jQBfibfSe8"
      },
      "execution_count": 199,
      "outputs": []
    },
    {
      "cell_type": "code",
      "source": [
        "# evaluate model accuracy from statsmodels\n",
        "logistic_reg.score(X_train, y_train)"
      ],
      "metadata": {
        "colab": {
          "base_uri": "https://localhost:8080/"
        },
        "id": "igt-cGHrfV2b",
        "outputId": "e1a126a2-6e90-4be7-ca56-1cbafe4ff85c"
      },
      "execution_count": 200,
      "outputs": [
        {
          "output_type": "execute_result",
          "data": {
            "text/plain": [
              "0.8569444444444444"
            ]
          },
          "metadata": {},
          "execution_count": 200
        }
      ]
    },
    {
      "cell_type": "code",
      "source": [
        "# check model accuracy\n",
        "metrics.accuracy_score(y_test, pred_result)"
      ],
      "metadata": {
        "colab": {
          "base_uri": "https://localhost:8080/"
        },
        "id": "W9DJJ-vufcqD",
        "outputId": "e3266537-3aab-4306-b92a-955f61c5b29b"
      },
      "execution_count": 201,
      "outputs": [
        {
          "output_type": "execute_result",
          "data": {
            "text/plain": [
              "0.843042071197411"
            ]
          },
          "metadata": {},
          "execution_count": 201
        }
      ]
    },
    {
      "cell_type": "code",
      "source": [
        "# check confusion matrix\n",
        "metrics.confusion_matrix(y_test, pred_result)"
      ],
      "metadata": {
        "colab": {
          "base_uri": "https://localhost:8080/"
        },
        "id": "k_ijWgbYQfO4",
        "outputId": "5e712c90-2781-4754-f015-81a80d29a263"
      },
      "execution_count": 202,
      "outputs": [
        {
          "output_type": "execute_result",
          "data": {
            "text/plain": [
              "array([[507,  13],\n",
              "       [ 84,  14]])"
            ]
          },
          "metadata": {},
          "execution_count": 202
        }
      ]
    },
    {
      "cell_type": "code",
      "source": [
        "# plot confusion matrix using scikit-learn module\n",
        "metrics.plot_confusion_matrix(logistic_reg, X_test, y_test);  "
      ],
      "metadata": {
        "colab": {
          "base_uri": "https://localhost:8080/",
          "height": 334
        },
        "id": "aOKCTL4NQpxF",
        "outputId": "27b42701-d2e2-4def-c03c-b5c7bcfdd393"
      },
      "execution_count": 203,
      "outputs": [
        {
          "output_type": "stream",
          "name": "stderr",
          "text": [
            "/usr/local/lib/python3.7/dist-packages/sklearn/utils/deprecation.py:87: FutureWarning: Function plot_confusion_matrix is deprecated; Function `plot_confusion_matrix` is deprecated in 1.0 and will be removed in 1.2. Use one of the class methods: ConfusionMatrixDisplay.from_predictions or ConfusionMatrixDisplay.from_estimator.\n",
            "  warnings.warn(msg, category=FutureWarning)\n"
          ]
        },
        {
          "output_type": "display_data",
          "data": {
            "text/plain": [
              "<Figure size 432x288 with 2 Axes>"
            ],
            "image/png": "[encoded data removed]"
          },
          "metadata": {
            "needs_background": "light"
          }
        }
      ]
    },
    {
      "cell_type": "code",
      "source": [
        "# visualize confusion matrix using scikit-plot\n",
        "skplt.metrics.plot_confusion_matrix(y_test, pred_result);"
      ],
      "metadata": {
        "colab": {
          "base_uri": "https://localhost:8080/",
          "height": 295
        },
        "id": "ohBmWm1kRETi",
        "outputId": "c47220df-789b-4de9-b9a5-3c54ffa701f8"
      },
      "execution_count": 204,
      "outputs": [
        {
          "output_type": "display_data",
          "data": {
            "text/plain": [
              "<Figure size 432x288 with 2 Axes>"
            ],
            "image/png": "[encoded data removed]"
          },
          "metadata": {
            "needs_background": "light"
          }
        }
      ]
    },
    {
      "cell_type": "markdown",
      "source": [
        "##### [METRIC MODEL EVALUATION] #####\n",
        "\n",
        "Ketepatan Model Memprediksi : 0.84\n",
        "\n",
        "[Matrix Confusion]\n",
        "customer positif yang merespon campaign yang diprediksi Benar oleh Model sejumlah 507\n",
        "customer positif yang merespon campaign yang diprediksi Salah oleh Model sejumlah 13\n",
        "customer Negatif yang merespon campaign yang diprediksi Benar oleh Model sejumlah 84\n",
        "Donatur Negatif yang merespon campaign yang diprediksi Salah oleh Model sejumlah 14\n",
        "\n",
        "Nilai Recall sebesar 0.14285714285714285\n",
        "\n",
        "Nilai F1 Score sebesar 0.22399999999999998 "
      ],
      "metadata": {
        "id": "MhdTnrWZdWez"
      }
    },
    {
      "cell_type": "code",
      "source": [
        "# check model precision\n",
        "metrics.precision_score(y_test, pred_result)"
      ],
      "metadata": {
        "colab": {
          "base_uri": "https://localhost:8080/"
        },
        "id": "VDFwNmg4RUB3",
        "outputId": "ba0d1f9b-8e46-4cbd-d1f8-a78a9073778e"
      },
      "execution_count": 205,
      "outputs": [
        {
          "output_type": "execute_result",
          "data": {
            "text/plain": [
              "0.5185185185185185"
            ]
          },
          "metadata": {},
          "execution_count": 205
        }
      ]
    },
    {
      "cell_type": "code",
      "source": [
        "# check model recall\n",
        "metrics.recall_score(y_test, pred_result)"
      ],
      "metadata": {
        "colab": {
          "base_uri": "https://localhost:8080/"
        },
        "id": "1l485UO9Ra8q",
        "outputId": "9beb3435-dc73-4d79-ede9-7b1ef1481c0b"
      },
      "execution_count": 206,
      "outputs": [
        {
          "output_type": "execute_result",
          "data": {
            "text/plain": [
              "0.14285714285714285"
            ]
          },
          "metadata": {},
          "execution_count": 206
        }
      ]
    },
    {
      "cell_type": "code",
      "source": [
        "# check f1_score\n",
        "metrics.f1_score(y_test, pred_result)"
      ],
      "metadata": {
        "colab": {
          "base_uri": "https://localhost:8080/"
        },
        "id": "hJHmmk1ORe8V",
        "outputId": "971e15da-e794-4be7-bc64-8517d0352bb6"
      },
      "execution_count": 207,
      "outputs": [
        {
          "output_type": "execute_result",
          "data": {
            "text/plain": [
              "0.22399999999999998"
            ]
          },
          "metadata": {},
          "execution_count": 207
        }
      ]
    },
    {
      "cell_type": "code",
      "source": [
        "# create classification report\n",
        "pd.DataFrame(metrics.classification_report(y_test, pred_result, target_names=['0','1'], output_dict=True))"
      ],
      "metadata": {
        "colab": {
          "base_uri": "https://localhost:8080/",
          "height": 174
        },
        "id": "ibWBxBnXRhBi",
        "outputId": "51b90330-610c-48cf-ef87-2b13af3283fe"
      },
      "execution_count": 208,
      "outputs": [
        {
          "output_type": "execute_result",
          "data": {
            "text/plain": [
              "                    0          1  accuracy   macro avg  weighted avg\n",
              "precision    0.857868   0.518519  0.843042    0.688193      0.804055\n",
              "recall       0.975000   0.142857  0.843042    0.558929      0.843042\n",
              "f1-score     0.912691   0.224000  0.843042    0.568346      0.803481\n",
              "support    520.000000  98.000000  0.843042  618.000000    618.000000"
            ],
            "text/html": [
              "\n",
              "  <div id=\"df-165e2d63-c1a4-48b2-a765-beb8fd4ac5b0\">\n",
              "    <div class=\"colab-df-container\">\n",
              "      <div>\n",
              "<style scoped>\n",
              "    .dataframe tbody tr th:only-of-type {\n",
              "        vertical-align: middle;\n",
              "    }\n",
              "\n",
              "    .dataframe tbody tr th {\n",
              "        vertical-align: top;\n",
              "    }\n",
              "\n",
              "    .dataframe thead th {\n",
              "        text-align: right;\n",
              "    }\n",
              "</style>\n",
              "<table border=\"1\" class=\"dataframe\">\n",
              "  <thead>\n",
              "    <tr style=\"text-align: right;\">\n",
              "      <th></th>\n",
              "      <th>0</th>\n",
              "      <th>1</th>\n",
              "      <th>accuracy</th>\n",
              "      <th>macro avg</th>\n",
              "      <th>weighted avg</th>\n",
              "    </tr>\n",
              "  </thead>\n",
              "  <tbody>\n",
              "    <tr>\n",
              "      <th>precision</th>\n",
              "      <td>0.857868</td>\n",
              "      <td>0.518519</td>\n",
              "      <td>0.843042</td>\n",
              "      <td>0.688193</td>\n",
              "      <td>0.804055</td>\n",
              "    </tr>\n",
              "    <tr>\n",
              "      <th>recall</th>\n",
              "      <td>0.975000</td>\n",
              "      <td>0.142857</td>\n",
              "      <td>0.843042</td>\n",
              "      <td>0.558929</td>\n",
              "      <td>0.843042</td>\n",
              "    </tr>\n",
              "    <tr>\n",
              "      <th>f1-score</th>\n",
              "      <td>0.912691</td>\n",
              "      <td>0.224000</td>\n",
              "      <td>0.843042</td>\n",
              "      <td>0.568346</td>\n",
              "      <td>0.803481</td>\n",
              "    </tr>\n",
              "    <tr>\n",
              "      <th>support</th>\n",
              "      <td>520.000000</td>\n",
              "      <td>98.000000</td>\n",
              "      <td>0.843042</td>\n",
              "      <td>618.000000</td>\n",
              "      <td>618.000000</td>\n",
              "    </tr>\n",
              "  </tbody>\n",
              "</table>\n",
              "</div>\n",
              "      <button class=\"colab-df-convert\" onclick=\"convertToInteractive('df-165e2d63-c1a4-48b2-a765-beb8fd4ac5b0')\"\n",
              "              title=\"Convert this dataframe to an interactive table.\"\n",
              "              style=\"display:none;\">\n",
              "        \n",
              "  <svg xmlns=\"http://www.w3.org/2000/svg\" height=\"24px\"viewBox=\"0 0 24 24\"\n",
              "       width=\"24px\">\n",
              "    <path d=\"M0 0h24v24H0V0z\" fill=\"none\"/>\n",
              "    <path d=\"M18.56 5.44l.94 2.06.94-2.06 2.06-.94-2.06-.94-.94-2.06-.94 2.06-2.06.94zm-11 1L8.5 8.5l.94-2.06 2.06-.94-2.06-.94L8.5 2.5l-.94 2.06-2.06.94zm10 10l.94 2.06.94-2.06 2.06-.94-2.06-.94-.94-2.06-.94 2.06-2.06.94z\"/><path d=\"M17.41 7.96l-1.37-1.37c-.4-.4-.92-.59-1.43-.59-.52 0-1.04.2-1.43.59L10.3 9.45l-7.72 7.72c-.78.78-.78 2.05 0 2.83L4 21.41c.39.39.9.59 1.41.59.51 0 1.02-.2 1.41-.59l7.78-7.78 2.81-2.81c.8-.78.8-2.07 0-2.86zM5.41 20L4 18.59l7.72-7.72 1.47 1.35L5.41 20z\"/>\n",
              "  </svg>\n",
              "      </button>\n",
              "      \n",
              "  <style>\n",
              "    .colab-df-container {\n",
              "      display:flex;\n",
              "      flex-wrap:wrap;\n",
              "      gap: 12px;\n",
              "    }\n",
              "\n",
              "    .colab-df-convert {\n",
              "      background-color: #E8F0FE;\n",
              "      border: none;\n",
              "      border-radius: 50%;\n",
              "      cursor: pointer;\n",
              "      display: none;\n",
              "      fill: #1967D2;\n",
              "      height: 32px;\n",
              "      padding: 0 0 0 0;\n",
              "      width: 32px;\n",
              "    }\n",
              "\n",
              "    .colab-df-convert:hover {\n",
              "      background-color: #E2EBFA;\n",
              "      box-shadow: 0px 1px 2px rgba(60, 64, 67, 0.3), 0px 1px 3px 1px rgba(60, 64, 67, 0.15);\n",
              "      fill: #174EA6;\n",
              "    }\n",
              "\n",
              "    [theme=dark] .colab-df-convert {\n",
              "      background-color: #3B4455;\n",
              "      fill: #D2E3FC;\n",
              "    }\n",
              "\n",
              "    [theme=dark] .colab-df-convert:hover {\n",
              "      background-color: #434B5C;\n",
              "      box-shadow: 0px 1px 3px 1px rgba(0, 0, 0, 0.15);\n",
              "      filter: drop-shadow(0px 1px 2px rgba(0, 0, 0, 0.3));\n",
              "      fill: #FFFFFF;\n",
              "    }\n",
              "  </style>\n",
              "\n",
              "      <script>\n",
              "        const buttonEl =\n",
              "          document.querySelector('#df-165e2d63-c1a4-48b2-a765-beb8fd4ac5b0 button.colab-df-convert');\n",
              "        buttonEl.style.display =\n",
              "          google.colab.kernel.accessAllowed ? 'block' : 'none';\n",
              "\n",
              "        async function convertToInteractive(key) {\n",
              "          const element = document.querySelector('#df-165e2d63-c1a4-48b2-a765-beb8fd4ac5b0');\n",
              "          const dataTable =\n",
              "            await google.colab.kernel.invokeFunction('convertToInteractive',\n",
              "                                                     [key], {});\n",
              "          if (!dataTable) return;\n",
              "\n",
              "          const docLinkHtml = 'Like what you see? Visit the ' +\n",
              "            '<a target=\"_blank\" href=https://colab.research.google.com/notebooks/data_table.ipynb>data table notebook</a>'\n",
              "            + ' to learn more about interactive tables.';\n",
              "          element.innerHTML = '';\n",
              "          dataTable['output_type'] = 'display_data';\n",
              "          await google.colab.output.renderOutput(dataTable, element);\n",
              "          const docLink = document.createElement('div');\n",
              "          docLink.innerHTML = docLinkHtml;\n",
              "          element.appendChild(docLink);\n",
              "        }\n",
              "      </script>\n",
              "    </div>\n",
              "  </div>\n",
              "  "
            ]
          },
          "metadata": {},
          "execution_count": 208
        }
      ]
    },
    {
      "cell_type": "code",
      "source": [
        "# generate probability prediction\n",
        "pred_proba_result = logistic_reg.predict_proba(X_test)"
      ],
      "metadata": {
        "id": "h9iYDmabSIpr"
      },
      "execution_count": 209,
      "outputs": []
    },
    {
      "cell_type": "code",
      "source": [
        "# check result\n",
        "pd.DataFrame(pred_proba_result).head(10)"
      ],
      "metadata": {
        "colab": {
          "base_uri": "https://localhost:8080/",
          "height": 362
        },
        "id": "CwYCx0irSK5Y",
        "outputId": "4cd59d81-e40b-497c-c7dd-f9d84a209c13"
      },
      "execution_count": 210,
      "outputs": [
        {
          "output_type": "execute_result",
          "data": {
            "text/plain": [
              "          0         1\n",
              "0  0.727546  0.272454\n",
              "1  0.970338  0.029662\n",
              "2  0.953749  0.046251\n",
              "3  0.891693  0.108307\n",
              "4  0.865863  0.134137\n",
              "5  0.726215  0.273785\n",
              "6  0.683717  0.316283\n",
              "7  0.620741  0.379259\n",
              "8  0.975677  0.024323\n",
              "9  0.923708  0.076292"
            ],
            "text/html": [
              "\n",
              "  <div id=\"df-a7301b11-22dc-4a46-9e3f-a0ee7eba7a37\">\n",
              "    <div class=\"colab-df-container\">\n",
              "      <div>\n",
              "<style scoped>\n",
              "    .dataframe tbody tr th:only-of-type {\n",
              "        vertical-align: middle;\n",
              "    }\n",
              "\n",
              "    .dataframe tbody tr th {\n",
              "        vertical-align: top;\n",
              "    }\n",
              "\n",
              "    .dataframe thead th {\n",
              "        text-align: right;\n",
              "    }\n",
              "</style>\n",
              "<table border=\"1\" class=\"dataframe\">\n",
              "  <thead>\n",
              "    <tr style=\"text-align: right;\">\n",
              "      <th></th>\n",
              "      <th>0</th>\n",
              "      <th>1</th>\n",
              "    </tr>\n",
              "  </thead>\n",
              "  <tbody>\n",
              "    <tr>\n",
              "      <th>0</th>\n",
              "      <td>0.727546</td>\n",
              "      <td>0.272454</td>\n",
              "    </tr>\n",
              "    <tr>\n",
              "      <th>1</th>\n",
              "      <td>0.970338</td>\n",
              "      <td>0.029662</td>\n",
              "    </tr>\n",
              "    <tr>\n",
              "      <th>2</th>\n",
              "      <td>0.953749</td>\n",
              "      <td>0.046251</td>\n",
              "    </tr>\n",
              "    <tr>\n",
              "      <th>3</th>\n",
              "      <td>0.891693</td>\n",
              "      <td>0.108307</td>\n",
              "    </tr>\n",
              "    <tr>\n",
              "      <th>4</th>\n",
              "      <td>0.865863</td>\n",
              "      <td>0.134137</td>\n",
              "    </tr>\n",
              "    <tr>\n",
              "      <th>5</th>\n",
              "      <td>0.726215</td>\n",
              "      <td>0.273785</td>\n",
              "    </tr>\n",
              "    <tr>\n",
              "      <th>6</th>\n",
              "      <td>0.683717</td>\n",
              "      <td>0.316283</td>\n",
              "    </tr>\n",
              "    <tr>\n",
              "      <th>7</th>\n",
              "      <td>0.620741</td>\n",
              "      <td>0.379259</td>\n",
              "    </tr>\n",
              "    <tr>\n",
              "      <th>8</th>\n",
              "      <td>0.975677</td>\n",
              "      <td>0.024323</td>\n",
              "    </tr>\n",
              "    <tr>\n",
              "      <th>9</th>\n",
              "      <td>0.923708</td>\n",
              "      <td>0.076292</td>\n",
              "    </tr>\n",
              "  </tbody>\n",
              "</table>\n",
              "</div>\n",
              "      <button class=\"colab-df-convert\" onclick=\"convertToInteractive('df-a7301b11-22dc-4a46-9e3f-a0ee7eba7a37')\"\n",
              "              title=\"Convert this dataframe to an interactive table.\"\n",
              "              style=\"display:none;\">\n",
              "        \n",
              "  <svg xmlns=\"http://www.w3.org/2000/svg\" height=\"24px\"viewBox=\"0 0 24 24\"\n",
              "       width=\"24px\">\n",
              "    <path d=\"M0 0h24v24H0V0z\" fill=\"none\"/>\n",
              "    <path d=\"M18.56 5.44l.94 2.06.94-2.06 2.06-.94-2.06-.94-.94-2.06-.94 2.06-2.06.94zm-11 1L8.5 8.5l.94-2.06 2.06-.94-2.06-.94L8.5 2.5l-.94 2.06-2.06.94zm10 10l.94 2.06.94-2.06 2.06-.94-2.06-.94-.94-2.06-.94 2.06-2.06.94z\"/><path d=\"M17.41 7.96l-1.37-1.37c-.4-.4-.92-.59-1.43-.59-.52 0-1.04.2-1.43.59L10.3 9.45l-7.72 7.72c-.78.78-.78 2.05 0 2.83L4 21.41c.39.39.9.59 1.41.59.51 0 1.02-.2 1.41-.59l7.78-7.78 2.81-2.81c.8-.78.8-2.07 0-2.86zM5.41 20L4 18.59l7.72-7.72 1.47 1.35L5.41 20z\"/>\n",
              "  </svg>\n",
              "      </button>\n",
              "      \n",
              "  <style>\n",
              "    .colab-df-container {\n",
              "      display:flex;\n",
              "      flex-wrap:wrap;\n",
              "      gap: 12px;\n",
              "    }\n",
              "\n",
              "    .colab-df-convert {\n",
              "      background-color: #E8F0FE;\n",
              "      border: none;\n",
              "      border-radius: 50%;\n",
              "      cursor: pointer;\n",
              "      display: none;\n",
              "      fill: #1967D2;\n",
              "      height: 32px;\n",
              "      padding: 0 0 0 0;\n",
              "      width: 32px;\n",
              "    }\n",
              "\n",
              "    .colab-df-convert:hover {\n",
              "      background-color: #E2EBFA;\n",
              "      box-shadow: 0px 1px 2px rgba(60, 64, 67, 0.3), 0px 1px 3px 1px rgba(60, 64, 67, 0.15);\n",
              "      fill: #174EA6;\n",
              "    }\n",
              "\n",
              "    [theme=dark] .colab-df-convert {\n",
              "      background-color: #3B4455;\n",
              "      fill: #D2E3FC;\n",
              "    }\n",
              "\n",
              "    [theme=dark] .colab-df-convert:hover {\n",
              "      background-color: #434B5C;\n",
              "      box-shadow: 0px 1px 3px 1px rgba(0, 0, 0, 0.15);\n",
              "      filter: drop-shadow(0px 1px 2px rgba(0, 0, 0, 0.3));\n",
              "      fill: #FFFFFF;\n",
              "    }\n",
              "  </style>\n",
              "\n",
              "      <script>\n",
              "        const buttonEl =\n",
              "          document.querySelector('#df-a7301b11-22dc-4a46-9e3f-a0ee7eba7a37 button.colab-df-convert');\n",
              "        buttonEl.style.display =\n",
              "          google.colab.kernel.accessAllowed ? 'block' : 'none';\n",
              "\n",
              "        async function convertToInteractive(key) {\n",
              "          const element = document.querySelector('#df-a7301b11-22dc-4a46-9e3f-a0ee7eba7a37');\n",
              "          const dataTable =\n",
              "            await google.colab.kernel.invokeFunction('convertToInteractive',\n",
              "                                                     [key], {});\n",
              "          if (!dataTable) return;\n",
              "\n",
              "          const docLinkHtml = 'Like what you see? Visit the ' +\n",
              "            '<a target=\"_blank\" href=https://colab.research.google.com/notebooks/data_table.ipynb>data table notebook</a>'\n",
              "            + ' to learn more about interactive tables.';\n",
              "          element.innerHTML = '';\n",
              "          dataTable['output_type'] = 'display_data';\n",
              "          await google.colab.output.renderOutput(dataTable, element);\n",
              "          const docLink = document.createElement('div');\n",
              "          docLink.innerHTML = docLinkHtml;\n",
              "          element.appendChild(docLink);\n",
              "        }\n",
              "      </script>\n",
              "    </div>\n",
              "  </div>\n",
              "  "
            ]
          },
          "metadata": {},
          "execution_count": 210
        }
      ]
    },
    {
      "cell_type": "code",
      "source": [
        "# check AUC score\n",
        "metrics.roc_auc_score(y_test, pred_proba_result[:,1])"
      ],
      "metadata": {
        "colab": {
          "base_uri": "https://localhost:8080/"
        },
        "id": "Vw0zKR5VSMz5",
        "outputId": "3a715df0-6c39-48b5-8185-fc795c1d6a64"
      },
      "execution_count": 211,
      "outputs": [
        {
          "output_type": "execute_result",
          "data": {
            "text/plain": [
              "0.7231456043956045"
            ]
          },
          "metadata": {},
          "execution_count": 211
        }
      ]
    },
    {
      "cell_type": "code",
      "source": [
        "# check first 10 prediction of class 1\n",
        "pred_proba_result[:10,1]"
      ],
      "metadata": {
        "colab": {
          "base_uri": "https://localhost:8080/"
        },
        "id": "UZaYpVXPSTHW",
        "outputId": "4f6a5f9d-2f15-4c60-bc0a-ed938b5c9beb"
      },
      "execution_count": 212,
      "outputs": [
        {
          "output_type": "execute_result",
          "data": {
            "text/plain": [
              "array([0.27245444, 0.0296619 , 0.04625084, 0.1083075 , 0.13413749,\n",
              "       0.27378489, 0.31628303, 0.3792585 , 0.02432312, 0.07629168])"
            ]
          },
          "metadata": {},
          "execution_count": 212
        }
      ]
    },
    {
      "cell_type": "markdown",
      "source": [
        "ROC Curve"
      ],
      "metadata": {
        "id": "s9V7u_skSaxD"
      }
    },
    {
      "cell_type": "markdown",
      "source": [
        "ROC Curve Using Scikit-Learn"
      ],
      "metadata": {
        "id": "wOtv6aJgScvN"
      }
    },
    {
      "cell_type": "code",
      "source": [
        "metrics.RocCurveDisplay.from_estimator(logistic_reg, X_test, y_test)"
      ],
      "metadata": {
        "colab": {
          "base_uri": "https://localhost:8080/",
          "height": 296
        },
        "id": "NB8jZ5cnSWxR",
        "outputId": "a3a7296c-fc82-4957-f246-d7ae16b6ee0c"
      },
      "execution_count": 213,
      "outputs": [
        {
          "output_type": "execute_result",
          "data": {
            "text/plain": [
              "<sklearn.metrics._plot.roc_curve.RocCurveDisplay at 0x7fafa2b6e510>"
            ]
          },
          "metadata": {},
          "execution_count": 213
        },
        {
          "output_type": "display_data",
          "data": {
            "text/plain": [
              "<Figure size 432x288 with 1 Axes>"
            ],
            "image/png": "[encoded data removed]"
          },
          "metadata": {
            "needs_background": "light"
          }
        }
      ]
    },
    {
      "cell_type": "markdown",
      "source": [
        "ROC Curve From Scikit-Plot"
      ],
      "metadata": {
        "id": "2V5RzKumSkaa"
      }
    },
    {
      "cell_type": "code",
      "source": [
        "skplt.metrics.plot_roc(y_test, pred_proba_result)"
      ],
      "metadata": {
        "colab": {
          "base_uri": "https://localhost:8080/",
          "height": 312
        },
        "id": "L6PqURy0Sle3",
        "outputId": "be0494e4-783d-440f-8b07-43ea1d15de76"
      },
      "execution_count": 214,
      "outputs": [
        {
          "output_type": "execute_result",
          "data": {
            "text/plain": [
              "<matplotlib.axes._subplots.AxesSubplot at 0x7fafa2a96ed0>"
            ]
          },
          "metadata": {},
          "execution_count": 214
        },
        {
          "output_type": "display_data",
          "data": {
            "text/plain": [
              "<Figure size 432x288 with 1 Axes>"
            ],
            "image/png": "[encoded data removed]"
          },
          "metadata": {
            "needs_background": "light"
          }
        }
      ]
    },
    {
      "cell_type": "markdown",
      "source": [
        "Handle Imbalance Class Dataset with G-Means"
      ],
      "metadata": {
        "id": "Rtj8cdkzStKc"
      }
    },
    {
      "cell_type": "code",
      "source": [
        "# find fpr and tpr using roc_curve() method\n",
        "fpr, tpr, thresholds = metrics.roc_curve(y_test, pred_proba_result[:,1])"
      ],
      "metadata": {
        "id": "LoYFE4ovSrZb"
      },
      "execution_count": 215,
      "outputs": []
    },
    {
      "cell_type": "code",
      "source": [
        "# calculate g-means\n",
        "gmeans = np.sqrt(tpr * (1-fpr))"
      ],
      "metadata": {
        "id": "652zCAKoSyti"
      },
      "execution_count": 216,
      "outputs": []
    },
    {
      "cell_type": "code",
      "source": [
        "# see gmeans result\n",
        "gmeans"
      ],
      "metadata": {
        "colab": {
          "base_uri": "https://localhost:8080/"
        },
        "id": "nWPfAFYiS0sv",
        "outputId": "78f6c288-58f6-43a8-a12f-f2eb23777269"
      },
      "execution_count": 217,
      "outputs": [
        {
          "output_type": "execute_result",
          "data": {
            "text/plain": [
              "array([0.        , 0.        , 0.        , 0.14258215, 0.14244446,\n",
              "       0.22522447, 0.22500654, 0.24648232, 0.24624336, 0.28433734,\n",
              "       0.28323097, 0.33211775, 0.33179262, 0.34654609, 0.34620617,\n",
              "       0.3739454 , 0.37284177, 0.3859279 , 0.38516444, 0.39779613,\n",
              "       0.39740129, 0.40963188, 0.40922448, 0.43262733, 0.42829662,\n",
              "       0.43942306, 0.43897626, 0.46040219, 0.45946355, 0.46978986,\n",
              "       0.46834657, 0.48828505, 0.4862715 , 0.49590157, 0.49280538,\n",
              "       0.51140831, 0.509255  , 0.51826907, 0.5166194 , 0.52545114,\n",
              "       0.52489066, 0.53356713, 0.53128203, 0.53978308, 0.5386185 ,\n",
              "       0.54696967, 0.54400183, 0.55218277, 0.54671848, 0.57032861,\n",
              "       0.56777679, 0.5753983 , 0.57474996, 0.58226335, 0.5816058 ,\n",
              "       0.59633233, 0.59159139, 0.59876246, 0.59600317, 0.60305671,\n",
              "       0.60095424, 0.61477108, 0.61044673, 0.6171922 , 0.61499448,\n",
              "       0.62822168, 0.62521582, 0.63169491, 0.63733895, 0.63656876,\n",
              "       0.65538765, 0.64256709, 0.64094649, 0.6469649 , 0.64450339,\n",
              "       0.65633012, 0.65297291, 0.65877723, 0.65622547, 0.66763894,\n",
              "       0.66328946, 0.66888694, 0.66624136, 0.67725436, 0.67545554,\n",
              "       0.68088097, 0.67906286, 0.68975743, 0.686978  , 0.69224228,\n",
              "       0.69130618, 0.69652366, 0.68318271, 0.68826221, 0.6863207 ,\n",
              "       0.69134876, 0.66641806, 0.6712298 , 0.6536037 , 0.65825575,\n",
              "       0.65294286, 0.65752497, 0.65537268, 0.65990818, 0.63783139,\n",
              "       0.64218524, 0.62383329, 0.62803424, 0.62214812, 0.62628204,\n",
              "       0.6238962 , 0.62798737, 0.62436781, 0.62840907, 0.60482752,\n",
              "       0.60869227, 0.60357712, 0.60738521, 0.60609153, 0.60986783,\n",
              "       0.60725597, 0.61099296, 0.60437313, 0.60804716, 0.60536261,\n",
              "       0.60899846, 0.59114343, 0.59465173, 0.54027364, 0.54344243,\n",
              "       0.52447926, 0.52751974, 0.50096062, 0.50383147, 0.48816447,\n",
              "       0.4909303 , 0.48735985, 0.49009018, 0.48647323, 0.48916839,\n",
              "       0.48733972, 0.49001009, 0.47882968, 0.48142498, 0.47761919,\n",
              "       0.48018017, 0.46851413, 0.47099964, 0.45897213, 0.46138145,\n",
              "       0.29115695, 0.29266947, 0.25062716, 0.25191574, 0.        ])"
            ]
          },
          "metadata": {},
          "execution_count": 217
        }
      ]
    },
    {
      "cell_type": "code",
      "source": [
        "# find the best threshold\n",
        "ix = np.argmax(gmeans)"
      ],
      "metadata": {
        "id": "gV4Ye0UES6Er"
      },
      "execution_count": 218,
      "outputs": []
    },
    {
      "cell_type": "code",
      "source": [
        "print('Best Threshold={}, G-Mean={}'.format(thresholds[ix], gmeans[ix]))"
      ],
      "metadata": {
        "colab": {
          "base_uri": "https://localhost:8080/"
        },
        "id": "CVcM8U_bS8ig",
        "outputId": "e976791a-646b-48e4-d034-fc34b963efd9"
      },
      "execution_count": 219,
      "outputs": [
        {
          "output_type": "stream",
          "name": "stdout",
          "text": [
            "Best Threshold=0.1686216050560309, G-Mean=0.6965236621471852\n"
          ]
        }
      ]
    },
    {
      "cell_type": "code",
      "source": [
        "# change predict proba result to optimized one using new threshold\n",
        "new_pred_result = (pred_proba_result[:,1] >= thresholds[ix]).astype(int)"
      ],
      "metadata": {
        "id": "JwYq6ihcTDLo"
      },
      "execution_count": 134,
      "outputs": []
    },
    {
      "cell_type": "code",
      "source": [
        "# visualize confusion matrix after setting new threshold\n",
        "skplt.metrics.plot_confusion_matrix(y_test, new_pred_result);"
      ],
      "metadata": {
        "colab": {
          "base_uri": "https://localhost:8080/",
          "height": 295
        },
        "id": "RenGeuJ0TEPF",
        "outputId": "44a20fdf-5c76-48f8-a5a2-01ba215514a7"
      },
      "execution_count": 220,
      "outputs": [
        {
          "output_type": "display_data",
          "data": {
            "text/plain": [
              "<Figure size 432x288 with 2 Axes>"
            ],
            "image/png": "[encoded data removed]"
          },
          "metadata": {
            "needs_background": "light"
          }
        }
      ]
    },
    {
      "cell_type": "code",
      "source": [
        "# check f1-score\n",
        "metrics.f1_score(y_test, new_pred_result)"
      ],
      "metadata": {
        "colab": {
          "base_uri": "https://localhost:8080/"
        },
        "id": "SoazEDohTMei",
        "outputId": "4348f96d-29d9-41c3-b7f6-50f27f56bd5c"
      },
      "execution_count": 221,
      "outputs": [
        {
          "output_type": "execute_result",
          "data": {
            "text/plain": [
              "0.2538699690402477"
            ]
          },
          "metadata": {},
          "execution_count": 221
        }
      ]
    },
    {
      "cell_type": "code",
      "source": [
        "# compare to the old f-1 score\n",
        "metrics.f1_score(y_test, pred_result)"
      ],
      "metadata": {
        "colab": {
          "base_uri": "https://localhost:8080/"
        },
        "id": "O1mpYDJATPq-",
        "outputId": "a3441b4b-9ed0-4e5c-a86b-f6d8ec5b45bd"
      },
      "execution_count": 222,
      "outputs": [
        {
          "output_type": "execute_result",
          "data": {
            "text/plain": [
              "0.22399999999999998"
            ]
          },
          "metadata": {},
          "execution_count": 222
        }
      ]
    },
    {
      "cell_type": "code",
      "source": [
        "# check classification report result of new prediction result\n",
        "pd.DataFrame(metrics.classification_report(y_test, new_pred_result, target_names=['not Response','Response'], output_dict=True))"
      ],
      "metadata": {
        "colab": {
          "base_uri": "https://localhost:8080/",
          "height": 174
        },
        "id": "7LQyYQJyTUe4",
        "outputId": "e3b9601a-a5ae-44fa-9319-6ddb55508f70"
      },
      "execution_count": 223,
      "outputs": [
        {
          "output_type": "execute_result",
          "data": {
            "text/plain": [
              "           not Response   Response  accuracy   macro avg  weighted avg\n",
              "precision      0.854962   0.182222  0.610032    0.518592      0.748281\n",
              "recall         0.646154   0.418367  0.610032    0.532261      0.610032\n",
              "f1-score       0.736035   0.253870  0.610032    0.494953      0.659575\n",
              "support      520.000000  98.000000  0.610032  618.000000    618.000000"
            ],
            "text/html": [
              "\n",
              "  <div id=\"df-a7862a45-325e-4483-b6d7-afc5a2b73226\">\n",
              "    <div class=\"colab-df-container\">\n",
              "      <div>\n",
              "<style scoped>\n",
              "    .dataframe tbody tr th:only-of-type {\n",
              "        vertical-align: middle;\n",
              "    }\n",
              "\n",
              "    .dataframe tbody tr th {\n",
              "        vertical-align: top;\n",
              "    }\n",
              "\n",
              "    .dataframe thead th {\n",
              "        text-align: right;\n",
              "    }\n",
              "</style>\n",
              "<table border=\"1\" class=\"dataframe\">\n",
              "  <thead>\n",
              "    <tr style=\"text-align: right;\">\n",
              "      <th></th>\n",
              "      <th>not Response</th>\n",
              "      <th>Response</th>\n",
              "      <th>accuracy</th>\n",
              "      <th>macro avg</th>\n",
              "      <th>weighted avg</th>\n",
              "    </tr>\n",
              "  </thead>\n",
              "  <tbody>\n",
              "    <tr>\n",
              "      <th>precision</th>\n",
              "      <td>0.854962</td>\n",
              "      <td>0.182222</td>\n",
              "      <td>0.610032</td>\n",
              "      <td>0.518592</td>\n",
              "      <td>0.748281</td>\n",
              "    </tr>\n",
              "    <tr>\n",
              "      <th>recall</th>\n",
              "      <td>0.646154</td>\n",
              "      <td>0.418367</td>\n",
              "      <td>0.610032</td>\n",
              "      <td>0.532261</td>\n",
              "      <td>0.610032</td>\n",
              "    </tr>\n",
              "    <tr>\n",
              "      <th>f1-score</th>\n",
              "      <td>0.736035</td>\n",
              "      <td>0.253870</td>\n",
              "      <td>0.610032</td>\n",
              "      <td>0.494953</td>\n",
              "      <td>0.659575</td>\n",
              "    </tr>\n",
              "    <tr>\n",
              "      <th>support</th>\n",
              "      <td>520.000000</td>\n",
              "      <td>98.000000</td>\n",
              "      <td>0.610032</td>\n",
              "      <td>618.000000</td>\n",
              "      <td>618.000000</td>\n",
              "    </tr>\n",
              "  </tbody>\n",
              "</table>\n",
              "</div>\n",
              "      <button class=\"colab-df-convert\" onclick=\"convertToInteractive('df-a7862a45-325e-4483-b6d7-afc5a2b73226')\"\n",
              "              title=\"Convert this dataframe to an interactive table.\"\n",
              "              style=\"display:none;\">\n",
              "        \n",
              "  <svg xmlns=\"http://www.w3.org/2000/svg\" height=\"24px\"viewBox=\"0 0 24 24\"\n",
              "       width=\"24px\">\n",
              "    <path d=\"M0 0h24v24H0V0z\" fill=\"none\"/>\n",
              "    <path d=\"M18.56 5.44l.94 2.06.94-2.06 2.06-.94-2.06-.94-.94-2.06-.94 2.06-2.06.94zm-11 1L8.5 8.5l.94-2.06 2.06-.94-2.06-.94L8.5 2.5l-.94 2.06-2.06.94zm10 10l.94 2.06.94-2.06 2.06-.94-2.06-.94-.94-2.06-.94 2.06-2.06.94z\"/><path d=\"M17.41 7.96l-1.37-1.37c-.4-.4-.92-.59-1.43-.59-.52 0-1.04.2-1.43.59L10.3 9.45l-7.72 7.72c-.78.78-.78 2.05 0 2.83L4 21.41c.39.39.9.59 1.41.59.51 0 1.02-.2 1.41-.59l7.78-7.78 2.81-2.81c.8-.78.8-2.07 0-2.86zM5.41 20L4 18.59l7.72-7.72 1.47 1.35L5.41 20z\"/>\n",
              "  </svg>\n",
              "      </button>\n",
              "      \n",
              "  <style>\n",
              "    .colab-df-container {\n",
              "      display:flex;\n",
              "      flex-wrap:wrap;\n",
              "      gap: 12px;\n",
              "    }\n",
              "\n",
              "    .colab-df-convert {\n",
              "      background-color: #E8F0FE;\n",
              "      border: none;\n",
              "      border-radius: 50%;\n",
              "      cursor: pointer;\n",
              "      display: none;\n",
              "      fill: #1967D2;\n",
              "      height: 32px;\n",
              "      padding: 0 0 0 0;\n",
              "      width: 32px;\n",
              "    }\n",
              "\n",
              "    .colab-df-convert:hover {\n",
              "      background-color: #E2EBFA;\n",
              "      box-shadow: 0px 1px 2px rgba(60, 64, 67, 0.3), 0px 1px 3px 1px rgba(60, 64, 67, 0.15);\n",
              "      fill: #174EA6;\n",
              "    }\n",
              "\n",
              "    [theme=dark] .colab-df-convert {\n",
              "      background-color: #3B4455;\n",
              "      fill: #D2E3FC;\n",
              "    }\n",
              "\n",
              "    [theme=dark] .colab-df-convert:hover {\n",
              "      background-color: #434B5C;\n",
              "      box-shadow: 0px 1px 3px 1px rgba(0, 0, 0, 0.15);\n",
              "      filter: drop-shadow(0px 1px 2px rgba(0, 0, 0, 0.3));\n",
              "      fill: #FFFFFF;\n",
              "    }\n",
              "  </style>\n",
              "\n",
              "      <script>\n",
              "        const buttonEl =\n",
              "          document.querySelector('#df-a7862a45-325e-4483-b6d7-afc5a2b73226 button.colab-df-convert');\n",
              "        buttonEl.style.display =\n",
              "          google.colab.kernel.accessAllowed ? 'block' : 'none';\n",
              "\n",
              "        async function convertToInteractive(key) {\n",
              "          const element = document.querySelector('#df-a7862a45-325e-4483-b6d7-afc5a2b73226');\n",
              "          const dataTable =\n",
              "            await google.colab.kernel.invokeFunction('convertToInteractive',\n",
              "                                                     [key], {});\n",
              "          if (!dataTable) return;\n",
              "\n",
              "          const docLinkHtml = 'Like what you see? Visit the ' +\n",
              "            '<a target=\"_blank\" href=https://colab.research.google.com/notebooks/data_table.ipynb>data table notebook</a>'\n",
              "            + ' to learn more about interactive tables.';\n",
              "          element.innerHTML = '';\n",
              "          dataTable['output_type'] = 'display_data';\n",
              "          await google.colab.output.renderOutput(dataTable, element);\n",
              "          const docLink = document.createElement('div');\n",
              "          docLink.innerHTML = docLinkHtml;\n",
              "          element.appendChild(docLink);\n",
              "        }\n",
              "      </script>\n",
              "    </div>\n",
              "  </div>\n",
              "  "
            ]
          },
          "metadata": {},
          "execution_count": 223
        }
      ]
    },
    {
      "cell_type": "code",
      "source": [
        "# check classification report result of old prediction result\n",
        "pd.DataFrame(metrics.classification_report(y_test, pred_result, target_names=['not Response','Response'], output_dict=True))"
      ],
      "metadata": {
        "colab": {
          "base_uri": "https://localhost:8080/",
          "height": 174
        },
        "id": "uEM4_QuCTeMG",
        "outputId": "b5cd9eff-d813-41b0-9097-7f1f9751b8a7"
      },
      "execution_count": 224,
      "outputs": [
        {
          "output_type": "execute_result",
          "data": {
            "text/plain": [
              "           not Response   Response  accuracy   macro avg  weighted avg\n",
              "precision      0.857868   0.518519  0.843042    0.688193      0.804055\n",
              "recall         0.975000   0.142857  0.843042    0.558929      0.843042\n",
              "f1-score       0.912691   0.224000  0.843042    0.568346      0.803481\n",
              "support      520.000000  98.000000  0.843042  618.000000    618.000000"
            ],
            "text/html": [
              "\n",
              "  <div id=\"df-64849edb-f9d7-4ead-936f-4caa525c8102\">\n",
              "    <div class=\"colab-df-container\">\n",
              "      <div>\n",
              "<style scoped>\n",
              "    .dataframe tbody tr th:only-of-type {\n",
              "        vertical-align: middle;\n",
              "    }\n",
              "\n",
              "    .dataframe tbody tr th {\n",
              "        vertical-align: top;\n",
              "    }\n",
              "\n",
              "    .dataframe thead th {\n",
              "        text-align: right;\n",
              "    }\n",
              "</style>\n",
              "<table border=\"1\" class=\"dataframe\">\n",
              "  <thead>\n",
              "    <tr style=\"text-align: right;\">\n",
              "      <th></th>\n",
              "      <th>not Response</th>\n",
              "      <th>Response</th>\n",
              "      <th>accuracy</th>\n",
              "      <th>macro avg</th>\n",
              "      <th>weighted avg</th>\n",
              "    </tr>\n",
              "  </thead>\n",
              "  <tbody>\n",
              "    <tr>\n",
              "      <th>precision</th>\n",
              "      <td>0.857868</td>\n",
              "      <td>0.518519</td>\n",
              "      <td>0.843042</td>\n",
              "      <td>0.688193</td>\n",
              "      <td>0.804055</td>\n",
              "    </tr>\n",
              "    <tr>\n",
              "      <th>recall</th>\n",
              "      <td>0.975000</td>\n",
              "      <td>0.142857</td>\n",
              "      <td>0.843042</td>\n",
              "      <td>0.558929</td>\n",
              "      <td>0.843042</td>\n",
              "    </tr>\n",
              "    <tr>\n",
              "      <th>f1-score</th>\n",
              "      <td>0.912691</td>\n",
              "      <td>0.224000</td>\n",
              "      <td>0.843042</td>\n",
              "      <td>0.568346</td>\n",
              "      <td>0.803481</td>\n",
              "    </tr>\n",
              "    <tr>\n",
              "      <th>support</th>\n",
              "      <td>520.000000</td>\n",
              "      <td>98.000000</td>\n",
              "      <td>0.843042</td>\n",
              "      <td>618.000000</td>\n",
              "      <td>618.000000</td>\n",
              "    </tr>\n",
              "  </tbody>\n",
              "</table>\n",
              "</div>\n",
              "      <button class=\"colab-df-convert\" onclick=\"convertToInteractive('df-64849edb-f9d7-4ead-936f-4caa525c8102')\"\n",
              "              title=\"Convert this dataframe to an interactive table.\"\n",
              "              style=\"display:none;\">\n",
              "        \n",
              "  <svg xmlns=\"http://www.w3.org/2000/svg\" height=\"24px\"viewBox=\"0 0 24 24\"\n",
              "       width=\"24px\">\n",
              "    <path d=\"M0 0h24v24H0V0z\" fill=\"none\"/>\n",
              "    <path d=\"M18.56 5.44l.94 2.06.94-2.06 2.06-.94-2.06-.94-.94-2.06-.94 2.06-2.06.94zm-11 1L8.5 8.5l.94-2.06 2.06-.94-2.06-.94L8.5 2.5l-.94 2.06-2.06.94zm10 10l.94 2.06.94-2.06 2.06-.94-2.06-.94-.94-2.06-.94 2.06-2.06.94z\"/><path d=\"M17.41 7.96l-1.37-1.37c-.4-.4-.92-.59-1.43-.59-.52 0-1.04.2-1.43.59L10.3 9.45l-7.72 7.72c-.78.78-.78 2.05 0 2.83L4 21.41c.39.39.9.59 1.41.59.51 0 1.02-.2 1.41-.59l7.78-7.78 2.81-2.81c.8-.78.8-2.07 0-2.86zM5.41 20L4 18.59l7.72-7.72 1.47 1.35L5.41 20z\"/>\n",
              "  </svg>\n",
              "      </button>\n",
              "      \n",
              "  <style>\n",
              "    .colab-df-container {\n",
              "      display:flex;\n",
              "      flex-wrap:wrap;\n",
              "      gap: 12px;\n",
              "    }\n",
              "\n",
              "    .colab-df-convert {\n",
              "      background-color: #E8F0FE;\n",
              "      border: none;\n",
              "      border-radius: 50%;\n",
              "      cursor: pointer;\n",
              "      display: none;\n",
              "      fill: #1967D2;\n",
              "      height: 32px;\n",
              "      padding: 0 0 0 0;\n",
              "      width: 32px;\n",
              "    }\n",
              "\n",
              "    .colab-df-convert:hover {\n",
              "      background-color: #E2EBFA;\n",
              "      box-shadow: 0px 1px 2px rgba(60, 64, 67, 0.3), 0px 1px 3px 1px rgba(60, 64, 67, 0.15);\n",
              "      fill: #174EA6;\n",
              "    }\n",
              "\n",
              "    [theme=dark] .colab-df-convert {\n",
              "      background-color: #3B4455;\n",
              "      fill: #D2E3FC;\n",
              "    }\n",
              "\n",
              "    [theme=dark] .colab-df-convert:hover {\n",
              "      background-color: #434B5C;\n",
              "      box-shadow: 0px 1px 3px 1px rgba(0, 0, 0, 0.15);\n",
              "      filter: drop-shadow(0px 1px 2px rgba(0, 0, 0, 0.3));\n",
              "      fill: #FFFFFF;\n",
              "    }\n",
              "  </style>\n",
              "\n",
              "      <script>\n",
              "        const buttonEl =\n",
              "          document.querySelector('#df-64849edb-f9d7-4ead-936f-4caa525c8102 button.colab-df-convert');\n",
              "        buttonEl.style.display =\n",
              "          google.colab.kernel.accessAllowed ? 'block' : 'none';\n",
              "\n",
              "        async function convertToInteractive(key) {\n",
              "          const element = document.querySelector('#df-64849edb-f9d7-4ead-936f-4caa525c8102');\n",
              "          const dataTable =\n",
              "            await google.colab.kernel.invokeFunction('convertToInteractive',\n",
              "                                                     [key], {});\n",
              "          if (!dataTable) return;\n",
              "\n",
              "          const docLinkHtml = 'Like what you see? Visit the ' +\n",
              "            '<a target=\"_blank\" href=https://colab.research.google.com/notebooks/data_table.ipynb>data table notebook</a>'\n",
              "            + ' to learn more about interactive tables.';\n",
              "          element.innerHTML = '';\n",
              "          dataTable['output_type'] = 'display_data';\n",
              "          await google.colab.output.renderOutput(dataTable, element);\n",
              "          const docLink = document.createElement('div');\n",
              "          docLink.innerHTML = docLinkHtml;\n",
              "          element.appendChild(docLink);\n",
              "        }\n",
              "      </script>\n",
              "    </div>\n",
              "  </div>\n",
              "  "
            ]
          },
          "metadata": {},
          "execution_count": 224
        }
      ]
    },
    {
      "cell_type": "markdown",
      "source": [
        "Model\n",
        "\n",
        "Logistic Regression have accuracy about 0.84 which is greater than the treshold. So the model has the better result."
      ],
      "metadata": {
        "id": "Z_jADNKRzf8R"
      }
    },
    {
      "cell_type": "markdown",
      "source": [
        "KNN"
      ],
      "metadata": {
        "id": "6Qs8MVcfgeVG"
      }
    },
    {
      "cell_type": "code",
      "source": [
        "y = market_sampel_data['Response'].values\n",
        "X = market_sampel_data.drop(['Response'], axis = 1).values\n",
        "\n",
        "X_train, X_test, y_train, y_test = train_test_split(\n",
        "    X,\n",
        "    y,\n",
        "    test_size = 0.3,\n",
        "    stratify = y,\n",
        "    random_state = 1000\n",
        ")"
      ],
      "metadata": {
        "id": "hu5WR7-8Y6-6"
      },
      "execution_count": 225,
      "outputs": []
    },
    {
      "cell_type": "markdown",
      "source": [
        "KNeighborsClassifier param:\n",
        "\n",
        "```python\n",
        "sklearn.neighbors.KNeighborsClassifier(\n",
        "  n_neighbors=5, \n",
        "  *, \n",
        "  weights='uniform', \n",
        "  algorithm='auto', \n",
        "  leaf_size=30, \n",
        "  p=2, \n",
        "  metric='minkowski', \n",
        "  metric_params=None, \n",
        "  n_jobs=None\n",
        ")\n",
        "```"
      ],
      "metadata": {
        "id": "u457gY9Q1eYg"
      }
    },
    {
      "cell_type": "code",
      "source": [
        "# define k-nearest neighbors classifier\n",
        "knn_clf = KNeighborsClassifier(n_neighbors = 3)\n",
        "# fit model to data\n",
        "knn_clf.fit(X_train, y_train)"
      ],
      "metadata": {
        "colab": {
          "base_uri": "https://localhost:8080/"
        },
        "id": "QkLR0qgB1lDt",
        "outputId": "1be679b8-c636-441a-840d-1cc9dcd49e8d"
      },
      "execution_count": 226,
      "outputs": [
        {
          "output_type": "execute_result",
          "data": {
            "text/plain": [
              "KNeighborsClassifier(n_neighbors=3)"
            ]
          },
          "metadata": {},
          "execution_count": 226
        }
      ]
    },
    {
      "cell_type": "code",
      "source": [
        "# prediction\n",
        "pred_result = knn_clf.predict(X_test)\n",
        "pred_proba_result = knn_clf.predict_proba(X_test)"
      ],
      "metadata": {
        "id": "-Gu61KDx1vo0"
      },
      "execution_count": 227,
      "outputs": []
    },
    {
      "cell_type": "code",
      "source": [
        "# check classification report result\n",
        "pd.DataFrame(metrics.classification_report(y_test, pred_result, target_names=['not response','response'], output_dict=True))"
      ],
      "metadata": {
        "colab": {
          "base_uri": "https://localhost:8080/",
          "height": 174
        },
        "id": "estu_NwB1yab",
        "outputId": "a8dbc09f-57f4-46d6-d5da-221e07ba5eca"
      },
      "execution_count": 228,
      "outputs": [
        {
          "output_type": "execute_result",
          "data": {
            "text/plain": [
              "           not response   response  accuracy   macro avg  weighted avg\n",
              "precision      0.862369   0.340909  0.825243    0.601639      0.783053\n",
              "recall         0.944656   0.159574  0.825243    0.552115      0.825243\n",
              "f1-score       0.901639   0.217391  0.825243    0.559515      0.797563\n",
              "support      524.000000  94.000000  0.825243  618.000000    618.000000"
            ],
            "text/html": [
              "\n",
              "  <div id=\"df-88cd8342-7863-4fe6-9e4b-4ffe0c96a5af\">\n",
              "    <div class=\"colab-df-container\">\n",
              "      <div>\n",
              "<style scoped>\n",
              "    .dataframe tbody tr th:only-of-type {\n",
              "        vertical-align: middle;\n",
              "    }\n",
              "\n",
              "    .dataframe tbody tr th {\n",
              "        vertical-align: top;\n",
              "    }\n",
              "\n",
              "    .dataframe thead th {\n",
              "        text-align: right;\n",
              "    }\n",
              "</style>\n",
              "<table border=\"1\" class=\"dataframe\">\n",
              "  <thead>\n",
              "    <tr style=\"text-align: right;\">\n",
              "      <th></th>\n",
              "      <th>not response</th>\n",
              "      <th>response</th>\n",
              "      <th>accuracy</th>\n",
              "      <th>macro avg</th>\n",
              "      <th>weighted avg</th>\n",
              "    </tr>\n",
              "  </thead>\n",
              "  <tbody>\n",
              "    <tr>\n",
              "      <th>precision</th>\n",
              "      <td>0.862369</td>\n",
              "      <td>0.340909</td>\n",
              "      <td>0.825243</td>\n",
              "      <td>0.601639</td>\n",
              "      <td>0.783053</td>\n",
              "    </tr>\n",
              "    <tr>\n",
              "      <th>recall</th>\n",
              "      <td>0.944656</td>\n",
              "      <td>0.159574</td>\n",
              "      <td>0.825243</td>\n",
              "      <td>0.552115</td>\n",
              "      <td>0.825243</td>\n",
              "    </tr>\n",
              "    <tr>\n",
              "      <th>f1-score</th>\n",
              "      <td>0.901639</td>\n",
              "      <td>0.217391</td>\n",
              "      <td>0.825243</td>\n",
              "      <td>0.559515</td>\n",
              "      <td>0.797563</td>\n",
              "    </tr>\n",
              "    <tr>\n",
              "      <th>support</th>\n",
              "      <td>524.000000</td>\n",
              "      <td>94.000000</td>\n",
              "      <td>0.825243</td>\n",
              "      <td>618.000000</td>\n",
              "      <td>618.000000</td>\n",
              "    </tr>\n",
              "  </tbody>\n",
              "</table>\n",
              "</div>\n",
              "      <button class=\"colab-df-convert\" onclick=\"convertToInteractive('df-88cd8342-7863-4fe6-9e4b-4ffe0c96a5af')\"\n",
              "              title=\"Convert this dataframe to an interactive table.\"\n",
              "              style=\"display:none;\">\n",
              "        \n",
              "  <svg xmlns=\"http://www.w3.org/2000/svg\" height=\"24px\"viewBox=\"0 0 24 24\"\n",
              "       width=\"24px\">\n",
              "    <path d=\"M0 0h24v24H0V0z\" fill=\"none\"/>\n",
              "    <path d=\"M18.56 5.44l.94 2.06.94-2.06 2.06-.94-2.06-.94-.94-2.06-.94 2.06-2.06.94zm-11 1L8.5 8.5l.94-2.06 2.06-.94-2.06-.94L8.5 2.5l-.94 2.06-2.06.94zm10 10l.94 2.06.94-2.06 2.06-.94-2.06-.94-.94-2.06-.94 2.06-2.06.94z\"/><path d=\"M17.41 7.96l-1.37-1.37c-.4-.4-.92-.59-1.43-.59-.52 0-1.04.2-1.43.59L10.3 9.45l-7.72 7.72c-.78.78-.78 2.05 0 2.83L4 21.41c.39.39.9.59 1.41.59.51 0 1.02-.2 1.41-.59l7.78-7.78 2.81-2.81c.8-.78.8-2.07 0-2.86zM5.41 20L4 18.59l7.72-7.72 1.47 1.35L5.41 20z\"/>\n",
              "  </svg>\n",
              "      </button>\n",
              "      \n",
              "  <style>\n",
              "    .colab-df-container {\n",
              "      display:flex;\n",
              "      flex-wrap:wrap;\n",
              "      gap: 12px;\n",
              "    }\n",
              "\n",
              "    .colab-df-convert {\n",
              "      background-color: #E8F0FE;\n",
              "      border: none;\n",
              "      border-radius: 50%;\n",
              "      cursor: pointer;\n",
              "      display: none;\n",
              "      fill: #1967D2;\n",
              "      height: 32px;\n",
              "      padding: 0 0 0 0;\n",
              "      width: 32px;\n",
              "    }\n",
              "\n",
              "    .colab-df-convert:hover {\n",
              "      background-color: #E2EBFA;\n",
              "      box-shadow: 0px 1px 2px rgba(60, 64, 67, 0.3), 0px 1px 3px 1px rgba(60, 64, 67, 0.15);\n",
              "      fill: #174EA6;\n",
              "    }\n",
              "\n",
              "    [theme=dark] .colab-df-convert {\n",
              "      background-color: #3B4455;\n",
              "      fill: #D2E3FC;\n",
              "    }\n",
              "\n",
              "    [theme=dark] .colab-df-convert:hover {\n",
              "      background-color: #434B5C;\n",
              "      box-shadow: 0px 1px 3px 1px rgba(0, 0, 0, 0.15);\n",
              "      filter: drop-shadow(0px 1px 2px rgba(0, 0, 0, 0.3));\n",
              "      fill: #FFFFFF;\n",
              "    }\n",
              "  </style>\n",
              "\n",
              "      <script>\n",
              "        const buttonEl =\n",
              "          document.querySelector('#df-88cd8342-7863-4fe6-9e4b-4ffe0c96a5af button.colab-df-convert');\n",
              "        buttonEl.style.display =\n",
              "          google.colab.kernel.accessAllowed ? 'block' : 'none';\n",
              "\n",
              "        async function convertToInteractive(key) {\n",
              "          const element = document.querySelector('#df-88cd8342-7863-4fe6-9e4b-4ffe0c96a5af');\n",
              "          const dataTable =\n",
              "            await google.colab.kernel.invokeFunction('convertToInteractive',\n",
              "                                                     [key], {});\n",
              "          if (!dataTable) return;\n",
              "\n",
              "          const docLinkHtml = 'Like what you see? Visit the ' +\n",
              "            '<a target=\"_blank\" href=https://colab.research.google.com/notebooks/data_table.ipynb>data table notebook</a>'\n",
              "            + ' to learn more about interactive tables.';\n",
              "          element.innerHTML = '';\n",
              "          dataTable['output_type'] = 'display_data';\n",
              "          await google.colab.output.renderOutput(dataTable, element);\n",
              "          const docLink = document.createElement('div');\n",
              "          docLink.innerHTML = docLinkHtml;\n",
              "          element.appendChild(docLink);\n",
              "        }\n",
              "      </script>\n",
              "    </div>\n",
              "  </div>\n",
              "  "
            ]
          },
          "metadata": {},
          "execution_count": 228
        }
      ]
    },
    {
      "cell_type": "code",
      "source": [
        "# check model accuracy\n",
        "metrics.accuracy_score(y_test, pred_result)"
      ],
      "metadata": {
        "colab": {
          "base_uri": "https://localhost:8080/"
        },
        "id": "nLASKoaQ1-aA",
        "outputId": "c90fe9d5-5300-41d4-eb77-4e03ab751fd7"
      },
      "execution_count": 229,
      "outputs": [
        {
          "output_type": "execute_result",
          "data": {
            "text/plain": [
              "0.8252427184466019"
            ]
          },
          "metadata": {},
          "execution_count": 229
        }
      ]
    },
    {
      "cell_type": "code",
      "source": [
        "# check confusion matrix\n",
        "skplt.metrics.plot_confusion_matrix(y_test, pred_result);"
      ],
      "metadata": {
        "colab": {
          "base_uri": "https://localhost:8080/",
          "height": 295
        },
        "id": "4KzZQhQg2L0E",
        "outputId": "f16e567b-ee72-4400-b9b3-12c093aa50f6"
      },
      "execution_count": 230,
      "outputs": [
        {
          "output_type": "display_data",
          "data": {
            "text/plain": [
              "<Figure size 432x288 with 2 Axes>"
            ],
            "image/png": "[encoded data removed]"
          },
          "metadata": {
            "needs_background": "light"
          }
        }
      ]
    },
    {
      "cell_type": "code",
      "source": [
        "# check ROC-AUC curve and result\n",
        "skplt.metrics.plot_roc_curve(y_test, pred_proba_result);"
      ],
      "metadata": {
        "colab": {
          "base_uri": "https://localhost:8080/",
          "height": 329
        },
        "id": "n0kEuI2B2kc9",
        "outputId": "78bac274-539b-454e-9cb7-4e847cc2d12c"
      },
      "execution_count": 231,
      "outputs": [
        {
          "output_type": "stream",
          "name": "stderr",
          "text": [
            "/usr/local/lib/python3.7/dist-packages/sklearn/utils/deprecation.py:87: FutureWarning: Function plot_roc_curve is deprecated; This will be removed in v0.5.0. Please use scikitplot.metrics.plot_roc instead.\n",
            "  warnings.warn(msg, category=FutureWarning)\n"
          ]
        },
        {
          "output_type": "display_data",
          "data": {
            "text/plain": [
              "<Figure size 432x288 with 1 Axes>"
            ],
            "image/png": "[encoded data removed]"
          },
          "metadata": {
            "needs_background": "light"
          }
        }
      ]
    },
    {
      "cell_type": "code",
      "source": [
        "# check f1-score\n",
        "metrics.f1_score(y_test, pred_result)"
      ],
      "metadata": {
        "colab": {
          "base_uri": "https://localhost:8080/"
        },
        "id": "Y1BFb5sQ2vGw",
        "outputId": "852f366e-7d65-4ab5-c53a-dcc8d781510d"
      },
      "execution_count": 232,
      "outputs": [
        {
          "output_type": "execute_result",
          "data": {
            "text/plain": [
              "0.21739130434782608"
            ]
          },
          "metadata": {},
          "execution_count": 232
        }
      ]
    },
    {
      "cell_type": "code",
      "source": [
        "# find fpr and tpr using roc_curve() method\n",
        "fpr, tpr, thresholds = metrics.roc_curve(y_test, pred_proba_result[:,1])\n",
        "# calculate g-means\n",
        "gmeans = np.sqrt(tpr * (1-fpr))\n",
        "# find the best threshold\n",
        "ix = np.argmax(gmeans)\n",
        "print('Best Threshold={}, G-Mean={}'.format(thresholds[ix], gmeans[ix]))\n",
        "# change predict proba result to optimized one using new threshold\n",
        "new_pred_result = (pred_proba_result[:,1] >= thresholds[ix]).astype(int)\n",
        "# visualize confusion matrix after setting new threshold\n",
        "skplt.metrics.plot_confusion_matrix(y_test, new_pred_result);\n",
        "# check f1-score\n",
        "metrics.f1_score(y_test, new_pred_result)"
      ],
      "metadata": {
        "colab": {
          "base_uri": "https://localhost:8080/",
          "height": 329
        },
        "id": "mVAj7s2M21xX",
        "outputId": "a993113d-47bf-45c1-d54f-e0cda428f84d"
      },
      "execution_count": 233,
      "outputs": [
        {
          "output_type": "stream",
          "name": "stdout",
          "text": [
            "Best Threshold=0.3333333333333333, G-Mean=0.6107790098415978\n"
          ]
        },
        {
          "output_type": "execute_result",
          "data": {
            "text/plain": [
              "0.33561643835616434"
            ]
          },
          "metadata": {},
          "execution_count": 233
        },
        {
          "output_type": "display_data",
          "data": {
            "text/plain": [
              "<Figure size 432x288 with 2 Axes>"
            ],
            "image/png": "[encoded data removed]"
          },
          "metadata": {
            "needs_background": "light"
          }
        }
      ]
    },
    {
      "cell_type": "markdown",
      "source": [
        "From the KNN model that has been run, the accuracy value is 0.825"
      ],
      "metadata": {
        "id": "3-Z3qBJHgoK3"
      }
    },
    {
      "cell_type": "markdown",
      "source": [
        "##### [METRIC MODEL EVALUATION] #####\n",
        "\n",
        "Ketepatan Model Memprediksi : 0.825\n",
        "\n",
        "[Matrix Confusion]\n",
        "customer positif yang merespon campaign yang diprediksi Benar oleh Model sejumlah 375\n",
        "customer positif yang merespon campaign yang diprediksi Salah oleh Model sejumlah 149\n",
        "customer Negatif yang merespon campaign yang diprediksi Benar oleh Model sejumlah 45\n",
        "Donatur Negatif yang merespon campaign yang diprediksi Salah oleh Model sejumlah 49\n",
        "\n",
        "Nilai Recall sebesar 0.159574\n",
        "\n",
        "Nilai F1 Score sebesar 0.217391 "
      ],
      "metadata": {
        "id": "a2coAepqi8uu"
      }
    },
    {
      "cell_type": "markdown",
      "source": [
        "# Naive Bayes"
      ],
      "metadata": {
        "id": "L0EED24VY87n"
      }
    },
    {
      "cell_type": "code",
      "source": [
        "from imblearn.over_sampling import RandomOverSampler\n",
        "oversampling = RandomOverSampler()\n",
        "X_over, y_over = oversampling.fit_resample(X_train,y_train)"
      ],
      "metadata": {
        "id": "Jnyd0PdmgSlD"
      },
      "execution_count": 246,
      "outputs": []
    },
    {
      "cell_type": "code",
      "source": [
        "y = market_sampel_data['Response'].values\n",
        "X = market_sampel_data.drop(['Response'], axis = 1).values\n",
        "\n",
        "X_train, X_test, y_train, y_test = train_test_split(\n",
        "    X,\n",
        "    y,\n",
        "    test_size = 0.3,\n",
        "    stratify = y,\n",
        "    random_state = 1000\n",
        ")"
      ],
      "metadata": {
        "id": "mTeqF20ugXjQ"
      },
      "execution_count": 247,
      "outputs": []
    },
    {
      "cell_type": "code",
      "source": [
        "gnb = GaussianNB()\n",
        "gnb.fit(X_train, y_train)"
      ],
      "metadata": {
        "colab": {
          "base_uri": "https://localhost:8080/"
        },
        "id": "Ye0TbMH_Y7oH",
        "outputId": "b6cf85a6-9135-44de-baf5-04ad8b4bd937"
      },
      "execution_count": 248,
      "outputs": [
        {
          "output_type": "execute_result",
          "data": {
            "text/plain": [
              "GaussianNB()"
            ]
          },
          "metadata": {},
          "execution_count": 248
        }
      ]
    },
    {
      "cell_type": "code",
      "source": [
        "# prediction\n",
        "pred_result = gnb.predict(X_test)\n",
        "pred_proba_result = gnb.predict_proba(X_test)"
      ],
      "metadata": {
        "id": "OLMqfzS7drcf"
      },
      "execution_count": 249,
      "outputs": []
    },
    {
      "cell_type": "code",
      "source": [
        "y_pred = gnb.fit(X_train, y_train).predict(X_test)\n",
        "print(\"Number of mislabeled points out of a total %d points : %d\" % (X_test.shape[0], (y_test != y_pred).sum()))"
      ],
      "metadata": {
        "colab": {
          "base_uri": "https://localhost:8080/"
        },
        "id": "ihar4V-IbmUM",
        "outputId": "120eed3b-d07d-45e0-99fe-d9f7f8e3b921"
      },
      "execution_count": 250,
      "outputs": [
        {
          "output_type": "stream",
          "name": "stdout",
          "text": [
            "Number of mislabeled points out of a total 618 points : 130\n"
          ]
        }
      ]
    },
    {
      "cell_type": "code",
      "source": [
        "# check classification report result\n",
        "pd.DataFrame(metrics.classification_report(y_test, pred_result, target_names=['not response','response'], output_dict=True))"
      ],
      "metadata": {
        "colab": {
          "base_uri": "https://localhost:8080/",
          "height": 174
        },
        "id": "qKnhnThbeCUX",
        "outputId": "0730fd58-458a-49f9-8b7c-0260c8acfbb6"
      },
      "execution_count": 251,
      "outputs": [
        {
          "output_type": "execute_result",
          "data": {
            "text/plain": [
              "           not response   response  accuracy   macro avg  weighted avg\n",
              "precision      0.902041   0.359375  0.789644    0.630708      0.819499\n",
              "recall         0.843511   0.489362  0.789644    0.666437      0.789644\n",
              "f1-score       0.871795   0.414414  0.789644    0.643105      0.802226\n",
              "support      524.000000  94.000000  0.789644  618.000000    618.000000"
            ],
            "text/html": [
              "\n",
              "  <div id=\"df-83d863c2-3c34-458d-9140-7d4b2496ac97\">\n",
              "    <div class=\"colab-df-container\">\n",
              "      <div>\n",
              "<style scoped>\n",
              "    .dataframe tbody tr th:only-of-type {\n",
              "        vertical-align: middle;\n",
              "    }\n",
              "\n",
              "    .dataframe tbody tr th {\n",
              "        vertical-align: top;\n",
              "    }\n",
              "\n",
              "    .dataframe thead th {\n",
              "        text-align: right;\n",
              "    }\n",
              "</style>\n",
              "<table border=\"1\" class=\"dataframe\">\n",
              "  <thead>\n",
              "    <tr style=\"text-align: right;\">\n",
              "      <th></th>\n",
              "      <th>not response</th>\n",
              "      <th>response</th>\n",
              "      <th>accuracy</th>\n",
              "      <th>macro avg</th>\n",
              "      <th>weighted avg</th>\n",
              "    </tr>\n",
              "  </thead>\n",
              "  <tbody>\n",
              "    <tr>\n",
              "      <th>precision</th>\n",
              "      <td>0.902041</td>\n",
              "      <td>0.359375</td>\n",
              "      <td>0.789644</td>\n",
              "      <td>0.630708</td>\n",
              "      <td>0.819499</td>\n",
              "    </tr>\n",
              "    <tr>\n",
              "      <th>recall</th>\n",
              "      <td>0.843511</td>\n",
              "      <td>0.489362</td>\n",
              "      <td>0.789644</td>\n",
              "      <td>0.666437</td>\n",
              "      <td>0.789644</td>\n",
              "    </tr>\n",
              "    <tr>\n",
              "      <th>f1-score</th>\n",
              "      <td>0.871795</td>\n",
              "      <td>0.414414</td>\n",
              "      <td>0.789644</td>\n",
              "      <td>0.643105</td>\n",
              "      <td>0.802226</td>\n",
              "    </tr>\n",
              "    <tr>\n",
              "      <th>support</th>\n",
              "      <td>524.000000</td>\n",
              "      <td>94.000000</td>\n",
              "      <td>0.789644</td>\n",
              "      <td>618.000000</td>\n",
              "      <td>618.000000</td>\n",
              "    </tr>\n",
              "  </tbody>\n",
              "</table>\n",
              "</div>\n",
              "      <button class=\"colab-df-convert\" onclick=\"convertToInteractive('df-83d863c2-3c34-458d-9140-7d4b2496ac97')\"\n",
              "              title=\"Convert this dataframe to an interactive table.\"\n",
              "              style=\"display:none;\">\n",
              "        \n",
              "  <svg xmlns=\"http://www.w3.org/2000/svg\" height=\"24px\"viewBox=\"0 0 24 24\"\n",
              "       width=\"24px\">\n",
              "    <path d=\"M0 0h24v24H0V0z\" fill=\"none\"/>\n",
              "    <path d=\"M18.56 5.44l.94 2.06.94-2.06 2.06-.94-2.06-.94-.94-2.06-.94 2.06-2.06.94zm-11 1L8.5 8.5l.94-2.06 2.06-.94-2.06-.94L8.5 2.5l-.94 2.06-2.06.94zm10 10l.94 2.06.94-2.06 2.06-.94-2.06-.94-.94-2.06-.94 2.06-2.06.94z\"/><path d=\"M17.41 7.96l-1.37-1.37c-.4-.4-.92-.59-1.43-.59-.52 0-1.04.2-1.43.59L10.3 9.45l-7.72 7.72c-.78.78-.78 2.05 0 2.83L4 21.41c.39.39.9.59 1.41.59.51 0 1.02-.2 1.41-.59l7.78-7.78 2.81-2.81c.8-.78.8-2.07 0-2.86zM5.41 20L4 18.59l7.72-7.72 1.47 1.35L5.41 20z\"/>\n",
              "  </svg>\n",
              "      </button>\n",
              "      \n",
              "  <style>\n",
              "    .colab-df-container {\n",
              "      display:flex;\n",
              "      flex-wrap:wrap;\n",
              "      gap: 12px;\n",
              "    }\n",
              "\n",
              "    .colab-df-convert {\n",
              "      background-color: #E8F0FE;\n",
              "      border: none;\n",
              "      border-radius: 50%;\n",
              "      cursor: pointer;\n",
              "      display: none;\n",
              "      fill: #1967D2;\n",
              "      height: 32px;\n",
              "      padding: 0 0 0 0;\n",
              "      width: 32px;\n",
              "    }\n",
              "\n",
              "    .colab-df-convert:hover {\n",
              "      background-color: #E2EBFA;\n",
              "      box-shadow: 0px 1px 2px rgba(60, 64, 67, 0.3), 0px 1px 3px 1px rgba(60, 64, 67, 0.15);\n",
              "      fill: #174EA6;\n",
              "    }\n",
              "\n",
              "    [theme=dark] .colab-df-convert {\n",
              "      background-color: #3B4455;\n",
              "      fill: #D2E3FC;\n",
              "    }\n",
              "\n",
              "    [theme=dark] .colab-df-convert:hover {\n",
              "      background-color: #434B5C;\n",
              "      box-shadow: 0px 1px 3px 1px rgba(0, 0, 0, 0.15);\n",
              "      filter: drop-shadow(0px 1px 2px rgba(0, 0, 0, 0.3));\n",
              "      fill: #FFFFFF;\n",
              "    }\n",
              "  </style>\n",
              "\n",
              "      <script>\n",
              "        const buttonEl =\n",
              "          document.querySelector('#df-83d863c2-3c34-458d-9140-7d4b2496ac97 button.colab-df-convert');\n",
              "        buttonEl.style.display =\n",
              "          google.colab.kernel.accessAllowed ? 'block' : 'none';\n",
              "\n",
              "        async function convertToInteractive(key) {\n",
              "          const element = document.querySelector('#df-83d863c2-3c34-458d-9140-7d4b2496ac97');\n",
              "          const dataTable =\n",
              "            await google.colab.kernel.invokeFunction('convertToInteractive',\n",
              "                                                     [key], {});\n",
              "          if (!dataTable) return;\n",
              "\n",
              "          const docLinkHtml = 'Like what you see? Visit the ' +\n",
              "            '<a target=\"_blank\" href=https://colab.research.google.com/notebooks/data_table.ipynb>data table notebook</a>'\n",
              "            + ' to learn more about interactive tables.';\n",
              "          element.innerHTML = '';\n",
              "          dataTable['output_type'] = 'display_data';\n",
              "          await google.colab.output.renderOutput(dataTable, element);\n",
              "          const docLink = document.createElement('div');\n",
              "          docLink.innerHTML = docLinkHtml;\n",
              "          element.appendChild(docLink);\n",
              "        }\n",
              "      </script>\n",
              "    </div>\n",
              "  </div>\n",
              "  "
            ]
          },
          "metadata": {},
          "execution_count": 251
        }
      ]
    },
    {
      "cell_type": "markdown",
      "source": [
        "Navie bayes have accuracy about 0.789 which is lower than the treshold. So the model has the lower result."
      ],
      "metadata": {
        "id": "XrrkA4xRiDvx"
      }
    },
    {
      "cell_type": "code",
      "source": [
        "# check model accuracy\n",
        "metrics.accuracy_score(y_test, pred_result)"
      ],
      "metadata": {
        "colab": {
          "base_uri": "https://localhost:8080/"
        },
        "id": "hOiHwNTMaF60",
        "outputId": "95386278-5e67-4c18-d4cb-3f2796f6666c"
      },
      "execution_count": 252,
      "outputs": [
        {
          "output_type": "execute_result",
          "data": {
            "text/plain": [
              "0.7896440129449838"
            ]
          },
          "metadata": {},
          "execution_count": 252
        }
      ]
    },
    {
      "cell_type": "code",
      "source": [
        "# check confusion matrix\n",
        "skplt.metrics.plot_confusion_matrix(y_test, pred_result);"
      ],
      "metadata": {
        "colab": {
          "base_uri": "https://localhost:8080/",
          "height": 295
        },
        "id": "zaD6LdhNaHTK",
        "outputId": "14e0a128-e209-49f9-bcc5-3afd628dae3b"
      },
      "execution_count": 253,
      "outputs": [
        {
          "output_type": "display_data",
          "data": {
            "text/plain": [
              "<Figure size 432x288 with 2 Axes>"
            ],
            "image/png": "[encoded data removed]"
          },
          "metadata": {
            "needs_background": "light"
          }
        }
      ]
    },
    {
      "cell_type": "markdown",
      "source": [
        "##### [METRIC MODEL EVALUATION] #####\n",
        "\n",
        "Ketepatan Model Memprediksi : 0.789\n",
        "\n",
        "[Matrix Confusion]\n",
        "customer positif yang merespon campaign yang diprediksi Benar oleh Model sejumlah 442\n",
        "customer positif yang merespon campaign yang diprediksi Salah oleh Model sejumlah 82\n",
        "customer Negatif yang merespon campaign yang diprediksi Benar oleh Model sejumlah 48\n",
        "Donatur Negatif yang merespon campaign yang diprediksi Salah oleh Model sejumlah 46\n",
        "\n",
        "Nilai Recall sebesar 0.489362\n",
        "\n",
        "Nilai F1 Score sebesar 0.414414"
      ],
      "metadata": {
        "id": "rRLyQFCKjjNo"
      }
    },
    {
      "cell_type": "code",
      "source": [
        "# check ROC-AUC curve and result\n",
        "skplt.metrics.plot_roc_curve(y_test, pred_proba_result);"
      ],
      "metadata": {
        "colab": {
          "base_uri": "https://localhost:8080/",
          "height": 329
        },
        "id": "ycQgGcPNaNPu",
        "outputId": "e639cdf6-38c1-40ac-abcd-0039488f455a"
      },
      "execution_count": 254,
      "outputs": [
        {
          "output_type": "stream",
          "name": "stderr",
          "text": [
            "/usr/local/lib/python3.7/dist-packages/sklearn/utils/deprecation.py:87: FutureWarning: Function plot_roc_curve is deprecated; This will be removed in v0.5.0. Please use scikitplot.metrics.plot_roc instead.\n",
            "  warnings.warn(msg, category=FutureWarning)\n"
          ]
        },
        {
          "output_type": "display_data",
          "data": {
            "text/plain": [
              "<Figure size 432x288 with 1 Axes>"
            ],
            "image/png": "[encoded data removed]"
          },
          "metadata": {
            "needs_background": "light"
          }
        }
      ]
    },
    {
      "cell_type": "code",
      "source": [
        "# check f1-score\n",
        "metrics.f1_score(y_test, pred_result)"
      ],
      "metadata": {
        "colab": {
          "base_uri": "https://localhost:8080/"
        },
        "id": "B9DNvfUiaUO8",
        "outputId": "8c383724-1c73-4910-c3cd-6f01cbdc91f9"
      },
      "execution_count": 255,
      "outputs": [
        {
          "output_type": "execute_result",
          "data": {
            "text/plain": [
              "0.41441441441441446"
            ]
          },
          "metadata": {},
          "execution_count": 255
        }
      ]
    },
    {
      "cell_type": "code",
      "source": [
        "# find fpr and tpr using roc_curve() method\n",
        "fpr, tpr, thresholds = metrics.roc_curve(y_test, pred_proba_result[:,1])\n",
        "# calculate g-means\n",
        "gmeans = np.sqrt(tpr * (1-fpr))\n",
        "# find the best threshold\n",
        "ix = np.argmax(gmeans)\n",
        "print('Best Threshold={}, G-Mean={}'.format(thresholds[ix], gmeans[ix]))\n",
        "# change predict proba result to optimized one using new threshold\n",
        "new_pred_result = (pred_proba_result[:,1] >= thresholds[ix]).astype(int)\n",
        "# visualize confusion matrix after setting new threshold\n",
        "skplt.metrics.plot_confusion_matrix(y_test, new_pred_result);\n",
        "# check f1-score\n",
        "metrics.f1_score(y_test, new_pred_result)"
      ],
      "metadata": {
        "colab": {
          "base_uri": "https://localhost:8080/",
          "height": 329
        },
        "id": "QTPLOLyzaXLK",
        "outputId": "24fb83c2-a5a8-4ab0-ed7e-ceebb1447061"
      },
      "execution_count": 256,
      "outputs": [
        {
          "output_type": "stream",
          "name": "stdout",
          "text": [
            "Best Threshold=0.4223250020996862, G-Mean=0.65631513265649\n"
          ]
        },
        {
          "output_type": "execute_result",
          "data": {
            "text/plain": [
              "0.4188034188034188"
            ]
          },
          "metadata": {},
          "execution_count": 256
        },
        {
          "output_type": "display_data",
          "data": {
            "text/plain": [
              "<Figure size 432x288 with 2 Axes>"
            ],
            "image/png": "[encoded data removed]"
          },
          "metadata": {
            "needs_background": "light"
          }
        }
      ]
    },
    {
      "cell_type": "markdown",
      "source": [
        "**Conclusion\n",
        "We can conclude the EDA and model**\n",
        "\n",
        "EDA\n",
        "\n",
        "Recent users are more likely Response campaign.\n",
        "\n",
        "Logistic Regression is better model for this case than Navie bayes and KNN with about accuracy 0.852"
      ],
      "metadata": {
        "id": "4FQ5lLw3i6hp"
      }
    },
    {
      "cell_type": "markdown",
      "source": [
        "REKOMENDASI :\n",
        "\n",
        "> Dapat menggunakan model Logistic Regression untuk prediksi customer yang merespon campaign "
      ],
      "metadata": {
        "id": "q29n1-6FkjhF"
      }
    }
  ]
}