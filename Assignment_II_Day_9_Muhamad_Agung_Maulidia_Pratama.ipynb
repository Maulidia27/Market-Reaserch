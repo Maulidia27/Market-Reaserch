{
  "nbformat": 4,
  "nbformat_minor": 0,
  "metadata": {
    "colab": {
      "name": "Assignment II Day 9 - Muhamad Agung Maulidia Pratama.ipynb",
      "provenance": [],
      "collapsed_sections": []
    },
    "kernelspec": {
      "name": "python3",
      "display_name": "Python 3"
    },
    "language_info": {
      "name": "python"
    }
  },
  "cells": [
    {
      "cell_type": "markdown",
      "source": [
        "# **Advanced**"
      ],
      "metadata": {
        "id": "aOCf_4vUcE3J"
      }
    },
    {
      "cell_type": "code",
      "source": [
        "!pip install skope-rules\n",
        "!pip install cubist\n",
        "!pip install eli5\n",
        "!pip install scikit-plot"
      ],
      "metadata": {
        "colab": {
          "base_uri": "https://localhost:8080/"
        },
        "id": "rv15EQ9QgHDd",
        "outputId": "2bddb86e-f0ea-4c7b-f6c8-2c823cd96fc5"
      },
      "execution_count": 233,
      "outputs": [
        {
          "output_type": "stream",
          "name": "stdout",
          "text": [
            "Requirement already satisfied: skope-rules in /usr/local/lib/python3.7/dist-packages (1.0.1)\n",
            "Requirement already satisfied: pandas>=0.18.1 in /usr/local/lib/python3.7/dist-packages (from skope-rules) (1.3.5)\n",
            "Requirement already satisfied: scikit-learn>=0.17.1 in /usr/local/lib/python3.7/dist-packages (from skope-rules) (1.0.2)\n",
            "Requirement already satisfied: scipy>=0.17.0 in /usr/local/lib/python3.7/dist-packages (from skope-rules) (1.4.1)\n",
            "Requirement already satisfied: numpy>=1.10.4 in /usr/local/lib/python3.7/dist-packages (from skope-rules) (1.21.5)\n",
            "Requirement already satisfied: pytz>=2017.3 in /usr/local/lib/python3.7/dist-packages (from pandas>=0.18.1->skope-rules) (2018.9)\n",
            "Requirement already satisfied: python-dateutil>=2.7.3 in /usr/local/lib/python3.7/dist-packages (from pandas>=0.18.1->skope-rules) (2.8.2)\n",
            "Requirement already satisfied: six>=1.5 in /usr/local/lib/python3.7/dist-packages (from python-dateutil>=2.7.3->pandas>=0.18.1->skope-rules) (1.15.0)\n",
            "Requirement already satisfied: joblib>=0.11 in /usr/local/lib/python3.7/dist-packages (from scikit-learn>=0.17.1->skope-rules) (1.1.0)\n",
            "Requirement already satisfied: threadpoolctl>=2.0.0 in /usr/local/lib/python3.7/dist-packages (from scikit-learn>=0.17.1->skope-rules) (3.1.0)\n",
            "Requirement already satisfied: cubist in /usr/local/lib/python3.7/dist-packages (0.0.16)\n",
            "Requirement already satisfied: numpy>=1.19.2 in /usr/local/lib/python3.7/dist-packages (from cubist) (1.21.5)\n",
            "Requirement already satisfied: scikit-learn>=0.24.2 in /usr/local/lib/python3.7/dist-packages (from cubist) (1.0.2)\n",
            "Requirement already satisfied: pandas>=1.1.3 in /usr/local/lib/python3.7/dist-packages (from cubist) (1.3.5)\n",
            "Requirement already satisfied: python-dateutil>=2.7.3 in /usr/local/lib/python3.7/dist-packages (from pandas>=1.1.3->cubist) (2.8.2)\n",
            "Requirement already satisfied: pytz>=2017.3 in /usr/local/lib/python3.7/dist-packages (from pandas>=1.1.3->cubist) (2018.9)\n",
            "Requirement already satisfied: six>=1.5 in /usr/local/lib/python3.7/dist-packages (from python-dateutil>=2.7.3->pandas>=1.1.3->cubist) (1.15.0)\n",
            "Requirement already satisfied: threadpoolctl>=2.0.0 in /usr/local/lib/python3.7/dist-packages (from scikit-learn>=0.24.2->cubist) (3.1.0)\n",
            "Requirement already satisfied: joblib>=0.11 in /usr/local/lib/python3.7/dist-packages (from scikit-learn>=0.24.2->cubist) (1.1.0)\n",
            "Requirement already satisfied: scipy>=1.1.0 in /usr/local/lib/python3.7/dist-packages (from scikit-learn>=0.24.2->cubist) (1.4.1)\n",
            "Requirement already satisfied: eli5 in /usr/local/lib/python3.7/dist-packages (0.11.0)\n",
            "Requirement already satisfied: numpy>=1.9.0 in /usr/local/lib/python3.7/dist-packages (from eli5) (1.21.5)\n",
            "Requirement already satisfied: tabulate>=0.7.7 in /usr/local/lib/python3.7/dist-packages (from eli5) (0.8.9)\n",
            "Requirement already satisfied: jinja2 in /usr/local/lib/python3.7/dist-packages (from eli5) (2.11.3)\n",
            "Requirement already satisfied: scipy in /usr/local/lib/python3.7/dist-packages (from eli5) (1.4.1)\n",
            "Requirement already satisfied: six in /usr/local/lib/python3.7/dist-packages (from eli5) (1.15.0)\n",
            "Requirement already satisfied: attrs>16.0.0 in /usr/local/lib/python3.7/dist-packages (from eli5) (21.4.0)\n",
            "Requirement already satisfied: scikit-learn>=0.20 in /usr/local/lib/python3.7/dist-packages (from eli5) (1.0.2)\n",
            "Requirement already satisfied: graphviz in /usr/local/lib/python3.7/dist-packages (from eli5) (0.10.1)\n",
            "Requirement already satisfied: threadpoolctl>=2.0.0 in /usr/local/lib/python3.7/dist-packages (from scikit-learn>=0.20->eli5) (3.1.0)\n",
            "Requirement already satisfied: joblib>=0.11 in /usr/local/lib/python3.7/dist-packages (from scikit-learn>=0.20->eli5) (1.1.0)\n",
            "Requirement already satisfied: MarkupSafe>=0.23 in /usr/local/lib/python3.7/dist-packages (from jinja2->eli5) (2.0.1)\n",
            "Requirement already satisfied: scikit-plot in /usr/local/lib/python3.7/dist-packages (0.3.7)\n",
            "Requirement already satisfied: matplotlib>=1.4.0 in /usr/local/lib/python3.7/dist-packages (from scikit-plot) (3.2.2)\n",
            "Requirement already satisfied: scipy>=0.9 in /usr/local/lib/python3.7/dist-packages (from scikit-plot) (1.4.1)\n",
            "Requirement already satisfied: joblib>=0.10 in /usr/local/lib/python3.7/dist-packages (from scikit-plot) (1.1.0)\n",
            "Requirement already satisfied: scikit-learn>=0.18 in /usr/local/lib/python3.7/dist-packages (from scikit-plot) (1.0.2)\n",
            "Requirement already satisfied: kiwisolver>=1.0.1 in /usr/local/lib/python3.7/dist-packages (from matplotlib>=1.4.0->scikit-plot) (1.4.2)\n",
            "Requirement already satisfied: python-dateutil>=2.1 in /usr/local/lib/python3.7/dist-packages (from matplotlib>=1.4.0->scikit-plot) (2.8.2)\n",
            "Requirement already satisfied: pyparsing!=2.0.4,!=2.1.2,!=2.1.6,>=2.0.1 in /usr/local/lib/python3.7/dist-packages (from matplotlib>=1.4.0->scikit-plot) (3.0.8)\n",
            "Requirement already satisfied: numpy>=1.11 in /usr/local/lib/python3.7/dist-packages (from matplotlib>=1.4.0->scikit-plot) (1.21.5)\n",
            "Requirement already satisfied: cycler>=0.10 in /usr/local/lib/python3.7/dist-packages (from matplotlib>=1.4.0->scikit-plot) (0.11.0)\n",
            "Requirement already satisfied: typing-extensions in /usr/local/lib/python3.7/dist-packages (from kiwisolver>=1.0.1->matplotlib>=1.4.0->scikit-plot) (4.1.1)\n",
            "Requirement already satisfied: six>=1.5 in /usr/local/lib/python3.7/dist-packages (from python-dateutil>=2.1->matplotlib>=1.4.0->scikit-plot) (1.15.0)\n",
            "Requirement already satisfied: threadpoolctl>=2.0.0 in /usr/local/lib/python3.7/dist-packages (from scikit-learn>=0.18->scikit-plot) (3.1.0)\n"
          ]
        }
      ]
    },
    {
      "cell_type": "code",
      "execution_count": 234,
      "metadata": {
        "colab": {
          "base_uri": "https://localhost:8080/",
          "height": 235
        },
        "id": "FPqa4jMNb0So",
        "outputId": "4d6b59ba-9098-4fbf-affa-67ab8ed2b93f"
      },
      "outputs": [
        {
          "output_type": "execute_result",
          "data": {
            "text/plain": [
              "     ID  Year_Birth   Education Marital_Status   Income  Kidhome  Teenhome  \\\n",
              "0  5524        1957  Graduation         Single  58138.0        0         0   \n",
              "1  2174        1954  Graduation         Single  46344.0        1         1   \n",
              "2  4141        1965  Graduation       Together  71613.0        0         0   \n",
              "3  6182        1984  Graduation       Together  26646.0        1         0   \n",
              "4  5324        1981         PhD        Married  58293.0        1         0   \n",
              "\n",
              "  Dt_Customer  Recency  MntWines  ...  NumWebVisitsMonth  AcceptedCmp3  \\\n",
              "0  2012-09-04       58       635  ...                  7             0   \n",
              "1  2014-03-08       38        11  ...                  5             0   \n",
              "2  2013-08-21       26       426  ...                  4             0   \n",
              "3  2014-02-10       26        11  ...                  6             0   \n",
              "4  2014-01-19       94       173  ...                  5             0   \n",
              "\n",
              "   AcceptedCmp4  AcceptedCmp5  AcceptedCmp1  AcceptedCmp2  Complain  \\\n",
              "0             0             0             0             0         0   \n",
              "1             0             0             0             0         0   \n",
              "2             0             0             0             0         0   \n",
              "3             0             0             0             0         0   \n",
              "4             0             0             0             0         0   \n",
              "\n",
              "   Z_CostContact  Z_Revenue  Response  \n",
              "0              3         11         1  \n",
              "1              3         11         0  \n",
              "2              3         11         0  \n",
              "3              3         11         0  \n",
              "4              3         11         0  \n",
              "\n",
              "[5 rows x 29 columns]"
            ],
            "text/html": [
              "\n",
              "  <div id=\"df-6ddf52e3-a9b1-4b54-990f-7b543cdd940e\">\n",
              "    <div class=\"colab-df-container\">\n",
              "      <div>\n",
              "<style scoped>\n",
              "    .dataframe tbody tr th:only-of-type {\n",
              "        vertical-align: middle;\n",
              "    }\n",
              "\n",
              "    .dataframe tbody tr th {\n",
              "        vertical-align: top;\n",
              "    }\n",
              "\n",
              "    .dataframe thead th {\n",
              "        text-align: right;\n",
              "    }\n",
              "</style>\n",
              "<table border=\"1\" class=\"dataframe\">\n",
              "  <thead>\n",
              "    <tr style=\"text-align: right;\">\n",
              "      <th></th>\n",
              "      <th>ID</th>\n",
              "      <th>Year_Birth</th>\n",
              "      <th>Education</th>\n",
              "      <th>Marital_Status</th>\n",
              "      <th>Income</th>\n",
              "      <th>Kidhome</th>\n",
              "      <th>Teenhome</th>\n",
              "      <th>Dt_Customer</th>\n",
              "      <th>Recency</th>\n",
              "      <th>MntWines</th>\n",
              "      <th>...</th>\n",
              "      <th>NumWebVisitsMonth</th>\n",
              "      <th>AcceptedCmp3</th>\n",
              "      <th>AcceptedCmp4</th>\n",
              "      <th>AcceptedCmp5</th>\n",
              "      <th>AcceptedCmp1</th>\n",
              "      <th>AcceptedCmp2</th>\n",
              "      <th>Complain</th>\n",
              "      <th>Z_CostContact</th>\n",
              "      <th>Z_Revenue</th>\n",
              "      <th>Response</th>\n",
              "    </tr>\n",
              "  </thead>\n",
              "  <tbody>\n",
              "    <tr>\n",
              "      <th>0</th>\n",
              "      <td>5524</td>\n",
              "      <td>1957</td>\n",
              "      <td>Graduation</td>\n",
              "      <td>Single</td>\n",
              "      <td>58138.0</td>\n",
              "      <td>0</td>\n",
              "      <td>0</td>\n",
              "      <td>2012-09-04</td>\n",
              "      <td>58</td>\n",
              "      <td>635</td>\n",
              "      <td>...</td>\n",
              "      <td>7</td>\n",
              "      <td>0</td>\n",
              "      <td>0</td>\n",
              "      <td>0</td>\n",
              "      <td>0</td>\n",
              "      <td>0</td>\n",
              "      <td>0</td>\n",
              "      <td>3</td>\n",
              "      <td>11</td>\n",
              "      <td>1</td>\n",
              "    </tr>\n",
              "    <tr>\n",
              "      <th>1</th>\n",
              "      <td>2174</td>\n",
              "      <td>1954</td>\n",
              "      <td>Graduation</td>\n",
              "      <td>Single</td>\n",
              "      <td>46344.0</td>\n",
              "      <td>1</td>\n",
              "      <td>1</td>\n",
              "      <td>2014-03-08</td>\n",
              "      <td>38</td>\n",
              "      <td>11</td>\n",
              "      <td>...</td>\n",
              "      <td>5</td>\n",
              "      <td>0</td>\n",
              "      <td>0</td>\n",
              "      <td>0</td>\n",
              "      <td>0</td>\n",
              "      <td>0</td>\n",
              "      <td>0</td>\n",
              "      <td>3</td>\n",
              "      <td>11</td>\n",
              "      <td>0</td>\n",
              "    </tr>\n",
              "    <tr>\n",
              "      <th>2</th>\n",
              "      <td>4141</td>\n",
              "      <td>1965</td>\n",
              "      <td>Graduation</td>\n",
              "      <td>Together</td>\n",
              "      <td>71613.0</td>\n",
              "      <td>0</td>\n",
              "      <td>0</td>\n",
              "      <td>2013-08-21</td>\n",
              "      <td>26</td>\n",
              "      <td>426</td>\n",
              "      <td>...</td>\n",
              "      <td>4</td>\n",
              "      <td>0</td>\n",
              "      <td>0</td>\n",
              "      <td>0</td>\n",
              "      <td>0</td>\n",
              "      <td>0</td>\n",
              "      <td>0</td>\n",
              "      <td>3</td>\n",
              "      <td>11</td>\n",
              "      <td>0</td>\n",
              "    </tr>\n",
              "    <tr>\n",
              "      <th>3</th>\n",
              "      <td>6182</td>\n",
              "      <td>1984</td>\n",
              "      <td>Graduation</td>\n",
              "      <td>Together</td>\n",
              "      <td>26646.0</td>\n",
              "      <td>1</td>\n",
              "      <td>0</td>\n",
              "      <td>2014-02-10</td>\n",
              "      <td>26</td>\n",
              "      <td>11</td>\n",
              "      <td>...</td>\n",
              "      <td>6</td>\n",
              "      <td>0</td>\n",
              "      <td>0</td>\n",
              "      <td>0</td>\n",
              "      <td>0</td>\n",
              "      <td>0</td>\n",
              "      <td>0</td>\n",
              "      <td>3</td>\n",
              "      <td>11</td>\n",
              "      <td>0</td>\n",
              "    </tr>\n",
              "    <tr>\n",
              "      <th>4</th>\n",
              "      <td>5324</td>\n",
              "      <td>1981</td>\n",
              "      <td>PhD</td>\n",
              "      <td>Married</td>\n",
              "      <td>58293.0</td>\n",
              "      <td>1</td>\n",
              "      <td>0</td>\n",
              "      <td>2014-01-19</td>\n",
              "      <td>94</td>\n",
              "      <td>173</td>\n",
              "      <td>...</td>\n",
              "      <td>5</td>\n",
              "      <td>0</td>\n",
              "      <td>0</td>\n",
              "      <td>0</td>\n",
              "      <td>0</td>\n",
              "      <td>0</td>\n",
              "      <td>0</td>\n",
              "      <td>3</td>\n",
              "      <td>11</td>\n",
              "      <td>0</td>\n",
              "    </tr>\n",
              "  </tbody>\n",
              "</table>\n",
              "<p>5 rows × 29 columns</p>\n",
              "</div>\n",
              "      <button class=\"colab-df-convert\" onclick=\"convertToInteractive('df-6ddf52e3-a9b1-4b54-990f-7b543cdd940e')\"\n",
              "              title=\"Convert this dataframe to an interactive table.\"\n",
              "              style=\"display:none;\">\n",
              "        \n",
              "  <svg xmlns=\"http://www.w3.org/2000/svg\" height=\"24px\"viewBox=\"0 0 24 24\"\n",
              "       width=\"24px\">\n",
              "    <path d=\"M0 0h24v24H0V0z\" fill=\"none\"/>\n",
              "    <path d=\"M18.56 5.44l.94 2.06.94-2.06 2.06-.94-2.06-.94-.94-2.06-.94 2.06-2.06.94zm-11 1L8.5 8.5l.94-2.06 2.06-.94-2.06-.94L8.5 2.5l-.94 2.06-2.06.94zm10 10l.94 2.06.94-2.06 2.06-.94-2.06-.94-.94-2.06-.94 2.06-2.06.94z\"/><path d=\"M17.41 7.96l-1.37-1.37c-.4-.4-.92-.59-1.43-.59-.52 0-1.04.2-1.43.59L10.3 9.45l-7.72 7.72c-.78.78-.78 2.05 0 2.83L4 21.41c.39.39.9.59 1.41.59.51 0 1.02-.2 1.41-.59l7.78-7.78 2.81-2.81c.8-.78.8-2.07 0-2.86zM5.41 20L4 18.59l7.72-7.72 1.47 1.35L5.41 20z\"/>\n",
              "  </svg>\n",
              "      </button>\n",
              "      \n",
              "  <style>\n",
              "    .colab-df-container {\n",
              "      display:flex;\n",
              "      flex-wrap:wrap;\n",
              "      gap: 12px;\n",
              "    }\n",
              "\n",
              "    .colab-df-convert {\n",
              "      background-color: #E8F0FE;\n",
              "      border: none;\n",
              "      border-radius: 50%;\n",
              "      cursor: pointer;\n",
              "      display: none;\n",
              "      fill: #1967D2;\n",
              "      height: 32px;\n",
              "      padding: 0 0 0 0;\n",
              "      width: 32px;\n",
              "    }\n",
              "\n",
              "    .colab-df-convert:hover {\n",
              "      background-color: #E2EBFA;\n",
              "      box-shadow: 0px 1px 2px rgba(60, 64, 67, 0.3), 0px 1px 3px 1px rgba(60, 64, 67, 0.15);\n",
              "      fill: #174EA6;\n",
              "    }\n",
              "\n",
              "    [theme=dark] .colab-df-convert {\n",
              "      background-color: #3B4455;\n",
              "      fill: #D2E3FC;\n",
              "    }\n",
              "\n",
              "    [theme=dark] .colab-df-convert:hover {\n",
              "      background-color: #434B5C;\n",
              "      box-shadow: 0px 1px 3px 1px rgba(0, 0, 0, 0.15);\n",
              "      filter: drop-shadow(0px 1px 2px rgba(0, 0, 0, 0.3));\n",
              "      fill: #FFFFFF;\n",
              "    }\n",
              "  </style>\n",
              "\n",
              "      <script>\n",
              "        const buttonEl =\n",
              "          document.querySelector('#df-6ddf52e3-a9b1-4b54-990f-7b543cdd940e button.colab-df-convert');\n",
              "        buttonEl.style.display =\n",
              "          google.colab.kernel.accessAllowed ? 'block' : 'none';\n",
              "\n",
              "        async function convertToInteractive(key) {\n",
              "          const element = document.querySelector('#df-6ddf52e3-a9b1-4b54-990f-7b543cdd940e');\n",
              "          const dataTable =\n",
              "            await google.colab.kernel.invokeFunction('convertToInteractive',\n",
              "                                                     [key], {});\n",
              "          if (!dataTable) return;\n",
              "\n",
              "          const docLinkHtml = 'Like what you see? Visit the ' +\n",
              "            '<a target=\"_blank\" href=https://colab.research.google.com/notebooks/data_table.ipynb>data table notebook</a>'\n",
              "            + ' to learn more about interactive tables.';\n",
              "          element.innerHTML = '';\n",
              "          dataTable['output_type'] = 'display_data';\n",
              "          await google.colab.output.renderOutput(dataTable, element);\n",
              "          const docLink = document.createElement('div');\n",
              "          docLink.innerHTML = docLinkHtml;\n",
              "          element.appendChild(docLink);\n",
              "        }\n",
              "      </script>\n",
              "    </div>\n",
              "  </div>\n",
              "  "
            ]
          },
          "metadata": {},
          "execution_count": 234
        }
      ],
      "source": [
        "#Import Library\n",
        "import pandas as pd\n",
        "\n",
        "# Import matplotlib.pyplot with alias plt\n",
        "import matplotlib.pyplot as plt\n",
        "import pandas as pd\n",
        "import numpy as np\n",
        "\n",
        "# import pandas for data wrangling\n",
        "import pandas as pd\n",
        "# import numpy for vectorize data manipulation\n",
        "import numpy as np\n",
        "# import matplotlib.pyplot module for data visualization\n",
        "import matplotlib.pyplot as plt\n",
        "\n",
        "# import train and test split method from scikit-learn\n",
        "from sklearn.model_selection import train_test_split\n",
        "# import metrics method for model evaluation\n",
        "import sklearn.metrics as metrics\n",
        "# Lload k-nearest neighbors model\n",
        "from sklearn.neighbors import KNeighborsClassifier\n",
        "#load logistic regression model\n",
        "from sklearn.linear_model import LogisticRegression\n",
        "\n",
        "# load navie bayes\n",
        "from sklearn.naive_bayes import GaussianNB\n",
        "from sklearn.metrics import accuracy_score\n",
        "from sklearn.metrics import confusion_matrix\n",
        "from sklearn.metrics import f1_score\n",
        "\n",
        "# load statsmodel module \n",
        "import statsmodels.api as sm\n",
        "import statsmodels.formula.api as smf\n",
        "\n",
        "# load scikit-plot modules\n",
        "import scikitplot as skplt\n",
        "\n",
        "# load eli5\n",
        "import eli5\n",
        "#Load data link csv dari github\n",
        "url = 'https://raw.githubusercontent.com/hadimaster65555/dataset_for_teaching/main/dataset/marketing_campaign_response_model/marketing_campaign.csv'\n",
        "df = pd.read_csv(url, index_col=0)\n",
        "df = pd.read_csv(url, sep=\";\")\n",
        "\n",
        "#Check data\n",
        "df.head(5)"
      ]
    },
    {
      "cell_type": "markdown",
      "source": [
        "# **Preprocessing Data**"
      ],
      "metadata": {
        "id": "29_YGODrcHhv"
      }
    },
    {
      "cell_type": "code",
      "source": [
        "# remove id, customer_code, and co_name from dataset\n",
        "mr_data = df.drop(\n",
        "    ['ID', 'Year_Birth', 'Dt_Customer'],\n",
        "    axis = 1\n",
        ")\n",
        "\n",
        "# check its first 5 rows\n",
        "mr_data.head()"
      ],
      "metadata": {
        "colab": {
          "base_uri": "https://localhost:8080/",
          "height": 299
        },
        "id": "GYfpLu_JcNwS",
        "outputId": "76cacd57-bce1-4d6d-b84d-86bd450fe0c5"
      },
      "execution_count": 235,
      "outputs": [
        {
          "output_type": "execute_result",
          "data": {
            "text/plain": [
              "    Education Marital_Status   Income  Kidhome  Teenhome  Recency  MntWines  \\\n",
              "0  Graduation         Single  58138.0        0         0       58       635   \n",
              "1  Graduation         Single  46344.0        1         1       38        11   \n",
              "2  Graduation       Together  71613.0        0         0       26       426   \n",
              "3  Graduation       Together  26646.0        1         0       26        11   \n",
              "4         PhD        Married  58293.0        1         0       94       173   \n",
              "\n",
              "   MntFruits  MntMeatProducts  MntFishProducts  ...  NumWebVisitsMonth  \\\n",
              "0         88              546              172  ...                  7   \n",
              "1          1                6                2  ...                  5   \n",
              "2         49              127              111  ...                  4   \n",
              "3          4               20               10  ...                  6   \n",
              "4         43              118               46  ...                  5   \n",
              "\n",
              "   AcceptedCmp3  AcceptedCmp4  AcceptedCmp5  AcceptedCmp1  AcceptedCmp2  \\\n",
              "0             0             0             0             0             0   \n",
              "1             0             0             0             0             0   \n",
              "2             0             0             0             0             0   \n",
              "3             0             0             0             0             0   \n",
              "4             0             0             0             0             0   \n",
              "\n",
              "   Complain  Z_CostContact  Z_Revenue  Response  \n",
              "0         0              3         11         1  \n",
              "1         0              3         11         0  \n",
              "2         0              3         11         0  \n",
              "3         0              3         11         0  \n",
              "4         0              3         11         0  \n",
              "\n",
              "[5 rows x 26 columns]"
            ],
            "text/html": [
              "\n",
              "  <div id=\"df-8bf0afa8-43d7-47ff-8de6-6badc021f7d5\">\n",
              "    <div class=\"colab-df-container\">\n",
              "      <div>\n",
              "<style scoped>\n",
              "    .dataframe tbody tr th:only-of-type {\n",
              "        vertical-align: middle;\n",
              "    }\n",
              "\n",
              "    .dataframe tbody tr th {\n",
              "        vertical-align: top;\n",
              "    }\n",
              "\n",
              "    .dataframe thead th {\n",
              "        text-align: right;\n",
              "    }\n",
              "</style>\n",
              "<table border=\"1\" class=\"dataframe\">\n",
              "  <thead>\n",
              "    <tr style=\"text-align: right;\">\n",
              "      <th></th>\n",
              "      <th>Education</th>\n",
              "      <th>Marital_Status</th>\n",
              "      <th>Income</th>\n",
              "      <th>Kidhome</th>\n",
              "      <th>Teenhome</th>\n",
              "      <th>Recency</th>\n",
              "      <th>MntWines</th>\n",
              "      <th>MntFruits</th>\n",
              "      <th>MntMeatProducts</th>\n",
              "      <th>MntFishProducts</th>\n",
              "      <th>...</th>\n",
              "      <th>NumWebVisitsMonth</th>\n",
              "      <th>AcceptedCmp3</th>\n",
              "      <th>AcceptedCmp4</th>\n",
              "      <th>AcceptedCmp5</th>\n",
              "      <th>AcceptedCmp1</th>\n",
              "      <th>AcceptedCmp2</th>\n",
              "      <th>Complain</th>\n",
              "      <th>Z_CostContact</th>\n",
              "      <th>Z_Revenue</th>\n",
              "      <th>Response</th>\n",
              "    </tr>\n",
              "  </thead>\n",
              "  <tbody>\n",
              "    <tr>\n",
              "      <th>0</th>\n",
              "      <td>Graduation</td>\n",
              "      <td>Single</td>\n",
              "      <td>58138.0</td>\n",
              "      <td>0</td>\n",
              "      <td>0</td>\n",
              "      <td>58</td>\n",
              "      <td>635</td>\n",
              "      <td>88</td>\n",
              "      <td>546</td>\n",
              "      <td>172</td>\n",
              "      <td>...</td>\n",
              "      <td>7</td>\n",
              "      <td>0</td>\n",
              "      <td>0</td>\n",
              "      <td>0</td>\n",
              "      <td>0</td>\n",
              "      <td>0</td>\n",
              "      <td>0</td>\n",
              "      <td>3</td>\n",
              "      <td>11</td>\n",
              "      <td>1</td>\n",
              "    </tr>\n",
              "    <tr>\n",
              "      <th>1</th>\n",
              "      <td>Graduation</td>\n",
              "      <td>Single</td>\n",
              "      <td>46344.0</td>\n",
              "      <td>1</td>\n",
              "      <td>1</td>\n",
              "      <td>38</td>\n",
              "      <td>11</td>\n",
              "      <td>1</td>\n",
              "      <td>6</td>\n",
              "      <td>2</td>\n",
              "      <td>...</td>\n",
              "      <td>5</td>\n",
              "      <td>0</td>\n",
              "      <td>0</td>\n",
              "      <td>0</td>\n",
              "      <td>0</td>\n",
              "      <td>0</td>\n",
              "      <td>0</td>\n",
              "      <td>3</td>\n",
              "      <td>11</td>\n",
              "      <td>0</td>\n",
              "    </tr>\n",
              "    <tr>\n",
              "      <th>2</th>\n",
              "      <td>Graduation</td>\n",
              "      <td>Together</td>\n",
              "      <td>71613.0</td>\n",
              "      <td>0</td>\n",
              "      <td>0</td>\n",
              "      <td>26</td>\n",
              "      <td>426</td>\n",
              "      <td>49</td>\n",
              "      <td>127</td>\n",
              "      <td>111</td>\n",
              "      <td>...</td>\n",
              "      <td>4</td>\n",
              "      <td>0</td>\n",
              "      <td>0</td>\n",
              "      <td>0</td>\n",
              "      <td>0</td>\n",
              "      <td>0</td>\n",
              "      <td>0</td>\n",
              "      <td>3</td>\n",
              "      <td>11</td>\n",
              "      <td>0</td>\n",
              "    </tr>\n",
              "    <tr>\n",
              "      <th>3</th>\n",
              "      <td>Graduation</td>\n",
              "      <td>Together</td>\n",
              "      <td>26646.0</td>\n",
              "      <td>1</td>\n",
              "      <td>0</td>\n",
              "      <td>26</td>\n",
              "      <td>11</td>\n",
              "      <td>4</td>\n",
              "      <td>20</td>\n",
              "      <td>10</td>\n",
              "      <td>...</td>\n",
              "      <td>6</td>\n",
              "      <td>0</td>\n",
              "      <td>0</td>\n",
              "      <td>0</td>\n",
              "      <td>0</td>\n",
              "      <td>0</td>\n",
              "      <td>0</td>\n",
              "      <td>3</td>\n",
              "      <td>11</td>\n",
              "      <td>0</td>\n",
              "    </tr>\n",
              "    <tr>\n",
              "      <th>4</th>\n",
              "      <td>PhD</td>\n",
              "      <td>Married</td>\n",
              "      <td>58293.0</td>\n",
              "      <td>1</td>\n",
              "      <td>0</td>\n",
              "      <td>94</td>\n",
              "      <td>173</td>\n",
              "      <td>43</td>\n",
              "      <td>118</td>\n",
              "      <td>46</td>\n",
              "      <td>...</td>\n",
              "      <td>5</td>\n",
              "      <td>0</td>\n",
              "      <td>0</td>\n",
              "      <td>0</td>\n",
              "      <td>0</td>\n",
              "      <td>0</td>\n",
              "      <td>0</td>\n",
              "      <td>3</td>\n",
              "      <td>11</td>\n",
              "      <td>0</td>\n",
              "    </tr>\n",
              "  </tbody>\n",
              "</table>\n",
              "<p>5 rows × 26 columns</p>\n",
              "</div>\n",
              "      <button class=\"colab-df-convert\" onclick=\"convertToInteractive('df-8bf0afa8-43d7-47ff-8de6-6badc021f7d5')\"\n",
              "              title=\"Convert this dataframe to an interactive table.\"\n",
              "              style=\"display:none;\">\n",
              "        \n",
              "  <svg xmlns=\"http://www.w3.org/2000/svg\" height=\"24px\"viewBox=\"0 0 24 24\"\n",
              "       width=\"24px\">\n",
              "    <path d=\"M0 0h24v24H0V0z\" fill=\"none\"/>\n",
              "    <path d=\"M18.56 5.44l.94 2.06.94-2.06 2.06-.94-2.06-.94-.94-2.06-.94 2.06-2.06.94zm-11 1L8.5 8.5l.94-2.06 2.06-.94-2.06-.94L8.5 2.5l-.94 2.06-2.06.94zm10 10l.94 2.06.94-2.06 2.06-.94-2.06-.94-.94-2.06-.94 2.06-2.06.94z\"/><path d=\"M17.41 7.96l-1.37-1.37c-.4-.4-.92-.59-1.43-.59-.52 0-1.04.2-1.43.59L10.3 9.45l-7.72 7.72c-.78.78-.78 2.05 0 2.83L4 21.41c.39.39.9.59 1.41.59.51 0 1.02-.2 1.41-.59l7.78-7.78 2.81-2.81c.8-.78.8-2.07 0-2.86zM5.41 20L4 18.59l7.72-7.72 1.47 1.35L5.41 20z\"/>\n",
              "  </svg>\n",
              "      </button>\n",
              "      \n",
              "  <style>\n",
              "    .colab-df-container {\n",
              "      display:flex;\n",
              "      flex-wrap:wrap;\n",
              "      gap: 12px;\n",
              "    }\n",
              "\n",
              "    .colab-df-convert {\n",
              "      background-color: #E8F0FE;\n",
              "      border: none;\n",
              "      border-radius: 50%;\n",
              "      cursor: pointer;\n",
              "      display: none;\n",
              "      fill: #1967D2;\n",
              "      height: 32px;\n",
              "      padding: 0 0 0 0;\n",
              "      width: 32px;\n",
              "    }\n",
              "\n",
              "    .colab-df-convert:hover {\n",
              "      background-color: #E2EBFA;\n",
              "      box-shadow: 0px 1px 2px rgba(60, 64, 67, 0.3), 0px 1px 3px 1px rgba(60, 64, 67, 0.15);\n",
              "      fill: #174EA6;\n",
              "    }\n",
              "\n",
              "    [theme=dark] .colab-df-convert {\n",
              "      background-color: #3B4455;\n",
              "      fill: #D2E3FC;\n",
              "    }\n",
              "\n",
              "    [theme=dark] .colab-df-convert:hover {\n",
              "      background-color: #434B5C;\n",
              "      box-shadow: 0px 1px 3px 1px rgba(0, 0, 0, 0.15);\n",
              "      filter: drop-shadow(0px 1px 2px rgba(0, 0, 0, 0.3));\n",
              "      fill: #FFFFFF;\n",
              "    }\n",
              "  </style>\n",
              "\n",
              "      <script>\n",
              "        const buttonEl =\n",
              "          document.querySelector('#df-8bf0afa8-43d7-47ff-8de6-6badc021f7d5 button.colab-df-convert');\n",
              "        buttonEl.style.display =\n",
              "          google.colab.kernel.accessAllowed ? 'block' : 'none';\n",
              "\n",
              "        async function convertToInteractive(key) {\n",
              "          const element = document.querySelector('#df-8bf0afa8-43d7-47ff-8de6-6badc021f7d5');\n",
              "          const dataTable =\n",
              "            await google.colab.kernel.invokeFunction('convertToInteractive',\n",
              "                                                     [key], {});\n",
              "          if (!dataTable) return;\n",
              "\n",
              "          const docLinkHtml = 'Like what you see? Visit the ' +\n",
              "            '<a target=\"_blank\" href=https://colab.research.google.com/notebooks/data_table.ipynb>data table notebook</a>'\n",
              "            + ' to learn more about interactive tables.';\n",
              "          element.innerHTML = '';\n",
              "          dataTable['output_type'] = 'display_data';\n",
              "          await google.colab.output.renderOutput(dataTable, element);\n",
              "          const docLink = document.createElement('div');\n",
              "          docLink.innerHTML = docLinkHtml;\n",
              "          element.appendChild(docLink);\n",
              "        }\n",
              "      </script>\n",
              "    </div>\n",
              "  </div>\n",
              "  "
            ]
          },
          "metadata": {},
          "execution_count": 235
        }
      ]
    },
    {
      "cell_type": "code",
      "source": [
        "# count 'churned' class frequencies\n",
        "mr_data['Response'].value_counts()"
      ],
      "metadata": {
        "colab": {
          "base_uri": "https://localhost:8080/"
        },
        "id": "4K1BtixA0I-l",
        "outputId": "23160f13-f0c2-4a70-c987-eb7e64a6fb0f"
      },
      "execution_count": 236,
      "outputs": [
        {
          "output_type": "execute_result",
          "data": {
            "text/plain": [
              "0    1906\n",
              "1     334\n",
              "Name: Response, dtype: int64"
            ]
          },
          "metadata": {},
          "execution_count": 236
        }
      ]
    },
    {
      "cell_type": "code",
      "source": [
        "#Check missing value\n",
        "mr_data.isnull().sum()"
      ],
      "metadata": {
        "colab": {
          "base_uri": "https://localhost:8080/"
        },
        "id": "MHT0NG9i1mop",
        "outputId": "85b25d61-3055-464d-cff6-135954637952"
      },
      "execution_count": 237,
      "outputs": [
        {
          "output_type": "execute_result",
          "data": {
            "text/plain": [
              "Education               0\n",
              "Marital_Status          0\n",
              "Income                 24\n",
              "Kidhome                 0\n",
              "Teenhome                0\n",
              "Recency                 0\n",
              "MntWines                0\n",
              "MntFruits               0\n",
              "MntMeatProducts         0\n",
              "MntFishProducts         0\n",
              "MntSweetProducts        0\n",
              "MntGoldProds            0\n",
              "NumDealsPurchases       0\n",
              "NumWebPurchases         0\n",
              "NumCatalogPurchases     0\n",
              "NumStorePurchases       0\n",
              "NumWebVisitsMonth       0\n",
              "AcceptedCmp3            0\n",
              "AcceptedCmp4            0\n",
              "AcceptedCmp5            0\n",
              "AcceptedCmp1            0\n",
              "AcceptedCmp2            0\n",
              "Complain                0\n",
              "Z_CostContact           0\n",
              "Z_Revenue               0\n",
              "Response                0\n",
              "dtype: int64"
            ]
          },
          "metadata": {},
          "execution_count": 237
        }
      ]
    },
    {
      "cell_type": "code",
      "source": [
        "#df['col'] = df['col'].fillna(0)\n",
        "#df['col'] = df['col'].astype(np.int64)"
      ],
      "metadata": {
        "id": "v6jjgvzevMYq"
      },
      "execution_count": 238,
      "outputs": []
    },
    {
      "cell_type": "code",
      "source": [
        "mr_data['Income'] = mr_data['Income'].fillna(0).astype(np.int64).reset_index(drop=True)"
      ],
      "metadata": {
        "id": "Op377szLn4Xu"
      },
      "execution_count": 239,
      "outputs": []
    },
    {
      "cell_type": "code",
      "source": [
        "mr_data = mr_data.reset_index(drop=True)"
      ],
      "metadata": {
        "id": "2y4yJuUEqniR"
      },
      "execution_count": 240,
      "outputs": []
    },
    {
      "cell_type": "code",
      "source": [
        "mr_data.info()"
      ],
      "metadata": {
        "colab": {
          "base_uri": "https://localhost:8080/"
        },
        "id": "8qIS-He2ome7",
        "outputId": "b9902e36-6205-48e7-c123-bb0953c0efab"
      },
      "execution_count": 241,
      "outputs": [
        {
          "output_type": "stream",
          "name": "stdout",
          "text": [
            "<class 'pandas.core.frame.DataFrame'>\n",
            "RangeIndex: 2240 entries, 0 to 2239\n",
            "Data columns (total 26 columns):\n",
            " #   Column               Non-Null Count  Dtype \n",
            "---  ------               --------------  ----- \n",
            " 0   Education            2240 non-null   object\n",
            " 1   Marital_Status       2240 non-null   object\n",
            " 2   Income               2240 non-null   int64 \n",
            " 3   Kidhome              2240 non-null   int64 \n",
            " 4   Teenhome             2240 non-null   int64 \n",
            " 5   Recency              2240 non-null   int64 \n",
            " 6   MntWines             2240 non-null   int64 \n",
            " 7   MntFruits            2240 non-null   int64 \n",
            " 8   MntMeatProducts      2240 non-null   int64 \n",
            " 9   MntFishProducts      2240 non-null   int64 \n",
            " 10  MntSweetProducts     2240 non-null   int64 \n",
            " 11  MntGoldProds         2240 non-null   int64 \n",
            " 12  NumDealsPurchases    2240 non-null   int64 \n",
            " 13  NumWebPurchases      2240 non-null   int64 \n",
            " 14  NumCatalogPurchases  2240 non-null   int64 \n",
            " 15  NumStorePurchases    2240 non-null   int64 \n",
            " 16  NumWebVisitsMonth    2240 non-null   int64 \n",
            " 17  AcceptedCmp3         2240 non-null   int64 \n",
            " 18  AcceptedCmp4         2240 non-null   int64 \n",
            " 19  AcceptedCmp5         2240 non-null   int64 \n",
            " 20  AcceptedCmp1         2240 non-null   int64 \n",
            " 21  AcceptedCmp2         2240 non-null   int64 \n",
            " 22  Complain             2240 non-null   int64 \n",
            " 23  Z_CostContact        2240 non-null   int64 \n",
            " 24  Z_Revenue            2240 non-null   int64 \n",
            " 25  Response             2240 non-null   int64 \n",
            "dtypes: int64(24), object(2)\n",
            "memory usage: 455.1+ KB\n"
          ]
        }
      ]
    },
    {
      "cell_type": "markdown",
      "source": [
        "# **Simple EDA**"
      ],
      "metadata": {
        "id": "h2pHxdkGcRf8"
      }
    },
    {
      "cell_type": "code",
      "source": [
        "# check correlation matrix of mr_data\n",
        "mr_data.corr()"
      ],
      "metadata": {
        "colab": {
          "base_uri": "https://localhost:8080/",
          "height": 894
        },
        "id": "HJPVNxv4cRPW",
        "outputId": "142cb458-70e3-4dbd-d586-7391a5efef97"
      },
      "execution_count": 242,
      "outputs": [
        {
          "output_type": "execute_result",
          "data": {
            "text/plain": [
              "                       Income   Kidhome  Teenhome   Recency  MntWines  \\\n",
              "Income               1.000000 -0.424723  0.015498 -0.010603  0.570851   \n",
              "Kidhome             -0.424723  1.000000 -0.036133  0.008827 -0.496297   \n",
              "Teenhome             0.015498 -0.036133  1.000000  0.016198  0.004846   \n",
              "Recency             -0.010603  0.008827  0.016198  1.000000  0.016064   \n",
              "MntWines             0.570851 -0.496297  0.004846  0.016064  1.000000   \n",
              "MntFruits            0.421910 -0.372581 -0.176764 -0.004306  0.389637   \n",
              "MntMeatProducts      0.565318 -0.437129 -0.261160  0.023056  0.562667   \n",
              "MntFishProducts      0.431879 -0.387644 -0.204187  0.001079  0.399753   \n",
              "MntSweetProducts     0.424761 -0.370673 -0.162475  0.022670  0.386581   \n",
              "MntGoldProds         0.312600 -0.349595 -0.021725  0.016693  0.387516   \n",
              "NumDealsPurchases   -0.081962  0.221798  0.387741 -0.001098  0.010940   \n",
              "NumWebPurchases      0.372397 -0.361647  0.155500 -0.010726  0.542265   \n",
              "NumCatalogPurchases  0.579830 -0.502237 -0.110769  0.025110  0.635226   \n",
              "NumStorePurchases    0.521456 -0.499683  0.050695  0.000799  0.642100   \n",
              "NumWebVisitsMonth   -0.535452  0.447846  0.134884 -0.021445 -0.320653   \n",
              "AcceptedCmp3        -0.009682  0.014674 -0.042677 -0.032991  0.062202   \n",
              "AcceptedCmp4         0.174512 -0.161600  0.038886  0.018826  0.373286   \n",
              "AcceptedCmp5         0.329995 -0.205634 -0.191050  0.000129  0.472613   \n",
              "AcceptedCmp1         0.267087 -0.172339 -0.140090 -0.019283  0.354133   \n",
              "AcceptedCmp2         0.088132 -0.081716 -0.015605 -0.001781  0.205907   \n",
              "Complain            -0.024489  0.040207  0.003138  0.013231 -0.039007   \n",
              "Z_CostContact             NaN       NaN       NaN       NaN       NaN   \n",
              "Z_Revenue                 NaN       NaN       NaN       NaN       NaN   \n",
              "Response             0.136389 -0.080008 -0.154446 -0.198437  0.247254   \n",
              "\n",
              "                     MntFruits  MntMeatProducts  MntFishProducts  \\\n",
              "Income                0.421910         0.565318         0.431879   \n",
              "Kidhome              -0.372581        -0.437129        -0.387644   \n",
              "Teenhome             -0.176764        -0.261160        -0.204187   \n",
              "Recency              -0.004306         0.023056         0.001079   \n",
              "MntWines              0.389637         0.562667         0.399753   \n",
              "MntFruits             1.000000         0.543105         0.594804   \n",
              "MntMeatProducts       0.543105         1.000000         0.568402   \n",
              "MntFishProducts       0.594804         0.568402         1.000000   \n",
              "MntSweetProducts      0.567164         0.523846         0.579870   \n",
              "MntGoldProds          0.392995         0.350609         0.422875   \n",
              "NumDealsPurchases    -0.132114        -0.122415        -0.139361   \n",
              "NumWebPurchases       0.296735         0.293761         0.293681   \n",
              "NumCatalogPurchases   0.487917         0.723827         0.534478   \n",
              "NumStorePurchases     0.461758         0.479659         0.459855   \n",
              "NumWebVisitsMonth    -0.418383        -0.539470        -0.446003   \n",
              "AcceptedCmp3          0.014727         0.018272         0.000357   \n",
              "AcceptedCmp4          0.010152         0.102912         0.016843   \n",
              "AcceptedCmp5          0.215833         0.373769         0.199578   \n",
              "AcceptedCmp1          0.194748         0.309761         0.260762   \n",
              "AcceptedCmp2         -0.009773         0.043033         0.002577   \n",
              "Complain             -0.005166        -0.023483        -0.020953   \n",
              "Z_CostContact              NaN              NaN              NaN   \n",
              "Z_Revenue                  NaN              NaN              NaN   \n",
              "Response              0.125289         0.236335         0.111331   \n",
              "\n",
              "                     MntSweetProducts  MntGoldProds  ...  NumWebVisitsMonth  \\\n",
              "Income                       0.424761      0.312600  ...          -0.535452   \n",
              "Kidhome                     -0.370673     -0.349595  ...           0.447846   \n",
              "Teenhome                    -0.162475     -0.021725  ...           0.134884   \n",
              "Recency                      0.022670      0.016693  ...          -0.021445   \n",
              "MntWines                     0.386581      0.387516  ...          -0.320653   \n",
              "MntFruits                    0.567164      0.392995  ...          -0.418383   \n",
              "MntMeatProducts              0.523846      0.350609  ...          -0.539470   \n",
              "MntFishProducts              0.579870      0.422875  ...          -0.446003   \n",
              "MntSweetProducts             1.000000      0.369724  ...          -0.423294   \n",
              "MntGoldProds                 0.369724      1.000000  ...          -0.250719   \n",
              "NumDealsPurchases           -0.120100      0.049085  ...           0.347633   \n",
              "NumWebPurchases              0.348544      0.421836  ...          -0.055846   \n",
              "NumCatalogPurchases          0.490924      0.437697  ...          -0.520364   \n",
              "NumStorePurchases            0.448756      0.381678  ...          -0.428473   \n",
              "NumWebVisitsMonth           -0.423294     -0.250719  ...           1.000000   \n",
              "AcceptedCmp3                 0.001530      0.123091  ...           0.061211   \n",
              "AcceptedCmp4                 0.028641      0.022268  ...          -0.032126   \n",
              "AcceptedCmp5                 0.259590      0.181021  ...          -0.278113   \n",
              "AcceptedCmp1                 0.241818      0.166396  ...          -0.192502   \n",
              "AcceptedCmp2                 0.009985      0.049990  ...          -0.007196   \n",
              "Complain                    -0.022485     -0.030861  ...           0.019769   \n",
              "Z_CostContact                     NaN           NaN  ...                NaN   \n",
              "Z_Revenue                         NaN           NaN  ...                NaN   \n",
              "Response                     0.117372      0.139850  ...          -0.003987   \n",
              "\n",
              "                     AcceptedCmp3  AcceptedCmp4  AcceptedCmp5  AcceptedCmp1  \\\n",
              "Income                  -0.009682      0.174512      0.329995      0.267087   \n",
              "Kidhome                  0.014674     -0.161600     -0.205634     -0.172339   \n",
              "Teenhome                -0.042677      0.038886     -0.191050     -0.140090   \n",
              "Recency                 -0.032991      0.018826      0.000129     -0.019283   \n",
              "MntWines                 0.062202      0.373286      0.472613      0.354133   \n",
              "MntFruits                0.014727      0.010152      0.215833      0.194748   \n",
              "MntMeatProducts          0.018272      0.102912      0.373769      0.309761   \n",
              "MntFishProducts          0.000357      0.016843      0.199578      0.260762   \n",
              "MntSweetProducts         0.001530      0.028641      0.259590      0.241818   \n",
              "MntGoldProds             0.123091      0.022268      0.181021      0.166396   \n",
              "NumDealsPurchases       -0.023109      0.015594     -0.183248     -0.123244   \n",
              "NumWebPurchases          0.042176      0.155903      0.138684      0.155143   \n",
              "NumCatalogPurchases      0.104730      0.139247      0.322321      0.308097   \n",
              "NumStorePurchases       -0.067577      0.179379      0.214790      0.183249   \n",
              "NumWebVisitsMonth        0.061211     -0.032126     -0.278113     -0.192502   \n",
              "AcceptedCmp3             1.000000     -0.079512      0.080316      0.094751   \n",
              "AcceptedCmp4            -0.079512      1.000000      0.306526      0.251300   \n",
              "AcceptedCmp5             0.080316      0.306526      1.000000      0.403078   \n",
              "AcceptedCmp1             0.094751      0.251300      0.403078      1.000000   \n",
              "AcceptedCmp2             0.072020      0.292210      0.221533      0.175315   \n",
              "Complain                 0.008415     -0.027611     -0.009419     -0.025499   \n",
              "Z_CostContact                 NaN           NaN           NaN           NaN   \n",
              "Z_Revenue                     NaN           NaN           NaN           NaN   \n",
              "Response                 0.254258      0.177019      0.326634      0.293982   \n",
              "\n",
              "                     AcceptedCmp2  Complain  Z_CostContact  Z_Revenue  \\\n",
              "Income                   0.088132 -0.024489            NaN        NaN   \n",
              "Kidhome                 -0.081716  0.040207            NaN        NaN   \n",
              "Teenhome                -0.015605  0.003138            NaN        NaN   \n",
              "Recency                 -0.001781  0.013231            NaN        NaN   \n",
              "MntWines                 0.205907 -0.039007            NaN        NaN   \n",
              "MntFruits               -0.009773 -0.005166            NaN        NaN   \n",
              "MntMeatProducts          0.043033 -0.023483            NaN        NaN   \n",
              "MntFishProducts          0.002577 -0.020953            NaN        NaN   \n",
              "MntSweetProducts         0.009985 -0.022485            NaN        NaN   \n",
              "MntGoldProds             0.049990 -0.030861            NaN        NaN   \n",
              "NumDealsPurchases       -0.037695  0.000420            NaN        NaN   \n",
              "NumWebPurchases          0.034188 -0.016310            NaN        NaN   \n",
              "NumCatalogPurchases      0.099852 -0.020453            NaN        NaN   \n",
              "NumStorePurchases        0.085189 -0.016524            NaN        NaN   \n",
              "NumWebVisitsMonth       -0.007196  0.019769            NaN        NaN   \n",
              "AcceptedCmp3             0.072020  0.008415            NaN        NaN   \n",
              "AcceptedCmp4             0.292210 -0.027611            NaN        NaN   \n",
              "AcceptedCmp5             0.221533 -0.009419            NaN        NaN   \n",
              "AcceptedCmp1             0.175315 -0.025499            NaN        NaN   \n",
              "AcceptedCmp2             1.000000 -0.011334            NaN        NaN   \n",
              "Complain                -0.011334  1.000000            NaN        NaN   \n",
              "Z_CostContact                 NaN       NaN            NaN        NaN   \n",
              "Z_Revenue                     NaN       NaN            NaN        NaN   \n",
              "Response                 0.169293 -0.001707            NaN        NaN   \n",
              "\n",
              "                     Response  \n",
              "Income               0.136389  \n",
              "Kidhome             -0.080008  \n",
              "Teenhome            -0.154446  \n",
              "Recency             -0.198437  \n",
              "MntWines             0.247254  \n",
              "MntFruits            0.125289  \n",
              "MntMeatProducts      0.236335  \n",
              "MntFishProducts      0.111331  \n",
              "MntSweetProducts     0.117372  \n",
              "MntGoldProds         0.139850  \n",
              "NumDealsPurchases    0.002238  \n",
              "NumWebPurchases      0.148730  \n",
              "NumCatalogPurchases  0.220810  \n",
              "NumStorePurchases    0.039363  \n",
              "NumWebVisitsMonth   -0.003987  \n",
              "AcceptedCmp3         0.254258  \n",
              "AcceptedCmp4         0.177019  \n",
              "AcceptedCmp5         0.326634  \n",
              "AcceptedCmp1         0.293982  \n",
              "AcceptedCmp2         0.169293  \n",
              "Complain            -0.001707  \n",
              "Z_CostContact             NaN  \n",
              "Z_Revenue                 NaN  \n",
              "Response             1.000000  \n",
              "\n",
              "[24 rows x 24 columns]"
            ],
            "text/html": [
              "\n",
              "  <div id=\"df-d474047d-28ce-49ea-b605-0b3b96c6de18\">\n",
              "    <div class=\"colab-df-container\">\n",
              "      <div>\n",
              "<style scoped>\n",
              "    .dataframe tbody tr th:only-of-type {\n",
              "        vertical-align: middle;\n",
              "    }\n",
              "\n",
              "    .dataframe tbody tr th {\n",
              "        vertical-align: top;\n",
              "    }\n",
              "\n",
              "    .dataframe thead th {\n",
              "        text-align: right;\n",
              "    }\n",
              "</style>\n",
              "<table border=\"1\" class=\"dataframe\">\n",
              "  <thead>\n",
              "    <tr style=\"text-align: right;\">\n",
              "      <th></th>\n",
              "      <th>Income</th>\n",
              "      <th>Kidhome</th>\n",
              "      <th>Teenhome</th>\n",
              "      <th>Recency</th>\n",
              "      <th>MntWines</th>\n",
              "      <th>MntFruits</th>\n",
              "      <th>MntMeatProducts</th>\n",
              "      <th>MntFishProducts</th>\n",
              "      <th>MntSweetProducts</th>\n",
              "      <th>MntGoldProds</th>\n",
              "      <th>...</th>\n",
              "      <th>NumWebVisitsMonth</th>\n",
              "      <th>AcceptedCmp3</th>\n",
              "      <th>AcceptedCmp4</th>\n",
              "      <th>AcceptedCmp5</th>\n",
              "      <th>AcceptedCmp1</th>\n",
              "      <th>AcceptedCmp2</th>\n",
              "      <th>Complain</th>\n",
              "      <th>Z_CostContact</th>\n",
              "      <th>Z_Revenue</th>\n",
              "      <th>Response</th>\n",
              "    </tr>\n",
              "  </thead>\n",
              "  <tbody>\n",
              "    <tr>\n",
              "      <th>Income</th>\n",
              "      <td>1.000000</td>\n",
              "      <td>-0.424723</td>\n",
              "      <td>0.015498</td>\n",
              "      <td>-0.010603</td>\n",
              "      <td>0.570851</td>\n",
              "      <td>0.421910</td>\n",
              "      <td>0.565318</td>\n",
              "      <td>0.431879</td>\n",
              "      <td>0.424761</td>\n",
              "      <td>0.312600</td>\n",
              "      <td>...</td>\n",
              "      <td>-0.535452</td>\n",
              "      <td>-0.009682</td>\n",
              "      <td>0.174512</td>\n",
              "      <td>0.329995</td>\n",
              "      <td>0.267087</td>\n",
              "      <td>0.088132</td>\n",
              "      <td>-0.024489</td>\n",
              "      <td>NaN</td>\n",
              "      <td>NaN</td>\n",
              "      <td>0.136389</td>\n",
              "    </tr>\n",
              "    <tr>\n",
              "      <th>Kidhome</th>\n",
              "      <td>-0.424723</td>\n",
              "      <td>1.000000</td>\n",
              "      <td>-0.036133</td>\n",
              "      <td>0.008827</td>\n",
              "      <td>-0.496297</td>\n",
              "      <td>-0.372581</td>\n",
              "      <td>-0.437129</td>\n",
              "      <td>-0.387644</td>\n",
              "      <td>-0.370673</td>\n",
              "      <td>-0.349595</td>\n",
              "      <td>...</td>\n",
              "      <td>0.447846</td>\n",
              "      <td>0.014674</td>\n",
              "      <td>-0.161600</td>\n",
              "      <td>-0.205634</td>\n",
              "      <td>-0.172339</td>\n",
              "      <td>-0.081716</td>\n",
              "      <td>0.040207</td>\n",
              "      <td>NaN</td>\n",
              "      <td>NaN</td>\n",
              "      <td>-0.080008</td>\n",
              "    </tr>\n",
              "    <tr>\n",
              "      <th>Teenhome</th>\n",
              "      <td>0.015498</td>\n",
              "      <td>-0.036133</td>\n",
              "      <td>1.000000</td>\n",
              "      <td>0.016198</td>\n",
              "      <td>0.004846</td>\n",
              "      <td>-0.176764</td>\n",
              "      <td>-0.261160</td>\n",
              "      <td>-0.204187</td>\n",
              "      <td>-0.162475</td>\n",
              "      <td>-0.021725</td>\n",
              "      <td>...</td>\n",
              "      <td>0.134884</td>\n",
              "      <td>-0.042677</td>\n",
              "      <td>0.038886</td>\n",
              "      <td>-0.191050</td>\n",
              "      <td>-0.140090</td>\n",
              "      <td>-0.015605</td>\n",
              "      <td>0.003138</td>\n",
              "      <td>NaN</td>\n",
              "      <td>NaN</td>\n",
              "      <td>-0.154446</td>\n",
              "    </tr>\n",
              "    <tr>\n",
              "      <th>Recency</th>\n",
              "      <td>-0.010603</td>\n",
              "      <td>0.008827</td>\n",
              "      <td>0.016198</td>\n",
              "      <td>1.000000</td>\n",
              "      <td>0.016064</td>\n",
              "      <td>-0.004306</td>\n",
              "      <td>0.023056</td>\n",
              "      <td>0.001079</td>\n",
              "      <td>0.022670</td>\n",
              "      <td>0.016693</td>\n",
              "      <td>...</td>\n",
              "      <td>-0.021445</td>\n",
              "      <td>-0.032991</td>\n",
              "      <td>0.018826</td>\n",
              "      <td>0.000129</td>\n",
              "      <td>-0.019283</td>\n",
              "      <td>-0.001781</td>\n",
              "      <td>0.013231</td>\n",
              "      <td>NaN</td>\n",
              "      <td>NaN</td>\n",
              "      <td>-0.198437</td>\n",
              "    </tr>\n",
              "    <tr>\n",
              "      <th>MntWines</th>\n",
              "      <td>0.570851</td>\n",
              "      <td>-0.496297</td>\n",
              "      <td>0.004846</td>\n",
              "      <td>0.016064</td>\n",
              "      <td>1.000000</td>\n",
              "      <td>0.389637</td>\n",
              "      <td>0.562667</td>\n",
              "      <td>0.399753</td>\n",
              "      <td>0.386581</td>\n",
              "      <td>0.387516</td>\n",
              "      <td>...</td>\n",
              "      <td>-0.320653</td>\n",
              "      <td>0.062202</td>\n",
              "      <td>0.373286</td>\n",
              "      <td>0.472613</td>\n",
              "      <td>0.354133</td>\n",
              "      <td>0.205907</td>\n",
              "      <td>-0.039007</td>\n",
              "      <td>NaN</td>\n",
              "      <td>NaN</td>\n",
              "      <td>0.247254</td>\n",
              "    </tr>\n",
              "    <tr>\n",
              "      <th>MntFruits</th>\n",
              "      <td>0.421910</td>\n",
              "      <td>-0.372581</td>\n",
              "      <td>-0.176764</td>\n",
              "      <td>-0.004306</td>\n",
              "      <td>0.389637</td>\n",
              "      <td>1.000000</td>\n",
              "      <td>0.543105</td>\n",
              "      <td>0.594804</td>\n",
              "      <td>0.567164</td>\n",
              "      <td>0.392995</td>\n",
              "      <td>...</td>\n",
              "      <td>-0.418383</td>\n",
              "      <td>0.014727</td>\n",
              "      <td>0.010152</td>\n",
              "      <td>0.215833</td>\n",
              "      <td>0.194748</td>\n",
              "      <td>-0.009773</td>\n",
              "      <td>-0.005166</td>\n",
              "      <td>NaN</td>\n",
              "      <td>NaN</td>\n",
              "      <td>0.125289</td>\n",
              "    </tr>\n",
              "    <tr>\n",
              "      <th>MntMeatProducts</th>\n",
              "      <td>0.565318</td>\n",
              "      <td>-0.437129</td>\n",
              "      <td>-0.261160</td>\n",
              "      <td>0.023056</td>\n",
              "      <td>0.562667</td>\n",
              "      <td>0.543105</td>\n",
              "      <td>1.000000</td>\n",
              "      <td>0.568402</td>\n",
              "      <td>0.523846</td>\n",
              "      <td>0.350609</td>\n",
              "      <td>...</td>\n",
              "      <td>-0.539470</td>\n",
              "      <td>0.018272</td>\n",
              "      <td>0.102912</td>\n",
              "      <td>0.373769</td>\n",
              "      <td>0.309761</td>\n",
              "      <td>0.043033</td>\n",
              "      <td>-0.023483</td>\n",
              "      <td>NaN</td>\n",
              "      <td>NaN</td>\n",
              "      <td>0.236335</td>\n",
              "    </tr>\n",
              "    <tr>\n",
              "      <th>MntFishProducts</th>\n",
              "      <td>0.431879</td>\n",
              "      <td>-0.387644</td>\n",
              "      <td>-0.204187</td>\n",
              "      <td>0.001079</td>\n",
              "      <td>0.399753</td>\n",
              "      <td>0.594804</td>\n",
              "      <td>0.568402</td>\n",
              "      <td>1.000000</td>\n",
              "      <td>0.579870</td>\n",
              "      <td>0.422875</td>\n",
              "      <td>...</td>\n",
              "      <td>-0.446003</td>\n",
              "      <td>0.000357</td>\n",
              "      <td>0.016843</td>\n",
              "      <td>0.199578</td>\n",
              "      <td>0.260762</td>\n",
              "      <td>0.002577</td>\n",
              "      <td>-0.020953</td>\n",
              "      <td>NaN</td>\n",
              "      <td>NaN</td>\n",
              "      <td>0.111331</td>\n",
              "    </tr>\n",
              "    <tr>\n",
              "      <th>MntSweetProducts</th>\n",
              "      <td>0.424761</td>\n",
              "      <td>-0.370673</td>\n",
              "      <td>-0.162475</td>\n",
              "      <td>0.022670</td>\n",
              "      <td>0.386581</td>\n",
              "      <td>0.567164</td>\n",
              "      <td>0.523846</td>\n",
              "      <td>0.579870</td>\n",
              "      <td>1.000000</td>\n",
              "      <td>0.369724</td>\n",
              "      <td>...</td>\n",
              "      <td>-0.423294</td>\n",
              "      <td>0.001530</td>\n",
              "      <td>0.028641</td>\n",
              "      <td>0.259590</td>\n",
              "      <td>0.241818</td>\n",
              "      <td>0.009985</td>\n",
              "      <td>-0.022485</td>\n",
              "      <td>NaN</td>\n",
              "      <td>NaN</td>\n",
              "      <td>0.117372</td>\n",
              "    </tr>\n",
              "    <tr>\n",
              "      <th>MntGoldProds</th>\n",
              "      <td>0.312600</td>\n",
              "      <td>-0.349595</td>\n",
              "      <td>-0.021725</td>\n",
              "      <td>0.016693</td>\n",
              "      <td>0.387516</td>\n",
              "      <td>0.392995</td>\n",
              "      <td>0.350609</td>\n",
              "      <td>0.422875</td>\n",
              "      <td>0.369724</td>\n",
              "      <td>1.000000</td>\n",
              "      <td>...</td>\n",
              "      <td>-0.250719</td>\n",
              "      <td>0.123091</td>\n",
              "      <td>0.022268</td>\n",
              "      <td>0.181021</td>\n",
              "      <td>0.166396</td>\n",
              "      <td>0.049990</td>\n",
              "      <td>-0.030861</td>\n",
              "      <td>NaN</td>\n",
              "      <td>NaN</td>\n",
              "      <td>0.139850</td>\n",
              "    </tr>\n",
              "    <tr>\n",
              "      <th>NumDealsPurchases</th>\n",
              "      <td>-0.081962</td>\n",
              "      <td>0.221798</td>\n",
              "      <td>0.387741</td>\n",
              "      <td>-0.001098</td>\n",
              "      <td>0.010940</td>\n",
              "      <td>-0.132114</td>\n",
              "      <td>-0.122415</td>\n",
              "      <td>-0.139361</td>\n",
              "      <td>-0.120100</td>\n",
              "      <td>0.049085</td>\n",
              "      <td>...</td>\n",
              "      <td>0.347633</td>\n",
              "      <td>-0.023109</td>\n",
              "      <td>0.015594</td>\n",
              "      <td>-0.183248</td>\n",
              "      <td>-0.123244</td>\n",
              "      <td>-0.037695</td>\n",
              "      <td>0.000420</td>\n",
              "      <td>NaN</td>\n",
              "      <td>NaN</td>\n",
              "      <td>0.002238</td>\n",
              "    </tr>\n",
              "    <tr>\n",
              "      <th>NumWebPurchases</th>\n",
              "      <td>0.372397</td>\n",
              "      <td>-0.361647</td>\n",
              "      <td>0.155500</td>\n",
              "      <td>-0.010726</td>\n",
              "      <td>0.542265</td>\n",
              "      <td>0.296735</td>\n",
              "      <td>0.293761</td>\n",
              "      <td>0.293681</td>\n",
              "      <td>0.348544</td>\n",
              "      <td>0.421836</td>\n",
              "      <td>...</td>\n",
              "      <td>-0.055846</td>\n",
              "      <td>0.042176</td>\n",
              "      <td>0.155903</td>\n",
              "      <td>0.138684</td>\n",
              "      <td>0.155143</td>\n",
              "      <td>0.034188</td>\n",
              "      <td>-0.016310</td>\n",
              "      <td>NaN</td>\n",
              "      <td>NaN</td>\n",
              "      <td>0.148730</td>\n",
              "    </tr>\n",
              "    <tr>\n",
              "      <th>NumCatalogPurchases</th>\n",
              "      <td>0.579830</td>\n",
              "      <td>-0.502237</td>\n",
              "      <td>-0.110769</td>\n",
              "      <td>0.025110</td>\n",
              "      <td>0.635226</td>\n",
              "      <td>0.487917</td>\n",
              "      <td>0.723827</td>\n",
              "      <td>0.534478</td>\n",
              "      <td>0.490924</td>\n",
              "      <td>0.437697</td>\n",
              "      <td>...</td>\n",
              "      <td>-0.520364</td>\n",
              "      <td>0.104730</td>\n",
              "      <td>0.139247</td>\n",
              "      <td>0.322321</td>\n",
              "      <td>0.308097</td>\n",
              "      <td>0.099852</td>\n",
              "      <td>-0.020453</td>\n",
              "      <td>NaN</td>\n",
              "      <td>NaN</td>\n",
              "      <td>0.220810</td>\n",
              "    </tr>\n",
              "    <tr>\n",
              "      <th>NumStorePurchases</th>\n",
              "      <td>0.521456</td>\n",
              "      <td>-0.499683</td>\n",
              "      <td>0.050695</td>\n",
              "      <td>0.000799</td>\n",
              "      <td>0.642100</td>\n",
              "      <td>0.461758</td>\n",
              "      <td>0.479659</td>\n",
              "      <td>0.459855</td>\n",
              "      <td>0.448756</td>\n",
              "      <td>0.381678</td>\n",
              "      <td>...</td>\n",
              "      <td>-0.428473</td>\n",
              "      <td>-0.067577</td>\n",
              "      <td>0.179379</td>\n",
              "      <td>0.214790</td>\n",
              "      <td>0.183249</td>\n",
              "      <td>0.085189</td>\n",
              "      <td>-0.016524</td>\n",
              "      <td>NaN</td>\n",
              "      <td>NaN</td>\n",
              "      <td>0.039363</td>\n",
              "    </tr>\n",
              "    <tr>\n",
              "      <th>NumWebVisitsMonth</th>\n",
              "      <td>-0.535452</td>\n",
              "      <td>0.447846</td>\n",
              "      <td>0.134884</td>\n",
              "      <td>-0.021445</td>\n",
              "      <td>-0.320653</td>\n",
              "      <td>-0.418383</td>\n",
              "      <td>-0.539470</td>\n",
              "      <td>-0.446003</td>\n",
              "      <td>-0.423294</td>\n",
              "      <td>-0.250719</td>\n",
              "      <td>...</td>\n",
              "      <td>1.000000</td>\n",
              "      <td>0.061211</td>\n",
              "      <td>-0.032126</td>\n",
              "      <td>-0.278113</td>\n",
              "      <td>-0.192502</td>\n",
              "      <td>-0.007196</td>\n",
              "      <td>0.019769</td>\n",
              "      <td>NaN</td>\n",
              "      <td>NaN</td>\n",
              "      <td>-0.003987</td>\n",
              "    </tr>\n",
              "    <tr>\n",
              "      <th>AcceptedCmp3</th>\n",
              "      <td>-0.009682</td>\n",
              "      <td>0.014674</td>\n",
              "      <td>-0.042677</td>\n",
              "      <td>-0.032991</td>\n",
              "      <td>0.062202</td>\n",
              "      <td>0.014727</td>\n",
              "      <td>0.018272</td>\n",
              "      <td>0.000357</td>\n",
              "      <td>0.001530</td>\n",
              "      <td>0.123091</td>\n",
              "      <td>...</td>\n",
              "      <td>0.061211</td>\n",
              "      <td>1.000000</td>\n",
              "      <td>-0.079512</td>\n",
              "      <td>0.080316</td>\n",
              "      <td>0.094751</td>\n",
              "      <td>0.072020</td>\n",
              "      <td>0.008415</td>\n",
              "      <td>NaN</td>\n",
              "      <td>NaN</td>\n",
              "      <td>0.254258</td>\n",
              "    </tr>\n",
              "    <tr>\n",
              "      <th>AcceptedCmp4</th>\n",
              "      <td>0.174512</td>\n",
              "      <td>-0.161600</td>\n",
              "      <td>0.038886</td>\n",
              "      <td>0.018826</td>\n",
              "      <td>0.373286</td>\n",
              "      <td>0.010152</td>\n",
              "      <td>0.102912</td>\n",
              "      <td>0.016843</td>\n",
              "      <td>0.028641</td>\n",
              "      <td>0.022268</td>\n",
              "      <td>...</td>\n",
              "      <td>-0.032126</td>\n",
              "      <td>-0.079512</td>\n",
              "      <td>1.000000</td>\n",
              "      <td>0.306526</td>\n",
              "      <td>0.251300</td>\n",
              "      <td>0.292210</td>\n",
              "      <td>-0.027611</td>\n",
              "      <td>NaN</td>\n",
              "      <td>NaN</td>\n",
              "      <td>0.177019</td>\n",
              "    </tr>\n",
              "    <tr>\n",
              "      <th>AcceptedCmp5</th>\n",
              "      <td>0.329995</td>\n",
              "      <td>-0.205634</td>\n",
              "      <td>-0.191050</td>\n",
              "      <td>0.000129</td>\n",
              "      <td>0.472613</td>\n",
              "      <td>0.215833</td>\n",
              "      <td>0.373769</td>\n",
              "      <td>0.199578</td>\n",
              "      <td>0.259590</td>\n",
              "      <td>0.181021</td>\n",
              "      <td>...</td>\n",
              "      <td>-0.278113</td>\n",
              "      <td>0.080316</td>\n",
              "      <td>0.306526</td>\n",
              "      <td>1.000000</td>\n",
              "      <td>0.403078</td>\n",
              "      <td>0.221533</td>\n",
              "      <td>-0.009419</td>\n",
              "      <td>NaN</td>\n",
              "      <td>NaN</td>\n",
              "      <td>0.326634</td>\n",
              "    </tr>\n",
              "    <tr>\n",
              "      <th>AcceptedCmp1</th>\n",
              "      <td>0.267087</td>\n",
              "      <td>-0.172339</td>\n",
              "      <td>-0.140090</td>\n",
              "      <td>-0.019283</td>\n",
              "      <td>0.354133</td>\n",
              "      <td>0.194748</td>\n",
              "      <td>0.309761</td>\n",
              "      <td>0.260762</td>\n",
              "      <td>0.241818</td>\n",
              "      <td>0.166396</td>\n",
              "      <td>...</td>\n",
              "      <td>-0.192502</td>\n",
              "      <td>0.094751</td>\n",
              "      <td>0.251300</td>\n",
              "      <td>0.403078</td>\n",
              "      <td>1.000000</td>\n",
              "      <td>0.175315</td>\n",
              "      <td>-0.025499</td>\n",
              "      <td>NaN</td>\n",
              "      <td>NaN</td>\n",
              "      <td>0.293982</td>\n",
              "    </tr>\n",
              "    <tr>\n",
              "      <th>AcceptedCmp2</th>\n",
              "      <td>0.088132</td>\n",
              "      <td>-0.081716</td>\n",
              "      <td>-0.015605</td>\n",
              "      <td>-0.001781</td>\n",
              "      <td>0.205907</td>\n",
              "      <td>-0.009773</td>\n",
              "      <td>0.043033</td>\n",
              "      <td>0.002577</td>\n",
              "      <td>0.009985</td>\n",
              "      <td>0.049990</td>\n",
              "      <td>...</td>\n",
              "      <td>-0.007196</td>\n",
              "      <td>0.072020</td>\n",
              "      <td>0.292210</td>\n",
              "      <td>0.221533</td>\n",
              "      <td>0.175315</td>\n",
              "      <td>1.000000</td>\n",
              "      <td>-0.011334</td>\n",
              "      <td>NaN</td>\n",
              "      <td>NaN</td>\n",
              "      <td>0.169293</td>\n",
              "    </tr>\n",
              "    <tr>\n",
              "      <th>Complain</th>\n",
              "      <td>-0.024489</td>\n",
              "      <td>0.040207</td>\n",
              "      <td>0.003138</td>\n",
              "      <td>0.013231</td>\n",
              "      <td>-0.039007</td>\n",
              "      <td>-0.005166</td>\n",
              "      <td>-0.023483</td>\n",
              "      <td>-0.020953</td>\n",
              "      <td>-0.022485</td>\n",
              "      <td>-0.030861</td>\n",
              "      <td>...</td>\n",
              "      <td>0.019769</td>\n",
              "      <td>0.008415</td>\n",
              "      <td>-0.027611</td>\n",
              "      <td>-0.009419</td>\n",
              "      <td>-0.025499</td>\n",
              "      <td>-0.011334</td>\n",
              "      <td>1.000000</td>\n",
              "      <td>NaN</td>\n",
              "      <td>NaN</td>\n",
              "      <td>-0.001707</td>\n",
              "    </tr>\n",
              "    <tr>\n",
              "      <th>Z_CostContact</th>\n",
              "      <td>NaN</td>\n",
              "      <td>NaN</td>\n",
              "      <td>NaN</td>\n",
              "      <td>NaN</td>\n",
              "      <td>NaN</td>\n",
              "      <td>NaN</td>\n",
              "      <td>NaN</td>\n",
              "      <td>NaN</td>\n",
              "      <td>NaN</td>\n",
              "      <td>NaN</td>\n",
              "      <td>...</td>\n",
              "      <td>NaN</td>\n",
              "      <td>NaN</td>\n",
              "      <td>NaN</td>\n",
              "      <td>NaN</td>\n",
              "      <td>NaN</td>\n",
              "      <td>NaN</td>\n",
              "      <td>NaN</td>\n",
              "      <td>NaN</td>\n",
              "      <td>NaN</td>\n",
              "      <td>NaN</td>\n",
              "    </tr>\n",
              "    <tr>\n",
              "      <th>Z_Revenue</th>\n",
              "      <td>NaN</td>\n",
              "      <td>NaN</td>\n",
              "      <td>NaN</td>\n",
              "      <td>NaN</td>\n",
              "      <td>NaN</td>\n",
              "      <td>NaN</td>\n",
              "      <td>NaN</td>\n",
              "      <td>NaN</td>\n",
              "      <td>NaN</td>\n",
              "      <td>NaN</td>\n",
              "      <td>...</td>\n",
              "      <td>NaN</td>\n",
              "      <td>NaN</td>\n",
              "      <td>NaN</td>\n",
              "      <td>NaN</td>\n",
              "      <td>NaN</td>\n",
              "      <td>NaN</td>\n",
              "      <td>NaN</td>\n",
              "      <td>NaN</td>\n",
              "      <td>NaN</td>\n",
              "      <td>NaN</td>\n",
              "    </tr>\n",
              "    <tr>\n",
              "      <th>Response</th>\n",
              "      <td>0.136389</td>\n",
              "      <td>-0.080008</td>\n",
              "      <td>-0.154446</td>\n",
              "      <td>-0.198437</td>\n",
              "      <td>0.247254</td>\n",
              "      <td>0.125289</td>\n",
              "      <td>0.236335</td>\n",
              "      <td>0.111331</td>\n",
              "      <td>0.117372</td>\n",
              "      <td>0.139850</td>\n",
              "      <td>...</td>\n",
              "      <td>-0.003987</td>\n",
              "      <td>0.254258</td>\n",
              "      <td>0.177019</td>\n",
              "      <td>0.326634</td>\n",
              "      <td>0.293982</td>\n",
              "      <td>0.169293</td>\n",
              "      <td>-0.001707</td>\n",
              "      <td>NaN</td>\n",
              "      <td>NaN</td>\n",
              "      <td>1.000000</td>\n",
              "    </tr>\n",
              "  </tbody>\n",
              "</table>\n",
              "<p>24 rows × 24 columns</p>\n",
              "</div>\n",
              "      <button class=\"colab-df-convert\" onclick=\"convertToInteractive('df-d474047d-28ce-49ea-b605-0b3b96c6de18')\"\n",
              "              title=\"Convert this dataframe to an interactive table.\"\n",
              "              style=\"display:none;\">\n",
              "        \n",
              "  <svg xmlns=\"http://www.w3.org/2000/svg\" height=\"24px\"viewBox=\"0 0 24 24\"\n",
              "       width=\"24px\">\n",
              "    <path d=\"M0 0h24v24H0V0z\" fill=\"none\"/>\n",
              "    <path d=\"M18.56 5.44l.94 2.06.94-2.06 2.06-.94-2.06-.94-.94-2.06-.94 2.06-2.06.94zm-11 1L8.5 8.5l.94-2.06 2.06-.94-2.06-.94L8.5 2.5l-.94 2.06-2.06.94zm10 10l.94 2.06.94-2.06 2.06-.94-2.06-.94-.94-2.06-.94 2.06-2.06.94z\"/><path d=\"M17.41 7.96l-1.37-1.37c-.4-.4-.92-.59-1.43-.59-.52 0-1.04.2-1.43.59L10.3 9.45l-7.72 7.72c-.78.78-.78 2.05 0 2.83L4 21.41c.39.39.9.59 1.41.59.51 0 1.02-.2 1.41-.59l7.78-7.78 2.81-2.81c.8-.78.8-2.07 0-2.86zM5.41 20L4 18.59l7.72-7.72 1.47 1.35L5.41 20z\"/>\n",
              "  </svg>\n",
              "      </button>\n",
              "      \n",
              "  <style>\n",
              "    .colab-df-container {\n",
              "      display:flex;\n",
              "      flex-wrap:wrap;\n",
              "      gap: 12px;\n",
              "    }\n",
              "\n",
              "    .colab-df-convert {\n",
              "      background-color: #E8F0FE;\n",
              "      border: none;\n",
              "      border-radius: 50%;\n",
              "      cursor: pointer;\n",
              "      display: none;\n",
              "      fill: #1967D2;\n",
              "      height: 32px;\n",
              "      padding: 0 0 0 0;\n",
              "      width: 32px;\n",
              "    }\n",
              "\n",
              "    .colab-df-convert:hover {\n",
              "      background-color: #E2EBFA;\n",
              "      box-shadow: 0px 1px 2px rgba(60, 64, 67, 0.3), 0px 1px 3px 1px rgba(60, 64, 67, 0.15);\n",
              "      fill: #174EA6;\n",
              "    }\n",
              "\n",
              "    [theme=dark] .colab-df-convert {\n",
              "      background-color: #3B4455;\n",
              "      fill: #D2E3FC;\n",
              "    }\n",
              "\n",
              "    [theme=dark] .colab-df-convert:hover {\n",
              "      background-color: #434B5C;\n",
              "      box-shadow: 0px 1px 3px 1px rgba(0, 0, 0, 0.15);\n",
              "      filter: drop-shadow(0px 1px 2px rgba(0, 0, 0, 0.3));\n",
              "      fill: #FFFFFF;\n",
              "    }\n",
              "  </style>\n",
              "\n",
              "      <script>\n",
              "        const buttonEl =\n",
              "          document.querySelector('#df-d474047d-28ce-49ea-b605-0b3b96c6de18 button.colab-df-convert');\n",
              "        buttonEl.style.display =\n",
              "          google.colab.kernel.accessAllowed ? 'block' : 'none';\n",
              "\n",
              "        async function convertToInteractive(key) {\n",
              "          const element = document.querySelector('#df-d474047d-28ce-49ea-b605-0b3b96c6de18');\n",
              "          const dataTable =\n",
              "            await google.colab.kernel.invokeFunction('convertToInteractive',\n",
              "                                                     [key], {});\n",
              "          if (!dataTable) return;\n",
              "\n",
              "          const docLinkHtml = 'Like what you see? Visit the ' +\n",
              "            '<a target=\"_blank\" href=https://colab.research.google.com/notebooks/data_table.ipynb>data table notebook</a>'\n",
              "            + ' to learn more about interactive tables.';\n",
              "          element.innerHTML = '';\n",
              "          dataTable['output_type'] = 'display_data';\n",
              "          await google.colab.output.renderOutput(dataTable, element);\n",
              "          const docLink = document.createElement('div');\n",
              "          docLink.innerHTML = docLinkHtml;\n",
              "          element.appendChild(docLink);\n",
              "        }\n",
              "      </script>\n",
              "    </div>\n",
              "  </div>\n",
              "  "
            ]
          },
          "metadata": {},
          "execution_count": 242
        }
      ]
    },
    {
      "cell_type": "markdown",
      "source": [
        "Data variable yang memiliki multikolineritas adalah NumCatalogPurchases  dengan variable MntMeatProducts"
      ],
      "metadata": {
        "id": "ZwAlxV8rx_TD"
      }
    },
    {
      "cell_type": "markdown",
      "source": [
        "remove 'ID', 'Year_Birth', 'Education', 'Marital_Status', 'Kidhome', 'Teenhome', 'Dt_Customer', 'NumStorePurchases', 'Z_CostContact', , 'Z_Revenue',  because of no significant to ipluse the model,\n",
        "and for 'NumCatalogPurchases' 0.723827, 'NumWebVisitsMonth' (1),  'Income' (1) have high value of multicolinerity "
      ],
      "metadata": {
        "id": "5HxyWwbEhITv"
      }
    },
    {
      "cell_type": "code",
      "source": [
        ""
      ],
      "metadata": {
        "id": "x5nNhjnRhHt5"
      },
      "execution_count": 242,
      "outputs": []
    },
    {
      "cell_type": "code",
      "source": [
        "# remove 'ID', 'Year_Birth', 'Education', 'Marital_Status', 'Kidhome', 'Income', 'Teenhome', 'Dt_Customer', 'NumStorePurchases', 'Z_CostContact', 'NumCatalogPurchases', 'Z_Revenue', 'NumWebVisitsMonth' \n",
        "mr_data = df.drop(\n",
        "    ['ID', 'Year_Birth', 'Education', 'Marital_Status', 'Kidhome', 'Income', 'Teenhome', 'Dt_Customer', \n",
        "     'NumStorePurchases', 'Z_CostContact', 'NumCatalogPurchases', 'Z_Revenue', 'NumWebVisitsMonth','AcceptedCmp3', \n",
        "     'AcceptedCmp4', 'AcceptedCmp5', 'AcceptedCmp1','AcceptedCmp2'],\n",
        "    axis = 1\n",
        ")\n",
        "\n",
        "# check its first 5 rows\n",
        "mr_data.head()"
      ],
      "metadata": {
        "colab": {
          "base_uri": "https://localhost:8080/",
          "height": 205
        },
        "id": "u5wf6GtrzLmi",
        "outputId": "f5879e36-6b93-4982-fec0-b6ecb40b6447"
      },
      "execution_count": 243,
      "outputs": [
        {
          "output_type": "execute_result",
          "data": {
            "text/plain": [
              "   Recency  MntWines  MntFruits  MntMeatProducts  MntFishProducts  \\\n",
              "0       58       635         88              546              172   \n",
              "1       38        11          1                6                2   \n",
              "2       26       426         49              127              111   \n",
              "3       26        11          4               20               10   \n",
              "4       94       173         43              118               46   \n",
              "\n",
              "   MntSweetProducts  MntGoldProds  NumDealsPurchases  NumWebPurchases  \\\n",
              "0                88            88                  3                8   \n",
              "1                 1             6                  2                1   \n",
              "2                21            42                  1                8   \n",
              "3                 3             5                  2                2   \n",
              "4                27            15                  5                5   \n",
              "\n",
              "   Complain  Response  \n",
              "0         0         1  \n",
              "1         0         0  \n",
              "2         0         0  \n",
              "3         0         0  \n",
              "4         0         0  "
            ],
            "text/html": [
              "\n",
              "  <div id=\"df-27eec906-afca-42f0-8322-312a422342b9\">\n",
              "    <div class=\"colab-df-container\">\n",
              "      <div>\n",
              "<style scoped>\n",
              "    .dataframe tbody tr th:only-of-type {\n",
              "        vertical-align: middle;\n",
              "    }\n",
              "\n",
              "    .dataframe tbody tr th {\n",
              "        vertical-align: top;\n",
              "    }\n",
              "\n",
              "    .dataframe thead th {\n",
              "        text-align: right;\n",
              "    }\n",
              "</style>\n",
              "<table border=\"1\" class=\"dataframe\">\n",
              "  <thead>\n",
              "    <tr style=\"text-align: right;\">\n",
              "      <th></th>\n",
              "      <th>Recency</th>\n",
              "      <th>MntWines</th>\n",
              "      <th>MntFruits</th>\n",
              "      <th>MntMeatProducts</th>\n",
              "      <th>MntFishProducts</th>\n",
              "      <th>MntSweetProducts</th>\n",
              "      <th>MntGoldProds</th>\n",
              "      <th>NumDealsPurchases</th>\n",
              "      <th>NumWebPurchases</th>\n",
              "      <th>Complain</th>\n",
              "      <th>Response</th>\n",
              "    </tr>\n",
              "  </thead>\n",
              "  <tbody>\n",
              "    <tr>\n",
              "      <th>0</th>\n",
              "      <td>58</td>\n",
              "      <td>635</td>\n",
              "      <td>88</td>\n",
              "      <td>546</td>\n",
              "      <td>172</td>\n",
              "      <td>88</td>\n",
              "      <td>88</td>\n",
              "      <td>3</td>\n",
              "      <td>8</td>\n",
              "      <td>0</td>\n",
              "      <td>1</td>\n",
              "    </tr>\n",
              "    <tr>\n",
              "      <th>1</th>\n",
              "      <td>38</td>\n",
              "      <td>11</td>\n",
              "      <td>1</td>\n",
              "      <td>6</td>\n",
              "      <td>2</td>\n",
              "      <td>1</td>\n",
              "      <td>6</td>\n",
              "      <td>2</td>\n",
              "      <td>1</td>\n",
              "      <td>0</td>\n",
              "      <td>0</td>\n",
              "    </tr>\n",
              "    <tr>\n",
              "      <th>2</th>\n",
              "      <td>26</td>\n",
              "      <td>426</td>\n",
              "      <td>49</td>\n",
              "      <td>127</td>\n",
              "      <td>111</td>\n",
              "      <td>21</td>\n",
              "      <td>42</td>\n",
              "      <td>1</td>\n",
              "      <td>8</td>\n",
              "      <td>0</td>\n",
              "      <td>0</td>\n",
              "    </tr>\n",
              "    <tr>\n",
              "      <th>3</th>\n",
              "      <td>26</td>\n",
              "      <td>11</td>\n",
              "      <td>4</td>\n",
              "      <td>20</td>\n",
              "      <td>10</td>\n",
              "      <td>3</td>\n",
              "      <td>5</td>\n",
              "      <td>2</td>\n",
              "      <td>2</td>\n",
              "      <td>0</td>\n",
              "      <td>0</td>\n",
              "    </tr>\n",
              "    <tr>\n",
              "      <th>4</th>\n",
              "      <td>94</td>\n",
              "      <td>173</td>\n",
              "      <td>43</td>\n",
              "      <td>118</td>\n",
              "      <td>46</td>\n",
              "      <td>27</td>\n",
              "      <td>15</td>\n",
              "      <td>5</td>\n",
              "      <td>5</td>\n",
              "      <td>0</td>\n",
              "      <td>0</td>\n",
              "    </tr>\n",
              "  </tbody>\n",
              "</table>\n",
              "</div>\n",
              "      <button class=\"colab-df-convert\" onclick=\"convertToInteractive('df-27eec906-afca-42f0-8322-312a422342b9')\"\n",
              "              title=\"Convert this dataframe to an interactive table.\"\n",
              "              style=\"display:none;\">\n",
              "        \n",
              "  <svg xmlns=\"http://www.w3.org/2000/svg\" height=\"24px\"viewBox=\"0 0 24 24\"\n",
              "       width=\"24px\">\n",
              "    <path d=\"M0 0h24v24H0V0z\" fill=\"none\"/>\n",
              "    <path d=\"M18.56 5.44l.94 2.06.94-2.06 2.06-.94-2.06-.94-.94-2.06-.94 2.06-2.06.94zm-11 1L8.5 8.5l.94-2.06 2.06-.94-2.06-.94L8.5 2.5l-.94 2.06-2.06.94zm10 10l.94 2.06.94-2.06 2.06-.94-2.06-.94-.94-2.06-.94 2.06-2.06.94z\"/><path d=\"M17.41 7.96l-1.37-1.37c-.4-.4-.92-.59-1.43-.59-.52 0-1.04.2-1.43.59L10.3 9.45l-7.72 7.72c-.78.78-.78 2.05 0 2.83L4 21.41c.39.39.9.59 1.41.59.51 0 1.02-.2 1.41-.59l7.78-7.78 2.81-2.81c.8-.78.8-2.07 0-2.86zM5.41 20L4 18.59l7.72-7.72 1.47 1.35L5.41 20z\"/>\n",
              "  </svg>\n",
              "      </button>\n",
              "      \n",
              "  <style>\n",
              "    .colab-df-container {\n",
              "      display:flex;\n",
              "      flex-wrap:wrap;\n",
              "      gap: 12px;\n",
              "    }\n",
              "\n",
              "    .colab-df-convert {\n",
              "      background-color: #E8F0FE;\n",
              "      border: none;\n",
              "      border-radius: 50%;\n",
              "      cursor: pointer;\n",
              "      display: none;\n",
              "      fill: #1967D2;\n",
              "      height: 32px;\n",
              "      padding: 0 0 0 0;\n",
              "      width: 32px;\n",
              "    }\n",
              "\n",
              "    .colab-df-convert:hover {\n",
              "      background-color: #E2EBFA;\n",
              "      box-shadow: 0px 1px 2px rgba(60, 64, 67, 0.3), 0px 1px 3px 1px rgba(60, 64, 67, 0.15);\n",
              "      fill: #174EA6;\n",
              "    }\n",
              "\n",
              "    [theme=dark] .colab-df-convert {\n",
              "      background-color: #3B4455;\n",
              "      fill: #D2E3FC;\n",
              "    }\n",
              "\n",
              "    [theme=dark] .colab-df-convert:hover {\n",
              "      background-color: #434B5C;\n",
              "      box-shadow: 0px 1px 3px 1px rgba(0, 0, 0, 0.15);\n",
              "      filter: drop-shadow(0px 1px 2px rgba(0, 0, 0, 0.3));\n",
              "      fill: #FFFFFF;\n",
              "    }\n",
              "  </style>\n",
              "\n",
              "      <script>\n",
              "        const buttonEl =\n",
              "          document.querySelector('#df-27eec906-afca-42f0-8322-312a422342b9 button.colab-df-convert');\n",
              "        buttonEl.style.display =\n",
              "          google.colab.kernel.accessAllowed ? 'block' : 'none';\n",
              "\n",
              "        async function convertToInteractive(key) {\n",
              "          const element = document.querySelector('#df-27eec906-afca-42f0-8322-312a422342b9');\n",
              "          const dataTable =\n",
              "            await google.colab.kernel.invokeFunction('convertToInteractive',\n",
              "                                                     [key], {});\n",
              "          if (!dataTable) return;\n",
              "\n",
              "          const docLinkHtml = 'Like what you see? Visit the ' +\n",
              "            '<a target=\"_blank\" href=https://colab.research.google.com/notebooks/data_table.ipynb>data table notebook</a>'\n",
              "            + ' to learn more about interactive tables.';\n",
              "          element.innerHTML = '';\n",
              "          dataTable['output_type'] = 'display_data';\n",
              "          await google.colab.output.renderOutput(dataTable, element);\n",
              "          const docLink = document.createElement('div');\n",
              "          docLink.innerHTML = docLinkHtml;\n",
              "          element.appendChild(docLink);\n",
              "        }\n",
              "      </script>\n",
              "    </div>\n",
              "  </div>\n",
              "  "
            ]
          },
          "metadata": {},
          "execution_count": 243
        }
      ]
    },
    {
      "cell_type": "markdown",
      "source": [
        "# Check Data Duplicate"
      ],
      "metadata": {
        "id": "WwNkZCV12Nxd"
      }
    },
    {
      "cell_type": "code",
      "source": [
        "mr_data.duplicated().sum()"
      ],
      "metadata": {
        "colab": {
          "base_uri": "https://localhost:8080/"
        },
        "id": "bngYVnDz2FP0",
        "outputId": "a2652838-8a17-439a-bc7e-d85101d97ce7"
      },
      "execution_count": 244,
      "outputs": [
        {
          "output_type": "execute_result",
          "data": {
            "text/plain": [
              "190"
            ]
          },
          "metadata": {},
          "execution_count": 244
        }
      ]
    },
    {
      "cell_type": "code",
      "source": [
        "mr_data.drop_duplicates(inplace=True)"
      ],
      "metadata": {
        "id": "5miQC5r1AWJZ"
      },
      "execution_count": 245,
      "outputs": []
    },
    {
      "cell_type": "code",
      "source": [
        "mr_data.duplicated().sum()"
      ],
      "metadata": {
        "colab": {
          "base_uri": "https://localhost:8080/"
        },
        "id": "gGeJqYR-AgJg",
        "outputId": "eea2b672-a7fd-4084-d482-20af8f99a1fa"
      },
      "execution_count": 246,
      "outputs": [
        {
          "output_type": "execute_result",
          "data": {
            "text/plain": [
              "0"
            ]
          },
          "metadata": {},
          "execution_count": 246
        }
      ]
    },
    {
      "cell_type": "code",
      "source": [
        "mr_data = mr_data.reset_index(drop=True)"
      ],
      "metadata": {
        "id": "5NNnoA8hAiju"
      },
      "execution_count": 247,
      "outputs": []
    },
    {
      "cell_type": "code",
      "source": [
        "mr_data.head(5)"
      ],
      "metadata": {
        "colab": {
          "base_uri": "https://localhost:8080/",
          "height": 205
        },
        "id": "d-QYPNg7AyZo",
        "outputId": "dcd91d92-0645-4964-82af-75dc2383896b"
      },
      "execution_count": 248,
      "outputs": [
        {
          "output_type": "execute_result",
          "data": {
            "text/plain": [
              "   Recency  MntWines  MntFruits  MntMeatProducts  MntFishProducts  \\\n",
              "0       58       635         88              546              172   \n",
              "1       38        11          1                6                2   \n",
              "2       26       426         49              127              111   \n",
              "3       26        11          4               20               10   \n",
              "4       94       173         43              118               46   \n",
              "\n",
              "   MntSweetProducts  MntGoldProds  NumDealsPurchases  NumWebPurchases  \\\n",
              "0                88            88                  3                8   \n",
              "1                 1             6                  2                1   \n",
              "2                21            42                  1                8   \n",
              "3                 3             5                  2                2   \n",
              "4                27            15                  5                5   \n",
              "\n",
              "   Complain  Response  \n",
              "0         0         1  \n",
              "1         0         0  \n",
              "2         0         0  \n",
              "3         0         0  \n",
              "4         0         0  "
            ],
            "text/html": [
              "\n",
              "  <div id=\"df-0ebb621f-b401-46e5-bfad-771fbb624e99\">\n",
              "    <div class=\"colab-df-container\">\n",
              "      <div>\n",
              "<style scoped>\n",
              "    .dataframe tbody tr th:only-of-type {\n",
              "        vertical-align: middle;\n",
              "    }\n",
              "\n",
              "    .dataframe tbody tr th {\n",
              "        vertical-align: top;\n",
              "    }\n",
              "\n",
              "    .dataframe thead th {\n",
              "        text-align: right;\n",
              "    }\n",
              "</style>\n",
              "<table border=\"1\" class=\"dataframe\">\n",
              "  <thead>\n",
              "    <tr style=\"text-align: right;\">\n",
              "      <th></th>\n",
              "      <th>Recency</th>\n",
              "      <th>MntWines</th>\n",
              "      <th>MntFruits</th>\n",
              "      <th>MntMeatProducts</th>\n",
              "      <th>MntFishProducts</th>\n",
              "      <th>MntSweetProducts</th>\n",
              "      <th>MntGoldProds</th>\n",
              "      <th>NumDealsPurchases</th>\n",
              "      <th>NumWebPurchases</th>\n",
              "      <th>Complain</th>\n",
              "      <th>Response</th>\n",
              "    </tr>\n",
              "  </thead>\n",
              "  <tbody>\n",
              "    <tr>\n",
              "      <th>0</th>\n",
              "      <td>58</td>\n",
              "      <td>635</td>\n",
              "      <td>88</td>\n",
              "      <td>546</td>\n",
              "      <td>172</td>\n",
              "      <td>88</td>\n",
              "      <td>88</td>\n",
              "      <td>3</td>\n",
              "      <td>8</td>\n",
              "      <td>0</td>\n",
              "      <td>1</td>\n",
              "    </tr>\n",
              "    <tr>\n",
              "      <th>1</th>\n",
              "      <td>38</td>\n",
              "      <td>11</td>\n",
              "      <td>1</td>\n",
              "      <td>6</td>\n",
              "      <td>2</td>\n",
              "      <td>1</td>\n",
              "      <td>6</td>\n",
              "      <td>2</td>\n",
              "      <td>1</td>\n",
              "      <td>0</td>\n",
              "      <td>0</td>\n",
              "    </tr>\n",
              "    <tr>\n",
              "      <th>2</th>\n",
              "      <td>26</td>\n",
              "      <td>426</td>\n",
              "      <td>49</td>\n",
              "      <td>127</td>\n",
              "      <td>111</td>\n",
              "      <td>21</td>\n",
              "      <td>42</td>\n",
              "      <td>1</td>\n",
              "      <td>8</td>\n",
              "      <td>0</td>\n",
              "      <td>0</td>\n",
              "    </tr>\n",
              "    <tr>\n",
              "      <th>3</th>\n",
              "      <td>26</td>\n",
              "      <td>11</td>\n",
              "      <td>4</td>\n",
              "      <td>20</td>\n",
              "      <td>10</td>\n",
              "      <td>3</td>\n",
              "      <td>5</td>\n",
              "      <td>2</td>\n",
              "      <td>2</td>\n",
              "      <td>0</td>\n",
              "      <td>0</td>\n",
              "    </tr>\n",
              "    <tr>\n",
              "      <th>4</th>\n",
              "      <td>94</td>\n",
              "      <td>173</td>\n",
              "      <td>43</td>\n",
              "      <td>118</td>\n",
              "      <td>46</td>\n",
              "      <td>27</td>\n",
              "      <td>15</td>\n",
              "      <td>5</td>\n",
              "      <td>5</td>\n",
              "      <td>0</td>\n",
              "      <td>0</td>\n",
              "    </tr>\n",
              "  </tbody>\n",
              "</table>\n",
              "</div>\n",
              "      <button class=\"colab-df-convert\" onclick=\"convertToInteractive('df-0ebb621f-b401-46e5-bfad-771fbb624e99')\"\n",
              "              title=\"Convert this dataframe to an interactive table.\"\n",
              "              style=\"display:none;\">\n",
              "        \n",
              "  <svg xmlns=\"http://www.w3.org/2000/svg\" height=\"24px\"viewBox=\"0 0 24 24\"\n",
              "       width=\"24px\">\n",
              "    <path d=\"M0 0h24v24H0V0z\" fill=\"none\"/>\n",
              "    <path d=\"M18.56 5.44l.94 2.06.94-2.06 2.06-.94-2.06-.94-.94-2.06-.94 2.06-2.06.94zm-11 1L8.5 8.5l.94-2.06 2.06-.94-2.06-.94L8.5 2.5l-.94 2.06-2.06.94zm10 10l.94 2.06.94-2.06 2.06-.94-2.06-.94-.94-2.06-.94 2.06-2.06.94z\"/><path d=\"M17.41 7.96l-1.37-1.37c-.4-.4-.92-.59-1.43-.59-.52 0-1.04.2-1.43.59L10.3 9.45l-7.72 7.72c-.78.78-.78 2.05 0 2.83L4 21.41c.39.39.9.59 1.41.59.51 0 1.02-.2 1.41-.59l7.78-7.78 2.81-2.81c.8-.78.8-2.07 0-2.86zM5.41 20L4 18.59l7.72-7.72 1.47 1.35L5.41 20z\"/>\n",
              "  </svg>\n",
              "      </button>\n",
              "      \n",
              "  <style>\n",
              "    .colab-df-container {\n",
              "      display:flex;\n",
              "      flex-wrap:wrap;\n",
              "      gap: 12px;\n",
              "    }\n",
              "\n",
              "    .colab-df-convert {\n",
              "      background-color: #E8F0FE;\n",
              "      border: none;\n",
              "      border-radius: 50%;\n",
              "      cursor: pointer;\n",
              "      display: none;\n",
              "      fill: #1967D2;\n",
              "      height: 32px;\n",
              "      padding: 0 0 0 0;\n",
              "      width: 32px;\n",
              "    }\n",
              "\n",
              "    .colab-df-convert:hover {\n",
              "      background-color: #E2EBFA;\n",
              "      box-shadow: 0px 1px 2px rgba(60, 64, 67, 0.3), 0px 1px 3px 1px rgba(60, 64, 67, 0.15);\n",
              "      fill: #174EA6;\n",
              "    }\n",
              "\n",
              "    [theme=dark] .colab-df-convert {\n",
              "      background-color: #3B4455;\n",
              "      fill: #D2E3FC;\n",
              "    }\n",
              "\n",
              "    [theme=dark] .colab-df-convert:hover {\n",
              "      background-color: #434B5C;\n",
              "      box-shadow: 0px 1px 3px 1px rgba(0, 0, 0, 0.15);\n",
              "      filter: drop-shadow(0px 1px 2px rgba(0, 0, 0, 0.3));\n",
              "      fill: #FFFFFF;\n",
              "    }\n",
              "  </style>\n",
              "\n",
              "      <script>\n",
              "        const buttonEl =\n",
              "          document.querySelector('#df-0ebb621f-b401-46e5-bfad-771fbb624e99 button.colab-df-convert');\n",
              "        buttonEl.style.display =\n",
              "          google.colab.kernel.accessAllowed ? 'block' : 'none';\n",
              "\n",
              "        async function convertToInteractive(key) {\n",
              "          const element = document.querySelector('#df-0ebb621f-b401-46e5-bfad-771fbb624e99');\n",
              "          const dataTable =\n",
              "            await google.colab.kernel.invokeFunction('convertToInteractive',\n",
              "                                                     [key], {});\n",
              "          if (!dataTable) return;\n",
              "\n",
              "          const docLinkHtml = 'Like what you see? Visit the ' +\n",
              "            '<a target=\"_blank\" href=https://colab.research.google.com/notebooks/data_table.ipynb>data table notebook</a>'\n",
              "            + ' to learn more about interactive tables.';\n",
              "          element.innerHTML = '';\n",
              "          dataTable['output_type'] = 'display_data';\n",
              "          await google.colab.output.renderOutput(dataTable, element);\n",
              "          const docLink = document.createElement('div');\n",
              "          docLink.innerHTML = docLinkHtml;\n",
              "          element.appendChild(docLink);\n",
              "        }\n",
              "      </script>\n",
              "    </div>\n",
              "  </div>\n",
              "  "
            ]
          },
          "metadata": {},
          "execution_count": 248
        }
      ]
    },
    {
      "cell_type": "code",
      "source": [
        "df = pd.get_dummies(mr_data)"
      ],
      "metadata": {
        "id": "rmGA-YKGTd4o"
      },
      "execution_count": 249,
      "outputs": []
    },
    {
      "cell_type": "code",
      "source": [
        "df.shape"
      ],
      "metadata": {
        "colab": {
          "base_uri": "https://localhost:8080/"
        },
        "id": "kE0Y8B9mXjlQ",
        "outputId": "0a42d21c-b7bf-41bf-e062-944a35deb67d"
      },
      "execution_count": 250,
      "outputs": [
        {
          "output_type": "execute_result",
          "data": {
            "text/plain": [
              "(2050, 11)"
            ]
          },
          "metadata": {},
          "execution_count": 250
        }
      ]
    },
    {
      "cell_type": "code",
      "source": [
        "df = df.fillna(0)"
      ],
      "metadata": {
        "id": "Bx54KhkbXnjt"
      },
      "execution_count": 251,
      "outputs": []
    },
    {
      "cell_type": "markdown",
      "source": [
        "# **Train Tes Split**"
      ],
      "metadata": {
        "id": "Ey-5XrBjYMtc"
      }
    },
    {
      "cell_type": "code",
      "source": [
        "from sklearn.model_selection import train_test_split\n",
        "\n",
        "X = mr_data.drop(['Response'], axis=1)\n",
        "y = mr_data[['Response']]\n",
        "\n",
        "X_ARRAY = X.to_numpy()\n",
        "Y_ARRAY = y.to_numpy() \n",
        "\n",
        "X_train, X_test, y_train, y_test = train_test_split(X_ARRAY, Y_ARRAY, test_size = 0.3, random_state = 123)"
      ],
      "metadata": {
        "id": "J2VBCbERQ5n_"
      },
      "execution_count": 252,
      "outputs": []
    },
    {
      "cell_type": "code",
      "source": [
        "from imblearn.under_sampling import RandomUnderSampler\n",
        "undersampling = RandomUnderSampler()\n",
        "X_under, y_under = undersampling.fit_resample(X_train,y_train)"
      ],
      "metadata": {
        "id": "f4cfnbJBYP-J"
      },
      "execution_count": 253,
      "outputs": []
    },
    {
      "cell_type": "markdown",
      "source": [
        "# **Normalization**"
      ],
      "metadata": {
        "id": "JSvZCS_NYurJ"
      }
    },
    {
      "cell_type": "code",
      "source": [
        "y.value_counts(normalize=True)"
      ],
      "metadata": {
        "colab": {
          "base_uri": "https://localhost:8080/"
        },
        "id": "UaEHcLBFYrRq",
        "outputId": "64c965f9-caaf-4749-8a21-cf5b9a44f278"
      },
      "execution_count": 254,
      "outputs": [
        {
          "output_type": "execute_result",
          "data": {
            "text/plain": [
              "Response\n",
              "0           0.848293\n",
              "1           0.151707\n",
              "dtype: float64"
            ]
          },
          "metadata": {},
          "execution_count": 254
        }
      ]
    },
    {
      "cell_type": "markdown",
      "source": [
        "**Modeling using StatsModel**\n",
        "\n",
        "Logit param:\n",
        "```python\n",
        "statsmodels.discrete.discrete_model.Logit(endog, exog, offset=None, check_rank=True, **kwargs)\n",
        "```"
      ],
      "metadata": {
        "id": "46VeX2tsayKU"
      }
    },
    {
      "cell_type": "code",
      "source": [
        "X_train_int = sm.add_constant(X_train)\n",
        "logistic_reg_sm = sm.Logit(y_train, X_train_int).fit()"
      ],
      "metadata": {
        "colab": {
          "base_uri": "https://localhost:8080/"
        },
        "id": "b-WpzQOWeLp_",
        "outputId": "d8dceff2-bf78-4ebe-a623-584c668e3ef7"
      },
      "execution_count": 255,
      "outputs": [
        {
          "output_type": "stream",
          "name": "stdout",
          "text": [
            "Optimization terminated successfully.\n",
            "         Current function value: 0.363248\n",
            "         Iterations 7\n"
          ]
        }
      ]
    },
    {
      "cell_type": "code",
      "source": [
        "# check summary of model\n",
        "logistic_reg_sm.summary2()"
      ],
      "metadata": {
        "colab": {
          "base_uri": "https://localhost:8080/",
          "height": 427
        },
        "id": "55CztNjKekeY",
        "outputId": "8ef6f41f-8e4c-477c-d767-7bacc67e8570"
      },
      "execution_count": 256,
      "outputs": [
        {
          "output_type": "execute_result",
          "data": {
            "text/plain": [
              "<class 'statsmodels.iolib.summary2.Summary'>\n",
              "\"\"\"\n",
              "                         Results: Logit\n",
              "=================================================================\n",
              "Model:              Logit            Pseudo R-squared: 0.140     \n",
              "Dependent Variable: y                AIC:              1064.5205 \n",
              "Date:               2022-04-17 16:15 BIC:              1122.4786 \n",
              "No. Observations:   1435             Log-Likelihood:   -521.26   \n",
              "Df Model:           10               LL-Null:          -606.15   \n",
              "Df Residuals:       1424             LLR p-value:      3.0706e-31\n",
              "Converged:          1.0000           Scale:            1.0000    \n",
              "No. Iterations:     7.0000                                       \n",
              "-------------------------------------------------------------------\n",
              "           Coef.    Std.Err.      z      P>|z|     [0.025    0.975]\n",
              "-------------------------------------------------------------------\n",
              "const     -1.6660     0.2101   -7.9279   0.0000   -2.0778   -1.2541\n",
              "x1        -0.0240     0.0030   -8.0471   0.0000   -0.0299   -0.0182\n",
              "x2         0.0010     0.0003    3.7271   0.0002    0.0005    0.0015\n",
              "x3         0.0003     0.0024    0.1174   0.9066   -0.0044    0.0049\n",
              "x4         0.0020     0.0004    4.6551   0.0000    0.0011    0.0028\n",
              "x5        -0.0041     0.0018   -2.2926   0.0219   -0.0076   -0.0006\n",
              "x6         0.0007     0.0022    0.3144   0.7532   -0.0036    0.0049\n",
              "x7         0.0036     0.0015    2.3971   0.0165    0.0007    0.0066\n",
              "x8         0.0042     0.0413    0.1021   0.9187   -0.0767    0.0851\n",
              "x9         0.0239     0.0328    0.7280   0.4666   -0.0405    0.0883\n",
              "x10        0.8764     0.6953    1.2605   0.2075   -0.4863    2.2392\n",
              "=================================================================\n",
              "\n",
              "\"\"\""
            ],
            "text/html": [
              "<table class=\"simpletable\">\n",
              "<tr>\n",
              "        <td>Model:</td>              <td>Logit</td>      <td>Pseudo R-squared:</td>    <td>0.140</td>  \n",
              "</tr>\n",
              "<tr>\n",
              "  <td>Dependent Variable:</td>         <td>y</td>              <td>AIC:</td>         <td>1064.5205</td>\n",
              "</tr>\n",
              "<tr>\n",
              "         <td>Date:</td>        <td>2022-04-17 16:15</td>       <td>BIC:</td>         <td>1122.4786</td>\n",
              "</tr>\n",
              "<tr>\n",
              "   <td>No. Observations:</td>        <td>1435</td>        <td>Log-Likelihood:</td>    <td>-521.26</td> \n",
              "</tr>\n",
              "<tr>\n",
              "       <td>Df Model:</td>             <td>10</td>            <td>LL-Null:</td>        <td>-606.15</td> \n",
              "</tr>\n",
              "<tr>\n",
              "     <td>Df Residuals:</td>          <td>1424</td>         <td>LLR p-value:</td>    <td>3.0706e-31</td>\n",
              "</tr>\n",
              "<tr>\n",
              "      <td>Converged:</td>           <td>1.0000</td>           <td>Scale:</td>         <td>1.0000</td>  \n",
              "</tr>\n",
              "<tr>\n",
              "    <td>No. Iterations:</td>        <td>7.0000</td>              <td></td>               <td></td>     \n",
              "</tr>\n",
              "</table>\n",
              "<table class=\"simpletable\">\n",
              "<tr>\n",
              "    <td></td>     <th>Coef.</th>  <th>Std.Err.</th>    <th>z</th>     <th>P>|z|</th> <th>[0.025</th>  <th>0.975]</th> \n",
              "</tr>\n",
              "<tr>\n",
              "  <th>const</th> <td>-1.6660</td>  <td>0.2101</td>  <td>-7.9279</td> <td>0.0000</td> <td>-2.0778</td> <td>-1.2541</td>\n",
              "</tr>\n",
              "<tr>\n",
              "  <th>x1</th>    <td>-0.0240</td>  <td>0.0030</td>  <td>-8.0471</td> <td>0.0000</td> <td>-0.0299</td> <td>-0.0182</td>\n",
              "</tr>\n",
              "<tr>\n",
              "  <th>x2</th>    <td>0.0010</td>   <td>0.0003</td>  <td>3.7271</td>  <td>0.0002</td> <td>0.0005</td>  <td>0.0015</td> \n",
              "</tr>\n",
              "<tr>\n",
              "  <th>x3</th>    <td>0.0003</td>   <td>0.0024</td>  <td>0.1174</td>  <td>0.9066</td> <td>-0.0044</td> <td>0.0049</td> \n",
              "</tr>\n",
              "<tr>\n",
              "  <th>x4</th>    <td>0.0020</td>   <td>0.0004</td>  <td>4.6551</td>  <td>0.0000</td> <td>0.0011</td>  <td>0.0028</td> \n",
              "</tr>\n",
              "<tr>\n",
              "  <th>x5</th>    <td>-0.0041</td>  <td>0.0018</td>  <td>-2.2926</td> <td>0.0219</td> <td>-0.0076</td> <td>-0.0006</td>\n",
              "</tr>\n",
              "<tr>\n",
              "  <th>x6</th>    <td>0.0007</td>   <td>0.0022</td>  <td>0.3144</td>  <td>0.7532</td> <td>-0.0036</td> <td>0.0049</td> \n",
              "</tr>\n",
              "<tr>\n",
              "  <th>x7</th>    <td>0.0036</td>   <td>0.0015</td>  <td>2.3971</td>  <td>0.0165</td> <td>0.0007</td>  <td>0.0066</td> \n",
              "</tr>\n",
              "<tr>\n",
              "  <th>x8</th>    <td>0.0042</td>   <td>0.0413</td>  <td>0.1021</td>  <td>0.9187</td> <td>-0.0767</td> <td>0.0851</td> \n",
              "</tr>\n",
              "<tr>\n",
              "  <th>x9</th>    <td>0.0239</td>   <td>0.0328</td>  <td>0.7280</td>  <td>0.4666</td> <td>-0.0405</td> <td>0.0883</td> \n",
              "</tr>\n",
              "<tr>\n",
              "  <th>x10</th>   <td>0.8764</td>   <td>0.6953</td>  <td>1.2605</td>  <td>0.2075</td> <td>-0.4863</td> <td>2.2392</td> \n",
              "</tr>\n",
              "</table>"
            ]
          },
          "metadata": {},
          "execution_count": 256
        }
      ]
    },
    {
      "cell_type": "code",
      "source": [
        "# check model coefficient\n",
        "logistic_reg_sm.params"
      ],
      "metadata": {
        "colab": {
          "base_uri": "https://localhost:8080/"
        },
        "id": "s_kzWdU9evaU",
        "outputId": "26b60493-7cab-4ac6-c2b6-f4806f703dbe"
      },
      "execution_count": 257,
      "outputs": [
        {
          "output_type": "execute_result",
          "data": {
            "text/plain": [
              "array([-1.66596739e+00, -2.40442846e-02,  9.91775975e-04,  2.79568326e-04,\n",
              "        1.96341307e-03, -4.07648839e-03,  6.82288803e-04,  3.64274081e-03,\n",
              "        4.21469275e-03,  2.39073435e-02,  8.76444489e-01])"
            ]
          },
          "metadata": {},
          "execution_count": 257
        }
      ]
    },
    {
      "cell_type": "markdown",
      "source": [
        "LogisticRegression param:\n",
        "```python\n",
        "sklearn.linear_model.LogisticRegression(\n",
        "  penalty='l2', *, dual=False, \n",
        "  tol=0.0001, C=1.0, \n",
        "  fit_intercept=True, intercept_scaling=1, \n",
        "  class_weight=None, random_state=None, \n",
        "  solver='lbfgs', max_iter=100, \n",
        "  multi_class='auto', verbose=0, \n",
        "  warm_start=False, n_jobs=None,\n",
        "  l1_ratio=None\n",
        ")\n",
        "```"
      ],
      "metadata": {
        "id": "ImcRSk1wfqHg"
      }
    },
    {
      "cell_type": "code",
      "source": [
        "# define logistic regression model\n",
        "logistic_reg = LogisticRegression(random_state=1000)\n",
        "# fit model to data\n",
        "logistic_reg.fit(X_train, y_train)"
      ],
      "metadata": {
        "colab": {
          "base_uri": "https://localhost:8080/"
        },
        "id": "HQnsLDS1e-v3",
        "outputId": "f23adc59-b1ab-42e0-85de-28b40969dd3e"
      },
      "execution_count": 258,
      "outputs": [
        {
          "output_type": "stream",
          "name": "stderr",
          "text": [
            "/usr/local/lib/python3.7/dist-packages/sklearn/utils/validation.py:993: DataConversionWarning: A column-vector y was passed when a 1d array was expected. Please change the shape of y to (n_samples, ), for example using ravel().\n",
            "  y = column_or_1d(y, warn=True)\n",
            "/usr/local/lib/python3.7/dist-packages/sklearn/linear_model/_logistic.py:818: ConvergenceWarning: lbfgs failed to converge (status=1):\n",
            "STOP: TOTAL NO. of ITERATIONS REACHED LIMIT.\n",
            "\n",
            "Increase the number of iterations (max_iter) or scale the data as shown in:\n",
            "    https://scikit-learn.org/stable/modules/preprocessing.html\n",
            "Please also refer to the documentation for alternative solver options:\n",
            "    https://scikit-learn.org/stable/modules/linear_model.html#logistic-regression\n",
            "  extra_warning_msg=_LOGISTIC_SOLVER_CONVERGENCE_MSG,\n"
          ]
        },
        {
          "output_type": "execute_result",
          "data": {
            "text/plain": [
              "LogisticRegression(random_state=1000)"
            ]
          },
          "metadata": {},
          "execution_count": 258
        }
      ]
    },
    {
      "cell_type": "code",
      "source": [
        "# check model coefficient\n",
        "logistic_reg.coef_"
      ],
      "metadata": {
        "colab": {
          "base_uri": "https://localhost:8080/"
        },
        "id": "iWemiv0NfAnw",
        "outputId": "0347845e-dfc2-4568-f0bb-fba9c1bde6d5"
      },
      "execution_count": 259,
      "outputs": [
        {
          "output_type": "execute_result",
          "data": {
            "text/plain": [
              "array([[-0.0269803 ,  0.00091711, -0.0004958 ,  0.00142918, -0.00236439,\n",
              "        -0.00321194,  0.0032783 , -0.17734085, -0.00747983,  0.01263825]])"
            ]
          },
          "metadata": {},
          "execution_count": 259
        }
      ]
    },
    {
      "cell_type": "code",
      "source": [
        "# check model intercept\n",
        "logistic_reg.intercept_"
      ],
      "metadata": {
        "colab": {
          "base_uri": "https://localhost:8080/"
        },
        "id": "VGEKu5JAfFHt",
        "outputId": "b12e4ac9-4e53-457f-9659-fec585779757"
      },
      "execution_count": 260,
      "outputs": [
        {
          "output_type": "execute_result",
          "data": {
            "text/plain": [
              "array([-0.60770709])"
            ]
          },
          "metadata": {},
          "execution_count": 260
        }
      ]
    },
    {
      "cell_type": "code",
      "source": [
        "# predict\n",
        "pred_result = logistic_reg.predict(X_test)\n",
        "pred_proba_result = logistic_reg.predict_proba(X_test)"
      ],
      "metadata": {
        "id": "D7jQBfibfSe8"
      },
      "execution_count": 261,
      "outputs": []
    },
    {
      "cell_type": "code",
      "source": [
        "# evaluate model accuracy from statsmodels\n",
        "logistic_reg.score(X_train, y_train)"
      ],
      "metadata": {
        "colab": {
          "base_uri": "https://localhost:8080/"
        },
        "id": "igt-cGHrfV2b",
        "outputId": "10a8fa57-b65c-4f3a-ad57-05a2fba017c2"
      },
      "execution_count": 262,
      "outputs": [
        {
          "output_type": "execute_result",
          "data": {
            "text/plain": [
              "0.8557491289198607"
            ]
          },
          "metadata": {},
          "execution_count": 262
        }
      ]
    },
    {
      "cell_type": "code",
      "source": [
        "# check model accuracy\n",
        "metrics.accuracy_score(y_test, pred_result)"
      ],
      "metadata": {
        "colab": {
          "base_uri": "https://localhost:8080/"
        },
        "id": "W9DJJ-vufcqD",
        "outputId": "a4cab094-40ed-4996-bf55-216eadf6d936"
      },
      "execution_count": 263,
      "outputs": [
        {
          "output_type": "execute_result",
          "data": {
            "text/plain": [
              "0.8520325203252033"
            ]
          },
          "metadata": {},
          "execution_count": 263
        }
      ]
    },
    {
      "cell_type": "code",
      "source": [
        "# check confusion matrix\n",
        "metrics.confusion_matrix(y_test, pred_result)"
      ],
      "metadata": {
        "colab": {
          "base_uri": "https://localhost:8080/"
        },
        "id": "k_ijWgbYQfO4",
        "outputId": "4a7c3562-94dd-4b1d-8bb3-5e36e89d2f70"
      },
      "execution_count": 264,
      "outputs": [
        {
          "output_type": "execute_result",
          "data": {
            "text/plain": [
              "array([[513,   6],\n",
              "       [ 85,  11]])"
            ]
          },
          "metadata": {},
          "execution_count": 264
        }
      ]
    },
    {
      "cell_type": "code",
      "source": [
        "# plot confusion matrix using scikit-learn module\n",
        "metrics.plot_confusion_matrix(logistic_reg, X_test, y_test);  "
      ],
      "metadata": {
        "colab": {
          "base_uri": "https://localhost:8080/",
          "height": 333
        },
        "id": "aOKCTL4NQpxF",
        "outputId": "93d92b40-dc22-4bb4-eddd-073201ac03ed"
      },
      "execution_count": 265,
      "outputs": [
        {
          "output_type": "stream",
          "name": "stderr",
          "text": [
            "/usr/local/lib/python3.7/dist-packages/sklearn/utils/deprecation.py:87: FutureWarning: Function plot_confusion_matrix is deprecated; Function `plot_confusion_matrix` is deprecated in 1.0 and will be removed in 1.2. Use one of the class methods: ConfusionMatrixDisplay.from_predictions or ConfusionMatrixDisplay.from_estimator.\n",
            "  warnings.warn(msg, category=FutureWarning)\n"
          ]
        },
        {
          "output_type": "display_data",
          "data": {
            "text/plain": [
              "<Figure size 432x288 with 2 Axes>"
            ],
            "image/png": "[encoded data removed]"
          },
          "metadata": {
            "needs_background": "light"
          }
        }
      ]
    },
    {
      "cell_type": "code",
      "source": [
        "# visualize confusion matrix using scikit-plot\n",
        "skplt.metrics.plot_confusion_matrix(y_test, pred_result);"
      ],
      "metadata": {
        "colab": {
          "base_uri": "https://localhost:8080/",
          "height": 295
        },
        "id": "ohBmWm1kRETi",
        "outputId": "4c11e20b-dde8-43bd-f6e8-e9082b11c921"
      },
      "execution_count": 266,
      "outputs": [
        {
          "output_type": "display_data",
          "data": {
            "text/plain": [
              "<Figure size 432x288 with 2 Axes>"
            ],
            "image/png": "[encoded data removed]"
          },
          "metadata": {
            "needs_background": "light"
          }
        }
      ]
    },
    {
      "cell_type": "code",
      "source": [
        "# check model precision\n",
        "metrics.precision_score(y_test, pred_result)"
      ],
      "metadata": {
        "colab": {
          "base_uri": "https://localhost:8080/"
        },
        "id": "VDFwNmg4RUB3",
        "outputId": "3f4a8c62-c255-4151-8bfe-46610d5424ee"
      },
      "execution_count": 267,
      "outputs": [
        {
          "output_type": "execute_result",
          "data": {
            "text/plain": [
              "0.6470588235294118"
            ]
          },
          "metadata": {},
          "execution_count": 267
        }
      ]
    },
    {
      "cell_type": "code",
      "source": [
        "# check model recall\n",
        "metrics.recall_score(y_test, pred_result)"
      ],
      "metadata": {
        "colab": {
          "base_uri": "https://localhost:8080/"
        },
        "id": "1l485UO9Ra8q",
        "outputId": "e532442c-d5be-4aae-915e-5dca451f056f"
      },
      "execution_count": 268,
      "outputs": [
        {
          "output_type": "execute_result",
          "data": {
            "text/plain": [
              "0.11458333333333333"
            ]
          },
          "metadata": {},
          "execution_count": 268
        }
      ]
    },
    {
      "cell_type": "code",
      "source": [
        "# check f1_score\n",
        "metrics.f1_score(y_test, pred_result)"
      ],
      "metadata": {
        "colab": {
          "base_uri": "https://localhost:8080/"
        },
        "id": "hJHmmk1ORe8V",
        "outputId": "9c25daf6-530b-4434-a747-b3156b11861b"
      },
      "execution_count": 269,
      "outputs": [
        {
          "output_type": "execute_result",
          "data": {
            "text/plain": [
              "0.19469026548672563"
            ]
          },
          "metadata": {},
          "execution_count": 269
        }
      ]
    },
    {
      "cell_type": "code",
      "source": [
        "# create classification report\n",
        "pd.DataFrame(metrics.classification_report(y_test, pred_result, target_names=['0','1'], output_dict=True))"
      ],
      "metadata": {
        "colab": {
          "base_uri": "https://localhost:8080/",
          "height": 174
        },
        "id": "ibWBxBnXRhBi",
        "outputId": "8e4ba659-96d1-4bf4-de24-39bcaf653402"
      },
      "execution_count": 270,
      "outputs": [
        {
          "output_type": "execute_result",
          "data": {
            "text/plain": [
              "                    0          1  accuracy   macro avg  weighted avg\n",
              "precision    0.857860   0.647059  0.852033    0.752459      0.824954\n",
              "recall       0.988439   0.114583  0.852033    0.551511      0.852033\n",
              "f1-score     0.918532   0.194690  0.852033    0.556611      0.805542\n",
              "support    519.000000  96.000000  0.852033  615.000000    615.000000"
            ],
            "text/html": [
              "\n",
              "  <div id=\"df-9e068deb-cb79-4cb7-a4e6-48de5358309a\">\n",
              "    <div class=\"colab-df-container\">\n",
              "      <div>\n",
              "<style scoped>\n",
              "    .dataframe tbody tr th:only-of-type {\n",
              "        vertical-align: middle;\n",
              "    }\n",
              "\n",
              "    .dataframe tbody tr th {\n",
              "        vertical-align: top;\n",
              "    }\n",
              "\n",
              "    .dataframe thead th {\n",
              "        text-align: right;\n",
              "    }\n",
              "</style>\n",
              "<table border=\"1\" class=\"dataframe\">\n",
              "  <thead>\n",
              "    <tr style=\"text-align: right;\">\n",
              "      <th></th>\n",
              "      <th>0</th>\n",
              "      <th>1</th>\n",
              "      <th>accuracy</th>\n",
              "      <th>macro avg</th>\n",
              "      <th>weighted avg</th>\n",
              "    </tr>\n",
              "  </thead>\n",
              "  <tbody>\n",
              "    <tr>\n",
              "      <th>precision</th>\n",
              "      <td>0.857860</td>\n",
              "      <td>0.647059</td>\n",
              "      <td>0.852033</td>\n",
              "      <td>0.752459</td>\n",
              "      <td>0.824954</td>\n",
              "    </tr>\n",
              "    <tr>\n",
              "      <th>recall</th>\n",
              "      <td>0.988439</td>\n",
              "      <td>0.114583</td>\n",
              "      <td>0.852033</td>\n",
              "      <td>0.551511</td>\n",
              "      <td>0.852033</td>\n",
              "    </tr>\n",
              "    <tr>\n",
              "      <th>f1-score</th>\n",
              "      <td>0.918532</td>\n",
              "      <td>0.194690</td>\n",
              "      <td>0.852033</td>\n",
              "      <td>0.556611</td>\n",
              "      <td>0.805542</td>\n",
              "    </tr>\n",
              "    <tr>\n",
              "      <th>support</th>\n",
              "      <td>519.000000</td>\n",
              "      <td>96.000000</td>\n",
              "      <td>0.852033</td>\n",
              "      <td>615.000000</td>\n",
              "      <td>615.000000</td>\n",
              "    </tr>\n",
              "  </tbody>\n",
              "</table>\n",
              "</div>\n",
              "      <button class=\"colab-df-convert\" onclick=\"convertToInteractive('df-9e068deb-cb79-4cb7-a4e6-48de5358309a')\"\n",
              "              title=\"Convert this dataframe to an interactive table.\"\n",
              "              style=\"display:none;\">\n",
              "        \n",
              "  <svg xmlns=\"http://www.w3.org/2000/svg\" height=\"24px\"viewBox=\"0 0 24 24\"\n",
              "       width=\"24px\">\n",
              "    <path d=\"M0 0h24v24H0V0z\" fill=\"none\"/>\n",
              "    <path d=\"M18.56 5.44l.94 2.06.94-2.06 2.06-.94-2.06-.94-.94-2.06-.94 2.06-2.06.94zm-11 1L8.5 8.5l.94-2.06 2.06-.94-2.06-.94L8.5 2.5l-.94 2.06-2.06.94zm10 10l.94 2.06.94-2.06 2.06-.94-2.06-.94-.94-2.06-.94 2.06-2.06.94z\"/><path d=\"M17.41 7.96l-1.37-1.37c-.4-.4-.92-.59-1.43-.59-.52 0-1.04.2-1.43.59L10.3 9.45l-7.72 7.72c-.78.78-.78 2.05 0 2.83L4 21.41c.39.39.9.59 1.41.59.51 0 1.02-.2 1.41-.59l7.78-7.78 2.81-2.81c.8-.78.8-2.07 0-2.86zM5.41 20L4 18.59l7.72-7.72 1.47 1.35L5.41 20z\"/>\n",
              "  </svg>\n",
              "      </button>\n",
              "      \n",
              "  <style>\n",
              "    .colab-df-container {\n",
              "      display:flex;\n",
              "      flex-wrap:wrap;\n",
              "      gap: 12px;\n",
              "    }\n",
              "\n",
              "    .colab-df-convert {\n",
              "      background-color: #E8F0FE;\n",
              "      border: none;\n",
              "      border-radius: 50%;\n",
              "      cursor: pointer;\n",
              "      display: none;\n",
              "      fill: #1967D2;\n",
              "      height: 32px;\n",
              "      padding: 0 0 0 0;\n",
              "      width: 32px;\n",
              "    }\n",
              "\n",
              "    .colab-df-convert:hover {\n",
              "      background-color: #E2EBFA;\n",
              "      box-shadow: 0px 1px 2px rgba(60, 64, 67, 0.3), 0px 1px 3px 1px rgba(60, 64, 67, 0.15);\n",
              "      fill: #174EA6;\n",
              "    }\n",
              "\n",
              "    [theme=dark] .colab-df-convert {\n",
              "      background-color: #3B4455;\n",
              "      fill: #D2E3FC;\n",
              "    }\n",
              "\n",
              "    [theme=dark] .colab-df-convert:hover {\n",
              "      background-color: #434B5C;\n",
              "      box-shadow: 0px 1px 3px 1px rgba(0, 0, 0, 0.15);\n",
              "      filter: drop-shadow(0px 1px 2px rgba(0, 0, 0, 0.3));\n",
              "      fill: #FFFFFF;\n",
              "    }\n",
              "  </style>\n",
              "\n",
              "      <script>\n",
              "        const buttonEl =\n",
              "          document.querySelector('#df-9e068deb-cb79-4cb7-a4e6-48de5358309a button.colab-df-convert');\n",
              "        buttonEl.style.display =\n",
              "          google.colab.kernel.accessAllowed ? 'block' : 'none';\n",
              "\n",
              "        async function convertToInteractive(key) {\n",
              "          const element = document.querySelector('#df-9e068deb-cb79-4cb7-a4e6-48de5358309a');\n",
              "          const dataTable =\n",
              "            await google.colab.kernel.invokeFunction('convertToInteractive',\n",
              "                                                     [key], {});\n",
              "          if (!dataTable) return;\n",
              "\n",
              "          const docLinkHtml = 'Like what you see? Visit the ' +\n",
              "            '<a target=\"_blank\" href=https://colab.research.google.com/notebooks/data_table.ipynb>data table notebook</a>'\n",
              "            + ' to learn more about interactive tables.';\n",
              "          element.innerHTML = '';\n",
              "          dataTable['output_type'] = 'display_data';\n",
              "          await google.colab.output.renderOutput(dataTable, element);\n",
              "          const docLink = document.createElement('div');\n",
              "          docLink.innerHTML = docLinkHtml;\n",
              "          element.appendChild(docLink);\n",
              "        }\n",
              "      </script>\n",
              "    </div>\n",
              "  </div>\n",
              "  "
            ]
          },
          "metadata": {},
          "execution_count": 270
        }
      ]
    },
    {
      "cell_type": "code",
      "source": [
        "# generate probability prediction\n",
        "pred_proba_result = logistic_reg.predict_proba(X_test)"
      ],
      "metadata": {
        "id": "h9iYDmabSIpr"
      },
      "execution_count": 271,
      "outputs": []
    },
    {
      "cell_type": "code",
      "source": [
        "# check result\n",
        "pd.DataFrame(pred_proba_result).head(10)"
      ],
      "metadata": {
        "colab": {
          "base_uri": "https://localhost:8080/",
          "height": 362
        },
        "id": "CwYCx0irSK5Y",
        "outputId": "a0e41cc9-f32a-4a4c-d37e-9f336b3f27b0"
      },
      "execution_count": 272,
      "outputs": [
        {
          "output_type": "execute_result",
          "data": {
            "text/plain": [
              "          0         1\n",
              "0  0.583168  0.416832\n",
              "1  0.878226  0.121774\n",
              "2  0.501855  0.498145\n",
              "3  0.878923  0.121077\n",
              "4  0.947926  0.052074\n",
              "5  0.715253  0.284747\n",
              "6  0.671190  0.328810\n",
              "7  0.905787  0.094213\n",
              "8  0.943528  0.056472\n",
              "9  0.794089  0.205911"
            ],
            "text/html": [
              "\n",
              "  <div id=\"df-3c859f9f-5921-48a1-bf07-935d3fd30317\">\n",
              "    <div class=\"colab-df-container\">\n",
              "      <div>\n",
              "<style scoped>\n",
              "    .dataframe tbody tr th:only-of-type {\n",
              "        vertical-align: middle;\n",
              "    }\n",
              "\n",
              "    .dataframe tbody tr th {\n",
              "        vertical-align: top;\n",
              "    }\n",
              "\n",
              "    .dataframe thead th {\n",
              "        text-align: right;\n",
              "    }\n",
              "</style>\n",
              "<table border=\"1\" class=\"dataframe\">\n",
              "  <thead>\n",
              "    <tr style=\"text-align: right;\">\n",
              "      <th></th>\n",
              "      <th>0</th>\n",
              "      <th>1</th>\n",
              "    </tr>\n",
              "  </thead>\n",
              "  <tbody>\n",
              "    <tr>\n",
              "      <th>0</th>\n",
              "      <td>0.583168</td>\n",
              "      <td>0.416832</td>\n",
              "    </tr>\n",
              "    <tr>\n",
              "      <th>1</th>\n",
              "      <td>0.878226</td>\n",
              "      <td>0.121774</td>\n",
              "    </tr>\n",
              "    <tr>\n",
              "      <th>2</th>\n",
              "      <td>0.501855</td>\n",
              "      <td>0.498145</td>\n",
              "    </tr>\n",
              "    <tr>\n",
              "      <th>3</th>\n",
              "      <td>0.878923</td>\n",
              "      <td>0.121077</td>\n",
              "    </tr>\n",
              "    <tr>\n",
              "      <th>4</th>\n",
              "      <td>0.947926</td>\n",
              "      <td>0.052074</td>\n",
              "    </tr>\n",
              "    <tr>\n",
              "      <th>5</th>\n",
              "      <td>0.715253</td>\n",
              "      <td>0.284747</td>\n",
              "    </tr>\n",
              "    <tr>\n",
              "      <th>6</th>\n",
              "      <td>0.671190</td>\n",
              "      <td>0.328810</td>\n",
              "    </tr>\n",
              "    <tr>\n",
              "      <th>7</th>\n",
              "      <td>0.905787</td>\n",
              "      <td>0.094213</td>\n",
              "    </tr>\n",
              "    <tr>\n",
              "      <th>8</th>\n",
              "      <td>0.943528</td>\n",
              "      <td>0.056472</td>\n",
              "    </tr>\n",
              "    <tr>\n",
              "      <th>9</th>\n",
              "      <td>0.794089</td>\n",
              "      <td>0.205911</td>\n",
              "    </tr>\n",
              "  </tbody>\n",
              "</table>\n",
              "</div>\n",
              "      <button class=\"colab-df-convert\" onclick=\"convertToInteractive('df-3c859f9f-5921-48a1-bf07-935d3fd30317')\"\n",
              "              title=\"Convert this dataframe to an interactive table.\"\n",
              "              style=\"display:none;\">\n",
              "        \n",
              "  <svg xmlns=\"http://www.w3.org/2000/svg\" height=\"24px\"viewBox=\"0 0 24 24\"\n",
              "       width=\"24px\">\n",
              "    <path d=\"M0 0h24v24H0V0z\" fill=\"none\"/>\n",
              "    <path d=\"M18.56 5.44l.94 2.06.94-2.06 2.06-.94-2.06-.94-.94-2.06-.94 2.06-2.06.94zm-11 1L8.5 8.5l.94-2.06 2.06-.94-2.06-.94L8.5 2.5l-.94 2.06-2.06.94zm10 10l.94 2.06.94-2.06 2.06-.94-2.06-.94-.94-2.06-.94 2.06-2.06.94z\"/><path d=\"M17.41 7.96l-1.37-1.37c-.4-.4-.92-.59-1.43-.59-.52 0-1.04.2-1.43.59L10.3 9.45l-7.72 7.72c-.78.78-.78 2.05 0 2.83L4 21.41c.39.39.9.59 1.41.59.51 0 1.02-.2 1.41-.59l7.78-7.78 2.81-2.81c.8-.78.8-2.07 0-2.86zM5.41 20L4 18.59l7.72-7.72 1.47 1.35L5.41 20z\"/>\n",
              "  </svg>\n",
              "      </button>\n",
              "      \n",
              "  <style>\n",
              "    .colab-df-container {\n",
              "      display:flex;\n",
              "      flex-wrap:wrap;\n",
              "      gap: 12px;\n",
              "    }\n",
              "\n",
              "    .colab-df-convert {\n",
              "      background-color: #E8F0FE;\n",
              "      border: none;\n",
              "      border-radius: 50%;\n",
              "      cursor: pointer;\n",
              "      display: none;\n",
              "      fill: #1967D2;\n",
              "      height: 32px;\n",
              "      padding: 0 0 0 0;\n",
              "      width: 32px;\n",
              "    }\n",
              "\n",
              "    .colab-df-convert:hover {\n",
              "      background-color: #E2EBFA;\n",
              "      box-shadow: 0px 1px 2px rgba(60, 64, 67, 0.3), 0px 1px 3px 1px rgba(60, 64, 67, 0.15);\n",
              "      fill: #174EA6;\n",
              "    }\n",
              "\n",
              "    [theme=dark] .colab-df-convert {\n",
              "      background-color: #3B4455;\n",
              "      fill: #D2E3FC;\n",
              "    }\n",
              "\n",
              "    [theme=dark] .colab-df-convert:hover {\n",
              "      background-color: #434B5C;\n",
              "      box-shadow: 0px 1px 3px 1px rgba(0, 0, 0, 0.15);\n",
              "      filter: drop-shadow(0px 1px 2px rgba(0, 0, 0, 0.3));\n",
              "      fill: #FFFFFF;\n",
              "    }\n",
              "  </style>\n",
              "\n",
              "      <script>\n",
              "        const buttonEl =\n",
              "          document.querySelector('#df-3c859f9f-5921-48a1-bf07-935d3fd30317 button.colab-df-convert');\n",
              "        buttonEl.style.display =\n",
              "          google.colab.kernel.accessAllowed ? 'block' : 'none';\n",
              "\n",
              "        async function convertToInteractive(key) {\n",
              "          const element = document.querySelector('#df-3c859f9f-5921-48a1-bf07-935d3fd30317');\n",
              "          const dataTable =\n",
              "            await google.colab.kernel.invokeFunction('convertToInteractive',\n",
              "                                                     [key], {});\n",
              "          if (!dataTable) return;\n",
              "\n",
              "          const docLinkHtml = 'Like what you see? Visit the ' +\n",
              "            '<a target=\"_blank\" href=https://colab.research.google.com/notebooks/data_table.ipynb>data table notebook</a>'\n",
              "            + ' to learn more about interactive tables.';\n",
              "          element.innerHTML = '';\n",
              "          dataTable['output_type'] = 'display_data';\n",
              "          await google.colab.output.renderOutput(dataTable, element);\n",
              "          const docLink = document.createElement('div');\n",
              "          docLink.innerHTML = docLinkHtml;\n",
              "          element.appendChild(docLink);\n",
              "        }\n",
              "      </script>\n",
              "    </div>\n",
              "  </div>\n",
              "  "
            ]
          },
          "metadata": {},
          "execution_count": 272
        }
      ]
    },
    {
      "cell_type": "code",
      "source": [
        "# check AUC score\n",
        "metrics.roc_auc_score(y_test, pred_proba_result[:,1])"
      ],
      "metadata": {
        "colab": {
          "base_uri": "https://localhost:8080/"
        },
        "id": "Vw0zKR5VSMz5",
        "outputId": "c6ffbc5a-1582-4542-d4af-9ee605c540c6"
      },
      "execution_count": 273,
      "outputs": [
        {
          "output_type": "execute_result",
          "data": {
            "text/plain": [
              "0.7182281631342324"
            ]
          },
          "metadata": {},
          "execution_count": 273
        }
      ]
    },
    {
      "cell_type": "code",
      "source": [
        "# check first 10 prediction of class 1\n",
        "pred_proba_result[:10,1]"
      ],
      "metadata": {
        "colab": {
          "base_uri": "https://localhost:8080/"
        },
        "id": "UZaYpVXPSTHW",
        "outputId": "b0235eb3-1c39-4f41-9e4f-7ce049b0b2d6"
      },
      "execution_count": 274,
      "outputs": [
        {
          "output_type": "execute_result",
          "data": {
            "text/plain": [
              "array([0.41683243, 0.12177405, 0.49814546, 0.12107686, 0.05207362,\n",
              "       0.2847468 , 0.32881003, 0.09421292, 0.05647224, 0.20591081])"
            ]
          },
          "metadata": {},
          "execution_count": 274
        }
      ]
    },
    {
      "cell_type": "markdown",
      "source": [
        "ROC Curve"
      ],
      "metadata": {
        "id": "s9V7u_skSaxD"
      }
    },
    {
      "cell_type": "markdown",
      "source": [
        "ROC Curve Using Scikit-Learn"
      ],
      "metadata": {
        "id": "wOtv6aJgScvN"
      }
    },
    {
      "cell_type": "code",
      "source": [
        "metrics.RocCurveDisplay.from_estimator(logistic_reg, X_test, y_test)"
      ],
      "metadata": {
        "colab": {
          "base_uri": "https://localhost:8080/",
          "height": 296
        },
        "id": "NB8jZ5cnSWxR",
        "outputId": "6503a446-dccf-4720-ec66-82dcd79fffda"
      },
      "execution_count": 275,
      "outputs": [
        {
          "output_type": "execute_result",
          "data": {
            "text/plain": [
              "<sklearn.metrics._plot.roc_curve.RocCurveDisplay at 0x7f858ea398d0>"
            ]
          },
          "metadata": {},
          "execution_count": 275
        },
        {
          "output_type": "display_data",
          "data": {
            "text/plain": [
              "<Figure size 432x288 with 1 Axes>"
            ],
            "image/png": "[encoded data removed]"
          },
          "metadata": {
            "needs_background": "light"
          }
        }
      ]
    },
    {
      "cell_type": "markdown",
      "source": [
        "ROC Curve From Scikit-Plot"
      ],
      "metadata": {
        "id": "2V5RzKumSkaa"
      }
    },
    {
      "cell_type": "code",
      "source": [
        "skplt.metrics.plot_roc(y_test, pred_proba_result)"
      ],
      "metadata": {
        "colab": {
          "base_uri": "https://localhost:8080/",
          "height": 312
        },
        "id": "L6PqURy0Sle3",
        "outputId": "90501282-38f4-4781-db86-a6359a82578e"
      },
      "execution_count": 276,
      "outputs": [
        {
          "output_type": "execute_result",
          "data": {
            "text/plain": [
              "<matplotlib.axes._subplots.AxesSubplot at 0x7f858e9afa90>"
            ]
          },
          "metadata": {},
          "execution_count": 276
        },
        {
          "output_type": "display_data",
          "data": {
            "text/plain": [
              "<Figure size 432x288 with 1 Axes>"
            ],
            "image/png": "[encoded data removed]"
          },
          "metadata": {
            "needs_background": "light"
          }
        }
      ]
    },
    {
      "cell_type": "markdown",
      "source": [
        "Handle Imbalance Class Dataset with G-Means"
      ],
      "metadata": {
        "id": "Rtj8cdkzStKc"
      }
    },
    {
      "cell_type": "code",
      "source": [
        "# find fpr and tpr using roc_curve() method\n",
        "fpr, tpr, thresholds = metrics.roc_curve(y_test, pred_proba_result[:,1])"
      ],
      "metadata": {
        "id": "LoYFE4ovSrZb"
      },
      "execution_count": 277,
      "outputs": []
    },
    {
      "cell_type": "code",
      "source": [
        "# calculate g-means\n",
        "gmeans = np.sqrt(tpr * (1-fpr))"
      ],
      "metadata": {
        "id": "652zCAKoSyti"
      },
      "execution_count": 278,
      "outputs": []
    },
    {
      "cell_type": "code",
      "source": [
        "# see gmeans result\n",
        "gmeans"
      ],
      "metadata": {
        "colab": {
          "base_uri": "https://localhost:8080/"
        },
        "id": "nWPfAFYiS0sv",
        "outputId": "95aa6a3e-7af8-443b-c915-004c20381271"
      },
      "execution_count": 279,
      "outputs": [
        {
          "output_type": "execute_result",
          "data": {
            "text/plain": [
              "array([0.        , 0.10206207, 0.22821773, 0.22777758, 0.26951007,\n",
              "       0.26898827, 0.32150247, 0.32119018, 0.33686711, 0.33621108,\n",
              "       0.36549998, 0.36514288, 0.39222637, 0.39145805, 0.40429613,\n",
              "       0.40389879, 0.41632934, 0.4150982 , 0.45023722, 0.44979122,\n",
              "       0.46089885, 0.45952508, 0.47033891, 0.46939917, 0.5102907 ,\n",
              "       0.50824133, 0.52742695, 0.52689393, 0.53622021, 0.53513364,\n",
              "       0.54428189, 0.54372848, 0.55271633, 0.5521532 , 0.57825341,\n",
              "       0.57588836, 0.58429593, 0.58369449, 0.59197426, 0.59136366,\n",
              "       0.59952079, 0.59329507, 0.60125912, 0.5999893 , 0.60783263,\n",
              "       0.6000562 , 0.60770053, 0.60703963, 0.61458078, 0.60852565,\n",
              "       0.61590199, 0.61384555, 0.62829095, 0.6268838 , 0.64097284,\n",
              "       0.63808556, 0.64498398, 0.64351977, 0.65032969, 0.64958858,\n",
              "       0.65632024, 0.65557059, 0.6622263 , 0.65613673, 0.66266562,\n",
              "       0.66111914, 0.66756923, 0.64853721, 0.65474345, 0.65311676,\n",
              "       0.65924944, 0.65512652, 0.66116468, 0.65949295, 0.66546134,\n",
              "       0.66037493, 0.67206389, 0.66070917, 0.6663806 , 0.6654915 ,\n",
              "       0.67110756, 0.66841053, 0.6739576 , 0.6694007 , 0.67486529,\n",
              "       0.63300113, 0.63808556, 0.63010917, 0.63509035, 0.6320492 ,\n",
              "       0.63696795, 0.63285843, 0.63770799, 0.62299776, 0.62769969,\n",
              "       0.62015625, 0.62476714, 0.60928377, 0.6225788 , 0.61798406,\n",
              "       0.62232085, 0.61999441, 0.62428508, 0.61004096, 0.61420511,\n",
              "       0.59454543, 0.59854915, 0.59476481, 0.59871678, 0.56055872,\n",
              "       0.56788659, 0.56650655, 0.57012644, 0.56172117, 0.56526518,\n",
              "       0.5450189 , 0.54841469, 0.54095292, 0.54428189, 0.53666918,\n",
              "       0.53993164, 0.53683745, 0.54006172, 0.53061385, 0.53376292,\n",
              "       0.5024826 , 0.50542973, 0.46635346, 0.46905698, 0.45199462,\n",
              "       0.45458486, 0.44674661, 0.44927777, 0.44528411, 0.44777872,\n",
              "       0.44575713, 0.44822672, 0.42949893, 0.43185237, 0.33006587,\n",
              "       0.33185486, 0.32618171, 0.32793069, 0.11491948, 0.11552914,\n",
              "       0.09763994, 0.09815249, 0.        ])"
            ]
          },
          "metadata": {},
          "execution_count": 279
        }
      ]
    },
    {
      "cell_type": "code",
      "source": [
        "# find the best threshold\n",
        "ix = np.argmax(gmeans)"
      ],
      "metadata": {
        "id": "gV4Ye0UES6Er"
      },
      "execution_count": 280,
      "outputs": []
    },
    {
      "cell_type": "code",
      "source": [
        "print('Best Threshold={}, G-Mean={}'.format(thresholds[ix], gmeans[ix]))"
      ],
      "metadata": {
        "colab": {
          "base_uri": "https://localhost:8080/"
        },
        "id": "CVcM8U_bS8ig",
        "outputId": "c1e93501-7dbf-442a-8389-3c6dfda788c9"
      },
      "execution_count": 281,
      "outputs": [
        {
          "output_type": "stream",
          "name": "stdout",
          "text": [
            "Best Threshold=0.1825944842959162, G-Mean=0.6748652902045924\n"
          ]
        }
      ]
    },
    {
      "cell_type": "code",
      "source": [
        "# change predict proba result to optimized one using new threshold\n",
        "new_pred_result = (pred_proba_result[:,1] >= thresholds[ix]).astype(int)"
      ],
      "metadata": {
        "id": "JwYq6ihcTDLo"
      },
      "execution_count": 282,
      "outputs": []
    },
    {
      "cell_type": "code",
      "source": [
        "# visualize confusion matrix after setting new threshold\n",
        "skplt.metrics.plot_confusion_matrix(y_test, new_pred_result);"
      ],
      "metadata": {
        "colab": {
          "base_uri": "https://localhost:8080/",
          "height": 295
        },
        "id": "RenGeuJ0TEPF",
        "outputId": "a1835661-de3f-43cd-8572-ba8874561ec6"
      },
      "execution_count": 283,
      "outputs": [
        {
          "output_type": "display_data",
          "data": {
            "text/plain": [
              "<Figure size 432x288 with 2 Axes>"
            ],
            "image/png": "[encoded data removed]"
          },
          "metadata": {
            "needs_background": "light"
          }
        }
      ]
    },
    {
      "cell_type": "code",
      "source": [
        "# check f1-score\n",
        "metrics.f1_score(y_test, new_pred_result)"
      ],
      "metadata": {
        "colab": {
          "base_uri": "https://localhost:8080/"
        },
        "id": "SoazEDohTMei",
        "outputId": "6256c3b6-7b00-4df2-e717-cd8a10fe7dcc"
      },
      "execution_count": 284,
      "outputs": [
        {
          "output_type": "execute_result",
          "data": {
            "text/plain": [
              "0.3987138263665595"
            ]
          },
          "metadata": {},
          "execution_count": 284
        }
      ]
    },
    {
      "cell_type": "code",
      "source": [
        "# compare to the old f-1 score\n",
        "metrics.f1_score(y_test, pred_result)"
      ],
      "metadata": {
        "colab": {
          "base_uri": "https://localhost:8080/"
        },
        "id": "O1mpYDJATPq-",
        "outputId": "83caa260-e236-445f-f419-82f4fef16edf"
      },
      "execution_count": 285,
      "outputs": [
        {
          "output_type": "execute_result",
          "data": {
            "text/plain": [
              "0.19469026548672563"
            ]
          },
          "metadata": {},
          "execution_count": 285
        }
      ]
    },
    {
      "cell_type": "code",
      "source": [
        "# check classification report result of new prediction result\n",
        "pd.DataFrame(metrics.classification_report(y_test, new_pred_result, target_names=['not Response','Response'], output_dict=True))"
      ],
      "metadata": {
        "colab": {
          "base_uri": "https://localhost:8080/",
          "height": 174
        },
        "id": "7LQyYQJyTUe4",
        "outputId": "d6363975-bf59-4428-8f5b-b338a0e93400"
      },
      "execution_count": 286,
      "outputs": [
        {
          "output_type": "execute_result",
          "data": {
            "text/plain": [
              "           not Response   Response  accuracy   macro avg  weighted avg\n",
              "precision      0.915000   0.288372  0.695935    0.601686      0.817185\n",
              "recall         0.705202   0.645833  0.695935    0.675518      0.695935\n",
              "f1-score       0.796518   0.398714  0.695935    0.597616      0.734422\n",
              "support      519.000000  96.000000  0.695935  615.000000    615.000000"
            ],
            "text/html": [
              "\n",
              "  <div id=\"df-4a22c152-ae26-4f51-9311-e40d0f9deacf\">\n",
              "    <div class=\"colab-df-container\">\n",
              "      <div>\n",
              "<style scoped>\n",
              "    .dataframe tbody tr th:only-of-type {\n",
              "        vertical-align: middle;\n",
              "    }\n",
              "\n",
              "    .dataframe tbody tr th {\n",
              "        vertical-align: top;\n",
              "    }\n",
              "\n",
              "    .dataframe thead th {\n",
              "        text-align: right;\n",
              "    }\n",
              "</style>\n",
              "<table border=\"1\" class=\"dataframe\">\n",
              "  <thead>\n",
              "    <tr style=\"text-align: right;\">\n",
              "      <th></th>\n",
              "      <th>not Response</th>\n",
              "      <th>Response</th>\n",
              "      <th>accuracy</th>\n",
              "      <th>macro avg</th>\n",
              "      <th>weighted avg</th>\n",
              "    </tr>\n",
              "  </thead>\n",
              "  <tbody>\n",
              "    <tr>\n",
              "      <th>precision</th>\n",
              "      <td>0.915000</td>\n",
              "      <td>0.288372</td>\n",
              "      <td>0.695935</td>\n",
              "      <td>0.601686</td>\n",
              "      <td>0.817185</td>\n",
              "    </tr>\n",
              "    <tr>\n",
              "      <th>recall</th>\n",
              "      <td>0.705202</td>\n",
              "      <td>0.645833</td>\n",
              "      <td>0.695935</td>\n",
              "      <td>0.675518</td>\n",
              "      <td>0.695935</td>\n",
              "    </tr>\n",
              "    <tr>\n",
              "      <th>f1-score</th>\n",
              "      <td>0.796518</td>\n",
              "      <td>0.398714</td>\n",
              "      <td>0.695935</td>\n",
              "      <td>0.597616</td>\n",
              "      <td>0.734422</td>\n",
              "    </tr>\n",
              "    <tr>\n",
              "      <th>support</th>\n",
              "      <td>519.000000</td>\n",
              "      <td>96.000000</td>\n",
              "      <td>0.695935</td>\n",
              "      <td>615.000000</td>\n",
              "      <td>615.000000</td>\n",
              "    </tr>\n",
              "  </tbody>\n",
              "</table>\n",
              "</div>\n",
              "      <button class=\"colab-df-convert\" onclick=\"convertToInteractive('df-4a22c152-ae26-4f51-9311-e40d0f9deacf')\"\n",
              "              title=\"Convert this dataframe to an interactive table.\"\n",
              "              style=\"display:none;\">\n",
              "        \n",
              "  <svg xmlns=\"http://www.w3.org/2000/svg\" height=\"24px\"viewBox=\"0 0 24 24\"\n",
              "       width=\"24px\">\n",
              "    <path d=\"M0 0h24v24H0V0z\" fill=\"none\"/>\n",
              "    <path d=\"M18.56 5.44l.94 2.06.94-2.06 2.06-.94-2.06-.94-.94-2.06-.94 2.06-2.06.94zm-11 1L8.5 8.5l.94-2.06 2.06-.94-2.06-.94L8.5 2.5l-.94 2.06-2.06.94zm10 10l.94 2.06.94-2.06 2.06-.94-2.06-.94-.94-2.06-.94 2.06-2.06.94z\"/><path d=\"M17.41 7.96l-1.37-1.37c-.4-.4-.92-.59-1.43-.59-.52 0-1.04.2-1.43.59L10.3 9.45l-7.72 7.72c-.78.78-.78 2.05 0 2.83L4 21.41c.39.39.9.59 1.41.59.51 0 1.02-.2 1.41-.59l7.78-7.78 2.81-2.81c.8-.78.8-2.07 0-2.86zM5.41 20L4 18.59l7.72-7.72 1.47 1.35L5.41 20z\"/>\n",
              "  </svg>\n",
              "      </button>\n",
              "      \n",
              "  <style>\n",
              "    .colab-df-container {\n",
              "      display:flex;\n",
              "      flex-wrap:wrap;\n",
              "      gap: 12px;\n",
              "    }\n",
              "\n",
              "    .colab-df-convert {\n",
              "      background-color: #E8F0FE;\n",
              "      border: none;\n",
              "      border-radius: 50%;\n",
              "      cursor: pointer;\n",
              "      display: none;\n",
              "      fill: #1967D2;\n",
              "      height: 32px;\n",
              "      padding: 0 0 0 0;\n",
              "      width: 32px;\n",
              "    }\n",
              "\n",
              "    .colab-df-convert:hover {\n",
              "      background-color: #E2EBFA;\n",
              "      box-shadow: 0px 1px 2px rgba(60, 64, 67, 0.3), 0px 1px 3px 1px rgba(60, 64, 67, 0.15);\n",
              "      fill: #174EA6;\n",
              "    }\n",
              "\n",
              "    [theme=dark] .colab-df-convert {\n",
              "      background-color: #3B4455;\n",
              "      fill: #D2E3FC;\n",
              "    }\n",
              "\n",
              "    [theme=dark] .colab-df-convert:hover {\n",
              "      background-color: #434B5C;\n",
              "      box-shadow: 0px 1px 3px 1px rgba(0, 0, 0, 0.15);\n",
              "      filter: drop-shadow(0px 1px 2px rgba(0, 0, 0, 0.3));\n",
              "      fill: #FFFFFF;\n",
              "    }\n",
              "  </style>\n",
              "\n",
              "      <script>\n",
              "        const buttonEl =\n",
              "          document.querySelector('#df-4a22c152-ae26-4f51-9311-e40d0f9deacf button.colab-df-convert');\n",
              "        buttonEl.style.display =\n",
              "          google.colab.kernel.accessAllowed ? 'block' : 'none';\n",
              "\n",
              "        async function convertToInteractive(key) {\n",
              "          const element = document.querySelector('#df-4a22c152-ae26-4f51-9311-e40d0f9deacf');\n",
              "          const dataTable =\n",
              "            await google.colab.kernel.invokeFunction('convertToInteractive',\n",
              "                                                     [key], {});\n",
              "          if (!dataTable) return;\n",
              "\n",
              "          const docLinkHtml = 'Like what you see? Visit the ' +\n",
              "            '<a target=\"_blank\" href=https://colab.research.google.com/notebooks/data_table.ipynb>data table notebook</a>'\n",
              "            + ' to learn more about interactive tables.';\n",
              "          element.innerHTML = '';\n",
              "          dataTable['output_type'] = 'display_data';\n",
              "          await google.colab.output.renderOutput(dataTable, element);\n",
              "          const docLink = document.createElement('div');\n",
              "          docLink.innerHTML = docLinkHtml;\n",
              "          element.appendChild(docLink);\n",
              "        }\n",
              "      </script>\n",
              "    </div>\n",
              "  </div>\n",
              "  "
            ]
          },
          "metadata": {},
          "execution_count": 286
        }
      ]
    },
    {
      "cell_type": "code",
      "source": [
        "# check classification report result of old prediction result\n",
        "pd.DataFrame(metrics.classification_report(y_test, pred_result, target_names=['not Response','Response'], output_dict=True))"
      ],
      "metadata": {
        "colab": {
          "base_uri": "https://localhost:8080/",
          "height": 174
        },
        "id": "uEM4_QuCTeMG",
        "outputId": "80eb3084-e335-493c-b3ea-d13e2d5e0e4e"
      },
      "execution_count": 287,
      "outputs": [
        {
          "output_type": "execute_result",
          "data": {
            "text/plain": [
              "           not Response   Response  accuracy   macro avg  weighted avg\n",
              "precision      0.857860   0.647059  0.852033    0.752459      0.824954\n",
              "recall         0.988439   0.114583  0.852033    0.551511      0.852033\n",
              "f1-score       0.918532   0.194690  0.852033    0.556611      0.805542\n",
              "support      519.000000  96.000000  0.852033  615.000000    615.000000"
            ],
            "text/html": [
              "\n",
              "  <div id=\"df-5700a4b8-2104-4f1a-a7c4-0ceb0b0099ca\">\n",
              "    <div class=\"colab-df-container\">\n",
              "      <div>\n",
              "<style scoped>\n",
              "    .dataframe tbody tr th:only-of-type {\n",
              "        vertical-align: middle;\n",
              "    }\n",
              "\n",
              "    .dataframe tbody tr th {\n",
              "        vertical-align: top;\n",
              "    }\n",
              "\n",
              "    .dataframe thead th {\n",
              "        text-align: right;\n",
              "    }\n",
              "</style>\n",
              "<table border=\"1\" class=\"dataframe\">\n",
              "  <thead>\n",
              "    <tr style=\"text-align: right;\">\n",
              "      <th></th>\n",
              "      <th>not Response</th>\n",
              "      <th>Response</th>\n",
              "      <th>accuracy</th>\n",
              "      <th>macro avg</th>\n",
              "      <th>weighted avg</th>\n",
              "    </tr>\n",
              "  </thead>\n",
              "  <tbody>\n",
              "    <tr>\n",
              "      <th>precision</th>\n",
              "      <td>0.857860</td>\n",
              "      <td>0.647059</td>\n",
              "      <td>0.852033</td>\n",
              "      <td>0.752459</td>\n",
              "      <td>0.824954</td>\n",
              "    </tr>\n",
              "    <tr>\n",
              "      <th>recall</th>\n",
              "      <td>0.988439</td>\n",
              "      <td>0.114583</td>\n",
              "      <td>0.852033</td>\n",
              "      <td>0.551511</td>\n",
              "      <td>0.852033</td>\n",
              "    </tr>\n",
              "    <tr>\n",
              "      <th>f1-score</th>\n",
              "      <td>0.918532</td>\n",
              "      <td>0.194690</td>\n",
              "      <td>0.852033</td>\n",
              "      <td>0.556611</td>\n",
              "      <td>0.805542</td>\n",
              "    </tr>\n",
              "    <tr>\n",
              "      <th>support</th>\n",
              "      <td>519.000000</td>\n",
              "      <td>96.000000</td>\n",
              "      <td>0.852033</td>\n",
              "      <td>615.000000</td>\n",
              "      <td>615.000000</td>\n",
              "    </tr>\n",
              "  </tbody>\n",
              "</table>\n",
              "</div>\n",
              "      <button class=\"colab-df-convert\" onclick=\"convertToInteractive('df-5700a4b8-2104-4f1a-a7c4-0ceb0b0099ca')\"\n",
              "              title=\"Convert this dataframe to an interactive table.\"\n",
              "              style=\"display:none;\">\n",
              "        \n",
              "  <svg xmlns=\"http://www.w3.org/2000/svg\" height=\"24px\"viewBox=\"0 0 24 24\"\n",
              "       width=\"24px\">\n",
              "    <path d=\"M0 0h24v24H0V0z\" fill=\"none\"/>\n",
              "    <path d=\"M18.56 5.44l.94 2.06.94-2.06 2.06-.94-2.06-.94-.94-2.06-.94 2.06-2.06.94zm-11 1L8.5 8.5l.94-2.06 2.06-.94-2.06-.94L8.5 2.5l-.94 2.06-2.06.94zm10 10l.94 2.06.94-2.06 2.06-.94-2.06-.94-.94-2.06-.94 2.06-2.06.94z\"/><path d=\"M17.41 7.96l-1.37-1.37c-.4-.4-.92-.59-1.43-.59-.52 0-1.04.2-1.43.59L10.3 9.45l-7.72 7.72c-.78.78-.78 2.05 0 2.83L4 21.41c.39.39.9.59 1.41.59.51 0 1.02-.2 1.41-.59l7.78-7.78 2.81-2.81c.8-.78.8-2.07 0-2.86zM5.41 20L4 18.59l7.72-7.72 1.47 1.35L5.41 20z\"/>\n",
              "  </svg>\n",
              "      </button>\n",
              "      \n",
              "  <style>\n",
              "    .colab-df-container {\n",
              "      display:flex;\n",
              "      flex-wrap:wrap;\n",
              "      gap: 12px;\n",
              "    }\n",
              "\n",
              "    .colab-df-convert {\n",
              "      background-color: #E8F0FE;\n",
              "      border: none;\n",
              "      border-radius: 50%;\n",
              "      cursor: pointer;\n",
              "      display: none;\n",
              "      fill: #1967D2;\n",
              "      height: 32px;\n",
              "      padding: 0 0 0 0;\n",
              "      width: 32px;\n",
              "    }\n",
              "\n",
              "    .colab-df-convert:hover {\n",
              "      background-color: #E2EBFA;\n",
              "      box-shadow: 0px 1px 2px rgba(60, 64, 67, 0.3), 0px 1px 3px 1px rgba(60, 64, 67, 0.15);\n",
              "      fill: #174EA6;\n",
              "    }\n",
              "\n",
              "    [theme=dark] .colab-df-convert {\n",
              "      background-color: #3B4455;\n",
              "      fill: #D2E3FC;\n",
              "    }\n",
              "\n",
              "    [theme=dark] .colab-df-convert:hover {\n",
              "      background-color: #434B5C;\n",
              "      box-shadow: 0px 1px 3px 1px rgba(0, 0, 0, 0.15);\n",
              "      filter: drop-shadow(0px 1px 2px rgba(0, 0, 0, 0.3));\n",
              "      fill: #FFFFFF;\n",
              "    }\n",
              "  </style>\n",
              "\n",
              "      <script>\n",
              "        const buttonEl =\n",
              "          document.querySelector('#df-5700a4b8-2104-4f1a-a7c4-0ceb0b0099ca button.colab-df-convert');\n",
              "        buttonEl.style.display =\n",
              "          google.colab.kernel.accessAllowed ? 'block' : 'none';\n",
              "\n",
              "        async function convertToInteractive(key) {\n",
              "          const element = document.querySelector('#df-5700a4b8-2104-4f1a-a7c4-0ceb0b0099ca');\n",
              "          const dataTable =\n",
              "            await google.colab.kernel.invokeFunction('convertToInteractive',\n",
              "                                                     [key], {});\n",
              "          if (!dataTable) return;\n",
              "\n",
              "          const docLinkHtml = 'Like what you see? Visit the ' +\n",
              "            '<a target=\"_blank\" href=https://colab.research.google.com/notebooks/data_table.ipynb>data table notebook</a>'\n",
              "            + ' to learn more about interactive tables.';\n",
              "          element.innerHTML = '';\n",
              "          dataTable['output_type'] = 'display_data';\n",
              "          await google.colab.output.renderOutput(dataTable, element);\n",
              "          const docLink = document.createElement('div');\n",
              "          docLink.innerHTML = docLinkHtml;\n",
              "          element.appendChild(docLink);\n",
              "        }\n",
              "      </script>\n",
              "    </div>\n",
              "  </div>\n",
              "  "
            ]
          },
          "metadata": {},
          "execution_count": 287
        }
      ]
    },
    {
      "cell_type": "markdown",
      "source": [
        "Model\n",
        "\n",
        "Logistic Regression have accuracy about 0.85 which is greater than the treshold. So the model has the better result."
      ],
      "metadata": {
        "id": "Z_jADNKRzf8R"
      }
    },
    {
      "cell_type": "markdown",
      "source": [
        "KNN"
      ],
      "metadata": {
        "id": "6Qs8MVcfgeVG"
      }
    },
    {
      "cell_type": "code",
      "source": [
        "mr_data.head(5)"
      ],
      "metadata": {
        "colab": {
          "base_uri": "https://localhost:8080/",
          "height": 205
        },
        "id": "z7No2FDVzusW",
        "outputId": "00dedb05-8e69-473a-f952-cf7ff622f845"
      },
      "execution_count": 288,
      "outputs": [
        {
          "output_type": "execute_result",
          "data": {
            "text/plain": [
              "   Recency  MntWines  MntFruits  MntMeatProducts  MntFishProducts  \\\n",
              "0       58       635         88              546              172   \n",
              "1       38        11          1                6                2   \n",
              "2       26       426         49              127              111   \n",
              "3       26        11          4               20               10   \n",
              "4       94       173         43              118               46   \n",
              "\n",
              "   MntSweetProducts  MntGoldProds  NumDealsPurchases  NumWebPurchases  \\\n",
              "0                88            88                  3                8   \n",
              "1                 1             6                  2                1   \n",
              "2                21            42                  1                8   \n",
              "3                 3             5                  2                2   \n",
              "4                27            15                  5                5   \n",
              "\n",
              "   Complain  Response  \n",
              "0         0         1  \n",
              "1         0         0  \n",
              "2         0         0  \n",
              "3         0         0  \n",
              "4         0         0  "
            ],
            "text/html": [
              "\n",
              "  <div id=\"df-93b695e9-42b7-4370-84ca-ba2f069e195d\">\n",
              "    <div class=\"colab-df-container\">\n",
              "      <div>\n",
              "<style scoped>\n",
              "    .dataframe tbody tr th:only-of-type {\n",
              "        vertical-align: middle;\n",
              "    }\n",
              "\n",
              "    .dataframe tbody tr th {\n",
              "        vertical-align: top;\n",
              "    }\n",
              "\n",
              "    .dataframe thead th {\n",
              "        text-align: right;\n",
              "    }\n",
              "</style>\n",
              "<table border=\"1\" class=\"dataframe\">\n",
              "  <thead>\n",
              "    <tr style=\"text-align: right;\">\n",
              "      <th></th>\n",
              "      <th>Recency</th>\n",
              "      <th>MntWines</th>\n",
              "      <th>MntFruits</th>\n",
              "      <th>MntMeatProducts</th>\n",
              "      <th>MntFishProducts</th>\n",
              "      <th>MntSweetProducts</th>\n",
              "      <th>MntGoldProds</th>\n",
              "      <th>NumDealsPurchases</th>\n",
              "      <th>NumWebPurchases</th>\n",
              "      <th>Complain</th>\n",
              "      <th>Response</th>\n",
              "    </tr>\n",
              "  </thead>\n",
              "  <tbody>\n",
              "    <tr>\n",
              "      <th>0</th>\n",
              "      <td>58</td>\n",
              "      <td>635</td>\n",
              "      <td>88</td>\n",
              "      <td>546</td>\n",
              "      <td>172</td>\n",
              "      <td>88</td>\n",
              "      <td>88</td>\n",
              "      <td>3</td>\n",
              "      <td>8</td>\n",
              "      <td>0</td>\n",
              "      <td>1</td>\n",
              "    </tr>\n",
              "    <tr>\n",
              "      <th>1</th>\n",
              "      <td>38</td>\n",
              "      <td>11</td>\n",
              "      <td>1</td>\n",
              "      <td>6</td>\n",
              "      <td>2</td>\n",
              "      <td>1</td>\n",
              "      <td>6</td>\n",
              "      <td>2</td>\n",
              "      <td>1</td>\n",
              "      <td>0</td>\n",
              "      <td>0</td>\n",
              "    </tr>\n",
              "    <tr>\n",
              "      <th>2</th>\n",
              "      <td>26</td>\n",
              "      <td>426</td>\n",
              "      <td>49</td>\n",
              "      <td>127</td>\n",
              "      <td>111</td>\n",
              "      <td>21</td>\n",
              "      <td>42</td>\n",
              "      <td>1</td>\n",
              "      <td>8</td>\n",
              "      <td>0</td>\n",
              "      <td>0</td>\n",
              "    </tr>\n",
              "    <tr>\n",
              "      <th>3</th>\n",
              "      <td>26</td>\n",
              "      <td>11</td>\n",
              "      <td>4</td>\n",
              "      <td>20</td>\n",
              "      <td>10</td>\n",
              "      <td>3</td>\n",
              "      <td>5</td>\n",
              "      <td>2</td>\n",
              "      <td>2</td>\n",
              "      <td>0</td>\n",
              "      <td>0</td>\n",
              "    </tr>\n",
              "    <tr>\n",
              "      <th>4</th>\n",
              "      <td>94</td>\n",
              "      <td>173</td>\n",
              "      <td>43</td>\n",
              "      <td>118</td>\n",
              "      <td>46</td>\n",
              "      <td>27</td>\n",
              "      <td>15</td>\n",
              "      <td>5</td>\n",
              "      <td>5</td>\n",
              "      <td>0</td>\n",
              "      <td>0</td>\n",
              "    </tr>\n",
              "  </tbody>\n",
              "</table>\n",
              "</div>\n",
              "      <button class=\"colab-df-convert\" onclick=\"convertToInteractive('df-93b695e9-42b7-4370-84ca-ba2f069e195d')\"\n",
              "              title=\"Convert this dataframe to an interactive table.\"\n",
              "              style=\"display:none;\">\n",
              "        \n",
              "  <svg xmlns=\"http://www.w3.org/2000/svg\" height=\"24px\"viewBox=\"0 0 24 24\"\n",
              "       width=\"24px\">\n",
              "    <path d=\"M0 0h24v24H0V0z\" fill=\"none\"/>\n",
              "    <path d=\"M18.56 5.44l.94 2.06.94-2.06 2.06-.94-2.06-.94-.94-2.06-.94 2.06-2.06.94zm-11 1L8.5 8.5l.94-2.06 2.06-.94-2.06-.94L8.5 2.5l-.94 2.06-2.06.94zm10 10l.94 2.06.94-2.06 2.06-.94-2.06-.94-.94-2.06-.94 2.06-2.06.94z\"/><path d=\"M17.41 7.96l-1.37-1.37c-.4-.4-.92-.59-1.43-.59-.52 0-1.04.2-1.43.59L10.3 9.45l-7.72 7.72c-.78.78-.78 2.05 0 2.83L4 21.41c.39.39.9.59 1.41.59.51 0 1.02-.2 1.41-.59l7.78-7.78 2.81-2.81c.8-.78.8-2.07 0-2.86zM5.41 20L4 18.59l7.72-7.72 1.47 1.35L5.41 20z\"/>\n",
              "  </svg>\n",
              "      </button>\n",
              "      \n",
              "  <style>\n",
              "    .colab-df-container {\n",
              "      display:flex;\n",
              "      flex-wrap:wrap;\n",
              "      gap: 12px;\n",
              "    }\n",
              "\n",
              "    .colab-df-convert {\n",
              "      background-color: #E8F0FE;\n",
              "      border: none;\n",
              "      border-radius: 50%;\n",
              "      cursor: pointer;\n",
              "      display: none;\n",
              "      fill: #1967D2;\n",
              "      height: 32px;\n",
              "      padding: 0 0 0 0;\n",
              "      width: 32px;\n",
              "    }\n",
              "\n",
              "    .colab-df-convert:hover {\n",
              "      background-color: #E2EBFA;\n",
              "      box-shadow: 0px 1px 2px rgba(60, 64, 67, 0.3), 0px 1px 3px 1px rgba(60, 64, 67, 0.15);\n",
              "      fill: #174EA6;\n",
              "    }\n",
              "\n",
              "    [theme=dark] .colab-df-convert {\n",
              "      background-color: #3B4455;\n",
              "      fill: #D2E3FC;\n",
              "    }\n",
              "\n",
              "    [theme=dark] .colab-df-convert:hover {\n",
              "      background-color: #434B5C;\n",
              "      box-shadow: 0px 1px 3px 1px rgba(0, 0, 0, 0.15);\n",
              "      filter: drop-shadow(0px 1px 2px rgba(0, 0, 0, 0.3));\n",
              "      fill: #FFFFFF;\n",
              "    }\n",
              "  </style>\n",
              "\n",
              "      <script>\n",
              "        const buttonEl =\n",
              "          document.querySelector('#df-93b695e9-42b7-4370-84ca-ba2f069e195d button.colab-df-convert');\n",
              "        buttonEl.style.display =\n",
              "          google.colab.kernel.accessAllowed ? 'block' : 'none';\n",
              "\n",
              "        async function convertToInteractive(key) {\n",
              "          const element = document.querySelector('#df-93b695e9-42b7-4370-84ca-ba2f069e195d');\n",
              "          const dataTable =\n",
              "            await google.colab.kernel.invokeFunction('convertToInteractive',\n",
              "                                                     [key], {});\n",
              "          if (!dataTable) return;\n",
              "\n",
              "          const docLinkHtml = 'Like what you see? Visit the ' +\n",
              "            '<a target=\"_blank\" href=https://colab.research.google.com/notebooks/data_table.ipynb>data table notebook</a>'\n",
              "            + ' to learn more about interactive tables.';\n",
              "          element.innerHTML = '';\n",
              "          dataTable['output_type'] = 'display_data';\n",
              "          await google.colab.output.renderOutput(dataTable, element);\n",
              "          const docLink = document.createElement('div');\n",
              "          docLink.innerHTML = docLinkHtml;\n",
              "          element.appendChild(docLink);\n",
              "        }\n",
              "      </script>\n",
              "    </div>\n",
              "  </div>\n",
              "  "
            ]
          },
          "metadata": {},
          "execution_count": 288
        }
      ]
    },
    {
      "cell_type": "code",
      "source": [
        "df = pd.get_dummies(mr_data)"
      ],
      "metadata": {
        "id": "Gc5pI9Kfz_1S"
      },
      "execution_count": 289,
      "outputs": []
    },
    {
      "cell_type": "code",
      "source": [
        "df = df.fillna(0)"
      ],
      "metadata": {
        "id": "e8mZ6cQJ0BKc"
      },
      "execution_count": 290,
      "outputs": []
    },
    {
      "cell_type": "code",
      "source": [
        "from imblearn.over_sampling import RandomOverSampler\n",
        "oversampling = RandomOverSampler()\n",
        "X_over, y_over = oversampling.fit_resample(X_train,y_train)"
      ],
      "metadata": {
        "id": "v5Qj5ThD0PyM"
      },
      "execution_count": 291,
      "outputs": []
    },
    {
      "cell_type": "code",
      "source": [
        "y = mr_data['Response'].values\n",
        "X = mr_data.drop(['Response'], axis = 1).values\n",
        "\n",
        "X_train, X_test, y_train, y_test = train_test_split(\n",
        "    X,\n",
        "    y,\n",
        "    test_size = 0.3,\n",
        "    stratify = y,\n",
        "    random_state = 1000\n",
        ")"
      ],
      "metadata": {
        "id": "0NxDTIsT0LwG"
      },
      "execution_count": 292,
      "outputs": []
    },
    {
      "cell_type": "markdown",
      "source": [
        "KNeighborsClassifier param:\n",
        "\n",
        "```python\n",
        "sklearn.neighbors.KNeighborsClassifier(\n",
        "  n_neighbors=5, \n",
        "  *, \n",
        "  weights='uniform', \n",
        "  algorithm='auto', \n",
        "  leaf_size=30, \n",
        "  p=2, \n",
        "  metric='minkowski', \n",
        "  metric_params=None, \n",
        "  n_jobs=None\n",
        ")\n",
        "```"
      ],
      "metadata": {
        "id": "u457gY9Q1eYg"
      }
    },
    {
      "cell_type": "code",
      "source": [
        "# define k-nearest neighbors classifier\n",
        "knn_clf = KNeighborsClassifier(n_neighbors = 3)\n",
        "# fit model to data\n",
        "knn_clf.fit(X_train, y_train)"
      ],
      "metadata": {
        "colab": {
          "base_uri": "https://localhost:8080/"
        },
        "id": "QkLR0qgB1lDt",
        "outputId": "085596f3-984f-4616-d046-d18e1eed40c3"
      },
      "execution_count": 293,
      "outputs": [
        {
          "output_type": "execute_result",
          "data": {
            "text/plain": [
              "KNeighborsClassifier(n_neighbors=3)"
            ]
          },
          "metadata": {},
          "execution_count": 293
        }
      ]
    },
    {
      "cell_type": "code",
      "source": [
        "# prediction\n",
        "pred_result = knn_clf.predict(X_test)\n",
        "pred_proba_result = knn_clf.predict_proba(X_test)"
      ],
      "metadata": {
        "id": "-Gu61KDx1vo0"
      },
      "execution_count": 294,
      "outputs": []
    },
    {
      "cell_type": "code",
      "source": [
        "# check classification report result\n",
        "pd.DataFrame(metrics.classification_report(y_test, pred_result, target_names=['not response','response'], output_dict=True))"
      ],
      "metadata": {
        "colab": {
          "base_uri": "https://localhost:8080/",
          "height": 174
        },
        "id": "estu_NwB1yab",
        "outputId": "b343e349-8bdd-4b65-c494-96f34ce33a1c"
      },
      "execution_count": 295,
      "outputs": [
        {
          "output_type": "execute_result",
          "data": {
            "text/plain": [
              "           not response   response  accuracy   macro avg  weighted avg\n",
              "precision      0.880734   0.400000  0.826016    0.640367      0.808038\n",
              "recall         0.919540   0.301075  0.826016    0.610308      0.826016\n",
              "f1-score       0.899719   0.343558  0.826016    0.621639      0.815617\n",
              "support      522.000000  93.000000  0.826016  615.000000    615.000000"
            ],
            "text/html": [
              "\n",
              "  <div id=\"df-ef9c4d94-c898-42a8-8122-f61dd988b4d8\">\n",
              "    <div class=\"colab-df-container\">\n",
              "      <div>\n",
              "<style scoped>\n",
              "    .dataframe tbody tr th:only-of-type {\n",
              "        vertical-align: middle;\n",
              "    }\n",
              "\n",
              "    .dataframe tbody tr th {\n",
              "        vertical-align: top;\n",
              "    }\n",
              "\n",
              "    .dataframe thead th {\n",
              "        text-align: right;\n",
              "    }\n",
              "</style>\n",
              "<table border=\"1\" class=\"dataframe\">\n",
              "  <thead>\n",
              "    <tr style=\"text-align: right;\">\n",
              "      <th></th>\n",
              "      <th>not response</th>\n",
              "      <th>response</th>\n",
              "      <th>accuracy</th>\n",
              "      <th>macro avg</th>\n",
              "      <th>weighted avg</th>\n",
              "    </tr>\n",
              "  </thead>\n",
              "  <tbody>\n",
              "    <tr>\n",
              "      <th>precision</th>\n",
              "      <td>0.880734</td>\n",
              "      <td>0.400000</td>\n",
              "      <td>0.826016</td>\n",
              "      <td>0.640367</td>\n",
              "      <td>0.808038</td>\n",
              "    </tr>\n",
              "    <tr>\n",
              "      <th>recall</th>\n",
              "      <td>0.919540</td>\n",
              "      <td>0.301075</td>\n",
              "      <td>0.826016</td>\n",
              "      <td>0.610308</td>\n",
              "      <td>0.826016</td>\n",
              "    </tr>\n",
              "    <tr>\n",
              "      <th>f1-score</th>\n",
              "      <td>0.899719</td>\n",
              "      <td>0.343558</td>\n",
              "      <td>0.826016</td>\n",
              "      <td>0.621639</td>\n",
              "      <td>0.815617</td>\n",
              "    </tr>\n",
              "    <tr>\n",
              "      <th>support</th>\n",
              "      <td>522.000000</td>\n",
              "      <td>93.000000</td>\n",
              "      <td>0.826016</td>\n",
              "      <td>615.000000</td>\n",
              "      <td>615.000000</td>\n",
              "    </tr>\n",
              "  </tbody>\n",
              "</table>\n",
              "</div>\n",
              "      <button class=\"colab-df-convert\" onclick=\"convertToInteractive('df-ef9c4d94-c898-42a8-8122-f61dd988b4d8')\"\n",
              "              title=\"Convert this dataframe to an interactive table.\"\n",
              "              style=\"display:none;\">\n",
              "        \n",
              "  <svg xmlns=\"http://www.w3.org/2000/svg\" height=\"24px\"viewBox=\"0 0 24 24\"\n",
              "       width=\"24px\">\n",
              "    <path d=\"M0 0h24v24H0V0z\" fill=\"none\"/>\n",
              "    <path d=\"M18.56 5.44l.94 2.06.94-2.06 2.06-.94-2.06-.94-.94-2.06-.94 2.06-2.06.94zm-11 1L8.5 8.5l.94-2.06 2.06-.94-2.06-.94L8.5 2.5l-.94 2.06-2.06.94zm10 10l.94 2.06.94-2.06 2.06-.94-2.06-.94-.94-2.06-.94 2.06-2.06.94z\"/><path d=\"M17.41 7.96l-1.37-1.37c-.4-.4-.92-.59-1.43-.59-.52 0-1.04.2-1.43.59L10.3 9.45l-7.72 7.72c-.78.78-.78 2.05 0 2.83L4 21.41c.39.39.9.59 1.41.59.51 0 1.02-.2 1.41-.59l7.78-7.78 2.81-2.81c.8-.78.8-2.07 0-2.86zM5.41 20L4 18.59l7.72-7.72 1.47 1.35L5.41 20z\"/>\n",
              "  </svg>\n",
              "      </button>\n",
              "      \n",
              "  <style>\n",
              "    .colab-df-container {\n",
              "      display:flex;\n",
              "      flex-wrap:wrap;\n",
              "      gap: 12px;\n",
              "    }\n",
              "\n",
              "    .colab-df-convert {\n",
              "      background-color: #E8F0FE;\n",
              "      border: none;\n",
              "      border-radius: 50%;\n",
              "      cursor: pointer;\n",
              "      display: none;\n",
              "      fill: #1967D2;\n",
              "      height: 32px;\n",
              "      padding: 0 0 0 0;\n",
              "      width: 32px;\n",
              "    }\n",
              "\n",
              "    .colab-df-convert:hover {\n",
              "      background-color: #E2EBFA;\n",
              "      box-shadow: 0px 1px 2px rgba(60, 64, 67, 0.3), 0px 1px 3px 1px rgba(60, 64, 67, 0.15);\n",
              "      fill: #174EA6;\n",
              "    }\n",
              "\n",
              "    [theme=dark] .colab-df-convert {\n",
              "      background-color: #3B4455;\n",
              "      fill: #D2E3FC;\n",
              "    }\n",
              "\n",
              "    [theme=dark] .colab-df-convert:hover {\n",
              "      background-color: #434B5C;\n",
              "      box-shadow: 0px 1px 3px 1px rgba(0, 0, 0, 0.15);\n",
              "      filter: drop-shadow(0px 1px 2px rgba(0, 0, 0, 0.3));\n",
              "      fill: #FFFFFF;\n",
              "    }\n",
              "  </style>\n",
              "\n",
              "      <script>\n",
              "        const buttonEl =\n",
              "          document.querySelector('#df-ef9c4d94-c898-42a8-8122-f61dd988b4d8 button.colab-df-convert');\n",
              "        buttonEl.style.display =\n",
              "          google.colab.kernel.accessAllowed ? 'block' : 'none';\n",
              "\n",
              "        async function convertToInteractive(key) {\n",
              "          const element = document.querySelector('#df-ef9c4d94-c898-42a8-8122-f61dd988b4d8');\n",
              "          const dataTable =\n",
              "            await google.colab.kernel.invokeFunction('convertToInteractive',\n",
              "                                                     [key], {});\n",
              "          if (!dataTable) return;\n",
              "\n",
              "          const docLinkHtml = 'Like what you see? Visit the ' +\n",
              "            '<a target=\"_blank\" href=https://colab.research.google.com/notebooks/data_table.ipynb>data table notebook</a>'\n",
              "            + ' to learn more about interactive tables.';\n",
              "          element.innerHTML = '';\n",
              "          dataTable['output_type'] = 'display_data';\n",
              "          await google.colab.output.renderOutput(dataTable, element);\n",
              "          const docLink = document.createElement('div');\n",
              "          docLink.innerHTML = docLinkHtml;\n",
              "          element.appendChild(docLink);\n",
              "        }\n",
              "      </script>\n",
              "    </div>\n",
              "  </div>\n",
              "  "
            ]
          },
          "metadata": {},
          "execution_count": 295
        }
      ]
    },
    {
      "cell_type": "code",
      "source": [
        "# check model accuracy\n",
        "metrics.accuracy_score(y_test, pred_result)"
      ],
      "metadata": {
        "colab": {
          "base_uri": "https://localhost:8080/"
        },
        "id": "nLASKoaQ1-aA",
        "outputId": "49a879a4-0ccd-4906-ed07-415fde778ae8"
      },
      "execution_count": 296,
      "outputs": [
        {
          "output_type": "execute_result",
          "data": {
            "text/plain": [
              "0.8260162601626017"
            ]
          },
          "metadata": {},
          "execution_count": 296
        }
      ]
    },
    {
      "cell_type": "code",
      "source": [
        "# check confusion matrix\n",
        "skplt.metrics.plot_confusion_matrix(y_test, pred_result);"
      ],
      "metadata": {
        "colab": {
          "base_uri": "https://localhost:8080/",
          "height": 295
        },
        "id": "4KzZQhQg2L0E",
        "outputId": "706dc1a1-b95e-4402-b5f1-55edec248031"
      },
      "execution_count": 297,
      "outputs": [
        {
          "output_type": "display_data",
          "data": {
            "text/plain": [
              "<Figure size 432x288 with 2 Axes>"
            ],
            "image/png": "[encoded data removed]"
          },
          "metadata": {
            "needs_background": "light"
          }
        }
      ]
    },
    {
      "cell_type": "code",
      "source": [
        "# check ROC-AUC curve and result\n",
        "skplt.metrics.plot_roc_curve(y_test, pred_proba_result);"
      ],
      "metadata": {
        "colab": {
          "base_uri": "https://localhost:8080/",
          "height": 329
        },
        "id": "n0kEuI2B2kc9",
        "outputId": "3112a002-5ee6-4464-8f92-b9aaafadf29a"
      },
      "execution_count": 298,
      "outputs": [
        {
          "output_type": "stream",
          "name": "stderr",
          "text": [
            "/usr/local/lib/python3.7/dist-packages/sklearn/utils/deprecation.py:87: FutureWarning: Function plot_roc_curve is deprecated; This will be removed in v0.5.0. Please use scikitplot.metrics.plot_roc instead.\n",
            "  warnings.warn(msg, category=FutureWarning)\n"
          ]
        },
        {
          "output_type": "display_data",
          "data": {
            "text/plain": [
              "<Figure size 432x288 with 1 Axes>"
            ],
            "image/png": "[encoded data removed]"
          },
          "metadata": {
            "needs_background": "light"
          }
        }
      ]
    },
    {
      "cell_type": "code",
      "source": [
        "# check f1-score\n",
        "metrics.f1_score(y_test, pred_result)"
      ],
      "metadata": {
        "colab": {
          "base_uri": "https://localhost:8080/"
        },
        "id": "Y1BFb5sQ2vGw",
        "outputId": "5f430dd5-a3e5-4533-d307-3b7c44cacabb"
      },
      "execution_count": 299,
      "outputs": [
        {
          "output_type": "execute_result",
          "data": {
            "text/plain": [
              "0.3435582822085889"
            ]
          },
          "metadata": {},
          "execution_count": 299
        }
      ]
    },
    {
      "cell_type": "code",
      "source": [
        "# find fpr and tpr using roc_curve() method\n",
        "fpr, tpr, thresholds = metrics.roc_curve(y_test, pred_proba_result[:,1])\n",
        "# calculate g-means\n",
        "gmeans = np.sqrt(tpr * (1-fpr))\n",
        "# find the best threshold\n",
        "ix = np.argmax(gmeans)\n",
        "print('Best Threshold={}, G-Mean={}'.format(thresholds[ix], gmeans[ix]))\n",
        "# change predict proba result to optimized one using new threshold\n",
        "new_pred_result = (pred_proba_result[:,1] >= thresholds[ix]).astype(int)\n",
        "# visualize confusion matrix after setting new threshold\n",
        "skplt.metrics.plot_confusion_matrix(y_test, new_pred_result);\n",
        "# check f1-score\n",
        "metrics.f1_score(y_test, new_pred_result)"
      ],
      "metadata": {
        "colab": {
          "base_uri": "https://localhost:8080/",
          "height": 329
        },
        "id": "mVAj7s2M21xX",
        "outputId": "64abe788-9300-4a2b-c5db-f547a2affeae"
      },
      "execution_count": 300,
      "outputs": [
        {
          "output_type": "stream",
          "name": "stdout",
          "text": [
            "Best Threshold=0.3333333333333333, G-Mean=0.6946304286855097\n"
          ]
        },
        {
          "output_type": "execute_result",
          "data": {
            "text/plain": [
              "0.40894568690095845"
            ]
          },
          "metadata": {},
          "execution_count": 300
        },
        {
          "output_type": "display_data",
          "data": {
            "text/plain": [
              "<Figure size 432x288 with 2 Axes>"
            ],
            "image/png": "[encoded data removed]"
          },
          "metadata": {
            "needs_background": "light"
          }
        }
      ]
    },
    {
      "cell_type": "markdown",
      "source": [
        "From the KNN model that has been run, the accuracy value is 0.81 below the threshold, of course this model is not better"
      ],
      "metadata": {
        "id": "3-Z3qBJHgoK3"
      }
    },
    {
      "cell_type": "markdown",
      "source": [
        "Even trying to do a confusion matrix calculation, it still doesn't get a better value, but the roc_curve value of the threshold (0.3) is better with a value of 0.39"
      ],
      "metadata": {
        "id": "9mhfURYKg9k9"
      }
    },
    {
      "cell_type": "markdown",
      "source": [
        "# Naive Bayes"
      ],
      "metadata": {
        "id": "L0EED24VY87n"
      }
    },
    {
      "cell_type": "code",
      "source": [
        "mr_data.head(5)"
      ],
      "metadata": {
        "colab": {
          "base_uri": "https://localhost:8080/",
          "height": 205
        },
        "id": "OTbHGdbDgMa_",
        "outputId": "60ee80bb-4587-4326-9d92-263941f33b68"
      },
      "execution_count": 301,
      "outputs": [
        {
          "output_type": "execute_result",
          "data": {
            "text/plain": [
              "   Recency  MntWines  MntFruits  MntMeatProducts  MntFishProducts  \\\n",
              "0       58       635         88              546              172   \n",
              "1       38        11          1                6                2   \n",
              "2       26       426         49              127              111   \n",
              "3       26        11          4               20               10   \n",
              "4       94       173         43              118               46   \n",
              "\n",
              "   MntSweetProducts  MntGoldProds  NumDealsPurchases  NumWebPurchases  \\\n",
              "0                88            88                  3                8   \n",
              "1                 1             6                  2                1   \n",
              "2                21            42                  1                8   \n",
              "3                 3             5                  2                2   \n",
              "4                27            15                  5                5   \n",
              "\n",
              "   Complain  Response  \n",
              "0         0         1  \n",
              "1         0         0  \n",
              "2         0         0  \n",
              "3         0         0  \n",
              "4         0         0  "
            ],
            "text/html": [
              "\n",
              "  <div id=\"df-c0d738c4-d31f-4dd8-bda3-3151e757282c\">\n",
              "    <div class=\"colab-df-container\">\n",
              "      <div>\n",
              "<style scoped>\n",
              "    .dataframe tbody tr th:only-of-type {\n",
              "        vertical-align: middle;\n",
              "    }\n",
              "\n",
              "    .dataframe tbody tr th {\n",
              "        vertical-align: top;\n",
              "    }\n",
              "\n",
              "    .dataframe thead th {\n",
              "        text-align: right;\n",
              "    }\n",
              "</style>\n",
              "<table border=\"1\" class=\"dataframe\">\n",
              "  <thead>\n",
              "    <tr style=\"text-align: right;\">\n",
              "      <th></th>\n",
              "      <th>Recency</th>\n",
              "      <th>MntWines</th>\n",
              "      <th>MntFruits</th>\n",
              "      <th>MntMeatProducts</th>\n",
              "      <th>MntFishProducts</th>\n",
              "      <th>MntSweetProducts</th>\n",
              "      <th>MntGoldProds</th>\n",
              "      <th>NumDealsPurchases</th>\n",
              "      <th>NumWebPurchases</th>\n",
              "      <th>Complain</th>\n",
              "      <th>Response</th>\n",
              "    </tr>\n",
              "  </thead>\n",
              "  <tbody>\n",
              "    <tr>\n",
              "      <th>0</th>\n",
              "      <td>58</td>\n",
              "      <td>635</td>\n",
              "      <td>88</td>\n",
              "      <td>546</td>\n",
              "      <td>172</td>\n",
              "      <td>88</td>\n",
              "      <td>88</td>\n",
              "      <td>3</td>\n",
              "      <td>8</td>\n",
              "      <td>0</td>\n",
              "      <td>1</td>\n",
              "    </tr>\n",
              "    <tr>\n",
              "      <th>1</th>\n",
              "      <td>38</td>\n",
              "      <td>11</td>\n",
              "      <td>1</td>\n",
              "      <td>6</td>\n",
              "      <td>2</td>\n",
              "      <td>1</td>\n",
              "      <td>6</td>\n",
              "      <td>2</td>\n",
              "      <td>1</td>\n",
              "      <td>0</td>\n",
              "      <td>0</td>\n",
              "    </tr>\n",
              "    <tr>\n",
              "      <th>2</th>\n",
              "      <td>26</td>\n",
              "      <td>426</td>\n",
              "      <td>49</td>\n",
              "      <td>127</td>\n",
              "      <td>111</td>\n",
              "      <td>21</td>\n",
              "      <td>42</td>\n",
              "      <td>1</td>\n",
              "      <td>8</td>\n",
              "      <td>0</td>\n",
              "      <td>0</td>\n",
              "    </tr>\n",
              "    <tr>\n",
              "      <th>3</th>\n",
              "      <td>26</td>\n",
              "      <td>11</td>\n",
              "      <td>4</td>\n",
              "      <td>20</td>\n",
              "      <td>10</td>\n",
              "      <td>3</td>\n",
              "      <td>5</td>\n",
              "      <td>2</td>\n",
              "      <td>2</td>\n",
              "      <td>0</td>\n",
              "      <td>0</td>\n",
              "    </tr>\n",
              "    <tr>\n",
              "      <th>4</th>\n",
              "      <td>94</td>\n",
              "      <td>173</td>\n",
              "      <td>43</td>\n",
              "      <td>118</td>\n",
              "      <td>46</td>\n",
              "      <td>27</td>\n",
              "      <td>15</td>\n",
              "      <td>5</td>\n",
              "      <td>5</td>\n",
              "      <td>0</td>\n",
              "      <td>0</td>\n",
              "    </tr>\n",
              "  </tbody>\n",
              "</table>\n",
              "</div>\n",
              "      <button class=\"colab-df-convert\" onclick=\"convertToInteractive('df-c0d738c4-d31f-4dd8-bda3-3151e757282c')\"\n",
              "              title=\"Convert this dataframe to an interactive table.\"\n",
              "              style=\"display:none;\">\n",
              "        \n",
              "  <svg xmlns=\"http://www.w3.org/2000/svg\" height=\"24px\"viewBox=\"0 0 24 24\"\n",
              "       width=\"24px\">\n",
              "    <path d=\"M0 0h24v24H0V0z\" fill=\"none\"/>\n",
              "    <path d=\"M18.56 5.44l.94 2.06.94-2.06 2.06-.94-2.06-.94-.94-2.06-.94 2.06-2.06.94zm-11 1L8.5 8.5l.94-2.06 2.06-.94-2.06-.94L8.5 2.5l-.94 2.06-2.06.94zm10 10l.94 2.06.94-2.06 2.06-.94-2.06-.94-.94-2.06-.94 2.06-2.06.94z\"/><path d=\"M17.41 7.96l-1.37-1.37c-.4-.4-.92-.59-1.43-.59-.52 0-1.04.2-1.43.59L10.3 9.45l-7.72 7.72c-.78.78-.78 2.05 0 2.83L4 21.41c.39.39.9.59 1.41.59.51 0 1.02-.2 1.41-.59l7.78-7.78 2.81-2.81c.8-.78.8-2.07 0-2.86zM5.41 20L4 18.59l7.72-7.72 1.47 1.35L5.41 20z\"/>\n",
              "  </svg>\n",
              "      </button>\n",
              "      \n",
              "  <style>\n",
              "    .colab-df-container {\n",
              "      display:flex;\n",
              "      flex-wrap:wrap;\n",
              "      gap: 12px;\n",
              "    }\n",
              "\n",
              "    .colab-df-convert {\n",
              "      background-color: #E8F0FE;\n",
              "      border: none;\n",
              "      border-radius: 50%;\n",
              "      cursor: pointer;\n",
              "      display: none;\n",
              "      fill: #1967D2;\n",
              "      height: 32px;\n",
              "      padding: 0 0 0 0;\n",
              "      width: 32px;\n",
              "    }\n",
              "\n",
              "    .colab-df-convert:hover {\n",
              "      background-color: #E2EBFA;\n",
              "      box-shadow: 0px 1px 2px rgba(60, 64, 67, 0.3), 0px 1px 3px 1px rgba(60, 64, 67, 0.15);\n",
              "      fill: #174EA6;\n",
              "    }\n",
              "\n",
              "    [theme=dark] .colab-df-convert {\n",
              "      background-color: #3B4455;\n",
              "      fill: #D2E3FC;\n",
              "    }\n",
              "\n",
              "    [theme=dark] .colab-df-convert:hover {\n",
              "      background-color: #434B5C;\n",
              "      box-shadow: 0px 1px 3px 1px rgba(0, 0, 0, 0.15);\n",
              "      filter: drop-shadow(0px 1px 2px rgba(0, 0, 0, 0.3));\n",
              "      fill: #FFFFFF;\n",
              "    }\n",
              "  </style>\n",
              "\n",
              "      <script>\n",
              "        const buttonEl =\n",
              "          document.querySelector('#df-c0d738c4-d31f-4dd8-bda3-3151e757282c button.colab-df-convert');\n",
              "        buttonEl.style.display =\n",
              "          google.colab.kernel.accessAllowed ? 'block' : 'none';\n",
              "\n",
              "        async function convertToInteractive(key) {\n",
              "          const element = document.querySelector('#df-c0d738c4-d31f-4dd8-bda3-3151e757282c');\n",
              "          const dataTable =\n",
              "            await google.colab.kernel.invokeFunction('convertToInteractive',\n",
              "                                                     [key], {});\n",
              "          if (!dataTable) return;\n",
              "\n",
              "          const docLinkHtml = 'Like what you see? Visit the ' +\n",
              "            '<a target=\"_blank\" href=https://colab.research.google.com/notebooks/data_table.ipynb>data table notebook</a>'\n",
              "            + ' to learn more about interactive tables.';\n",
              "          element.innerHTML = '';\n",
              "          dataTable['output_type'] = 'display_data';\n",
              "          await google.colab.output.renderOutput(dataTable, element);\n",
              "          const docLink = document.createElement('div');\n",
              "          docLink.innerHTML = docLinkHtml;\n",
              "          element.appendChild(docLink);\n",
              "        }\n",
              "      </script>\n",
              "    </div>\n",
              "  </div>\n",
              "  "
            ]
          },
          "metadata": {},
          "execution_count": 301
        }
      ]
    },
    {
      "cell_type": "code",
      "source": [
        "from imblearn.over_sampling import RandomOverSampler\n",
        "oversampling = RandomOverSampler()\n",
        "X_over, y_over = oversampling.fit_resample(X_train,y_train)"
      ],
      "metadata": {
        "id": "Jnyd0PdmgSlD"
      },
      "execution_count": 302,
      "outputs": []
    },
    {
      "cell_type": "code",
      "source": [
        "y = mr_data['Response'].values\n",
        "X = mr_data.drop(['Response'], axis = 1).values\n",
        "\n",
        "X_train, X_test, y_train, y_test = train_test_split(\n",
        "    X,\n",
        "    y,\n",
        "    test_size = 0.3,\n",
        "    stratify = y,\n",
        "    random_state = 1000\n",
        ")"
      ],
      "metadata": {
        "id": "mTeqF20ugXjQ"
      },
      "execution_count": 303,
      "outputs": []
    },
    {
      "cell_type": "code",
      "source": [
        "gnb = GaussianNB()\n",
        "gnb.fit(X_train, y_train)"
      ],
      "metadata": {
        "colab": {
          "base_uri": "https://localhost:8080/"
        },
        "id": "Ye0TbMH_Y7oH",
        "outputId": "87f0e440-67e6-42ce-f40d-3fcc6f278a02"
      },
      "execution_count": 304,
      "outputs": [
        {
          "output_type": "execute_result",
          "data": {
            "text/plain": [
              "GaussianNB()"
            ]
          },
          "metadata": {},
          "execution_count": 304
        }
      ]
    },
    {
      "cell_type": "code",
      "source": [
        "# prediction\n",
        "pred_result = gnb.predict(X_test)\n",
        "pred_proba_result = gnb.predict_proba(X_test)"
      ],
      "metadata": {
        "id": "OLMqfzS7drcf"
      },
      "execution_count": 305,
      "outputs": []
    },
    {
      "cell_type": "code",
      "source": [
        "y_pred = gnb.fit(X_train, y_train).predict(X_test)\n",
        "print(\"Number of mislabeled points out of a total %d points : %d\" % (X_test.shape[0], (y_test != y_pred).sum()))"
      ],
      "metadata": {
        "colab": {
          "base_uri": "https://localhost:8080/"
        },
        "id": "ihar4V-IbmUM",
        "outputId": "8a6bd837-b7ec-4c41-c61f-019280e18751"
      },
      "execution_count": 306,
      "outputs": [
        {
          "output_type": "stream",
          "name": "stdout",
          "text": [
            "Number of mislabeled points out of a total 615 points : 136\n"
          ]
        }
      ]
    },
    {
      "cell_type": "code",
      "source": [
        "# check classification report result\n",
        "pd.DataFrame(metrics.classification_report(y_test, pred_result, target_names=['not response','response'], output_dict=True))"
      ],
      "metadata": {
        "colab": {
          "base_uri": "https://localhost:8080/",
          "height": 174
        },
        "id": "qKnhnThbeCUX",
        "outputId": "3044cc64-6940-4d43-88d8-72e9e702fba7"
      },
      "execution_count": 307,
      "outputs": [
        {
          "output_type": "execute_result",
          "data": {
            "text/plain": [
              "           not response   response  accuracy   macro avg  weighted avg\n",
              "precision      0.895492   0.330709  0.778862    0.613100      0.810086\n",
              "recall         0.837165   0.451613  0.778862    0.644389      0.778862\n",
              "f1-score       0.865347   0.381818  0.778862    0.623582      0.792228\n",
              "support      522.000000  93.000000  0.778862  615.000000    615.000000"
            ],
            "text/html": [
              "\n",
              "  <div id=\"df-c5304a69-c6ba-4ddd-9fa5-28ec73efda73\">\n",
              "    <div class=\"colab-df-container\">\n",
              "      <div>\n",
              "<style scoped>\n",
              "    .dataframe tbody tr th:only-of-type {\n",
              "        vertical-align: middle;\n",
              "    }\n",
              "\n",
              "    .dataframe tbody tr th {\n",
              "        vertical-align: top;\n",
              "    }\n",
              "\n",
              "    .dataframe thead th {\n",
              "        text-align: right;\n",
              "    }\n",
              "</style>\n",
              "<table border=\"1\" class=\"dataframe\">\n",
              "  <thead>\n",
              "    <tr style=\"text-align: right;\">\n",
              "      <th></th>\n",
              "      <th>not response</th>\n",
              "      <th>response</th>\n",
              "      <th>accuracy</th>\n",
              "      <th>macro avg</th>\n",
              "      <th>weighted avg</th>\n",
              "    </tr>\n",
              "  </thead>\n",
              "  <tbody>\n",
              "    <tr>\n",
              "      <th>precision</th>\n",
              "      <td>0.895492</td>\n",
              "      <td>0.330709</td>\n",
              "      <td>0.778862</td>\n",
              "      <td>0.613100</td>\n",
              "      <td>0.810086</td>\n",
              "    </tr>\n",
              "    <tr>\n",
              "      <th>recall</th>\n",
              "      <td>0.837165</td>\n",
              "      <td>0.451613</td>\n",
              "      <td>0.778862</td>\n",
              "      <td>0.644389</td>\n",
              "      <td>0.778862</td>\n",
              "    </tr>\n",
              "    <tr>\n",
              "      <th>f1-score</th>\n",
              "      <td>0.865347</td>\n",
              "      <td>0.381818</td>\n",
              "      <td>0.778862</td>\n",
              "      <td>0.623582</td>\n",
              "      <td>0.792228</td>\n",
              "    </tr>\n",
              "    <tr>\n",
              "      <th>support</th>\n",
              "      <td>522.000000</td>\n",
              "      <td>93.000000</td>\n",
              "      <td>0.778862</td>\n",
              "      <td>615.000000</td>\n",
              "      <td>615.000000</td>\n",
              "    </tr>\n",
              "  </tbody>\n",
              "</table>\n",
              "</div>\n",
              "      <button class=\"colab-df-convert\" onclick=\"convertToInteractive('df-c5304a69-c6ba-4ddd-9fa5-28ec73efda73')\"\n",
              "              title=\"Convert this dataframe to an interactive table.\"\n",
              "              style=\"display:none;\">\n",
              "        \n",
              "  <svg xmlns=\"http://www.w3.org/2000/svg\" height=\"24px\"viewBox=\"0 0 24 24\"\n",
              "       width=\"24px\">\n",
              "    <path d=\"M0 0h24v24H0V0z\" fill=\"none\"/>\n",
              "    <path d=\"M18.56 5.44l.94 2.06.94-2.06 2.06-.94-2.06-.94-.94-2.06-.94 2.06-2.06.94zm-11 1L8.5 8.5l.94-2.06 2.06-.94-2.06-.94L8.5 2.5l-.94 2.06-2.06.94zm10 10l.94 2.06.94-2.06 2.06-.94-2.06-.94-.94-2.06-.94 2.06-2.06.94z\"/><path d=\"M17.41 7.96l-1.37-1.37c-.4-.4-.92-.59-1.43-.59-.52 0-1.04.2-1.43.59L10.3 9.45l-7.72 7.72c-.78.78-.78 2.05 0 2.83L4 21.41c.39.39.9.59 1.41.59.51 0 1.02-.2 1.41-.59l7.78-7.78 2.81-2.81c.8-.78.8-2.07 0-2.86zM5.41 20L4 18.59l7.72-7.72 1.47 1.35L5.41 20z\"/>\n",
              "  </svg>\n",
              "      </button>\n",
              "      \n",
              "  <style>\n",
              "    .colab-df-container {\n",
              "      display:flex;\n",
              "      flex-wrap:wrap;\n",
              "      gap: 12px;\n",
              "    }\n",
              "\n",
              "    .colab-df-convert {\n",
              "      background-color: #E8F0FE;\n",
              "      border: none;\n",
              "      border-radius: 50%;\n",
              "      cursor: pointer;\n",
              "      display: none;\n",
              "      fill: #1967D2;\n",
              "      height: 32px;\n",
              "      padding: 0 0 0 0;\n",
              "      width: 32px;\n",
              "    }\n",
              "\n",
              "    .colab-df-convert:hover {\n",
              "      background-color: #E2EBFA;\n",
              "      box-shadow: 0px 1px 2px rgba(60, 64, 67, 0.3), 0px 1px 3px 1px rgba(60, 64, 67, 0.15);\n",
              "      fill: #174EA6;\n",
              "    }\n",
              "\n",
              "    [theme=dark] .colab-df-convert {\n",
              "      background-color: #3B4455;\n",
              "      fill: #D2E3FC;\n",
              "    }\n",
              "\n",
              "    [theme=dark] .colab-df-convert:hover {\n",
              "      background-color: #434B5C;\n",
              "      box-shadow: 0px 1px 3px 1px rgba(0, 0, 0, 0.15);\n",
              "      filter: drop-shadow(0px 1px 2px rgba(0, 0, 0, 0.3));\n",
              "      fill: #FFFFFF;\n",
              "    }\n",
              "  </style>\n",
              "\n",
              "      <script>\n",
              "        const buttonEl =\n",
              "          document.querySelector('#df-c5304a69-c6ba-4ddd-9fa5-28ec73efda73 button.colab-df-convert');\n",
              "        buttonEl.style.display =\n",
              "          google.colab.kernel.accessAllowed ? 'block' : 'none';\n",
              "\n",
              "        async function convertToInteractive(key) {\n",
              "          const element = document.querySelector('#df-c5304a69-c6ba-4ddd-9fa5-28ec73efda73');\n",
              "          const dataTable =\n",
              "            await google.colab.kernel.invokeFunction('convertToInteractive',\n",
              "                                                     [key], {});\n",
              "          if (!dataTable) return;\n",
              "\n",
              "          const docLinkHtml = 'Like what you see? Visit the ' +\n",
              "            '<a target=\"_blank\" href=https://colab.research.google.com/notebooks/data_table.ipynb>data table notebook</a>'\n",
              "            + ' to learn more about interactive tables.';\n",
              "          element.innerHTML = '';\n",
              "          dataTable['output_type'] = 'display_data';\n",
              "          await google.colab.output.renderOutput(dataTable, element);\n",
              "          const docLink = document.createElement('div');\n",
              "          docLink.innerHTML = docLinkHtml;\n",
              "          element.appendChild(docLink);\n",
              "        }\n",
              "      </script>\n",
              "    </div>\n",
              "  </div>\n",
              "  "
            ]
          },
          "metadata": {},
          "execution_count": 307
        }
      ]
    },
    {
      "cell_type": "markdown",
      "source": [
        "Navie bayes have accuracy about 0.84% which is lower than the treshold. So the model has the lower result."
      ],
      "metadata": {
        "id": "XrrkA4xRiDvx"
      }
    },
    {
      "cell_type": "markdown",
      "source": [
        "**Conclusion\n",
        "We can conclude the EDA and model**\n",
        "\n",
        "EDA\n",
        "\n",
        "Recent users are more likely Response campaign.\n",
        "\n",
        "Logistic Regression is better model for this case than Navie bayes and KNN with about accuracy 0.85"
      ],
      "metadata": {
        "id": "4FQ5lLw3i6hp"
      }
    }
  ]
}